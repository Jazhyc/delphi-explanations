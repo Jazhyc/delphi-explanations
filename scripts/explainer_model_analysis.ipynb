{
 "cells": [
  {
   "cell_type": "markdown",
   "id": "d1096fab",
   "metadata": {},
   "source": [
    "# Explainer Model Performance Analysis\n",
    "\n",
    "This notebook analyzes the performance of different explainer models in generating explanations for SAE latent features. We compare models across multiple metrics including accuracy, F1 scores, token usage, and execution time.\n",
    "\n",
    "## Analysis Overview\n",
    "\n",
    "- **Accuracy Distribution**: Density plots showing accuracy distribution for each model\n",
    "- **Mean Performance**: Bar charts comparing mean accuracy across models\n",
    "- **Token Usage**: Analysis of computational efficiency and resource consumption\n",
    "- **Performance Summary**: Comprehensive comparison tables"
   ]
  },
  {
   "cell_type": "markdown",
   "id": "e60643f3",
   "metadata": {},
   "source": [
    "## 1. Setup and Configuration\n",
    "\n",
    "Import required libraries, define model name mapping for prettier display names, and set up output directories."
   ]
  },
  {
   "cell_type": "code",
   "execution_count": 26,
   "id": "934a96fd",
   "metadata": {},
   "outputs": [
    {
     "name": "stdout",
     "output_type": "stream",
     "text": [
      "Model prefix: pythiaST\n",
      "Compare thinking modes: False\n",
      "Results directory: /home/jeremias/projects/delphi-explanations/results\n",
      "Visualizations output: /home/jeremias/projects/delphi-explanations/results/visualizations\n",
      "Available result directories:\n",
      "  - pythiaST_gemma_3_4b_it_quantized_w4a16_explanation_comparison\n",
      "  - pythiaST_Qwen3_4B_quantized_w4a16_explanation_comparison\n",
      "  - pythiaST_gemma_3_12b_it_quantized_w4a16_explanation_comparison\n",
      "  - pythiaST_gemma_3_27b_it_quantized_w4a16_explanation_comparison\n",
      "  - pythiaST_Qwen3_14B_quantized_w4a16_explanation_comparison\n",
      "  - pythiaST_Qwen3_32B_quantized_w4a16_explanation_comparison\n",
      "  - pythiaST_Llama_3_3_70B_Instruct_quantized_w4a16_explanation_comparison\n",
      "  - pythiaST_Llama_3_1_70B_Instruct_NVFP4_explanation_comparison\n",
      "  - pythiaST_Llama_4_Scout_17B_16E_Instruct_quantized_w4a16_explanation_comparison\n",
      "  - pythiaST_Llama_4_Maverick_17B_128E_Instruct_quantized_w4a16_explanation_comparison\n",
      "  - pythiaST_Qwen3_235B_A22B_GPTQ_Int4_explanation_comparison\n",
      "  - pythiaST_llama_8b_explainer_explanation_comparison\n"
     ]
    }
   ],
   "source": [
    "import sys\n",
    "import os\n",
    "import json\n",
    "from pathlib import Path\n",
    "import pandas as pd\n",
    "import numpy as np\n",
    "\n",
    "# Add the parent directory to the path to import delphi modules\n",
    "sys.path.append(str(Path.cwd().parent))\n",
    "\n",
    "from delphi.log.result_analysis import (\n",
    "    import_plotly,\n",
    "    load_data\n",
    ")\n",
    "\n",
    "# Import plotly for plotting\n",
    "px = import_plotly()\n",
    "\n",
    "# Configuration - Model prefix for experiment naming\n",
    "MODEL_PREFIX = \"pythiaST\"  # Change this to match your base model (e.g., \"pythia\", \"gemma\", etc.)\n",
    "COMPARE_THINKING_MODES = False  # Set to True to compare both thinking and non-thinking modes\n",
    "\n",
    "# Define model name mapping for prettier display - updated to match actual directory names\n",
    "MODEL_NAME_MAPPING = {\n",
    "    \"gemma_3_4b_it_quantized_w4a16\": \"Gemma-3-4B-IT\",\n",
    "    \"Qwen3_4B_quantized_w4a16\": \"Qwen3-4B\", \n",
    "    \"gemma_3_12b_it_quantized_w4a16\": \"Gemma-3-12B-IT\",\n",
    "    \"gemma_3_27b_it_quantized_w4a16\": \"Gemma-3-27B-IT\",\n",
    "    \"Qwen3_14B_quantized_w4a16\": \"Qwen3-14B\",\n",
    "    \"Qwen3_32B_quantized_w4a16\": \"Qwen3-32B\",\n",
    "    \"Qwen3_235B_A22B_GPTQ_Int4\": \"Qwen3-235B\",\n",
    "    \"Llama_3_3_70B_Instruct_quantized_w4a16\": \"Llama-3.3-70B-Instruct\",\n",
    "    \"Llama_3_1_70B_Instruct_NVFP4\": \"Llama-3.1-70B-Instruct\",\n",
    "    \"Llama_4_Scout_17B_16E_Instruct_quantized_w4a16\": \"Llama-4-Scout-17B\",\n",
    "    \"Llama_4_Maverick_17B_128E_Instruct_quantized_w4a16\": \"Llama-4-Maverick-17B\",\n",
    "    \"llama_8b_explainer\": \"Transluce-Explainer-Llama-8B\"\n",
    "}\n",
    "\n",
    "def load_model_results(results_dir: Path, model_mapping: dict, model_prefix: str, compare_modes: bool = False):\n",
    "    \"\"\"Load results and statistics for all explainer models.\"\"\"\n",
    "    model_results = {}\n",
    "    model_stats = {}\n",
    "    \n",
    "    # If comparing modes, load both thinking and non-thinking experiments\n",
    "    modes_to_load = []\n",
    "    if compare_modes:\n",
    "        modes_to_load = [\n",
    "            (\"thinking\", f\"{model_prefix}ST_*_thinking_explanation_comparison\", f\"{model_prefix}ST_\", \"_thinking_explanation_comparison\"),\n",
    "            (\"regular\", f\"{model_prefix}ST_*_explanation_comparison\", f\"{model_prefix}_\", \"_explanation_comparison\")\n",
    "        ]\n",
    "    else:\n",
    "        # Legacy single mode support\n",
    "        modes_to_load = [\n",
    "            (\"single\", f\"{model_prefix}_*_explanation_comparison\", f\"{model_prefix}_\", \"_explanation_comparison\")\n",
    "        ]\n",
    "    \n",
    "    for mode_name, pattern, prefix_to_remove, suffix_to_remove in modes_to_load:\n",
    "        for exp_dir in results_dir.glob(pattern):\n",
    "            # Extract model name from directory: remove prefix and suffix\n",
    "            dir_name = exp_dir.name\n",
    "            model_key = dir_name.replace(prefix_to_remove, \"\").replace(suffix_to_remove, \"\")\n",
    "            base_display_name = model_mapping.get(model_key, model_key)\n",
    "            \n",
    "            # Add mode suffix to distinguish between thinking and regular modes\n",
    "            if compare_modes:\n",
    "                display_name = f\"{base_display_name} ({mode_name})\"\n",
    "            else:\n",
    "                display_name = base_display_name\n",
    "            \n",
    "            scores_path = exp_dir / \"scores\"\n",
    "            if scores_path.exists():\n",
    "                # Load scoring results\n",
    "                try:\n",
    "                    # All experiments now use the \"st\" cache\n",
    "                    cache_dir_name = \"pythia-160m-st\"  # All experiments use thinking mode cache\n",
    "                    latents_path = exp_dir.parent / cache_dir_name / \"latents\"\n",
    "                    if not latents_path.exists():\n",
    "                        latents_path = exp_dir / \"latents\"  # Fallback to local latents\n",
    "                    \n",
    "                    if latents_path.exists():\n",
    "                        # Extract module names from the actual files\n",
    "                        sample_score_dir = next(scores_path.iterdir())\n",
    "                        sample_files = list(sample_score_dir.glob(\"*.txt\"))\n",
    "                        if sample_files:\n",
    "                            # Extract module name from filename pattern (e.g., \"layers.32_latent0.txt\" -> \"layers.32\")\n",
    "                            sample_filename = sample_files[0].stem\n",
    "                            module_name = sample_filename.split('_latent')[0]\n",
    "                            modules = [module_name]\n",
    "                        else:\n",
    "                            print(f\"No score files found in {sample_score_dir}\")\n",
    "                            continue\n",
    "                        \n",
    "                        latent_df, counts = load_data(scores_path, latents_path, modules)\n",
    "                        \n",
    "                        # Calculate aggregate metrics similar to get_agg_metrics\n",
    "                        processed_data = []\n",
    "                        for score_type in latent_df[\"score_type\"].unique():\n",
    "                            score_subset = latent_df[latent_df[\"score_type\"] == score_type]\n",
    "                            \n",
    "                            # Calculate metrics\n",
    "                            accuracy = score_subset[\"correct\"].mean()\n",
    "                            \n",
    "                            # Calculate F1, precision, recall\n",
    "                            true_pos = ((score_subset[\"prediction\"] == True) & (score_subset[\"activating\"] == True)).sum()\n",
    "                            false_pos = ((score_subset[\"prediction\"] == True) & (score_subset[\"activating\"] == False)).sum()\n",
    "                            false_neg = ((score_subset[\"prediction\"] == False) & (score_subset[\"activating\"] == True)).sum()\n",
    "                            \n",
    "                            precision = true_pos / (true_pos + false_pos) if (true_pos + false_pos) > 0 else 0\n",
    "                            recall = true_pos / (true_pos + false_neg) if (true_pos + false_neg) > 0 else 0\n",
    "                            f1_score = 2 * precision * recall / (precision + recall) if (precision + recall) > 0 else 0\n",
    "                            \n",
    "                            processed_data.append({\n",
    "                                'score_type': score_type,\n",
    "                                'accuracy': accuracy,\n",
    "                                'f1_score': f1_score,\n",
    "                                'precision': precision,\n",
    "                                'recall': recall\n",
    "                            })\n",
    "                        \n",
    "                        model_results[display_name] = {\n",
    "                            'latent_df': latent_df,\n",
    "                            'processed_df': pd.DataFrame(processed_data),\n",
    "                            'counts': counts\n",
    "                        }\n",
    "                    \n",
    "                except Exception as e:\n",
    "                    print(f\"Error loading results for {model_key}: {e}\")\n",
    "                    continue\n",
    "            \n",
    "            # Load explainer statistics\n",
    "            stats_file = exp_dir / \"explainer_stats.json\"\n",
    "            if stats_file.exists():\n",
    "                try:\n",
    "                    with open(stats_file, 'r') as f:\n",
    "                        stats = json.load(f)\n",
    "                        model_stats[display_name] = stats\n",
    "                except Exception as e:\n",
    "                    print(f\"Error loading stats for {model_key}: {e}\")\n",
    "                    model_stats[display_name] = None\n",
    "            else:\n",
    "                model_stats[display_name] = None\n",
    "    \n",
    "    return model_results, model_stats\n",
    "\n",
    "# Set up directories\n",
    "results_dir = Path.cwd().parent / \"results\"\n",
    "visualizations_dir = results_dir / \"visualizations\"\n",
    "visualizations_dir.mkdir(exist_ok=True, parents=True)\n",
    "\n",
    "print(f\"Model prefix: {MODEL_PREFIX}\")\n",
    "print(f\"Compare thinking modes: {COMPARE_THINKING_MODES}\")\n",
    "print(f\"Results directory: {results_dir}\")\n",
    "print(f\"Visualizations output: {visualizations_dir}\")\n",
    "print(f\"Available result directories:\")\n",
    "if COMPARE_THINKING_MODES:\n",
    "    print(\"  Thinking mode experiments:\")\n",
    "    for d in results_dir.glob(f\"{MODEL_PREFIX}ST_*_thinking_explanation_comparison\"):\n",
    "        print(f\"    - {d.name}\")\n",
    "    print(\"  Regular mode experiments:\")\n",
    "    for d in results_dir.glob(f\"{MODEL_PREFIX}ST_*_explanation_comparison\"):\n",
    "        print(f\"    - {d.name}\")\n",
    "else:\n",
    "    pattern = f\"{MODEL_PREFIX}_*_explanation_comparison\"\n",
    "    for d in results_dir.glob(pattern):\n",
    "        print(f\"  - {d.name}\")"
   ]
  },
  {
   "cell_type": "markdown",
   "id": "e38a672b",
   "metadata": {},
   "source": [
    "## 2. Load Model Results\n",
    "\n",
    "Load explanation comparison results from all models and extract performance metrics."
   ]
  },
  {
   "cell_type": "code",
   "execution_count": 27,
   "id": "44990708",
   "metadata": {},
   "outputs": [
    {
     "name": "stdout",
     "output_type": "stream",
     "text": [
      "Loading model results...\n"
     ]
    },
    {
     "name": "stdout",
     "output_type": "stream",
     "text": [
      "\n",
      "Loaded results for 12 models:\n",
      "  - Gemma-3-4B-IT\n",
      "  - Qwen3-4B\n",
      "  - Gemma-3-12B-IT\n",
      "  - Gemma-3-27B-IT\n",
      "  - Qwen3-14B\n",
      "  - Qwen3-32B\n",
      "  - Llama-3.3-70B-Instruct\n",
      "  - Llama-3.1-70B-Instruct\n",
      "  - Llama-4-Scout-17B\n",
      "  - Llama-4-Maverick-17B\n",
      "  - Qwen3-235B\n",
      "  - Transluce-Explainer-Llama-8B\n",
      "\n",
      "Token usage statistics available for 12 models:\n",
      "  - Gemma-3-4B-IT: ['DefaultExplainer']\n",
      "  - Qwen3-4B: ['DefaultExplainer']\n",
      "  - Gemma-3-12B-IT: ['DefaultExplainer']\n",
      "  - Gemma-3-27B-IT: ['DefaultExplainer']\n",
      "  - Qwen3-14B: ['DefaultExplainer']\n",
      "  - Qwen3-32B: ['DefaultExplainer']\n",
      "  - Llama-3.3-70B-Instruct: ['DefaultExplainer']\n",
      "  - Llama-3.1-70B-Instruct: ['DefaultExplainer']\n",
      "  - Llama-4-Scout-17B: ['DefaultExplainer']\n",
      "  - Llama-4-Maverick-17B: ['DefaultExplainer']\n",
      "  - Qwen3-235B: ['DefaultExplainer']\n",
      "  - Transluce-Explainer-Llama-8B: ['DefaultExplainer']\n",
      "\n",
      "Sample metrics from Gemma-3-4B-IT:\n",
      "  score_type  accuracy  f1_score  precision  recall\n",
      "0       fuzz     0.559     0.654      0.537   0.835\n",
      "1  detection     0.595     0.604      0.586   0.623\n"
     ]
    }
   ],
   "source": [
    "# Load all model results and statistics\n",
    "print(\"Loading model results...\")\n",
    "model_results, model_stats = load_model_results(results_dir, MODEL_NAME_MAPPING, MODEL_PREFIX, COMPARE_THINKING_MODES)\n",
    "\n",
    "print(f\"\\nLoaded results for {len(model_results)} models:\")\n",
    "for model_name in model_results.keys():\n",
    "    print(f\"  - {model_name}\")\n",
    "\n",
    "print(f\"\\nToken usage statistics available for {len([k for k, v in model_stats.items() if v is not None])} models:\")\n",
    "for model_name, stats in model_stats.items():\n",
    "    if stats:\n",
    "        print(f\"  - {model_name}: {list(stats.keys())}\")\n",
    "    else:\n",
    "        print(f\"  - {model_name}: No stats available\")\n",
    "\n",
    "# Display sample metrics for the first model\n",
    "if model_results:\n",
    "    sample_model = list(model_results.keys())[0]\n",
    "    sample_data = model_results[sample_model]['processed_df']\n",
    "    print(f\"\\nSample metrics from {sample_model}:\")\n",
    "    print(sample_data[['score_type', 'accuracy', 'f1_score', 'precision', 'recall']].round(3))"
   ]
  },
  {
   "cell_type": "markdown",
   "id": "7c4c94b4",
   "metadata": {},
   "source": [
    "## 3. Generate Accuracy Distribution Plots\n",
    "\n",
    "Create density plots showing accuracy distribution for each model and score type."
   ]
  },
  {
   "cell_type": "code",
   "execution_count": 28,
   "id": "a8faa50f",
   "metadata": {},
   "outputs": [
    {
     "name": "stdout",
     "output_type": "stream",
     "text": [
      "Generating accuracy density distribution plots...\n",
      "\n",
      "Columns in latent_df: ['text', 'distance', 'activating', 'prediction', 'probability', 'correct', 'activations', 'latent_idx', 'score_type', 'module', 'firing_count']\n",
      "Sample data shape: (27200, 11)\n",
      "Score types: ['fuzz' 'detection']\n",
      "\n",
      "Accuracy data summary:\n",
      "           accuracy                                                  f1_score  \\\n",
      "              count   mean    std    min    25%    50%    75%    max    count   \n",
      "score_type                                                                      \n",
      "detection      12.0  0.746  0.054  0.595  0.748  0.767  0.776  0.790     12.0   \n",
      "fuzz           12.0  0.823  0.091  0.559  0.820  0.852  0.867  0.894     12.0   \n",
      "\n",
      "                                                             \n",
      "             mean    std    min    25%    50%    75%    max  \n",
      "score_type                                                   \n",
      "detection   0.738  0.053  0.604  0.739  0.755  0.763  0.793  \n",
      "fuzz        0.824  0.065  0.654  0.793  0.848  0.860  0.893  \n",
      "Found 'correct' column - will calculate accuracy per latent for KDE plots\n",
      "\n",
      "Creating KDE density plot for fuzz...\n"
     ]
    },
    {
     "data": {
      "application/vnd.plotly.v1+json": {
       "config": {
        "plotlyServerURL": "https://plot.ly"
       },
       "data": [
        {
         "line": {
          "color": "lightgreen",
          "dash": "dash",
          "width": 3
         },
         "mode": "lines",
         "name": "Gemma-3-12B-IT",
         "type": "scatter",
         "x": {
          "bdata": "AAAAAAAAAABbv1Kg1q+EP1u/UqDWr5Q/CB988MEHnz9bv1Kg1q+kPzJvZ0jM26k/CB988MEHrz9wZ0jM2xmyP1u/UqDWr7Q/RhdddNFFtz8yb2dIzNu5Px3HcRzHcbw/CB988MEHvz96O0Ni3s7AP3BnSMzbGcI/ZZNNNtlkwz9bv1Kg1q/EP1HrVwrU+sU/RhdddNFFxz88Q2LezpDIPzJvZ0jM28k/J5tssskmyz8dx3Ecx3HMPxPzdobEvM0/CB988MEHzz9/pUCtXynQP3o7Q2LeztA/ddFFF1100T9wZ0jM2xnSP2r9SoFav9I/ZZNNNtlk0z9gKVDrVwrUP1u/UqDWr9Q/VlVVVVVV1T9R61cK1PrVP0yBWr9SoNY/RhdddNFF1z9BrV8pUOvXPzxDYt7OkNg/N9lkk0022T8yb2dIzNvZPy0Fav1Kgdo/J5tssskm2z8iMW9nSMzbPx3HcRzHcdw/GF100UUX3T8T83aGxLzdPw6JeTtDYt4/CB988MEH3z8DtX6lQK3fP3+lQK1fKeA/ffDBBx984D96O0Ni3s7gP3eGxLydIeE/ddFFF1104T9yHMdxHMfhP3BnSMzbGeI/bbLJJpts4j9q/UqBWr/iP2hIzNsZEuM/ZZNNNtlk4z9j3s6QmLfjP2ApUOtXCuQ/XnTRRRdd5D9bv1Kg1q/kP1gK1PqVAuU/VlVVVVVV5T9ToNavFKjlP1HrVwrU+uU/TjbZZJNN5j9MgVq/UqDmP0nM2xkS8+Y/RhdddNFF5z9EYt7OkJjnP0GtXylQ6+c/P/jggw8+6D88Q2LezpDoPzmO4ziO4+g/N9lkk0026T80JObtDInpPzJvZ0jM2+k/L7rooosu6j8tBWr9SoHqPypQ61cK1Oo/J5tssskm6z8l5u0MiXnrPyIxb2dIzOs/IHzwwQcf7D8dx3Ecx3HsPxsS83aGxOw/GF100UUX7T8VqPUrBWrtPxPzdobEvO0/ED744IMP7j8OiXk7Q2LuPwvU+pUCte4/CB988MEH7z8Gav1KgVrvPwO1fqVAre8/AAAAAAAA8D8=",
          "dtype": "f8"
         },
         "y": {
          "bdata": "yl/T/5JaKDuc15GxTrZUOwrf/xmi+oA7sZK82jXVqjvyLiC8D3DUO+cG2T7HAv47y0zrqWY9JTzxFDUWRftMPM4Wv6mHD3M84DJLIHkrmDy3W0Sy+Yu9PL7MJT1PaeE8WYrasL7IAz3VRpWGt6wlPQ0yDNRa5UY93IQi/01SZz08w/97QuiGPX9C+gfmsqU9rZspVcXSwz2y0giMqHfhPbOlwAKHsf09Lb8vYvlYGD6skcy/7EIzPnUdSL8FaE0+b+gtnpmpZT6wi31F6c1+Ppg/LOt7JJU+YEcSZjYFrD5KEDO7Ee7BPjWwIbCLKdY+0fclu3p26j48gPPj0If+PiVnIHVGBRE/+7KJzk9YIj9DInDkFx4zP7BED6F7REM/GtLakt/IUj+QE5/barhhPxv2VC+9LXA/awgNc1iZfD9KQPag8HmIP3PYC7cSSpQ/JggmpEJLoD8Mpts0cFypP+FhPvCoIbM/4D95Eqz8uz+cJa5T3drDP2YPy95pVcs/zKE8NSND0j8qeGMLbrLXP01q6/L0390/Aor66Y9O4j8YoDkiZdPlP9Ftd4cCVek/FRHel+el7D9EX/05ZJnvP4vshhtdBPE/jPK8y+Hr8T+52lCnOXzyP2E0xSNdtvI/+EZ8k02j8j96mdroOlPyPyWusbjl2/E/9kL0R3ZW8T85JpoxFt3wPwMxJIOniPA/uraJtPJu8D+W41RwjaHwP44OF7iNLfE/vqrrLOEb8j+mj+bO6nHzP6wObmjxMfU/vhkX9P1a9z9nJVrpCuj5P9U3/gG/zvw/MSI0JT3+/z8swHEjWq8BQG+mezUcaQNAH63wMYcbBUCs4PezirUGQAZk/3fFJwhAOPuKQBlmCUAez5KKhWgKQBERWlcTKwtAue+gzeSsC0Bfsjenve4LQBTjbuB+8QtAZi1bxg21C0DtY6Cy9zcLQMZPxLnndwpA3GqEhcZyCUBIGyopMCgIQNSMNMvZmgZAPUaHQIrRBEBcmwvDZtcCQLRbh8t9uwBAAAJDAkcf/T9oygCEqc34Py/Ue9vTpvQ/SXqgwc3K8D8=",
          "dtype": "f8"
         }
        },
        {
         "line": {
          "color": "lightgreen",
          "dash": "dot",
          "width": 3
         },
         "mode": "lines",
         "name": "Gemma-3-27B-IT",
         "type": "scatter",
         "x": {
          "bdata": "AAAAAAAAAABbv1Kg1q+EP1u/UqDWr5Q/CB988MEHnz9bv1Kg1q+kPzJvZ0jM26k/CB988MEHrz9wZ0jM2xmyP1u/UqDWr7Q/RhdddNFFtz8yb2dIzNu5Px3HcRzHcbw/CB988MEHvz96O0Ni3s7AP3BnSMzbGcI/ZZNNNtlkwz9bv1Kg1q/EP1HrVwrU+sU/RhdddNFFxz88Q2LezpDIPzJvZ0jM28k/J5tssskmyz8dx3Ecx3HMPxPzdobEvM0/CB988MEHzz9/pUCtXynQP3o7Q2LeztA/ddFFF1100T9wZ0jM2xnSP2r9SoFav9I/ZZNNNtlk0z9gKVDrVwrUP1u/UqDWr9Q/VlVVVVVV1T9R61cK1PrVP0yBWr9SoNY/RhdddNFF1z9BrV8pUOvXPzxDYt7OkNg/N9lkk0022T8yb2dIzNvZPy0Fav1Kgdo/J5tssskm2z8iMW9nSMzbPx3HcRzHcdw/GF100UUX3T8T83aGxLzdPw6JeTtDYt4/CB988MEH3z8DtX6lQK3fP3+lQK1fKeA/ffDBBx984D96O0Ni3s7gP3eGxLydIeE/ddFFF1104T9yHMdxHMfhP3BnSMzbGeI/bbLJJpts4j9q/UqBWr/iP2hIzNsZEuM/ZZNNNtlk4z9j3s6QmLfjP2ApUOtXCuQ/XnTRRRdd5D9bv1Kg1q/kP1gK1PqVAuU/VlVVVVVV5T9ToNavFKjlP1HrVwrU+uU/TjbZZJNN5j9MgVq/UqDmP0nM2xkS8+Y/RhdddNFF5z9EYt7OkJjnP0GtXylQ6+c/P/jggw8+6D88Q2LezpDoPzmO4ziO4+g/N9lkk0026T80JObtDInpPzJvZ0jM2+k/L7rooosu6j8tBWr9SoHqPypQ61cK1Oo/J5tssskm6z8l5u0MiXnrPyIxb2dIzOs/IHzwwQcf7D8dx3Ecx3HsPxsS83aGxOw/GF100UUX7T8VqPUrBWrtPxPzdobEvO0/ED744IMP7j8OiXk7Q2LuPwvU+pUCte4/CB988MEH7z8Gav1KgVrvPwO1fqVAre8/AAAAAAAA8D8=",
          "dtype": "f8"
         },
         "y": {
          "bdata": "zG+EX+o2Zjt5N/GO8k6SO45O0puUD7074lcBEc415jtffOOnkVgQPMDEp1leKzc8CesX/hOgXzw52Ztd18iEPD+u9u3pTqo8X6FAPpgI0Dxi3src39HyPDuR4rTBRRU9nFqV9JonNz389+CjQkVYPcquM4agf3g9LMPSD0DQlz21RVqWfUq2PfWBwMIBGNQ9iS60hW1x8T2cB1ix/SkNPisMmmSfeic+T0TBJhk0Qj5hh4WoFC9bPoPlGFhBjHM+wZrfAYsTiz4vZ4QWlQ+iPqBInoESNbc+csxoWVC5zD5R+2Nfoh/hPgwSznM1q/M+TYnT1YXEBT+DKEv96TYXPxGH7EyN3Cc/29iAB/CkNz81kcO9spdGP542cfMA01Q/MC246AmGYj86yC962NFvP+QOrGf6Z3o/pCmOH4wwhT9wtm7PCnWQP1yiON/NxJg/I1DANv8Uoj+vB2xpqaWpP8NYcg31sbE/yYsqyFTKtz8JAZlyWjW/P8UIsxuN/8M/H1icRagQyT8zFwI80b7OP85X8PP1ddI/Dmmy+W601T/hBKjKyvrYP4LPoXg/Itw/VywcGyEB3z/OO+AQY7jgP5/Oaq9MquE/uKCxlW5Q4j9/cq4mrK/iP9C1sgUy2OI/8pvcIs3j4j9bFumwPvLiP0J0eq9FJOM/zr+UtHSW4z/hKssk/lzkP8mEXIBlgeU/88IVkYwC5z/kaGzeANfoP+xJOJjm8Oo/ApxNL4JC7T9d1HgVRcLvP5zvqry0NvE/Ld44xkSk8j9gYtBlEC/0Pyh7ZCq03fU/PFqY0TC29z9BElpjBrz5P2GBdu7X7vs/Lbc7hONJ/j8XY4OtMWIAQF9hpQJbqQFA3VnVxgD0AkDudcWv9zsEQNDQatwOfAVABIesUXmwBkDzmolNy9YHQPY5ClJ/7QhA5hioJAvzCUB8Az4speQKQMTBkyX1vAtAUhZw9gJzDEB0el13wvkMQFx57v+QQA1A2BXDhdI0DUBAO/dAmsQMQE92KdX74QtAYEoRd12GCkB5tXNAA7UIQJowAaUhfAZATwwSlxH0A0A=",
          "dtype": "f8"
         }
        },
        {
         "line": {
          "color": "lightgreen",
          "dash": "solid",
          "width": 3
         },
         "mode": "lines",
         "name": "Gemma-3-4B-IT",
         "type": "scatter",
         "x": {
          "bdata": "AAAAAAAAAABbv1Kg1q+EP1u/UqDWr5Q/CB988MEHnz9bv1Kg1q+kPzJvZ0jM26k/CB988MEHrz9wZ0jM2xmyP1u/UqDWr7Q/RhdddNFFtz8yb2dIzNu5Px3HcRzHcbw/CB988MEHvz96O0Ni3s7AP3BnSMzbGcI/ZZNNNtlkwz9bv1Kg1q/EP1HrVwrU+sU/RhdddNFFxz88Q2LezpDIPzJvZ0jM28k/J5tssskmyz8dx3Ecx3HMPxPzdobEvM0/CB988MEHzz9/pUCtXynQP3o7Q2LeztA/ddFFF1100T9wZ0jM2xnSP2r9SoFav9I/ZZNNNtlk0z9gKVDrVwrUP1u/UqDWr9Q/VlVVVVVV1T9R61cK1PrVP0yBWr9SoNY/RhdddNFF1z9BrV8pUOvXPzxDYt7OkNg/N9lkk0022T8yb2dIzNvZPy0Fav1Kgdo/J5tssskm2z8iMW9nSMzbPx3HcRzHcdw/GF100UUX3T8T83aGxLzdPw6JeTtDYt4/CB988MEH3z8DtX6lQK3fP3+lQK1fKeA/ffDBBx984D96O0Ni3s7gP3eGxLydIeE/ddFFF1104T9yHMdxHMfhP3BnSMzbGeI/bbLJJpts4j9q/UqBWr/iP2hIzNsZEuM/ZZNNNtlk4z9j3s6QmLfjP2ApUOtXCuQ/XnTRRRdd5D9bv1Kg1q/kP1gK1PqVAuU/VlVVVVVV5T9ToNavFKjlP1HrVwrU+uU/TjbZZJNN5j9MgVq/UqDmP0nM2xkS8+Y/RhdddNFF5z9EYt7OkJjnP0GtXylQ6+c/P/jggw8+6D88Q2LezpDoPzmO4ziO4+g/N9lkk0026T80JObtDInpPzJvZ0jM2+k/L7rooosu6j8tBWr9SoHqPypQ61cK1Oo/J5tssskm6z8l5u0MiXnrPyIxb2dIzOs/IHzwwQcf7D8dx3Ecx3HsPxsS83aGxOw/GF100UUX7T8VqPUrBWrtPxPzdobEvO0/ED744IMP7j8OiXk7Q2LuPwvU+pUCte4/CB988MEH7z8Gav1KgVrvPwO1fqVAre8/AAAAAAAA8D8=",
          "dtype": "f8"
         },
         "y": {
          "bdata": "usnSEXbH5jSe/oEXnkloNbZDJ87UqeY1o4D2rg+CYjZFW0DYrnTaNrFDe2pJjFA3I+YVSgoewjd/DrQHC1wxOCiG0ExEHZ04GL8NzeddBTmN27n0enJrOZcbT1tX28456ZkuSh1cLjr60HsqaySKOjcLlG5ls+M6OojvWpP8OTu5Uflm4P+NOy1o75o2T947JKkdW+rMKjzAmSfYdL10PCuKSp8YGLw8P5/AgEenAD1pz5Jtq0dBPfF89WLzYn89lCIj7g/zuD0ymEs4J1zxPXKaagrjJSU+68r0ewSOVj6eAyLjKBCFPk1EcU43OrE+8iy721Ow2D6uxZe+LQP/PlrOYXmOFSE/RLo2CbGGQD/9ZMIo2hxcP5bjgYfuEXU/24aTgkDriz//7ZHwaG2gP7W6wqsQSbE/b5QwltBrwD+Zp178TYvMPyLgHBS7FNc/AapNJhmx4T+KcVDEliTqP3bInz63zPI/kqDVWP1Q+j/dxrFtQssBQK/b8FeMBwdAp8h0QLFcDECiS9PEcKMQQBQRn0SmwRJAN9fZnd6TFEB0PZvLFTcWQIAoGLlArBdARJTUAEi+GEB3E6QUkxUZQI96WYl4bBhAqmXXtyW+FkCHEciNzFAUQAbHSYNpmBFAi7EON3MODkAAwBL02csJQDWCj3FziAZAzhkic3sJBEDzwnf2RPQBQKRz470MBgBAETy8IatT/D8cIbIcgdL4Pwx7heRCoPU/PMaa7Hi38j9Mzxcq//DvPyoruQfQgeo/UdL0llkH5T+VrBv3olTfP0/C2y6ej9U/28uGPS0Lyz8w5bTMWJa+P5JyGsfd864//v03INvdmz+Y/m/rHTuGP+lwLjAYV28/to5XTox6Uz+AtNLQPVE1P0j/bBEohBQ/niK2cFlZ8T7QQU7yW8PJPm0XRZt0yaA+RQWfFn0wcz5rR6qYCDxDPvYn2OiE5hA+QbqizRMH2j0iCcIDf4+hPaJVVXgYwmQ9ewBMLy1+JT2A1cgQR33jPLZ8b5SW8548SnFL0S+FVTxIvtCigDMKPBXzl+ug7bs7HqH+354Pajs=",
          "dtype": "f8"
         }
        },
        {
         "line": {
          "color": "lightblue",
          "dash": "dash",
          "width": 3
         },
         "mode": "lines",
         "name": "Llama-3.1-70B-Instruct",
         "type": "scatter",
         "x": {
          "bdata": "AAAAAAAAAABbv1Kg1q+EP1u/UqDWr5Q/CB988MEHnz9bv1Kg1q+kPzJvZ0jM26k/CB988MEHrz9wZ0jM2xmyP1u/UqDWr7Q/RhdddNFFtz8yb2dIzNu5Px3HcRzHcbw/CB988MEHvz96O0Ni3s7AP3BnSMzbGcI/ZZNNNtlkwz9bv1Kg1q/EP1HrVwrU+sU/RhdddNFFxz88Q2LezpDIPzJvZ0jM28k/J5tssskmyz8dx3Ecx3HMPxPzdobEvM0/CB988MEHzz9/pUCtXynQP3o7Q2LeztA/ddFFF1100T9wZ0jM2xnSP2r9SoFav9I/ZZNNNtlk0z9gKVDrVwrUP1u/UqDWr9Q/VlVVVVVV1T9R61cK1PrVP0yBWr9SoNY/RhdddNFF1z9BrV8pUOvXPzxDYt7OkNg/N9lkk0022T8yb2dIzNvZPy0Fav1Kgdo/J5tssskm2z8iMW9nSMzbPx3HcRzHcdw/GF100UUX3T8T83aGxLzdPw6JeTtDYt4/CB988MEH3z8DtX6lQK3fP3+lQK1fKeA/ffDBBx984D96O0Ni3s7gP3eGxLydIeE/ddFFF1104T9yHMdxHMfhP3BnSMzbGeI/bbLJJpts4j9q/UqBWr/iP2hIzNsZEuM/ZZNNNtlk4z9j3s6QmLfjP2ApUOtXCuQ/XnTRRRdd5D9bv1Kg1q/kP1gK1PqVAuU/VlVVVVVV5T9ToNavFKjlP1HrVwrU+uU/TjbZZJNN5j9MgVq/UqDmP0nM2xkS8+Y/RhdddNFF5z9EYt7OkJjnP0GtXylQ6+c/P/jggw8+6D88Q2LezpDoPzmO4ziO4+g/N9lkk0026T80JObtDInpPzJvZ0jM2+k/L7rooosu6j8tBWr9SoHqPypQ61cK1Oo/J5tssskm6z8l5u0MiXnrPyIxb2dIzOs/IHzwwQcf7D8dx3Ecx3HsPxsS83aGxOw/GF100UUX7T8VqPUrBWrtPxPzdobEvO0/ED744IMP7j8OiXk7Q2LuPwvU+pUCte4/CB988MEH7z8Gav1KgVrvPwO1fqVAre8/AAAAAAAA8D8=",
          "dtype": "f8"
         },
         "y": {
          "bdata": "vOE64rRnojovNVzPMsDTOjdk3pv8VwQ7WmIAxvYcNDsZCI4nSBZjO1EiOTXtYpE79ICcsGpnvjvXXjlVjYTpOzXYtjXgjhQ8OeGswgfMPzyT/c1rx5pnPO/6i5Yp0pA84f1REXQDtzwOTaWhojnePDsn0gfLDQM9S33PCdMPJz2WLDjC18tKPS/99Qvw4209I2t6vCQBkD05J651NHSwPe8LvNSAPdA9rzQwN0nH7j28gn8nWAAMPumI7+NPdSg+83X/N+WCRD4dL4049INgPs86PMY6iXk+ERo8lpL0kj5ky9EAQgWrPrluuD0CfsI+whsE2PdN2D5EsPSvkazuPk0jCCZvlgI/XQ++bxWiFT/KewEj7C0oP+BMRtt69Dk/mJSPXU/CSj93VK8Zm39aP9ZNy7DBNGk/lDGqlKIIdz/AOlNCGDmEP73bEeCsD5E/oRkfv7iqmz80IJ/CWJClPyrGgKsPKbA/i1yNhSZMtz9L9COstCjAP7wST0aIlMU/d1dRjavDyz/++dJ8bDjRP1wP8nUyntQ/dajySN3b1z9YghGSxLraP7mUVSSTDd0/6GYWm3i33j9MkgNaEbDfP+YQBqyVAeA/XN8LiM/M3z+6097wFTPfP2o8jcLaX94/catxCDh83T/aGU2ryK7cP+t8DreGHNw//k6Ujgbr2z+nwr7gSELcPwfUt5iNTN0/JlNESmQz3z+uOuVmLA3hP7bqHqlPDOM/eCznCdWZ5T+1HNRZNq7oP5TQJrMnOOw/YLtcTnAP8D9UgvSe1iLyPx0UdSz8R/Q/OjkUz4Fy9j/u235sZZn4P1lDa5j4t/o/8M30SnLO/D/BALTTOeL+PxQqekf3fgBAFFzzLYCYAUCcacKnQccCQIWTZ9pwFQRA9kIcHR2MBUCtD926yDAHQEdkYHy3AglAIuGh7HL4CkCkwB0UI/4MQD0IyQ9Y9Q5AWZQHvVtbEECwmAiJ2AoRQJvUreP4chFA6QHNceuAEUC8o1buYCgRQFw3AuoAZhBANBW1vyuBDkC29MGIMpELQICV6BNFLAhAzK/vJjiLBEA=",
          "dtype": "f8"
         }
        },
        {
         "line": {
          "color": "lightblue",
          "dash": "solid",
          "width": 3
         },
         "mode": "lines",
         "name": "Llama-3.3-70B-Instruct",
         "type": "scatter",
         "x": {
          "bdata": "AAAAAAAAAABbv1Kg1q+EP1u/UqDWr5Q/CB988MEHnz9bv1Kg1q+kPzJvZ0jM26k/CB988MEHrz9wZ0jM2xmyP1u/UqDWr7Q/RhdddNFFtz8yb2dIzNu5Px3HcRzHcbw/CB988MEHvz96O0Ni3s7AP3BnSMzbGcI/ZZNNNtlkwz9bv1Kg1q/EP1HrVwrU+sU/RhdddNFFxz88Q2LezpDIPzJvZ0jM28k/J5tssskmyz8dx3Ecx3HMPxPzdobEvM0/CB988MEHzz9/pUCtXynQP3o7Q2LeztA/ddFFF1100T9wZ0jM2xnSP2r9SoFav9I/ZZNNNtlk0z9gKVDrVwrUP1u/UqDWr9Q/VlVVVVVV1T9R61cK1PrVP0yBWr9SoNY/RhdddNFF1z9BrV8pUOvXPzxDYt7OkNg/N9lkk0022T8yb2dIzNvZPy0Fav1Kgdo/J5tssskm2z8iMW9nSMzbPx3HcRzHcdw/GF100UUX3T8T83aGxLzdPw6JeTtDYt4/CB988MEH3z8DtX6lQK3fP3+lQK1fKeA/ffDBBx984D96O0Ni3s7gP3eGxLydIeE/ddFFF1104T9yHMdxHMfhP3BnSMzbGeI/bbLJJpts4j9q/UqBWr/iP2hIzNsZEuM/ZZNNNtlk4z9j3s6QmLfjP2ApUOtXCuQ/XnTRRRdd5D9bv1Kg1q/kP1gK1PqVAuU/VlVVVVVV5T9ToNavFKjlP1HrVwrU+uU/TjbZZJNN5j9MgVq/UqDmP0nM2xkS8+Y/RhdddNFF5z9EYt7OkJjnP0GtXylQ6+c/P/jggw8+6D88Q2LezpDoPzmO4ziO4+g/N9lkk0026T80JObtDInpPzJvZ0jM2+k/L7rooosu6j8tBWr9SoHqPypQ61cK1Oo/J5tssskm6z8l5u0MiXnrPyIxb2dIzOs/IHzwwQcf7D8dx3Ecx3HsPxsS83aGxOw/GF100UUX7T8VqPUrBWrtPxPzdobEvO0/ED744IMP7j8OiXk7Q2LuPwvU+pUCte4/CB988MEH7z8Gav1KgVrvPwO1fqVAre8/AAAAAAAA8D8=",
          "dtype": "f8"
         },
         "y": {
          "bdata": "aYTC5s1hFD6qSttjxM0qPjPS+IhxKkE+w5PRTjJqVT5GRi8aWAVqPmigduGzy34+CapcmPe/kT7oBWy0CO6jPmpWnUj7y7U+Mn7XW3g4xz4QOEKtvBjYPoVi0ebbW+g+NV3HiOD89z6A63NIaQMHP3xFIXWoghU/Ksmw9vOWIz/pNNO/U2IxPxVVbGdGET4/slS+msFXST+UdjezXtJUPyAP81e7rWA/pCQ3lEYOaj+fVZqr+9lzP8gp1WZZg30/vibJj3NphT9zqM7B2VWOPxn6tnO5/ZQ/iRu86oFknD8EZ2TeTMeiP1jGcoP9Tqg/wZW0CUjRrj/PNubssCWzPxEgPCV4V7c/ttpovR/xuz89KTmkXXDAP1SJJ1EnCMM/BkMsV42zxT9omX5Vi2XIP5raeVtAEcs/QcidAryqzT83Ar3g5BPQPx6vJApXQNE//v16Q19Y0j8UopR2WVvTP2mkXfVEStQ/qKHPxHEn1T/GOotG5vXVPw2BdLKMuNY/HSVtqEtx1z/qIUegPCDYP3EZfUs4w9g/hyvAi+hV2T9cgceUedLZP/mSujHkMto/yAjo5qhy2j8Njz25tpDaP3uTT5onkdo/vZze0Ht+2j9pz7SADWraPxeCpnKSa9o/xhNrpKaf2j9SIGIsfyXbP/w1HHcEHNw/U1r7oKie3T8MvN8UWcLfP6QOujl1SeE/LVNeoKoI4z842IiIhRnlPz2TMuRLcec/Y0VRENQA6j9h0S8mNrbsPx8X6hoRf+8/fnN5JZgl8T8mZ2tZoofyP6a/vm+o4/M/RiV/+i489T8SIOZDjJj2PzWV+euHBPg/Ujffkz+P+T+e+DNAYEn7P3oiY/vfQv0/SHGOrXmI/z+m9ubanBABQPuaEEA1hgJAmHmK5hIgBEBZdEZNXtQFQDIJT1KIlAdAe+L4gPFNCUBoa+rhAusKQI3/xLClVAxAt+nMyf5zDUAJdaDRSjQOQKl2u16xhA5AKkUa9+BZDkBk5FZcRa8NQHfPDkWvhwxA7gQFTFHtCkCI6sAACfEIQJKE5zYCqQZAVIFA+tkuBEA=",
          "dtype": "f8"
         }
        },
        {
         "line": {
          "color": "lightblue",
          "dash": "dashdot",
          "width": 3
         },
         "mode": "lines",
         "name": "Llama-4-Maverick-17B",
         "type": "scatter",
         "x": {
          "bdata": "AAAAAAAAAABbv1Kg1q+EP1u/UqDWr5Q/CB988MEHnz9bv1Kg1q+kPzJvZ0jM26k/CB988MEHrz9wZ0jM2xmyP1u/UqDWr7Q/RhdddNFFtz8yb2dIzNu5Px3HcRzHcbw/CB988MEHvz96O0Ni3s7AP3BnSMzbGcI/ZZNNNtlkwz9bv1Kg1q/EP1HrVwrU+sU/RhdddNFFxz88Q2LezpDIPzJvZ0jM28k/J5tssskmyz8dx3Ecx3HMPxPzdobEvM0/CB988MEHzz9/pUCtXynQP3o7Q2LeztA/ddFFF1100T9wZ0jM2xnSP2r9SoFav9I/ZZNNNtlk0z9gKVDrVwrUP1u/UqDWr9Q/VlVVVVVV1T9R61cK1PrVP0yBWr9SoNY/RhdddNFF1z9BrV8pUOvXPzxDYt7OkNg/N9lkk0022T8yb2dIzNvZPy0Fav1Kgdo/J5tssskm2z8iMW9nSMzbPx3HcRzHcdw/GF100UUX3T8T83aGxLzdPw6JeTtDYt4/CB988MEH3z8DtX6lQK3fP3+lQK1fKeA/ffDBBx984D96O0Ni3s7gP3eGxLydIeE/ddFFF1104T9yHMdxHMfhP3BnSMzbGeI/bbLJJpts4j9q/UqBWr/iP2hIzNsZEuM/ZZNNNtlk4z9j3s6QmLfjP2ApUOtXCuQ/XnTRRRdd5D9bv1Kg1q/kP1gK1PqVAuU/VlVVVVVV5T9ToNavFKjlP1HrVwrU+uU/TjbZZJNN5j9MgVq/UqDmP0nM2xkS8+Y/RhdddNFF5z9EYt7OkJjnP0GtXylQ6+c/P/jggw8+6D88Q2LezpDoPzmO4ziO4+g/N9lkk0026T80JObtDInpPzJvZ0jM2+k/L7rooosu6j8tBWr9SoHqPypQ61cK1Oo/J5tssskm6z8l5u0MiXnrPyIxb2dIzOs/IHzwwQcf7D8dx3Ecx3HsPxsS83aGxOw/GF100UUX7T8VqPUrBWrtPxPzdobEvO0/ED744IMP7j8OiXk7Q2LuPwvU+pUCte4/CB988MEH7z8Gav1KgVrvPwO1fqVAre8/AAAAAAAA8D8=",
          "dtype": "f8"
         },
         "y": {
          "bdata": "qW+1mSJOHC/cVp//3eSiL7xv93uj+CYw73+OVCVvqTBBOoI5baUpMRdTIRfxjKcxdB72Qd+xIzLC/IFJt/+dMp62uWF9zhQzWjxEytRIijMPOGWKPj3+MzHAxeqgrm80wZbWLcA63jRP1dg3f0RKNbVWJRpYybQ1YTpaXdP1HTaXQHPHwamDNuJlhopMgec2X0HaG6OWSTdRaSnSYl6pN0PIJMqc5wY4mY/ARE/VYjiCBiaDgDS8OH99eIvvOxM51UpI7OTjZzmSbQVx/gW7Oc9JLjpy1gs6mGObFpIdWjqF4HH52E+mOnzAgv4iXPE6vwrriPmZODsuK62xEMB/O0NnIEqSqMI7rhXjKK34Azz8Qhiwt3dDPMs3n5orSIE8dlOvL2zxuzydZV2zt5L0PJAj6Au0lis99j1+P6/YYD0WyyF6lLySPSCH1rJr+sI9RT5w366B8T1DouXmKWodPiBn4yVzgUY+mYHirZZdbz6LD98mK+iTPpxOSDoIBLc+oW2v+UA92D7KjWmwiEH3Pvzs5tOHVBQ/gErXV4YyMD/szImdwodHPzHgiVpZLl8/L56i5Cfccj9cHf7o99mEP/SDZ3KuGpU/oUPGwO+Zoz9S+HtgY8OwPzMB8VAdhro/2uBnSraHwz9cefStzPfKPzsIKnk4mtE/WYBb8xrl1T+eeeXKHhvaP8BSSVIB7t0/GvaHA7mA4D+ZJyKDyX7hP/JlsE7U3OE/EQivC4i34T95c51og2vhP4W7e6P3jOE/mOw2Pk3F4j/3Co6URaDlP10L/se4Wuo/nqdpQz9j8D+dXl2XPyj0PyDI14LIFPg/s03u5sXC+z+UEUz75e3+P4j6vMtGxQBAcSK3kubmAUC6MNP+5hIDQMB+ZsJYkgRAwF0q4ruvBkCcDtIarKEJQMxiOwH3dA1A2rK0YCn/EEDqNWH8/m0TQH/PxoE3xBVABuyR6HS6F0CdTkMfag8ZQPpO+gEfjRlA3F2uQGUMGUAPDtpyNXwXQN9pdEpb7RRAduGRVcSaEUCqmD5h5cgLQOYXjVlKdARAJI9SWnb3+z8=",
          "dtype": "f8"
         }
        },
        {
         "line": {
          "color": "lightblue",
          "dash": "dot",
          "width": 3
         },
         "mode": "lines",
         "name": "Llama-4-Scout-17B",
         "type": "scatter",
         "x": {
          "bdata": "AAAAAAAAAABbv1Kg1q+EP1u/UqDWr5Q/CB988MEHnz9bv1Kg1q+kPzJvZ0jM26k/CB988MEHrz9wZ0jM2xmyP1u/UqDWr7Q/RhdddNFFtz8yb2dIzNu5Px3HcRzHcbw/CB988MEHvz96O0Ni3s7AP3BnSMzbGcI/ZZNNNtlkwz9bv1Kg1q/EP1HrVwrU+sU/RhdddNFFxz88Q2LezpDIPzJvZ0jM28k/J5tssskmyz8dx3Ecx3HMPxPzdobEvM0/CB988MEHzz9/pUCtXynQP3o7Q2LeztA/ddFFF1100T9wZ0jM2xnSP2r9SoFav9I/ZZNNNtlk0z9gKVDrVwrUP1u/UqDWr9Q/VlVVVVVV1T9R61cK1PrVP0yBWr9SoNY/RhdddNFF1z9BrV8pUOvXPzxDYt7OkNg/N9lkk0022T8yb2dIzNvZPy0Fav1Kgdo/J5tssskm2z8iMW9nSMzbPx3HcRzHcdw/GF100UUX3T8T83aGxLzdPw6JeTtDYt4/CB988MEH3z8DtX6lQK3fP3+lQK1fKeA/ffDBBx984D96O0Ni3s7gP3eGxLydIeE/ddFFF1104T9yHMdxHMfhP3BnSMzbGeI/bbLJJpts4j9q/UqBWr/iP2hIzNsZEuM/ZZNNNtlk4z9j3s6QmLfjP2ApUOtXCuQ/XnTRRRdd5D9bv1Kg1q/kP1gK1PqVAuU/VlVVVVVV5T9ToNavFKjlP1HrVwrU+uU/TjbZZJNN5j9MgVq/UqDmP0nM2xkS8+Y/RhdddNFF5z9EYt7OkJjnP0GtXylQ6+c/P/jggw8+6D88Q2LezpDoPzmO4ziO4+g/N9lkk0026T80JObtDInpPzJvZ0jM2+k/L7rooosu6j8tBWr9SoHqPypQ61cK1Oo/J5tssskm6z8l5u0MiXnrPyIxb2dIzOs/IHzwwQcf7D8dx3Ecx3HsPxsS83aGxOw/GF100UUX7T8VqPUrBWrtPxPzdobEvO0/ED744IMP7j8OiXk7Q2LuPwvU+pUCte4/CB988MEH7z8Gav1KgVrvPwO1fqVAre8/AAAAAAAA8D8=",
          "dtype": "f8"
         },
         "y": {
          "bdata": "qbcoA4VNsjd2qD4Dw4X+NwoFABEO70c4sPt9jSumkTjx1ETidnrYOLE1+KZh7R85Phn2m66UYznuMUPpIJamOcRRT0xEgOg5nxpIw4j+KDoe594laPpnOtFjgHr2oaU6uGBPF4xa4jqy3qylq0kdO/dYKfS4+VU7upe43T8DjztIaaOdSpTEOzXvz5s0r/k7Sj7v/VglLjwY9Er6FKNgPOUktLrsRJE8KA6buXvbwDzEY8S8GPPuPL0PHA3mtxo90L69lvKwRT0v/pEchY9wPV+xw9LHx5c9xAH18HUOwD1YMdAxAmTkPXLph/sPWgg+zYRkwnxZKz4P4MrG1uJMPqHff7vosGw+ivTGNp/Mij5PVZO3bYqnPtlMAYA+csM+7+NV9a023j4UljsvqBL2PqarxuxhVA4/Zux6h5SYIz84FflGRNA3PzS7/VQQN0s/7uKMSR1AXT9thNPRGZFtP9+XhOLqG3w/8aBcT8giiT9bUOXDISWVP5a3paLZvKA/nU1rGKvxqD/6zB8PcIKxP0MhlSOPL7c/25ELn2oFvT/GfAEXTjvBP1ubAkj4iMM/JUTtK/haxT8lJK/EvNrGP/QESh3ubcg/B7YnQMWkyj+Hgc2irBjOP6+gNJO1otE/CYWJjbM01T9KtSG6jrvZPzaQlvMMDt8/lbNCmcF24j9Xe3GyQIzlPz//x2rkrug/T6gazw/V6z9Vp5T9XwbvP6TpOw0ZLPE/90sRIYHy8j8svQLUbuD0P19mPj5A9/Y/q2xe4pYs+T/8nEFGLmv7P3XPqIn1l/0/l6Amgyea/z8bz9ce4rEAQHfGJnC6ewFAHpIo7u40AkDhSmq0Ju8CQH8NcYJDwANA3oGZuwq/BEBMAgRcUwAGQOLjFSeQlAdAdTsn5tOECUB2eXj7fs4LQC0dp+HJXQ5AFFS29nOEEEAh+TzqVccRQEfZGHzEzRJAxdqRmwprE0CMT4ixm3gTQHQXCG6Z3xJAx618T6ifEUDUsLIuCaEPQCDXMTQSOwtA2w6kjQ15BkC+5+BSyMUBQChmYHcw8fo/g7IqY9qU8z8=",
          "dtype": "f8"
         }
        },
        {
         "line": {
          "color": "lightcoral",
          "dash": "solid",
          "width": 3
         },
         "mode": "lines",
         "name": "Qwen3-14B",
         "type": "scatter",
         "x": {
          "bdata": "AAAAAAAAAABbv1Kg1q+EP1u/UqDWr5Q/CB988MEHnz9bv1Kg1q+kPzJvZ0jM26k/CB988MEHrz9wZ0jM2xmyP1u/UqDWr7Q/RhdddNFFtz8yb2dIzNu5Px3HcRzHcbw/CB988MEHvz96O0Ni3s7AP3BnSMzbGcI/ZZNNNtlkwz9bv1Kg1q/EP1HrVwrU+sU/RhdddNFFxz88Q2LezpDIPzJvZ0jM28k/J5tssskmyz8dx3Ecx3HMPxPzdobEvM0/CB988MEHzz9/pUCtXynQP3o7Q2LeztA/ddFFF1100T9wZ0jM2xnSP2r9SoFav9I/ZZNNNtlk0z9gKVDrVwrUP1u/UqDWr9Q/VlVVVVVV1T9R61cK1PrVP0yBWr9SoNY/RhdddNFF1z9BrV8pUOvXPzxDYt7OkNg/N9lkk0022T8yb2dIzNvZPy0Fav1Kgdo/J5tssskm2z8iMW9nSMzbPx3HcRzHcdw/GF100UUX3T8T83aGxLzdPw6JeTtDYt4/CB988MEH3z8DtX6lQK3fP3+lQK1fKeA/ffDBBx984D96O0Ni3s7gP3eGxLydIeE/ddFFF1104T9yHMdxHMfhP3BnSMzbGeI/bbLJJpts4j9q/UqBWr/iP2hIzNsZEuM/ZZNNNtlk4z9j3s6QmLfjP2ApUOtXCuQ/XnTRRRdd5D9bv1Kg1q/kP1gK1PqVAuU/VlVVVVVV5T9ToNavFKjlP1HrVwrU+uU/TjbZZJNN5j9MgVq/UqDmP0nM2xkS8+Y/RhdddNFF5z9EYt7OkJjnP0GtXylQ6+c/P/jggw8+6D88Q2LezpDoPzmO4ziO4+g/N9lkk0026T80JObtDInpPzJvZ0jM2+k/L7rooosu6j8tBWr9SoHqPypQ61cK1Oo/J5tssskm6z8l5u0MiXnrPyIxb2dIzOs/IHzwwQcf7D8dx3Ecx3HsPxsS83aGxOw/GF100UUX7T8VqPUrBWrtPxPzdobEvO0/ED744IMP7j8OiXk7Q2LuPwvU+pUCte4/CB988MEH7z8Gav1KgVrvPwO1fqVAre8/AAAAAAAA8D8=",
          "dtype": "f8"
         },
         "y": {
          "bdata": "fF8a4ezD+Dhs6X42J54zOUr0VL49xm05bESY/TOlpTmHY8mHMibeOdpO6aRwHRQ6OKEqIJ22STqUQV8HQ31/Os1jgUC/eLI6lkaPptXC5Dr36AlExVoWOyzM1ZlYD0c7gEZIaQXKdjsUevCTjJOlO0JZUicpktM7EllswtMBATzIk9Fwh1EsPNlhwe1ullY8XoO7p9NCgTz8vLKyakapPKTyWXCvutE8ZmouenvU9zyIc5eKILAePdrIcJuZ7kI9ayzsinhhZj0YsmuEjlmJPb5mLvTEgqs9R5AC/EObzD2dRyJOU4DsPc4pivRqNQs+xluMo3fjKD76IZFKidBFPof/GHhBUmI+9fmRvEJ9fT6FCcM0z72WPnmbsu49zrA+7xBt1U7Nxz4wQ8waDyfgPoFkYSVdAvU+HZ66NxQwCj+EWFJUq0gfP9kaeGiO6DE/8P3tdaqmQz/FxY+g8apUPwQ1eLLe1WQ/9tx8mG0idD+HSR9WF6eCP39zg6Y2kZA/1VRbm0Q4nD+YPJlbygynPx5LC2OID7I/QtxPe8gouz9zXB1H1prDP0q4IeKNMMs/ZxLMEPUg0j9H9ewz7EXXP8SwSXke0Nw/FFz/+Mw94T8zn2zh0wLkP6atnZejnuY/TbFDcaUI6T/hSpPRmUvrP4VuFS+/g+0/AXKY7pHX7z8fP4WoYDbxP31G25clrvI/+rb4yo5U9D+bSpLu+x32P49NKyfk8vc/v+R7mvqz+T92jvVIPED7P+2YpnRye/w/VBEMpLtT/T/pxJR2EcX9P9LsdxhY2v0/DN3rNhus/T/gYKbqil39P9VtEvx6GP0/JN5LyhcJ/T+VHxquyFn9P3zmfppuL/4/hgLjSPel/z/HCTzkl+YAQMF/+ijwUgJAh0PS47oPBEAk63CqWgsGQAfgq4AHKwhAIpO/fAZMCkBB0RtuDEYMQAD57Me27g1AyABfB88dD0AfNVIu2bEPQO/hxw9HlA9AObOqb5u8DkCUISA73TENQPylg3/6CQtAHa//9xxnCECOtxKkX3MFQAE1n9usWwJAOJ5t0mOV/j8=",
          "dtype": "f8"
         }
        },
        {
         "line": {
          "color": "lightcoral",
          "dash": "longdash",
          "width": 3
         },
         "mode": "lines",
         "name": "Qwen3-235B",
         "type": "scatter",
         "x": {
          "bdata": "AAAAAAAAAABbv1Kg1q+EP1u/UqDWr5Q/CB988MEHnz9bv1Kg1q+kPzJvZ0jM26k/CB988MEHrz9wZ0jM2xmyP1u/UqDWr7Q/RhdddNFFtz8yb2dIzNu5Px3HcRzHcbw/CB988MEHvz96O0Ni3s7AP3BnSMzbGcI/ZZNNNtlkwz9bv1Kg1q/EP1HrVwrU+sU/RhdddNFFxz88Q2LezpDIPzJvZ0jM28k/J5tssskmyz8dx3Ecx3HMPxPzdobEvM0/CB988MEHzz9/pUCtXynQP3o7Q2LeztA/ddFFF1100T9wZ0jM2xnSP2r9SoFav9I/ZZNNNtlk0z9gKVDrVwrUP1u/UqDWr9Q/VlVVVVVV1T9R61cK1PrVP0yBWr9SoNY/RhdddNFF1z9BrV8pUOvXPzxDYt7OkNg/N9lkk0022T8yb2dIzNvZPy0Fav1Kgdo/J5tssskm2z8iMW9nSMzbPx3HcRzHcdw/GF100UUX3T8T83aGxLzdPw6JeTtDYt4/CB988MEH3z8DtX6lQK3fP3+lQK1fKeA/ffDBBx984D96O0Ni3s7gP3eGxLydIeE/ddFFF1104T9yHMdxHMfhP3BnSMzbGeI/bbLJJpts4j9q/UqBWr/iP2hIzNsZEuM/ZZNNNtlk4z9j3s6QmLfjP2ApUOtXCuQ/XnTRRRdd5D9bv1Kg1q/kP1gK1PqVAuU/VlVVVVVV5T9ToNavFKjlP1HrVwrU+uU/TjbZZJNN5j9MgVq/UqDmP0nM2xkS8+Y/RhdddNFF5z9EYt7OkJjnP0GtXylQ6+c/P/jggw8+6D88Q2LezpDoPzmO4ziO4+g/N9lkk0026T80JObtDInpPzJvZ0jM2+k/L7rooosu6j8tBWr9SoHqPypQ61cK1Oo/J5tssskm6z8l5u0MiXnrPyIxb2dIzOs/IHzwwQcf7D8dx3Ecx3HsPxsS83aGxOw/GF100UUX7T8VqPUrBWrtPxPzdobEvO0/ED744IMP7j8OiXk7Q2LuPwvU+pUCte4/CB988MEH7z8Gav1KgVrvPwO1fqVAre8/AAAAAAAA8D8=",
          "dtype": "f8"
         },
         "y": {
          "bdata": "SsbPeb4hkzQutsyZHhfwNLBuRg0UXkk1B0T5Li++ojVmVD1kwPX5NZVr+VXO2VA2jEOAkCOBpDaElcbU2GL3NhQfTMsvAEk3y9utyC0NmTfyUQssaIfnN66PIjDAtjQ4bF7/+r8XgTg/dxL+DnHKON3JO6qeKxM51Z5FD0MOWjmy82VZAJmgOWFeEXUt0uM5BhhXMA0wJjrxecToDEhnOjBK5UU45qY6TcARzPUc5TpQIZIlYT8iO4BxjfhGkV071BSqjqN0ljuwZaY3cfnPOwNB2rAAVwU8ZvaUp/OzOjyTPNTVBlNvPIBDEaNfOaE8VudyZwnC0TwsYa8DFyoBPYJNaNLiGy89H599AVJuWj2PQBAMEQ6FPcD7nFHRc689NJ+yTxMH1j0u6jFnhO78PUa/2gMi0SE+DrS+cEKURD54zJTn0EpmPsKzpHQRpoY+Vk6XCn2VpT5lfo81qEvDPuBfOpnyLuA+NtM0brV4+T6KsYpOs88SPwLhAKtoFCo/ZhmQHOn4QD9YzfcIq75UP756SZib0Wc/cC7RHmWzeT9uRFB24xKKP9ZtvM/o4pg/OuSPrDddpj9mTbwvxvCyP7gw1RFrRb4/6PLBjbfbxj9E4uEz/VbQP0INZQx8KdY/TeMvXPWW3D//exIMNpfhP2FcU9o3t+Q/qbyaaPxt5z8DmH4IJ4zpPxlBoRo0+eo/j2xv2KS56z9LlKS03PLrP39efv7Q6+s/eJmOIPYH7D842bnVdLnsP5KNvVwPau4/u1CsumSv8D9Aj2kRgM/yP2VCiFObdPU/6D6r+GZe+D9JuC/BdTz7P73W0gZ4xP0/dNuuXsTI/z8lQW6ROKQAQCASmMouOgFAdEhNKfTTAUDgpDfGnqsCQEathTiO+wNAhUBUCUTxBUBVhD/FS6EIQJlA33kZ/gtA9XrJ7abTD0BS4vXrteQRQBs9c77ftRNAHvBwajoeFUAZ4aBYSuQVQAAkTt583xVAi6lZWhgBFUClZ0SmKVgTQC5SUh7+DhFAqOK6okjFDEAUmFX4nC0HQDf8/Ub30gFA7/qV1E4m+j8=",
          "dtype": "f8"
         }
        },
        {
         "line": {
          "color": "lightcoral",
          "dash": "dot",
          "width": 3
         },
         "mode": "lines",
         "name": "Qwen3-32B",
         "type": "scatter",
         "x": {
          "bdata": "AAAAAAAAAABbv1Kg1q+EP1u/UqDWr5Q/CB988MEHnz9bv1Kg1q+kPzJvZ0jM26k/CB988MEHrz9wZ0jM2xmyP1u/UqDWr7Q/RhdddNFFtz8yb2dIzNu5Px3HcRzHcbw/CB988MEHvz96O0Ni3s7AP3BnSMzbGcI/ZZNNNtlkwz9bv1Kg1q/EP1HrVwrU+sU/RhdddNFFxz88Q2LezpDIPzJvZ0jM28k/J5tssskmyz8dx3Ecx3HMPxPzdobEvM0/CB988MEHzz9/pUCtXynQP3o7Q2LeztA/ddFFF1100T9wZ0jM2xnSP2r9SoFav9I/ZZNNNtlk0z9gKVDrVwrUP1u/UqDWr9Q/VlVVVVVV1T9R61cK1PrVP0yBWr9SoNY/RhdddNFF1z9BrV8pUOvXPzxDYt7OkNg/N9lkk0022T8yb2dIzNvZPy0Fav1Kgdo/J5tssskm2z8iMW9nSMzbPx3HcRzHcdw/GF100UUX3T8T83aGxLzdPw6JeTtDYt4/CB988MEH3z8DtX6lQK3fP3+lQK1fKeA/ffDBBx984D96O0Ni3s7gP3eGxLydIeE/ddFFF1104T9yHMdxHMfhP3BnSMzbGeI/bbLJJpts4j9q/UqBWr/iP2hIzNsZEuM/ZZNNNtlk4z9j3s6QmLfjP2ApUOtXCuQ/XnTRRRdd5D9bv1Kg1q/kP1gK1PqVAuU/VlVVVVVV5T9ToNavFKjlP1HrVwrU+uU/TjbZZJNN5j9MgVq/UqDmP0nM2xkS8+Y/RhdddNFF5z9EYt7OkJjnP0GtXylQ6+c/P/jggw8+6D88Q2LezpDoPzmO4ziO4+g/N9lkk0026T80JObtDInpPzJvZ0jM2+k/L7rooosu6j8tBWr9SoHqPypQ61cK1Oo/J5tssskm6z8l5u0MiXnrPyIxb2dIzOs/IHzwwQcf7D8dx3Ecx3HsPxsS83aGxOw/GF100UUX7T8VqPUrBWrtPxPzdobEvO0/ED744IMP7j8OiXk7Q2LuPwvU+pUCte4/CB988MEH7z8Gav1KgVrvPwO1fqVAre8/AAAAAAAA8D8=",
          "dtype": "f8"
         },
         "y": {
          "bdata": "4wTFv1i7uTIs3989c2ImM07UGc/DApIz2sFZ9qvO+jN2ViE2x3NiNEufWODOfsc0jQlD2LKrKzVWJ9xbNySONSlY1awuXu415d9zVItMTDZ/p3rLJmSoNnKUTKHZcQM34t7s/disXDc3vteUaY6zN6Mrl3UDrAg4Ux87VvfJXDgSvqQ6JxKvOPD5dBolBP840ttgpRijTDmqnvupl3SYOXjkgNgEUeM5wCCzaE85LDqIe3r/QhJzOj9VZsix1rc68sUfvoGP+zqr3kYPrng9O/FGEHUSJn07umvkmUequjuAJxeb1Y/2OzZ+5Y0iqDE8dP9v7LWPaTxH+TvO/hyhPJYam7u4MdU8jyETCRpHCD1uG+Ad1rg5PYkt1xbLNGk9TWjihKnYlj0+K/1KGyfDPW1WSomms+09kjJXVytNFT676mwZjkI8PlFS/dylVmE+cbUePp+tgz66LRTkLqikPlO1kbFxDsQ++subW+gC4j5fKfsVxOv9PlHQrcim/BY/ooYokIBVMD9LdaK4bXhFP5TFCmZ1Glo/3aR/04NabT/Mq1KN4Yd+P8MtDgY/X40/unqcbzcjmj8Ubw6lG4SlP6bIImgIY7A/XcaaYwMatz8uwTMFEiq+Pzal6V3YRMI/39Ueg3aZxD+/BPaz+8fFP9jrwQsH7cU/g/rw58GfxT9X+/0Sx93FP6A7J78B1sc/uC+t+wCmzD9aEYLZcZDSPxp26+ce2Ng/gedvHoWU4D8BZnfDVarlP+Zw53Stg+s/hfRzRnny8D8/jWjFRz/0P5HqAxRodvc/JQG+uU5g+j+PnpW7Gsr8P8stLqqfk/4/QxR6/3C7/z/RpJz5gjEAQIFNWw5KZABAOc/RtsCcAEAKfrMs+QEBQFGCPRrMtgFAv4ouaMnYAkCy6MIQxIAEQNtO5A5fwQZApwX0c+qgCUDBilzISA8NQK+CecFFbhBAFfq9UEtbEkCqBxRv1hgUQJ2cetM5bRVAYFoYG68lFkBOr4zzVh8WQDe6pm+mTBVAnpS17kq3E0Bd+6BcPH8RQBZjEBQtrg1AUxjJqHn6B0A=",
          "dtype": "f8"
         }
        },
        {
         "line": {
          "color": "lightcoral",
          "dash": "solid",
          "width": 3
         },
         "mode": "lines",
         "name": "Qwen3-4B",
         "type": "scatter",
         "x": {
          "bdata": "AAAAAAAAAABbv1Kg1q+EP1u/UqDWr5Q/CB988MEHnz9bv1Kg1q+kPzJvZ0jM26k/CB988MEHrz9wZ0jM2xmyP1u/UqDWr7Q/RhdddNFFtz8yb2dIzNu5Px3HcRzHcbw/CB988MEHvz96O0Ni3s7AP3BnSMzbGcI/ZZNNNtlkwz9bv1Kg1q/EP1HrVwrU+sU/RhdddNFFxz88Q2LezpDIPzJvZ0jM28k/J5tssskmyz8dx3Ecx3HMPxPzdobEvM0/CB988MEHzz9/pUCtXynQP3o7Q2LeztA/ddFFF1100T9wZ0jM2xnSP2r9SoFav9I/ZZNNNtlk0z9gKVDrVwrUP1u/UqDWr9Q/VlVVVVVV1T9R61cK1PrVP0yBWr9SoNY/RhdddNFF1z9BrV8pUOvXPzxDYt7OkNg/N9lkk0022T8yb2dIzNvZPy0Fav1Kgdo/J5tssskm2z8iMW9nSMzbPx3HcRzHcdw/GF100UUX3T8T83aGxLzdPw6JeTtDYt4/CB988MEH3z8DtX6lQK3fP3+lQK1fKeA/ffDBBx984D96O0Ni3s7gP3eGxLydIeE/ddFFF1104T9yHMdxHMfhP3BnSMzbGeI/bbLJJpts4j9q/UqBWr/iP2hIzNsZEuM/ZZNNNtlk4z9j3s6QmLfjP2ApUOtXCuQ/XnTRRRdd5D9bv1Kg1q/kP1gK1PqVAuU/VlVVVVVV5T9ToNavFKjlP1HrVwrU+uU/TjbZZJNN5j9MgVq/UqDmP0nM2xkS8+Y/RhdddNFF5z9EYt7OkJjnP0GtXylQ6+c/P/jggw8+6D88Q2LezpDoPzmO4ziO4+g/N9lkk0026T80JObtDInpPzJvZ0jM2+k/L7rooosu6j8tBWr9SoHqPypQ61cK1Oo/J5tssskm6z8l5u0MiXnrPyIxb2dIzOs/IHzwwQcf7D8dx3Ecx3HsPxsS83aGxOw/GF100UUX7T8VqPUrBWrtPxPzdobEvO0/ED744IMP7j8OiXk7Q2LuPwvU+pUCte4/CB988MEH7z8Gav1KgVrvPwO1fqVAre8/AAAAAAAA8D8=",
          "dtype": "f8"
         },
         "y": {
          "bdata": "vfEcRGX1sT7+f7Zz1rzAPqT116scss4+RDmu4KSx2z7LcdWWsJXoPjPM/Le+efU+LcOuNu51Aj9X5KkO9DsPP5eE4RBbARo/vK6NWphPJT9V7hMsuDAxP0DJqlDvTDs/WnAyA6FXRT8KSl3cXm1QP0tCbkeb5lg/z08VoOaVYj8xjNzdN1NrPwlU/41RyXM/23k6nOo6fD+qUqtBz9eDP5QZpqmYfYs/pyLWNSTFkj/q+MkVG0WZPwd2P2EtxqA/iVF3dDr3pT93ZIrWVmGsP+LHe2xPGLI/GVSJEA3Itj8lQB4UDFS8P3GFo6slZ8E/khhKm/MixT83ubx+PmPJP8gV+DbXK84/lSbc4i+/0T9PgF/8D63UP3Nc5I7q3dc/YjLTbrhO2z94C/2z3vreP8xa27D4beE/vp3rg7R04z8SspioKYzlPzWJHwyGrec//4nQjIjQ6T/M7Mw6guvrP4INg3R48+0/diPFw27c7z9JU0GE7czwP5Lux3Ggj/E/quu2p3Uw8j/nyxv3WqryP1m92eZp+fI/2X5cAkAb8z9CdDX7Qg/zP6tsiorJ1vI/GDKwBiV18j+O1A8oi+/xP3PECefiTPE/Z257JHqV8D/RrXMOV6XvPxIVUeb4HO4/RnPHlnSm7D9XbP4xOVbrP6BpH0DfP+o/QxH4t5F16T8rU7BiigfpPyhR1kOfA+k/7dyuGd506T9f1T3XM2PqP1I/ka4f0+s/HlViVHPF7T9GraAHkhvwP5EthL2YkPE/dqOQt1M88z//QyMMYBf1Pz9SkxGVGPc/bA95dzo1+T+sWCIoUWH7PwBcc1Ltj/0/SIAihp6z/z/2qNqxcN8AQIL2YJdK0gFAz1b6YDesAkDcWrMTsWcDQJ7dKUj+/wNAKE2e0FRxBED1S7Z28LgEQAIC6Gkd1QRAn3JlLjfFBEBAPZjpnYkEQMAKM5ukIwRAWP99BnuVA0Dzy+a9FeICQOuMaf8VDQJA+9nbCbIaAUD7kcOInQ8AQDx9987h4f0/7oV8ARyI+z8tMJqdAR35P5F9yea2q/Y/NC1w/hs/9D8=",
          "dtype": "f8"
         }
        },
        {
         "line": {
          "color": "lightblue",
          "dash": "longdash",
          "width": 3
         },
         "mode": "lines",
         "name": "Transluce-Explainer-Llama-8B",
         "type": "scatter",
         "x": {
          "bdata": "AAAAAAAAAABbv1Kg1q+EP1u/UqDWr5Q/CB988MEHnz9bv1Kg1q+kPzJvZ0jM26k/CB988MEHrz9wZ0jM2xmyP1u/UqDWr7Q/RhdddNFFtz8yb2dIzNu5Px3HcRzHcbw/CB988MEHvz96O0Ni3s7AP3BnSMzbGcI/ZZNNNtlkwz9bv1Kg1q/EP1HrVwrU+sU/RhdddNFFxz88Q2LezpDIPzJvZ0jM28k/J5tssskmyz8dx3Ecx3HMPxPzdobEvM0/CB988MEHzz9/pUCtXynQP3o7Q2LeztA/ddFFF1100T9wZ0jM2xnSP2r9SoFav9I/ZZNNNtlk0z9gKVDrVwrUP1u/UqDWr9Q/VlVVVVVV1T9R61cK1PrVP0yBWr9SoNY/RhdddNFF1z9BrV8pUOvXPzxDYt7OkNg/N9lkk0022T8yb2dIzNvZPy0Fav1Kgdo/J5tssskm2z8iMW9nSMzbPx3HcRzHcdw/GF100UUX3T8T83aGxLzdPw6JeTtDYt4/CB988MEH3z8DtX6lQK3fP3+lQK1fKeA/ffDBBx984D96O0Ni3s7gP3eGxLydIeE/ddFFF1104T9yHMdxHMfhP3BnSMzbGeI/bbLJJpts4j9q/UqBWr/iP2hIzNsZEuM/ZZNNNtlk4z9j3s6QmLfjP2ApUOtXCuQ/XnTRRRdd5D9bv1Kg1q/kP1gK1PqVAuU/VlVVVVVV5T9ToNavFKjlP1HrVwrU+uU/TjbZZJNN5j9MgVq/UqDmP0nM2xkS8+Y/RhdddNFF5z9EYt7OkJjnP0GtXylQ6+c/P/jggw8+6D88Q2LezpDoPzmO4ziO4+g/N9lkk0026T80JObtDInpPzJvZ0jM2+k/L7rooosu6j8tBWr9SoHqPypQ61cK1Oo/J5tssskm6z8l5u0MiXnrPyIxb2dIzOs/IHzwwQcf7D8dx3Ecx3HsPxsS83aGxOw/GF100UUX7T8VqPUrBWrtPxPzdobEvO0/ED744IMP7j8OiXk7Q2LuPwvU+pUCte4/CB988MEH7z8Gav1KgVrvPwO1fqVAre8/AAAAAAAA8D8=",
          "dtype": "f8"
         },
         "y": {
          "bdata": "jH5RYA94Gz2Q6mQColA3PfxImhI2TlM9db9OFJwwbz0+m7d+XZSIPS9I0/qk5aI9gzRnjs9YvD2o1pni9r3UPfWPIqwfne09+uW3IsKfBD5Pg3LojwYcPo9kgE3DkzI+NkqjYRMHSD6+/gVlxVFePmn6hyS9qXI+0hGltYFqhj7NzEMdjkSaPtl2d3AdCK4+ANicdN6/wD7i1Qb/gjrSPr58GpgIW+M+rvUcN3EN9D5bT8YQ/0QEP1oj9BS2/RM/hTRcENU8Iz+JrQxyMhAyP/ptqj6YjEA/VfCCssiWTT88JlDFms9ZP5Z4rjxo+GU/JZkCzLo/cj+/DvoNVpV9P0xcqSBqZoc/YU9bBiAQkj8GcEcDETebP91sfxpqAqQ/5uRj1Z63rD8F9yEdLB20P6ul7ZHVgLs/jG82ehlbwj/2vCeLmuvHP+Jq/NRyb84/maescVjo0j9U71hxv/HWP2kxz2oNM9s/wWsasuSB3z84Y5g7u9bhP6vu1UZ4weM/nCtGDGtp5T+P+W6CSLvmPzptKHG1quc/oUVuvhA06D94dyRMPF3oPx2nDrI7Neg/qXpIja/S5z8t3rn4YlHnPwrkYsVFz+Y/dHoLRkJp5j+59KbcXTjmPzDF+SCBT+Y/4p07TyS65j97pSbW9XvnP788W/lqkeg/uctMDgzx6T8otd8TO43rP8XrIrUtVu0/Cq2K+9k77z/KWRru0ZfwP/jRrI7WkvE/RGb0L96K8j8bIGbV333zP5FXMiD8a/Q/ZPQNBXBX9T/JuOa2akT2P+5VJ57JOPc/hBWWW7k7+D9+N3lNOFX5PzyaEwx3jfo/XhhUWhbs+z9v/G++R3f9P0CZXzbdMv8/Tx/oz62PAEAQE0VelJwBQHJZ/fT3uwJAVUmqhyvnA0C+MKwNDBUFQHR2T7ZFOgZAt0ja2dJJB0CXYbmcsDUIQKlq+NS/7whApGKJjMNqCUAexxO/aZsJQEqzmChHeQlA3Glj2qz/CEB3ez+0Pi4IQMLwFpY1CQdAQk69dT+ZBUDpGcMS+uoDQD805n0RDgJA8ls6EhgUAEA=",
          "dtype": "f8"
         }
        }
       ],
       "layout": {
        "font": {
         "size": 12
        },
        "height": 500,
        "legend": {
         "x": 0.01,
         "xanchor": "left",
         "y": 0.99,
         "yanchor": "top"
        },
        "template": {
         "data": {
          "bar": [
           {
            "error_x": {
             "color": "#2a3f5f"
            },
            "error_y": {
             "color": "#2a3f5f"
            },
            "marker": {
             "line": {
              "color": "#E5ECF6",
              "width": 0.5
             },
             "pattern": {
              "fillmode": "overlay",
              "size": 10,
              "solidity": 0.2
             }
            },
            "type": "bar"
           }
          ],
          "barpolar": [
           {
            "marker": {
             "line": {
              "color": "#E5ECF6",
              "width": 0.5
             },
             "pattern": {
              "fillmode": "overlay",
              "size": 10,
              "solidity": 0.2
             }
            },
            "type": "barpolar"
           }
          ],
          "carpet": [
           {
            "aaxis": {
             "endlinecolor": "#2a3f5f",
             "gridcolor": "white",
             "linecolor": "white",
             "minorgridcolor": "white",
             "startlinecolor": "#2a3f5f"
            },
            "baxis": {
             "endlinecolor": "#2a3f5f",
             "gridcolor": "white",
             "linecolor": "white",
             "minorgridcolor": "white",
             "startlinecolor": "#2a3f5f"
            },
            "type": "carpet"
           }
          ],
          "choropleth": [
           {
            "colorbar": {
             "outlinewidth": 0,
             "ticks": ""
            },
            "type": "choropleth"
           }
          ],
          "contour": [
           {
            "colorbar": {
             "outlinewidth": 0,
             "ticks": ""
            },
            "colorscale": [
             [
              0,
              "#0d0887"
             ],
             [
              0.1111111111111111,
              "#46039f"
             ],
             [
              0.2222222222222222,
              "#7201a8"
             ],
             [
              0.3333333333333333,
              "#9c179e"
             ],
             [
              0.4444444444444444,
              "#bd3786"
             ],
             [
              0.5555555555555556,
              "#d8576b"
             ],
             [
              0.6666666666666666,
              "#ed7953"
             ],
             [
              0.7777777777777778,
              "#fb9f3a"
             ],
             [
              0.8888888888888888,
              "#fdca26"
             ],
             [
              1,
              "#f0f921"
             ]
            ],
            "type": "contour"
           }
          ],
          "contourcarpet": [
           {
            "colorbar": {
             "outlinewidth": 0,
             "ticks": ""
            },
            "type": "contourcarpet"
           }
          ],
          "heatmap": [
           {
            "colorbar": {
             "outlinewidth": 0,
             "ticks": ""
            },
            "colorscale": [
             [
              0,
              "#0d0887"
             ],
             [
              0.1111111111111111,
              "#46039f"
             ],
             [
              0.2222222222222222,
              "#7201a8"
             ],
             [
              0.3333333333333333,
              "#9c179e"
             ],
             [
              0.4444444444444444,
              "#bd3786"
             ],
             [
              0.5555555555555556,
              "#d8576b"
             ],
             [
              0.6666666666666666,
              "#ed7953"
             ],
             [
              0.7777777777777778,
              "#fb9f3a"
             ],
             [
              0.8888888888888888,
              "#fdca26"
             ],
             [
              1,
              "#f0f921"
             ]
            ],
            "type": "heatmap"
           }
          ],
          "histogram": [
           {
            "marker": {
             "pattern": {
              "fillmode": "overlay",
              "size": 10,
              "solidity": 0.2
             }
            },
            "type": "histogram"
           }
          ],
          "histogram2d": [
           {
            "colorbar": {
             "outlinewidth": 0,
             "ticks": ""
            },
            "colorscale": [
             [
              0,
              "#0d0887"
             ],
             [
              0.1111111111111111,
              "#46039f"
             ],
             [
              0.2222222222222222,
              "#7201a8"
             ],
             [
              0.3333333333333333,
              "#9c179e"
             ],
             [
              0.4444444444444444,
              "#bd3786"
             ],
             [
              0.5555555555555556,
              "#d8576b"
             ],
             [
              0.6666666666666666,
              "#ed7953"
             ],
             [
              0.7777777777777778,
              "#fb9f3a"
             ],
             [
              0.8888888888888888,
              "#fdca26"
             ],
             [
              1,
              "#f0f921"
             ]
            ],
            "type": "histogram2d"
           }
          ],
          "histogram2dcontour": [
           {
            "colorbar": {
             "outlinewidth": 0,
             "ticks": ""
            },
            "colorscale": [
             [
              0,
              "#0d0887"
             ],
             [
              0.1111111111111111,
              "#46039f"
             ],
             [
              0.2222222222222222,
              "#7201a8"
             ],
             [
              0.3333333333333333,
              "#9c179e"
             ],
             [
              0.4444444444444444,
              "#bd3786"
             ],
             [
              0.5555555555555556,
              "#d8576b"
             ],
             [
              0.6666666666666666,
              "#ed7953"
             ],
             [
              0.7777777777777778,
              "#fb9f3a"
             ],
             [
              0.8888888888888888,
              "#fdca26"
             ],
             [
              1,
              "#f0f921"
             ]
            ],
            "type": "histogram2dcontour"
           }
          ],
          "mesh3d": [
           {
            "colorbar": {
             "outlinewidth": 0,
             "ticks": ""
            },
            "type": "mesh3d"
           }
          ],
          "parcoords": [
           {
            "line": {
             "colorbar": {
              "outlinewidth": 0,
              "ticks": ""
             }
            },
            "type": "parcoords"
           }
          ],
          "pie": [
           {
            "automargin": true,
            "type": "pie"
           }
          ],
          "scatter": [
           {
            "fillpattern": {
             "fillmode": "overlay",
             "size": 10,
             "solidity": 0.2
            },
            "type": "scatter"
           }
          ],
          "scatter3d": [
           {
            "line": {
             "colorbar": {
              "outlinewidth": 0,
              "ticks": ""
             }
            },
            "marker": {
             "colorbar": {
              "outlinewidth": 0,
              "ticks": ""
             }
            },
            "type": "scatter3d"
           }
          ],
          "scattercarpet": [
           {
            "marker": {
             "colorbar": {
              "outlinewidth": 0,
              "ticks": ""
             }
            },
            "type": "scattercarpet"
           }
          ],
          "scattergeo": [
           {
            "marker": {
             "colorbar": {
              "outlinewidth": 0,
              "ticks": ""
             }
            },
            "type": "scattergeo"
           }
          ],
          "scattergl": [
           {
            "marker": {
             "colorbar": {
              "outlinewidth": 0,
              "ticks": ""
             }
            },
            "type": "scattergl"
           }
          ],
          "scattermap": [
           {
            "marker": {
             "colorbar": {
              "outlinewidth": 0,
              "ticks": ""
             }
            },
            "type": "scattermap"
           }
          ],
          "scattermapbox": [
           {
            "marker": {
             "colorbar": {
              "outlinewidth": 0,
              "ticks": ""
             }
            },
            "type": "scattermapbox"
           }
          ],
          "scatterpolar": [
           {
            "marker": {
             "colorbar": {
              "outlinewidth": 0,
              "ticks": ""
             }
            },
            "type": "scatterpolar"
           }
          ],
          "scatterpolargl": [
           {
            "marker": {
             "colorbar": {
              "outlinewidth": 0,
              "ticks": ""
             }
            },
            "type": "scatterpolargl"
           }
          ],
          "scatterternary": [
           {
            "marker": {
             "colorbar": {
              "outlinewidth": 0,
              "ticks": ""
             }
            },
            "type": "scatterternary"
           }
          ],
          "surface": [
           {
            "colorbar": {
             "outlinewidth": 0,
             "ticks": ""
            },
            "colorscale": [
             [
              0,
              "#0d0887"
             ],
             [
              0.1111111111111111,
              "#46039f"
             ],
             [
              0.2222222222222222,
              "#7201a8"
             ],
             [
              0.3333333333333333,
              "#9c179e"
             ],
             [
              0.4444444444444444,
              "#bd3786"
             ],
             [
              0.5555555555555556,
              "#d8576b"
             ],
             [
              0.6666666666666666,
              "#ed7953"
             ],
             [
              0.7777777777777778,
              "#fb9f3a"
             ],
             [
              0.8888888888888888,
              "#fdca26"
             ],
             [
              1,
              "#f0f921"
             ]
            ],
            "type": "surface"
           }
          ],
          "table": [
           {
            "cells": {
             "fill": {
              "color": "#EBF0F8"
             },
             "line": {
              "color": "white"
             }
            },
            "header": {
             "fill": {
              "color": "#C8D4E3"
             },
             "line": {
              "color": "white"
             }
            },
            "type": "table"
           }
          ]
         },
         "layout": {
          "annotationdefaults": {
           "arrowcolor": "#2a3f5f",
           "arrowhead": 0,
           "arrowwidth": 1
          },
          "autotypenumbers": "strict",
          "coloraxis": {
           "colorbar": {
            "outlinewidth": 0,
            "ticks": ""
           }
          },
          "colorscale": {
           "diverging": [
            [
             0,
             "#8e0152"
            ],
            [
             0.1,
             "#c51b7d"
            ],
            [
             0.2,
             "#de77ae"
            ],
            [
             0.3,
             "#f1b6da"
            ],
            [
             0.4,
             "#fde0ef"
            ],
            [
             0.5,
             "#f7f7f7"
            ],
            [
             0.6,
             "#e6f5d0"
            ],
            [
             0.7,
             "#b8e186"
            ],
            [
             0.8,
             "#7fbc41"
            ],
            [
             0.9,
             "#4d9221"
            ],
            [
             1,
             "#276419"
            ]
           ],
           "sequential": [
            [
             0,
             "#0d0887"
            ],
            [
             0.1111111111111111,
             "#46039f"
            ],
            [
             0.2222222222222222,
             "#7201a8"
            ],
            [
             0.3333333333333333,
             "#9c179e"
            ],
            [
             0.4444444444444444,
             "#bd3786"
            ],
            [
             0.5555555555555556,
             "#d8576b"
            ],
            [
             0.6666666666666666,
             "#ed7953"
            ],
            [
             0.7777777777777778,
             "#fb9f3a"
            ],
            [
             0.8888888888888888,
             "#fdca26"
            ],
            [
             1,
             "#f0f921"
            ]
           ],
           "sequentialminus": [
            [
             0,
             "#0d0887"
            ],
            [
             0.1111111111111111,
             "#46039f"
            ],
            [
             0.2222222222222222,
             "#7201a8"
            ],
            [
             0.3333333333333333,
             "#9c179e"
            ],
            [
             0.4444444444444444,
             "#bd3786"
            ],
            [
             0.5555555555555556,
             "#d8576b"
            ],
            [
             0.6666666666666666,
             "#ed7953"
            ],
            [
             0.7777777777777778,
             "#fb9f3a"
            ],
            [
             0.8888888888888888,
             "#fdca26"
            ],
            [
             1,
             "#f0f921"
            ]
           ]
          },
          "colorway": [
           "#636efa",
           "#EF553B",
           "#00cc96",
           "#ab63fa",
           "#FFA15A",
           "#19d3f3",
           "#FF6692",
           "#B6E880",
           "#FF97FF",
           "#FECB52"
          ],
          "font": {
           "color": "#2a3f5f"
          },
          "geo": {
           "bgcolor": "white",
           "lakecolor": "white",
           "landcolor": "#E5ECF6",
           "showlakes": true,
           "showland": true,
           "subunitcolor": "white"
          },
          "hoverlabel": {
           "align": "left"
          },
          "hovermode": "closest",
          "mapbox": {
           "style": "light"
          },
          "paper_bgcolor": "white",
          "plot_bgcolor": "#E5ECF6",
          "polar": {
           "angularaxis": {
            "gridcolor": "white",
            "linecolor": "white",
            "ticks": ""
           },
           "bgcolor": "#E5ECF6",
           "radialaxis": {
            "gridcolor": "white",
            "linecolor": "white",
            "ticks": ""
           }
          },
          "scene": {
           "xaxis": {
            "backgroundcolor": "#E5ECF6",
            "gridcolor": "white",
            "gridwidth": 2,
            "linecolor": "white",
            "showbackground": true,
            "ticks": "",
            "zerolinecolor": "white"
           },
           "yaxis": {
            "backgroundcolor": "#E5ECF6",
            "gridcolor": "white",
            "gridwidth": 2,
            "linecolor": "white",
            "showbackground": true,
            "ticks": "",
            "zerolinecolor": "white"
           },
           "zaxis": {
            "backgroundcolor": "#E5ECF6",
            "gridcolor": "white",
            "gridwidth": 2,
            "linecolor": "white",
            "showbackground": true,
            "ticks": "",
            "zerolinecolor": "white"
           }
          },
          "shapedefaults": {
           "line": {
            "color": "#2a3f5f"
           }
          },
          "ternary": {
           "aaxis": {
            "gridcolor": "white",
            "linecolor": "white",
            "ticks": ""
           },
           "baxis": {
            "gridcolor": "white",
            "linecolor": "white",
            "ticks": ""
           },
           "bgcolor": "#E5ECF6",
           "caxis": {
            "gridcolor": "white",
            "linecolor": "white",
            "ticks": ""
           }
          },
          "title": {
           "x": 0.05
          },
          "xaxis": {
           "automargin": true,
           "gridcolor": "white",
           "linecolor": "white",
           "ticks": "",
           "title": {
            "standoff": 15
           },
           "zerolinecolor": "white",
           "zerolinewidth": 2
          },
          "yaxis": {
           "automargin": true,
           "gridcolor": "white",
           "linecolor": "white",
           "ticks": "",
           "title": {
            "standoff": 15
           },
           "zerolinecolor": "white",
           "zerolinewidth": 2
          }
         }
        },
        "title": {
         "text": "Accuracy Density Distribution - Fuzz"
        },
        "xaxis": {
         "title": {
          "text": "Accuracy"
         }
        },
        "yaxis": {
         "title": {
          "text": "Density"
         }
        }
       }
      }
     },
     "metadata": {},
     "output_type": "display_data"
    },
    {
     "name": "stdout",
     "output_type": "stream",
     "text": [
      "\n",
      "Data Quality Summary for fuzz:\n",
      "  Total data points processed: 816\n",
      "  Valid data points used: 814\n",
      "  NaN values found: 2\n",
      "  Infinite values found: 0\n",
      "  Data quality rate: 99.8%\n"
     ]
    },
    {
     "name": "stderr",
     "output_type": "stream",
     "text": [
      "/tmp/ipykernel_3031605/3879506136.py:230: DeprecationWarning:\n",
      "\n",
      "\n",
      "Support for Kaleido versions less than 1.0.0 is deprecated and will be removed after September 2025.\n",
      "Please upgrade Kaleido to version 1.0.0 or greater (`pip install 'kaleido>=1.0.0'` or `pip install 'plotly[kaleido]'`).\n",
      "\n",
      "\n",
      "/tmp/ipykernel_3031605/3879506136.py:231: DeprecationWarning:\n",
      "\n",
      "\n",
      "Support for Kaleido versions less than 1.0.0 is deprecated and will be removed after September 2025.\n",
      "Please upgrade Kaleido to version 1.0.0 or greater (`pip install 'kaleido>=1.0.0'` or `pip install 'plotly[kaleido]'`).\n",
      "\n",
      "\n"
     ]
    },
    {
     "name": "stdout",
     "output_type": "stream",
     "text": [
      "Saved KDE density plot: /home/jeremias/projects/delphi-explanations/results/visualizations/accuracy_density_fuzz.pdf\n",
      "Saved KDE density plot: /home/jeremias/projects/delphi-explanations/results/visualizations/accuracy_density_fuzz.png\n",
      "\n",
      "Creating KDE density plot for detection...\n"
     ]
    },
    {
     "data": {
      "application/vnd.plotly.v1+json": {
       "config": {
        "plotlyServerURL": "https://plot.ly"
       },
       "data": [
        {
         "line": {
          "color": "lightgreen",
          "dash": "dash",
          "width": 3
         },
         "mode": "lines",
         "name": "Gemma-3-12B-IT",
         "type": "scatter",
         "x": {
          "bdata": "AAAAAAAAAABbv1Kg1q+EP1u/UqDWr5Q/CB988MEHnz9bv1Kg1q+kPzJvZ0jM26k/CB988MEHrz9wZ0jM2xmyP1u/UqDWr7Q/RhdddNFFtz8yb2dIzNu5Px3HcRzHcbw/CB988MEHvz96O0Ni3s7AP3BnSMzbGcI/ZZNNNtlkwz9bv1Kg1q/EP1HrVwrU+sU/RhdddNFFxz88Q2LezpDIPzJvZ0jM28k/J5tssskmyz8dx3Ecx3HMPxPzdobEvM0/CB988MEHzz9/pUCtXynQP3o7Q2LeztA/ddFFF1100T9wZ0jM2xnSP2r9SoFav9I/ZZNNNtlk0z9gKVDrVwrUP1u/UqDWr9Q/VlVVVVVV1T9R61cK1PrVP0yBWr9SoNY/RhdddNFF1z9BrV8pUOvXPzxDYt7OkNg/N9lkk0022T8yb2dIzNvZPy0Fav1Kgdo/J5tssskm2z8iMW9nSMzbPx3HcRzHcdw/GF100UUX3T8T83aGxLzdPw6JeTtDYt4/CB988MEH3z8DtX6lQK3fP3+lQK1fKeA/ffDBBx984D96O0Ni3s7gP3eGxLydIeE/ddFFF1104T9yHMdxHMfhP3BnSMzbGeI/bbLJJpts4j9q/UqBWr/iP2hIzNsZEuM/ZZNNNtlk4z9j3s6QmLfjP2ApUOtXCuQ/XnTRRRdd5D9bv1Kg1q/kP1gK1PqVAuU/VlVVVVVV5T9ToNavFKjlP1HrVwrU+uU/TjbZZJNN5j9MgVq/UqDmP0nM2xkS8+Y/RhdddNFF5z9EYt7OkJjnP0GtXylQ6+c/P/jggw8+6D88Q2LezpDoPzmO4ziO4+g/N9lkk0026T80JObtDInpPzJvZ0jM2+k/L7rooosu6j8tBWr9SoHqPypQ61cK1Oo/J5tssskm6z8l5u0MiXnrPyIxb2dIzOs/IHzwwQcf7D8dx3Ecx3HsPxsS83aGxOw/GF100UUX7T8VqPUrBWrtPxPzdobEvO0/ED744IMP7j8OiXk7Q2LuPwvU+pUCte4/CB988MEH7z8Gav1KgVrvPwO1fqVAre8/AAAAAAAA8D8=",
          "dtype": "f8"
         },
         "y": {
          "bdata": "ijezs+qR4TwMrTzW6JUBPT3PPITHDyE9eM4+dL8LQD2zeW0pkUFdPaqcowGD2nk9H2k0HoMllj1DkTKzwWOyPTMZuHm8ms09EFXQtmEZ5z1z4DP6ongBPjfM/22fnhk+0sN38oE1Mj5cY36HdRdJPkvMUBxHwmA+APFqhL2zdT7CbWK0jD6LPmWVIlcelKA+sBvfWpOPsz7eLowjO2DGPtO6rDUU0dg+ad0+F+Ov6j6LxsF749P7PvYZ2xGRIww/dEaeCWOYGz8KQkfKtj8qPw+vBOm6ODg/ltsjPcyvRT8t2YX7ONhSP64rS0pAy18/iQ2Y4TIMaj+XkRUyCrx0P1bszCjeC4A/Rop18uIpiD/+TNvtc7eRP4YCXjh7U5k/5eXnhoaroT+ZB3qwGhuoPzAc51C7GrA/HvOLu/odtT9u0/c4pju7P1pGKhzlTsE/bhJcNQe7xT/PXaadSv/KP38Qw14zntA/aANO5FtK1D9tvA92XJTYP7Sp2YUiid0/tteKS9OX4T8eFDEMPcPkP+kjbjAAQeg/GkzKedQF7D9LSjdjkQDwP+oon67VDvI/63whrT8h9D9iqwJ6ESr2P7dTzVHgGvg/199evTnl+T/R8QfSZHv7P6ZLBG1T0fw/l/Ff7svd/T8UQpLvupv+P086HUR9C/8/2lvQwtgz/z+9rwY+USL/P+5PEIOV6v4/399wwOWk/j/JHQp5iWv+PwK5QmeiV/4/0e/cjdV9/j++eiQWWev+P3P1tMXuo/8/z9vfIphQAEBZqQoprekAQAS9f0fAkQFAOW88+Gg7AkDwawcbMdkCQNv2CmVpXwNA4WgBSp3FA0DMHFJ3aAcEQCKsrXiOJARA7eFhclkgBEDEde5SZwAEQFncTlUmywNAldFoZE2GA0C9Hmp7mTUDQBagHWII2gJAMcd3Z69xAkCTiKxcL/gBQPy7NE+rZwFA2NJ9shG6AEAHJgXY9dT/P+oQvXK87P0/VjErsc28+z+aDaxXi035P8Bfe/vnrfY/iII02+vx8z+lG9p4gjDxPwi9ePPsAe0/bTKKyQ/x5z8=",
          "dtype": "f8"
         }
        },
        {
         "line": {
          "color": "lightgreen",
          "dash": "dot",
          "width": 3
         },
         "mode": "lines",
         "name": "Gemma-3-27B-IT",
         "type": "scatter",
         "x": {
          "bdata": "AAAAAAAAAABbv1Kg1q+EP1u/UqDWr5Q/CB988MEHnz9bv1Kg1q+kPzJvZ0jM26k/CB988MEHrz9wZ0jM2xmyP1u/UqDWr7Q/RhdddNFFtz8yb2dIzNu5Px3HcRzHcbw/CB988MEHvz96O0Ni3s7AP3BnSMzbGcI/ZZNNNtlkwz9bv1Kg1q/EP1HrVwrU+sU/RhdddNFFxz88Q2LezpDIPzJvZ0jM28k/J5tssskmyz8dx3Ecx3HMPxPzdobEvM0/CB988MEHzz9/pUCtXynQP3o7Q2LeztA/ddFFF1100T9wZ0jM2xnSP2r9SoFav9I/ZZNNNtlk0z9gKVDrVwrUP1u/UqDWr9Q/VlVVVVVV1T9R61cK1PrVP0yBWr9SoNY/RhdddNFF1z9BrV8pUOvXPzxDYt7OkNg/N9lkk0022T8yb2dIzNvZPy0Fav1Kgdo/J5tssskm2z8iMW9nSMzbPx3HcRzHcdw/GF100UUX3T8T83aGxLzdPw6JeTtDYt4/CB988MEH3z8DtX6lQK3fP3+lQK1fKeA/ffDBBx984D96O0Ni3s7gP3eGxLydIeE/ddFFF1104T9yHMdxHMfhP3BnSMzbGeI/bbLJJpts4j9q/UqBWr/iP2hIzNsZEuM/ZZNNNtlk4z9j3s6QmLfjP2ApUOtXCuQ/XnTRRRdd5D9bv1Kg1q/kP1gK1PqVAuU/VlVVVVVV5T9ToNavFKjlP1HrVwrU+uU/TjbZZJNN5j9MgVq/UqDmP0nM2xkS8+Y/RhdddNFF5z9EYt7OkJjnP0GtXylQ6+c/P/jggw8+6D88Q2LezpDoPzmO4ziO4+g/N9lkk0026T80JObtDInpPzJvZ0jM2+k/L7rooosu6j8tBWr9SoHqPypQ61cK1Oo/J5tssskm6z8l5u0MiXnrPyIxb2dIzOs/IHzwwQcf7D8dx3Ecx3HsPxsS83aGxOw/GF100UUX7T8VqPUrBWrtPxPzdobEvO0/ED744IMP7j8OiXk7Q2LuPwvU+pUCte4/CB988MEH7z8Gav1KgVrvPwO1fqVAre8/AAAAAAAA8D8=",
          "dtype": "f8"
         },
         "y": {
          "bdata": "UmkoW4jOzjsnoPW+iz30O76i/KQuwRk8nyDtFfK7PzwSvqBcvO5iPNs5/hE+4IU8KWA9U1p6qDwz8ITSJobKPM+ssXxf1es8V3QSLyRJDD1qqiMcq9YrPUj2BCPqiEo9/mVSLNx+aD3RTJU0w+aFPW5tOWxo96I92XHdR27Rvz02kj9QItrZPZNYotvWWPQ9ovlqq/sGDz4XKPT1L+smPvGKbGXwZkA+yNAPrmO/Vj6LZXZOHZJuPhOmne1j6IM+ZkrkMEchmT7etwbA3b+uPnihb/IJPcI+GB/reGf61D5XGUaLcGbnPphLizJQUfk+Dzy+DyGTCj+UojQ5XhEbP6OOVPSLwio/ZcJjxWKvOT/Q/I12SvFHP2MHvGqArlU/O+jDdrcUYz9yvKSgO1NwP2BDJkM+K3s/bcndK3H/hT+UmziltlaRP3MoWIc6n5o/l8mek97qoz+Vic+Y0Q+tP5yJqzBPsLQ/eTqlcGnDvD8KPYFEK4rDP2mlf9Yt98k/b77vyaPj0D/TPgWciYfVPz/CysaD69o/VNWJV4WG4D+BSccjQ/HjP3kkJNSirec/cq+t+cev6z8xqyXcVOjvP6VJJpMxIvI/lOZPpsFW9D+YUzvl84T2P8sYVhp2nvg/fGabfBGU+j+N0O8Wf1b8Py82SJuC1/0/CCklIjIL/z8GSsdWQ+n/P4qUVmEYNwBAMmoKhwZOAEDgYAfwcT0AQJmuumZKDABA2OoMTSGI/z96Wv7eceD+PwVjOKWhOv4/pWoBiOyv/T+Fhutaa1f9P3M/hCTZQ/0/zP0Dx6eB/T8wHxj+qhX+P/WZ+PeS/P4/7Odx7qkVAEDEmlsYOcgAQImgipsCiwFAwy7GiRBSAkBdp4d1pBEDQA09+H5EvwNANlOIonRSBEAxgALoA8UEQHeQ9knpEgVAX4t9XsI5BUBaPq4zGjgFQG3Od/OsDAVA6GvtQeC1BEDIt/bznTEEQJe+Lv+mfQNA9Vmh7VOYAkB1sHcDl4EBQKQpin78OwBAWIP/AL6a/T83+O0BKX76Pwf5SrDvOvc/iViLQbbt8z8=",
          "dtype": "f8"
         }
        },
        {
         "line": {
          "color": "lightgreen",
          "dash": "solid",
          "width": 3
         },
         "mode": "lines",
         "name": "Gemma-3-4B-IT",
         "type": "scatter",
         "x": {
          "bdata": "AAAAAAAAAABbv1Kg1q+EP1u/UqDWr5Q/CB988MEHnz9bv1Kg1q+kPzJvZ0jM26k/CB988MEHrz9wZ0jM2xmyP1u/UqDWr7Q/RhdddNFFtz8yb2dIzNu5Px3HcRzHcbw/CB988MEHvz96O0Ni3s7AP3BnSMzbGcI/ZZNNNtlkwz9bv1Kg1q/EP1HrVwrU+sU/RhdddNFFxz88Q2LezpDIPzJvZ0jM28k/J5tssskmyz8dx3Ecx3HMPxPzdobEvM0/CB988MEHzz9/pUCtXynQP3o7Q2LeztA/ddFFF1100T9wZ0jM2xnSP2r9SoFav9I/ZZNNNtlk0z9gKVDrVwrUP1u/UqDWr9Q/VlVVVVVV1T9R61cK1PrVP0yBWr9SoNY/RhdddNFF1z9BrV8pUOvXPzxDYt7OkNg/N9lkk0022T8yb2dIzNvZPy0Fav1Kgdo/J5tssskm2z8iMW9nSMzbPx3HcRzHcdw/GF100UUX3T8T83aGxLzdPw6JeTtDYt4/CB988MEH3z8DtX6lQK3fP3+lQK1fKeA/ffDBBx984D96O0Ni3s7gP3eGxLydIeE/ddFFF1104T9yHMdxHMfhP3BnSMzbGeI/bbLJJpts4j9q/UqBWr/iP2hIzNsZEuM/ZZNNNtlk4z9j3s6QmLfjP2ApUOtXCuQ/XnTRRRdd5D9bv1Kg1q/kP1gK1PqVAuU/VlVVVVVV5T9ToNavFKjlP1HrVwrU+uU/TjbZZJNN5j9MgVq/UqDmP0nM2xkS8+Y/RhdddNFF5z9EYt7OkJjnP0GtXylQ6+c/P/jggw8+6D88Q2LezpDoPzmO4ziO4+g/N9lkk0026T80JObtDInpPzJvZ0jM2+k/L7rooosu6j8tBWr9SoHqPypQ61cK1Oo/J5tssskm6z8l5u0MiXnrPyIxb2dIzOs/IHzwwQcf7D8dx3Ecx3HsPxsS83aGxOw/GF100UUX7T8VqPUrBWrtPxPzdobEvO0/ED744IMP7j8OiXk7Q2LuPwvU+pUCte4/CB988MEH7z8Gav1KgVrvPwO1fqVAre8/AAAAAAAA8D8=",
          "dtype": "f8"
         },
         "y": {
          "bdata": "15D3yIbvnzdlbUk6xigAOC0Vwn5spF04FT6sZg+kuDgP8WOziZASOQ+NmdFoWmk5gI0avIlhvzltPRzoG5oROofZ3RGe5WE6/HN+px9+sDpN2Wpm9Yz7OlcWAbRL20Q77LJLbyCfjDtgE04Y3szRO2R8iSB4ERQ8dPnk6QSCVDx0vg0IFv+SPKlea+ms5s889VOJdhRICD0zl6+zL8FAPcT/FEBI9nQ9jRv4qhrHpz1CjZ7xrHTYPXEpVxUezwY+NrkfmARLMz6zL5tRtJpdPrqh1R8Tm4Q+qn5w3G8Hqj4QG71pA9jNPrED0GWkEe8+2T66/ndhDT+Wl5DTnkApP6v78BuDvUM/cCKhnH8YXD9Oh7G8GjlyP+n5JLtnlIU/nYVr3rJglz/JNvOpAzynPyDOeeZmRLU/8JtnNHQFwj9R+PKyxnfMP3OO1FwlJNU/mk8q8ETV3T8sIXZjoDrkP0NPBDBcqOo/rTknDVM48T8B9yiaPe31P542zm39jvs/n6rbs5wRAUDD0EpDf8UEQLwVyX6EuwhANOyOiMCwDEDkzlaPJSUQQO8r5yndkRFA64ZIYNp0EkBhstlmYbwSQOYm4+ZveBJAnxfq8/fXEUAVNyMWCBkRQIqt480jcxBAohZ7jCoGEEDkk7Ns0agPQHFIFwfpjg9ATSJQZax1D0BnG8Ci2w4PQOG+0y79GQ5AuOUovVRyDEBKRK1K6BYKQKxpLvUbKwdA5lTc87ruA0Bq8kNbIK4AQLi4EPtfXPs/0Ey7Z2419j9wVWwoxPzxPzxrg9ZkH+0/ZYxeANVj5z9wtyiaVV7iP8w6qHe2vNs/TQhnduLU0z9QOPLWzorKP1pal9uFfMA/W2N/6dXmsj8RZBEJ7eujP/dTcgKNP5M/LN7/qrMDgT+pOLeZ5XlrPxmmPDhZPVQ/o3LpbdwsOz+7Gvd5zJwgP9etFxM1ewI/4/vtT2Cy4j4ZXTRQADHBPptQ/5qfuJw+Z9D4T7PJdT6CqnATpwJOPv1sPiwfwiI+NObLPlBH9T1IIUHQ5+XFPaiMkwMJcZQ9ldtITnJOYT0=",
          "dtype": "f8"
         }
        },
        {
         "line": {
          "color": "lightblue",
          "dash": "dash",
          "width": 3
         },
         "mode": "lines",
         "name": "Llama-3.1-70B-Instruct",
         "type": "scatter",
         "x": {
          "bdata": "AAAAAAAAAABbv1Kg1q+EP1u/UqDWr5Q/CB988MEHnz9bv1Kg1q+kPzJvZ0jM26k/CB988MEHrz9wZ0jM2xmyP1u/UqDWr7Q/RhdddNFFtz8yb2dIzNu5Px3HcRzHcbw/CB988MEHvz96O0Ni3s7AP3BnSMzbGcI/ZZNNNtlkwz9bv1Kg1q/EP1HrVwrU+sU/RhdddNFFxz88Q2LezpDIPzJvZ0jM28k/J5tssskmyz8dx3Ecx3HMPxPzdobEvM0/CB988MEHzz9/pUCtXynQP3o7Q2LeztA/ddFFF1100T9wZ0jM2xnSP2r9SoFav9I/ZZNNNtlk0z9gKVDrVwrUP1u/UqDWr9Q/VlVVVVVV1T9R61cK1PrVP0yBWr9SoNY/RhdddNFF1z9BrV8pUOvXPzxDYt7OkNg/N9lkk0022T8yb2dIzNvZPy0Fav1Kgdo/J5tssskm2z8iMW9nSMzbPx3HcRzHcdw/GF100UUX3T8T83aGxLzdPw6JeTtDYt4/CB988MEH3z8DtX6lQK3fP3+lQK1fKeA/ffDBBx984D96O0Ni3s7gP3eGxLydIeE/ddFFF1104T9yHMdxHMfhP3BnSMzbGeI/bbLJJpts4j9q/UqBWr/iP2hIzNsZEuM/ZZNNNtlk4z9j3s6QmLfjP2ApUOtXCuQ/XnTRRRdd5D9bv1Kg1q/kP1gK1PqVAuU/VlVVVVVV5T9ToNavFKjlP1HrVwrU+uU/TjbZZJNN5j9MgVq/UqDmP0nM2xkS8+Y/RhdddNFF5z9EYt7OkJjnP0GtXylQ6+c/P/jggw8+6D88Q2LezpDoPzmO4ziO4+g/N9lkk0026T80JObtDInpPzJvZ0jM2+k/L7rooosu6j8tBWr9SoHqPypQ61cK1Oo/J5tssskm6z8l5u0MiXnrPyIxb2dIzOs/IHzwwQcf7D8dx3Ecx3HsPxsS83aGxOw/GF100UUX7T8VqPUrBWrtPxPzdobEvO0/ED744IMP7j8OiXk7Q2LuPwvU+pUCte4/CB988MEH7z8Gav1KgVrvPwO1fqVAre8/AAAAAAAA8D8=",
          "dtype": "f8"
         },
         "y": {
          "bdata": "sTdpXXhDTDwBJnWP53xwPI9N8cfxppI8aTC/LpF1tDw8GwHAf8LVPGRzXpaxcPY8qaAUqYNwFj2BAwkMDcI1PcRERcQYdVQ9gvxIA8qmcj3LsRy9Z32QPbiXRIlNRqw9JkrPMtqBxz3FkPTA4fPiPRHR3gY3o/09KKYJpS95Fj6JhZl73oYwPuacHqQmk0c+XMAGNNFOYD48W+oBHuJ1PsnfzFqGe4w+IpPOz9D6oT4U9ndh/QS2Po3IXMQBKco+U/nsdcMm3j4qiqjVodvwPhpM6ZROSgI/EILuYW1BEz8B6+9HDawjPyMprPw5gTM/LixsBDzFQj9m+NqI54hRPwU21PFBzl8/jCSkVjICbD/L2SRk9/N3P0CXIieq5YM/x94sNqoOkD9cgichQy+ZP9/R9kluMqM/WtLUWmR0rD9Q6clIu4K0PyA7nEUPxbw/L9K94Oyjwz9VbRBTch3KPxaUYzP76tA/HaoFRW5f1T+nVII27FjaPynfMUf0uN8/Lp4gsf+r4j9cMl4QzITlP+y1xZfiUOg/XLvjZn/96j/Q7YRQ133tPy6xX0YWze8/y2LBD5X38D+pg5oSC/jxP7xqEx7n8PI/ZTGDvnHs8z8tH/RaSPT0P1R4ospxD/Y/YLu9yORA9z86wq1s04b4P3gGAiXq2vk/LacDb34z+z9BqF6fdIX8P8h9LDp5xv0/lwtJgxTv/j8VAfchJPz/P7ITXyCzdwBAS4wKKHrnAEAS9gPr4lEBQFhmpjLEuwFAD973xB4pAkBTIKlxDZwCQJ0lR/MMFANAgwU21L+NA0BRcQMOOQMEQF4+5Gy9bARAI1REutXBBEAWKLrXfvoEQDgZpU5DEAVAt5iIeBL/BEAxtC/juMUEQCO/5WrvZQRALKG6qwbkA0BHX5yMQEYDQHxim2/xkwJA0G6UAYfUAUBUTxzclA4BQBYkb3IHRwBAvLiAYzYB/z+9EP7HXXf9Pw9pFsH47Ps/2JTsRGRb+j/JWIlerLr4P2/xZQWWA/c/6GHUrIwx9T/F/11TFUTzP7Dr/u1/P/E/AKa/5W5Z7j8=",
          "dtype": "f8"
         }
        },
        {
         "line": {
          "color": "lightblue",
          "dash": "solid",
          "width": 3
         },
         "mode": "lines",
         "name": "Llama-3.3-70B-Instruct",
         "type": "scatter",
         "x": {
          "bdata": "AAAAAAAAAABbv1Kg1q+EP1u/UqDWr5Q/CB988MEHnz9bv1Kg1q+kPzJvZ0jM26k/CB988MEHrz9wZ0jM2xmyP1u/UqDWr7Q/RhdddNFFtz8yb2dIzNu5Px3HcRzHcbw/CB988MEHvz96O0Ni3s7AP3BnSMzbGcI/ZZNNNtlkwz9bv1Kg1q/EP1HrVwrU+sU/RhdddNFFxz88Q2LezpDIPzJvZ0jM28k/J5tssskmyz8dx3Ecx3HMPxPzdobEvM0/CB988MEHzz9/pUCtXynQP3o7Q2LeztA/ddFFF1100T9wZ0jM2xnSP2r9SoFav9I/ZZNNNtlk0z9gKVDrVwrUP1u/UqDWr9Q/VlVVVVVV1T9R61cK1PrVP0yBWr9SoNY/RhdddNFF1z9BrV8pUOvXPzxDYt7OkNg/N9lkk0022T8yb2dIzNvZPy0Fav1Kgdo/J5tssskm2z8iMW9nSMzbPx3HcRzHcdw/GF100UUX3T8T83aGxLzdPw6JeTtDYt4/CB988MEH3z8DtX6lQK3fP3+lQK1fKeA/ffDBBx984D96O0Ni3s7gP3eGxLydIeE/ddFFF1104T9yHMdxHMfhP3BnSMzbGeI/bbLJJpts4j9q/UqBWr/iP2hIzNsZEuM/ZZNNNtlk4z9j3s6QmLfjP2ApUOtXCuQ/XnTRRRdd5D9bv1Kg1q/kP1gK1PqVAuU/VlVVVVVV5T9ToNavFKjlP1HrVwrU+uU/TjbZZJNN5j9MgVq/UqDmP0nM2xkS8+Y/RhdddNFF5z9EYt7OkJjnP0GtXylQ6+c/P/jggw8+6D88Q2LezpDoPzmO4ziO4+g/N9lkk0026T80JObtDInpPzJvZ0jM2+k/L7rooosu6j8tBWr9SoHqPypQ61cK1Oo/J5tssskm6z8l5u0MiXnrPyIxb2dIzOs/IHzwwQcf7D8dx3Ecx3HsPxsS83aGxOw/GF100UUX7T8VqPUrBWrtPxPzdobEvO0/ED744IMP7j8OiXk7Q2LuPwvU+pUCte4/CB988MEH7z8Gav1KgVrvPwO1fqVAre8/AAAAAAAA8D8=",
          "dtype": "f8"
         },
         "y": {
          "bdata": "W4QbYZUFOT1RQTNTVNpUPZg+AbJY8HA9ZbmGz7vSij3dmIJYcbOkPZ0BtLEpJb89EUg4ionW1j0apcLY/1LwPTA2+xeUvwY+1vHtyv3mHj6Tf/SeHnY0PsoTkzRNako+8OOMjWafYD4JepfdZGV0PrUNPQM4Zog+jP//CFJ1nD4vEhWLji6wPuF4yiuh8cE+JTqZNhhn0z4LYIxDlnXkPmOcFsgFCvU+0lzEdtYZBT8VUxJzPaQUP8zPUmVDsiM//5vItp9VMj8kQlZMlKZAP3pYmF5Lgk0/3u5mEkGEWT/RthQet4hlPwowar8dvXE/niJSGdmHfD9inDExL2eGP/H0KRIRLpE/0+fnS/K8mT/3YuHkQtaiP4dsc+g88qo/zzyI+EnXsj/dh2Qqx8O5P+ti66+tO8E/loGbTpGPxj+gi09mDOvMPwfJMenZJ9I/ITVhjKBY1j/FmJTmf/raP+Y4mRF2+d8/5mtl+SSe4j9nxaWsXlPlP3JvyTwcDug/Co1yK0PB6j/a+WJoFWLtP/1Ctdvx6O8/iW27CcIo8T/T1I4VLE3yP2Vv8on0YfM/i0b0g69n9D+Wbi89pV71P8rwcGlXRvY/J23hJVId9z9qq4UnXeH3P5fk2pAMkPg/RxZHypkn+T+kR0so2af5PwnJvMgVE/o/NbFw0Jxu+j99RqOGzML6PzaiqZCQGvs/d0s/qU6C+z8K0hCPYQb8P/wgFL5Vsfw/0xlqMimK/T/iePj30pL+P0e9XGFQx/8/4LGoyLKOAEALcUjek0IBQH7beg4m9QFAsZAvNw2bAkClHIxk5CgDQKQXoE16lANAWvg1XPLVA0Bk5kCHougDQGp0CtmOywNACpaxOnGBA0AOJwzfTBADQL35+oWdgAJAkBSJ20DcAUAL/bYVQS0BQIDPZXSqfABAgfdbDCOj/z/PL4KlzmD+P0IukGNZNf0/qkGcVBIe/D9BcJrbehP7P7VDNxa+Cvo/FAX7HYb3+D8ikmHj8M33PyvjRa1jhPY/DpWhPgEV9T+sjbx3k37zP6BgSxTNxPE/+TnMJsHf7z8=",
          "dtype": "f8"
         }
        },
        {
         "line": {
          "color": "lightblue",
          "dash": "dashdot",
          "width": 3
         },
         "mode": "lines",
         "name": "Llama-4-Maverick-17B",
         "type": "scatter",
         "x": {
          "bdata": "AAAAAAAAAABbv1Kg1q+EP1u/UqDWr5Q/CB988MEHnz9bv1Kg1q+kPzJvZ0jM26k/CB988MEHrz9wZ0jM2xmyP1u/UqDWr7Q/RhdddNFFtz8yb2dIzNu5Px3HcRzHcbw/CB988MEHvz96O0Ni3s7AP3BnSMzbGcI/ZZNNNtlkwz9bv1Kg1q/EP1HrVwrU+sU/RhdddNFFxz88Q2LezpDIPzJvZ0jM28k/J5tssskmyz8dx3Ecx3HMPxPzdobEvM0/CB988MEHzz9/pUCtXynQP3o7Q2LeztA/ddFFF1100T9wZ0jM2xnSP2r9SoFav9I/ZZNNNtlk0z9gKVDrVwrUP1u/UqDWr9Q/VlVVVVVV1T9R61cK1PrVP0yBWr9SoNY/RhdddNFF1z9BrV8pUOvXPzxDYt7OkNg/N9lkk0022T8yb2dIzNvZPy0Fav1Kgdo/J5tssskm2z8iMW9nSMzbPx3HcRzHcdw/GF100UUX3T8T83aGxLzdPw6JeTtDYt4/CB988MEH3z8DtX6lQK3fP3+lQK1fKeA/ffDBBx984D96O0Ni3s7gP3eGxLydIeE/ddFFF1104T9yHMdxHMfhP3BnSMzbGeI/bbLJJpts4j9q/UqBWr/iP2hIzNsZEuM/ZZNNNtlk4z9j3s6QmLfjP2ApUOtXCuQ/XnTRRRdd5D9bv1Kg1q/kP1gK1PqVAuU/VlVVVVVV5T9ToNavFKjlP1HrVwrU+uU/TjbZZJNN5j9MgVq/UqDmP0nM2xkS8+Y/RhdddNFF5z9EYt7OkJjnP0GtXylQ6+c/P/jggw8+6D88Q2LezpDoPzmO4ziO4+g/N9lkk0026T80JObtDInpPzJvZ0jM2+k/L7rooosu6j8tBWr9SoHqPypQ61cK1Oo/J5tssskm6z8l5u0MiXnrPyIxb2dIzOs/IHzwwQcf7D8dx3Ecx3HsPxsS83aGxOw/GF100UUX7T8VqPUrBWrtPxPzdobEvO0/ED744IMP7j8OiXk7Q2LuPwvU+pUCte4/CB988MEH7z8Gav1KgVrvPwO1fqVAre8/AAAAAAAA8D8=",
          "dtype": "f8"
         },
         "y": {
          "bdata": "6MZL50dN/jrOj8PHPisvOzCSrBUDtl47CnwwLV38jDtw84MsqzS6O3DhAC7hseY720flaKzTEjzv4MKfzus9PBQqAhGHxmY89AvZyUKbkDzPAA4WgzK3PJ3ymJkqCt88LGcE2XbkAz3a8Hg8bmwoPTL5LB5xuUw9J8F5ZyEucD3QxDhTA3aRPQGKsdvKDLI9p5xz8pjf0T0VIJz4JPTwPc4d36EZzw4+g3+dKtTQKj5dqSvgqltGPsH3GZp322E+uQIRc1dTez7j3cveNweUPtYJVncxIKw+dbnqM2Prwj7zwhVSu2LYPrAtNyRJHe4+AAP3lRjRAT9geo0ZzjMUPz0LFshM9CU/FKNkl5jeNj8VHjMJTtdGP50aaKAS4VU/b5eQk9MbZD9ek98IEr5xPyyCd2dSFH4/XV2qkuuEiD+Lc1vDhT6TP/PpTK3qIZ0/VzHA5v5OpT9qZSlQcDKuPw469Fi7ybQ/UX85oxDmuz8WqKXoo0/CP3h15ZvElsc/a87zpxzozT9+8uX1C7LSPwA7dyWkEtc/vakfrXob3D9S/QgY2+LgP1tYapF3/eM/xbr+pthK5z+IE19qM7PqP1drqu76He4/omDfYnO78D9rzhdyElnyP8QiKcEr5/M/02onC99p9T/S8Xypduj2P6pnozYqa/g/vd+J9A75+T8w6uOk0Jb7P8LSqetlRv0/HLbgKIUH/z+uJNIIL2wAQNbx0P8QWwFAiqnprJFOAkB2HwQGUUQDQOEbIKVFOQRA8JN9qLcpBUBJW7gXYREGQGuWxQKj6wZAV559RbCzB0BlWfjUlWQIQFlTQr0f+QhAdKHSVbNrCUDIDdJgRLYJQGqAP4KF0glA0CJIIGG6CUAglu8gsWgJQIq+H6Mb2ghAwCHoLvMNCEDOuARw9QYHQIUzdf6+ywVAy/x+zsVmBED6/66sr+UCQPLRHVTyVwFAou2fHLaZ/z+o/QBPsaL8P+TNYyEk3Pk/lX+hsLRM9z9LcN90w/D0P5I+7lhMvfI/zCsZK3uk8D9WvPJVKzXtP4wGfj6NM+k/xs8hY4VH5T8=",
          "dtype": "f8"
         }
        },
        {
         "line": {
          "color": "lightblue",
          "dash": "dot",
          "width": 3
         },
         "mode": "lines",
         "name": "Llama-4-Scout-17B",
         "type": "scatter",
         "x": {
          "bdata": "AAAAAAAAAABbv1Kg1q+EP1u/UqDWr5Q/CB988MEHnz9bv1Kg1q+kPzJvZ0jM26k/CB988MEHrz9wZ0jM2xmyP1u/UqDWr7Q/RhdddNFFtz8yb2dIzNu5Px3HcRzHcbw/CB988MEHvz96O0Ni3s7AP3BnSMzbGcI/ZZNNNtlkwz9bv1Kg1q/EP1HrVwrU+sU/RhdddNFFxz88Q2LezpDIPzJvZ0jM28k/J5tssskmyz8dx3Ecx3HMPxPzdobEvM0/CB988MEHzz9/pUCtXynQP3o7Q2LeztA/ddFFF1100T9wZ0jM2xnSP2r9SoFav9I/ZZNNNtlk0z9gKVDrVwrUP1u/UqDWr9Q/VlVVVVVV1T9R61cK1PrVP0yBWr9SoNY/RhdddNFF1z9BrV8pUOvXPzxDYt7OkNg/N9lkk0022T8yb2dIzNvZPy0Fav1Kgdo/J5tssskm2z8iMW9nSMzbPx3HcRzHcdw/GF100UUX3T8T83aGxLzdPw6JeTtDYt4/CB988MEH3z8DtX6lQK3fP3+lQK1fKeA/ffDBBx984D96O0Ni3s7gP3eGxLydIeE/ddFFF1104T9yHMdxHMfhP3BnSMzbGeI/bbLJJpts4j9q/UqBWr/iP2hIzNsZEuM/ZZNNNtlk4z9j3s6QmLfjP2ApUOtXCuQ/XnTRRRdd5D9bv1Kg1q/kP1gK1PqVAuU/VlVVVVVV5T9ToNavFKjlP1HrVwrU+uU/TjbZZJNN5j9MgVq/UqDmP0nM2xkS8+Y/RhdddNFF5z9EYt7OkJjnP0GtXylQ6+c/P/jggw8+6D88Q2LezpDoPzmO4ziO4+g/N9lkk0026T80JObtDInpPzJvZ0jM2+k/L7rooosu6j8tBWr9SoHqPypQ61cK1Oo/J5tssskm6z8l5u0MiXnrPyIxb2dIzOs/IHzwwQcf7D8dx3Ecx3HsPxsS83aGxOw/GF100UUX7T8VqPUrBWrtPxPzdobEvO0/ED744IMP7j8OiXk7Q2LuPwvU+pUCte4/CB988MEH7z8Gav1KgVrvPwO1fqVAre8/AAAAAAAA8D8=",
          "dtype": "f8"
         },
         "y": {
          "bdata": "j+4D+AXuoTuch0BXScPKO0YIuVGvRvM7QPV2rE/MGjyupzbQR/pBPLnhS8uUR2c8KN/vczIYjTw4DUCgNIyxPNh+owchbtQ8XtHSWX319jzz6Jf3decYPf0rkgiKEzo99SsdOlZbWj0J/R79qLd5PZHa9/ayOZg95C9z4g0Itj0o8CoAUFjTPVYMi7imZvA9UrZLo5HaCj4BN8uwzjolPmiq9j5rNUA+QCrd6YnnVz7Rw/BxrQZxPnvSMF3VbYc+dVAIooElnz5hbp1GwQC0PrnCkfSV08g+H+VPTCXH3T7fJA0Zr0LxPnwtFAqgVwM/e4fKX3v0FD97IVlcePMlP2d+DKqsPDY/ZGd5qsTJRT8IvN0b6aZUPyPJLKGl8GI/oxry20/PcD9GlYT/6OF8P1PLK+AXBog/OY67uUBakz843k5DzzSePytdMP/b2KY/5vbxmaDBsD83omp70Ni3P+hZZcfkecA/Ppu4Lnkgxj800KFlCurMPz0LNKXoaNI/ORh9JR7j1j/5/3NaL9fbP4LDLq+LnOA/mbNrsOuA4z8GUSr3kJnmP+SG0GBT7Ok/Lo2RGPOC7T9ASzoDELTwP23h/EqA0fI/rraSZw4Z9T/VlwMsdIP3P5YaGF+XAfo/5oHq7qt8/D/bepww89f+P+gQ0zf3eQBANyB7RENZAUAxmktmuP0BQK4c5gEEYAJAhtN59fR+AkC+/4sV818CQBo7im6ODgJAHV16oj6bAUBFAJ33ixkBQJgUlFXunQBAQaZj7K87AEDp6iOEEwMAQFF0urbO//8/h6u89ZQ4AEClajWnq60AQBRl8i3bWQFA39j81VQyAkBDtV6ijycDQKPTxN1vJgRAZ+dzTs4ZBUBmAuMGTewFQNz3iZRSigZA5SwGoe/jBkCuK/r+Z+4GQHQ3f3odpQZASjBKV7IJBkBugFGUXiMFQJ0asyic/QNAOuBQ52+mAkDANhoHpSwBQD0oIU6YPP8/zh+ogGwP/D9JnwNLAOb4Px7YfS490PU/MOHCSn/a8j8Lv8LrlA7wP92jgi4v6eo/gnL6f78m5j8=",
          "dtype": "f8"
         }
        },
        {
         "line": {
          "color": "lightcoral",
          "dash": "solid",
          "width": 3
         },
         "mode": "lines",
         "name": "Qwen3-14B",
         "type": "scatter",
         "x": {
          "bdata": "AAAAAAAAAABbv1Kg1q+EP1u/UqDWr5Q/CB988MEHnz9bv1Kg1q+kPzJvZ0jM26k/CB988MEHrz9wZ0jM2xmyP1u/UqDWr7Q/RhdddNFFtz8yb2dIzNu5Px3HcRzHcbw/CB988MEHvz96O0Ni3s7AP3BnSMzbGcI/ZZNNNtlkwz9bv1Kg1q/EP1HrVwrU+sU/RhdddNFFxz88Q2LezpDIPzJvZ0jM28k/J5tssskmyz8dx3Ecx3HMPxPzdobEvM0/CB988MEHzz9/pUCtXynQP3o7Q2LeztA/ddFFF1100T9wZ0jM2xnSP2r9SoFav9I/ZZNNNtlk0z9gKVDrVwrUP1u/UqDWr9Q/VlVVVVVV1T9R61cK1PrVP0yBWr9SoNY/RhdddNFF1z9BrV8pUOvXPzxDYt7OkNg/N9lkk0022T8yb2dIzNvZPy0Fav1Kgdo/J5tssskm2z8iMW9nSMzbPx3HcRzHcdw/GF100UUX3T8T83aGxLzdPw6JeTtDYt4/CB988MEH3z8DtX6lQK3fP3+lQK1fKeA/ffDBBx984D96O0Ni3s7gP3eGxLydIeE/ddFFF1104T9yHMdxHMfhP3BnSMzbGeI/bbLJJpts4j9q/UqBWr/iP2hIzNsZEuM/ZZNNNtlk4z9j3s6QmLfjP2ApUOtXCuQ/XnTRRRdd5D9bv1Kg1q/kP1gK1PqVAuU/VlVVVVVV5T9ToNavFKjlP1HrVwrU+uU/TjbZZJNN5j9MgVq/UqDmP0nM2xkS8+Y/RhdddNFF5z9EYt7OkJjnP0GtXylQ6+c/P/jggw8+6D88Q2LezpDoPzmO4ziO4+g/N9lkk0026T80JObtDInpPzJvZ0jM2+k/L7rooosu6j8tBWr9SoHqPypQ61cK1Oo/J5tssskm6z8l5u0MiXnrPyIxb2dIzOs/IHzwwQcf7D8dx3Ecx3HsPxsS83aGxOw/GF100UUX7T8VqPUrBWrtPxPzdobEvO0/ED744IMP7j8OiXk7Q2LuPwvU+pUCte4/CB988MEH7z8Gav1KgVrvPwO1fqVAre8/AAAAAAAA8D8=",
          "dtype": "f8"
         },
         "y": {
          "bdata": "Ggdi1JCqwjz+mjtSi4HjPLwKWa8ivwM9H3a9JZVdIz0c0hLUAGZCPZrTMfb77mA94Zv1xF0yfj3O65RRShWaPZhdYDmH07U9izpuNZux0T3NtoKQq8rrPXoZhMUXJQU+Q20YBt8rHz6pdFBcXEI2Pn2c/KN3zE4+FZi6FY+kZD6W2uaiL896PvKloHTj3ZA+V1tI3f2PpD5o5/H+0km4PsfjNNROzMs+noHufeDT3j5O5/fWYJDwPsQfe9HQPwE/4Tf8BIloET8G2qJ3GwchPxzVcBXgJDA/h7i9VfqsPT/rP+ffmXFKP/YLJ8SK2VY/kafO0V8mYz/nYgOWzSNvP5rtifr0kXg/dGq4/x/Sgj8E2R0zewGMP0rl+u8tQJQ/aKkNzf57nD+rfWj+zoCjPzny7qZtCKo/ehEIJyH2sD9yTO92IZ61P7APuYnfArs/MnAUlgyXwD9CRN27WRnEP2PGDdm+Gcg/UvdMhI+0zD/FyJu8UgnRP4XfTfVUNNQ/ncYq4Kj51z8Jp3YDI3jcP5QDU8MG5eA/+BWRTZ//4z+rd9gbnYvnP0Nn1PBHfus/uDLbuFjB7z9GWYmy0RnyPwCgKAvgVfQ/w51/x0p+9j/09MJcnX34P3tOcaqhQvo/0EXKRSfD+z9vh81y1f38P9Vqv/6R+v0/G6Zs90bJ/j/hitLkJH//PyJDZ0JqGQBAgYLyhiZ8AEAOuWwnkO4AQCkeDTv9cgFAl26F++gGAkDGA7r5caMCQGgdpMCZPgNA0Q5Cx/jMA0C4KnvNhkMEQJLjobkemQRAndgB6oHHBEAib9cdx8sEQINkQShHpgRAVNhlFTJaBEDdv0m6/OwDQJcc8bHKZQNAJhCEaOPMAkDToVhGLCsCQHkXgtaWiQFApXDVunPwAEAwlWixqGYAQLnM++y14f8/zEDpxGAh/z9QX++hpIj+P+lOOUa0DP4/hYU3SICc/T9nBXoZnCL9P5z+5Xj3h/w/YYKtTwq3+z9E91gB8576P2X7CgQCNvk/QPuZZkN79z83RSDuw3b1PzZhdV6KOPM/M8ZDh3nW8D8=",
          "dtype": "f8"
         }
        },
        {
         "line": {
          "color": "lightcoral",
          "dash": "longdash",
          "width": 3
         },
         "mode": "lines",
         "name": "Qwen3-235B",
         "type": "scatter",
         "x": {
          "bdata": "AAAAAAAAAABbv1Kg1q+EP1u/UqDWr5Q/CB988MEHnz9bv1Kg1q+kPzJvZ0jM26k/CB988MEHrz9wZ0jM2xmyP1u/UqDWr7Q/RhdddNFFtz8yb2dIzNu5Px3HcRzHcbw/CB988MEHvz96O0Ni3s7AP3BnSMzbGcI/ZZNNNtlkwz9bv1Kg1q/EP1HrVwrU+sU/RhdddNFFxz88Q2LezpDIPzJvZ0jM28k/J5tssskmyz8dx3Ecx3HMPxPzdobEvM0/CB988MEHzz9/pUCtXynQP3o7Q2LeztA/ddFFF1100T9wZ0jM2xnSP2r9SoFav9I/ZZNNNtlk0z9gKVDrVwrUP1u/UqDWr9Q/VlVVVVVV1T9R61cK1PrVP0yBWr9SoNY/RhdddNFF1z9BrV8pUOvXPzxDYt7OkNg/N9lkk0022T8yb2dIzNvZPy0Fav1Kgdo/J5tssskm2z8iMW9nSMzbPx3HcRzHcdw/GF100UUX3T8T83aGxLzdPw6JeTtDYt4/CB988MEH3z8DtX6lQK3fP3+lQK1fKeA/ffDBBx984D96O0Ni3s7gP3eGxLydIeE/ddFFF1104T9yHMdxHMfhP3BnSMzbGeI/bbLJJpts4j9q/UqBWr/iP2hIzNsZEuM/ZZNNNtlk4z9j3s6QmLfjP2ApUOtXCuQ/XnTRRRdd5D9bv1Kg1q/kP1gK1PqVAuU/VlVVVVVV5T9ToNavFKjlP1HrVwrU+uU/TjbZZJNN5j9MgVq/UqDmP0nM2xkS8+Y/RhdddNFF5z9EYt7OkJjnP0GtXylQ6+c/P/jggw8+6D88Q2LezpDoPzmO4ziO4+g/N9lkk0026T80JObtDInpPzJvZ0jM2+k/L7rooosu6j8tBWr9SoHqPypQ61cK1Oo/J5tssskm6z8l5u0MiXnrPyIxb2dIzOs/IHzwwQcf7D8dx3Ecx3HsPxsS83aGxOw/GF100UUX7T8VqPUrBWrtPxPzdobEvO0/ED744IMP7j8OiXk7Q2LuPwvU+pUCte4/CB988MEH7z8Gav1KgVrvPwO1fqVAre8/AAAAAAAA8D8=",
          "dtype": "f8"
         },
         "y": {
          "bdata": "QUoEiUg/ozzjJArR7szEPKj3xo5UyeU801LVG6sdBj3XMfffK8IlPTyLuhVHv0Q956A/KVssYz3Unqn3OSyBPZnA129n0J09a6RUK0MVuT2ssIta23PUPXaa/Xe/KfA9vPxnn2fCCD7Xp1rcLmEiPodNlV1ocjo+kywgUgZxUj6WUnUkNO1oPgmTQgTOU4A+VM0XZR+7lD67ZCHhFYOpPleBfOAGbr4+EUasHO6W0T400FJesbXjPkPSQhgsaPU+Pbg011aJBj/3lz99fP8WP2QkEvoEwCY/ylap8QrRNT8vREScZ0hEP/iCJTJpSFI/U9t1IMb1Xz8YkjaIJhdrP0GLg/nLRXY/MWz2Nd3DgT/wYVJXTICLP3qaEPr2qZQ/0s3rPXkonj+FR06fiWKlP9U4Eaq2fa0/Fzyy66HKsz/ArD+7EuK5P1yp3d5rg8A/51+jGc+XxD+S7KMQ0CXJP55wOYRFJM4/yxPR/mnG0T81gjpypK/UP/ITrnPl0dc/BxbfeY012z+MbrlzR+beP8Rs6sOAeOE/aAyjrKOw4z+OAUN9SR/mPyeBCHwYxeg/acJfNhif6z+5TO4SyqbuP8hu5U1q6fA/0ouMJQiM8j+HVCS8VzX0P3Sf34Wc3/U/VcufWo+F9z8bgapqayL5PzNJYBvEsfo/t8USVDwv/D+RMGwhQ5b9P8CFMkj74f4/gLRe77QGAEBtzAdN+okAQAB+9L4P+QBAQlcE3zBTAUDUgU8d7ZgBQC8me3RVzAFA6LDT4+jwAUA4p4J5OQsCQAySmGVVIAJAduqZhw81AkDg3QhxTE0CQD6qBuN4awJAGkYaAkWQAkDrkSplrroCQCxaw35P6AJABEAcL9oVA0AtePc+mj8DQGPYw43dYQNA8E3Cbyp5A0AT8nTmPYIDQL2gbA7eeQNAw+X795tcA0D2w17ipiYDQDcmeHXP0wJAcegO38xfAkBIFo38wsYBQMFNxwX1BQFAuYlP54AcAEBtnSTS8Rf+P8zhLJ9qsfs/JdI7yIoT+T/DweJM9lD2P48NK3dDf/M/+F+rn/608D8=",
          "dtype": "f8"
         }
        },
        {
         "line": {
          "color": "lightcoral",
          "dash": "dot",
          "width": 3
         },
         "mode": "lines",
         "name": "Qwen3-32B",
         "type": "scatter",
         "x": {
          "bdata": "AAAAAAAAAABbv1Kg1q+EP1u/UqDWr5Q/CB988MEHnz9bv1Kg1q+kPzJvZ0jM26k/CB988MEHrz9wZ0jM2xmyP1u/UqDWr7Q/RhdddNFFtz8yb2dIzNu5Px3HcRzHcbw/CB988MEHvz96O0Ni3s7AP3BnSMzbGcI/ZZNNNtlkwz9bv1Kg1q/EP1HrVwrU+sU/RhdddNFFxz88Q2LezpDIPzJvZ0jM28k/J5tssskmyz8dx3Ecx3HMPxPzdobEvM0/CB988MEHzz9/pUCtXynQP3o7Q2LeztA/ddFFF1100T9wZ0jM2xnSP2r9SoFav9I/ZZNNNtlk0z9gKVDrVwrUP1u/UqDWr9Q/VlVVVVVV1T9R61cK1PrVP0yBWr9SoNY/RhdddNFF1z9BrV8pUOvXPzxDYt7OkNg/N9lkk0022T8yb2dIzNvZPy0Fav1Kgdo/J5tssskm2z8iMW9nSMzbPx3HcRzHcdw/GF100UUX3T8T83aGxLzdPw6JeTtDYt4/CB988MEH3z8DtX6lQK3fP3+lQK1fKeA/ffDBBx984D96O0Ni3s7gP3eGxLydIeE/ddFFF1104T9yHMdxHMfhP3BnSMzbGeI/bbLJJpts4j9q/UqBWr/iP2hIzNsZEuM/ZZNNNtlk4z9j3s6QmLfjP2ApUOtXCuQ/XnTRRRdd5D9bv1Kg1q/kP1gK1PqVAuU/VlVVVVVV5T9ToNavFKjlP1HrVwrU+uU/TjbZZJNN5j9MgVq/UqDmP0nM2xkS8+Y/RhdddNFF5z9EYt7OkJjnP0GtXylQ6+c/P/jggw8+6D88Q2LezpDoPzmO4ziO4+g/N9lkk0026T80JObtDInpPzJvZ0jM2+k/L7rooosu6j8tBWr9SoHqPypQ61cK1Oo/J5tssskm6z8l5u0MiXnrPyIxb2dIzOs/IHzwwQcf7D8dx3Ecx3HsPxsS83aGxOw/GF100UUX7T8VqPUrBWrtPxPzdobEvO0/ED744IMP7j8OiXk7Q2LuPwvU+pUCte4/CB988MEH7z8Gav1KgVrvPwO1fqVAre8/AAAAAAAA8D8=",
          "dtype": "f8"
         },
         "y": {
          "bdata": "Jh2pFLwOajxIQSmh3bSQPJyTVzpQpLQ8kWQKmS+T2DxYahJPAzH8PJvrIjhwKR89JAiVAVqYQD1X07cSBQhhPSxNfiuX14A9OwNw/VkMoD0VvzxrH3i9PbdqCy06Eto9hFIk4oA59j0mAz5OW0ESPr0D5KGq5Sw+8oDEwLkJRj6zZxmU0jFgPqrIrrEf73Y+zFEKM4BLjz4n6b728pKkPpfxY0vyELo+VXVu+kzSzz7igsGHXLfiPkx9HCjxNvU+3b69U70rBz8IkYo53WIYP7x9EqI1uyg/u5C+x0UrOD9CHVL82sJGP9vMu7I5qFQ/ZAVeF3ARYj8dkjec3HZuP9lIu3vUwXg/0W3vStNlgz/17RUNp1CNPyi+boECX5U/nBgTBk0Unj8I+KTBWnOkP0O1cjPH5ao/X3J/p0kjsT+F85bGezW1P2cx/dyikrk/wzpgniMsvj8LYC3lVoPBP10cdO7tIcQ/otr7BZkTxz8WKrOH64nKP4HrYbbtwM4/eAd2OP760T/uY3qlMy7VP/7YBjEHCdk/41XPSDuL3T8sJnzImVHhP0RHTTlSF+Q/Tuj0bxv/5j9hK3HX2e3pP2eluBL1yOw/U8GW4qV67z+XBZq7BvvwP1L3UmE/HfI/RWYmGLEq8z91ItcUFDH0P+OXtNnxQ/U/zNQYFzh69j8Wztbguur3P6Kwb9QTqPk/1monnYq8+z+X0Mah1yb+P1Im8GhEbABAcUZsN0nbAUC/hhkaFU4DQIwHjBLFrwRAjgsth+HrBUBe8mhhP/EGQCjwS8lGtAdAWI0Xsi4wCEBBae9v+WYIQMciHi1HYAhAT19WL1QnCECwLkDFocgHQC/Ou/TPTwdA0j3R2BPGBkAnbIVwhDEGQKAZcaY8lQVAa6bywB3yBEB9Rrio3UcEQHaHiVEGlgNAD5IHp53cAkD9qXeTUBwCQOZBH8UlVgFAIdaC1OKKAEBERBuxzXT/PzkRY8eDxv0/6FBjEH8F/D+UZk6A7ir6P/ApYfaTMPg/5yhVsBoT9j+LaYVcINTzP0uQYgJSe/E/lZpvXnUs7j8=",
          "dtype": "f8"
         }
        },
        {
         "line": {
          "color": "lightcoral",
          "dash": "solid",
          "width": 3
         },
         "mode": "lines",
         "name": "Qwen3-4B",
         "type": "scatter",
         "x": {
          "bdata": "AAAAAAAAAABbv1Kg1q+EP1u/UqDWr5Q/CB988MEHnz9bv1Kg1q+kPzJvZ0jM26k/CB988MEHrz9wZ0jM2xmyP1u/UqDWr7Q/RhdddNFFtz8yb2dIzNu5Px3HcRzHcbw/CB988MEHvz96O0Ni3s7AP3BnSMzbGcI/ZZNNNtlkwz9bv1Kg1q/EP1HrVwrU+sU/RhdddNFFxz88Q2LezpDIPzJvZ0jM28k/J5tssskmyz8dx3Ecx3HMPxPzdobEvM0/CB988MEHzz9/pUCtXynQP3o7Q2LeztA/ddFFF1100T9wZ0jM2xnSP2r9SoFav9I/ZZNNNtlk0z9gKVDrVwrUP1u/UqDWr9Q/VlVVVVVV1T9R61cK1PrVP0yBWr9SoNY/RhdddNFF1z9BrV8pUOvXPzxDYt7OkNg/N9lkk0022T8yb2dIzNvZPy0Fav1Kgdo/J5tssskm2z8iMW9nSMzbPx3HcRzHcdw/GF100UUX3T8T83aGxLzdPw6JeTtDYt4/CB988MEH3z8DtX6lQK3fP3+lQK1fKeA/ffDBBx984D96O0Ni3s7gP3eGxLydIeE/ddFFF1104T9yHMdxHMfhP3BnSMzbGeI/bbLJJpts4j9q/UqBWr/iP2hIzNsZEuM/ZZNNNtlk4z9j3s6QmLfjP2ApUOtXCuQ/XnTRRRdd5D9bv1Kg1q/kP1gK1PqVAuU/VlVVVVVV5T9ToNavFKjlP1HrVwrU+uU/TjbZZJNN5j9MgVq/UqDmP0nM2xkS8+Y/RhdddNFF5z9EYt7OkJjnP0GtXylQ6+c/P/jggw8+6D88Q2LezpDoPzmO4ziO4+g/N9lkk0026T80JObtDInpPzJvZ0jM2+k/L7rooosu6j8tBWr9SoHqPypQ61cK1Oo/J5tssskm6z8l5u0MiXnrPyIxb2dIzOs/IHzwwQcf7D8dx3Ecx3HsPxsS83aGxOw/GF100UUX7T8VqPUrBWrtPxPzdobEvO0/ED744IMP7j8OiXk7Q2LuPwvU+pUCte4/CB988MEH7z8Gav1KgVrvPwO1fqVAre8/AAAAAAAA8D8=",
          "dtype": "f8"
         },
         "y": {
          "bdata": "6IfZbHOqoT3NSBf0xGu5PTfJ7mZu4NE9sYrYIh6T6D3Je7sBioIAPq+G1EL4rhU+wQe56T/WKz7aBZj1ZXdBPhKlXj0mbVU+Dts7K8mxaT7uVY/HXR9+PvEl7zYLQ5E+MD69lJxXoz6gdvO3qjC1PlBOLxmqssY+seaCI+PF1z7oksDG3VjoPppWC0A5Yvg+P3bSparhBz+Tji+R/N8WP8NlrSwRbiU/BRU7ZA6jMz/gfyJ6+plBP32fM7NA3k4/EfXJbyh7Wj+jPNEERzpmPwPe7HzFQXI/swJxg7pZfT/N4N0FZReHP1eD50iXyJE/Skq/oDzRmj8jvT2BpMyjP2JEF0kJoqw/bZn/zehHtD+cax1uUCa8P2PddrhWJcM/nkR/JAyIyT845/sZl7HQP/eveUBLatU/tjc2Rdv12j+zs0eZdKngP52TFIbYOuQ/d6ib3cQj6D80hyHerVPsP71jpKPEWvA/OAGQfXqY8j+2KAb11dX0PwXndlaPBfc/Fjyx0QAb+T8GJxNx0wr7P4WSKLSCy/w/4tkbEK9V/j9lUfZPP6T/P6RwHY8rWgBAHuYvc5bCAEAsUIxA5QsBQLnapKNhNwFAExcFE/RGAUACLTIKAD0BQN0dL7hEHAFAgLgRr8PnAEB/0wV3rqIAQOXx3wZbUABACzmk13vo/z+cvQjnziP/P48aIar/Wf4/4ISTRXuS/T9sDdVypNT8P4nkMUCTJ/w/O1uOXryR+z9dlaKAhxj7P15eOXfiv/o/+upgXuKJ+j/GifYNhHb6P3+17cGYg/o/tkzTZeSs+j/k+a7kaez6P5VlT5jZOvs/OxeYjRCQ+z+jE6wjluP7P4rXWLsILfw/r7H/rXBk/D8X2DimeIL8P82HpHiRgPw/WpPE2wtZ/D+xGuDYMgf8P97rI6duh/s/JSfe/nHX+j+VSaufbfb5P7HYZZ9A5fg/yCxjiZmm9z8JnGf4/D72P4DJgeCptPQ/MkVxMFkP8z9rRDBu3FfxP/KxykFIL+8/Kuewf3Sw6z+6MfcLfEXoPxXFtRTb/uQ/dEZNro3q4T8=",
          "dtype": "f8"
         }
        },
        {
         "line": {
          "color": "lightblue",
          "dash": "longdash",
          "width": 3
         },
         "mode": "lines",
         "name": "Transluce-Explainer-Llama-8B",
         "type": "scatter",
         "x": {
          "bdata": "AAAAAAAAAABbv1Kg1q+EP1u/UqDWr5Q/CB988MEHnz9bv1Kg1q+kPzJvZ0jM26k/CB988MEHrz9wZ0jM2xmyP1u/UqDWr7Q/RhdddNFFtz8yb2dIzNu5Px3HcRzHcbw/CB988MEHvz96O0Ni3s7AP3BnSMzbGcI/ZZNNNtlkwz9bv1Kg1q/EP1HrVwrU+sU/RhdddNFFxz88Q2LezpDIPzJvZ0jM28k/J5tssskmyz8dx3Ecx3HMPxPzdobEvM0/CB988MEHzz9/pUCtXynQP3o7Q2LeztA/ddFFF1100T9wZ0jM2xnSP2r9SoFav9I/ZZNNNtlk0z9gKVDrVwrUP1u/UqDWr9Q/VlVVVVVV1T9R61cK1PrVP0yBWr9SoNY/RhdddNFF1z9BrV8pUOvXPzxDYt7OkNg/N9lkk0022T8yb2dIzNvZPy0Fav1Kgdo/J5tssskm2z8iMW9nSMzbPx3HcRzHcdw/GF100UUX3T8T83aGxLzdPw6JeTtDYt4/CB988MEH3z8DtX6lQK3fP3+lQK1fKeA/ffDBBx984D96O0Ni3s7gP3eGxLydIeE/ddFFF1104T9yHMdxHMfhP3BnSMzbGeI/bbLJJpts4j9q/UqBWr/iP2hIzNsZEuM/ZZNNNtlk4z9j3s6QmLfjP2ApUOtXCuQ/XnTRRRdd5D9bv1Kg1q/kP1gK1PqVAuU/VlVVVVVV5T9ToNavFKjlP1HrVwrU+uU/TjbZZJNN5j9MgVq/UqDmP0nM2xkS8+Y/RhdddNFF5z9EYt7OkJjnP0GtXylQ6+c/P/jggw8+6D88Q2LezpDoPzmO4ziO4+g/N9lkk0026T80JObtDInpPzJvZ0jM2+k/L7rooosu6j8tBWr9SoHqPypQ61cK1Oo/J5tssskm6z8l5u0MiXnrPyIxb2dIzOs/IHzwwQcf7D8dx3Ecx3HsPxsS83aGxOw/GF100UUX7T8VqPUrBWrtPxPzdobEvO0/ED744IMP7j8OiXk7Q2LuPwvU+pUCte4/CB988MEH7z8Gav1KgVrvPwO1fqVAre8/AAAAAAAA8D8=",
          "dtype": "f8"
         },
         "y": {
          "bdata": "iewQYr6GIj3XFpcatnE/PQzp+/meB1o9d2JVZu0EdT1io3pLqY6QPbAfR8E7cqk9kM3Y40ETwz1cnsEHR+bbPb7tUj+W5/M9Kcft4ly1Cz6DjD0+1NAiPvu7GKCG7jg+ecNKL7QdUD5YfeVTJ1RkPnGcum4wBXk+zCsI+lIMjj4nQGE+QJuhPjrd3hFOIrQ+nM1dcwF4xj5HJv8KXXjYPvchK3ZGAuo+RT3GvRD7+j5/KY6xe1ELPw7RKwCw/xo/Yj8mluYLKj+VP182oYc4P/DDv9SWjUY//EooN6s+VD8mds7/a75hPzyQ6t8uX24/ua3dfUVieT8GsZlGKLiEP9OM9TuxhJA/dYXVCUW6mT+/Qvq6vpKjP6hEdwMYGa0/vdePUXoitT/bAZSH9gC+PyJmZET+0MQ/CLjxOYw8zD9BOQadbrnSP8A6meLgSNg/9epqCpHO3j9d8yIu/x3jP0lsvxXsN+c/9Fx037Ka6z+p2u6diRHwP18NPk92U/I/HgKZxy989D9/irgb43T2PzJCn/EJKfg/GNkmRoiI+T8Garo0cIn6PwgLN/osKfs/doW4Eeps+z9uYZ/gJWH7Py973S58GPs/39D/ts6p+j93EpdqBS76P2A01Duqvfk/e8XB1qRu+T+Po1nWUlL5P+e6AdcqdPk/c+ed1AbZ+T9GwTXZHn/6P0VZfQSqXvs/FHgs4Qpr/D/W2vseXpT9P6lUT2g5yf4/5J7Ga2T4/z8wz56mLIkAQF0GB+MxBQFAlo3oL6NrAUBYto+QsLkBQE1/16M07gFAd1eiJWkJAkDDyUDmiAwCQDJzLQp0+QFAVworsGbSAUAiOUPiyZkBQBZAWSMdUgFAF3DOoe79AEA49OV8058AQKHxAhFSOgBA23371Guf/z/7BrOTnMP+P9XQXK9E4/0/f1SuK1z+/D8G0zIgfBL8P1mcD8L4Gvs/p/ptbXAR+j88ayWYx+74P6h6P1hurPc/qXn+abdF9j/NeQYiALn0P805YwBvCPM/ar5VRCI68T+KC4MoiK/uPyJyHk4v2+o/dGiTzFYS5z8=",
          "dtype": "f8"
         }
        }
       ],
       "layout": {
        "font": {
         "size": 12
        },
        "height": 500,
        "legend": {
         "x": 0.01,
         "xanchor": "left",
         "y": 0.99,
         "yanchor": "top"
        },
        "template": {
         "data": {
          "bar": [
           {
            "error_x": {
             "color": "#2a3f5f"
            },
            "error_y": {
             "color": "#2a3f5f"
            },
            "marker": {
             "line": {
              "color": "#E5ECF6",
              "width": 0.5
             },
             "pattern": {
              "fillmode": "overlay",
              "size": 10,
              "solidity": 0.2
             }
            },
            "type": "bar"
           }
          ],
          "barpolar": [
           {
            "marker": {
             "line": {
              "color": "#E5ECF6",
              "width": 0.5
             },
             "pattern": {
              "fillmode": "overlay",
              "size": 10,
              "solidity": 0.2
             }
            },
            "type": "barpolar"
           }
          ],
          "carpet": [
           {
            "aaxis": {
             "endlinecolor": "#2a3f5f",
             "gridcolor": "white",
             "linecolor": "white",
             "minorgridcolor": "white",
             "startlinecolor": "#2a3f5f"
            },
            "baxis": {
             "endlinecolor": "#2a3f5f",
             "gridcolor": "white",
             "linecolor": "white",
             "minorgridcolor": "white",
             "startlinecolor": "#2a3f5f"
            },
            "type": "carpet"
           }
          ],
          "choropleth": [
           {
            "colorbar": {
             "outlinewidth": 0,
             "ticks": ""
            },
            "type": "choropleth"
           }
          ],
          "contour": [
           {
            "colorbar": {
             "outlinewidth": 0,
             "ticks": ""
            },
            "colorscale": [
             [
              0,
              "#0d0887"
             ],
             [
              0.1111111111111111,
              "#46039f"
             ],
             [
              0.2222222222222222,
              "#7201a8"
             ],
             [
              0.3333333333333333,
              "#9c179e"
             ],
             [
              0.4444444444444444,
              "#bd3786"
             ],
             [
              0.5555555555555556,
              "#d8576b"
             ],
             [
              0.6666666666666666,
              "#ed7953"
             ],
             [
              0.7777777777777778,
              "#fb9f3a"
             ],
             [
              0.8888888888888888,
              "#fdca26"
             ],
             [
              1,
              "#f0f921"
             ]
            ],
            "type": "contour"
           }
          ],
          "contourcarpet": [
           {
            "colorbar": {
             "outlinewidth": 0,
             "ticks": ""
            },
            "type": "contourcarpet"
           }
          ],
          "heatmap": [
           {
            "colorbar": {
             "outlinewidth": 0,
             "ticks": ""
            },
            "colorscale": [
             [
              0,
              "#0d0887"
             ],
             [
              0.1111111111111111,
              "#46039f"
             ],
             [
              0.2222222222222222,
              "#7201a8"
             ],
             [
              0.3333333333333333,
              "#9c179e"
             ],
             [
              0.4444444444444444,
              "#bd3786"
             ],
             [
              0.5555555555555556,
              "#d8576b"
             ],
             [
              0.6666666666666666,
              "#ed7953"
             ],
             [
              0.7777777777777778,
              "#fb9f3a"
             ],
             [
              0.8888888888888888,
              "#fdca26"
             ],
             [
              1,
              "#f0f921"
             ]
            ],
            "type": "heatmap"
           }
          ],
          "histogram": [
           {
            "marker": {
             "pattern": {
              "fillmode": "overlay",
              "size": 10,
              "solidity": 0.2
             }
            },
            "type": "histogram"
           }
          ],
          "histogram2d": [
           {
            "colorbar": {
             "outlinewidth": 0,
             "ticks": ""
            },
            "colorscale": [
             [
              0,
              "#0d0887"
             ],
             [
              0.1111111111111111,
              "#46039f"
             ],
             [
              0.2222222222222222,
              "#7201a8"
             ],
             [
              0.3333333333333333,
              "#9c179e"
             ],
             [
              0.4444444444444444,
              "#bd3786"
             ],
             [
              0.5555555555555556,
              "#d8576b"
             ],
             [
              0.6666666666666666,
              "#ed7953"
             ],
             [
              0.7777777777777778,
              "#fb9f3a"
             ],
             [
              0.8888888888888888,
              "#fdca26"
             ],
             [
              1,
              "#f0f921"
             ]
            ],
            "type": "histogram2d"
           }
          ],
          "histogram2dcontour": [
           {
            "colorbar": {
             "outlinewidth": 0,
             "ticks": ""
            },
            "colorscale": [
             [
              0,
              "#0d0887"
             ],
             [
              0.1111111111111111,
              "#46039f"
             ],
             [
              0.2222222222222222,
              "#7201a8"
             ],
             [
              0.3333333333333333,
              "#9c179e"
             ],
             [
              0.4444444444444444,
              "#bd3786"
             ],
             [
              0.5555555555555556,
              "#d8576b"
             ],
             [
              0.6666666666666666,
              "#ed7953"
             ],
             [
              0.7777777777777778,
              "#fb9f3a"
             ],
             [
              0.8888888888888888,
              "#fdca26"
             ],
             [
              1,
              "#f0f921"
             ]
            ],
            "type": "histogram2dcontour"
           }
          ],
          "mesh3d": [
           {
            "colorbar": {
             "outlinewidth": 0,
             "ticks": ""
            },
            "type": "mesh3d"
           }
          ],
          "parcoords": [
           {
            "line": {
             "colorbar": {
              "outlinewidth": 0,
              "ticks": ""
             }
            },
            "type": "parcoords"
           }
          ],
          "pie": [
           {
            "automargin": true,
            "type": "pie"
           }
          ],
          "scatter": [
           {
            "fillpattern": {
             "fillmode": "overlay",
             "size": 10,
             "solidity": 0.2
            },
            "type": "scatter"
           }
          ],
          "scatter3d": [
           {
            "line": {
             "colorbar": {
              "outlinewidth": 0,
              "ticks": ""
             }
            },
            "marker": {
             "colorbar": {
              "outlinewidth": 0,
              "ticks": ""
             }
            },
            "type": "scatter3d"
           }
          ],
          "scattercarpet": [
           {
            "marker": {
             "colorbar": {
              "outlinewidth": 0,
              "ticks": ""
             }
            },
            "type": "scattercarpet"
           }
          ],
          "scattergeo": [
           {
            "marker": {
             "colorbar": {
              "outlinewidth": 0,
              "ticks": ""
             }
            },
            "type": "scattergeo"
           }
          ],
          "scattergl": [
           {
            "marker": {
             "colorbar": {
              "outlinewidth": 0,
              "ticks": ""
             }
            },
            "type": "scattergl"
           }
          ],
          "scattermap": [
           {
            "marker": {
             "colorbar": {
              "outlinewidth": 0,
              "ticks": ""
             }
            },
            "type": "scattermap"
           }
          ],
          "scattermapbox": [
           {
            "marker": {
             "colorbar": {
              "outlinewidth": 0,
              "ticks": ""
             }
            },
            "type": "scattermapbox"
           }
          ],
          "scatterpolar": [
           {
            "marker": {
             "colorbar": {
              "outlinewidth": 0,
              "ticks": ""
             }
            },
            "type": "scatterpolar"
           }
          ],
          "scatterpolargl": [
           {
            "marker": {
             "colorbar": {
              "outlinewidth": 0,
              "ticks": ""
             }
            },
            "type": "scatterpolargl"
           }
          ],
          "scatterternary": [
           {
            "marker": {
             "colorbar": {
              "outlinewidth": 0,
              "ticks": ""
             }
            },
            "type": "scatterternary"
           }
          ],
          "surface": [
           {
            "colorbar": {
             "outlinewidth": 0,
             "ticks": ""
            },
            "colorscale": [
             [
              0,
              "#0d0887"
             ],
             [
              0.1111111111111111,
              "#46039f"
             ],
             [
              0.2222222222222222,
              "#7201a8"
             ],
             [
              0.3333333333333333,
              "#9c179e"
             ],
             [
              0.4444444444444444,
              "#bd3786"
             ],
             [
              0.5555555555555556,
              "#d8576b"
             ],
             [
              0.6666666666666666,
              "#ed7953"
             ],
             [
              0.7777777777777778,
              "#fb9f3a"
             ],
             [
              0.8888888888888888,
              "#fdca26"
             ],
             [
              1,
              "#f0f921"
             ]
            ],
            "type": "surface"
           }
          ],
          "table": [
           {
            "cells": {
             "fill": {
              "color": "#EBF0F8"
             },
             "line": {
              "color": "white"
             }
            },
            "header": {
             "fill": {
              "color": "#C8D4E3"
             },
             "line": {
              "color": "white"
             }
            },
            "type": "table"
           }
          ]
         },
         "layout": {
          "annotationdefaults": {
           "arrowcolor": "#2a3f5f",
           "arrowhead": 0,
           "arrowwidth": 1
          },
          "autotypenumbers": "strict",
          "coloraxis": {
           "colorbar": {
            "outlinewidth": 0,
            "ticks": ""
           }
          },
          "colorscale": {
           "diverging": [
            [
             0,
             "#8e0152"
            ],
            [
             0.1,
             "#c51b7d"
            ],
            [
             0.2,
             "#de77ae"
            ],
            [
             0.3,
             "#f1b6da"
            ],
            [
             0.4,
             "#fde0ef"
            ],
            [
             0.5,
             "#f7f7f7"
            ],
            [
             0.6,
             "#e6f5d0"
            ],
            [
             0.7,
             "#b8e186"
            ],
            [
             0.8,
             "#7fbc41"
            ],
            [
             0.9,
             "#4d9221"
            ],
            [
             1,
             "#276419"
            ]
           ],
           "sequential": [
            [
             0,
             "#0d0887"
            ],
            [
             0.1111111111111111,
             "#46039f"
            ],
            [
             0.2222222222222222,
             "#7201a8"
            ],
            [
             0.3333333333333333,
             "#9c179e"
            ],
            [
             0.4444444444444444,
             "#bd3786"
            ],
            [
             0.5555555555555556,
             "#d8576b"
            ],
            [
             0.6666666666666666,
             "#ed7953"
            ],
            [
             0.7777777777777778,
             "#fb9f3a"
            ],
            [
             0.8888888888888888,
             "#fdca26"
            ],
            [
             1,
             "#f0f921"
            ]
           ],
           "sequentialminus": [
            [
             0,
             "#0d0887"
            ],
            [
             0.1111111111111111,
             "#46039f"
            ],
            [
             0.2222222222222222,
             "#7201a8"
            ],
            [
             0.3333333333333333,
             "#9c179e"
            ],
            [
             0.4444444444444444,
             "#bd3786"
            ],
            [
             0.5555555555555556,
             "#d8576b"
            ],
            [
             0.6666666666666666,
             "#ed7953"
            ],
            [
             0.7777777777777778,
             "#fb9f3a"
            ],
            [
             0.8888888888888888,
             "#fdca26"
            ],
            [
             1,
             "#f0f921"
            ]
           ]
          },
          "colorway": [
           "#636efa",
           "#EF553B",
           "#00cc96",
           "#ab63fa",
           "#FFA15A",
           "#19d3f3",
           "#FF6692",
           "#B6E880",
           "#FF97FF",
           "#FECB52"
          ],
          "font": {
           "color": "#2a3f5f"
          },
          "geo": {
           "bgcolor": "white",
           "lakecolor": "white",
           "landcolor": "#E5ECF6",
           "showlakes": true,
           "showland": true,
           "subunitcolor": "white"
          },
          "hoverlabel": {
           "align": "left"
          },
          "hovermode": "closest",
          "mapbox": {
           "style": "light"
          },
          "paper_bgcolor": "white",
          "plot_bgcolor": "#E5ECF6",
          "polar": {
           "angularaxis": {
            "gridcolor": "white",
            "linecolor": "white",
            "ticks": ""
           },
           "bgcolor": "#E5ECF6",
           "radialaxis": {
            "gridcolor": "white",
            "linecolor": "white",
            "ticks": ""
           }
          },
          "scene": {
           "xaxis": {
            "backgroundcolor": "#E5ECF6",
            "gridcolor": "white",
            "gridwidth": 2,
            "linecolor": "white",
            "showbackground": true,
            "ticks": "",
            "zerolinecolor": "white"
           },
           "yaxis": {
            "backgroundcolor": "#E5ECF6",
            "gridcolor": "white",
            "gridwidth": 2,
            "linecolor": "white",
            "showbackground": true,
            "ticks": "",
            "zerolinecolor": "white"
           },
           "zaxis": {
            "backgroundcolor": "#E5ECF6",
            "gridcolor": "white",
            "gridwidth": 2,
            "linecolor": "white",
            "showbackground": true,
            "ticks": "",
            "zerolinecolor": "white"
           }
          },
          "shapedefaults": {
           "line": {
            "color": "#2a3f5f"
           }
          },
          "ternary": {
           "aaxis": {
            "gridcolor": "white",
            "linecolor": "white",
            "ticks": ""
           },
           "baxis": {
            "gridcolor": "white",
            "linecolor": "white",
            "ticks": ""
           },
           "bgcolor": "#E5ECF6",
           "caxis": {
            "gridcolor": "white",
            "linecolor": "white",
            "ticks": ""
           }
          },
          "title": {
           "x": 0.05
          },
          "xaxis": {
           "automargin": true,
           "gridcolor": "white",
           "linecolor": "white",
           "ticks": "",
           "title": {
            "standoff": 15
           },
           "zerolinecolor": "white",
           "zerolinewidth": 2
          },
          "yaxis": {
           "automargin": true,
           "gridcolor": "white",
           "linecolor": "white",
           "ticks": "",
           "title": {
            "standoff": 15
           },
           "zerolinecolor": "white",
           "zerolinewidth": 2
          }
         }
        },
        "title": {
         "text": "Accuracy Density Distribution - Detection"
        },
        "xaxis": {
         "title": {
          "text": "Accuracy"
         }
        },
        "yaxis": {
         "title": {
          "text": "Density"
         }
        }
       }
      }
     },
     "metadata": {},
     "output_type": "display_data"
    },
    {
     "name": "stdout",
     "output_type": "stream",
     "text": [
      "\n",
      "Data Quality Summary for detection:\n",
      "  Total data points processed: 816\n",
      "  Valid data points used: 814\n",
      "  NaN values found: 2\n",
      "  Infinite values found: 0\n",
      "  Data quality rate: 99.8%\n",
      "Saved KDE density plot: /home/jeremias/projects/delphi-explanations/results/visualizations/accuracy_density_detection.pdf\n",
      "Saved KDE density plot: /home/jeremias/projects/delphi-explanations/results/visualizations/accuracy_density_detection.png\n"
     ]
    }
   ],
   "source": [
    "# Generate KDE density distribution plots for accuracy\n",
    "print(\"Generating accuracy density distribution plots...\")\n",
    "\n",
    "# Import required libraries\n",
    "import plotly.graph_objects as go\n",
    "from scipy import stats\n",
    "\n",
    "# First, let's check what data we have available\n",
    "sample_model = list(model_results.keys())[0]\n",
    "sample_latent_df = model_results[sample_model]['latent_df']\n",
    "print(f\"\\nColumns in latent_df: {sample_latent_df.columns.tolist()}\")\n",
    "print(f\"Sample data shape: {sample_latent_df.shape}\")\n",
    "print(f\"Score types: {sample_latent_df['score_type'].unique()}\")\n",
    "\n",
    "# Define color and line style mapping by model family and mode\n",
    "def get_model_style(model_name):\n",
    "    \"\"\"Get color and line style based on model family and thinking mode\"\"\"\n",
    "    # Extract base model name (remove mode suffix)\n",
    "    is_thinking = '(thinking)' in model_name\n",
    "    base_name = model_name.replace(' (thinking)', '').replace(' (regular)', '')\n",
    "    \n",
    "    # Get base color by model family\n",
    "    if 'Gemma' in base_name:\n",
    "        base_color = 'green'\n",
    "        # Different line styles for different Gemma models\n",
    "        if '4B' in base_name:\n",
    "            line_style = 'solid'\n",
    "        elif '12B' in base_name:\n",
    "            line_style = 'dash'\n",
    "        elif '27B' in base_name:\n",
    "            line_style = 'dot'\n",
    "        else:\n",
    "            line_style = 'dashdot'\n",
    "    elif 'Qwen' in base_name:\n",
    "        base_color = 'red'\n",
    "        # Different line styles for different Qwen models\n",
    "        if '4B' in base_name:\n",
    "            line_style = 'solid'\n",
    "        elif '14B' in base_name:\n",
    "            line_style = 'dash'\n",
    "        elif '32B' in base_name:\n",
    "            line_style = 'dot'\n",
    "        elif '235B' in base_name:\n",
    "            line_style = 'longdash'\n",
    "        else:\n",
    "            line_style = 'dashdot'\n",
    "    elif 'Llama' in base_name:\n",
    "        base_color = 'blue'\n",
    "        # Different line styles for different Llama models\n",
    "        if '3.3' in base_name:\n",
    "            line_style = 'solid'\n",
    "        elif '3.1' in base_name:\n",
    "            line_style = 'dash'\n",
    "        elif 'Scout' in base_name:\n",
    "            line_style = 'dot'\n",
    "        elif 'Maverick' in base_name:\n",
    "            line_style = 'dashdot'\n",
    "        else:\n",
    "            line_style = 'longdash'\n",
    "    else:\n",
    "        base_color = 'gray'\n",
    "        line_style = 'solid'\n",
    "    \n",
    "    # Adjust color intensity based on thinking mode\n",
    "    if is_thinking:\n",
    "        # Darker colors for thinking mode\n",
    "        color_map = {\n",
    "            'green': 'darkgreen',\n",
    "            'red': 'darkred', \n",
    "            'blue': 'darkblue',\n",
    "            'gray': 'darkgray'\n",
    "        }\n",
    "        color = color_map.get(base_color, 'darkgray')\n",
    "    else:\n",
    "        # Lighter colors for regular mode\n",
    "        color_map = {\n",
    "            'green': 'lightgreen',\n",
    "            'red': 'lightcoral',\n",
    "            'blue': 'lightblue', \n",
    "            'gray': 'lightgray'\n",
    "        }\n",
    "        color = color_map.get(base_color, 'lightgray')\n",
    "    \n",
    "    return color, line_style\n",
    "\n",
    "# Create accuracy_df for bar charts (aggregate data)\n",
    "all_data = []\n",
    "for model_name, data in model_results.items():\n",
    "    for score_type in data['processed_df']['score_type'].unique():\n",
    "        score_data = data['processed_df'][data['processed_df']['score_type'] == score_type].iloc[0]\n",
    "        all_data.append({\n",
    "            'model': model_name,\n",
    "            'score_type': score_type,\n",
    "            'accuracy': score_data['accuracy'],\n",
    "            'f1_score': score_data['f1_score'],\n",
    "            'precision': score_data['precision'],\n",
    "            'recall': score_data['recall']\n",
    "        })\n",
    "\n",
    "accuracy_df = pd.DataFrame(all_data)\n",
    "print(\"\\nAccuracy data summary:\")\n",
    "print(accuracy_df.groupby('score_type')[['accuracy', 'f1_score']].describe().round(3))\n",
    "\n",
    "# Check if we have individual accuracy measurements for KDE plots\n",
    "if 'correct' in sample_latent_df.columns:\n",
    "    print(\"Found 'correct' column - will calculate accuracy per latent for KDE plots\")\n",
    "    \n",
    "    # Create KDE density plots for each score type\n",
    "    for score_type in sample_latent_df['score_type'].unique():\n",
    "        print(f\"\\nCreating KDE density plot for {score_type}...\")\n",
    "        \n",
    "        # Initialize counters for data quality tracking\n",
    "        nan_counter = 0\n",
    "        inf_counter = 0\n",
    "        total_points = 0\n",
    "        \n",
    "        # Collect accuracy data for all models for this score type\n",
    "        plot_data = []\n",
    "        for model_name, data in model_results.items():\n",
    "            latent_df = data['latent_df']\n",
    "            score_subset = latent_df[latent_df['score_type'] == score_type]\n",
    "            \n",
    "            if len(score_subset) > 0:\n",
    "                # Calculate accuracy per latent (group by latent_idx if available, or use individual rows)\n",
    "                if 'latent_idx' in score_subset.columns:\n",
    "                    # Group by latent and calculate accuracy\n",
    "                    latent_accuracies = score_subset.groupby('latent_idx')['correct'].mean()\n",
    "                    for accuracy in latent_accuracies:\n",
    "                        total_points += 1\n",
    "                        if pd.isna(accuracy):\n",
    "                            nan_counter += 1\n",
    "                        elif not np.isfinite(accuracy):\n",
    "                            inf_counter += 1\n",
    "                        else:\n",
    "                            plot_data.append({\n",
    "                                'model': model_name,\n",
    "                                'accuracy': accuracy\n",
    "                            })\n",
    "                else:\n",
    "                    # Use individual correct values as accuracy (0 or 1)\n",
    "                    for _, row in score_subset.iterrows():\n",
    "                        total_points += 1\n",
    "                        accuracy = float(row['correct'])\n",
    "                        if pd.isna(accuracy):\n",
    "                            nan_counter += 1\n",
    "                        elif not np.isfinite(accuracy):\n",
    "                            inf_counter += 1\n",
    "                        else:\n",
    "                            plot_data.append({\n",
    "                                'model': model_name,\n",
    "                                'accuracy': accuracy\n",
    "                            })\n",
    "        \n",
    "        if plot_data:\n",
    "            plot_df = pd.DataFrame(plot_data)\n",
    "            \n",
    "            # Create KDE line density plot\n",
    "            fig_line = go.Figure()\n",
    "            \n",
    "            for model in sorted(plot_df['model'].unique()):\n",
    "                model_data = plot_df[plot_df['model'] == model]['accuracy']\n",
    "                \n",
    "                # Clean the data: remove NaN and infinite values\n",
    "                model_data_clean = model_data.dropna()\n",
    "                model_data_clean = model_data_clean[np.isfinite(model_data_clean)]\n",
    "                \n",
    "                if len(model_data_clean) > 1:  # Need multiple points for KDE\n",
    "                    # Check if data has sufficient variance for KDE\n",
    "                    if model_data_clean.std() > 1e-10:  # Check for non-zero variance\n",
    "                        # Get color and line style based on model family\n",
    "                        color, line_style = get_model_style(model)\n",
    "                        \n",
    "                        try:\n",
    "                            # Create kernel density estimation\n",
    "                            kde = stats.gaussian_kde(model_data_clean)\n",
    "                            x_range = np.linspace(0, 1, 100)\n",
    "                            density = kde(x_range)\n",
    "                            \n",
    "                            fig_line.add_trace(go.Scatter(\n",
    "                                x=x_range,\n",
    "                                y=density,\n",
    "                                mode='lines',\n",
    "                                name=model,\n",
    "                                line=dict(\n",
    "                                    width=3,\n",
    "                                    color=color,\n",
    "                                    dash=line_style\n",
    "                                )\n",
    "                            ))\n",
    "                        except Exception as e:\n",
    "                            print(f\"Warning: Could not create KDE for {model}: {e}\")\n",
    "                            print(f\"Data summary for {model}: min={model_data_clean.min():.3f}, max={model_data_clean.max():.3f}, std={model_data_clean.std():.6f}\")\n",
    "                    else:\n",
    "                        print(f\"Warning: {model} has constant accuracy values, skipping KDE plot\")\n",
    "                        print(f\"Constant value: {model_data_clean.iloc[0]:.3f}\")\n",
    "                elif len(model_data_clean) == 1:\n",
    "                    print(f\"Warning: {model} has only one data point, skipping KDE plot\")\n",
    "                else:\n",
    "                    print(f\"Warning: {model} has no valid data points after cleaning\")\n",
    "            \n",
    "            fig_line.update_layout(\n",
    "                title=f'Accuracy Density Distribution - {score_type.title()}',\n",
    "                xaxis_title=\"Accuracy\",\n",
    "                yaxis_title=\"Density\",\n",
    "                height=500,\n",
    "                legend=dict(\n",
    "                    yanchor=\"top\",\n",
    "                    y=0.99,\n",
    "                    xanchor=\"left\",\n",
    "                    x=0.01\n",
    "                ),\n",
    "                font=dict(size=12)\n",
    "            )\n",
    "            \n",
    "            # Show KDE density plot\n",
    "            fig_line.show()\n",
    "            \n",
    "            # Print data quality summary\n",
    "            valid_points = len(plot_data)\n",
    "            print(f\"\\nData Quality Summary for {score_type}:\")\n",
    "            print(f\"  Total data points processed: {total_points}\")\n",
    "            print(f\"  Valid data points used: {valid_points}\")\n",
    "            print(f\"  NaN values found: {nan_counter}\")\n",
    "            print(f\"  Infinite values found: {inf_counter}\")\n",
    "            print(f\"  Data quality rate: {(valid_points/total_points*100):.1f}%\" if total_points > 0 else \"  No data processed\")\n",
    "            \n",
    "            # Save KDE density plot in both PDF and PNG formats\n",
    "            output_file_pdf = visualizations_dir / f\"accuracy_density_{score_type}.pdf\"\n",
    "            output_file_png = visualizations_dir / f\"accuracy_density_{score_type}.png\"\n",
    "            fig_line.write_image(str(output_file_pdf))\n",
    "            fig_line.write_image(str(output_file_png))\n",
    "            print(f\"Saved KDE density plot: {output_file_pdf}\")\n",
    "            print(f\"Saved KDE density plot: {output_file_png}\")\n",
    "\n",
    "else:\n",
    "    print(\"No 'correct' column found - cannot create density plots with individual measurements\")\n",
    "    print(\"Need individual accuracy measurements to create meaningful density distributions\")"
   ]
  },
  {
   "cell_type": "markdown",
   "id": "7a674b50",
   "metadata": {},
   "source": [
    "## 4. Generate Mean Accuracy Bar Charts\n",
    "\n",
    "Create bar charts displaying mean accuracy for each model and score type."
   ]
  },
  {
   "cell_type": "code",
   "execution_count": 29,
   "id": "0916e89d",
   "metadata": {},
   "outputs": [
    {
     "name": "stdout",
     "output_type": "stream",
     "text": [
      "Generating mean accuracy bar charts...\n"
     ]
    },
    {
     "data": {
      "application/vnd.plotly.v1+json": {
       "config": {
        "plotlyServerURL": "https://plot.ly"
       },
       "data": [
        {
         "hovertemplate": "model=%{x}<br>accuracy=%{text}<extra></extra>",
         "legendgroup": "",
         "marker": {
          "color": "#636efa",
          "pattern": {
           "shape": ""
          }
         },
         "name": "",
         "orientation": "v",
         "showlegend": false,
         "text": {
          "bdata": "nmo3BNGd7D8odA3/UmbsP7dfv7fGxes/gI37K8LA6z+dyromdH/rP6Ep7VtoSus/mPg/ErVB6z8PDw8PDw/rP1yPwvUoXOo/1Qc7bqHU6T8sZtNzR07oP/fqu+2p4uE/",
          "dtype": "f8"
         },
         "textposition": "outside",
         "texttemplate": "%{text:.3f}",
         "type": "bar",
         "x": [
          "Qwen3-32B",
          "Llama-4-Maverick-17B",
          "Qwen3-235B",
          "Llama-3.1-70B-Instruct",
          "Gemma-3-27B-IT",
          "Llama-3.3-70B-Instruct",
          "Llama-4-Scout-17B",
          "Qwen3-14B",
          "Transluce-Explainer-Llama-8B",
          "Gemma-3-12B-IT",
          "Qwen3-4B",
          "Gemma-3-4B-IT"
         ],
         "xaxis": "x",
         "y": {
          "bdata": "nmo3BNGd7D8odA3/UmbsP7dfv7fGxes/gI37K8LA6z+dyromdH/rP6Ep7VtoSus/mPg/ErVB6z8PDw8PDw/rP1yPwvUoXOo/1Qc7bqHU6T8sZtNzR07oP/fqu+2p4uE/",
          "dtype": "f8"
         },
         "yaxis": "y"
        }
       ],
       "layout": {
        "barmode": "relative",
        "height": 500,
        "legend": {
         "tracegroupgap": 0
        },
        "template": {
         "data": {
          "bar": [
           {
            "error_x": {
             "color": "#2a3f5f"
            },
            "error_y": {
             "color": "#2a3f5f"
            },
            "marker": {
             "line": {
              "color": "#E5ECF6",
              "width": 0.5
             },
             "pattern": {
              "fillmode": "overlay",
              "size": 10,
              "solidity": 0.2
             }
            },
            "type": "bar"
           }
          ],
          "barpolar": [
           {
            "marker": {
             "line": {
              "color": "#E5ECF6",
              "width": 0.5
             },
             "pattern": {
              "fillmode": "overlay",
              "size": 10,
              "solidity": 0.2
             }
            },
            "type": "barpolar"
           }
          ],
          "carpet": [
           {
            "aaxis": {
             "endlinecolor": "#2a3f5f",
             "gridcolor": "white",
             "linecolor": "white",
             "minorgridcolor": "white",
             "startlinecolor": "#2a3f5f"
            },
            "baxis": {
             "endlinecolor": "#2a3f5f",
             "gridcolor": "white",
             "linecolor": "white",
             "minorgridcolor": "white",
             "startlinecolor": "#2a3f5f"
            },
            "type": "carpet"
           }
          ],
          "choropleth": [
           {
            "colorbar": {
             "outlinewidth": 0,
             "ticks": ""
            },
            "type": "choropleth"
           }
          ],
          "contour": [
           {
            "colorbar": {
             "outlinewidth": 0,
             "ticks": ""
            },
            "colorscale": [
             [
              0,
              "#0d0887"
             ],
             [
              0.1111111111111111,
              "#46039f"
             ],
             [
              0.2222222222222222,
              "#7201a8"
             ],
             [
              0.3333333333333333,
              "#9c179e"
             ],
             [
              0.4444444444444444,
              "#bd3786"
             ],
             [
              0.5555555555555556,
              "#d8576b"
             ],
             [
              0.6666666666666666,
              "#ed7953"
             ],
             [
              0.7777777777777778,
              "#fb9f3a"
             ],
             [
              0.8888888888888888,
              "#fdca26"
             ],
             [
              1,
              "#f0f921"
             ]
            ],
            "type": "contour"
           }
          ],
          "contourcarpet": [
           {
            "colorbar": {
             "outlinewidth": 0,
             "ticks": ""
            },
            "type": "contourcarpet"
           }
          ],
          "heatmap": [
           {
            "colorbar": {
             "outlinewidth": 0,
             "ticks": ""
            },
            "colorscale": [
             [
              0,
              "#0d0887"
             ],
             [
              0.1111111111111111,
              "#46039f"
             ],
             [
              0.2222222222222222,
              "#7201a8"
             ],
             [
              0.3333333333333333,
              "#9c179e"
             ],
             [
              0.4444444444444444,
              "#bd3786"
             ],
             [
              0.5555555555555556,
              "#d8576b"
             ],
             [
              0.6666666666666666,
              "#ed7953"
             ],
             [
              0.7777777777777778,
              "#fb9f3a"
             ],
             [
              0.8888888888888888,
              "#fdca26"
             ],
             [
              1,
              "#f0f921"
             ]
            ],
            "type": "heatmap"
           }
          ],
          "histogram": [
           {
            "marker": {
             "pattern": {
              "fillmode": "overlay",
              "size": 10,
              "solidity": 0.2
             }
            },
            "type": "histogram"
           }
          ],
          "histogram2d": [
           {
            "colorbar": {
             "outlinewidth": 0,
             "ticks": ""
            },
            "colorscale": [
             [
              0,
              "#0d0887"
             ],
             [
              0.1111111111111111,
              "#46039f"
             ],
             [
              0.2222222222222222,
              "#7201a8"
             ],
             [
              0.3333333333333333,
              "#9c179e"
             ],
             [
              0.4444444444444444,
              "#bd3786"
             ],
             [
              0.5555555555555556,
              "#d8576b"
             ],
             [
              0.6666666666666666,
              "#ed7953"
             ],
             [
              0.7777777777777778,
              "#fb9f3a"
             ],
             [
              0.8888888888888888,
              "#fdca26"
             ],
             [
              1,
              "#f0f921"
             ]
            ],
            "type": "histogram2d"
           }
          ],
          "histogram2dcontour": [
           {
            "colorbar": {
             "outlinewidth": 0,
             "ticks": ""
            },
            "colorscale": [
             [
              0,
              "#0d0887"
             ],
             [
              0.1111111111111111,
              "#46039f"
             ],
             [
              0.2222222222222222,
              "#7201a8"
             ],
             [
              0.3333333333333333,
              "#9c179e"
             ],
             [
              0.4444444444444444,
              "#bd3786"
             ],
             [
              0.5555555555555556,
              "#d8576b"
             ],
             [
              0.6666666666666666,
              "#ed7953"
             ],
             [
              0.7777777777777778,
              "#fb9f3a"
             ],
             [
              0.8888888888888888,
              "#fdca26"
             ],
             [
              1,
              "#f0f921"
             ]
            ],
            "type": "histogram2dcontour"
           }
          ],
          "mesh3d": [
           {
            "colorbar": {
             "outlinewidth": 0,
             "ticks": ""
            },
            "type": "mesh3d"
           }
          ],
          "parcoords": [
           {
            "line": {
             "colorbar": {
              "outlinewidth": 0,
              "ticks": ""
             }
            },
            "type": "parcoords"
           }
          ],
          "pie": [
           {
            "automargin": true,
            "type": "pie"
           }
          ],
          "scatter": [
           {
            "fillpattern": {
             "fillmode": "overlay",
             "size": 10,
             "solidity": 0.2
            },
            "type": "scatter"
           }
          ],
          "scatter3d": [
           {
            "line": {
             "colorbar": {
              "outlinewidth": 0,
              "ticks": ""
             }
            },
            "marker": {
             "colorbar": {
              "outlinewidth": 0,
              "ticks": ""
             }
            },
            "type": "scatter3d"
           }
          ],
          "scattercarpet": [
           {
            "marker": {
             "colorbar": {
              "outlinewidth": 0,
              "ticks": ""
             }
            },
            "type": "scattercarpet"
           }
          ],
          "scattergeo": [
           {
            "marker": {
             "colorbar": {
              "outlinewidth": 0,
              "ticks": ""
             }
            },
            "type": "scattergeo"
           }
          ],
          "scattergl": [
           {
            "marker": {
             "colorbar": {
              "outlinewidth": 0,
              "ticks": ""
             }
            },
            "type": "scattergl"
           }
          ],
          "scattermap": [
           {
            "marker": {
             "colorbar": {
              "outlinewidth": 0,
              "ticks": ""
             }
            },
            "type": "scattermap"
           }
          ],
          "scattermapbox": [
           {
            "marker": {
             "colorbar": {
              "outlinewidth": 0,
              "ticks": ""
             }
            },
            "type": "scattermapbox"
           }
          ],
          "scatterpolar": [
           {
            "marker": {
             "colorbar": {
              "outlinewidth": 0,
              "ticks": ""
             }
            },
            "type": "scatterpolar"
           }
          ],
          "scatterpolargl": [
           {
            "marker": {
             "colorbar": {
              "outlinewidth": 0,
              "ticks": ""
             }
            },
            "type": "scatterpolargl"
           }
          ],
          "scatterternary": [
           {
            "marker": {
             "colorbar": {
              "outlinewidth": 0,
              "ticks": ""
             }
            },
            "type": "scatterternary"
           }
          ],
          "surface": [
           {
            "colorbar": {
             "outlinewidth": 0,
             "ticks": ""
            },
            "colorscale": [
             [
              0,
              "#0d0887"
             ],
             [
              0.1111111111111111,
              "#46039f"
             ],
             [
              0.2222222222222222,
              "#7201a8"
             ],
             [
              0.3333333333333333,
              "#9c179e"
             ],
             [
              0.4444444444444444,
              "#bd3786"
             ],
             [
              0.5555555555555556,
              "#d8576b"
             ],
             [
              0.6666666666666666,
              "#ed7953"
             ],
             [
              0.7777777777777778,
              "#fb9f3a"
             ],
             [
              0.8888888888888888,
              "#fdca26"
             ],
             [
              1,
              "#f0f921"
             ]
            ],
            "type": "surface"
           }
          ],
          "table": [
           {
            "cells": {
             "fill": {
              "color": "#EBF0F8"
             },
             "line": {
              "color": "white"
             }
            },
            "header": {
             "fill": {
              "color": "#C8D4E3"
             },
             "line": {
              "color": "white"
             }
            },
            "type": "table"
           }
          ]
         },
         "layout": {
          "annotationdefaults": {
           "arrowcolor": "#2a3f5f",
           "arrowhead": 0,
           "arrowwidth": 1
          },
          "autotypenumbers": "strict",
          "coloraxis": {
           "colorbar": {
            "outlinewidth": 0,
            "ticks": ""
           }
          },
          "colorscale": {
           "diverging": [
            [
             0,
             "#8e0152"
            ],
            [
             0.1,
             "#c51b7d"
            ],
            [
             0.2,
             "#de77ae"
            ],
            [
             0.3,
             "#f1b6da"
            ],
            [
             0.4,
             "#fde0ef"
            ],
            [
             0.5,
             "#f7f7f7"
            ],
            [
             0.6,
             "#e6f5d0"
            ],
            [
             0.7,
             "#b8e186"
            ],
            [
             0.8,
             "#7fbc41"
            ],
            [
             0.9,
             "#4d9221"
            ],
            [
             1,
             "#276419"
            ]
           ],
           "sequential": [
            [
             0,
             "#0d0887"
            ],
            [
             0.1111111111111111,
             "#46039f"
            ],
            [
             0.2222222222222222,
             "#7201a8"
            ],
            [
             0.3333333333333333,
             "#9c179e"
            ],
            [
             0.4444444444444444,
             "#bd3786"
            ],
            [
             0.5555555555555556,
             "#d8576b"
            ],
            [
             0.6666666666666666,
             "#ed7953"
            ],
            [
             0.7777777777777778,
             "#fb9f3a"
            ],
            [
             0.8888888888888888,
             "#fdca26"
            ],
            [
             1,
             "#f0f921"
            ]
           ],
           "sequentialminus": [
            [
             0,
             "#0d0887"
            ],
            [
             0.1111111111111111,
             "#46039f"
            ],
            [
             0.2222222222222222,
             "#7201a8"
            ],
            [
             0.3333333333333333,
             "#9c179e"
            ],
            [
             0.4444444444444444,
             "#bd3786"
            ],
            [
             0.5555555555555556,
             "#d8576b"
            ],
            [
             0.6666666666666666,
             "#ed7953"
            ],
            [
             0.7777777777777778,
             "#fb9f3a"
            ],
            [
             0.8888888888888888,
             "#fdca26"
            ],
            [
             1,
             "#f0f921"
            ]
           ]
          },
          "colorway": [
           "#636efa",
           "#EF553B",
           "#00cc96",
           "#ab63fa",
           "#FFA15A",
           "#19d3f3",
           "#FF6692",
           "#B6E880",
           "#FF97FF",
           "#FECB52"
          ],
          "font": {
           "color": "#2a3f5f"
          },
          "geo": {
           "bgcolor": "white",
           "lakecolor": "white",
           "landcolor": "#E5ECF6",
           "showlakes": true,
           "showland": true,
           "subunitcolor": "white"
          },
          "hoverlabel": {
           "align": "left"
          },
          "hovermode": "closest",
          "mapbox": {
           "style": "light"
          },
          "paper_bgcolor": "white",
          "plot_bgcolor": "#E5ECF6",
          "polar": {
           "angularaxis": {
            "gridcolor": "white",
            "linecolor": "white",
            "ticks": ""
           },
           "bgcolor": "#E5ECF6",
           "radialaxis": {
            "gridcolor": "white",
            "linecolor": "white",
            "ticks": ""
           }
          },
          "scene": {
           "xaxis": {
            "backgroundcolor": "#E5ECF6",
            "gridcolor": "white",
            "gridwidth": 2,
            "linecolor": "white",
            "showbackground": true,
            "ticks": "",
            "zerolinecolor": "white"
           },
           "yaxis": {
            "backgroundcolor": "#E5ECF6",
            "gridcolor": "white",
            "gridwidth": 2,
            "linecolor": "white",
            "showbackground": true,
            "ticks": "",
            "zerolinecolor": "white"
           },
           "zaxis": {
            "backgroundcolor": "#E5ECF6",
            "gridcolor": "white",
            "gridwidth": 2,
            "linecolor": "white",
            "showbackground": true,
            "ticks": "",
            "zerolinecolor": "white"
           }
          },
          "shapedefaults": {
           "line": {
            "color": "#2a3f5f"
           }
          },
          "ternary": {
           "aaxis": {
            "gridcolor": "white",
            "linecolor": "white",
            "ticks": ""
           },
           "baxis": {
            "gridcolor": "white",
            "linecolor": "white",
            "ticks": ""
           },
           "bgcolor": "#E5ECF6",
           "caxis": {
            "gridcolor": "white",
            "linecolor": "white",
            "ticks": ""
           }
          },
          "title": {
           "x": 0.05
          },
          "xaxis": {
           "automargin": true,
           "gridcolor": "white",
           "linecolor": "white",
           "ticks": "",
           "title": {
            "standoff": 15
           },
           "zerolinecolor": "white",
           "zerolinewidth": 2
          },
          "yaxis": {
           "automargin": true,
           "gridcolor": "white",
           "linecolor": "white",
           "ticks": "",
           "title": {
            "standoff": 15
           },
           "zerolinecolor": "white",
           "zerolinewidth": 2
          }
         }
        },
        "title": {
         "text": "Mean Accuracy by Model - Fuzz"
        },
        "xaxis": {
         "anchor": "y",
         "domain": [
          0,
          1
         ],
         "tickangle": 45,
         "title": {
          "text": "Model"
         }
        },
        "yaxis": {
         "anchor": "x",
         "domain": [
          0,
          1
         ],
         "range": [
          0,
          1
         ],
         "title": {
          "text": "Accuracy"
         }
        }
       }
      }
     },
     "metadata": {},
     "output_type": "display_data"
    },
    {
     "name": "stdout",
     "output_type": "stream",
     "text": [
      "Saved bar chart: /home/jeremias/projects/delphi-explanations/results/visualizations/accuracy_bar_fuzz.pdf\n",
      "Saved bar chart: /home/jeremias/projects/delphi-explanations/results/visualizations/accuracy_bar_fuzz.png\n"
     ]
    },
    {
     "name": "stderr",
     "output_type": "stream",
     "text": [
      "/tmp/ipykernel_3031605/3557244602.py:31: DeprecationWarning:\n",
      "\n",
      "\n",
      "Support for Kaleido versions less than 1.0.0 is deprecated and will be removed after September 2025.\n",
      "Please upgrade Kaleido to version 1.0.0 or greater (`pip install 'kaleido>=1.0.0'` or `pip install 'plotly[kaleido]'`).\n",
      "\n",
      "\n",
      "/tmp/ipykernel_3031605/3557244602.py:32: DeprecationWarning:\n",
      "\n",
      "\n",
      "Support for Kaleido versions less than 1.0.0 is deprecated and will be removed after September 2025.\n",
      "Please upgrade Kaleido to version 1.0.0 or greater (`pip install 'kaleido>=1.0.0'` or `pip install 'plotly[kaleido]'`).\n",
      "\n",
      "\n"
     ]
    },
    {
     "data": {
      "application/vnd.plotly.v1+json": {
       "config": {
        "plotlyServerURL": "https://plot.ly"
       },
       "data": [
        {
         "hovertemplate": "model=%{x}<br>accuracy=%{text}<extra></extra>",
         "legendgroup": "",
         "marker": {
          "color": "#636efa",
          "pattern": {
           "shape": ""
          }
         },
         "name": "",
         "orientation": "v",
         "showlegend": false,
         "text": {
          "bdata": "JiD2SzFI6T8E0Z1qNwTpP+ETR3qt4Og/R4ElTGTT6D+Uk5OTk5PoP5H3XcQqkeg/S2Amk3eK6D83BNGdajfoPztT9ANqJug/PaMJcNY85z9LdrJkJ0vmP7qDfGq9DOM/",
          "dtype": "f8"
         },
         "textposition": "outside",
         "texttemplate": "%{text:.3f}",
         "type": "bar",
         "x": [
          "Gemma-3-27B-IT",
          "Qwen3-32B",
          "Qwen3-235B",
          "Llama-4-Maverick-17B",
          "Qwen3-14B",
          "Llama-3.1-70B-Instruct",
          "Llama-4-Scout-17B",
          "Gemma-3-12B-IT",
          "Llama-3.3-70B-Instruct",
          "Transluce-Explainer-Llama-8B",
          "Qwen3-4B",
          "Gemma-3-4B-IT"
         ],
         "xaxis": "x",
         "y": {
          "bdata": "JiD2SzFI6T8E0Z1qNwTpP+ETR3qt4Og/R4ElTGTT6D+Uk5OTk5PoP5H3XcQqkeg/S2Amk3eK6D83BNGdajfoPztT9ANqJug/PaMJcNY85z9LdrJkJ0vmP7qDfGq9DOM/",
          "dtype": "f8"
         },
         "yaxis": "y"
        }
       ],
       "layout": {
        "barmode": "relative",
        "height": 500,
        "legend": {
         "tracegroupgap": 0
        },
        "template": {
         "data": {
          "bar": [
           {
            "error_x": {
             "color": "#2a3f5f"
            },
            "error_y": {
             "color": "#2a3f5f"
            },
            "marker": {
             "line": {
              "color": "#E5ECF6",
              "width": 0.5
             },
             "pattern": {
              "fillmode": "overlay",
              "size": 10,
              "solidity": 0.2
             }
            },
            "type": "bar"
           }
          ],
          "barpolar": [
           {
            "marker": {
             "line": {
              "color": "#E5ECF6",
              "width": 0.5
             },
             "pattern": {
              "fillmode": "overlay",
              "size": 10,
              "solidity": 0.2
             }
            },
            "type": "barpolar"
           }
          ],
          "carpet": [
           {
            "aaxis": {
             "endlinecolor": "#2a3f5f",
             "gridcolor": "white",
             "linecolor": "white",
             "minorgridcolor": "white",
             "startlinecolor": "#2a3f5f"
            },
            "baxis": {
             "endlinecolor": "#2a3f5f",
             "gridcolor": "white",
             "linecolor": "white",
             "minorgridcolor": "white",
             "startlinecolor": "#2a3f5f"
            },
            "type": "carpet"
           }
          ],
          "choropleth": [
           {
            "colorbar": {
             "outlinewidth": 0,
             "ticks": ""
            },
            "type": "choropleth"
           }
          ],
          "contour": [
           {
            "colorbar": {
             "outlinewidth": 0,
             "ticks": ""
            },
            "colorscale": [
             [
              0,
              "#0d0887"
             ],
             [
              0.1111111111111111,
              "#46039f"
             ],
             [
              0.2222222222222222,
              "#7201a8"
             ],
             [
              0.3333333333333333,
              "#9c179e"
             ],
             [
              0.4444444444444444,
              "#bd3786"
             ],
             [
              0.5555555555555556,
              "#d8576b"
             ],
             [
              0.6666666666666666,
              "#ed7953"
             ],
             [
              0.7777777777777778,
              "#fb9f3a"
             ],
             [
              0.8888888888888888,
              "#fdca26"
             ],
             [
              1,
              "#f0f921"
             ]
            ],
            "type": "contour"
           }
          ],
          "contourcarpet": [
           {
            "colorbar": {
             "outlinewidth": 0,
             "ticks": ""
            },
            "type": "contourcarpet"
           }
          ],
          "heatmap": [
           {
            "colorbar": {
             "outlinewidth": 0,
             "ticks": ""
            },
            "colorscale": [
             [
              0,
              "#0d0887"
             ],
             [
              0.1111111111111111,
              "#46039f"
             ],
             [
              0.2222222222222222,
              "#7201a8"
             ],
             [
              0.3333333333333333,
              "#9c179e"
             ],
             [
              0.4444444444444444,
              "#bd3786"
             ],
             [
              0.5555555555555556,
              "#d8576b"
             ],
             [
              0.6666666666666666,
              "#ed7953"
             ],
             [
              0.7777777777777778,
              "#fb9f3a"
             ],
             [
              0.8888888888888888,
              "#fdca26"
             ],
             [
              1,
              "#f0f921"
             ]
            ],
            "type": "heatmap"
           }
          ],
          "histogram": [
           {
            "marker": {
             "pattern": {
              "fillmode": "overlay",
              "size": 10,
              "solidity": 0.2
             }
            },
            "type": "histogram"
           }
          ],
          "histogram2d": [
           {
            "colorbar": {
             "outlinewidth": 0,
             "ticks": ""
            },
            "colorscale": [
             [
              0,
              "#0d0887"
             ],
             [
              0.1111111111111111,
              "#46039f"
             ],
             [
              0.2222222222222222,
              "#7201a8"
             ],
             [
              0.3333333333333333,
              "#9c179e"
             ],
             [
              0.4444444444444444,
              "#bd3786"
             ],
             [
              0.5555555555555556,
              "#d8576b"
             ],
             [
              0.6666666666666666,
              "#ed7953"
             ],
             [
              0.7777777777777778,
              "#fb9f3a"
             ],
             [
              0.8888888888888888,
              "#fdca26"
             ],
             [
              1,
              "#f0f921"
             ]
            ],
            "type": "histogram2d"
           }
          ],
          "histogram2dcontour": [
           {
            "colorbar": {
             "outlinewidth": 0,
             "ticks": ""
            },
            "colorscale": [
             [
              0,
              "#0d0887"
             ],
             [
              0.1111111111111111,
              "#46039f"
             ],
             [
              0.2222222222222222,
              "#7201a8"
             ],
             [
              0.3333333333333333,
              "#9c179e"
             ],
             [
              0.4444444444444444,
              "#bd3786"
             ],
             [
              0.5555555555555556,
              "#d8576b"
             ],
             [
              0.6666666666666666,
              "#ed7953"
             ],
             [
              0.7777777777777778,
              "#fb9f3a"
             ],
             [
              0.8888888888888888,
              "#fdca26"
             ],
             [
              1,
              "#f0f921"
             ]
            ],
            "type": "histogram2dcontour"
           }
          ],
          "mesh3d": [
           {
            "colorbar": {
             "outlinewidth": 0,
             "ticks": ""
            },
            "type": "mesh3d"
           }
          ],
          "parcoords": [
           {
            "line": {
             "colorbar": {
              "outlinewidth": 0,
              "ticks": ""
             }
            },
            "type": "parcoords"
           }
          ],
          "pie": [
           {
            "automargin": true,
            "type": "pie"
           }
          ],
          "scatter": [
           {
            "fillpattern": {
             "fillmode": "overlay",
             "size": 10,
             "solidity": 0.2
            },
            "type": "scatter"
           }
          ],
          "scatter3d": [
           {
            "line": {
             "colorbar": {
              "outlinewidth": 0,
              "ticks": ""
             }
            },
            "marker": {
             "colorbar": {
              "outlinewidth": 0,
              "ticks": ""
             }
            },
            "type": "scatter3d"
           }
          ],
          "scattercarpet": [
           {
            "marker": {
             "colorbar": {
              "outlinewidth": 0,
              "ticks": ""
             }
            },
            "type": "scattercarpet"
           }
          ],
          "scattergeo": [
           {
            "marker": {
             "colorbar": {
              "outlinewidth": 0,
              "ticks": ""
             }
            },
            "type": "scattergeo"
           }
          ],
          "scattergl": [
           {
            "marker": {
             "colorbar": {
              "outlinewidth": 0,
              "ticks": ""
             }
            },
            "type": "scattergl"
           }
          ],
          "scattermap": [
           {
            "marker": {
             "colorbar": {
              "outlinewidth": 0,
              "ticks": ""
             }
            },
            "type": "scattermap"
           }
          ],
          "scattermapbox": [
           {
            "marker": {
             "colorbar": {
              "outlinewidth": 0,
              "ticks": ""
             }
            },
            "type": "scattermapbox"
           }
          ],
          "scatterpolar": [
           {
            "marker": {
             "colorbar": {
              "outlinewidth": 0,
              "ticks": ""
             }
            },
            "type": "scatterpolar"
           }
          ],
          "scatterpolargl": [
           {
            "marker": {
             "colorbar": {
              "outlinewidth": 0,
              "ticks": ""
             }
            },
            "type": "scatterpolargl"
           }
          ],
          "scatterternary": [
           {
            "marker": {
             "colorbar": {
              "outlinewidth": 0,
              "ticks": ""
             }
            },
            "type": "scatterternary"
           }
          ],
          "surface": [
           {
            "colorbar": {
             "outlinewidth": 0,
             "ticks": ""
            },
            "colorscale": [
             [
              0,
              "#0d0887"
             ],
             [
              0.1111111111111111,
              "#46039f"
             ],
             [
              0.2222222222222222,
              "#7201a8"
             ],
             [
              0.3333333333333333,
              "#9c179e"
             ],
             [
              0.4444444444444444,
              "#bd3786"
             ],
             [
              0.5555555555555556,
              "#d8576b"
             ],
             [
              0.6666666666666666,
              "#ed7953"
             ],
             [
              0.7777777777777778,
              "#fb9f3a"
             ],
             [
              0.8888888888888888,
              "#fdca26"
             ],
             [
              1,
              "#f0f921"
             ]
            ],
            "type": "surface"
           }
          ],
          "table": [
           {
            "cells": {
             "fill": {
              "color": "#EBF0F8"
             },
             "line": {
              "color": "white"
             }
            },
            "header": {
             "fill": {
              "color": "#C8D4E3"
             },
             "line": {
              "color": "white"
             }
            },
            "type": "table"
           }
          ]
         },
         "layout": {
          "annotationdefaults": {
           "arrowcolor": "#2a3f5f",
           "arrowhead": 0,
           "arrowwidth": 1
          },
          "autotypenumbers": "strict",
          "coloraxis": {
           "colorbar": {
            "outlinewidth": 0,
            "ticks": ""
           }
          },
          "colorscale": {
           "diverging": [
            [
             0,
             "#8e0152"
            ],
            [
             0.1,
             "#c51b7d"
            ],
            [
             0.2,
             "#de77ae"
            ],
            [
             0.3,
             "#f1b6da"
            ],
            [
             0.4,
             "#fde0ef"
            ],
            [
             0.5,
             "#f7f7f7"
            ],
            [
             0.6,
             "#e6f5d0"
            ],
            [
             0.7,
             "#b8e186"
            ],
            [
             0.8,
             "#7fbc41"
            ],
            [
             0.9,
             "#4d9221"
            ],
            [
             1,
             "#276419"
            ]
           ],
           "sequential": [
            [
             0,
             "#0d0887"
            ],
            [
             0.1111111111111111,
             "#46039f"
            ],
            [
             0.2222222222222222,
             "#7201a8"
            ],
            [
             0.3333333333333333,
             "#9c179e"
            ],
            [
             0.4444444444444444,
             "#bd3786"
            ],
            [
             0.5555555555555556,
             "#d8576b"
            ],
            [
             0.6666666666666666,
             "#ed7953"
            ],
            [
             0.7777777777777778,
             "#fb9f3a"
            ],
            [
             0.8888888888888888,
             "#fdca26"
            ],
            [
             1,
             "#f0f921"
            ]
           ],
           "sequentialminus": [
            [
             0,
             "#0d0887"
            ],
            [
             0.1111111111111111,
             "#46039f"
            ],
            [
             0.2222222222222222,
             "#7201a8"
            ],
            [
             0.3333333333333333,
             "#9c179e"
            ],
            [
             0.4444444444444444,
             "#bd3786"
            ],
            [
             0.5555555555555556,
             "#d8576b"
            ],
            [
             0.6666666666666666,
             "#ed7953"
            ],
            [
             0.7777777777777778,
             "#fb9f3a"
            ],
            [
             0.8888888888888888,
             "#fdca26"
            ],
            [
             1,
             "#f0f921"
            ]
           ]
          },
          "colorway": [
           "#636efa",
           "#EF553B",
           "#00cc96",
           "#ab63fa",
           "#FFA15A",
           "#19d3f3",
           "#FF6692",
           "#B6E880",
           "#FF97FF",
           "#FECB52"
          ],
          "font": {
           "color": "#2a3f5f"
          },
          "geo": {
           "bgcolor": "white",
           "lakecolor": "white",
           "landcolor": "#E5ECF6",
           "showlakes": true,
           "showland": true,
           "subunitcolor": "white"
          },
          "hoverlabel": {
           "align": "left"
          },
          "hovermode": "closest",
          "mapbox": {
           "style": "light"
          },
          "paper_bgcolor": "white",
          "plot_bgcolor": "#E5ECF6",
          "polar": {
           "angularaxis": {
            "gridcolor": "white",
            "linecolor": "white",
            "ticks": ""
           },
           "bgcolor": "#E5ECF6",
           "radialaxis": {
            "gridcolor": "white",
            "linecolor": "white",
            "ticks": ""
           }
          },
          "scene": {
           "xaxis": {
            "backgroundcolor": "#E5ECF6",
            "gridcolor": "white",
            "gridwidth": 2,
            "linecolor": "white",
            "showbackground": true,
            "ticks": "",
            "zerolinecolor": "white"
           },
           "yaxis": {
            "backgroundcolor": "#E5ECF6",
            "gridcolor": "white",
            "gridwidth": 2,
            "linecolor": "white",
            "showbackground": true,
            "ticks": "",
            "zerolinecolor": "white"
           },
           "zaxis": {
            "backgroundcolor": "#E5ECF6",
            "gridcolor": "white",
            "gridwidth": 2,
            "linecolor": "white",
            "showbackground": true,
            "ticks": "",
            "zerolinecolor": "white"
           }
          },
          "shapedefaults": {
           "line": {
            "color": "#2a3f5f"
           }
          },
          "ternary": {
           "aaxis": {
            "gridcolor": "white",
            "linecolor": "white",
            "ticks": ""
           },
           "baxis": {
            "gridcolor": "white",
            "linecolor": "white",
            "ticks": ""
           },
           "bgcolor": "#E5ECF6",
           "caxis": {
            "gridcolor": "white",
            "linecolor": "white",
            "ticks": ""
           }
          },
          "title": {
           "x": 0.05
          },
          "xaxis": {
           "automargin": true,
           "gridcolor": "white",
           "linecolor": "white",
           "ticks": "",
           "title": {
            "standoff": 15
           },
           "zerolinecolor": "white",
           "zerolinewidth": 2
          },
          "yaxis": {
           "automargin": true,
           "gridcolor": "white",
           "linecolor": "white",
           "ticks": "",
           "title": {
            "standoff": 15
           },
           "zerolinecolor": "white",
           "zerolinewidth": 2
          }
         }
        },
        "title": {
         "text": "Mean Accuracy by Model - Detection"
        },
        "xaxis": {
         "anchor": "y",
         "domain": [
          0,
          1
         ],
         "tickangle": 45,
         "title": {
          "text": "Model"
         }
        },
        "yaxis": {
         "anchor": "x",
         "domain": [
          0,
          1
         ],
         "range": [
          0,
          1
         ],
         "title": {
          "text": "Accuracy"
         }
        }
       }
      }
     },
     "metadata": {},
     "output_type": "display_data"
    },
    {
     "name": "stderr",
     "output_type": "stream",
     "text": [
      "/tmp/ipykernel_3031605/3557244602.py:31: DeprecationWarning:\n",
      "\n",
      "\n",
      "Support for Kaleido versions less than 1.0.0 is deprecated and will be removed after September 2025.\n",
      "Please upgrade Kaleido to version 1.0.0 or greater (`pip install 'kaleido>=1.0.0'` or `pip install 'plotly[kaleido]'`).\n",
      "\n",
      "\n"
     ]
    },
    {
     "name": "stdout",
     "output_type": "stream",
     "text": [
      "Saved bar chart: /home/jeremias/projects/delphi-explanations/results/visualizations/accuracy_bar_detection.pdf\n",
      "Saved bar chart: /home/jeremias/projects/delphi-explanations/results/visualizations/accuracy_bar_detection.png\n",
      "\n",
      "Model accuracy rankings:\n",
      "\n",
      "Fuzz Accuracy Rankings:\n",
      "  1. Qwen3-32B: 0.894\n",
      "  2. Llama-4-Maverick-17B: 0.887\n",
      "  3. Qwen3-235B: 0.868\n",
      "  4. Llama-3.1-70B-Instruct: 0.867\n",
      "  5. Gemma-3-27B-IT: 0.859\n",
      "  6. Llama-3.3-70B-Instruct: 0.853\n",
      "  7. Llama-4-Scout-17B: 0.852\n",
      "  8. Qwen3-14B: 0.846\n",
      "  9. Transluce-Explainer-Llama-8B: 0.824\n",
      "  10. Gemma-3-12B-IT: 0.807\n",
      "  11. Qwen3-4B: 0.760\n",
      "  12. Gemma-3-4B-IT: 0.559\n",
      "\n",
      "Detection Accuracy Rankings:\n",
      "  1. Gemma-3-27B-IT: 0.790\n",
      "  2. Qwen3-32B: 0.782\n",
      "  3. Qwen3-235B: 0.777\n",
      "  4. Llama-4-Maverick-17B: 0.776\n",
      "  5. Qwen3-14B: 0.768\n",
      "  6. Llama-3.1-70B-Instruct: 0.768\n",
      "  7. Llama-4-Scout-17B: 0.767\n",
      "  8. Gemma-3-12B-IT: 0.757\n",
      "  9. Llama-3.3-70B-Instruct: 0.755\n",
      "  10. Transluce-Explainer-Llama-8B: 0.726\n",
      "  11. Qwen3-4B: 0.697\n",
      "  12. Gemma-3-4B-IT: 0.595\n",
      "\n",
      "Bar charts saved to /home/jeremias/projects/delphi-explanations/results/visualizations\n"
     ]
    },
    {
     "name": "stderr",
     "output_type": "stream",
     "text": [
      "/tmp/ipykernel_3031605/3557244602.py:32: DeprecationWarning:\n",
      "\n",
      "\n",
      "Support for Kaleido versions less than 1.0.0 is deprecated and will be removed after September 2025.\n",
      "Please upgrade Kaleido to version 1.0.0 or greater (`pip install 'kaleido>=1.0.0'` or `pip install 'plotly[kaleido]'`).\n",
      "\n",
      "\n"
     ]
    }
   ],
   "source": [
    "# Generate inline bar charts for mean accuracy and save to files\n",
    "print(\"Generating mean accuracy bar charts...\")\n",
    "\n",
    "# Create inline bar charts for each score type\n",
    "for score_type in accuracy_df['score_type'].unique():\n",
    "    score_df = accuracy_df[accuracy_df['score_type'] == score_type].sort_values('accuracy', ascending=False)\n",
    "    \n",
    "    # Create inline bar chart\n",
    "    fig = px.bar(\n",
    "        score_df,\n",
    "        x='model',\n",
    "        y='accuracy',\n",
    "        title=f'Mean Accuracy by Model - {score_type.title()}',\n",
    "        text='accuracy'\n",
    "    )\n",
    "    fig.update_layout(\n",
    "        yaxis_range=[0, 1],\n",
    "        xaxis_title=\"Model\",\n",
    "        yaxis_title=\"Accuracy\",\n",
    "        xaxis={'tickangle': 45},\n",
    "        height=500\n",
    "    )\n",
    "    fig.update_traces(texttemplate='%{text:.3f}', textposition='outside')\n",
    "    \n",
    "    # Show inline\n",
    "    fig.show()\n",
    "    \n",
    "    # Save to file in both PDF and PNG formats\n",
    "    output_file_pdf = visualizations_dir / f\"accuracy_bar_{score_type}.pdf\"\n",
    "    output_file_png = visualizations_dir / f\"accuracy_bar_{score_type}.png\"\n",
    "    fig.write_image(str(output_file_pdf))\n",
    "    fig.write_image(str(output_file_png))\n",
    "    print(f\"Saved bar chart: {output_file_pdf}\")\n",
    "    print(f\"Saved bar chart: {output_file_png}\")\n",
    "\n",
    "# Display accuracy rankings\n",
    "print(\"\\nModel accuracy rankings:\")\n",
    "for score_type in accuracy_df['score_type'].unique():\n",
    "    score_df = accuracy_df[accuracy_df['score_type'] == score_type].sort_values('accuracy', ascending=False)\n",
    "    print(f\"\\n{score_type.title()} Accuracy Rankings:\")\n",
    "    for i, (_, row) in enumerate(score_df.iterrows(), 1):\n",
    "        print(f\"  {i}. {row['model']}: {row['accuracy']:.3f}\")\n",
    "\n",
    "print(f\"\\nBar charts saved to {visualizations_dir}\")"
   ]
  },
  {
   "cell_type": "markdown",
   "id": "45f1c475",
   "metadata": {},
   "source": [
    "## 5. Create Comprehensive Performance Summary\n",
    "\n",
    "Generate summary tables and statistics comparing model performance across all metrics."
   ]
  },
  {
   "cell_type": "code",
   "execution_count": 30,
   "id": "1f55b95e",
   "metadata": {},
   "outputs": [
    {
     "name": "stdout",
     "output_type": "stream",
     "text": [
      "Creating comprehensive performance summary...\n",
      "\n",
      "Model Performance Summary (Accuracy Metrics):\n",
      "============================================================\n",
      "                              accuracy  f1_score  precision  recall\n",
      "model                                                              \n",
      "Gemma-3-12B-IT                   0.782     0.774      0.810   0.744\n",
      "Gemma-3-27B-IT                   0.825     0.828      0.812   0.845\n",
      "Gemma-3-4B-IT                    0.577     0.629      0.562   0.729\n",
      "Llama-3.1-70B-Instruct           0.818     0.806      0.859   0.759\n",
      "Llama-3.3-70B-Instruct           0.804     0.798      0.828   0.770\n",
      "Llama-4-Maverick-17B             0.832     0.827      0.852   0.803\n",
      "Llama-4-Scout-17B                0.809     0.806      0.818   0.795\n",
      "Qwen3-14B                        0.807     0.790      0.869   0.725\n",
      "Qwen3-235B                       0.823     0.806      0.893   0.736\n",
      "Qwen3-32B                        0.838     0.838      0.842   0.833\n",
      "Qwen3-4B                         0.728     0.739      0.711   0.769\n",
      "Transluce-Explainer-Llama-8B     0.775     0.733      0.897   0.620\n",
      "\n",
      "Summary saved to: /home/jeremias/projects/delphi-explanations/results/visualizations/model_accuracy_summary.csv\n",
      "\n",
      "Best Performing Models by Category:\n",
      "==================================================\n",
      "Highest Accuracy: Qwen3-32B (0.838)\n",
      "Highest F1 Score: Qwen3-32B (0.838)\n",
      "Highest Precision: Transluce-Explainer-Llama-8B (0.897)\n",
      "Highest Recall: Gemma-3-27B-IT (0.845)\n",
      "\n",
      "Detailed Analysis by Score Type:\n",
      "========================================\n",
      "\n",
      "Fuzz Results:\n",
      "                           model  accuracy  f1_score\n",
      "10                     Qwen3-32B  0.894265  0.893086\n",
      "18          Llama-4-Maverick-17B  0.887491  0.884199\n",
      "20                    Qwen3-235B  0.867893  0.853316\n",
      "14        Llama-3.1-70B-Instruct  0.867280  0.859590\n",
      "6                 Gemma-3-27B-IT  0.859308  0.862723\n",
      "12        Llama-3.3-70B-Instruct  0.852833  0.845129\n",
      "16             Llama-4-Scout-17B  0.851771  0.851379\n",
      "8                      Qwen3-14B  0.845588  0.828683\n",
      "22  Transluce-Explainer-Llama-8B  0.823750  0.794054\n",
      "4                 Gemma-3-12B-IT  0.807206  0.791009\n",
      "2                       Qwen3-4B  0.759556  0.771259\n",
      "0                  Gemma-3-4B-IT  0.558919  0.653967\n",
      "\n",
      "Detection Results:\n",
      "                           model  accuracy  f1_score\n",
      "7                 Gemma-3-27B-IT  0.790063  0.793303\n",
      "11                     Qwen3-32B  0.781765  0.781957\n",
      "21                    Qwen3-235B  0.777426  0.759437\n",
      "19          Llama-4-Maverick-17B  0.775805  0.769055\n",
      "9                      Qwen3-14B  0.768015  0.751946\n",
      "15        Llama-3.1-70B-Instruct  0.767721  0.752332\n",
      "17             Llama-4-Scout-17B  0.766903  0.761170\n",
      "5                 Gemma-3-12B-IT  0.756765  0.756908\n",
      "13        Llama-3.3-70B-Instruct  0.754689  0.750356\n",
      "23  Transluce-Explainer-Llama-8B  0.726176  0.671431\n",
      "3                       Qwen3-4B  0.696674  0.706186\n",
      "1                  Gemma-3-4B-IT  0.595305  0.603860\n",
      "\n",
      "All visualizations and summaries saved to: /home/jeremias/projects/delphi-explanations/results/visualizations\n",
      "\n",
      "Generated files:\n",
      "  - accuracy_bar_detection.pdf\n",
      "  - accuracy_bar_detection.png\n",
      "  - accuracy_bar_fuzz.pdf\n",
      "  - accuracy_bar_fuzz.png\n",
      "  - accuracy_density_detection.pdf\n",
      "  - accuracy_density_detection.png\n",
      "  - accuracy_density_fuzz.pdf\n",
      "  - accuracy_density_fuzz.png\n",
      "  - accuracy_density_line_detection.pdf\n",
      "  - accuracy_density_line_fuzz.pdf\n",
      "  - model_accuracy_summary.csv\n",
      "  - model_performance_summary.csv\n"
     ]
    }
   ],
   "source": [
    "# Create comprehensive performance summary\n",
    "print(\"Creating comprehensive performance summary...\")\n",
    "\n",
    "# Create accuracy summary\n",
    "accuracy_summary = accuracy_df.groupby('model').agg({\n",
    "    'accuracy': 'mean',\n",
    "    'f1_score': 'mean',\n",
    "    'precision': 'mean',\n",
    "    'recall': 'mean'\n",
    "}).round(3)\n",
    "\n",
    "print(\"\\nModel Performance Summary (Accuracy Metrics):\")\n",
    "print(\"=\" * 60)\n",
    "print(accuracy_summary)\n",
    "\n",
    "# Save summary to CSV\n",
    "summary_file = visualizations_dir / \"model_accuracy_summary.csv\"\n",
    "accuracy_summary.to_csv(summary_file)\n",
    "print(f\"\\nSummary saved to: {summary_file}\")\n",
    "\n",
    "# Best performing models by category\n",
    "print(\"\\nBest Performing Models by Category:\")\n",
    "print(\"=\" * 50)\n",
    "print(f\"Highest Accuracy: {accuracy_summary['accuracy'].idxmax()} ({accuracy_summary['accuracy'].max():.3f})\")\n",
    "print(f\"Highest F1 Score: {accuracy_summary['f1_score'].idxmax()} ({accuracy_summary['f1_score'].max():.3f})\")\n",
    "print(f\"Highest Precision: {accuracy_summary['precision'].idxmax()} ({accuracy_summary['precision'].max():.3f})\")\n",
    "print(f\"Highest Recall: {accuracy_summary['recall'].idxmax()} ({accuracy_summary['recall'].max():.3f})\")\n",
    "\n",
    "# Create detailed per-score-type analysis\n",
    "print(\"\\nDetailed Analysis by Score Type:\")\n",
    "print(\"=\" * 40)\n",
    "for score_type in accuracy_df['score_type'].unique():\n",
    "    score_subset = accuracy_df[accuracy_df['score_type'] == score_type]\n",
    "    print(f\"\\n{score_type.title()} Results:\")\n",
    "    print(score_subset[['model', 'accuracy', 'f1_score']].sort_values('accuracy', ascending=False))\n",
    "\n",
    "print(f\"\\nAll visualizations and summaries saved to: {visualizations_dir}\")\n",
    "print(\"\\nGenerated files:\")\n",
    "for file in sorted(visualizations_dir.glob(\"*\")):\n",
    "    print(f\"  - {file.name}\")"
   ]
  }
 ],
 "metadata": {
  "kernelspec": {
   "display_name": ".venv",
   "language": "python",
   "name": "python3"
  },
  "language_info": {
   "codemirror_mode": {
    "name": "ipython",
    "version": 3
   },
   "file_extension": ".py",
   "mimetype": "text/x-python",
   "name": "python",
   "nbconvert_exporter": "python",
   "pygments_lexer": "ipython3",
   "version": "3.11.13"
  }
 },
 "nbformat": 4,
 "nbformat_minor": 5
}
