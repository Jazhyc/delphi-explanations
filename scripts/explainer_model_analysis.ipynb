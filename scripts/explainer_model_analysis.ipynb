{
 "cells": [
  {
   "cell_type": "markdown",
   "id": "d1096fab",
   "metadata": {},
   "source": [
    "# Explainer Model Performance Analysis\n",
    "\n",
    "This notebook analyzes the performance of different explainer models in generating explanations for SAE latent features. We compare models across multiple metrics including accuracy, F1 scores, token usage, and execution time.\n",
    "\n",
    "## Recent Updates\n",
    "- **Updated to 400 latents**: Changed from 100 to 400 latents to match the experiment configuration\n",
    "- **Fixed directory pattern matching**: Now handles both old (with suffix) and new (without suffix) directory naming conventions\n",
    "- **Simplified loading process**: Now uses functions from `result_analysis.py` to reduce redundancy\n",
    "- **Enhanced model support**: Updated model name mapping for better display names and added GPT-OSS-20B\n",
    "\n",
    "## Analysis Overview\n",
    "\n",
    "- **Accuracy Distribution**: Density plots showing accuracy distribution for each model\n",
    "- **Mean Performance**: Bar charts comparing mean accuracy across models\n",
    "- **Token Usage**: Analysis of computational efficiency and resource consumption\n",
    "- **Performance Summary**: Comprehensive comparison tables"
   ]
  },
  {
   "cell_type": "markdown",
   "id": "e60643f3",
   "metadata": {},
   "source": [
    "## 1. Setup and Configuration\n",
    "\n",
    "Import required libraries, define model name mapping for prettier display names, and set up output directories."
   ]
  },
  {
   "cell_type": "code",
   "execution_count": 6,
   "id": "934a96fd",
   "metadata": {},
   "outputs": [
    {
     "name": "stdout",
     "output_type": "stream",
     "text": [
      "Model prefix: pythiaST\n",
      "Latents count: 400\n",
      "Compare thinking modes: False\n",
      "Results directory: /home/jeremias/projects/delphi-explanations/results\n",
      "Visualizations output: /home/jeremias/projects/delphi-explanations/results/visualizations\n",
      "Experiments directory: /home/jeremias/projects/delphi-explanations/results/pythiaST/400latents\n",
      "Available experiments (400 latents):\n",
      "  - pythiaST_Llama_3_3_70B_Instruct_quantized_w4a16\n",
      "  - pythiaST_Llama_4_Scout_17B_16E_Instruct_quantized_w4a16\n",
      "  - pythiaST_Meta_Llama_3_1_8B_Instruct_GPTQ_INT4\n",
      "  - pythiaST_Qwen3_14B_quantized_w4a16\n",
      "  - pythiaST_Qwen3_32B_quantized_w4a16\n",
      "  - pythiaST_Qwen3_4B_quantized_w4a16\n",
      "  - pythiaST_gemma_3_12b_it_quantized_w4a16\n",
      "  - pythiaST_gemma_3_27b_it_quantized_w4a16\n",
      "  - pythiaST_gemma_3_4b_it_quantized_w4a16\n",
      "  - pythiaST_gpt_oss_20b\n"
     ]
    }
   ],
   "source": [
    "import sys\n",
    "import os\n",
    "import json\n",
    "from pathlib import Path\n",
    "import pandas as pd\n",
    "import numpy as np\n",
    "\n",
    "# Add the parent directory to the path to import delphi modules\n",
    "sys.path.append(str(Path.cwd().parent))\n",
    "\n",
    "from delphi.log.result_analysis import (\n",
    "    import_plotly,\n",
    "    load_data,\n",
    "    get_agg_metrics,\n",
    "    add_latent_f1,\n",
    "    compute_confusion,\n",
    "    compute_classification_metrics,\n",
    "    frequency_weighted_f1\n",
    ")\n",
    "\n",
    "# Import plotly for plotting\n",
    "px = import_plotly()\n",
    "\n",
    "# Configuration - Model prefix for experiment naming\n",
    "MODEL_PREFIX = \"pythiaST\"  # Change this to match your base model (e.g., \"pythia\", \"gemma\", etc.)\n",
    "LATENTS_COUNT = 400  # Number of latents used in experiments\n",
    "COMPARE_THINKING_MODES = False  # Set to True to compare both thinking and non-thinking modes (Currently broken if set to True)\n",
    "\n",
    "# Define model name mapping for prettier display - updated to match actual directory names\n",
    "MODEL_NAME_MAPPING = {\n",
    "    \"gemma_3_4b_it_quantized_w4a16\": \"Gemma-3-4B-IT\",\n",
    "    \"Qwen3_4B_quantized_w4a16\": \"Qwen3-4B\", \n",
    "    \"gemma_3_12b_it_quantized_w4a16\": \"Gemma-3-12B-IT\",\n",
    "    \"gemma_3_27b_it_quantized_w4a16\": \"Gemma-3-27B-IT\",\n",
    "    \"Qwen3_14B_quantized_w4a16\": \"Qwen3-14B\",\n",
    "    \"Qwen3_32B_quantized_w4a16\": \"Qwen3-32B\",\n",
    "    \"Qwen3_235B_A22B_GPTQ_Int4\": \"Qwen3-235B\",\n",
    "    \"Llama_3_3_70B_Instruct_quantized_w4a16\": \"Llama-3.3-70B-Instruct\",\n",
    "    \"Llama_3_1_70B_Instruct_NVFP4\": \"Llama-3.1-70B-Instruct\",\n",
    "    \"Llama_4_Scout_17B_16E_Instruct_quantized_w4a16\": \"Llama-4-Scout-17B\",\n",
    "    \"Llama_4_Maverick_17B_128E_Instruct_quantized_w4a16\": \"Llama-4-Maverick-17B\",\n",
    "    \"llama_8b_explainer\": \"Transluce-Llama-8B (Qwen 32B Scorer)\",\n",
    "    \"Meta_Llama_3_1_8B_Instruct_GPTQ_INT4\": \"Llama-8B (Qwen 32B Scorer)\",\n",
    "    \"gpt_oss_20b\": \"GPT-OSS-20B\"\n",
    "}\n",
    "\n",
    "def load_model_results(results_dir: Path, model_mapping: dict, model_prefix: str, latents_count: int, compare_modes: bool = False):\n",
    "    \"\"\"Load results and statistics for all explainer models using functions from result_analysis.py.\"\"\"\n",
    "    model_results = {}\n",
    "    model_stats = {}\n",
    "\n",
    "    # Base directory for experiments with this latent count\n",
    "    experiments_base = results_dir / model_prefix / f\"{latents_count}latents\"\n",
    "\n",
    "    if not experiments_base.exists():\n",
    "        print(f\"Warning: Experiments directory not found: {experiments_base}\")\n",
    "        return model_results, model_stats\n",
    "\n",
    "    # Pattern for experiment directories (exclude thinking mode and hide directories)\n",
    "    # Handle both naming conventions: with and without latents suffix\n",
    "    pattern_with_suffix = f\"{model_prefix}_*_{latents_count}latents\"\n",
    "    pattern_without_suffix = f\"{model_prefix}_*\"\n",
    "    \n",
    "    all_exp_dirs = []\n",
    "    # First try directories with latents suffix (older format)\n",
    "    for exp_dir in experiments_base.glob(pattern_with_suffix):\n",
    "        if not (\"thinking\" in exp_dir.name or \"hide\" in exp_dir.name):\n",
    "            all_exp_dirs.append(exp_dir)\n",
    "    \n",
    "    # Then try directories without latents suffix (newer format)\n",
    "    if not all_exp_dirs:\n",
    "        for exp_dir in experiments_base.glob(pattern_without_suffix):\n",
    "            if (not (\"thinking\" in exp_dir.name or \"hide\" in exp_dir.name) and \n",
    "                exp_dir.name != \"cache\"):  # Exclude cache directory\n",
    "                all_exp_dirs.append(exp_dir)\n",
    "\n",
    "    for exp_dir in all_exp_dirs:\n",
    "        # Skip directories with \"thinking\" or \"hide\" in the name\n",
    "        if \"thinking\" in exp_dir.name or \"hide\" in exp_dir.name:\n",
    "            continue\n",
    "\n",
    "        # Extract model name from directory: handle both naming conventions\n",
    "        dir_name = exp_dir.name\n",
    "        if dir_name.endswith(f\"_{latents_count}latents\"):\n",
    "            # Old format: pythiaST_model_400latents\n",
    "            model_key = dir_name.replace(f\"{model_prefix}_\", \"\").replace(f\"_{latents_count}latents\", \"\")\n",
    "        else:\n",
    "            # New format: pythiaST_model\n",
    "            model_key = dir_name.replace(f\"{model_prefix}_\", \"\")\n",
    "        \n",
    "        base_display_name = model_mapping.get(model_key, model_key)\n",
    "        display_name = base_display_name\n",
    "\n",
    "        scores_path = exp_dir / \"scores\"\n",
    "        if scores_path.exists():\n",
    "            # Load scoring results using functions from result_analysis.py\n",
    "            try:\n",
    "                # All experiments now use the shared cache\n",
    "                cache_dir_name = \"cache\"\n",
    "                latents_path = experiments_base.parent / cache_dir_name / \"latents\"\n",
    "                if not latents_path.exists():\n",
    "                    latents_path = exp_dir / \"latents\"  # Fallback to local latents\n",
    "\n",
    "                if latents_path.exists():\n",
    "                    # Extract module names from the actual files\n",
    "                    sample_score_dir = next(scores_path.iterdir())\n",
    "                    sample_files = list(sample_score_dir.glob(\"*.txt\"))\n",
    "                    if sample_files:\n",
    "                        # Extract module name from filename pattern (e.g., \"layers.32_latent0.txt\" -> \"layers.32\")\n",
    "                        sample_filename = sample_files[0].stem\n",
    "                        module_name = sample_filename.split('_latent')[0]\n",
    "                        modules = [module_name]\n",
    "                    else:\n",
    "                        print(f\"No score files found in {sample_score_dir}\")\n",
    "                        continue\n",
    "\n",
    "                    # Use load_data from result_analysis.py\n",
    "                    latent_df, counts = load_data(scores_path, latents_path, modules)\n",
    "\n",
    "                    if latent_df.empty:\n",
    "                        print(f\"No data found for {display_name}\")\n",
    "                        continue\n",
    "\n",
    "                    # Use add_latent_f1 and get_agg_metrics from result_analysis.py\n",
    "                    latent_df = add_latent_f1(latent_df)\n",
    "                    processed_df = get_agg_metrics(latent_df, counts)\n",
    "\n",
    "                    model_results[display_name] = {\n",
    "                        'latent_df': latent_df,\n",
    "                        'processed_df': processed_df,\n",
    "                        'counts': counts\n",
    "                    }\n",
    "                else:\n",
    "                    print(f\"Latents path not found for {display_name}\")\n",
    "\n",
    "            except Exception as e:\n",
    "                print(f\"Error loading results for {model_key}: {e}\")\n",
    "                continue\n",
    "\n",
    "        # Load explainer statistics\n",
    "        stats_file = exp_dir / \"explainer_stats.json\"\n",
    "        if stats_file.exists():\n",
    "            try:\n",
    "                with open(stats_file, 'r') as f:\n",
    "                    stats = json.load(f)\n",
    "                    model_stats[display_name] = stats\n",
    "            except Exception as e:\n",
    "                print(f\"Error loading stats for {model_key}: {e}\")\n",
    "                model_stats[display_name] = None\n",
    "        else:\n",
    "            model_stats[display_name] = None\n",
    "\n",
    "    return model_results, model_stats\n",
    "\n",
    "# Set up directories\n",
    "results_dir = Path.cwd().parent / \"results\"\n",
    "visualizations_dir = results_dir / \"visualizations\"\n",
    "visualizations_dir.mkdir(exist_ok=True, parents=True)\n",
    "\n",
    "print(f\"Model prefix: {MODEL_PREFIX}\")\n",
    "print(f\"Latents count: {LATENTS_COUNT}\")\n",
    "print(f\"Compare thinking modes: {COMPARE_THINKING_MODES}\")\n",
    "print(f\"Results directory: {results_dir}\")\n",
    "print(f\"Visualizations output: {visualizations_dir}\")\n",
    "\n",
    "# Check if the experiments directory exists\n",
    "experiments_dir = results_dir / MODEL_PREFIX / f\"{LATENTS_COUNT}latents\"\n",
    "print(f\"Experiments directory: {experiments_dir}\")\n",
    "\n",
    "if experiments_dir.exists():\n",
    "    print(f\"Available experiments ({LATENTS_COUNT} latents):\")\n",
    "    # Handle both naming conventions: with and without latents suffix\n",
    "    pattern_with_suffix = f\"{MODEL_PREFIX}_*_{LATENTS_COUNT}latents\"\n",
    "    pattern_without_suffix = f\"{MODEL_PREFIX}_*\"\n",
    "    \n",
    "    all_exp_dirs = []\n",
    "    # First try directories with latents suffix (older format)\n",
    "    for exp_dir in sorted(experiments_dir.glob(pattern_with_suffix)):\n",
    "        if not (\"thinking\" in exp_dir.name or \"hide\" in exp_dir.name):\n",
    "            all_exp_dirs.append(exp_dir)\n",
    "    \n",
    "    # Then try directories without latents suffix (newer format)\n",
    "    if not all_exp_dirs:\n",
    "        for exp_dir in sorted(experiments_dir.glob(pattern_without_suffix)):\n",
    "            if (not (\"thinking\" in exp_dir.name or \"hide\" in exp_dir.name) and \n",
    "                exp_dir.name != \"cache\"):  # Exclude cache directory\n",
    "                all_exp_dirs.append(exp_dir)\n",
    "    \n",
    "    for exp_dir in all_exp_dirs:\n",
    "        print(f\"  - {exp_dir.name}\")\n",
    "else:\n",
    "    print(f\"Warning: Experiments directory not found: {experiments_dir}\")\n",
    "    print(\"Make sure experiments have been run with the specified latent count.\")"
   ]
  },
  {
   "cell_type": "markdown",
   "id": "e38a672b",
   "metadata": {},
   "source": [
    "## 2. Load Model Results\n",
    "\n",
    "Load explanation comparison results from all models and extract performance metrics."
   ]
  },
  {
   "cell_type": "code",
   "execution_count": 7,
   "id": "44990708",
   "metadata": {},
   "outputs": [
    {
     "name": "stdout",
     "output_type": "stream",
     "text": [
      "Loading model results...\n"
     ]
    },
    {
     "name": "stderr",
     "output_type": "stream",
     "text": [
      "/home/jeremias/projects/delphi-explanations/delphi/log/result_analysis.py:444: FutureWarning:\n",
      "\n",
      "DataFrameGroupBy.apply operated on the grouping columns. This behavior is deprecated, and in a future version of pandas the grouping columns will be excluded from the operation. Either pass `include_groups=False` to exclude the groupings or explicitly select the grouping columns after groupby to silence this warning.\n",
      "\n",
      "/home/jeremias/projects/delphi-explanations/delphi/log/result_analysis.py:444: FutureWarning:\n",
      "\n",
      "DataFrameGroupBy.apply operated on the grouping columns. This behavior is deprecated, and in a future version of pandas the grouping columns will be excluded from the operation. Either pass `include_groups=False` to exclude the groupings or explicitly select the grouping columns after groupby to silence this warning.\n",
      "\n",
      "/home/jeremias/projects/delphi-explanations/delphi/log/result_analysis.py:444: FutureWarning:\n",
      "\n",
      "DataFrameGroupBy.apply operated on the grouping columns. This behavior is deprecated, and in a future version of pandas the grouping columns will be excluded from the operation. Either pass `include_groups=False` to exclude the groupings or explicitly select the grouping columns after groupby to silence this warning.\n",
      "\n",
      "/home/jeremias/projects/delphi-explanations/delphi/log/result_analysis.py:444: FutureWarning:\n",
      "\n",
      "DataFrameGroupBy.apply operated on the grouping columns. This behavior is deprecated, and in a future version of pandas the grouping columns will be excluded from the operation. Either pass `include_groups=False` to exclude the groupings or explicitly select the grouping columns after groupby to silence this warning.\n",
      "\n",
      "/home/jeremias/projects/delphi-explanations/delphi/log/result_analysis.py:444: FutureWarning:\n",
      "\n",
      "DataFrameGroupBy.apply operated on the grouping columns. This behavior is deprecated, and in a future version of pandas the grouping columns will be excluded from the operation. Either pass `include_groups=False` to exclude the groupings or explicitly select the grouping columns after groupby to silence this warning.\n",
      "\n",
      "/home/jeremias/projects/delphi-explanations/delphi/log/result_analysis.py:444: FutureWarning:\n",
      "\n",
      "DataFrameGroupBy.apply operated on the grouping columns. This behavior is deprecated, and in a future version of pandas the grouping columns will be excluded from the operation. Either pass `include_groups=False` to exclude the groupings or explicitly select the grouping columns after groupby to silence this warning.\n",
      "\n",
      "/home/jeremias/projects/delphi-explanations/delphi/log/result_analysis.py:444: FutureWarning:\n",
      "\n",
      "DataFrameGroupBy.apply operated on the grouping columns. This behavior is deprecated, and in a future version of pandas the grouping columns will be excluded from the operation. Either pass `include_groups=False` to exclude the groupings or explicitly select the grouping columns after groupby to silence this warning.\n",
      "\n",
      "/home/jeremias/projects/delphi-explanations/delphi/log/result_analysis.py:444: FutureWarning:\n",
      "\n",
      "DataFrameGroupBy.apply operated on the grouping columns. This behavior is deprecated, and in a future version of pandas the grouping columns will be excluded from the operation. Either pass `include_groups=False` to exclude the groupings or explicitly select the grouping columns after groupby to silence this warning.\n",
      "\n",
      "/home/jeremias/projects/delphi-explanations/delphi/log/result_analysis.py:444: FutureWarning:\n",
      "\n",
      "DataFrameGroupBy.apply operated on the grouping columns. This behavior is deprecated, and in a future version of pandas the grouping columns will be excluded from the operation. Either pass `include_groups=False` to exclude the groupings or explicitly select the grouping columns after groupby to silence this warning.\n",
      "\n",
      "/home/jeremias/projects/delphi-explanations/delphi/log/result_analysis.py:444: FutureWarning:\n",
      "\n",
      "DataFrameGroupBy.apply operated on the grouping columns. This behavior is deprecated, and in a future version of pandas the grouping columns will be excluded from the operation. Either pass `include_groups=False` to exclude the groupings or explicitly select the grouping columns after groupby to silence this warning.\n",
      "\n",
      "/home/jeremias/projects/delphi-explanations/delphi/log/result_analysis.py:444: FutureWarning:\n",
      "\n",
      "DataFrameGroupBy.apply operated on the grouping columns. This behavior is deprecated, and in a future version of pandas the grouping columns will be excluded from the operation. Either pass `include_groups=False` to exclude the groupings or explicitly select the grouping columns after groupby to silence this warning.\n",
      "\n",
      "/home/jeremias/projects/delphi-explanations/delphi/log/result_analysis.py:444: FutureWarning:\n",
      "\n",
      "DataFrameGroupBy.apply operated on the grouping columns. This behavior is deprecated, and in a future version of pandas the grouping columns will be excluded from the operation. Either pass `include_groups=False` to exclude the groupings or explicitly select the grouping columns after groupby to silence this warning.\n",
      "\n",
      "/home/jeremias/projects/delphi-explanations/delphi/log/result_analysis.py:444: FutureWarning:\n",
      "\n",
      "DataFrameGroupBy.apply operated on the grouping columns. This behavior is deprecated, and in a future version of pandas the grouping columns will be excluded from the operation. Either pass `include_groups=False` to exclude the groupings or explicitly select the grouping columns after groupby to silence this warning.\n",
      "\n",
      "/home/jeremias/projects/delphi-explanations/delphi/log/result_analysis.py:444: FutureWarning:\n",
      "\n",
      "DataFrameGroupBy.apply operated on the grouping columns. This behavior is deprecated, and in a future version of pandas the grouping columns will be excluded from the operation. Either pass `include_groups=False` to exclude the groupings or explicitly select the grouping columns after groupby to silence this warning.\n",
      "\n",
      "/home/jeremias/projects/delphi-explanations/delphi/log/result_analysis.py:444: FutureWarning:\n",
      "\n",
      "DataFrameGroupBy.apply operated on the grouping columns. This behavior is deprecated, and in a future version of pandas the grouping columns will be excluded from the operation. Either pass `include_groups=False` to exclude the groupings or explicitly select the grouping columns after groupby to silence this warning.\n",
      "\n",
      "/home/jeremias/projects/delphi-explanations/delphi/log/result_analysis.py:444: FutureWarning:\n",
      "\n",
      "DataFrameGroupBy.apply operated on the grouping columns. This behavior is deprecated, and in a future version of pandas the grouping columns will be excluded from the operation. Either pass `include_groups=False` to exclude the groupings or explicitly select the grouping columns after groupby to silence this warning.\n",
      "\n",
      "/home/jeremias/projects/delphi-explanations/delphi/log/result_analysis.py:444: FutureWarning:\n",
      "\n",
      "DataFrameGroupBy.apply operated on the grouping columns. This behavior is deprecated, and in a future version of pandas the grouping columns will be excluded from the operation. Either pass `include_groups=False` to exclude the groupings or explicitly select the grouping columns after groupby to silence this warning.\n",
      "\n",
      "/home/jeremias/projects/delphi-explanations/delphi/log/result_analysis.py:444: FutureWarning:\n",
      "\n",
      "DataFrameGroupBy.apply operated on the grouping columns. This behavior is deprecated, and in a future version of pandas the grouping columns will be excluded from the operation. Either pass `include_groups=False` to exclude the groupings or explicitly select the grouping columns after groupby to silence this warning.\n",
      "\n",
      "/home/jeremias/projects/delphi-explanations/delphi/log/result_analysis.py:444: FutureWarning:\n",
      "\n",
      "DataFrameGroupBy.apply operated on the grouping columns. This behavior is deprecated, and in a future version of pandas the grouping columns will be excluded from the operation. Either pass `include_groups=False` to exclude the groupings or explicitly select the grouping columns after groupby to silence this warning.\n",
      "\n"
     ]
    },
    {
     "name": "stdout",
     "output_type": "stream",
     "text": [
      "\n",
      "Loaded results for 10 models:\n",
      "  - Qwen3-4B\n",
      "  - Gemma-3-4B-IT\n",
      "  - Gemma-3-12B-IT\n",
      "  - Gemma-3-27B-IT\n",
      "  - Qwen3-14B\n",
      "  - Qwen3-32B\n",
      "  - Llama-3.3-70B-Instruct\n",
      "  - GPT-OSS-20B\n",
      "  - Llama-8B (Qwen 32B Scorer)\n",
      "  - Llama-4-Scout-17B\n",
      "\n",
      "Token usage statistics available for 10 models:\n",
      "  - Qwen3-4B: ['DefaultExplainer']\n",
      "  - Gemma-3-4B-IT: ['DefaultExplainer']\n",
      "  - Gemma-3-12B-IT: ['DefaultExplainer']\n",
      "  - Gemma-3-27B-IT: ['DefaultExplainer']\n",
      "  - Qwen3-14B: ['DefaultExplainer']\n",
      "  - Qwen3-32B: ['DefaultExplainer']\n",
      "  - Llama-3.3-70B-Instruct: ['DefaultExplainer']\n",
      "  - GPT-OSS-20B: ['DefaultExplainer']\n",
      "  - Llama-8B (Qwen 32B Scorer): ['DefaultExplainer']\n",
      "  - Llama-4-Scout-17B: ['DefaultExplainer']\n",
      "\n",
      "Sample metrics from Qwen3-4B:\n",
      "  score_type  accuracy  f1_score  precision  recall\n",
      "0  detection     0.757     0.755      0.763   0.747\n",
      "1       fuzz     0.818     0.827      0.787   0.871\n"
     ]
    }
   ],
   "source": [
    "# Load all model results and statistics\n",
    "print(\"Loading model results...\")\n",
    "model_results, model_stats = load_model_results(results_dir, MODEL_NAME_MAPPING, MODEL_PREFIX, LATENTS_COUNT, COMPARE_THINKING_MODES)\n",
    "\n",
    "print(f\"\\nLoaded results for {len(model_results)} models:\")\n",
    "for model_name in model_results.keys():\n",
    "    print(f\"  - {model_name}\")\n",
    "\n",
    "print(f\"\\nToken usage statistics available for {len([k for k, v in model_stats.items() if v is not None])} models:\")\n",
    "for model_name, stats in model_stats.items():\n",
    "    if stats:\n",
    "        print(f\"  - {model_name}: {list(stats.keys())}\")\n",
    "    else:\n",
    "        print(f\"  - {model_name}: No stats available\")\n",
    "\n",
    "# Display sample metrics for the first model\n",
    "if model_results:\n",
    "    sample_model = list(model_results.keys())[0]\n",
    "    sample_data = model_results[sample_model]['processed_df']\n",
    "    print(f\"\\nSample metrics from {sample_model}:\")\n",
    "    print(sample_data[['score_type', 'accuracy', 'f1_score', 'precision', 'recall']].round(3))"
   ]
  },
  {
   "cell_type": "markdown",
   "id": "7c4c94b4",
   "metadata": {},
   "source": [
    "## 3. Generate Accuracy Distribution Plots\n",
    "\n",
    "Create density plots showing accuracy distribution for each model and score type."
   ]
  },
  {
   "cell_type": "code",
   "execution_count": 8,
   "id": "a8faa50f",
   "metadata": {},
   "outputs": [
    {
     "name": "stdout",
     "output_type": "stream",
     "text": [
      "Generating accuracy density distribution plots...\n",
      "\n",
      "Columns in latent_df: ['text', 'distance', 'activating', 'prediction', 'probability', 'correct', 'activations', 'latent_idx', 'score_type', 'module', 'firing_count', 'f1_score']\n",
      "Sample data shape: (118400, 12)\n",
      "Score types: ['fuzz' 'detection']\n",
      "\n",
      "Accuracy data summary:\n",
      "           accuracy                                                  f1_score  \\\n",
      "              count   mean    std    min    25%    50%    75%    max    count   \n",
      "score_type                                                                      \n",
      "detection      10.0  0.746  0.067  0.600  0.738  0.770  0.792  0.804     10.0   \n",
      "fuzz           10.0  0.804  0.102  0.567  0.812  0.833  0.859  0.892     10.0   \n",
      "\n",
      "                                                             \n",
      "             mean    std    min    25%    50%    75%    max  \n",
      "score_type                                                   \n",
      "detection   0.752  0.055  0.614  0.739  0.765  0.786  0.807  \n",
      "fuzz        0.806  0.084  0.655  0.796  0.829  0.861  0.890  \n",
      "Found 'correct' column - will calculate accuracy per latent for KDE plots\n",
      "\n",
      "Creating KDE density plot for fuzz...\n"
     ]
    },
    {
     "data": {
      "application/vnd.plotly.v1+json": {
       "config": {
        "plotlyServerURL": "https://plot.ly"
       },
       "data": [
        {
         "line": {
          "color": "lightgray",
          "dash": "solid",
          "width": 3
         },
         "mode": "lines",
         "name": "GPT-OSS-20B",
         "type": "scatter",
         "x": {
          "bdata": "AAAAAAAAAABbv1Kg1q+EP1u/UqDWr5Q/CB988MEHnz9bv1Kg1q+kPzJvZ0jM26k/CB988MEHrz9wZ0jM2xmyP1u/UqDWr7Q/RhdddNFFtz8yb2dIzNu5Px3HcRzHcbw/CB988MEHvz96O0Ni3s7AP3BnSMzbGcI/ZZNNNtlkwz9bv1Kg1q/EP1HrVwrU+sU/RhdddNFFxz88Q2LezpDIPzJvZ0jM28k/J5tssskmyz8dx3Ecx3HMPxPzdobEvM0/CB988MEHzz9/pUCtXynQP3o7Q2LeztA/ddFFF1100T9wZ0jM2xnSP2r9SoFav9I/ZZNNNtlk0z9gKVDrVwrUP1u/UqDWr9Q/VlVVVVVV1T9R61cK1PrVP0yBWr9SoNY/RhdddNFF1z9BrV8pUOvXPzxDYt7OkNg/N9lkk0022T8yb2dIzNvZPy0Fav1Kgdo/J5tssskm2z8iMW9nSMzbPx3HcRzHcdw/GF100UUX3T8T83aGxLzdPw6JeTtDYt4/CB988MEH3z8DtX6lQK3fP3+lQK1fKeA/ffDBBx984D96O0Ni3s7gP3eGxLydIeE/ddFFF1104T9yHMdxHMfhP3BnSMzbGeI/bbLJJpts4j9q/UqBWr/iP2hIzNsZEuM/ZZNNNtlk4z9j3s6QmLfjP2ApUOtXCuQ/XnTRRRdd5D9bv1Kg1q/kP1gK1PqVAuU/VlVVVVVV5T9ToNavFKjlP1HrVwrU+uU/TjbZZJNN5j9MgVq/UqDmP0nM2xkS8+Y/RhdddNFF5z9EYt7OkJjnP0GtXylQ6+c/P/jggw8+6D88Q2LezpDoPzmO4ziO4+g/N9lkk0026T80JObtDInpPzJvZ0jM2+k/L7rooosu6j8tBWr9SoHqPypQ61cK1Oo/J5tssskm6z8l5u0MiXnrPyIxb2dIzOs/IHzwwQcf7D8dx3Ecx3HsPxsS83aGxOw/GF100UUX7T8VqPUrBWrtPxPzdobEvO0/ED744IMP7j8OiXk7Q2LuPwvU+pUCte4/CB988MEH7z8Gav1KgVrvPwO1fqVAre8/AAAAAAAA8D8=",
          "dtype": "f8"
         },
         "y": {
          "bdata": "GnnspZgOnj/Q2uAP0vqeP+1ohui3zp8/a8TzpRJSoD9lb8QN68ygPyjbYvWIaKE/UFjWJGs1oj/yT7KwYEKjP2VEZ48Gm6Q/3e9x1XlGpj8qiBUBa0aoP3vPRg66lqo/OAmQk7ktrT+bV+RkKf2vP2b2qx70ebE/RGjvryQAsz/qaM6DdIm0P0l69YvlELY/Y162Y8KVtz86a6S5Fh25P80eZXjqsro/lOqZDCNrvD8mhmS59GG+Py/wJ+TqXcA/XEOYpXbSwT/rnGIG/6fDP9HWzMJp+sU/wh3nDh3nyD+c5pcYx4vMP/T3X8l7gtA/bl7Po0k20z/hr173FWzWP1npI/WkK9o/uzehA9143j/11SaZfanhP30NA5rxWeQ/YOhDRs1H5z8aYD2S/2nqPzNRkS5ktO0/WcnDr/eL8D9TxOBehEHyP1vuU5wK8fM/+uvKbxaQ9T/u4Lh3+hP3P15LnWlJcvg/68jFz1Sh+T8wfoG9qJj6P12VI9l7Ufs/4le7iwvH+z/vR6lk3fb7P4QgArfg4Ps/ryQX/G2H+z+2biRZJO/6P7jaBHioHvo/S9jMYUoe+T/m3qHrmff3PwEtEFLytPY/LJ1guQVh9T/DqcZ2cAb0P3buDmxar/I/gtD8nSpl8T9n6HPVTjDwP2Ih1MEtMO4/2m7bcEJF7D9yrugeq6nqP5N9q7nSZOk/UsgMGdV76D/PUpCMmvHnPx5kFIf1xuc/mHamrcD65z8nIraY/YnoP8c2+fz1b+k/dQFJfGGm6j+JJqoHkiXsPwNPkKmn5O0/8kwzDcvZ7z9kq+dBNv3wP0UJgwDCHfI/Ld6e6+ZI8z+WergGAHn0P5tqln16qPU/6TLVpOTR9j8Wc1Cl9u/3PwolP72V/fg/Z2Jm2dP1+T+QaSvo7dP6P1E9+JxLk/s/hj02XIMv/D9j6e62ZKT8P8tOmD0L7vw/AjQyi/oI/T8d5ElHQ/L8PyOHIo+vp/w/vWHe1fMn/D9kE6n+33L7PzN5BmuLifo//RhdKHZu+T8jS6mDmSX4P4zJwzBjtPY/qiF85pch9T8=",
          "dtype": "f8"
         }
        },
        {
         "line": {
          "color": "lightgreen",
          "dash": "dash",
          "width": 3
         },
         "mode": "lines",
         "name": "Gemma-3-12B-IT",
         "type": "scatter",
         "x": {
          "bdata": "AAAAAAAAAABbv1Kg1q+EP1u/UqDWr5Q/CB988MEHnz9bv1Kg1q+kPzJvZ0jM26k/CB988MEHrz9wZ0jM2xmyP1u/UqDWr7Q/RhdddNFFtz8yb2dIzNu5Px3HcRzHcbw/CB988MEHvz96O0Ni3s7AP3BnSMzbGcI/ZZNNNtlkwz9bv1Kg1q/EP1HrVwrU+sU/RhdddNFFxz88Q2LezpDIPzJvZ0jM28k/J5tssskmyz8dx3Ecx3HMPxPzdobEvM0/CB988MEHzz9/pUCtXynQP3o7Q2LeztA/ddFFF1100T9wZ0jM2xnSP2r9SoFav9I/ZZNNNtlk0z9gKVDrVwrUP1u/UqDWr9Q/VlVVVVVV1T9R61cK1PrVP0yBWr9SoNY/RhdddNFF1z9BrV8pUOvXPzxDYt7OkNg/N9lkk0022T8yb2dIzNvZPy0Fav1Kgdo/J5tssskm2z8iMW9nSMzbPx3HcRzHcdw/GF100UUX3T8T83aGxLzdPw6JeTtDYt4/CB988MEH3z8DtX6lQK3fP3+lQK1fKeA/ffDBBx984D96O0Ni3s7gP3eGxLydIeE/ddFFF1104T9yHMdxHMfhP3BnSMzbGeI/bbLJJpts4j9q/UqBWr/iP2hIzNsZEuM/ZZNNNtlk4z9j3s6QmLfjP2ApUOtXCuQ/XnTRRRdd5D9bv1Kg1q/kP1gK1PqVAuU/VlVVVVVV5T9ToNavFKjlP1HrVwrU+uU/TjbZZJNN5j9MgVq/UqDmP0nM2xkS8+Y/RhdddNFF5z9EYt7OkJjnP0GtXylQ6+c/P/jggw8+6D88Q2LezpDoPzmO4ziO4+g/N9lkk0026T80JObtDInpPzJvZ0jM2+k/L7rooosu6j8tBWr9SoHqPypQ61cK1Oo/J5tssskm6z8l5u0MiXnrPyIxb2dIzOs/IHzwwQcf7D8dx3Ecx3HsPxsS83aGxOw/GF100UUX7T8VqPUrBWrtPxPzdobEvO0/ED744IMP7j8OiXk7Q2LuPwvU+pUCte4/CB988MEH7z8Gav1KgVrvPwO1fqVAre8/AAAAAAAA8D8=",
          "dtype": "f8"
         },
         "y": {
          "bdata": "8Xkt6gRmzjm/0iCmfOsPOtUOjn6Dfk86SlZrZ+gyjTpqJphA+2/JOqjDRz/h0gQ71ny5qtAEQDu7suMAxih3OycHjN3sdq87P9+pARcW5DuLo4/9xxkYPE50+bUuLUs8+6uyKfzMfDw1prFbrq+sPNu2P3XO2to8Yey5XD2hBz2OsNurRYszPS/Wsj7dY149/ZGl6yY2hj3bzzddH4auPTFs0TQXuNM91JBTl7b09z0XKEmI510bPq+Dr+SvZj0+QhKir1i1XT57um3kvzx8PiSo4wLwP5k+PdgnW6M+tT5EDTCqeNLQPjbnKResE+k+t5MzQimZAT9nwsmBOkMXP75q5ehq+Cw/2PDkjYoAQT8Ilm3ybtFSPwG/lcjTpmM/bVL4ZYpgcz/IYFVleA6CP3A91HWY1o8/TV67Xf6Xmj8EwX5v7hSlP2rwq+dYyq8/7GsfnYvbtj++M+0AyHG/P2qkzmh3xMQ/YG4kkg5zyj959cJ4DVDQPwUFmmKek9M/+F7Q3Jr01j9vbZhnqWbaP0LjoDMe4N0/YKM40Y2s4D8P60L5i2XiP7bb5jlGGOQ/02+e4/vB5T9n/Q7p4F7nP+cJZnDt6Og/OSgVVpdX6j98aR4YiaHrP+i2T2KZwOw/zOwDhO627T+T1KQOFpPuP1GnpeOqcO8/POaATh068D+1GCNci+HwPxHsnSDXvPE/b2lRyfXR8j/8KXV6Lh30PzZlWBqBkvU/aotRYz4h9z9b9o/pjrj4PyeCm5ujS/o/wUBQc67U+z+qaqRQLFb9P9tGRAxE2v4/9nT/BhM4AED7SPwi1hMBQA2ujbsJBgJANRYfYKMPA0BR2VaatisEQKFYaBz0TwVAI4RB2+VuBkCEB+ICQXsHQP/NRmIrawhAZw12XTo6CUAe7gc3SekJQPUqrZrzewpAgspbyVj0CkDv9f80jU4LQBeaOOuDfQtArfOS+wBrC0BwpYM8QvsKQJYUz7e5EwpABf4lHveiCEAxA/nDQacGQEgN+d+2MQRAap600d5kAUDJhlG8PN78P9YlL/49Bfc/13f4zMGZ8T8=",
          "dtype": "f8"
         }
        },
        {
         "line": {
          "color": "lightgreen",
          "dash": "dot",
          "width": 3
         },
         "mode": "lines",
         "name": "Gemma-3-27B-IT",
         "type": "scatter",
         "x": {
          "bdata": "AAAAAAAAAABbv1Kg1q+EP1u/UqDWr5Q/CB988MEHnz9bv1Kg1q+kPzJvZ0jM26k/CB988MEHrz9wZ0jM2xmyP1u/UqDWr7Q/RhdddNFFtz8yb2dIzNu5Px3HcRzHcbw/CB988MEHvz96O0Ni3s7AP3BnSMzbGcI/ZZNNNtlkwz9bv1Kg1q/EP1HrVwrU+sU/RhdddNFFxz88Q2LezpDIPzJvZ0jM28k/J5tssskmyz8dx3Ecx3HMPxPzdobEvM0/CB988MEHzz9/pUCtXynQP3o7Q2LeztA/ddFFF1100T9wZ0jM2xnSP2r9SoFav9I/ZZNNNtlk0z9gKVDrVwrUP1u/UqDWr9Q/VlVVVVVV1T9R61cK1PrVP0yBWr9SoNY/RhdddNFF1z9BrV8pUOvXPzxDYt7OkNg/N9lkk0022T8yb2dIzNvZPy0Fav1Kgdo/J5tssskm2z8iMW9nSMzbPx3HcRzHcdw/GF100UUX3T8T83aGxLzdPw6JeTtDYt4/CB988MEH3z8DtX6lQK3fP3+lQK1fKeA/ffDBBx984D96O0Ni3s7gP3eGxLydIeE/ddFFF1104T9yHMdxHMfhP3BnSMzbGeI/bbLJJpts4j9q/UqBWr/iP2hIzNsZEuM/ZZNNNtlk4z9j3s6QmLfjP2ApUOtXCuQ/XnTRRRdd5D9bv1Kg1q/kP1gK1PqVAuU/VlVVVVVV5T9ToNavFKjlP1HrVwrU+uU/TjbZZJNN5j9MgVq/UqDmP0nM2xkS8+Y/RhdddNFF5z9EYt7OkJjnP0GtXylQ6+c/P/jggw8+6D88Q2LezpDoPzmO4ziO4+g/N9lkk0026T80JObtDInpPzJvZ0jM2+k/L7rooosu6j8tBWr9SoHqPypQ61cK1Oo/J5tssskm6z8l5u0MiXnrPyIxb2dIzOs/IHzwwQcf7D8dx3Ecx3HsPxsS83aGxOw/GF100UUX7T8VqPUrBWrtPxPzdobEvO0/ED744IMP7j8OiXk7Q2LuPwvU+pUCte4/CB988MEH7z8Gav1KgVrvPwO1fqVAre8/AAAAAAAA8D8=",
          "dtype": "f8"
         },
         "y": {
          "bdata": "Jbe/WZyy6DpF8Nv2k3IeO2NK87Xp2FE7e7tVlJ/lgzt2WssfQxi1O4ocRg3hROU7bJ2ZRBFlFDyV7AdOeZlCPM6+EKT9IXA8G8CZkGiemjxxD4X1UOPEPLc5uoi4Lu88QfDnNQ0kFj1pDd0dJOk9PTl+0gaNOGM9uDdPD76Ahz3av5M/K1irPc3sllu6Rc49r1uA13/k7z00VtCMEfoPPjdEttwMhC4+20MbhX24Sz7nsNqOEPlnPnT34UFAvYM+lBskDF30nj5izbDloR23PpWusD90cdA+UNiKGLhJ5j7KufIa8sn8Pm18FErsuBE/l5WqprrNJD++ef3jY0o3PzQ6Jfl/4Eg/sczSv15cWT+nD9jCB7BoPxA+9ADU9XY/Boz/BvdphD8Qz+cnH12RP7EF/5eASJw/PGE2P+8Tpj+DiKN/nYmwP1kh0sCSzrc/nwXA9St+wD/1VcOQFAnGP+sfSAAjc8w/b4hPCiHK0T8mrQ1B5ZrVPxvzfuKAjNk/I3eVvqh+3T+iy+fEF6ngP03yHmXXdOI/8xTN6KAU5D/4ifW6K3vlP0rXOxxRnOY/9LJ3nkpu5z8c4uhAduvnP/cRxJ/5E+g/4VENmYHu5z8PMdQUnIfnP6bayNmp7+Y/JUwUuOs35j9CgTeFgG/lPzcsTHAuoeQ/stWMLJXS4z+BKWPlBwXjP5zi/p3sN+I/JxFwtyls4T96oUoj5afgP3cSgQtR898/Wb8Jm+Xz3j84XnKf4pTeP1ckqP0nJd8/msNF/uF54D/s+jLbLiHiP5F0v1tVnOQ/we4gPjPu5z/FlpJOMQjsP/OrDcbgZvA/gX+E1JMN8z9zJi+r9eb1PzPyI3tm5vg/LX+YXpMG/D9x5TSdIkr/PxKD3AQPXQFAZcKhUjAxA0BNksBBWSYFQLLlJXS5PQdADMR/0VlyCUCLWvorRLcLQBnvftyP9g1AHLReQcYIEECLffhOHfEQQCcPKE8cnxFAYZrZiJf9EUAIXlyKQfoRQFsyd5zTiBFApgjpUPKlEECisg1NI7IOQBxUgbVSaQtA+Ji9Y7uoB0A=",
          "dtype": "f8"
         }
        },
        {
         "line": {
          "color": "lightgreen",
          "dash": "solid",
          "width": 3
         },
         "mode": "lines",
         "name": "Gemma-3-4B-IT",
         "type": "scatter",
         "x": {
          "bdata": "AAAAAAAAAABbv1Kg1q+EP1u/UqDWr5Q/CB988MEHnz9bv1Kg1q+kPzJvZ0jM26k/CB988MEHrz9wZ0jM2xmyP1u/UqDWr7Q/RhdddNFFtz8yb2dIzNu5Px3HcRzHcbw/CB988MEHvz96O0Ni3s7AP3BnSMzbGcI/ZZNNNtlkwz9bv1Kg1q/EP1HrVwrU+sU/RhdddNFFxz88Q2LezpDIPzJvZ0jM28k/J5tssskmyz8dx3Ecx3HMPxPzdobEvM0/CB988MEHzz9/pUCtXynQP3o7Q2LeztA/ddFFF1100T9wZ0jM2xnSP2r9SoFav9I/ZZNNNtlk0z9gKVDrVwrUP1u/UqDWr9Q/VlVVVVVV1T9R61cK1PrVP0yBWr9SoNY/RhdddNFF1z9BrV8pUOvXPzxDYt7OkNg/N9lkk0022T8yb2dIzNvZPy0Fav1Kgdo/J5tssskm2z8iMW9nSMzbPx3HcRzHcdw/GF100UUX3T8T83aGxLzdPw6JeTtDYt4/CB988MEH3z8DtX6lQK3fP3+lQK1fKeA/ffDBBx984D96O0Ni3s7gP3eGxLydIeE/ddFFF1104T9yHMdxHMfhP3BnSMzbGeI/bbLJJpts4j9q/UqBWr/iP2hIzNsZEuM/ZZNNNtlk4z9j3s6QmLfjP2ApUOtXCuQ/XnTRRRdd5D9bv1Kg1q/kP1gK1PqVAuU/VlVVVVVV5T9ToNavFKjlP1HrVwrU+uU/TjbZZJNN5j9MgVq/UqDmP0nM2xkS8+Y/RhdddNFF5z9EYt7OkJjnP0GtXylQ6+c/P/jggw8+6D88Q2LezpDoPzmO4ziO4+g/N9lkk0026T80JObtDInpPzJvZ0jM2+k/L7rooosu6j8tBWr9SoHqPypQ61cK1Oo/J5tssskm6z8l5u0MiXnrPyIxb2dIzOs/IHzwwQcf7D8dx3Ecx3HsPxsS83aGxOw/GF100UUX7T8VqPUrBWrtPxPzdobEvO0/ED744IMP7j8OiXk7Q2LuPwvU+pUCte4/CB988MEH7z8Gav1KgVrvPwO1fqVAre8/AAAAAAAA8D8=",
          "dtype": "f8"
         },
         "y": {
          "bdata": "I5HSmIiC3ztJGG70Mr0/PJHMyepIw5k8PffX2g3a8DzYfogN/8NBPSJSGUV3L449azmKM0Gq1D3Wnox1Hs0WPpjOjT8RRlQ+BsZm7IwNjT6zlyW/d8bAPus94Z/XOO8+/RPyFPxpFz+ltz1skUw8P2PL+qANkFs/ViElCyOidT8C58OdpF2LPzFuXH9s5Zs/EEFqyG7qpj8mOVPw3VauPzm4iIU9L7A/uMcqX2DUqz9yWyW3AkijP5CorGi6h5U/KR0lLqlfgz92L16hzxhsPyGXud8Ua1A/caIIoszsLj+WY4s6kHgHP4+n8luZz9w+3r/gshzNsj4LIZ1zfenFPmXCVSa+kvM+d269UWBLHT+/F9Tj4dxBP23gOYXw2GE/Geyhgf54fT/lez5uU12UP4fl0b9p9qc/T4n4pr2MuD/1XCYIyXrGPwi7lqTG6dI/4/7y6lUB3j/fhx2+kOTmP3VNJnCZ+fA/R5WBdgVz+D9g4YuvrvAAQKgvdimWRwZANR873bp5C0B2uQXPSKsPQCG/05HVSBFAdpflxo5oEkA7FEip8LYTQNrJOox5WBVA+/q6/wjWFkDaNG/RPHoXQAFNLfUX8RZAqZjpW3KNFUANTDQPvPcTQCIyHmaQpBJApmP2k9uZEUCsAzCn8ZkQQKYYHUEzyw5At8vgFVq8C0BB6M/kFiIIQGXEjvG4ZgRAc4r3ST//AECzODqcoiD8P7WGQT2yzPY/nnjWUpig8T+eEz1TeKTpP5MVbt2v5OE/VvuwBlAj2T9meZ1xC1XSPwS7PB6C5so/BoJtu8mGwj9OnE1eepa2P+rESJx0i6c/QyHdyRmZlD+THvbok+59P97mz3La72E/Y9D7MISjQT+up38oqFgcP3mHyjiujPI+fa6GFCu4wz4ARB0iIP6QPmB/+6PKs1c+mQeA8AC6Gj4hQh/gYFfYPdiNnI/45JE978FX+yk6RT3YVo0JLE/0PMUBrlETVp88Tgg4Gnl9Qzw0vL5qJovjO8JNqWR/l387V+FtumWUFDu6ezBc7ZulOn/C26RESTI6EbgiKvrwuDk=",
          "dtype": "f8"
         }
        },
        {
         "line": {
          "color": "lightblue",
          "dash": "solid",
          "width": 3
         },
         "mode": "lines",
         "name": "Llama-3.3-70B-Instruct",
         "type": "scatter",
         "x": {
          "bdata": "AAAAAAAAAABbv1Kg1q+EP1u/UqDWr5Q/CB988MEHnz9bv1Kg1q+kPzJvZ0jM26k/CB988MEHrz9wZ0jM2xmyP1u/UqDWr7Q/RhdddNFFtz8yb2dIzNu5Px3HcRzHcbw/CB988MEHvz96O0Ni3s7AP3BnSMzbGcI/ZZNNNtlkwz9bv1Kg1q/EP1HrVwrU+sU/RhdddNFFxz88Q2LezpDIPzJvZ0jM28k/J5tssskmyz8dx3Ecx3HMPxPzdobEvM0/CB988MEHzz9/pUCtXynQP3o7Q2LeztA/ddFFF1100T9wZ0jM2xnSP2r9SoFav9I/ZZNNNtlk0z9gKVDrVwrUP1u/UqDWr9Q/VlVVVVVV1T9R61cK1PrVP0yBWr9SoNY/RhdddNFF1z9BrV8pUOvXPzxDYt7OkNg/N9lkk0022T8yb2dIzNvZPy0Fav1Kgdo/J5tssskm2z8iMW9nSMzbPx3HcRzHcdw/GF100UUX3T8T83aGxLzdPw6JeTtDYt4/CB988MEH3z8DtX6lQK3fP3+lQK1fKeA/ffDBBx984D96O0Ni3s7gP3eGxLydIeE/ddFFF1104T9yHMdxHMfhP3BnSMzbGeI/bbLJJpts4j9q/UqBWr/iP2hIzNsZEuM/ZZNNNtlk4z9j3s6QmLfjP2ApUOtXCuQ/XnTRRRdd5D9bv1Kg1q/kP1gK1PqVAuU/VlVVVVVV5T9ToNavFKjlP1HrVwrU+uU/TjbZZJNN5j9MgVq/UqDmP0nM2xkS8+Y/RhdddNFF5z9EYt7OkJjnP0GtXylQ6+c/P/jggw8+6D88Q2LezpDoPzmO4ziO4+g/N9lkk0026T80JObtDInpPzJvZ0jM2+k/L7rooosu6j8tBWr9SoHqPypQ61cK1Oo/J5tssskm6z8l5u0MiXnrPyIxb2dIzOs/IHzwwQcf7D8dx3Ecx3HsPxsS83aGxOw/GF100UUX7T8VqPUrBWrtPxPzdobEvO0/ED744IMP7j8OiXk7Q2LuPwvU+pUCte4/CB988MEH7z8Gav1KgVrvPwO1fqVAre8/AAAAAAAA8D8=",
          "dtype": "f8"
         },
         "y": {
          "bdata": "5Zqd/NtYYTWXrnPksqrINaWKETCtAjA2ruExL2L5kjYX1ia0WYf0NputnrfsRlQ3HJgz1vZIsjcLt908ZhsOODhJk5oNoWY4kephUpsOvzhHhSfUMHUTOTYP54iuQmY5DWtllI5AtznGKnhDKy0GOn6skvDtT1M6XPn68qu2njoXbyspTk3mOgaR2Mquky07wQ9MrTzpcTtxjcsKAdCzO7bSjE93BPQ7hRgi82h5MjzQmxf29iZvPKKyDiRZ/6c8xcOtJ2Tk4DwuMiST/LsVPeWd9DDkj0k9GaZbdJx8ez0wyFeHaAerPdEN70XxT9g9jKxIfXoCBD68Z0VXniUuPvidMQ0py1Q+bYilcyZGej6Jol7w9muePsiu3S5XJcA+2IfKJu9v3z6alJfDPBX8Pm5dW7KLBxc/QIKOdCpYMT+tJsoT9ABIP7KslOuZiF4/3rOSIxDbcT/bnbXrJDWDP8NsfcpjApM/059v2HJQoT8yBj7OXAqtP7d+FqdYcLY/HivdKkL8vz9ym7i7AhLFP5zgzdn3v8k/9uU0g65fzT9lu7Dq1pzPP5YCVlLOUtA/KFyK2WOQ0D/aG6ADy/TQPyhF43882NE/XZepnxFY0z83pRKmRk3VP+KawSegYNc/yJX5kWou2T8bLrb6+2baP7PhYclN4do/8pdukdCh2j8wThvWM93ZP/2hUJwa+dg/cMec+WqD2D/ns6K2yhfZP/b0++lENds/1WnzM4cT3z/gI/A+60XiPzE1O5PAkOU/3u5JBQkT6T/wjjzphHTsPxqdbgk/cO8/7ZPpKgbw8D9RCuS9LuDxP75u8ljkmPI/mdN8NUA+8z9a12Yo7wn0P4/Y1x0cSfU/0aThS5NS9z+wo58H1HT6Pz0Opla/4P4/EQpiUDpMAkB1ZidajLQFQNCj73NUeQlAjgd9SDBeDUBU1N+i3ZMQQC0H/5ZwUxJAanpKTyXeE0CoRGwFVCgVQBCqJKBmIhZAWAl6grCxFkDIC1WsH7AWQPxAzKgO9hVAA0GN3qFrFECahQb3lxkSQI9ZGzZLYA5AUkfruJn9B0A=",
          "dtype": "f8"
         }
        },
        {
         "line": {
          "color": "lightblue",
          "dash": "dot",
          "width": 3
         },
         "mode": "lines",
         "name": "Llama-4-Scout-17B",
         "type": "scatter",
         "x": {
          "bdata": "AAAAAAAAAABbv1Kg1q+EP1u/UqDWr5Q/CB988MEHnz9bv1Kg1q+kPzJvZ0jM26k/CB988MEHrz9wZ0jM2xmyP1u/UqDWr7Q/RhdddNFFtz8yb2dIzNu5Px3HcRzHcbw/CB988MEHvz96O0Ni3s7AP3BnSMzbGcI/ZZNNNtlkwz9bv1Kg1q/EP1HrVwrU+sU/RhdddNFFxz88Q2LezpDIPzJvZ0jM28k/J5tssskmyz8dx3Ecx3HMPxPzdobEvM0/CB988MEHzz9/pUCtXynQP3o7Q2LeztA/ddFFF1100T9wZ0jM2xnSP2r9SoFav9I/ZZNNNtlk0z9gKVDrVwrUP1u/UqDWr9Q/VlVVVVVV1T9R61cK1PrVP0yBWr9SoNY/RhdddNFF1z9BrV8pUOvXPzxDYt7OkNg/N9lkk0022T8yb2dIzNvZPy0Fav1Kgdo/J5tssskm2z8iMW9nSMzbPx3HcRzHcdw/GF100UUX3T8T83aGxLzdPw6JeTtDYt4/CB988MEH3z8DtX6lQK3fP3+lQK1fKeA/ffDBBx984D96O0Ni3s7gP3eGxLydIeE/ddFFF1104T9yHMdxHMfhP3BnSMzbGeI/bbLJJpts4j9q/UqBWr/iP2hIzNsZEuM/ZZNNNtlk4z9j3s6QmLfjP2ApUOtXCuQ/XnTRRRdd5D9bv1Kg1q/kP1gK1PqVAuU/VlVVVVVV5T9ToNavFKjlP1HrVwrU+uU/TjbZZJNN5j9MgVq/UqDmP0nM2xkS8+Y/RhdddNFF5z9EYt7OkJjnP0GtXylQ6+c/P/jggw8+6D88Q2LezpDoPzmO4ziO4+g/N9lkk0026T80JObtDInpPzJvZ0jM2+k/L7rooosu6j8tBWr9SoHqPypQ61cK1Oo/J5tssskm6z8l5u0MiXnrPyIxb2dIzOs/IHzwwQcf7D8dx3Ecx3HsPxsS83aGxOw/GF100UUX7T8VqPUrBWrtPxPzdobEvO0/ED744IMP7j8OiXk7Q2LuPwvU+pUCte4/CB988MEH7z8Gav1KgVrvPwO1fqVAre8/AAAAAAAA8D8=",
          "dtype": "f8"
         },
         "y": {
          "bdata": "DtZrpBfFozZJUTjdqSQCN8bzo9+cl143Xjj4XZ+xtzdt/KQYwtsQOB7uEg7rCWY4O48ZSbZ3ujiCfTqziDMNOUGzjePcmF05TxoBSQKPqzmBXoKu3pL3OVcdyChxhkI6lpUcfH+/ijosk5X1gb3ROkPMlyhjnhU7uGbzqwo0WDs6YvOl7uSYO7myGQkjhtc74QM7DT9sFDwDsLnXR0pQPDXS+CKG4Ic8uYg4tAQUwDxpF391e+XzPL5jIf37nyY9pPyfpqakVz0XlOZdGrWGPdcUYxq4C7Q98GTg1JNE4D1G0EoF9kYIPu6Q4w/SqDA+zrtvpGYIVT5Ew5sCk294PjUyzzXBIpo+lh8B0pW/uT6/prj+Y2HXPq2S5GdSlfM+KwyenR9KDj/TcfMIB6clP+qZfM8hpzw/Qbah/xWTUT9q6GrkOAVkP/Ik8spBOHU/cRcXlz/4hD+7ub1hH12TP63CAqM6v6A/Z3qxQ14yqz/F1Zcqgsm0P/MCsSMY/70/FcaPxlF/xD8kCgW0X6HKP+c+CyE/hNA/fMM+DA2n0z/kgu0EQYnWP+F4f3tWA9k/hHZwqXn42j+kh/kKEVrcP5ovQ4QwL90/GVAyCXqd3T8jVi7koOvdP1pG4df5dd4/96bpFfmU3z995dtjyr/gP/KlSzcvHOI/HJICTKHH4z8URIbjHJvlP9oEUSOObuc/8TgwmYcj6T+hUNSuV6nqPwaKzSWn++s/s5bQvHUf7T9mJasO7yHuP2+ldww6Gu8/MIAyMGsW8D9pON7C2cbwP47dsMFBv/E/WLqGcT4k8z9FLF5yRBn1P00oUYDGuvc/KIQoXSMY+z8e/GJLPS7/P/Dg0GAx8gFAJURdg+6GBEC1x96X1zgHQHzDj0ih6wlAeicJ45GJDEDOyZfwfwYPQLZT4fl0rhBAZtjISrPCEUD0Nd9vDbYSQEdVb1X7dBNAhJHEGkrjE0AzR4+y5eETQIdUjy+mVxNAMhEtWs45EkAhr/+6FpEQQOCWvF5Y8wxANTqpL+A8CEBpkS9eQ2IDQF+MyN1shv0/LPcSw8FY9T8=",
          "dtype": "f8"
         }
        },
        {
         "line": {
          "color": "lightcoral",
          "dash": "dot",
          "width": 3
         },
         "mode": "lines",
         "name": "Llama-8B (Qwen 32B Scorer)",
         "type": "scatter",
         "x": {
          "bdata": "AAAAAAAAAABbv1Kg1q+EP1u/UqDWr5Q/CB988MEHnz9bv1Kg1q+kPzJvZ0jM26k/CB988MEHrz9wZ0jM2xmyP1u/UqDWr7Q/RhdddNFFtz8yb2dIzNu5Px3HcRzHcbw/CB988MEHvz96O0Ni3s7AP3BnSMzbGcI/ZZNNNtlkwz9bv1Kg1q/EP1HrVwrU+sU/RhdddNFFxz88Q2LezpDIPzJvZ0jM28k/J5tssskmyz8dx3Ecx3HMPxPzdobEvM0/CB988MEHzz9/pUCtXynQP3o7Q2LeztA/ddFFF1100T9wZ0jM2xnSP2r9SoFav9I/ZZNNNtlk0z9gKVDrVwrUP1u/UqDWr9Q/VlVVVVVV1T9R61cK1PrVP0yBWr9SoNY/RhdddNFF1z9BrV8pUOvXPzxDYt7OkNg/N9lkk0022T8yb2dIzNvZPy0Fav1Kgdo/J5tssskm2z8iMW9nSMzbPx3HcRzHcdw/GF100UUX3T8T83aGxLzdPw6JeTtDYt4/CB988MEH3z8DtX6lQK3fP3+lQK1fKeA/ffDBBx984D96O0Ni3s7gP3eGxLydIeE/ddFFF1104T9yHMdxHMfhP3BnSMzbGeI/bbLJJpts4j9q/UqBWr/iP2hIzNsZEuM/ZZNNNtlk4z9j3s6QmLfjP2ApUOtXCuQ/XnTRRRdd5D9bv1Kg1q/kP1gK1PqVAuU/VlVVVVVV5T9ToNavFKjlP1HrVwrU+uU/TjbZZJNN5j9MgVq/UqDmP0nM2xkS8+Y/RhdddNFF5z9EYt7OkJjnP0GtXylQ6+c/P/jggw8+6D88Q2LezpDoPzmO4ziO4+g/N9lkk0026T80JObtDInpPzJvZ0jM2+k/L7rooosu6j8tBWr9SoHqPypQ61cK1Oo/J5tssskm6z8l5u0MiXnrPyIxb2dIzOs/IHzwwQcf7D8dx3Ecx3HsPxsS83aGxOw/GF100UUX7T8VqPUrBWrtPxPzdobEvO0/ED744IMP7j8OiXk7Q2LuPwvU+pUCte4/CB988MEH7z8Gav1KgVrvPwO1fqVAre8/AAAAAAAA8D8=",
          "dtype": "f8"
         },
         "y": {
          "bdata": "7l5MEjibYzkGUOmwJaepOUrwBDk/Xu85Ahep72zsMTrGCfwzhSRzOlkWEiptG7M6pCx0tfDS8ToZn+yQHRQvOyUBg4mLUmk7Q2CHa2NIozvvQ5PdP3LbO4MzuN1cQRI8++Ns0SmyRjyrlgQ9DV96PCKefEpJo6w8mtd/Yr0Q3TxksMYi/ZELPf10UdwmcTg9tJYlFXxAZD21keGHuF2PPdFgwjS4s7Y96gfuFeW23j2lV/tYaGsDPgMJRvq88yY+XveIkv1aST5YrVAOgi5qPn1VHspPRYk+xPPZwhPNpj6DGxBWkDvDPoayAxO3Vd4+GMSLJJpe9j6tjPNF1NoOP23fUDnu5yM/D2peTvMIOD/jiLThNitLPwJ68YUSxVw/yoZqLVeQbD9Mx0XZ5Z56P/TXpEZyU4c/cPBMowdCkz9gjQoD5QueP+UOQ+ezOqY/8TwczllWrz+vhm8/Cym1P0xfz6eEi7s/N0IZzjVkwT8FUsmnoG7FP8amKpSf58k/n+VB5BDTzj+cu6czxRnSP93HaBhdBdU/rVaNXrgu2D+c+Rd2lZzbPxgmAxurW98/uPhAW8u+4T8Qu2EBRwrkPw9XBsEhluY/TpjkpYRg6T+sNmJgb1vsP+BkKxqRae8/3pv0xCkv8T8sFgBEaYHyP67QxnkPkPM/9URLKmpG9D9f4nA865z0PzD56XSynPQ/5KbmtKNe9D8KOnIjDgb0P9LADKKkuPM/FNnAd5SW8z9dUxuMdrXzPw4FmCO4H/Q/0SAuR1jY9D+ZJl52FuH1P2KQEZ4VQPc/IVQrEwgC+T+pL+IJXjf7PwERdnA87f0/BGligZySAECUzFh85WcCQJ90THErZgRAs5LHI4V3BkCws/wq34QIQGPywU7CeQpAYRBahqhFDEBB9f15ftoNQNHyes6BKQ9AGWFCqUQQEEBNvpqgv1QQQNbpguFYVhBAMcjhXacKEECUQJQZkNYOQKGYQqUN8AxAefVRrCNwCkCsN3Eu+XMHQP05HHwiJQRASfc3qyS1AEBpHdMkzq76P41INOcIdfQ/LWHy5zAJ7j8=",
          "dtype": "f8"
         }
        },
        {
         "line": {
          "color": "lightcoral",
          "dash": "solid",
          "width": 3
         },
         "mode": "lines",
         "name": "Qwen3-14B",
         "type": "scatter",
         "x": {
          "bdata": "AAAAAAAAAABbv1Kg1q+EP1u/UqDWr5Q/CB988MEHnz9bv1Kg1q+kPzJvZ0jM26k/CB988MEHrz9wZ0jM2xmyP1u/UqDWr7Q/RhdddNFFtz8yb2dIzNu5Px3HcRzHcbw/CB988MEHvz96O0Ni3s7AP3BnSMzbGcI/ZZNNNtlkwz9bv1Kg1q/EP1HrVwrU+sU/RhdddNFFxz88Q2LezpDIPzJvZ0jM28k/J5tssskmyz8dx3Ecx3HMPxPzdobEvM0/CB988MEHzz9/pUCtXynQP3o7Q2LeztA/ddFFF1100T9wZ0jM2xnSP2r9SoFav9I/ZZNNNtlk0z9gKVDrVwrUP1u/UqDWr9Q/VlVVVVVV1T9R61cK1PrVP0yBWr9SoNY/RhdddNFF1z9BrV8pUOvXPzxDYt7OkNg/N9lkk0022T8yb2dIzNvZPy0Fav1Kgdo/J5tssskm2z8iMW9nSMzbPx3HcRzHcdw/GF100UUX3T8T83aGxLzdPw6JeTtDYt4/CB988MEH3z8DtX6lQK3fP3+lQK1fKeA/ffDBBx984D96O0Ni3s7gP3eGxLydIeE/ddFFF1104T9yHMdxHMfhP3BnSMzbGeI/bbLJJpts4j9q/UqBWr/iP2hIzNsZEuM/ZZNNNtlk4z9j3s6QmLfjP2ApUOtXCuQ/XnTRRRdd5D9bv1Kg1q/kP1gK1PqVAuU/VlVVVVVV5T9ToNavFKjlP1HrVwrU+uU/TjbZZJNN5j9MgVq/UqDmP0nM2xkS8+Y/RhdddNFF5z9EYt7OkJjnP0GtXylQ6+c/P/jggw8+6D88Q2LezpDoPzmO4ziO4+g/N9lkk0026T80JObtDInpPzJvZ0jM2+k/L7rooosu6j8tBWr9SoHqPypQ61cK1Oo/J5tssskm6z8l5u0MiXnrPyIxb2dIzOs/IHzwwQcf7D8dx3Ecx3HsPxsS83aGxOw/GF100UUX7T8VqPUrBWrtPxPzdobEvO0/ED744IMP7j8OiXk7Q2LuPwvU+pUCte4/CB988MEH7z8Gav1KgVrvPwO1fqVAre8/AAAAAAAA8D8=",
          "dtype": "f8"
         },
         "y": {
          "bdata": "brtJP5SWZzjzWLtmh2OzOHo2gOfTxv04Jfs4WlFcRTkuj+2aXKGMOWZ18ZvF7NE5Y04crvL3FDrRp/fMdOpWOugUZ0SvZZc6mwLozXJR1jpENIE1u+MTO7y1MRt8j1A7+b10iP3DiTvHal6LNLrCO6bNxGi1b/k74gBAXhUkMDz1bWbLNyRjPAo2V1dKNpU86KtXt5n3xTxYJJe6t0L1PG3XRyRROyM9iaklVrZCUD361IZoRbR5PZeaUSJj/qI9ZczNnxw/yj3fshOGfvXwPbrIXPG8fxQ+bSGsdmEuNz6tyjdCA4hYPs/4HYr6THg+kQWvl6SKlj4odqHJnpazPskPqi2A6M8+zMtAOSRf6D4AI533BHgBP5LdWb+ihBc/xtzn5+7CLT8EIslb7bdBP8IAVS+U31M/33lGvxEGZT/mMd7IjwF1P6DHTfl42oM/PisurhzHkT/uyBj2TTeeP1P2Ccmnaag/p/CTLx7Jsj+mUPunJJa7P1cCxvEtXcM/niqvST8Kyj+vL4dTnM7QP37A4GCX39Q/2g8+jKsA2T+FaU8dLfbcP6JORNVCROA/zOl1TZvF4T/Zgkfmq/DiP/Qj95Pnv+M/DeooMUk35D+wYftDHmXkP+yk6Xn3YuQ/DVpFgMZV5D+d4tdbnGvkPzBaW2nf1eQ/ViWgyT/A5T8Snn/Nh0bnP4+8vR2UbOk/37Ao03Ub7D8147mAByXvP3hYzBl9JvE/qToEH1yq8j+pOjeiiwP0P4OHwDLBIPU/VLRYkqz89T//iaHLlJ72P7GsP4MLGfc/CS9foC2H9z+rFYpMMgn4P7c49A0iwfg/RcESfUPQ+T9J/nvaIVX7PxKRNodraf0/aK6PwmQPAEAslvUYQ70BQGCzE/qNuANATD3bceXxBUDrEkS0HVEIQGc3ASlOuApALz91hxYIDUDPac+bHCMPQKToFm9xdxBA9X63zcYoEUDft3HNK5cRQBT9WFsAshFAtW6n8BVoEUC7K8BsHawQQBEytFPo9A5AvRl2w5q7C0BxHBFCoeAHQC0cvq1LsANAXpc1glcB/z8=",
          "dtype": "f8"
         }
        },
        {
         "line": {
          "color": "lightcoral",
          "dash": "dot",
          "width": 3
         },
         "mode": "lines",
         "name": "Qwen3-32B",
         "type": "scatter",
         "x": {
          "bdata": "AAAAAAAAAABbv1Kg1q+EP1u/UqDWr5Q/CB988MEHnz9bv1Kg1q+kPzJvZ0jM26k/CB988MEHrz9wZ0jM2xmyP1u/UqDWr7Q/RhdddNFFtz8yb2dIzNu5Px3HcRzHcbw/CB988MEHvz96O0Ni3s7AP3BnSMzbGcI/ZZNNNtlkwz9bv1Kg1q/EP1HrVwrU+sU/RhdddNFFxz88Q2LezpDIPzJvZ0jM28k/J5tssskmyz8dx3Ecx3HMPxPzdobEvM0/CB988MEHzz9/pUCtXynQP3o7Q2LeztA/ddFFF1100T9wZ0jM2xnSP2r9SoFav9I/ZZNNNtlk0z9gKVDrVwrUP1u/UqDWr9Q/VlVVVVVV1T9R61cK1PrVP0yBWr9SoNY/RhdddNFF1z9BrV8pUOvXPzxDYt7OkNg/N9lkk0022T8yb2dIzNvZPy0Fav1Kgdo/J5tssskm2z8iMW9nSMzbPx3HcRzHcdw/GF100UUX3T8T83aGxLzdPw6JeTtDYt4/CB988MEH3z8DtX6lQK3fP3+lQK1fKeA/ffDBBx984D96O0Ni3s7gP3eGxLydIeE/ddFFF1104T9yHMdxHMfhP3BnSMzbGeI/bbLJJpts4j9q/UqBWr/iP2hIzNsZEuM/ZZNNNtlk4z9j3s6QmLfjP2ApUOtXCuQ/XnTRRRdd5D9bv1Kg1q/kP1gK1PqVAuU/VlVVVVVV5T9ToNavFKjlP1HrVwrU+uU/TjbZZJNN5j9MgVq/UqDmP0nM2xkS8+Y/RhdddNFF5z9EYt7OkJjnP0GtXylQ6+c/P/jggw8+6D88Q2LezpDoPzmO4ziO4+g/N9lkk0026T80JObtDInpPzJvZ0jM2+k/L7rooosu6j8tBWr9SoHqPypQ61cK1Oo/J5tssskm6z8l5u0MiXnrPyIxb2dIzOs/IHzwwQcf7D8dx3Ecx3HsPxsS83aGxOw/GF100UUX7T8VqPUrBWrtPxPzdobEvO0/ED744IMP7j8OiXk7Q2LuPwvU+pUCte4/CB988MEH7z8Gav1KgVrvPwO1fqVAre8/AAAAAAAA8D8=",
          "dtype": "f8"
         },
         "y": {
          "bdata": "Ydg+mPiUMDe8d7KFDXiRN1qTMHkctfA3QoNtCmEDTTgWUQROqt6mOJHhNuurXQA5wsnIqcNDVTkCRha/ZxWpOVf+kZGT3Po5mM+6gGAdSjoun9tyhwyXOvfI/A7kd+I6s9xn/V3eKjtctTOXZL5xO9Ca3JCZRrU7AgRMzPIo9ztXV+p/PeM2PCozQQm9iHQ8XJ0kcZG5sDw8wpoy2rvoPNlawUeAmiA94Rx4vro8VD2TDxaknmSGPVr6fR27frY9vHySSNiD5D2z3Ah9MPwQPnmkv8yEiDk+KmpcOlJsYT5CS4v2NZaFPtvzG0naR6g+GZfrMEPLyD40fGhVLfzmPhWAsHo6WAM/bjmyjLqPHT94EPOTooE0PwEBvjSN1Ek/3gcODvWKXT/5KrHwcq9uP6Xe17lp9Hw/PFP+bb7WiD/oSS9MhmaTP1jc7aFNrZs/+nXe/SYkoj8jZXsPLx6mP1Hpy6fyoak/lDAydmQ2rT+NRHglPgexPzvYTSlQzrQ/GE/J4Ixquj+64DcBAN/APwjo6J62+sQ/94/nNmHhyD+3a2YQB+3LP+vspSekuc0/peGL6A1Izj+zp1RrCvXNPx29yC+RT80/EJ7LarHmzD+wBJ7VGiTNP7pJe3QFPM4/7qACtY8Y0D+GGPNQMHPRP5YB7ekMG9M/Pj2vWP0B1T9NVH3E4yDXPzeHpTm/ctk/GeJyYDvs2z+f6x7gLnbeP9XwCbB2eOA/BHpprS2h4T9BMptHDbXiP7tpXFpayOM/d81qoL0C5T/ZwRO6apPmP/2kcp+dn+g/oKU/pA426z/mIPUOnlDuP5TBuUpb8vA/FqU+0hX88j9B32wur1X1P4A4/spQF/g/eoLRof1S+z/v6Pe79QX/P652ZnVHigFAjr/LhKqrA0BQuEreGNsFQHqZc7mQIQhAmUXbyX+gCkCU4IhY8oQNQLgGc1B9dhBAOG9tmVVlEkCDoKYngmkUQDBgG6wHQRZA03YRgeSZF0BwH3GT4iQYQEvOLQB9qRdATfcC1AsWFkDVUs22AIgTQFcX/vG8SBBAYmjiiPt7CUA=",
          "dtype": "f8"
         }
        },
        {
         "line": {
          "color": "lightcoral",
          "dash": "solid",
          "width": 3
         },
         "mode": "lines",
         "name": "Qwen3-4B",
         "type": "scatter",
         "x": {
          "bdata": "AAAAAAAAAABbv1Kg1q+EP1u/UqDWr5Q/CB988MEHnz9bv1Kg1q+kPzJvZ0jM26k/CB988MEHrz9wZ0jM2xmyP1u/UqDWr7Q/RhdddNFFtz8yb2dIzNu5Px3HcRzHcbw/CB988MEHvz96O0Ni3s7AP3BnSMzbGcI/ZZNNNtlkwz9bv1Kg1q/EP1HrVwrU+sU/RhdddNFFxz88Q2LezpDIPzJvZ0jM28k/J5tssskmyz8dx3Ecx3HMPxPzdobEvM0/CB988MEHzz9/pUCtXynQP3o7Q2LeztA/ddFFF1100T9wZ0jM2xnSP2r9SoFav9I/ZZNNNtlk0z9gKVDrVwrUP1u/UqDWr9Q/VlVVVVVV1T9R61cK1PrVP0yBWr9SoNY/RhdddNFF1z9BrV8pUOvXPzxDYt7OkNg/N9lkk0022T8yb2dIzNvZPy0Fav1Kgdo/J5tssskm2z8iMW9nSMzbPx3HcRzHcdw/GF100UUX3T8T83aGxLzdPw6JeTtDYt4/CB988MEH3z8DtX6lQK3fP3+lQK1fKeA/ffDBBx984D96O0Ni3s7gP3eGxLydIeE/ddFFF1104T9yHMdxHMfhP3BnSMzbGeI/bbLJJpts4j9q/UqBWr/iP2hIzNsZEuM/ZZNNNtlk4z9j3s6QmLfjP2ApUOtXCuQ/XnTRRRdd5D9bv1Kg1q/kP1gK1PqVAuU/VlVVVVVV5T9ToNavFKjlP1HrVwrU+uU/TjbZZJNN5j9MgVq/UqDmP0nM2xkS8+Y/RhdddNFF5z9EYt7OkJjnP0GtXylQ6+c/P/jggw8+6D88Q2LezpDoPzmO4ziO4+g/N9lkk0026T80JObtDInpPzJvZ0jM2+k/L7rooosu6j8tBWr9SoHqPypQ61cK1Oo/J5tssskm6z8l5u0MiXnrPyIxb2dIzOs/IHzwwQcf7D8dx3Ecx3HsPxsS83aGxOw/GF100UUX7T8VqPUrBWrtPxPzdobEvO0/ED744IMP7j8OiXk7Q2LuPwvU+pUCte4/CB988MEH7z8Gav1KgVrvPwO1fqVAre8/AAAAAAAA8D8=",
          "dtype": "f8"
         },
         "y": {
          "bdata": "PsgpptVsBTxoaAvWopoxPJpnACMGqVs8+R3ihyTHhDyS/qHPH9mtPJWdxpz5f9Q8BlwGrBrt+jzQvkOe5eggPchfIS5fT0Q9IjZcLf1TZz174hh745+JPc94LvFH66o9nDC8U9wLyz3Z7Rjmsf3pPQDGP7gB5Ac+chiDgqIBJT6aRCf3ZatBPsrTH55mcFw+nAdYI+bldT7M9DpKnCKQPjUuDK25waY+PIR1y9i4vj602CoWltrTPurE3heJkug+LbD710ch/T7JJvDPH4sQP34GE8eoAiI/T/C1jCnNMj9g/flOidRCP4V60vbHGlI/MubD8x25YD8bKmKG9LRtP70VKbQDZnk/36+8Fb/thD9WINxqKqWQPxxrQ5LumJk/9ivUOE4Qoz9QL6Xo8I6rP9gXmv9VX7M/0p15UyqLuj8I+aXZvMHBP1miMSGmPMc/47BPLKjHzT8YLDyBELTSP5WmocPPCNc/4SIKgxDQ2z/CJepEDnXgP7kw8UTPFOM/EH1uQUGr5T9zWlsX3RnoPys2tGOHQ+o/Zh3F8aYQ7D/qoo1HXHLtP7FpmT71Y+4/M4ZfbDfq7j8dMYtdyxDvPzSkFlev5u4/xNlcaON67j+9oKwVW9rtP6JXKP66D+0/+Qjl1Lok7D+bsX6KcyTrPxrXQ9mhHeo/FUZElgIk6T/62l9DTVDoP572ODvDvuc/2we4P6SM5z/VfuuICNXnP3nviKypreg/XclIMRkk6j+GjKwr1TvsP4DcaIyb7e4/6i82zSAU8T9bPx+EkOnyP8agk8ft6PQ/3j8rumsE9z9nQ9jwxDD5P3B4IrzFZvs/VQmc09Oj/T/qQ8t7Sun/Pw6vb0RqHQFAjmw7hhtOAkDRo0OfkYcDQBitoNLJyARAkA15M3oOBkApp6El/lIHQHJt0wdqjghAOt6+A422CUB8fGtoxL4KQFqYaRO8lwtAN88uxXIvDEDe+iLI93EMQM1ADY4/SwxAyXdG6RmqC0ALb4Yb3YMKQOKIx4zq1whAOYd6S/+xBkDXRF5DbCoEQMj14lDVYwFAllFO2JIN/T8=",
          "dtype": "f8"
         }
        }
       ],
       "layout": {
        "font": {
         "size": 12
        },
        "height": 500,
        "legend": {
         "x": 0.01,
         "xanchor": "left",
         "y": 0.99,
         "yanchor": "top"
        },
        "template": {
         "data": {
          "bar": [
           {
            "error_x": {
             "color": "#2a3f5f"
            },
            "error_y": {
             "color": "#2a3f5f"
            },
            "marker": {
             "line": {
              "color": "#E5ECF6",
              "width": 0.5
             },
             "pattern": {
              "fillmode": "overlay",
              "size": 10,
              "solidity": 0.2
             }
            },
            "type": "bar"
           }
          ],
          "barpolar": [
           {
            "marker": {
             "line": {
              "color": "#E5ECF6",
              "width": 0.5
             },
             "pattern": {
              "fillmode": "overlay",
              "size": 10,
              "solidity": 0.2
             }
            },
            "type": "barpolar"
           }
          ],
          "carpet": [
           {
            "aaxis": {
             "endlinecolor": "#2a3f5f",
             "gridcolor": "white",
             "linecolor": "white",
             "minorgridcolor": "white",
             "startlinecolor": "#2a3f5f"
            },
            "baxis": {
             "endlinecolor": "#2a3f5f",
             "gridcolor": "white",
             "linecolor": "white",
             "minorgridcolor": "white",
             "startlinecolor": "#2a3f5f"
            },
            "type": "carpet"
           }
          ],
          "choropleth": [
           {
            "colorbar": {
             "outlinewidth": 0,
             "ticks": ""
            },
            "type": "choropleth"
           }
          ],
          "contour": [
           {
            "colorbar": {
             "outlinewidth": 0,
             "ticks": ""
            },
            "colorscale": [
             [
              0,
              "#0d0887"
             ],
             [
              0.1111111111111111,
              "#46039f"
             ],
             [
              0.2222222222222222,
              "#7201a8"
             ],
             [
              0.3333333333333333,
              "#9c179e"
             ],
             [
              0.4444444444444444,
              "#bd3786"
             ],
             [
              0.5555555555555556,
              "#d8576b"
             ],
             [
              0.6666666666666666,
              "#ed7953"
             ],
             [
              0.7777777777777778,
              "#fb9f3a"
             ],
             [
              0.8888888888888888,
              "#fdca26"
             ],
             [
              1,
              "#f0f921"
             ]
            ],
            "type": "contour"
           }
          ],
          "contourcarpet": [
           {
            "colorbar": {
             "outlinewidth": 0,
             "ticks": ""
            },
            "type": "contourcarpet"
           }
          ],
          "heatmap": [
           {
            "colorbar": {
             "outlinewidth": 0,
             "ticks": ""
            },
            "colorscale": [
             [
              0,
              "#0d0887"
             ],
             [
              0.1111111111111111,
              "#46039f"
             ],
             [
              0.2222222222222222,
              "#7201a8"
             ],
             [
              0.3333333333333333,
              "#9c179e"
             ],
             [
              0.4444444444444444,
              "#bd3786"
             ],
             [
              0.5555555555555556,
              "#d8576b"
             ],
             [
              0.6666666666666666,
              "#ed7953"
             ],
             [
              0.7777777777777778,
              "#fb9f3a"
             ],
             [
              0.8888888888888888,
              "#fdca26"
             ],
             [
              1,
              "#f0f921"
             ]
            ],
            "type": "heatmap"
           }
          ],
          "histogram": [
           {
            "marker": {
             "pattern": {
              "fillmode": "overlay",
              "size": 10,
              "solidity": 0.2
             }
            },
            "type": "histogram"
           }
          ],
          "histogram2d": [
           {
            "colorbar": {
             "outlinewidth": 0,
             "ticks": ""
            },
            "colorscale": [
             [
              0,
              "#0d0887"
             ],
             [
              0.1111111111111111,
              "#46039f"
             ],
             [
              0.2222222222222222,
              "#7201a8"
             ],
             [
              0.3333333333333333,
              "#9c179e"
             ],
             [
              0.4444444444444444,
              "#bd3786"
             ],
             [
              0.5555555555555556,
              "#d8576b"
             ],
             [
              0.6666666666666666,
              "#ed7953"
             ],
             [
              0.7777777777777778,
              "#fb9f3a"
             ],
             [
              0.8888888888888888,
              "#fdca26"
             ],
             [
              1,
              "#f0f921"
             ]
            ],
            "type": "histogram2d"
           }
          ],
          "histogram2dcontour": [
           {
            "colorbar": {
             "outlinewidth": 0,
             "ticks": ""
            },
            "colorscale": [
             [
              0,
              "#0d0887"
             ],
             [
              0.1111111111111111,
              "#46039f"
             ],
             [
              0.2222222222222222,
              "#7201a8"
             ],
             [
              0.3333333333333333,
              "#9c179e"
             ],
             [
              0.4444444444444444,
              "#bd3786"
             ],
             [
              0.5555555555555556,
              "#d8576b"
             ],
             [
              0.6666666666666666,
              "#ed7953"
             ],
             [
              0.7777777777777778,
              "#fb9f3a"
             ],
             [
              0.8888888888888888,
              "#fdca26"
             ],
             [
              1,
              "#f0f921"
             ]
            ],
            "type": "histogram2dcontour"
           }
          ],
          "mesh3d": [
           {
            "colorbar": {
             "outlinewidth": 0,
             "ticks": ""
            },
            "type": "mesh3d"
           }
          ],
          "parcoords": [
           {
            "line": {
             "colorbar": {
              "outlinewidth": 0,
              "ticks": ""
             }
            },
            "type": "parcoords"
           }
          ],
          "pie": [
           {
            "automargin": true,
            "type": "pie"
           }
          ],
          "scatter": [
           {
            "fillpattern": {
             "fillmode": "overlay",
             "size": 10,
             "solidity": 0.2
            },
            "type": "scatter"
           }
          ],
          "scatter3d": [
           {
            "line": {
             "colorbar": {
              "outlinewidth": 0,
              "ticks": ""
             }
            },
            "marker": {
             "colorbar": {
              "outlinewidth": 0,
              "ticks": ""
             }
            },
            "type": "scatter3d"
           }
          ],
          "scattercarpet": [
           {
            "marker": {
             "colorbar": {
              "outlinewidth": 0,
              "ticks": ""
             }
            },
            "type": "scattercarpet"
           }
          ],
          "scattergeo": [
           {
            "marker": {
             "colorbar": {
              "outlinewidth": 0,
              "ticks": ""
             }
            },
            "type": "scattergeo"
           }
          ],
          "scattergl": [
           {
            "marker": {
             "colorbar": {
              "outlinewidth": 0,
              "ticks": ""
             }
            },
            "type": "scattergl"
           }
          ],
          "scattermap": [
           {
            "marker": {
             "colorbar": {
              "outlinewidth": 0,
              "ticks": ""
             }
            },
            "type": "scattermap"
           }
          ],
          "scattermapbox": [
           {
            "marker": {
             "colorbar": {
              "outlinewidth": 0,
              "ticks": ""
             }
            },
            "type": "scattermapbox"
           }
          ],
          "scatterpolar": [
           {
            "marker": {
             "colorbar": {
              "outlinewidth": 0,
              "ticks": ""
             }
            },
            "type": "scatterpolar"
           }
          ],
          "scatterpolargl": [
           {
            "marker": {
             "colorbar": {
              "outlinewidth": 0,
              "ticks": ""
             }
            },
            "type": "scatterpolargl"
           }
          ],
          "scatterternary": [
           {
            "marker": {
             "colorbar": {
              "outlinewidth": 0,
              "ticks": ""
             }
            },
            "type": "scatterternary"
           }
          ],
          "surface": [
           {
            "colorbar": {
             "outlinewidth": 0,
             "ticks": ""
            },
            "colorscale": [
             [
              0,
              "#0d0887"
             ],
             [
              0.1111111111111111,
              "#46039f"
             ],
             [
              0.2222222222222222,
              "#7201a8"
             ],
             [
              0.3333333333333333,
              "#9c179e"
             ],
             [
              0.4444444444444444,
              "#bd3786"
             ],
             [
              0.5555555555555556,
              "#d8576b"
             ],
             [
              0.6666666666666666,
              "#ed7953"
             ],
             [
              0.7777777777777778,
              "#fb9f3a"
             ],
             [
              0.8888888888888888,
              "#fdca26"
             ],
             [
              1,
              "#f0f921"
             ]
            ],
            "type": "surface"
           }
          ],
          "table": [
           {
            "cells": {
             "fill": {
              "color": "#EBF0F8"
             },
             "line": {
              "color": "white"
             }
            },
            "header": {
             "fill": {
              "color": "#C8D4E3"
             },
             "line": {
              "color": "white"
             }
            },
            "type": "table"
           }
          ]
         },
         "layout": {
          "annotationdefaults": {
           "arrowcolor": "#2a3f5f",
           "arrowhead": 0,
           "arrowwidth": 1
          },
          "autotypenumbers": "strict",
          "coloraxis": {
           "colorbar": {
            "outlinewidth": 0,
            "ticks": ""
           }
          },
          "colorscale": {
           "diverging": [
            [
             0,
             "#8e0152"
            ],
            [
             0.1,
             "#c51b7d"
            ],
            [
             0.2,
             "#de77ae"
            ],
            [
             0.3,
             "#f1b6da"
            ],
            [
             0.4,
             "#fde0ef"
            ],
            [
             0.5,
             "#f7f7f7"
            ],
            [
             0.6,
             "#e6f5d0"
            ],
            [
             0.7,
             "#b8e186"
            ],
            [
             0.8,
             "#7fbc41"
            ],
            [
             0.9,
             "#4d9221"
            ],
            [
             1,
             "#276419"
            ]
           ],
           "sequential": [
            [
             0,
             "#0d0887"
            ],
            [
             0.1111111111111111,
             "#46039f"
            ],
            [
             0.2222222222222222,
             "#7201a8"
            ],
            [
             0.3333333333333333,
             "#9c179e"
            ],
            [
             0.4444444444444444,
             "#bd3786"
            ],
            [
             0.5555555555555556,
             "#d8576b"
            ],
            [
             0.6666666666666666,
             "#ed7953"
            ],
            [
             0.7777777777777778,
             "#fb9f3a"
            ],
            [
             0.8888888888888888,
             "#fdca26"
            ],
            [
             1,
             "#f0f921"
            ]
           ],
           "sequentialminus": [
            [
             0,
             "#0d0887"
            ],
            [
             0.1111111111111111,
             "#46039f"
            ],
            [
             0.2222222222222222,
             "#7201a8"
            ],
            [
             0.3333333333333333,
             "#9c179e"
            ],
            [
             0.4444444444444444,
             "#bd3786"
            ],
            [
             0.5555555555555556,
             "#d8576b"
            ],
            [
             0.6666666666666666,
             "#ed7953"
            ],
            [
             0.7777777777777778,
             "#fb9f3a"
            ],
            [
             0.8888888888888888,
             "#fdca26"
            ],
            [
             1,
             "#f0f921"
            ]
           ]
          },
          "colorway": [
           "#636efa",
           "#EF553B",
           "#00cc96",
           "#ab63fa",
           "#FFA15A",
           "#19d3f3",
           "#FF6692",
           "#B6E880",
           "#FF97FF",
           "#FECB52"
          ],
          "font": {
           "color": "#2a3f5f"
          },
          "geo": {
           "bgcolor": "white",
           "lakecolor": "white",
           "landcolor": "#E5ECF6",
           "showlakes": true,
           "showland": true,
           "subunitcolor": "white"
          },
          "hoverlabel": {
           "align": "left"
          },
          "hovermode": "closest",
          "mapbox": {
           "style": "light"
          },
          "paper_bgcolor": "white",
          "plot_bgcolor": "#E5ECF6",
          "polar": {
           "angularaxis": {
            "gridcolor": "white",
            "linecolor": "white",
            "ticks": ""
           },
           "bgcolor": "#E5ECF6",
           "radialaxis": {
            "gridcolor": "white",
            "linecolor": "white",
            "ticks": ""
           }
          },
          "scene": {
           "xaxis": {
            "backgroundcolor": "#E5ECF6",
            "gridcolor": "white",
            "gridwidth": 2,
            "linecolor": "white",
            "showbackground": true,
            "ticks": "",
            "zerolinecolor": "white"
           },
           "yaxis": {
            "backgroundcolor": "#E5ECF6",
            "gridcolor": "white",
            "gridwidth": 2,
            "linecolor": "white",
            "showbackground": true,
            "ticks": "",
            "zerolinecolor": "white"
           },
           "zaxis": {
            "backgroundcolor": "#E5ECF6",
            "gridcolor": "white",
            "gridwidth": 2,
            "linecolor": "white",
            "showbackground": true,
            "ticks": "",
            "zerolinecolor": "white"
           }
          },
          "shapedefaults": {
           "line": {
            "color": "#2a3f5f"
           }
          },
          "ternary": {
           "aaxis": {
            "gridcolor": "white",
            "linecolor": "white",
            "ticks": ""
           },
           "baxis": {
            "gridcolor": "white",
            "linecolor": "white",
            "ticks": ""
           },
           "bgcolor": "#E5ECF6",
           "caxis": {
            "gridcolor": "white",
            "linecolor": "white",
            "ticks": ""
           }
          },
          "title": {
           "x": 0.05
          },
          "xaxis": {
           "automargin": true,
           "gridcolor": "white",
           "linecolor": "white",
           "ticks": "",
           "title": {
            "standoff": 15
           },
           "zerolinecolor": "white",
           "zerolinewidth": 2
          },
          "yaxis": {
           "automargin": true,
           "gridcolor": "white",
           "linecolor": "white",
           "ticks": "",
           "title": {
            "standoff": 15
           },
           "zerolinecolor": "white",
           "zerolinewidth": 2
          }
         }
        },
        "title": {
         "text": "Accuracy Density Distribution - Fuzz"
        },
        "xaxis": {
         "title": {
          "text": "Accuracy"
         }
        },
        "yaxis": {
         "title": {
          "text": "Density"
         }
        }
       }
      }
     },
     "metadata": {},
     "output_type": "display_data"
    },
    {
     "name": "stdout",
     "output_type": "stream",
     "text": [
      "\n",
      "Data Quality Summary for fuzz:\n",
      "  Total data points processed: 2960\n",
      "  Valid data points used: 2838\n",
      "  NaN values found: 122\n",
      "  Infinite values found: 0\n",
      "  Data quality rate: 95.9%\n"
     ]
    },
    {
     "name": "stderr",
     "output_type": "stream",
     "text": [
      "/tmp/ipykernel_107315/3879506136.py:230: DeprecationWarning:\n",
      "\n",
      "\n",
      "Support for Kaleido versions less than 1.0.0 is deprecated and will be removed after September 2025.\n",
      "Please upgrade Kaleido to version 1.0.0 or greater (`pip install 'kaleido>=1.0.0'` or `pip install 'plotly[kaleido]'`).\n",
      "\n",
      "\n",
      "/tmp/ipykernel_107315/3879506136.py:231: DeprecationWarning:\n",
      "\n",
      "\n",
      "Support for Kaleido versions less than 1.0.0 is deprecated and will be removed after September 2025.\n",
      "Please upgrade Kaleido to version 1.0.0 or greater (`pip install 'kaleido>=1.0.0'` or `pip install 'plotly[kaleido]'`).\n",
      "\n",
      "\n",
      "/tmp/ipykernel_107315/3879506136.py:231: DeprecationWarning:\n",
      "\n",
      "\n",
      "Support for Kaleido versions less than 1.0.0 is deprecated and will be removed after September 2025.\n",
      "Please upgrade Kaleido to version 1.0.0 or greater (`pip install 'kaleido>=1.0.0'` or `pip install 'plotly[kaleido]'`).\n",
      "\n",
      "\n"
     ]
    },
    {
     "name": "stdout",
     "output_type": "stream",
     "text": [
      "Saved KDE density plot: /home/jeremias/projects/delphi-explanations/results/visualizations/accuracy_density_fuzz.pdf\n",
      "Saved KDE density plot: /home/jeremias/projects/delphi-explanations/results/visualizations/accuracy_density_fuzz.png\n",
      "\n",
      "Creating KDE density plot for detection...\n"
     ]
    },
    {
     "data": {
      "application/vnd.plotly.v1+json": {
       "config": {
        "plotlyServerURL": "https://plot.ly"
       },
       "data": [
        {
         "line": {
          "color": "lightgray",
          "dash": "solid",
          "width": 3
         },
         "mode": "lines",
         "name": "GPT-OSS-20B",
         "type": "scatter",
         "x": {
          "bdata": "AAAAAAAAAABbv1Kg1q+EP1u/UqDWr5Q/CB988MEHnz9bv1Kg1q+kPzJvZ0jM26k/CB988MEHrz9wZ0jM2xmyP1u/UqDWr7Q/RhdddNFFtz8yb2dIzNu5Px3HcRzHcbw/CB988MEHvz96O0Ni3s7AP3BnSMzbGcI/ZZNNNtlkwz9bv1Kg1q/EP1HrVwrU+sU/RhdddNFFxz88Q2LezpDIPzJvZ0jM28k/J5tssskmyz8dx3Ecx3HMPxPzdobEvM0/CB988MEHzz9/pUCtXynQP3o7Q2LeztA/ddFFF1100T9wZ0jM2xnSP2r9SoFav9I/ZZNNNtlk0z9gKVDrVwrUP1u/UqDWr9Q/VlVVVVVV1T9R61cK1PrVP0yBWr9SoNY/RhdddNFF1z9BrV8pUOvXPzxDYt7OkNg/N9lkk0022T8yb2dIzNvZPy0Fav1Kgdo/J5tssskm2z8iMW9nSMzbPx3HcRzHcdw/GF100UUX3T8T83aGxLzdPw6JeTtDYt4/CB988MEH3z8DtX6lQK3fP3+lQK1fKeA/ffDBBx984D96O0Ni3s7gP3eGxLydIeE/ddFFF1104T9yHMdxHMfhP3BnSMzbGeI/bbLJJpts4j9q/UqBWr/iP2hIzNsZEuM/ZZNNNtlk4z9j3s6QmLfjP2ApUOtXCuQ/XnTRRRdd5D9bv1Kg1q/kP1gK1PqVAuU/VlVVVVVV5T9ToNavFKjlP1HrVwrU+uU/TjbZZJNN5j9MgVq/UqDmP0nM2xkS8+Y/RhdddNFF5z9EYt7OkJjnP0GtXylQ6+c/P/jggw8+6D88Q2LezpDoPzmO4ziO4+g/N9lkk0026T80JObtDInpPzJvZ0jM2+k/L7rooosu6j8tBWr9SoHqPypQ61cK1Oo/J5tssskm6z8l5u0MiXnrPyIxb2dIzOs/IHzwwQcf7D8dx3Ecx3HsPxsS83aGxOw/GF100UUX7T8VqPUrBWrtPxPzdobEvO0/ED744IMP7j8OiXk7Q2LuPwvU+pUCte4/CB988MEH7z8Gav1KgVrvPwO1fqVAre8/AAAAAAAA8D8=",
          "dtype": "f8"
         },
         "y": {
          "bdata": "V1ok6HE8Uz/OJ4G6dWhdP/oxXjFg/mU/FYgRPv0XcD8YI2G1uQt3Pz+QEatsJYA/uZ4BYOwjhj939joLi7aNP6u6BzkPhJM/Ytdc+RwZmT/EEXZoSpufP77/4Bt9fqM/SbKTw3uQpz9yJg/asO2rP3XijeFEPbA/TJhwc2qMsj9MJjiU+tW0P/qkQ5v4Drc/OsxYV24yuT+prUIm/kO7PwaqFgABUr0/VDX7Qup2vz/Fuc9B4ezAP8l0GA3VVsI/Q3791joYxD81GR0gSlTGP4+1StVAMck/202LVgfXzD/8I83i77bQP/xRg1ibjtM/IwHRGE4F1z8k3hK4bSzbP60Ca4bFCeA/R7sGIO/j4j/HLI47zSnmP/ukG/GB3uk/NtxCE50C7j+kbZCUrUnxP8XiC4vjxPM/eywwM+ls9j/UBY6owTj5PxL4ly0wHPw/lczCzKIH/z/eglQoM/QAQCYa4DyZVAJAmKHn0omZA0CpCeMqVbcEQDOCNnzVogVAmcc4xD1SBkCx+9e44b0GQH28aXzf4AZAiWuBn5W5BkB8yNZu1UkGQDL3I8XJlgVA5fRKT5SoBEBwpOPDrIkDQJKgBl4VRgJA5D7HqXzqAECRVIRUywb/P5DbPy/ZOPw/R/OTMHF/+T834aw+Ruv2P5j6C+YqifQ/Gao+Uyti8j/seBZx7nvwP7pr8FqCsu0/QyjCAF716j8I1VPfHr7oP/dOrwPwB+c/v0k0VhbM5T/Z+zgSSwLlP4OT3KfjoOQ/nwvZl+Cc5D8sYchR/+nkP639EmnneuU/BTWsooJB5j8Zty9Cgy/nPwAWC/AON+g/gjN4GXlL6T+OKvsR8GHqP7Wu8S3+ces/PI2kNcR17D9+Nex13GntPyeWpLvjTO4/sza6ObUe7z/7SnXVdN/vP4fIAe5GR/A/2397UeiU8D+khMCCa9bwP9Y9vCRnCPE/L8PREVsm8T/WEXZWCSvxP6hTeoL+EPE/sHKPhDfT8D93RcY4zm3wP+6va3gove8/bN3YdQtL7j9cmBfoBorsP3tg2GyWg+o/86Ogo15F6D8=",
          "dtype": "f8"
         }
        },
        {
         "line": {
          "color": "lightgreen",
          "dash": "dash",
          "width": 3
         },
         "mode": "lines",
         "name": "Gemma-3-12B-IT",
         "type": "scatter",
         "x": {
          "bdata": "AAAAAAAAAABbv1Kg1q+EP1u/UqDWr5Q/CB988MEHnz9bv1Kg1q+kPzJvZ0jM26k/CB988MEHrz9wZ0jM2xmyP1u/UqDWr7Q/RhdddNFFtz8yb2dIzNu5Px3HcRzHcbw/CB988MEHvz96O0Ni3s7AP3BnSMzbGcI/ZZNNNtlkwz9bv1Kg1q/EP1HrVwrU+sU/RhdddNFFxz88Q2LezpDIPzJvZ0jM28k/J5tssskmyz8dx3Ecx3HMPxPzdobEvM0/CB988MEHzz9/pUCtXynQP3o7Q2LeztA/ddFFF1100T9wZ0jM2xnSP2r9SoFav9I/ZZNNNtlk0z9gKVDrVwrUP1u/UqDWr9Q/VlVVVVVV1T9R61cK1PrVP0yBWr9SoNY/RhdddNFF1z9BrV8pUOvXPzxDYt7OkNg/N9lkk0022T8yb2dIzNvZPy0Fav1Kgdo/J5tssskm2z8iMW9nSMzbPx3HcRzHcdw/GF100UUX3T8T83aGxLzdPw6JeTtDYt4/CB988MEH3z8DtX6lQK3fP3+lQK1fKeA/ffDBBx984D96O0Ni3s7gP3eGxLydIeE/ddFFF1104T9yHMdxHMfhP3BnSMzbGeI/bbLJJpts4j9q/UqBWr/iP2hIzNsZEuM/ZZNNNtlk4z9j3s6QmLfjP2ApUOtXCuQ/XnTRRRdd5D9bv1Kg1q/kP1gK1PqVAuU/VlVVVVVV5T9ToNavFKjlP1HrVwrU+uU/TjbZZJNN5j9MgVq/UqDmP0nM2xkS8+Y/RhdddNFF5z9EYt7OkJjnP0GtXylQ6+c/P/jggw8+6D88Q2LezpDoPzmO4ziO4+g/N9lkk0026T80JObtDInpPzJvZ0jM2+k/L7rooosu6j8tBWr9SoHqPypQ61cK1Oo/J5tssskm6z8l5u0MiXnrPyIxb2dIzOs/IHzwwQcf7D8dx3Ecx3HsPxsS83aGxOw/GF100UUX7T8VqPUrBWrtPxPzdobEvO0/ED744IMP7j8OiXk7Q2LuPwvU+pUCte4/CB988MEH7z8Gav1KgVrvPwO1fqVAre8/AAAAAAAA8D8=",
          "dtype": "f8"
         },
         "y": {
          "bdata": "ErtBsf8EhTs1JoYOljW2O2KhkNrpSuY7Q7ZiKM5BFTxWJ5+of0FDPHk4COQfknA8cPsbRiYYmzz2laYCEAvFPAOfVsqrDe880lctT5PEFT038DY0Uv48PbwUqvQ6WGI9+ACmBzEOhj2lonE8ujGpPauFv05kWMs9Efa2YKwz7D3hLU8jYqMLPinUqtxsvSk+UKAXZ1vIRj4nMqMjmipjPrlRJBmep34+PS5jj3NOlz6PUlF0Z9mwPtu+SayWK8c+L4PrzctP3j4RaysNM97yPiCev56VXAY/rGhTfvk9GT9j72m5oCcrP683la5C3Ds/GaFANUhJSz+EfxCEEYpZP0n9Kx904GY/2syYQCSlcz8e5pp2DzWAPwGXamnxwYk/71uHTh7Gkz+/GqCovW6dP/dGxyShUKU/T843Xy4orj8HEryf9+m0PzSUfbZ7hbw/5V3MZuYowz9dokcBc2HJP3NzPqrPkdA/StVX25dM1T8Izoy/7+jaP+791Sz+reA/WaRbRG1C5D+bWpZAnBboPyhSEMg5B+w/V41PMEft7z9ug1GYx9HxPw9/XZDnhfM/lfvSLSsJ9T9qfKJ+plf2P8J3jgC9cvc/XksN1YNf+D+Rv3QdnST5Pyv4RRccyPk/uL6rhPRN+j+qOvNHU7f6P9InsrMMA/s/l5KULhQv+z/G0Fo5sjr7PyQKgeXvKPs/YHaKL4IC+z+6p4WufNb6P7ZLasVLufo/VMNhg+fB+j/AN2bYugX7PyQgOM4ulPs/0iZ8d/ty/D/naqjoPJz9P8RIMxre/v4/N0uTC61AAECQ5kYhJAMBQGRxmSXiuAFAtmydpkpXAkARkU+LANkCQB+CNv+3PgNAaAE8lLGOA0D1fKVP3tIDQF3IpRL2FQRAFEVVPhJgBEAsC1YpkbMEQIUGTtENCwVAgZgbDgZZBUAucXQUaIkFQD6IaY/JhAVAN6+82KI0BUDLgLfVrIcEQCiyR4Z7dQNA5PDp4ZwAAkCOrcyk0zYAQO5mk5XMXvw/bJIKFbUP+D8DLkdtiL/zP8owUcLqUe8/pYaHrBX25z8=",
          "dtype": "f8"
         }
        },
        {
         "line": {
          "color": "lightgreen",
          "dash": "dot",
          "width": 3
         },
         "mode": "lines",
         "name": "Gemma-3-27B-IT",
         "type": "scatter",
         "x": {
          "bdata": "AAAAAAAAAABbv1Kg1q+EP1u/UqDWr5Q/CB988MEHnz9bv1Kg1q+kPzJvZ0jM26k/CB988MEHrz9wZ0jM2xmyP1u/UqDWr7Q/RhdddNFFtz8yb2dIzNu5Px3HcRzHcbw/CB988MEHvz96O0Ni3s7AP3BnSMzbGcI/ZZNNNtlkwz9bv1Kg1q/EP1HrVwrU+sU/RhdddNFFxz88Q2LezpDIPzJvZ0jM28k/J5tssskmyz8dx3Ecx3HMPxPzdobEvM0/CB988MEHzz9/pUCtXynQP3o7Q2LeztA/ddFFF1100T9wZ0jM2xnSP2r9SoFav9I/ZZNNNtlk0z9gKVDrVwrUP1u/UqDWr9Q/VlVVVVVV1T9R61cK1PrVP0yBWr9SoNY/RhdddNFF1z9BrV8pUOvXPzxDYt7OkNg/N9lkk0022T8yb2dIzNvZPy0Fav1Kgdo/J5tssskm2z8iMW9nSMzbPx3HcRzHcdw/GF100UUX3T8T83aGxLzdPw6JeTtDYt4/CB988MEH3z8DtX6lQK3fP3+lQK1fKeA/ffDBBx984D96O0Ni3s7gP3eGxLydIeE/ddFFF1104T9yHMdxHMfhP3BnSMzbGeI/bbLJJpts4j9q/UqBWr/iP2hIzNsZEuM/ZZNNNtlk4z9j3s6QmLfjP2ApUOtXCuQ/XnTRRRdd5D9bv1Kg1q/kP1gK1PqVAuU/VlVVVVVV5T9ToNavFKjlP1HrVwrU+uU/TjbZZJNN5j9MgVq/UqDmP0nM2xkS8+Y/RhdddNFF5z9EYt7OkJjnP0GtXylQ6+c/P/jggw8+6D88Q2LezpDoPzmO4ziO4+g/N9lkk0026T80JObtDInpPzJvZ0jM2+k/L7rooosu6j8tBWr9SoHqPypQ61cK1Oo/J5tssskm6z8l5u0MiXnrPyIxb2dIzOs/IHzwwQcf7D8dx3Ecx3HsPxsS83aGxOw/GF100UUX7T8VqPUrBWrtPxPzdobEvO0/ED744IMP7j8OiXk7Q2LuPwvU+pUCte4/CB988MEH7z8Gav1KgVrvPwO1fqVAre8/AAAAAAAA8D8=",
          "dtype": "f8"
         },
         "y": {
          "bdata": "2fF/dw101zpFT4q9zU0NO02MChYFZkE7gkzcjpeiczukgCwQhQ+lO9X5cg5jeNU7/YnZVdDNBDzymQjAKCkzPBrtGXBXxmA8bfffg7TrizyF8K4+6ha2PDi9U59YneA8YNMcdU7DBz3up8ORbigwPUvBjo8r5VQ93/tImpiyeT2yTd2eFg+ePSJyHFoOucA9NB3oD76z4T378wCMgtQBPlJ5QRVcFyE+0zFTmlgwPz6Y5TGN9RdbPtZTTH7jaXY+Gakuw6GpkT4qi51wcYaqPl4f5tIf/MI+d5b+MdXp2T5QZHFP1t7wPk2r5cC09gQ/eNYtkHrfGD/YrcgRQzEsPwByf+pBiz4/tkse4T2mTz+7OtsKnmJfPyEynYopzm0/UCQFpQ8gez9NEmlZsKyHP5mW843W1JM/IXus6c7pnz+d6dDZuK+oP5qJZbVQYLI/QOFW9stauj8CcOAzLjrCPzdHXKioWcg/HagAsph3zz/en5hpH7TTP8VR0uph9tc/fzwMlctd3D8kIz59wmLgP342O074huI/ZJz3nnSQ5D/N8wGVK3rmPy7roTB5Reg/uXLGx6X56T/5u6XVnaLrP4qZenHnTu0/QpbiNfMM7z/ersHMEHTwP0XmW2oQc/E/eX+ywLaC8j9+cTo9yZ7zPxFKss2fwPQ/hr4SmtLg9T+xI4kRAfn2P9YCEl0dBfg/YpKV59QD+T8Im+pyAPb5Pxql1OJZ3fo/Zk9nku66+z8RdCXb1Y38P1SakvOeUv0/XVdnmrkD/j82zW053Zr+P4LnW+ksE/8/yQiFcZhr/z+CdSJz0qj/P7rLCDIy1v8/pvVQC4MCAEAnE5KvHCUAQDdkX9RUXQBAbz1LH3+zAEC1ukY2DCwBQOTmXLiRxgFABFxgI+t9AkA95CK8XUkDQGmucv5GHgRA961xFKLxBEBKltsZv7gFQPpLOszjaAZA72W6Nhn2BkB4nMez6VEHQKsN+BQIawdAevtvLqAuB0BJmNQfdYsGQCV9UmsrdgVAGEiSin3tA0BYO3B36PwBQNAPKWhvef8/FePH+kOe+j8=",
          "dtype": "f8"
         }
        },
        {
         "line": {
          "color": "lightgreen",
          "dash": "solid",
          "width": 3
         },
         "mode": "lines",
         "name": "Gemma-3-4B-IT",
         "type": "scatter",
         "x": {
          "bdata": "AAAAAAAAAABbv1Kg1q+EP1u/UqDWr5Q/CB988MEHnz9bv1Kg1q+kPzJvZ0jM26k/CB988MEHrz9wZ0jM2xmyP1u/UqDWr7Q/RhdddNFFtz8yb2dIzNu5Px3HcRzHcbw/CB988MEHvz96O0Ni3s7AP3BnSMzbGcI/ZZNNNtlkwz9bv1Kg1q/EP1HrVwrU+sU/RhdddNFFxz88Q2LezpDIPzJvZ0jM28k/J5tssskmyz8dx3Ecx3HMPxPzdobEvM0/CB988MEHzz9/pUCtXynQP3o7Q2LeztA/ddFFF1100T9wZ0jM2xnSP2r9SoFav9I/ZZNNNtlk0z9gKVDrVwrUP1u/UqDWr9Q/VlVVVVVV1T9R61cK1PrVP0yBWr9SoNY/RhdddNFF1z9BrV8pUOvXPzxDYt7OkNg/N9lkk0022T8yb2dIzNvZPy0Fav1Kgdo/J5tssskm2z8iMW9nSMzbPx3HcRzHcdw/GF100UUX3T8T83aGxLzdPw6JeTtDYt4/CB988MEH3z8DtX6lQK3fP3+lQK1fKeA/ffDBBx984D96O0Ni3s7gP3eGxLydIeE/ddFFF1104T9yHMdxHMfhP3BnSMzbGeI/bbLJJpts4j9q/UqBWr/iP2hIzNsZEuM/ZZNNNtlk4z9j3s6QmLfjP2ApUOtXCuQ/XnTRRRdd5D9bv1Kg1q/kP1gK1PqVAuU/VlVVVVVV5T9ToNavFKjlP1HrVwrU+uU/TjbZZJNN5j9MgVq/UqDmP0nM2xkS8+Y/RhdddNFF5z9EYt7OkJjnP0GtXylQ6+c/P/jggw8+6D88Q2LezpDoPzmO4ziO4+g/N9lkk0026T80JObtDInpPzJvZ0jM2+k/L7rooosu6j8tBWr9SoHqPypQ61cK1Oo/J5tssskm6z8l5u0MiXnrPyIxb2dIzOs/IHzwwQcf7D8dx3Ecx3HsPxsS83aGxOw/GF100UUX7T8VqPUrBWrtPxPzdobEvO0/ED744IMP7j8OiXk7Q2LuPwvU+pUCte4/CB988MEH7z8Gav1KgVrvPwO1fqVAre8/AAAAAAAA8D8=",
          "dtype": "f8"
         },
         "y": {
          "bdata": "b/jsxGNM4zwghQdc+ykpPSYUUe6OCGw9kbNHeHuuqj1C/zl2PrLlPRHAOv5TJR4+C6KbNozkUT774u51iiWCPtwO+XeDcq8+bVSHXaFH1z504LuKeXL9Pv/WDCDI0h8/f8LOauRhPT+YdD6ucC1XP2GOtvWAPW8/AIfxzcz8gT/3Kf+oY7KRPz7JaOoHwJ0/7XAhLEhdpT86QlrdMzeqP+vKH3O5e6s/Bxk6w6udqD9GLNFdJ9aiP9UxbSUkoZg/mVB2vXmDiz+aUsYFTEJ6P9I9V9hbaWU/lo3yNbXVTT8e+AbVrcsxPysFx0rNGBM/IMuRz5VgAz+qrNIYOS8cP1yLJnEFHjw/nxLYFNi4WD/WFwMSA79yP4NAIE/ojIg/su/V2RLdmz+YLnxVSpKrP1fSPT5ACLg/ZUpnnXzFwj8wwjxPofvKP/vxZhZ6eNI/WgR3ZvHk2D+vRNXBDs7gP/UdWqDRqeY/LHEILrsp7j9pa5JJ8qHzP6UYrRNU7fg/DUHetQbb/j/Z+BnBMpcCQDIPOa36wQVARglSJVK4CEBn6Fy2YFsLQLAvGjlzrw1Awhpl1X/ID0BhVZGR5tEQQLRS+qvVihFAhteOn7fyEUDGejT8pgESQEFoA0MC0hFAplHQkBySEUB7vyXWSGURQJciBJjVTBFAm37CX7MnEUCtpVQ4BMcQQNEPoC6BCxBA2ViBH1LzDUBIwuC5sGgLQLMl4VbFvwhA7evJTDIPBkCGUF5ruj4DQJnxRI2JOgBAVOl+EvY5+j9amyPdf070Py9rROzXZe4/lacujahO5j82K065TkrgPxSLrPKn6tc/7Mlm7sai0T/iNlbxeLrJP79laAr/EMI/jZCZvC+vtz+quqHhrzasP7sHzba47p0/VXeuyvTliz841z4PLKR2Pw83Z7Zy0V8/IrBYOVNJQz9XDYRHCx8kP942Qf5uCQI/zAQeVd3A2z7IEqHgoE+yPtHKhedqtYQ+2bHEnyoQVD6mMNkUMKUgPqsBLVLepOc9X16wAnO+rD0xQH8xV+ZtPc9LXkF4myo9MFisco5A5Dw=",
          "dtype": "f8"
         }
        },
        {
         "line": {
          "color": "lightblue",
          "dash": "solid",
          "width": 3
         },
         "mode": "lines",
         "name": "Llama-3.3-70B-Instruct",
         "type": "scatter",
         "x": {
          "bdata": "AAAAAAAAAABbv1Kg1q+EP1u/UqDWr5Q/CB988MEHnz9bv1Kg1q+kPzJvZ0jM26k/CB988MEHrz9wZ0jM2xmyP1u/UqDWr7Q/RhdddNFFtz8yb2dIzNu5Px3HcRzHcbw/CB988MEHvz96O0Ni3s7AP3BnSMzbGcI/ZZNNNtlkwz9bv1Kg1q/EP1HrVwrU+sU/RhdddNFFxz88Q2LezpDIPzJvZ0jM28k/J5tssskmyz8dx3Ecx3HMPxPzdobEvM0/CB988MEHzz9/pUCtXynQP3o7Q2LeztA/ddFFF1100T9wZ0jM2xnSP2r9SoFav9I/ZZNNNtlk0z9gKVDrVwrUP1u/UqDWr9Q/VlVVVVVV1T9R61cK1PrVP0yBWr9SoNY/RhdddNFF1z9BrV8pUOvXPzxDYt7OkNg/N9lkk0022T8yb2dIzNvZPy0Fav1Kgdo/J5tssskm2z8iMW9nSMzbPx3HcRzHcdw/GF100UUX3T8T83aGxLzdPw6JeTtDYt4/CB988MEH3z8DtX6lQK3fP3+lQK1fKeA/ffDBBx984D96O0Ni3s7gP3eGxLydIeE/ddFFF1104T9yHMdxHMfhP3BnSMzbGeI/bbLJJpts4j9q/UqBWr/iP2hIzNsZEuM/ZZNNNtlk4z9j3s6QmLfjP2ApUOtXCuQ/XnTRRRdd5D9bv1Kg1q/kP1gK1PqVAuU/VlVVVVVV5T9ToNavFKjlP1HrVwrU+uU/TjbZZJNN5j9MgVq/UqDmP0nM2xkS8+Y/RhdddNFF5z9EYt7OkJjnP0GtXylQ6+c/P/jggw8+6D88Q2LezpDoPzmO4ziO4+g/N9lkk0026T80JObtDInpPzJvZ0jM2+k/L7rooosu6j8tBWr9SoHqPypQ61cK1Oo/J5tssskm6z8l5u0MiXnrPyIxb2dIzOs/IHzwwQcf7D8dx3Ecx3HsPxsS83aGxOw/GF100UUX7T8VqPUrBWrtPxPzdobEvO0/ED744IMP7j8OiXk7Q2LuPwvU+pUCte4/CB988MEH7z8Gav1KgVrvPwO1fqVAre8/AAAAAAAA8D8=",
          "dtype": "f8"
         },
         "y": {
          "bdata": "pLtuYCOFhDtdZpH0hz+0OzyOZ20xDOM7KEn47iAVETxBSzbrOTY9PG0FKo0R0Gc8s2o30OmBkjz7Jndq3227PCEiz4FeYeM8hZaUjR0dCj32H75FtMYwPR0yiq4NjlQ9XE14iX0EeD1usfK0ucOaPT9s+ieAcrw9W4SSOzjX3D3qS74mouT7PZLIl2e3vBk++lTYid6oNj5cLtc86QlTPjsyd8VXiW4+A0kr6wNhhz7m1NMvghehPj9yERbS3rc+BEPYP13azz4i0V+2Z1DkPu7zQ/gIx/g+zrs1oF3qDD906+mQNScgP5SlFWBrSjE/RPDxUEi/QT9I8FKewHtRP/NBsxePjGA/N4M1t4kjbj/Mlu0Eom96PxGAjJQjXoY/sAp4tjRIkj9JkbUrBOmcP2z+/NxhJKY/iJs7P0JysD+dq2OHX7e3P1uWcoBynMA/9ew8Eiidxj9y3IJdy+zNP4sos14rP9M/aKe0SaIQ2D8fwD9pQT/dP4Sbf8IXR+E/pXNq767a4z9RxIawsTXmP1x0InHAOOg/WhYIuKbP6T8GCC/zpvXqP5I7hCUpt+s/2h+xBFYw7D9hLkii3IjsP261txKy7ew/PrmXPeeJ7T8PpHW0vH/uPzlCjlgC4+8/dGPpbtTa8D9JQSR/m/PxP5BAKeK/K/M/Hw9EYzhu9D/7NXAPEKX1P6XkoB7MvfY/elPOhT6t9z9nIeRD33H4P7zJDnIVFPk/Q1DvWFak+T9Eic71hjf6P3cyKa904vo/K3I9VWq1+z8csPO117j8PydYdzS96/0/ji21kSRE/z/yisEsvVgAQI1vUaIXEAFA8wDZ/96+AUBDupK/Dl4CQLjT3M3q6QJAy03jgiliA0C/ALHVTMkDQK4peONxIwRAZFj6Vvd0BECIgGeBTsEEQASzPZYhCgVAU8gzjMpOBUBDJNq1+osFQM2yjCt5uwVA1oMg8gDUBUB5pdQOcskFQBSfcMOejQVA2DEllesRBUAFWoYXu0kEQJnioH9ILQNA/n8U4ke8AUBgNljZCf//P2xK6GS+Efw/u25i59Pi9z8=",
          "dtype": "f8"
         }
        },
        {
         "line": {
          "color": "lightblue",
          "dash": "dot",
          "width": 3
         },
         "mode": "lines",
         "name": "Llama-4-Scout-17B",
         "type": "scatter",
         "x": {
          "bdata": "AAAAAAAAAABbv1Kg1q+EP1u/UqDWr5Q/CB988MEHnz9bv1Kg1q+kPzJvZ0jM26k/CB988MEHrz9wZ0jM2xmyP1u/UqDWr7Q/RhdddNFFtz8yb2dIzNu5Px3HcRzHcbw/CB988MEHvz96O0Ni3s7AP3BnSMzbGcI/ZZNNNtlkwz9bv1Kg1q/EP1HrVwrU+sU/RhdddNFFxz88Q2LezpDIPzJvZ0jM28k/J5tssskmyz8dx3Ecx3HMPxPzdobEvM0/CB988MEHzz9/pUCtXynQP3o7Q2LeztA/ddFFF1100T9wZ0jM2xnSP2r9SoFav9I/ZZNNNtlk0z9gKVDrVwrUP1u/UqDWr9Q/VlVVVVVV1T9R61cK1PrVP0yBWr9SoNY/RhdddNFF1z9BrV8pUOvXPzxDYt7OkNg/N9lkk0022T8yb2dIzNvZPy0Fav1Kgdo/J5tssskm2z8iMW9nSMzbPx3HcRzHcdw/GF100UUX3T8T83aGxLzdPw6JeTtDYt4/CB988MEH3z8DtX6lQK3fP3+lQK1fKeA/ffDBBx984D96O0Ni3s7gP3eGxLydIeE/ddFFF1104T9yHMdxHMfhP3BnSMzbGeI/bbLJJpts4j9q/UqBWr/iP2hIzNsZEuM/ZZNNNtlk4z9j3s6QmLfjP2ApUOtXCuQ/XnTRRRdd5D9bv1Kg1q/kP1gK1PqVAuU/VlVVVVVV5T9ToNavFKjlP1HrVwrU+uU/TjbZZJNN5j9MgVq/UqDmP0nM2xkS8+Y/RhdddNFF5z9EYt7OkJjnP0GtXylQ6+c/P/jggw8+6D88Q2LezpDoPzmO4ziO4+g/N9lkk0026T80JObtDInpPzJvZ0jM2+k/L7rooosu6j8tBWr9SoHqPypQ61cK1Oo/J5tssskm6z8l5u0MiXnrPyIxb2dIzOs/IHzwwQcf7D8dx3Ecx3HsPxsS83aGxOw/GF100UUX7T8VqPUrBWrtPxPzdobEvO0/ED744IMP7j8OiXk7Q2LuPwvU+pUCte4/CB988MEH7z8Gav1KgVrvPwO1fqVAre8/AAAAAAAA8D8=",
          "dtype": "f8"
         },
         "y": {
          "bdata": "zx9zbvdGRDooGbyd41qBOpkZCk5GCbw6N2ES3BJf9Tpgm4+Bqr8uO6OdeP434GQ7LJmwCGHAmjs19yZaJC3QO52mdLiMdgI8Nurf/lrjMzweYi0d9zdkPGUsyhctZpM82S3woBORwTwnTrKW5QbuPF55eCuNOBg9Uv6y6K5wQj2cKQ68aoBqPbVVzkSI+ZE9aazq1MMDtz29NFHHuNDbPWIuhKWwu/8995505G0WIT4Hofjtb19BPrgodnnjrGA+hfYzzHQ5fj4VpSS+O92ZPp29+u+/5rQ+Olz8Ufnnzz5fJF+3IAHnPuFOeyy2V/8+yu/fONYtFD+/9rp2h5AoP7Ci1zAsSDw/+6CbkPbPTj+teWYZTMlfP1zN0xE3E28/h1/9EtjRfD8SBnTecGOJP/u573twR5U/9aRc8IYAoT/zF3PNlfapPzxM17Vt/7I/O5RDZDC7uj/FE/Tu1CXCP5TOhaCD3sc/FgDhBcGGzj85JAbq7QvTP33EdwNpQtc/wEvyOfjb2z/gPMb7AGTgPw6rFDDn9+I/AI0Eeimc5T+rZsrRPUPoPz+c6QCT4uo/3dtyPYx17T+aX9Xndv/vP8duKfnSRfE/oyiIx6aV8j8MMbiYoPjzPy/B2ssbdvU/e7uK/1QQ9z+d3hBG4cH4P1RQicmCfPo/yrGC5Bwq/D9tCLnII7D9P8GXcEoj9f4/cpHLSQ/n/z9Ub3n3NEAAQNqOqS0tZQBAinSdTV5tAECTPuZcWmcAQF+3PZnaYQBAfoFCIMBoAEBv9lcFkIMAQL1pk8mxtQBAW+Rw3+j/AEA0NODoAGIBQNwm7UCs2wFAHhOLYBtsAkB1zmx2khADQERUoa7ZwgNAvI/cNYt4BEB52NBH5iMFQDRxwmUbtgVAOa4JS00iBkBpaqqUGWAGQECLQl2XbAZANyoZg1RJBkCAf3X7tPkFQILKiejRfwVAWIxdZDnaBEB3CzIzmgMEQLUCqDKd9AJAHRPUaEunAUB54ZfmwxoAQMajx9PTq/w/pxsSHi/Q+D+D22QjIs/0PxZZSVVV3PA/gCuURFFU6j8=",
          "dtype": "f8"
         }
        },
        {
         "line": {
          "color": "lightcoral",
          "dash": "dot",
          "width": 3
         },
         "mode": "lines",
         "name": "Llama-8B (Qwen 32B Scorer)",
         "type": "scatter",
         "x": {
          "bdata": "AAAAAAAAAABbv1Kg1q+EP1u/UqDWr5Q/CB988MEHnz9bv1Kg1q+kPzJvZ0jM26k/CB988MEHrz9wZ0jM2xmyP1u/UqDWr7Q/RhdddNFFtz8yb2dIzNu5Px3HcRzHcbw/CB988MEHvz96O0Ni3s7AP3BnSMzbGcI/ZZNNNtlkwz9bv1Kg1q/EP1HrVwrU+sU/RhdddNFFxz88Q2LezpDIPzJvZ0jM28k/J5tssskmyz8dx3Ecx3HMPxPzdobEvM0/CB988MEHzz9/pUCtXynQP3o7Q2LeztA/ddFFF1100T9wZ0jM2xnSP2r9SoFav9I/ZZNNNtlk0z9gKVDrVwrUP1u/UqDWr9Q/VlVVVVVV1T9R61cK1PrVP0yBWr9SoNY/RhdddNFF1z9BrV8pUOvXPzxDYt7OkNg/N9lkk0022T8yb2dIzNvZPy0Fav1Kgdo/J5tssskm2z8iMW9nSMzbPx3HcRzHcdw/GF100UUX3T8T83aGxLzdPw6JeTtDYt4/CB988MEH3z8DtX6lQK3fP3+lQK1fKeA/ffDBBx984D96O0Ni3s7gP3eGxLydIeE/ddFFF1104T9yHMdxHMfhP3BnSMzbGeI/bbLJJpts4j9q/UqBWr/iP2hIzNsZEuM/ZZNNNtlk4z9j3s6QmLfjP2ApUOtXCuQ/XnTRRRdd5D9bv1Kg1q/kP1gK1PqVAuU/VlVVVVVV5T9ToNavFKjlP1HrVwrU+uU/TjbZZJNN5j9MgVq/UqDmP0nM2xkS8+Y/RhdddNFF5z9EYt7OkJjnP0GtXylQ6+c/P/jggw8+6D88Q2LezpDoPzmO4ziO4+g/N9lkk0026T80JObtDInpPzJvZ0jM2+k/L7rooosu6j8tBWr9SoHqPypQ61cK1Oo/J5tssskm6z8l5u0MiXnrPyIxb2dIzOs/IHzwwQcf7D8dx3Ecx3HsPxsS83aGxOw/GF100UUX7T8VqPUrBWrtPxPzdobEvO0/ED744IMP7j8OiXk7Q2LuPwvU+pUCte4/CB988MEH7z8Gav1KgVrvPwO1fqVAre8/AAAAAAAA8D8=",
          "dtype": "f8"
         },
         "y": {
          "bdata": "xmOfoEERZzkallZO9wmrOcECvwQAye05/SqQhajVLjohI6S33P9tOkormfw1bqs64c8FqJmS5zpf+4tiAgojO6vyY7Lp51w7Z3p9ddCflDtlX3thnKnLOy3mSEDsbwE8ip41TtepNDwbK3DeXwRnPHwFG2rLGZg8WhF1rOK4xzzBOXuENvP1PJSAhEPtFyM9R8xmIWk6Tz3fF/oYVAJ4Pf6NrRzTWqE9M7SGdACXxz0txN+XWibuPcmQBQUDHhI+z7ob9Lp5ND4SQDysS8NVPt2rFc1+wXU+/1ZoGzl1lD7VWM0JFBmyPlMj2o77IM4+XrVoTxWa5z4wC+LqjGcBP6nQGEu9Kxg/I9kAggifLz/s54yhgX5DP37Ua/rNqlY/qWu7TQbgaD+E6AVZ1sl5P19lV35/SYk/Xy9Dk6h8lz8ikAy6ULOkP4ezh0lSWbE/xP5fhim4uz+fbTY5MyrFP66pi9RP+s4/xliZXQjK1T/0pVmCVYndPzdlPIjnVOM/scXpsKN56D9ELC04xwDuP/fisX2r0fE/6HhkPkaG9D/+MBrg3fP2P3nOWCFm+fg/VXL86eCH+j/N8qiFLqf7P0W4bZBTdPw/3Bx8kfsY/T9MD0Mew779P7GlCF6fgv4/dKXG/6ts/z92aIfdbzcAQMIsYr9ItQBAoxJYCz8dAUA9/pid814BQE0yu2HMcAFAc7QPu2JSAUD80vCemAwBQFbmrti6rwBACLSXS3pQAEAVcRlckAQAQAj3PQFTv/8/SI45dMrh/z9RgaaPCkEAQFC6rQuI0QBAQufvlFucAUBz/eZh7JQCQPx2TFOuqQNAtP5PPi/GBEDkveTUG9UFQEi6bMTmwQZA+X4Clu95B0B2QAGELe0HQI4e3Gt1DghArPNrWIbTB0AJ1WqjKzUHQCwpilHcLwZARmNcxhjFBEAmJg/TS/0CQFL40X1X6QBAuBWGG05F/T9Tay/C7ZH4P+MWbd7j+/M/JzFIhkV/7z80xpXe3xLoP7ng5Hrz4OE/Z69Wllnd2T+Lc0zoYUPSP6HXok+2Nsk/LliGpNgDwT8=",
          "dtype": "f8"
         }
        },
        {
         "line": {
          "color": "lightcoral",
          "dash": "solid",
          "width": 3
         },
         "mode": "lines",
         "name": "Qwen3-14B",
         "type": "scatter",
         "x": {
          "bdata": "AAAAAAAAAABbv1Kg1q+EP1u/UqDWr5Q/CB988MEHnz9bv1Kg1q+kPzJvZ0jM26k/CB988MEHrz9wZ0jM2xmyP1u/UqDWr7Q/RhdddNFFtz8yb2dIzNu5Px3HcRzHcbw/CB988MEHvz96O0Ni3s7AP3BnSMzbGcI/ZZNNNtlkwz9bv1Kg1q/EP1HrVwrU+sU/RhdddNFFxz88Q2LezpDIPzJvZ0jM28k/J5tssskmyz8dx3Ecx3HMPxPzdobEvM0/CB988MEHzz9/pUCtXynQP3o7Q2LeztA/ddFFF1100T9wZ0jM2xnSP2r9SoFav9I/ZZNNNtlk0z9gKVDrVwrUP1u/UqDWr9Q/VlVVVVVV1T9R61cK1PrVP0yBWr9SoNY/RhdddNFF1z9BrV8pUOvXPzxDYt7OkNg/N9lkk0022T8yb2dIzNvZPy0Fav1Kgdo/J5tssskm2z8iMW9nSMzbPx3HcRzHcdw/GF100UUX3T8T83aGxLzdPw6JeTtDYt4/CB988MEH3z8DtX6lQK3fP3+lQK1fKeA/ffDBBx984D96O0Ni3s7gP3eGxLydIeE/ddFFF1104T9yHMdxHMfhP3BnSMzbGeI/bbLJJpts4j9q/UqBWr/iP2hIzNsZEuM/ZZNNNtlk4z9j3s6QmLfjP2ApUOtXCuQ/XnTRRRdd5D9bv1Kg1q/kP1gK1PqVAuU/VlVVVVVV5T9ToNavFKjlP1HrVwrU+uU/TjbZZJNN5j9MgVq/UqDmP0nM2xkS8+Y/RhdddNFF5z9EYt7OkJjnP0GtXylQ6+c/P/jggw8+6D88Q2LezpDoPzmO4ziO4+g/N9lkk0026T80JObtDInpPzJvZ0jM2+k/L7rooosu6j8tBWr9SoHqPypQ61cK1Oo/J5tssskm6z8l5u0MiXnrPyIxb2dIzOs/IHzwwQcf7D8dx3Ecx3HsPxsS83aGxOw/GF100UUX7T8VqPUrBWrtPxPzdobEvO0/ED744IMP7j8OiXk7Q2LuPwvU+pUCte4/CB988MEH7z8Gav1KgVrvPwO1fqVAre8/AAAAAAAA8D8=",
          "dtype": "f8"
         },
         "y": {
          "bdata": "lv11Re6t/zokTbqt1aMyO+nTHuad4mQ7R/Aa8gVIljt+OXPmXaLGO/9j5obm5PU7rKQy68QqJDya2ajHobBRPIzaHcIJjn08sJ458EyDpzxdKs7F49DRPL8t8ekZt/k8GjsZd1itIT2i99WxfSZHPRy8CB6+4Ww9w8qUueUpkT2D6gfClm+zPTi1mj94+NQ9c6b4U4qP9T1XMXPHCCAVPofLK1McujM+0PcixwSPUT7tD62N+cttPhb65duVGog+8pWIopeXoj4JXdkzJ1q7PhFsEbCyMNM+TL4+8x+w6T44mMRqkGcAP24VlhHf/hM/vf4bUfdDJz87UzLY39g5P6ZA4AUdbUs/gvCwKQfOWz/0rkQaZfFqP4uUDvox93g/DYFQZCMihj8d5qciUsmSPzr/Lrx/jp4/REkPwHTVpz/1zbW2zNmxPwnbJ1TItrk/QZAy3sXXwT9qsfKe4OjHP3kCpoIABc8/IrwqcfKK0z/NT1ndIwDYP2jfCWop1tw/7ggOg9sC4T/QyXz4E8bjP8EGF1cRtOY/FJJWWOTJ6T/655DvUv/sPxg/KW+BIvA/aPFwoGnC8T/gFRx0S1LzP89lsj88xfQ/zVOqCtgQ9j9AqEBHDi/3P4tNoK3mHvg/otuofSnk+D/Uiz5sNIb5P2ojYs50Dvo/g8PIqfKG+j/N8B6jIPn6P2SgPFfobPs/AoFfo8/n+z/lsoHFKmz8P7aiqcSJ+Pw/E62nW8OH/T+slB+g/hH+Pzuq5GnRjv4/jKrnNQr4/j/PLafiRUz/P1emMYhKkP8/IOx5hHDO/z9of5SJCwoAQD0OIBD4NgBA26QHjDtyAEBhyrAH8bwAQA6S0pIiFQFAer9nj9p2AUA/HtOQsN0BQIoFJFkeRgJAHQRzagmuAkBahW5hSxQDQPVJu1RxdwNATj3DTzfUA0BLWoqcVCQEQDiFKRwFXgRAvv9jxnl0BEDKrQ5GIFkEQNYSWgmQ/QNApbwdpdtVA0AIYoPD9loCQNcwQvbJDAFAnwxlevLm/j/ogXvF0D77PyMmSwV6T/c/OZTKz/pO8z8=",
          "dtype": "f8"
         }
        },
        {
         "line": {
          "color": "lightcoral",
          "dash": "dot",
          "width": 3
         },
         "mode": "lines",
         "name": "Qwen3-32B",
         "type": "scatter",
         "x": {
          "bdata": "AAAAAAAAAABbv1Kg1q+EP1u/UqDWr5Q/CB988MEHnz9bv1Kg1q+kPzJvZ0jM26k/CB988MEHrz9wZ0jM2xmyP1u/UqDWr7Q/RhdddNFFtz8yb2dIzNu5Px3HcRzHcbw/CB988MEHvz96O0Ni3s7AP3BnSMzbGcI/ZZNNNtlkwz9bv1Kg1q/EP1HrVwrU+sU/RhdddNFFxz88Q2LezpDIPzJvZ0jM28k/J5tssskmyz8dx3Ecx3HMPxPzdobEvM0/CB988MEHzz9/pUCtXynQP3o7Q2LeztA/ddFFF1100T9wZ0jM2xnSP2r9SoFav9I/ZZNNNtlk0z9gKVDrVwrUP1u/UqDWr9Q/VlVVVVVV1T9R61cK1PrVP0yBWr9SoNY/RhdddNFF1z9BrV8pUOvXPzxDYt7OkNg/N9lkk0022T8yb2dIzNvZPy0Fav1Kgdo/J5tssskm2z8iMW9nSMzbPx3HcRzHcdw/GF100UUX3T8T83aGxLzdPw6JeTtDYt4/CB988MEH3z8DtX6lQK3fP3+lQK1fKeA/ffDBBx984D96O0Ni3s7gP3eGxLydIeE/ddFFF1104T9yHMdxHMfhP3BnSMzbGeI/bbLJJpts4j9q/UqBWr/iP2hIzNsZEuM/ZZNNNtlk4z9j3s6QmLfjP2ApUOtXCuQ/XnTRRRdd5D9bv1Kg1q/kP1gK1PqVAuU/VlVVVVVV5T9ToNavFKjlP1HrVwrU+uU/TjbZZJNN5j9MgVq/UqDmP0nM2xkS8+Y/RhdddNFF5z9EYt7OkJjnP0GtXylQ6+c/P/jggw8+6D88Q2LezpDoPzmO4ziO4+g/N9lkk0026T80JObtDInpPzJvZ0jM2+k/L7rooosu6j8tBWr9SoHqPypQ61cK1Oo/J5tssskm6z8l5u0MiXnrPyIxb2dIzOs/IHzwwQcf7D8dx3Ecx3HsPxsS83aGxOw/GF100UUX7T8VqPUrBWrtPxPzdobEvO0/ED744IMP7j8OiXk7Q2LuPwvU+pUCte4/CB988MEH7z8Gav1KgVrvPwO1fqVAre8/AAAAAAAA8D8=",
          "dtype": "f8"
         },
         "y": {
          "bdata": "u1rdJo7k/Tn3qtZWJEU9Oj6FnpoP9Ho6ZISjaplXtzpJ5cwk9wLzOndOcX9JIC07CfvLz9v7ZDvGjjT9DnCcO+ob/r7cH9I7+7Tbcvu6BTxce+ubu4E4PBv3RAVo/2k83HEZpYrxmTzYJjS42FrIPP5Z9P9XgvU88HD7CxvfIT3jucIGCfFLPZHu8JpPjXQ9dLT27cVynD0hoSxjI4fCPZAw4j40tuY9sQIWdK0zCj5cbmuimnMsPtRCQx/DFE0+gvRqdYn7az6WKbreqlmJPqTAzWDhn6U+ziP+XhpfwT4z1g9MlEnaPlmhhTeUvPI+UCfYnHYqCT9NURIn3tofP6YavTlXATM/O+xYt3tiRT8NPjLECbNWP4+MiRr8vWY/ZLZKxDeFdT9QkCTLW0CDP0JSkoHjTJA/FsIbHYArmj9gL8PcMPajP6uZ/6IpBq0/Z3/FIPIwtD/Fz6IV4QS7PxCJ0w4hfsE/ZnD+mS4Qxj+DfBDfA0jLPxxkcOTIntA/z3ojFhgD1D9Zp0hJ4tHXPxcSfU/z+ts/CpZFdXct4D8vuKGkoWDiPx4vgH12fuQ/1WffGrh15j8X+KAaEULoP8usVZnD7ek/dnSP0xKP6z+xMOCj1ULtP9howA1pJu8/eepBeGmp8D8BlOaf4ezxP4wHxtgDYvM/+WR+xUQI9T/T/dl4nNn2PxxmdWUNyvg/XSu3eMDH+j/6QHzoXbz8P8TCA9T/j/4/qpAQhroWAEBonsInasMAQEOkvvV+TAFA2s5AkWu2AUAi3l1z2goCQPGdKBafVgJAMOKMLdimAkAhTGr83gUDQKRvMqeneANA5RKgfzD9A0DZkOBXh4oEQIPb0RyrEgVAMgNLARSGBUCVsJScDdgFQL/qF12SAgZAjLW9eEwIBkDTHFfo5PMFQE4oyhOv1AVA5XQ7IKO5BUBsPkKAGqwFQNoZVqO/qwVA3uYLTrysBUBSfDdRqZgFQFIV8og+UgVAsIf7pkG7BEBZhyL4pLsDQE6su7c8SAJAGd/UwytnAEAZXZx58WD8P4yTLcl8lPc/bSao2KnC8j8=",
          "dtype": "f8"
         }
        },
        {
         "line": {
          "color": "lightcoral",
          "dash": "solid",
          "width": 3
         },
         "mode": "lines",
         "name": "Qwen3-4B",
         "type": "scatter",
         "x": {
          "bdata": "AAAAAAAAAABbv1Kg1q+EP1u/UqDWr5Q/CB988MEHnz9bv1Kg1q+kPzJvZ0jM26k/CB988MEHrz9wZ0jM2xmyP1u/UqDWr7Q/RhdddNFFtz8yb2dIzNu5Px3HcRzHcbw/CB988MEHvz96O0Ni3s7AP3BnSMzbGcI/ZZNNNtlkwz9bv1Kg1q/EP1HrVwrU+sU/RhdddNFFxz88Q2LezpDIPzJvZ0jM28k/J5tssskmyz8dx3Ecx3HMPxPzdobEvM0/CB988MEHzz9/pUCtXynQP3o7Q2LeztA/ddFFF1100T9wZ0jM2xnSP2r9SoFav9I/ZZNNNtlk0z9gKVDrVwrUP1u/UqDWr9Q/VlVVVVVV1T9R61cK1PrVP0yBWr9SoNY/RhdddNFF1z9BrV8pUOvXPzxDYt7OkNg/N9lkk0022T8yb2dIzNvZPy0Fav1Kgdo/J5tssskm2z8iMW9nSMzbPx3HcRzHcdw/GF100UUX3T8T83aGxLzdPw6JeTtDYt4/CB988MEH3z8DtX6lQK3fP3+lQK1fKeA/ffDBBx984D96O0Ni3s7gP3eGxLydIeE/ddFFF1104T9yHMdxHMfhP3BnSMzbGeI/bbLJJpts4j9q/UqBWr/iP2hIzNsZEuM/ZZNNNtlk4z9j3s6QmLfjP2ApUOtXCuQ/XnTRRRdd5D9bv1Kg1q/kP1gK1PqVAuU/VlVVVVVV5T9ToNavFKjlP1HrVwrU+uU/TjbZZJNN5j9MgVq/UqDmP0nM2xkS8+Y/RhdddNFF5z9EYt7OkJjnP0GtXylQ6+c/P/jggw8+6D88Q2LezpDoPzmO4ziO4+g/N9lkk0026T80JObtDInpPzJvZ0jM2+k/L7rooosu6j8tBWr9SoHqPypQ61cK1Oo/J5tssskm6z8l5u0MiXnrPyIxb2dIzOs/IHzwwQcf7D8dx3Ecx3HsPxsS83aGxOw/GF100UUX7T8VqPUrBWrtPxPzdobEvO0/ED744IMP7j8OiXk7Q2LuPwvU+pUCte4/CB988MEH7z8Gav1KgVrvPwO1fqVAre8/AAAAAAAA8D8=",
          "dtype": "f8"
         },
         "y": {
          "bdata": "BttbzZsEEjuIDdZlwqdEO1P/LebLjXY7Icg3JiR1pzvDLM+JST3XO/AbZklM7gU8zphUFea2MzyKkVsqyeFgPPSrrb0Li4s8pmYlTJpntTxqSZU60LHfPMZB1HExWwY9sOsi1IMMLj34Couiyz1TPfpfB9r/enc9rg0Lmv1Nmz244f2UWEK+PT5rvF2t9d89sCaTAlcWAD5w1WzUbuAePjvWJHjTPzw+5DgqGbWkWD7+94wTN4B0PqvGMNI3RJA+0APVzgGgqD7KgJp88cjBPuUnGJ2RhNg+Ty1BFxwi8D5GVMZSYEYEPzZbyIrdVhg/5A1s4MrrKz8xJ9Tr0p4+PxGvuYUbD1A/+Gp6gIYeYD+2Fy3PDvxuPzPvk3qRiHw/pVUKoC0yiT+YMhGaUVqVP7Vq46pfYqE/6R7JGYM5qz8bieQBmoe0Pzu8nDDc3L0/KcC81OP7xD/yWQVU5IvMP0suu0QL1tI/FuZakmAr2D+7nfDRNjrePy7fIQnnd+I/nqqQqDwa5j/5qFotkvbpP+u8bifm/e0/GdRMMr0P8T8yrGh2JyTzP+3p/B9fMfU/5vydpUor9z+rzJoR8AT5P/Xn/Po7sfo/UYjPrhgk/D9Sr13nr1P9P8Ro9pOfOf4/4xJdHeHT/j81dY2uKSX/P+Nhs9mkNP8/e+e1yxMN/z84Abzkg7v+P+Xt9PTnTf4/JxNuGd7R/T/U0xTC0lP9Pye2cMGK3vw/dLTE6Pl6/D/6vPBGODD8P6VTuaVuA/w/OILsLrL3+z/0R1Ma8Q38P4zjQ5MuRfw/E4fO/UKb/D/587rKHw79P+Kh5bBFnf0/Qz2/kNlK/j/aV8M0uRv/PzaGCxUYCwBAzUnC5rGfAEAABR4HBkwBQD+8t/SuDAJA5FFGEobZAkDekQAFe6UDQJ/rM8JTXwRANyg+lDHzBEDQnWENmUwFQOTZV+62WAVAOQeD0KYIBUBwWMMniFMEQOz9n+knOANAG1qjc/W9AUCRuIfU5en/Pw+hS/jR6Ps/t64sssWw9z9nBlA/lHzzP9bCRr8MBe8/JS5Ybh7c5z8=",
          "dtype": "f8"
         }
        }
       ],
       "layout": {
        "font": {
         "size": 12
        },
        "height": 500,
        "legend": {
         "x": 0.01,
         "xanchor": "left",
         "y": 0.99,
         "yanchor": "top"
        },
        "template": {
         "data": {
          "bar": [
           {
            "error_x": {
             "color": "#2a3f5f"
            },
            "error_y": {
             "color": "#2a3f5f"
            },
            "marker": {
             "line": {
              "color": "#E5ECF6",
              "width": 0.5
             },
             "pattern": {
              "fillmode": "overlay",
              "size": 10,
              "solidity": 0.2
             }
            },
            "type": "bar"
           }
          ],
          "barpolar": [
           {
            "marker": {
             "line": {
              "color": "#E5ECF6",
              "width": 0.5
             },
             "pattern": {
              "fillmode": "overlay",
              "size": 10,
              "solidity": 0.2
             }
            },
            "type": "barpolar"
           }
          ],
          "carpet": [
           {
            "aaxis": {
             "endlinecolor": "#2a3f5f",
             "gridcolor": "white",
             "linecolor": "white",
             "minorgridcolor": "white",
             "startlinecolor": "#2a3f5f"
            },
            "baxis": {
             "endlinecolor": "#2a3f5f",
             "gridcolor": "white",
             "linecolor": "white",
             "minorgridcolor": "white",
             "startlinecolor": "#2a3f5f"
            },
            "type": "carpet"
           }
          ],
          "choropleth": [
           {
            "colorbar": {
             "outlinewidth": 0,
             "ticks": ""
            },
            "type": "choropleth"
           }
          ],
          "contour": [
           {
            "colorbar": {
             "outlinewidth": 0,
             "ticks": ""
            },
            "colorscale": [
             [
              0,
              "#0d0887"
             ],
             [
              0.1111111111111111,
              "#46039f"
             ],
             [
              0.2222222222222222,
              "#7201a8"
             ],
             [
              0.3333333333333333,
              "#9c179e"
             ],
             [
              0.4444444444444444,
              "#bd3786"
             ],
             [
              0.5555555555555556,
              "#d8576b"
             ],
             [
              0.6666666666666666,
              "#ed7953"
             ],
             [
              0.7777777777777778,
              "#fb9f3a"
             ],
             [
              0.8888888888888888,
              "#fdca26"
             ],
             [
              1,
              "#f0f921"
             ]
            ],
            "type": "contour"
           }
          ],
          "contourcarpet": [
           {
            "colorbar": {
             "outlinewidth": 0,
             "ticks": ""
            },
            "type": "contourcarpet"
           }
          ],
          "heatmap": [
           {
            "colorbar": {
             "outlinewidth": 0,
             "ticks": ""
            },
            "colorscale": [
             [
              0,
              "#0d0887"
             ],
             [
              0.1111111111111111,
              "#46039f"
             ],
             [
              0.2222222222222222,
              "#7201a8"
             ],
             [
              0.3333333333333333,
              "#9c179e"
             ],
             [
              0.4444444444444444,
              "#bd3786"
             ],
             [
              0.5555555555555556,
              "#d8576b"
             ],
             [
              0.6666666666666666,
              "#ed7953"
             ],
             [
              0.7777777777777778,
              "#fb9f3a"
             ],
             [
              0.8888888888888888,
              "#fdca26"
             ],
             [
              1,
              "#f0f921"
             ]
            ],
            "type": "heatmap"
           }
          ],
          "histogram": [
           {
            "marker": {
             "pattern": {
              "fillmode": "overlay",
              "size": 10,
              "solidity": 0.2
             }
            },
            "type": "histogram"
           }
          ],
          "histogram2d": [
           {
            "colorbar": {
             "outlinewidth": 0,
             "ticks": ""
            },
            "colorscale": [
             [
              0,
              "#0d0887"
             ],
             [
              0.1111111111111111,
              "#46039f"
             ],
             [
              0.2222222222222222,
              "#7201a8"
             ],
             [
              0.3333333333333333,
              "#9c179e"
             ],
             [
              0.4444444444444444,
              "#bd3786"
             ],
             [
              0.5555555555555556,
              "#d8576b"
             ],
             [
              0.6666666666666666,
              "#ed7953"
             ],
             [
              0.7777777777777778,
              "#fb9f3a"
             ],
             [
              0.8888888888888888,
              "#fdca26"
             ],
             [
              1,
              "#f0f921"
             ]
            ],
            "type": "histogram2d"
           }
          ],
          "histogram2dcontour": [
           {
            "colorbar": {
             "outlinewidth": 0,
             "ticks": ""
            },
            "colorscale": [
             [
              0,
              "#0d0887"
             ],
             [
              0.1111111111111111,
              "#46039f"
             ],
             [
              0.2222222222222222,
              "#7201a8"
             ],
             [
              0.3333333333333333,
              "#9c179e"
             ],
             [
              0.4444444444444444,
              "#bd3786"
             ],
             [
              0.5555555555555556,
              "#d8576b"
             ],
             [
              0.6666666666666666,
              "#ed7953"
             ],
             [
              0.7777777777777778,
              "#fb9f3a"
             ],
             [
              0.8888888888888888,
              "#fdca26"
             ],
             [
              1,
              "#f0f921"
             ]
            ],
            "type": "histogram2dcontour"
           }
          ],
          "mesh3d": [
           {
            "colorbar": {
             "outlinewidth": 0,
             "ticks": ""
            },
            "type": "mesh3d"
           }
          ],
          "parcoords": [
           {
            "line": {
             "colorbar": {
              "outlinewidth": 0,
              "ticks": ""
             }
            },
            "type": "parcoords"
           }
          ],
          "pie": [
           {
            "automargin": true,
            "type": "pie"
           }
          ],
          "scatter": [
           {
            "fillpattern": {
             "fillmode": "overlay",
             "size": 10,
             "solidity": 0.2
            },
            "type": "scatter"
           }
          ],
          "scatter3d": [
           {
            "line": {
             "colorbar": {
              "outlinewidth": 0,
              "ticks": ""
             }
            },
            "marker": {
             "colorbar": {
              "outlinewidth": 0,
              "ticks": ""
             }
            },
            "type": "scatter3d"
           }
          ],
          "scattercarpet": [
           {
            "marker": {
             "colorbar": {
              "outlinewidth": 0,
              "ticks": ""
             }
            },
            "type": "scattercarpet"
           }
          ],
          "scattergeo": [
           {
            "marker": {
             "colorbar": {
              "outlinewidth": 0,
              "ticks": ""
             }
            },
            "type": "scattergeo"
           }
          ],
          "scattergl": [
           {
            "marker": {
             "colorbar": {
              "outlinewidth": 0,
              "ticks": ""
             }
            },
            "type": "scattergl"
           }
          ],
          "scattermap": [
           {
            "marker": {
             "colorbar": {
              "outlinewidth": 0,
              "ticks": ""
             }
            },
            "type": "scattermap"
           }
          ],
          "scattermapbox": [
           {
            "marker": {
             "colorbar": {
              "outlinewidth": 0,
              "ticks": ""
             }
            },
            "type": "scattermapbox"
           }
          ],
          "scatterpolar": [
           {
            "marker": {
             "colorbar": {
              "outlinewidth": 0,
              "ticks": ""
             }
            },
            "type": "scatterpolar"
           }
          ],
          "scatterpolargl": [
           {
            "marker": {
             "colorbar": {
              "outlinewidth": 0,
              "ticks": ""
             }
            },
            "type": "scatterpolargl"
           }
          ],
          "scatterternary": [
           {
            "marker": {
             "colorbar": {
              "outlinewidth": 0,
              "ticks": ""
             }
            },
            "type": "scatterternary"
           }
          ],
          "surface": [
           {
            "colorbar": {
             "outlinewidth": 0,
             "ticks": ""
            },
            "colorscale": [
             [
              0,
              "#0d0887"
             ],
             [
              0.1111111111111111,
              "#46039f"
             ],
             [
              0.2222222222222222,
              "#7201a8"
             ],
             [
              0.3333333333333333,
              "#9c179e"
             ],
             [
              0.4444444444444444,
              "#bd3786"
             ],
             [
              0.5555555555555556,
              "#d8576b"
             ],
             [
              0.6666666666666666,
              "#ed7953"
             ],
             [
              0.7777777777777778,
              "#fb9f3a"
             ],
             [
              0.8888888888888888,
              "#fdca26"
             ],
             [
              1,
              "#f0f921"
             ]
            ],
            "type": "surface"
           }
          ],
          "table": [
           {
            "cells": {
             "fill": {
              "color": "#EBF0F8"
             },
             "line": {
              "color": "white"
             }
            },
            "header": {
             "fill": {
              "color": "#C8D4E3"
             },
             "line": {
              "color": "white"
             }
            },
            "type": "table"
           }
          ]
         },
         "layout": {
          "annotationdefaults": {
           "arrowcolor": "#2a3f5f",
           "arrowhead": 0,
           "arrowwidth": 1
          },
          "autotypenumbers": "strict",
          "coloraxis": {
           "colorbar": {
            "outlinewidth": 0,
            "ticks": ""
           }
          },
          "colorscale": {
           "diverging": [
            [
             0,
             "#8e0152"
            ],
            [
             0.1,
             "#c51b7d"
            ],
            [
             0.2,
             "#de77ae"
            ],
            [
             0.3,
             "#f1b6da"
            ],
            [
             0.4,
             "#fde0ef"
            ],
            [
             0.5,
             "#f7f7f7"
            ],
            [
             0.6,
             "#e6f5d0"
            ],
            [
             0.7,
             "#b8e186"
            ],
            [
             0.8,
             "#7fbc41"
            ],
            [
             0.9,
             "#4d9221"
            ],
            [
             1,
             "#276419"
            ]
           ],
           "sequential": [
            [
             0,
             "#0d0887"
            ],
            [
             0.1111111111111111,
             "#46039f"
            ],
            [
             0.2222222222222222,
             "#7201a8"
            ],
            [
             0.3333333333333333,
             "#9c179e"
            ],
            [
             0.4444444444444444,
             "#bd3786"
            ],
            [
             0.5555555555555556,
             "#d8576b"
            ],
            [
             0.6666666666666666,
             "#ed7953"
            ],
            [
             0.7777777777777778,
             "#fb9f3a"
            ],
            [
             0.8888888888888888,
             "#fdca26"
            ],
            [
             1,
             "#f0f921"
            ]
           ],
           "sequentialminus": [
            [
             0,
             "#0d0887"
            ],
            [
             0.1111111111111111,
             "#46039f"
            ],
            [
             0.2222222222222222,
             "#7201a8"
            ],
            [
             0.3333333333333333,
             "#9c179e"
            ],
            [
             0.4444444444444444,
             "#bd3786"
            ],
            [
             0.5555555555555556,
             "#d8576b"
            ],
            [
             0.6666666666666666,
             "#ed7953"
            ],
            [
             0.7777777777777778,
             "#fb9f3a"
            ],
            [
             0.8888888888888888,
             "#fdca26"
            ],
            [
             1,
             "#f0f921"
            ]
           ]
          },
          "colorway": [
           "#636efa",
           "#EF553B",
           "#00cc96",
           "#ab63fa",
           "#FFA15A",
           "#19d3f3",
           "#FF6692",
           "#B6E880",
           "#FF97FF",
           "#FECB52"
          ],
          "font": {
           "color": "#2a3f5f"
          },
          "geo": {
           "bgcolor": "white",
           "lakecolor": "white",
           "landcolor": "#E5ECF6",
           "showlakes": true,
           "showland": true,
           "subunitcolor": "white"
          },
          "hoverlabel": {
           "align": "left"
          },
          "hovermode": "closest",
          "mapbox": {
           "style": "light"
          },
          "paper_bgcolor": "white",
          "plot_bgcolor": "#E5ECF6",
          "polar": {
           "angularaxis": {
            "gridcolor": "white",
            "linecolor": "white",
            "ticks": ""
           },
           "bgcolor": "#E5ECF6",
           "radialaxis": {
            "gridcolor": "white",
            "linecolor": "white",
            "ticks": ""
           }
          },
          "scene": {
           "xaxis": {
            "backgroundcolor": "#E5ECF6",
            "gridcolor": "white",
            "gridwidth": 2,
            "linecolor": "white",
            "showbackground": true,
            "ticks": "",
            "zerolinecolor": "white"
           },
           "yaxis": {
            "backgroundcolor": "#E5ECF6",
            "gridcolor": "white",
            "gridwidth": 2,
            "linecolor": "white",
            "showbackground": true,
            "ticks": "",
            "zerolinecolor": "white"
           },
           "zaxis": {
            "backgroundcolor": "#E5ECF6",
            "gridcolor": "white",
            "gridwidth": 2,
            "linecolor": "white",
            "showbackground": true,
            "ticks": "",
            "zerolinecolor": "white"
           }
          },
          "shapedefaults": {
           "line": {
            "color": "#2a3f5f"
           }
          },
          "ternary": {
           "aaxis": {
            "gridcolor": "white",
            "linecolor": "white",
            "ticks": ""
           },
           "baxis": {
            "gridcolor": "white",
            "linecolor": "white",
            "ticks": ""
           },
           "bgcolor": "#E5ECF6",
           "caxis": {
            "gridcolor": "white",
            "linecolor": "white",
            "ticks": ""
           }
          },
          "title": {
           "x": 0.05
          },
          "xaxis": {
           "automargin": true,
           "gridcolor": "white",
           "linecolor": "white",
           "ticks": "",
           "title": {
            "standoff": 15
           },
           "zerolinecolor": "white",
           "zerolinewidth": 2
          },
          "yaxis": {
           "automargin": true,
           "gridcolor": "white",
           "linecolor": "white",
           "ticks": "",
           "title": {
            "standoff": 15
           },
           "zerolinecolor": "white",
           "zerolinewidth": 2
          }
         }
        },
        "title": {
         "text": "Accuracy Density Distribution - Detection"
        },
        "xaxis": {
         "title": {
          "text": "Accuracy"
         }
        },
        "yaxis": {
         "title": {
          "text": "Density"
         }
        }
       }
      }
     },
     "metadata": {},
     "output_type": "display_data"
    },
    {
     "name": "stdout",
     "output_type": "stream",
     "text": [
      "\n",
      "Data Quality Summary for detection:\n",
      "  Total data points processed: 2960\n",
      "  Valid data points used: 2849\n",
      "  NaN values found: 111\n",
      "  Infinite values found: 0\n",
      "  Data quality rate: 96.2%\n",
      "Saved KDE density plot: /home/jeremias/projects/delphi-explanations/results/visualizations/accuracy_density_detection.pdf\n",
      "Saved KDE density plot: /home/jeremias/projects/delphi-explanations/results/visualizations/accuracy_density_detection.png\n"
     ]
    }
   ],
   "source": [
    "# Generate KDE density distribution plots for accuracy\n",
    "print(\"Generating accuracy density distribution plots...\")\n",
    "\n",
    "# Import required libraries\n",
    "import plotly.graph_objects as go\n",
    "from scipy import stats\n",
    "\n",
    "# First, let's check what data we have available\n",
    "sample_model = list(model_results.keys())[0]\n",
    "sample_latent_df = model_results[sample_model]['latent_df']\n",
    "print(f\"\\nColumns in latent_df: {sample_latent_df.columns.tolist()}\")\n",
    "print(f\"Sample data shape: {sample_latent_df.shape}\")\n",
    "print(f\"Score types: {sample_latent_df['score_type'].unique()}\")\n",
    "\n",
    "# Define color and line style mapping by model family and mode\n",
    "def get_model_style(model_name):\n",
    "    \"\"\"Get color and line style based on model family and thinking mode\"\"\"\n",
    "    # Extract base model name (remove mode suffix)\n",
    "    is_thinking = '(thinking)' in model_name\n",
    "    base_name = model_name.replace(' (thinking)', '').replace(' (regular)', '')\n",
    "    \n",
    "    # Get base color by model family\n",
    "    if 'Gemma' in base_name:\n",
    "        base_color = 'green'\n",
    "        # Different line styles for different Gemma models\n",
    "        if '4B' in base_name:\n",
    "            line_style = 'solid'\n",
    "        elif '12B' in base_name:\n",
    "            line_style = 'dash'\n",
    "        elif '27B' in base_name:\n",
    "            line_style = 'dot'\n",
    "        else:\n",
    "            line_style = 'dashdot'\n",
    "    elif 'Qwen' in base_name:\n",
    "        base_color = 'red'\n",
    "        # Different line styles for different Qwen models\n",
    "        if '4B' in base_name:\n",
    "            line_style = 'solid'\n",
    "        elif '14B' in base_name:\n",
    "            line_style = 'dash'\n",
    "        elif '32B' in base_name:\n",
    "            line_style = 'dot'\n",
    "        elif '235B' in base_name:\n",
    "            line_style = 'longdash'\n",
    "        else:\n",
    "            line_style = 'dashdot'\n",
    "    elif 'Llama' in base_name:\n",
    "        base_color = 'blue'\n",
    "        # Different line styles for different Llama models\n",
    "        if '3.3' in base_name:\n",
    "            line_style = 'solid'\n",
    "        elif '3.1' in base_name:\n",
    "            line_style = 'dash'\n",
    "        elif 'Scout' in base_name:\n",
    "            line_style = 'dot'\n",
    "        elif 'Maverick' in base_name:\n",
    "            line_style = 'dashdot'\n",
    "        else:\n",
    "            line_style = 'longdash'\n",
    "    else:\n",
    "        base_color = 'gray'\n",
    "        line_style = 'solid'\n",
    "    \n",
    "    # Adjust color intensity based on thinking mode\n",
    "    if is_thinking:\n",
    "        # Darker colors for thinking mode\n",
    "        color_map = {\n",
    "            'green': 'darkgreen',\n",
    "            'red': 'darkred', \n",
    "            'blue': 'darkblue',\n",
    "            'gray': 'darkgray'\n",
    "        }\n",
    "        color = color_map.get(base_color, 'darkgray')\n",
    "    else:\n",
    "        # Lighter colors for regular mode\n",
    "        color_map = {\n",
    "            'green': 'lightgreen',\n",
    "            'red': 'lightcoral',\n",
    "            'blue': 'lightblue', \n",
    "            'gray': 'lightgray'\n",
    "        }\n",
    "        color = color_map.get(base_color, 'lightgray')\n",
    "    \n",
    "    return color, line_style\n",
    "\n",
    "# Create accuracy_df for bar charts (aggregate data)\n",
    "all_data = []\n",
    "for model_name, data in model_results.items():\n",
    "    for score_type in data['processed_df']['score_type'].unique():\n",
    "        score_data = data['processed_df'][data['processed_df']['score_type'] == score_type].iloc[0]\n",
    "        all_data.append({\n",
    "            'model': model_name,\n",
    "            'score_type': score_type,\n",
    "            'accuracy': score_data['accuracy'],\n",
    "            'f1_score': score_data['f1_score'],\n",
    "            'precision': score_data['precision'],\n",
    "            'recall': score_data['recall']\n",
    "        })\n",
    "\n",
    "accuracy_df = pd.DataFrame(all_data)\n",
    "print(\"\\nAccuracy data summary:\")\n",
    "print(accuracy_df.groupby('score_type')[['accuracy', 'f1_score']].describe().round(3))\n",
    "\n",
    "# Check if we have individual accuracy measurements for KDE plots\n",
    "if 'correct' in sample_latent_df.columns:\n",
    "    print(\"Found 'correct' column - will calculate accuracy per latent for KDE plots\")\n",
    "    \n",
    "    # Create KDE density plots for each score type\n",
    "    for score_type in sample_latent_df['score_type'].unique():\n",
    "        print(f\"\\nCreating KDE density plot for {score_type}...\")\n",
    "        \n",
    "        # Initialize counters for data quality tracking\n",
    "        nan_counter = 0\n",
    "        inf_counter = 0\n",
    "        total_points = 0\n",
    "        \n",
    "        # Collect accuracy data for all models for this score type\n",
    "        plot_data = []\n",
    "        for model_name, data in model_results.items():\n",
    "            latent_df = data['latent_df']\n",
    "            score_subset = latent_df[latent_df['score_type'] == score_type]\n",
    "            \n",
    "            if len(score_subset) > 0:\n",
    "                # Calculate accuracy per latent (group by latent_idx if available, or use individual rows)\n",
    "                if 'latent_idx' in score_subset.columns:\n",
    "                    # Group by latent and calculate accuracy\n",
    "                    latent_accuracies = score_subset.groupby('latent_idx')['correct'].mean()\n",
    "                    for accuracy in latent_accuracies:\n",
    "                        total_points += 1\n",
    "                        if pd.isna(accuracy):\n",
    "                            nan_counter += 1\n",
    "                        elif not np.isfinite(accuracy):\n",
    "                            inf_counter += 1\n",
    "                        else:\n",
    "                            plot_data.append({\n",
    "                                'model': model_name,\n",
    "                                'accuracy': accuracy\n",
    "                            })\n",
    "                else:\n",
    "                    # Use individual correct values as accuracy (0 or 1)\n",
    "                    for _, row in score_subset.iterrows():\n",
    "                        total_points += 1\n",
    "                        accuracy = float(row['correct'])\n",
    "                        if pd.isna(accuracy):\n",
    "                            nan_counter += 1\n",
    "                        elif not np.isfinite(accuracy):\n",
    "                            inf_counter += 1\n",
    "                        else:\n",
    "                            plot_data.append({\n",
    "                                'model': model_name,\n",
    "                                'accuracy': accuracy\n",
    "                            })\n",
    "        \n",
    "        if plot_data:\n",
    "            plot_df = pd.DataFrame(plot_data)\n",
    "            \n",
    "            # Create KDE line density plot\n",
    "            fig_line = go.Figure()\n",
    "            \n",
    "            for model in sorted(plot_df['model'].unique()):\n",
    "                model_data = plot_df[plot_df['model'] == model]['accuracy']\n",
    "                \n",
    "                # Clean the data: remove NaN and infinite values\n",
    "                model_data_clean = model_data.dropna()\n",
    "                model_data_clean = model_data_clean[np.isfinite(model_data_clean)]\n",
    "                \n",
    "                if len(model_data_clean) > 1:  # Need multiple points for KDE\n",
    "                    # Check if data has sufficient variance for KDE\n",
    "                    if model_data_clean.std() > 1e-10:  # Check for non-zero variance\n",
    "                        # Get color and line style based on model family\n",
    "                        color, line_style = get_model_style(model)\n",
    "                        \n",
    "                        try:\n",
    "                            # Create kernel density estimation\n",
    "                            kde = stats.gaussian_kde(model_data_clean)\n",
    "                            x_range = np.linspace(0, 1, 100)\n",
    "                            density = kde(x_range)\n",
    "                            \n",
    "                            fig_line.add_trace(go.Scatter(\n",
    "                                x=x_range,\n",
    "                                y=density,\n",
    "                                mode='lines',\n",
    "                                name=model,\n",
    "                                line=dict(\n",
    "                                    width=3,\n",
    "                                    color=color,\n",
    "                                    dash=line_style\n",
    "                                )\n",
    "                            ))\n",
    "                        except Exception as e:\n",
    "                            print(f\"Warning: Could not create KDE for {model}: {e}\")\n",
    "                            print(f\"Data summary for {model}: min={model_data_clean.min():.3f}, max={model_data_clean.max():.3f}, std={model_data_clean.std():.6f}\")\n",
    "                    else:\n",
    "                        print(f\"Warning: {model} has constant accuracy values, skipping KDE plot\")\n",
    "                        print(f\"Constant value: {model_data_clean.iloc[0]:.3f}\")\n",
    "                elif len(model_data_clean) == 1:\n",
    "                    print(f\"Warning: {model} has only one data point, skipping KDE plot\")\n",
    "                else:\n",
    "                    print(f\"Warning: {model} has no valid data points after cleaning\")\n",
    "            \n",
    "            fig_line.update_layout(\n",
    "                title=f'Accuracy Density Distribution - {score_type.title()}',\n",
    "                xaxis_title=\"Accuracy\",\n",
    "                yaxis_title=\"Density\",\n",
    "                height=500,\n",
    "                legend=dict(\n",
    "                    yanchor=\"top\",\n",
    "                    y=0.99,\n",
    "                    xanchor=\"left\",\n",
    "                    x=0.01\n",
    "                ),\n",
    "                font=dict(size=12)\n",
    "            )\n",
    "            \n",
    "            # Show KDE density plot\n",
    "            fig_line.show()\n",
    "            \n",
    "            # Print data quality summary\n",
    "            valid_points = len(plot_data)\n",
    "            print(f\"\\nData Quality Summary for {score_type}:\")\n",
    "            print(f\"  Total data points processed: {total_points}\")\n",
    "            print(f\"  Valid data points used: {valid_points}\")\n",
    "            print(f\"  NaN values found: {nan_counter}\")\n",
    "            print(f\"  Infinite values found: {inf_counter}\")\n",
    "            print(f\"  Data quality rate: {(valid_points/total_points*100):.1f}%\" if total_points > 0 else \"  No data processed\")\n",
    "            \n",
    "            # Save KDE density plot in both PDF and PNG formats\n",
    "            output_file_pdf = visualizations_dir / f\"accuracy_density_{score_type}.pdf\"\n",
    "            output_file_png = visualizations_dir / f\"accuracy_density_{score_type}.png\"\n",
    "            fig_line.write_image(str(output_file_pdf))\n",
    "            fig_line.write_image(str(output_file_png))\n",
    "            print(f\"Saved KDE density plot: {output_file_pdf}\")\n",
    "            print(f\"Saved KDE density plot: {output_file_png}\")\n",
    "\n",
    "else:\n",
    "    print(\"No 'correct' column found - cannot create density plots with individual measurements\")\n",
    "    print(\"Need individual accuracy measurements to create meaningful density distributions\")"
   ]
  },
  {
   "cell_type": "markdown",
   "id": "7a674b50",
   "metadata": {},
   "source": [
    "## 4. Generate Mean F1 Score Bar Charts\n",
    "\n",
    "Create bar charts displaying mean F1 scores with error bars for each model and score type."
   ]
  },
  {
   "cell_type": "code",
   "execution_count": 9,
   "id": "0916e89d",
   "metadata": {},
   "outputs": [
    {
     "name": "stdout",
     "output_type": "stream",
     "text": [
      "Generating frequency-weighted F1 score bar charts with error bars...\n"
     ]
    },
    {
     "data": {
      "application/vnd.plotly.v1+json": {
       "config": {
        "plotlyServerURL": "https://plot.ly"
       },
       "data": [
        {
         "error_y": {
          "array": {
           "bdata": "zjncUL23wT+4OGEcFvHAP9b2tEdhb8M//R+4xUoxxj8POVkgnx3DP7CAtf97b8M/4ajCpKpyzD/dHBOWXTzCP0DE3Pa75r4/oDq+Fy1w1j8=",
           "dtype": "f8"
          }
         },
         "hovertemplate": "model=%{x}<br>frequency_weighted_f1=%{text}<extra></extra>",
         "legendgroup": "",
         "marker": {
          "color": "#636efa",
          "pattern": {
           "shape": ""
          }
         },
         "name": "",
         "orientation": "v",
         "showlegend": false,
         "text": {
          "bdata": "AAAAYFTg5T8AAABgKdLlPwAAAIBUSeU/AAAAoN0t5T8AAACg4+rkPwAAAIDjeeQ/AAAAAIZB5D8AAABASBjkPwAAACDBJeI/AAAAACzz2z8=",
          "dtype": "f8"
         },
         "textposition": "outside",
         "texttemplate": "%{text:.3f}",
         "type": "bar",
         "x": [
          "Gemma-3-27B-IT",
          "Qwen3-32B",
          "Gemma-3-12B-IT",
          "Qwen3-14B",
          "Qwen3-4B",
          "Llama-4-Scout-17B",
          "Llama-3.3-70B-Instruct",
          "Llama-8B (Qwen 32B Scorer)",
          "Gemma-3-4B-IT",
          "GPT-OSS-20B"
         ],
         "xaxis": "x",
         "y": {
          "bdata": "AAAAYFTg5T8AAABgKdLlPwAAAIBUSeU/AAAAoN0t5T8AAACg4+rkPwAAAIDjeeQ/AAAAAIZB5D8AAABASBjkPwAAACDBJeI/AAAAACzz2z8=",
          "dtype": "f8"
         },
         "yaxis": "y"
        }
       ],
       "layout": {
        "barmode": "relative",
        "height": 500,
        "legend": {
         "tracegroupgap": 0
        },
        "template": {
         "data": {
          "bar": [
           {
            "error_x": {
             "color": "#2a3f5f"
            },
            "error_y": {
             "color": "#2a3f5f"
            },
            "marker": {
             "line": {
              "color": "#E5ECF6",
              "width": 0.5
             },
             "pattern": {
              "fillmode": "overlay",
              "size": 10,
              "solidity": 0.2
             }
            },
            "type": "bar"
           }
          ],
          "barpolar": [
           {
            "marker": {
             "line": {
              "color": "#E5ECF6",
              "width": 0.5
             },
             "pattern": {
              "fillmode": "overlay",
              "size": 10,
              "solidity": 0.2
             }
            },
            "type": "barpolar"
           }
          ],
          "carpet": [
           {
            "aaxis": {
             "endlinecolor": "#2a3f5f",
             "gridcolor": "white",
             "linecolor": "white",
             "minorgridcolor": "white",
             "startlinecolor": "#2a3f5f"
            },
            "baxis": {
             "endlinecolor": "#2a3f5f",
             "gridcolor": "white",
             "linecolor": "white",
             "minorgridcolor": "white",
             "startlinecolor": "#2a3f5f"
            },
            "type": "carpet"
           }
          ],
          "choropleth": [
           {
            "colorbar": {
             "outlinewidth": 0,
             "ticks": ""
            },
            "type": "choropleth"
           }
          ],
          "contour": [
           {
            "colorbar": {
             "outlinewidth": 0,
             "ticks": ""
            },
            "colorscale": [
             [
              0,
              "#0d0887"
             ],
             [
              0.1111111111111111,
              "#46039f"
             ],
             [
              0.2222222222222222,
              "#7201a8"
             ],
             [
              0.3333333333333333,
              "#9c179e"
             ],
             [
              0.4444444444444444,
              "#bd3786"
             ],
             [
              0.5555555555555556,
              "#d8576b"
             ],
             [
              0.6666666666666666,
              "#ed7953"
             ],
             [
              0.7777777777777778,
              "#fb9f3a"
             ],
             [
              0.8888888888888888,
              "#fdca26"
             ],
             [
              1,
              "#f0f921"
             ]
            ],
            "type": "contour"
           }
          ],
          "contourcarpet": [
           {
            "colorbar": {
             "outlinewidth": 0,
             "ticks": ""
            },
            "type": "contourcarpet"
           }
          ],
          "heatmap": [
           {
            "colorbar": {
             "outlinewidth": 0,
             "ticks": ""
            },
            "colorscale": [
             [
              0,
              "#0d0887"
             ],
             [
              0.1111111111111111,
              "#46039f"
             ],
             [
              0.2222222222222222,
              "#7201a8"
             ],
             [
              0.3333333333333333,
              "#9c179e"
             ],
             [
              0.4444444444444444,
              "#bd3786"
             ],
             [
              0.5555555555555556,
              "#d8576b"
             ],
             [
              0.6666666666666666,
              "#ed7953"
             ],
             [
              0.7777777777777778,
              "#fb9f3a"
             ],
             [
              0.8888888888888888,
              "#fdca26"
             ],
             [
              1,
              "#f0f921"
             ]
            ],
            "type": "heatmap"
           }
          ],
          "histogram": [
           {
            "marker": {
             "pattern": {
              "fillmode": "overlay",
              "size": 10,
              "solidity": 0.2
             }
            },
            "type": "histogram"
           }
          ],
          "histogram2d": [
           {
            "colorbar": {
             "outlinewidth": 0,
             "ticks": ""
            },
            "colorscale": [
             [
              0,
              "#0d0887"
             ],
             [
              0.1111111111111111,
              "#46039f"
             ],
             [
              0.2222222222222222,
              "#7201a8"
             ],
             [
              0.3333333333333333,
              "#9c179e"
             ],
             [
              0.4444444444444444,
              "#bd3786"
             ],
             [
              0.5555555555555556,
              "#d8576b"
             ],
             [
              0.6666666666666666,
              "#ed7953"
             ],
             [
              0.7777777777777778,
              "#fb9f3a"
             ],
             [
              0.8888888888888888,
              "#fdca26"
             ],
             [
              1,
              "#f0f921"
             ]
            ],
            "type": "histogram2d"
           }
          ],
          "histogram2dcontour": [
           {
            "colorbar": {
             "outlinewidth": 0,
             "ticks": ""
            },
            "colorscale": [
             [
              0,
              "#0d0887"
             ],
             [
              0.1111111111111111,
              "#46039f"
             ],
             [
              0.2222222222222222,
              "#7201a8"
             ],
             [
              0.3333333333333333,
              "#9c179e"
             ],
             [
              0.4444444444444444,
              "#bd3786"
             ],
             [
              0.5555555555555556,
              "#d8576b"
             ],
             [
              0.6666666666666666,
              "#ed7953"
             ],
             [
              0.7777777777777778,
              "#fb9f3a"
             ],
             [
              0.8888888888888888,
              "#fdca26"
             ],
             [
              1,
              "#f0f921"
             ]
            ],
            "type": "histogram2dcontour"
           }
          ],
          "mesh3d": [
           {
            "colorbar": {
             "outlinewidth": 0,
             "ticks": ""
            },
            "type": "mesh3d"
           }
          ],
          "parcoords": [
           {
            "line": {
             "colorbar": {
              "outlinewidth": 0,
              "ticks": ""
             }
            },
            "type": "parcoords"
           }
          ],
          "pie": [
           {
            "automargin": true,
            "type": "pie"
           }
          ],
          "scatter": [
           {
            "fillpattern": {
             "fillmode": "overlay",
             "size": 10,
             "solidity": 0.2
            },
            "type": "scatter"
           }
          ],
          "scatter3d": [
           {
            "line": {
             "colorbar": {
              "outlinewidth": 0,
              "ticks": ""
             }
            },
            "marker": {
             "colorbar": {
              "outlinewidth": 0,
              "ticks": ""
             }
            },
            "type": "scatter3d"
           }
          ],
          "scattercarpet": [
           {
            "marker": {
             "colorbar": {
              "outlinewidth": 0,
              "ticks": ""
             }
            },
            "type": "scattercarpet"
           }
          ],
          "scattergeo": [
           {
            "marker": {
             "colorbar": {
              "outlinewidth": 0,
              "ticks": ""
             }
            },
            "type": "scattergeo"
           }
          ],
          "scattergl": [
           {
            "marker": {
             "colorbar": {
              "outlinewidth": 0,
              "ticks": ""
             }
            },
            "type": "scattergl"
           }
          ],
          "scattermap": [
           {
            "marker": {
             "colorbar": {
              "outlinewidth": 0,
              "ticks": ""
             }
            },
            "type": "scattermap"
           }
          ],
          "scattermapbox": [
           {
            "marker": {
             "colorbar": {
              "outlinewidth": 0,
              "ticks": ""
             }
            },
            "type": "scattermapbox"
           }
          ],
          "scatterpolar": [
           {
            "marker": {
             "colorbar": {
              "outlinewidth": 0,
              "ticks": ""
             }
            },
            "type": "scatterpolar"
           }
          ],
          "scatterpolargl": [
           {
            "marker": {
             "colorbar": {
              "outlinewidth": 0,
              "ticks": ""
             }
            },
            "type": "scatterpolargl"
           }
          ],
          "scatterternary": [
           {
            "marker": {
             "colorbar": {
              "outlinewidth": 0,
              "ticks": ""
             }
            },
            "type": "scatterternary"
           }
          ],
          "surface": [
           {
            "colorbar": {
             "outlinewidth": 0,
             "ticks": ""
            },
            "colorscale": [
             [
              0,
              "#0d0887"
             ],
             [
              0.1111111111111111,
              "#46039f"
             ],
             [
              0.2222222222222222,
              "#7201a8"
             ],
             [
              0.3333333333333333,
              "#9c179e"
             ],
             [
              0.4444444444444444,
              "#bd3786"
             ],
             [
              0.5555555555555556,
              "#d8576b"
             ],
             [
              0.6666666666666666,
              "#ed7953"
             ],
             [
              0.7777777777777778,
              "#fb9f3a"
             ],
             [
              0.8888888888888888,
              "#fdca26"
             ],
             [
              1,
              "#f0f921"
             ]
            ],
            "type": "surface"
           }
          ],
          "table": [
           {
            "cells": {
             "fill": {
              "color": "#EBF0F8"
             },
             "line": {
              "color": "white"
             }
            },
            "header": {
             "fill": {
              "color": "#C8D4E3"
             },
             "line": {
              "color": "white"
             }
            },
            "type": "table"
           }
          ]
         },
         "layout": {
          "annotationdefaults": {
           "arrowcolor": "#2a3f5f",
           "arrowhead": 0,
           "arrowwidth": 1
          },
          "autotypenumbers": "strict",
          "coloraxis": {
           "colorbar": {
            "outlinewidth": 0,
            "ticks": ""
           }
          },
          "colorscale": {
           "diverging": [
            [
             0,
             "#8e0152"
            ],
            [
             0.1,
             "#c51b7d"
            ],
            [
             0.2,
             "#de77ae"
            ],
            [
             0.3,
             "#f1b6da"
            ],
            [
             0.4,
             "#fde0ef"
            ],
            [
             0.5,
             "#f7f7f7"
            ],
            [
             0.6,
             "#e6f5d0"
            ],
            [
             0.7,
             "#b8e186"
            ],
            [
             0.8,
             "#7fbc41"
            ],
            [
             0.9,
             "#4d9221"
            ],
            [
             1,
             "#276419"
            ]
           ],
           "sequential": [
            [
             0,
             "#0d0887"
            ],
            [
             0.1111111111111111,
             "#46039f"
            ],
            [
             0.2222222222222222,
             "#7201a8"
            ],
            [
             0.3333333333333333,
             "#9c179e"
            ],
            [
             0.4444444444444444,
             "#bd3786"
            ],
            [
             0.5555555555555556,
             "#d8576b"
            ],
            [
             0.6666666666666666,
             "#ed7953"
            ],
            [
             0.7777777777777778,
             "#fb9f3a"
            ],
            [
             0.8888888888888888,
             "#fdca26"
            ],
            [
             1,
             "#f0f921"
            ]
           ],
           "sequentialminus": [
            [
             0,
             "#0d0887"
            ],
            [
             0.1111111111111111,
             "#46039f"
            ],
            [
             0.2222222222222222,
             "#7201a8"
            ],
            [
             0.3333333333333333,
             "#9c179e"
            ],
            [
             0.4444444444444444,
             "#bd3786"
            ],
            [
             0.5555555555555556,
             "#d8576b"
            ],
            [
             0.6666666666666666,
             "#ed7953"
            ],
            [
             0.7777777777777778,
             "#fb9f3a"
            ],
            [
             0.8888888888888888,
             "#fdca26"
            ],
            [
             1,
             "#f0f921"
            ]
           ]
          },
          "colorway": [
           "#636efa",
           "#EF553B",
           "#00cc96",
           "#ab63fa",
           "#FFA15A",
           "#19d3f3",
           "#FF6692",
           "#B6E880",
           "#FF97FF",
           "#FECB52"
          ],
          "font": {
           "color": "#2a3f5f"
          },
          "geo": {
           "bgcolor": "white",
           "lakecolor": "white",
           "landcolor": "#E5ECF6",
           "showlakes": true,
           "showland": true,
           "subunitcolor": "white"
          },
          "hoverlabel": {
           "align": "left"
          },
          "hovermode": "closest",
          "mapbox": {
           "style": "light"
          },
          "paper_bgcolor": "white",
          "plot_bgcolor": "#E5ECF6",
          "polar": {
           "angularaxis": {
            "gridcolor": "white",
            "linecolor": "white",
            "ticks": ""
           },
           "bgcolor": "#E5ECF6",
           "radialaxis": {
            "gridcolor": "white",
            "linecolor": "white",
            "ticks": ""
           }
          },
          "scene": {
           "xaxis": {
            "backgroundcolor": "#E5ECF6",
            "gridcolor": "white",
            "gridwidth": 2,
            "linecolor": "white",
            "showbackground": true,
            "ticks": "",
            "zerolinecolor": "white"
           },
           "yaxis": {
            "backgroundcolor": "#E5ECF6",
            "gridcolor": "white",
            "gridwidth": 2,
            "linecolor": "white",
            "showbackground": true,
            "ticks": "",
            "zerolinecolor": "white"
           },
           "zaxis": {
            "backgroundcolor": "#E5ECF6",
            "gridcolor": "white",
            "gridwidth": 2,
            "linecolor": "white",
            "showbackground": true,
            "ticks": "",
            "zerolinecolor": "white"
           }
          },
          "shapedefaults": {
           "line": {
            "color": "#2a3f5f"
           }
          },
          "ternary": {
           "aaxis": {
            "gridcolor": "white",
            "linecolor": "white",
            "ticks": ""
           },
           "baxis": {
            "gridcolor": "white",
            "linecolor": "white",
            "ticks": ""
           },
           "bgcolor": "#E5ECF6",
           "caxis": {
            "gridcolor": "white",
            "linecolor": "white",
            "ticks": ""
           }
          },
          "title": {
           "x": 0.05
          },
          "xaxis": {
           "automargin": true,
           "gridcolor": "white",
           "linecolor": "white",
           "ticks": "",
           "title": {
            "standoff": 15
           },
           "zerolinecolor": "white",
           "zerolinewidth": 2
          },
          "yaxis": {
           "automargin": true,
           "gridcolor": "white",
           "linecolor": "white",
           "ticks": "",
           "title": {
            "standoff": 15
           },
           "zerolinecolor": "white",
           "zerolinewidth": 2
          }
         }
        },
        "title": {
         "text": "Frequency-Weighted F1 Score by Model - Detection"
        },
        "xaxis": {
         "anchor": "y",
         "domain": [
          0,
          1
         ],
         "tickangle": 45,
         "title": {
          "text": "Model"
         }
        },
        "yaxis": {
         "anchor": "x",
         "domain": [
          0,
          1
         ],
         "range": [
          0,
          1
         ],
         "title": {
          "text": "Frequency-Weighted F1 Score"
         }
        }
       }
      }
     },
     "metadata": {},
     "output_type": "display_data"
    },
    {
     "name": "stderr",
     "output_type": "stream",
     "text": [
      "/tmp/ipykernel_107315/2825122370.py:49: DeprecationWarning:\n",
      "\n",
      "\n",
      "Support for Kaleido versions less than 1.0.0 is deprecated and will be removed after September 2025.\n",
      "Please upgrade Kaleido to version 1.0.0 or greater (`pip install 'kaleido>=1.0.0'` or `pip install 'plotly[kaleido]'`).\n",
      "\n",
      "\n",
      "/tmp/ipykernel_107315/2825122370.py:50: DeprecationWarning:\n",
      "\n",
      "\n",
      "Support for Kaleido versions less than 1.0.0 is deprecated and will be removed after September 2025.\n",
      "Please upgrade Kaleido to version 1.0.0 or greater (`pip install 'kaleido>=1.0.0'` or `pip install 'plotly[kaleido]'`).\n",
      "\n",
      "\n"
     ]
    },
    {
     "name": "stdout",
     "output_type": "stream",
     "text": [
      "Saved Frequency-Weighted F1 bar chart: /home/jeremias/projects/delphi-explanations/results/visualizations/freq_weighted_f1_bar_detection.pdf\n",
      "Saved Frequency-Weighted F1 bar chart: /home/jeremias/projects/delphi-explanations/results/visualizations/freq_weighted_f1_bar_detection.png\n"
     ]
    },
    {
     "data": {
      "application/vnd.plotly.v1+json": {
       "config": {
        "plotlyServerURL": "https://plot.ly"
       },
       "data": [
        {
         "error_y": {
          "array": {
           "bdata": "jIvij1Z1uz8p8/SdmxnAP9IYP4ByEr4/x3YNqjUZvj/ruiCBznnMP35Fk/bmurw/wRleLr2Cxj9WMOMCnEvHP9ACiwmX2sU/AAznFk2S2D8=",
           "dtype": "f8"
          }
         },
         "hovertemplate": "model=%{x}<br>frequency_weighted_f1=%{text}<extra></extra>",
         "legendgroup": "",
         "marker": {
          "color": "#636efa",
          "pattern": {
           "shape": ""
          }
         },
         "name": "",
         "orientation": "v",
         "showlegend": false,
         "text": {
          "bdata": "AAAAgMU26D8AAACAz+nnPwAAAKCe/OY/AAAAAFOi5j8AAACAEGflPwAAAKDlAuQ/AAAAIOfI4z8AAACAf+/iPwAAAMADxeI/AAAAYICe0z8=",
          "dtype": "f8"
         },
         "textposition": "outside",
         "texttemplate": "%{text:.3f}",
         "type": "bar",
         "x": [
          "Qwen3-32B",
          "Gemma-3-27B-IT",
          "Qwen3-4B",
          "Llama-4-Scout-17B",
          "Llama-3.3-70B-Instruct",
          "Gemma-3-4B-IT",
          "Gemma-3-12B-IT",
          "Qwen3-14B",
          "Llama-8B (Qwen 32B Scorer)",
          "GPT-OSS-20B"
         ],
         "xaxis": "x",
         "y": {
          "bdata": "AAAAgMU26D8AAACAz+nnPwAAAKCe/OY/AAAAAFOi5j8AAACAEGflPwAAAKDlAuQ/AAAAIOfI4z8AAACAf+/iPwAAAMADxeI/AAAAYICe0z8=",
          "dtype": "f8"
         },
         "yaxis": "y"
        }
       ],
       "layout": {
        "barmode": "relative",
        "height": 500,
        "legend": {
         "tracegroupgap": 0
        },
        "template": {
         "data": {
          "bar": [
           {
            "error_x": {
             "color": "#2a3f5f"
            },
            "error_y": {
             "color": "#2a3f5f"
            },
            "marker": {
             "line": {
              "color": "#E5ECF6",
              "width": 0.5
             },
             "pattern": {
              "fillmode": "overlay",
              "size": 10,
              "solidity": 0.2
             }
            },
            "type": "bar"
           }
          ],
          "barpolar": [
           {
            "marker": {
             "line": {
              "color": "#E5ECF6",
              "width": 0.5
             },
             "pattern": {
              "fillmode": "overlay",
              "size": 10,
              "solidity": 0.2
             }
            },
            "type": "barpolar"
           }
          ],
          "carpet": [
           {
            "aaxis": {
             "endlinecolor": "#2a3f5f",
             "gridcolor": "white",
             "linecolor": "white",
             "minorgridcolor": "white",
             "startlinecolor": "#2a3f5f"
            },
            "baxis": {
             "endlinecolor": "#2a3f5f",
             "gridcolor": "white",
             "linecolor": "white",
             "minorgridcolor": "white",
             "startlinecolor": "#2a3f5f"
            },
            "type": "carpet"
           }
          ],
          "choropleth": [
           {
            "colorbar": {
             "outlinewidth": 0,
             "ticks": ""
            },
            "type": "choropleth"
           }
          ],
          "contour": [
           {
            "colorbar": {
             "outlinewidth": 0,
             "ticks": ""
            },
            "colorscale": [
             [
              0,
              "#0d0887"
             ],
             [
              0.1111111111111111,
              "#46039f"
             ],
             [
              0.2222222222222222,
              "#7201a8"
             ],
             [
              0.3333333333333333,
              "#9c179e"
             ],
             [
              0.4444444444444444,
              "#bd3786"
             ],
             [
              0.5555555555555556,
              "#d8576b"
             ],
             [
              0.6666666666666666,
              "#ed7953"
             ],
             [
              0.7777777777777778,
              "#fb9f3a"
             ],
             [
              0.8888888888888888,
              "#fdca26"
             ],
             [
              1,
              "#f0f921"
             ]
            ],
            "type": "contour"
           }
          ],
          "contourcarpet": [
           {
            "colorbar": {
             "outlinewidth": 0,
             "ticks": ""
            },
            "type": "contourcarpet"
           }
          ],
          "heatmap": [
           {
            "colorbar": {
             "outlinewidth": 0,
             "ticks": ""
            },
            "colorscale": [
             [
              0,
              "#0d0887"
             ],
             [
              0.1111111111111111,
              "#46039f"
             ],
             [
              0.2222222222222222,
              "#7201a8"
             ],
             [
              0.3333333333333333,
              "#9c179e"
             ],
             [
              0.4444444444444444,
              "#bd3786"
             ],
             [
              0.5555555555555556,
              "#d8576b"
             ],
             [
              0.6666666666666666,
              "#ed7953"
             ],
             [
              0.7777777777777778,
              "#fb9f3a"
             ],
             [
              0.8888888888888888,
              "#fdca26"
             ],
             [
              1,
              "#f0f921"
             ]
            ],
            "type": "heatmap"
           }
          ],
          "histogram": [
           {
            "marker": {
             "pattern": {
              "fillmode": "overlay",
              "size": 10,
              "solidity": 0.2
             }
            },
            "type": "histogram"
           }
          ],
          "histogram2d": [
           {
            "colorbar": {
             "outlinewidth": 0,
             "ticks": ""
            },
            "colorscale": [
             [
              0,
              "#0d0887"
             ],
             [
              0.1111111111111111,
              "#46039f"
             ],
             [
              0.2222222222222222,
              "#7201a8"
             ],
             [
              0.3333333333333333,
              "#9c179e"
             ],
             [
              0.4444444444444444,
              "#bd3786"
             ],
             [
              0.5555555555555556,
              "#d8576b"
             ],
             [
              0.6666666666666666,
              "#ed7953"
             ],
             [
              0.7777777777777778,
              "#fb9f3a"
             ],
             [
              0.8888888888888888,
              "#fdca26"
             ],
             [
              1,
              "#f0f921"
             ]
            ],
            "type": "histogram2d"
           }
          ],
          "histogram2dcontour": [
           {
            "colorbar": {
             "outlinewidth": 0,
             "ticks": ""
            },
            "colorscale": [
             [
              0,
              "#0d0887"
             ],
             [
              0.1111111111111111,
              "#46039f"
             ],
             [
              0.2222222222222222,
              "#7201a8"
             ],
             [
              0.3333333333333333,
              "#9c179e"
             ],
             [
              0.4444444444444444,
              "#bd3786"
             ],
             [
              0.5555555555555556,
              "#d8576b"
             ],
             [
              0.6666666666666666,
              "#ed7953"
             ],
             [
              0.7777777777777778,
              "#fb9f3a"
             ],
             [
              0.8888888888888888,
              "#fdca26"
             ],
             [
              1,
              "#f0f921"
             ]
            ],
            "type": "histogram2dcontour"
           }
          ],
          "mesh3d": [
           {
            "colorbar": {
             "outlinewidth": 0,
             "ticks": ""
            },
            "type": "mesh3d"
           }
          ],
          "parcoords": [
           {
            "line": {
             "colorbar": {
              "outlinewidth": 0,
              "ticks": ""
             }
            },
            "type": "parcoords"
           }
          ],
          "pie": [
           {
            "automargin": true,
            "type": "pie"
           }
          ],
          "scatter": [
           {
            "fillpattern": {
             "fillmode": "overlay",
             "size": 10,
             "solidity": 0.2
            },
            "type": "scatter"
           }
          ],
          "scatter3d": [
           {
            "line": {
             "colorbar": {
              "outlinewidth": 0,
              "ticks": ""
             }
            },
            "marker": {
             "colorbar": {
              "outlinewidth": 0,
              "ticks": ""
             }
            },
            "type": "scatter3d"
           }
          ],
          "scattercarpet": [
           {
            "marker": {
             "colorbar": {
              "outlinewidth": 0,
              "ticks": ""
             }
            },
            "type": "scattercarpet"
           }
          ],
          "scattergeo": [
           {
            "marker": {
             "colorbar": {
              "outlinewidth": 0,
              "ticks": ""
             }
            },
            "type": "scattergeo"
           }
          ],
          "scattergl": [
           {
            "marker": {
             "colorbar": {
              "outlinewidth": 0,
              "ticks": ""
             }
            },
            "type": "scattergl"
           }
          ],
          "scattermap": [
           {
            "marker": {
             "colorbar": {
              "outlinewidth": 0,
              "ticks": ""
             }
            },
            "type": "scattermap"
           }
          ],
          "scattermapbox": [
           {
            "marker": {
             "colorbar": {
              "outlinewidth": 0,
              "ticks": ""
             }
            },
            "type": "scattermapbox"
           }
          ],
          "scatterpolar": [
           {
            "marker": {
             "colorbar": {
              "outlinewidth": 0,
              "ticks": ""
             }
            },
            "type": "scatterpolar"
           }
          ],
          "scatterpolargl": [
           {
            "marker": {
             "colorbar": {
              "outlinewidth": 0,
              "ticks": ""
             }
            },
            "type": "scatterpolargl"
           }
          ],
          "scatterternary": [
           {
            "marker": {
             "colorbar": {
              "outlinewidth": 0,
              "ticks": ""
             }
            },
            "type": "scatterternary"
           }
          ],
          "surface": [
           {
            "colorbar": {
             "outlinewidth": 0,
             "ticks": ""
            },
            "colorscale": [
             [
              0,
              "#0d0887"
             ],
             [
              0.1111111111111111,
              "#46039f"
             ],
             [
              0.2222222222222222,
              "#7201a8"
             ],
             [
              0.3333333333333333,
              "#9c179e"
             ],
             [
              0.4444444444444444,
              "#bd3786"
             ],
             [
              0.5555555555555556,
              "#d8576b"
             ],
             [
              0.6666666666666666,
              "#ed7953"
             ],
             [
              0.7777777777777778,
              "#fb9f3a"
             ],
             [
              0.8888888888888888,
              "#fdca26"
             ],
             [
              1,
              "#f0f921"
             ]
            ],
            "type": "surface"
           }
          ],
          "table": [
           {
            "cells": {
             "fill": {
              "color": "#EBF0F8"
             },
             "line": {
              "color": "white"
             }
            },
            "header": {
             "fill": {
              "color": "#C8D4E3"
             },
             "line": {
              "color": "white"
             }
            },
            "type": "table"
           }
          ]
         },
         "layout": {
          "annotationdefaults": {
           "arrowcolor": "#2a3f5f",
           "arrowhead": 0,
           "arrowwidth": 1
          },
          "autotypenumbers": "strict",
          "coloraxis": {
           "colorbar": {
            "outlinewidth": 0,
            "ticks": ""
           }
          },
          "colorscale": {
           "diverging": [
            [
             0,
             "#8e0152"
            ],
            [
             0.1,
             "#c51b7d"
            ],
            [
             0.2,
             "#de77ae"
            ],
            [
             0.3,
             "#f1b6da"
            ],
            [
             0.4,
             "#fde0ef"
            ],
            [
             0.5,
             "#f7f7f7"
            ],
            [
             0.6,
             "#e6f5d0"
            ],
            [
             0.7,
             "#b8e186"
            ],
            [
             0.8,
             "#7fbc41"
            ],
            [
             0.9,
             "#4d9221"
            ],
            [
             1,
             "#276419"
            ]
           ],
           "sequential": [
            [
             0,
             "#0d0887"
            ],
            [
             0.1111111111111111,
             "#46039f"
            ],
            [
             0.2222222222222222,
             "#7201a8"
            ],
            [
             0.3333333333333333,
             "#9c179e"
            ],
            [
             0.4444444444444444,
             "#bd3786"
            ],
            [
             0.5555555555555556,
             "#d8576b"
            ],
            [
             0.6666666666666666,
             "#ed7953"
            ],
            [
             0.7777777777777778,
             "#fb9f3a"
            ],
            [
             0.8888888888888888,
             "#fdca26"
            ],
            [
             1,
             "#f0f921"
            ]
           ],
           "sequentialminus": [
            [
             0,
             "#0d0887"
            ],
            [
             0.1111111111111111,
             "#46039f"
            ],
            [
             0.2222222222222222,
             "#7201a8"
            ],
            [
             0.3333333333333333,
             "#9c179e"
            ],
            [
             0.4444444444444444,
             "#bd3786"
            ],
            [
             0.5555555555555556,
             "#d8576b"
            ],
            [
             0.6666666666666666,
             "#ed7953"
            ],
            [
             0.7777777777777778,
             "#fb9f3a"
            ],
            [
             0.8888888888888888,
             "#fdca26"
            ],
            [
             1,
             "#f0f921"
            ]
           ]
          },
          "colorway": [
           "#636efa",
           "#EF553B",
           "#00cc96",
           "#ab63fa",
           "#FFA15A",
           "#19d3f3",
           "#FF6692",
           "#B6E880",
           "#FF97FF",
           "#FECB52"
          ],
          "font": {
           "color": "#2a3f5f"
          },
          "geo": {
           "bgcolor": "white",
           "lakecolor": "white",
           "landcolor": "#E5ECF6",
           "showlakes": true,
           "showland": true,
           "subunitcolor": "white"
          },
          "hoverlabel": {
           "align": "left"
          },
          "hovermode": "closest",
          "mapbox": {
           "style": "light"
          },
          "paper_bgcolor": "white",
          "plot_bgcolor": "#E5ECF6",
          "polar": {
           "angularaxis": {
            "gridcolor": "white",
            "linecolor": "white",
            "ticks": ""
           },
           "bgcolor": "#E5ECF6",
           "radialaxis": {
            "gridcolor": "white",
            "linecolor": "white",
            "ticks": ""
           }
          },
          "scene": {
           "xaxis": {
            "backgroundcolor": "#E5ECF6",
            "gridcolor": "white",
            "gridwidth": 2,
            "linecolor": "white",
            "showbackground": true,
            "ticks": "",
            "zerolinecolor": "white"
           },
           "yaxis": {
            "backgroundcolor": "#E5ECF6",
            "gridcolor": "white",
            "gridwidth": 2,
            "linecolor": "white",
            "showbackground": true,
            "ticks": "",
            "zerolinecolor": "white"
           },
           "zaxis": {
            "backgroundcolor": "#E5ECF6",
            "gridcolor": "white",
            "gridwidth": 2,
            "linecolor": "white",
            "showbackground": true,
            "ticks": "",
            "zerolinecolor": "white"
           }
          },
          "shapedefaults": {
           "line": {
            "color": "#2a3f5f"
           }
          },
          "ternary": {
           "aaxis": {
            "gridcolor": "white",
            "linecolor": "white",
            "ticks": ""
           },
           "baxis": {
            "gridcolor": "white",
            "linecolor": "white",
            "ticks": ""
           },
           "bgcolor": "#E5ECF6",
           "caxis": {
            "gridcolor": "white",
            "linecolor": "white",
            "ticks": ""
           }
          },
          "title": {
           "x": 0.05
          },
          "xaxis": {
           "automargin": true,
           "gridcolor": "white",
           "linecolor": "white",
           "ticks": "",
           "title": {
            "standoff": 15
           },
           "zerolinecolor": "white",
           "zerolinewidth": 2
          },
          "yaxis": {
           "automargin": true,
           "gridcolor": "white",
           "linecolor": "white",
           "ticks": "",
           "title": {
            "standoff": 15
           },
           "zerolinecolor": "white",
           "zerolinewidth": 2
          }
         }
        },
        "title": {
         "text": "Frequency-Weighted F1 Score by Model - Fuzz"
        },
        "xaxis": {
         "anchor": "y",
         "domain": [
          0,
          1
         ],
         "tickangle": 45,
         "title": {
          "text": "Model"
         }
        },
        "yaxis": {
         "anchor": "x",
         "domain": [
          0,
          1
         ],
         "range": [
          0,
          1
         ],
         "title": {
          "text": "Frequency-Weighted F1 Score"
         }
        }
       }
      }
     },
     "metadata": {},
     "output_type": "display_data"
    },
    {
     "name": "stdout",
     "output_type": "stream",
     "text": [
      "Saved Frequency-Weighted F1 bar chart: /home/jeremias/projects/delphi-explanations/results/visualizations/freq_weighted_f1_bar_fuzz.pdf\n",
      "Saved Frequency-Weighted F1 bar chart: /home/jeremias/projects/delphi-explanations/results/visualizations/freq_weighted_f1_bar_fuzz.png\n",
      "\n",
      "Bar charts saved to /home/jeremias/projects/delphi-explanations/results/visualizations\n"
     ]
    },
    {
     "name": "stderr",
     "output_type": "stream",
     "text": [
      "/tmp/ipykernel_107315/2825122370.py:49: DeprecationWarning:\n",
      "\n",
      "\n",
      "Support for Kaleido versions less than 1.0.0 is deprecated and will be removed after September 2025.\n",
      "Please upgrade Kaleido to version 1.0.0 or greater (`pip install 'kaleido>=1.0.0'` or `pip install 'plotly[kaleido]'`).\n",
      "\n",
      "\n",
      "/tmp/ipykernel_107315/2825122370.py:50: DeprecationWarning:\n",
      "\n",
      "\n",
      "Support for Kaleido versions less than 1.0.0 is deprecated and will be removed after September 2025.\n",
      "Please upgrade Kaleido to version 1.0.0 or greater (`pip install 'kaleido>=1.0.0'` or `pip install 'plotly[kaleido]'`).\n",
      "\n",
      "\n"
     ]
    }
   ],
   "source": [
    "# Generate inline bar charts for frequency-weighted F1 scores with error bars and save to files\n",
    "print(\"Generating frequency-weighted F1 score bar charts with error bars...\")\n",
    "\n",
    "# Create inline bar charts for each score type\n",
    "for score_type in accuracy_df['score_type'].unique():\n",
    "    error_data = []\n",
    "    for model_name in accuracy_df[accuracy_df['score_type'] == score_type]['model'].unique():\n",
    "        if model_name in model_results:\n",
    "            # Get the frequency-weighted F1 from the processed data (already calculated by get_agg_metrics)\n",
    "            processed_df = model_results[model_name]['processed_df']\n",
    "            score_data = processed_df[processed_df['score_type'] == score_type]\n",
    "            if len(score_data) > 0:\n",
    "                freq_weighted_f1 = score_data['weighted_f1'].iloc[0]\n",
    "                # Calculate standard deviation of F1 scores per latent for error bars\n",
    "                latent_df = model_results[model_name]['latent_df']\n",
    "                score_subset = latent_df[latent_df['score_type'] == score_type]\n",
    "                if len(score_subset) > 0 and 'f1_score' in score_subset.columns:\n",
    "                    f1_std = score_subset['f1_score'].std()\n",
    "                else:\n",
    "                    f1_std = 0\n",
    "                error_data.append({\n",
    "                    'model': model_name,\n",
    "                    'f1_std': f1_std,\n",
    "                    'frequency_weighted_f1': freq_weighted_f1\n",
    "                })\n",
    "    error_df = pd.DataFrame(error_data)\n",
    "    # Sort by frequency-weighted F1\n",
    "    error_df = error_df.sort_values('frequency_weighted_f1', ascending=False)\n",
    "    # Create inline bar chart with error bars\n",
    "    fig = px.bar(\n",
    "        error_df,\n",
    "        x='model',\n",
    "        y='frequency_weighted_f1',\n",
    "        title=f'Frequency-Weighted F1 Score by Model - {score_type.title()}',\n",
    "        text='frequency_weighted_f1',\n",
    "        error_y='f1_std'\n",
    "    )\n",
    "    fig.update_layout(\n",
    "        yaxis_range=[0, 1],\n",
    "        xaxis_title=\"Model\",\n",
    "        yaxis_title=\"Frequency-Weighted F1 Score\",\n",
    "        xaxis={'tickangle': 45},\n",
    "        height=500\n",
    "    )\n",
    "    fig.update_traces(texttemplate='%{text:.3f}', textposition='outside')\n",
    "    fig.show()\n",
    "    output_file_pdf = visualizations_dir / f\"freq_weighted_f1_bar_{score_type}.pdf\"\n",
    "    output_file_png = visualizations_dir / f\"freq_weighted_f1_bar_{score_type}.png\"\n",
    "    fig.write_image(str(output_file_pdf))\n",
    "    fig.write_image(str(output_file_png))\n",
    "    print(f\"Saved Frequency-Weighted F1 bar chart: {output_file_pdf}\")\n",
    "    print(f\"Saved Frequency-Weighted F1 bar chart: {output_file_png}\")\n",
    "\n",
    "print(\"\\nBar charts saved to\", visualizations_dir)"
   ]
  },
  {
   "cell_type": "markdown",
   "id": "45f1c475",
   "metadata": {},
   "source": [
    "## 5. Performance Summary\n",
    "\n",
    "Display a summary table of F1 scores for each model and score type, including mean and standard deviation."
   ]
  },
  {
   "cell_type": "code",
   "execution_count": 10,
   "id": "1f55b95e",
   "metadata": {},
   "outputs": [
    {
     "name": "stdout",
     "output_type": "stream",
     "text": [
      "Creating comprehensive performance summary...\n",
      "\n",
      "Model Performance Summary (Frequency-Weighted F1 Focus):\n",
      "============================================================\n",
      "                            frequency_weighted_f1  accuracy  precision  recall\n",
      "model                                                                         \n",
      "Qwen3-32B                                   0.719     0.845      0.855   0.831\n",
      "Gemma-3-27B-IT                              0.715     0.833      0.817   0.856\n",
      "Qwen3-4B                                    0.686     0.787      0.775   0.809\n",
      "Llama-4-Scout-17B                           0.674     0.813      0.826   0.793\n",
      "Llama-3.3-70B-Instruct                      0.651     0.842      0.870   0.806\n",
      "Gemma-3-12B-IT                              0.642     0.788      0.816   0.750\n",
      "Qwen3-14B                                   0.627     0.813      0.877   0.731\n",
      "Llama-8B (Qwen 32B Scorer)                  0.607     0.775      0.808   0.735\n",
      "Gemma-3-4B-IT                               0.596     0.584      0.567   0.733\n",
      "GPT-OSS-20B                                 0.372     0.669      0.656   0.755\n",
      "\n",
      "Summary saved to: /home/jeremias/projects/delphi-explanations/results/visualizations/model_frequency_weighted_f1_summary.csv\n",
      "\n",
      "Best Performing Models by Category:\n",
      "==================================================\n",
      "Highest Frequency-Weighted F1: Qwen3-32B (0.719)\n",
      "Highest Accuracy: Qwen3-32B (0.845)\n",
      "Highest Precision: Qwen3-14B (0.877)\n",
      "Highest Recall: Gemma-3-27B-IT (0.856)\n",
      "\n",
      "All visualizations and summaries saved to: /home/jeremias/projects/delphi-explanations/results/visualizations\n",
      "\n",
      "Generated files:\n",
      "  - accuracy_bar_detection.pdf\n",
      "  - accuracy_bar_detection.png\n",
      "  - accuracy_bar_fuzz.pdf\n",
      "  - accuracy_bar_fuzz.png\n",
      "  - accuracy_density_detection.pdf\n",
      "  - accuracy_density_detection.png\n",
      "  - accuracy_density_fuzz.pdf\n",
      "  - accuracy_density_fuzz.png\n",
      "  - accuracy_density_line_detection.pdf\n",
      "  - accuracy_density_line_fuzz.pdf\n",
      "  - freq_weighted_f1_bar_detection.pdf\n",
      "  - freq_weighted_f1_bar_detection.png\n",
      "  - freq_weighted_f1_bar_fuzz.pdf\n",
      "  - freq_weighted_f1_bar_fuzz.png\n",
      "  - model_accuracy_summary.csv\n",
      "  - model_frequency_weighted_f1_summary.csv\n",
      "  - model_performance_summary.csv\n"
     ]
    }
   ],
   "source": [
    "# Create comprehensive performance summary using data from get_agg_metrics\n",
    "print(\"Creating comprehensive performance summary...\")\n",
    "\n",
    "# Create frequency-weighted F1 score summary using processed data\n",
    "summary_rows = []\n",
    "for model_name, model_data in model_results.items():\n",
    "    processed_df = model_data['processed_df']\n",
    "    # Use the frequency-weighted F1 from the processed data (averaged across score types)\n",
    "    freq_weighted_f1 = processed_df['weighted_f1'].mean() if 'weighted_f1' in processed_df.columns else None\n",
    "    summary_rows.append({\n",
    "        'model': model_name,\n",
    "        'frequency_weighted_f1': freq_weighted_f1,\n",
    "        'accuracy': processed_df['accuracy'].mean(),\n",
    "        'precision': processed_df['precision'].mean(),\n",
    "        'recall': processed_df['recall'].mean()\n",
    "    })\n",
    "summary_df = pd.DataFrame(summary_rows).set_index('model').round(3)\n",
    "\n",
    "print(\"\\nModel Performance Summary (Frequency-Weighted F1 Focus):\")\n",
    "print(\"=\" * 60)\n",
    "print(summary_df.sort_values('frequency_weighted_f1', ascending=False))\n",
    "\n",
    "# Save summary to CSV\n",
    "summary_file = visualizations_dir / \"model_frequency_weighted_f1_summary.csv\"\n",
    "summary_df.to_csv(summary_file)\n",
    "print(f\"\\nSummary saved to: {summary_file}\")\n",
    "\n",
    "# Best performing models by category\n",
    "print(\"\\nBest Performing Models by Category:\")\n",
    "print(\"=\" * 50)\n",
    "print(f\"Highest Frequency-Weighted F1: {summary_df['frequency_weighted_f1'].idxmax()} ({summary_df['frequency_weighted_f1'].max():.3f})\")\n",
    "print(f\"Highest Accuracy: {summary_df['accuracy'].idxmax()} ({summary_df['accuracy'].max():.3f})\")\n",
    "print(f\"Highest Precision: {summary_df['precision'].idxmax()} ({summary_df['precision'].max():.3f})\")\n",
    "print(f\"Highest Recall: {summary_df['recall'].idxmax()} ({summary_df['recall'].max():.3f})\")\n",
    "\n",
    "print(f\"\\nAll visualizations and summaries saved to: {visualizations_dir}\")\n",
    "print(\"\\nGenerated files:\")\n",
    "for file in sorted(visualizations_dir.glob(\"*\")):\n",
    "    print(f\"  - {file.name}\")"
   ]
  }
 ],
 "metadata": {
  "kernelspec": {
   "display_name": ".venv",
   "language": "python",
   "name": "python3"
  },
  "language_info": {
   "codemirror_mode": {
    "name": "ipython",
    "version": 3
   },
   "file_extension": ".py",
   "mimetype": "text/x-python",
   "name": "python",
   "nbconvert_exporter": "python",
   "pygments_lexer": "ipython3",
   "version": "3.11.13"
  }
 },
 "nbformat": 4,
 "nbformat_minor": 5
}
