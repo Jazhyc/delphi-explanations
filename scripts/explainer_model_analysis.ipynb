{
 "cells": [
  {
   "cell_type": "markdown",
   "id": "d1096fab",
   "metadata": {},
   "source": [
    "# Explainer Model Performance Analysis\n",
    "\n",
    "This notebook analyzes the performance of different explainer models in generating explanations for SAE latent features. We compare models across multiple metrics including accuracy, F1 scores, token usage, and execution time.\n",
    "\n",
    "## Recent Updates\n",
    "- **Updated to 400 latents**: Changed from 100 to 400 latents to match the experiment configuration\n",
    "- **Fixed directory pattern matching**: Now handles both old (with suffix) and new (without suffix) directory naming conventions\n",
    "- **Simplified loading process**: Now uses functions from `result_analysis.py` to reduce redundancy\n",
    "- **Enhanced model support**: Updated model name mapping for better display names and added GPT-OSS-20B\n",
    "- **Bootstrapped confidence intervals**: Error bars now use 95% CI via bootstrapping (2000 resamples) instead of standard deviation\n",
    "- **Progress bars**: Added TQDM progress bars for bootstrap calculations to show progress\n",
    "- **Better variable naming**: Renamed `accuracy_df` to `performance_df` for clarity\n",
    "\n",
    "## Analysis Overview\n",
    "\n",
    "- **Accuracy Distribution**: Density plots showing accuracy distribution for each model\n",
    "- **Mean Performance**: Bar charts comparing mean accuracy across models\n",
    "- **Token Usage**: Analysis of computational efficiency and resource consumption\n",
    "- **Performance Summary**: Comprehensive comparison tables"
   ]
  },
  {
   "cell_type": "markdown",
   "id": "e60643f3",
   "metadata": {},
   "source": [
    "## 1. Setup and Configuration\n",
    "\n",
    "Import required libraries, define model name mapping for prettier display names, and set up output directories."
   ]
  },
  {
   "cell_type": "code",
   "execution_count": 1,
   "id": "934a96fd",
   "metadata": {},
   "outputs": [
    {
     "name": "stdout",
     "output_type": "stream",
     "text": [
      "Model prefix: pythiaST\n",
      "Latents count: 400\n",
      "Compare thinking modes: False\n",
      "Results directory: /home/jeremias/projects/delphi-explanations/results\n",
      "Visualizations output: /home/jeremias/projects/delphi-explanations/results/visualizations\n",
      "Experiments directory: /home/jeremias/projects/delphi-explanations/results/pythiaST/400latents\n",
      "Available experiments (400 latents):\n",
      "  - pythiaST_Llama_3_3_70B_Instruct_quantized_w4a16\n",
      "  - pythiaST_Llama_4_Scout_17B_16E_Instruct_quantized_w4a16\n",
      "  - pythiaST_Meta_Llama_3_1_8B_Instruct_GPTQ_INT4\n",
      "  - pythiaST_Qwen3_14B_quantized_w4a16\n",
      "  - pythiaST_Qwen3_32B_quantized_w4a16\n",
      "  - pythiaST_Qwen3_4B_quantized_w4a16\n",
      "  - pythiaST_gemma_3_12b_it_quantized_w4a16\n",
      "  - pythiaST_gemma_3_27b_it_quantized_w4a16\n",
      "  - pythiaST_gemma_3_4b_it_quantized_w4a16\n",
      "  - pythiaST_llama_8b_explainer\n"
     ]
    }
   ],
   "source": [
    "import sys\n",
    "import os\n",
    "import json\n",
    "from pathlib import Path\n",
    "import pandas as pd\n",
    "import numpy as np\n",
    "import torch\n",
    "from scipy import stats\n",
    "from tqdm.auto import tqdm\n",
    "\n",
    "# Add the parent directory to the path to import delphi modules\n",
    "sys.path.append(str(Path.cwd().parent))\n",
    "\n",
    "from delphi.log.result_analysis import (\n",
    "    import_plotly,\n",
    "    load_data,\n",
    "    get_agg_metrics,\n",
    "    add_latent_f1,\n",
    "    compute_confusion,\n",
    "    compute_classification_metrics,\n",
    "    frequency_weighted_f1\n",
    ")\n",
    "\n",
    "# Import plotly for plotting\n",
    "px = import_plotly()\n",
    "\n",
    "# Toggle for whether to run expensive bootstrap resampling\n",
    "ENABLE_BOOTSTRAP = True  # Set to True to run bootstrap resampling (slow)\n",
    "BOOTSTRAP_SAMPLES = 4000  # Number of bootstrap resamples when enabled\n",
    "# Confidence level for CI calculations (e.g. 0.95 for 95% CI). Make configurable.\n",
    "CONFIDENCE_LEVEL = 0.95\n",
    "\n",
    "# Configuration - Model prefix for experiment naming\n",
    "MODEL_PREFIX = \"pythiaST\"  # Change this to match your base model (e.g., \"pythia\", \"gemma\", etc.)\n",
    "LATENTS_COUNT = 400  # Number of latents used in experiments\n",
    "COMPARE_THINKING_MODES = False  # Set to True to compare both thinking and non-thinking modes (Currently broken if set to True)\n",
    "\n",
    "# Define model name mapping for prettier display - updated to match actual directory names\n",
    "MODEL_NAME_MAPPING = {\n",
    "    \"gemma_3_4b_it_quantized_w4a16\": \"Gemma3-4B\",\n",
    "    \"Qwen3_4B_quantized_w4a16\": \"Qwen3-4B\", \n",
    "    \"gemma_3_12b_it_quantized_w4a16\": \"Gemma3-12B\",\n",
    "    \"gemma_3_27b_it_quantized_w4a16\": \"Gemma3-27B\",\n",
    "    \"Qwen3_14B_quantized_w4a16\": \"Qwen3-14B\",\n",
    "    \"Qwen3_32B_quantized_w4a16\": \"Qwen3-32B\",\n",
    "    \"Qwen3_235B_A22B_GPTQ_Int4\": \"Qwen3-235B\",\n",
    "    \"Llama_3_3_70B_Instruct_quantized_w4a16\": \"Llama3.3-70B\",\n",
    "    \"Llama_3_1_70B_Instruct_NVFP4\": \"Llama3.1-70B\",\n",
    "    \"Llama_4_Scout_17B_16E_Instruct_quantized_w4a16\": \"Llama4-Scout\",\n",
    "    \"Llama_4_Maverick_17B_128E_Instruct_quantized_w4a16\": \"Llama4-Maverick\",\n",
    "    \"llama_8b_explainer\": \"Llama3-8B (Transluce)\",\n",
    "    \"Meta_Llama_3_1_8B_Instruct_GPTQ_INT4\": \"Llama3-8B\",\n",
    "    \"gpt_oss_20b\": \"GPT-OSS-20B\"\n",
    "}\n",
    "\n",
    "def load_model_results(results_dir: Path, model_mapping: dict, model_prefix: str, latents_count: int, compare_modes: bool = False):\n",
    "    \"\"\"Load results and statistics for all explainer models using functions from result_analysis.py.\"\"\"\n",
    "    model_results = {}\n",
    "    model_stats = {}\n",
    "\n",
    "    # Base directory for experiments with this latent count\n",
    "    experiments_base = results_dir / model_prefix / f\"{latents_count}latents\"\n",
    "\n",
    "    if not experiments_base.exists():\n",
    "        print(f\"Warning: Experiments directory not found: {experiments_base}\")\n",
    "        return model_results, model_stats\n",
    "\n",
    "    # Pattern for experiment directories (exclude thinking mode and hide directories)\n",
    "    # Handle both naming conventions: with and without latents suffix\n",
    "    pattern_with_suffix = f\"{model_prefix}_*_{latents_count}latents\"\n",
    "    pattern_without_suffix = f\"{model_prefix}_*\"\n",
    "    \n",
    "    all_exp_dirs = []\n",
    "    # First try directories with latents suffix (older format)\n",
    "    for exp_dir in experiments_base.glob(pattern_with_suffix):\n",
    "        if not (\"thinking\" in exp_dir.name or \"hide\" in exp_dir.name):\n",
    "            all_exp_dirs.append(exp_dir)\n",
    "    \n",
    "    # Then try directories without latents suffix (newer format)\n",
    "    if not all_exp_dirs:\n",
    "        for exp_dir in experiments_base.glob(pattern_without_suffix):\n",
    "            if (not (\"thinking\" in exp_dir.name or \"hide\" in exp_dir.name) and \n",
    "                exp_dir.name != \"cache\"):  # Exclude cache directory\n",
    "                all_exp_dirs.append(exp_dir)\n",
    "\n",
    "    for exp_dir in all_exp_dirs:\n",
    "        # Skip directories with \"thinking\" or \"hide\" in the name\n",
    "        if \"thinking\" in exp_dir.name or \"hide\" in exp_dir.name:\n",
    "            continue\n",
    "\n",
    "        # Extract model name from directory: handle both naming conventions\n",
    "        dir_name = exp_dir.name\n",
    "        if dir_name.endswith(f\"_{latents_count}latents\"):\n",
    "            # Old format: pythiaST_model_400latents\n",
    "            model_key = dir_name.replace(f\"{model_prefix}_\", \"\").replace(f\"_{latents_count}latents\", \"\")\n",
    "        else:\n",
    "            # New format: pythiaST_model\n",
    "            model_key = dir_name.replace(f\"{model_prefix}_\", \"\")\n",
    "        \n",
    "        base_display_name = model_mapping.get(model_key, model_key)\n",
    "        display_name = base_display_name\n",
    "\n",
    "        scores_path = exp_dir / \"scores\"\n",
    "        if scores_path.exists():\n",
    "            # Load scoring results using functions from result_analysis.py\n",
    "            try:\n",
    "                # All experiments now use the shared cache\n",
    "                cache_dir_name = \"cache\"\n",
    "                latents_path = experiments_base.parent / cache_dir_name / \"latents\"\n",
    "                if not latents_path.exists():\n",
    "                    latents_path = exp_dir / \"latents\"  # Fallback to local latents\n",
    "\n",
    "                if latents_path.exists():\n",
    "                    # Extract module names from the actual files\n",
    "                    sample_score_dir = next(scores_path.iterdir())\n",
    "                    sample_files = list(sample_score_dir.glob(\"*.txt\"))\n",
    "                    if sample_files:\n",
    "                        # Extract module name from filename pattern (e.g., \"layers.32_latent0.txt\" -> \"layers.32\")\n",
    "                        sample_filename = sample_files[0].stem\n",
    "                        module_name = sample_filename.split('_latent')[0]\n",
    "                        modules = [module_name]\n",
    "                    else:\n",
    "                        print(f\"No score files found in {sample_score_dir}\")\n",
    "                        continue\n",
    "\n",
    "                    # Use load_data from result_analysis.py\n",
    "                    latent_df, counts = load_data(scores_path, latents_path, modules)\n",
    "\n",
    "                    if latent_df.empty:\n",
    "                        print(f\"No data found for {display_name}\")\n",
    "                        continue\n",
    "\n",
    "                    # Use add_latent_f1 and get_agg_metrics from result_analysis.py\n",
    "                    latent_df = add_latent_f1(latent_df)\n",
    "                    processed_df = get_agg_metrics(latent_df, counts)\n",
    "\n",
    "                    model_results[display_name] = {\n",
    "                        'latent_df': latent_df,\n",
    "                        'processed_df': processed_df,\n",
    "                        'counts': counts\n",
    "                    }\n",
    "                else:\n",
    "                    print(f\"Latents path not found for {display_name}\")\n",
    "\n",
    "            except Exception as e:\n",
    "                print(f\"Error loading results for {model_key}: {e}\")\n",
    "                continue\n",
    "\n",
    "        # Load explainer statistics\n",
    "        stats_file = exp_dir / \"explainer_stats.json\"\n",
    "        if stats_file.exists():\n",
    "            try:\n",
    "                with open(stats_file, 'r') as f:\n",
    "                    stats = json.load(f)\n",
    "                    model_stats[display_name] = stats\n",
    "            except Exception as e:\n",
    "                print(f\"Error loading stats for {model_key}: {e}\")\n",
    "                model_stats[display_name] = None\n",
    "        else:\n",
    "            model_stats[display_name] = None\n",
    "\n",
    "    return model_results, model_stats\n",
    "\n",
    "# Set up directories\n",
    "results_dir = Path.cwd().parent / \"results\"\n",
    "visualizations_dir = results_dir / \"visualizations\"\n",
    "visualizations_dir.mkdir(exist_ok=True, parents=True)\n",
    "\n",
    "print(f\"Model prefix: {MODEL_PREFIX}\")\n",
    "print(f\"Latents count: {LATENTS_COUNT}\")\n",
    "print(f\"Compare thinking modes: {COMPARE_THINKING_MODES}\")\n",
    "print(f\"Results directory: {results_dir}\")\n",
    "print(f\"Visualizations output: {visualizations_dir}\")\n",
    "\n",
    "# Check if the experiments directory exists\n",
    "experiments_dir = results_dir / MODEL_PREFIX / f\"{LATENTS_COUNT}latents\"\n",
    "print(f\"Experiments directory: {experiments_dir}\")\n",
    "\n",
    "if experiments_dir.exists():\n",
    "    print(f\"Available experiments ({LATENTS_COUNT} latents):\")\n",
    "    # Handle both naming conventions: with and without latents suffix\n",
    "    pattern_with_suffix = f\"{MODEL_PREFIX}_*_{LATENTS_COUNT}latents\"\n",
    "    pattern_without_suffix = f\"{MODEL_PREFIX}_*\"\n",
    "    \n",
    "    all_exp_dirs = []\n",
    "    # First try directories with latents suffix (older format)\n",
    "    for exp_dir in sorted(experiments_dir.glob(pattern_with_suffix)):\n",
    "        if not (\"thinking\" in exp_dir.name or \"hide\" in exp_dir.name):\n",
    "            all_exp_dirs.append(exp_dir)\n",
    "    \n",
    "    # Then try directories without latents suffix (newer format)\n",
    "    if not all_exp_dirs:\n",
    "        for exp_dir in sorted(experiments_dir.glob(pattern_without_suffix)):\n",
    "            if (not (\"thinking\" in exp_dir.name or \"hide\" in exp_dir.name) and \n",
    "                exp_dir.name != \"cache\"):  # Exclude cache directory\n",
    "                all_exp_dirs.append(exp_dir)\n",
    "    \n",
    "    for exp_dir in all_exp_dirs:\n",
    "        print(f\"  - {exp_dir.name}\")\n",
    "else:\n",
    "    print(f\"Warning: Experiments directory not found: {experiments_dir}\")\n",
    "    print(\"Make sure experiments have been run with the specified latent count.\")"
   ]
  },
  {
   "cell_type": "markdown",
   "id": "e38a672b",
   "metadata": {},
   "source": [
    "## 2. Load Model Results\n",
    "\n",
    "Load explanation comparison results from all models and extract performance metrics."
   ]
  },
  {
   "cell_type": "code",
   "execution_count": 2,
   "id": "44990708",
   "metadata": {},
   "outputs": [
    {
     "name": "stdout",
     "output_type": "stream",
     "text": [
      "Loading model results...\n"
     ]
    },
    {
     "name": "stderr",
     "output_type": "stream",
     "text": [
      "/home/jeremias/projects/delphi-explanations/delphi/log/result_analysis.py:444: FutureWarning:\n",
      "\n",
      "DataFrameGroupBy.apply operated on the grouping columns. This behavior is deprecated, and in a future version of pandas the grouping columns will be excluded from the operation. Either pass `include_groups=False` to exclude the groupings or explicitly select the grouping columns after groupby to silence this warning.\n",
      "\n",
      "/home/jeremias/projects/delphi-explanations/delphi/log/result_analysis.py:444: FutureWarning:\n",
      "\n",
      "DataFrameGroupBy.apply operated on the grouping columns. This behavior is deprecated, and in a future version of pandas the grouping columns will be excluded from the operation. Either pass `include_groups=False` to exclude the groupings or explicitly select the grouping columns after groupby to silence this warning.\n",
      "\n",
      "/home/jeremias/projects/delphi-explanations/delphi/log/result_analysis.py:444: FutureWarning:\n",
      "\n",
      "DataFrameGroupBy.apply operated on the grouping columns. This behavior is deprecated, and in a future version of pandas the grouping columns will be excluded from the operation. Either pass `include_groups=False` to exclude the groupings or explicitly select the grouping columns after groupby to silence this warning.\n",
      "\n",
      "/home/jeremias/projects/delphi-explanations/delphi/log/result_analysis.py:444: FutureWarning:\n",
      "\n",
      "DataFrameGroupBy.apply operated on the grouping columns. This behavior is deprecated, and in a future version of pandas the grouping columns will be excluded from the operation. Either pass `include_groups=False` to exclude the groupings or explicitly select the grouping columns after groupby to silence this warning.\n",
      "\n",
      "/home/jeremias/projects/delphi-explanations/delphi/log/result_analysis.py:444: FutureWarning:\n",
      "\n",
      "DataFrameGroupBy.apply operated on the grouping columns. This behavior is deprecated, and in a future version of pandas the grouping columns will be excluded from the operation. Either pass `include_groups=False` to exclude the groupings or explicitly select the grouping columns after groupby to silence this warning.\n",
      "\n",
      "/home/jeremias/projects/delphi-explanations/delphi/log/result_analysis.py:444: FutureWarning:\n",
      "\n",
      "DataFrameGroupBy.apply operated on the grouping columns. This behavior is deprecated, and in a future version of pandas the grouping columns will be excluded from the operation. Either pass `include_groups=False` to exclude the groupings or explicitly select the grouping columns after groupby to silence this warning.\n",
      "\n",
      "/home/jeremias/projects/delphi-explanations/delphi/log/result_analysis.py:444: FutureWarning:\n",
      "\n",
      "DataFrameGroupBy.apply operated on the grouping columns. This behavior is deprecated, and in a future version of pandas the grouping columns will be excluded from the operation. Either pass `include_groups=False` to exclude the groupings or explicitly select the grouping columns after groupby to silence this warning.\n",
      "\n",
      "/home/jeremias/projects/delphi-explanations/delphi/log/result_analysis.py:444: FutureWarning:\n",
      "\n",
      "DataFrameGroupBy.apply operated on the grouping columns. This behavior is deprecated, and in a future version of pandas the grouping columns will be excluded from the operation. Either pass `include_groups=False` to exclude the groupings or explicitly select the grouping columns after groupby to silence this warning.\n",
      "\n",
      "/home/jeremias/projects/delphi-explanations/delphi/log/result_analysis.py:444: FutureWarning:\n",
      "\n",
      "DataFrameGroupBy.apply operated on the grouping columns. This behavior is deprecated, and in a future version of pandas the grouping columns will be excluded from the operation. Either pass `include_groups=False` to exclude the groupings or explicitly select the grouping columns after groupby to silence this warning.\n",
      "\n",
      "/home/jeremias/projects/delphi-explanations/delphi/log/result_analysis.py:444: FutureWarning:\n",
      "\n",
      "DataFrameGroupBy.apply operated on the grouping columns. This behavior is deprecated, and in a future version of pandas the grouping columns will be excluded from the operation. Either pass `include_groups=False` to exclude the groupings or explicitly select the grouping columns after groupby to silence this warning.\n",
      "\n"
     ]
    },
    {
     "name": "stdout",
     "output_type": "stream",
     "text": [
      "\n",
      "Loaded results for 10 models:\n",
      "  - Qwen3-4B\n",
      "  - Gemma3-4B\n",
      "  - Gemma3-12B\n",
      "  - Gemma3-27B\n",
      "  - Qwen3-14B\n",
      "  - Qwen3-32B\n",
      "  - Llama3.3-70B\n",
      "  - Llama3-8B\n",
      "  - Llama4-Scout\n",
      "  - Llama3-8B (Transluce)\n",
      "\n",
      "Token usage statistics available for 10 models:\n",
      "  - Qwen3-4B: ['DefaultExplainer']\n",
      "  - Gemma3-4B: ['DefaultExplainer']\n",
      "  - Gemma3-12B: ['DefaultExplainer']\n",
      "  - Gemma3-27B: ['DefaultExplainer']\n",
      "  - Qwen3-14B: ['DefaultExplainer']\n",
      "  - Qwen3-32B: ['DefaultExplainer']\n",
      "  - Llama3.3-70B: ['DefaultExplainer']\n",
      "  - Llama3-8B: ['DefaultExplainer']\n",
      "  - Llama4-Scout: ['DefaultExplainer']\n",
      "  - Llama3-8B (Transluce): ['DefaultExplainer']\n",
      "\n",
      "Sample metrics from Qwen3-4B:\n",
      "  score_type  accuracy  f1_score  precision  recall\n",
      "0  detection     0.757     0.755      0.763   0.747\n",
      "1       fuzz     0.818     0.827      0.787   0.871\n"
     ]
    }
   ],
   "source": [
    "# Load all model results and statistics\n",
    "print(\"Loading model results...\")\n",
    "model_results, model_stats = load_model_results(results_dir, MODEL_NAME_MAPPING, MODEL_PREFIX, LATENTS_COUNT, COMPARE_THINKING_MODES)\n",
    "\n",
    "print(f\"\\nLoaded results for {len(model_results)} models:\")\n",
    "for model_name in model_results.keys():\n",
    "    print(f\"  - {model_name}\")\n",
    "\n",
    "print(f\"\\nToken usage statistics available for {len([k for k, v in model_stats.items() if v is not None])} models:\")\n",
    "for model_name, stats in model_stats.items():\n",
    "    if stats:\n",
    "        print(f\"  - {model_name}: {list(stats.keys())}\")\n",
    "    else:\n",
    "        print(f\"  - {model_name}: No stats available\")\n",
    "\n",
    "# Display sample metrics for the first model\n",
    "if model_results:\n",
    "    sample_model = list(model_results.keys())[0]\n",
    "    sample_data = model_results[sample_model]['processed_df']\n",
    "    print(f\"\\nSample metrics from {sample_model}:\")\n",
    "    print(sample_data[['score_type', 'accuracy', 'f1_score', 'precision', 'recall']].round(3))"
   ]
  },
  {
   "cell_type": "markdown",
   "id": "7a674b50",
   "metadata": {},
   "source": [
    "## 3. Generate Mean F1 Score Bar Charts\n",
    "\n",
    "Create bar charts displaying mean F1 scores with **bootstrapped 95% confidence intervals** (2000 resamples) for each model and score type. This provides more robust uncertainty estimates compared to standard deviation."
   ]
  },
  {
   "cell_type": "code",
   "execution_count": 3,
   "id": "0916e89d",
   "metadata": {},
   "outputs": [
    {
     "name": "stdout",
     "output_type": "stream",
     "text": [
      "Preparing frequency-weighted F1 score bar charts (bootstrapping=True)...\n",
      "Computing error bars for score type: detection (bootstrap=True)\n"
     ]
    },
    {
     "data": {
      "application/vnd.jupyter.widget-view+json": {
       "model_id": "83f1863c8f9046c4925536209fa96144",
       "version_major": 2,
       "version_minor": 0
      },
      "text/plain": [
       "Fast Bootstrapping (4000):   0%|          | 0/4000 [00:00<?, ?it/s]"
      ]
     },
     "metadata": {},
     "output_type": "display_data"
    },
    {
     "data": {
      "application/vnd.jupyter.widget-view+json": {
       "model_id": "5b2d63fa81744d9aae2076b4e9f868a8",
       "version_major": 2,
       "version_minor": 0
      },
      "text/plain": [
       "Fast Bootstrapping (4000):   0%|          | 0/4000 [00:00<?, ?it/s]"
      ]
     },
     "metadata": {},
     "output_type": "display_data"
    },
    {
     "data": {
      "application/vnd.jupyter.widget-view+json": {
       "model_id": "6517cc319ddd49d5b428637a4e274e62",
       "version_major": 2,
       "version_minor": 0
      },
      "text/plain": [
       "Fast Bootstrapping (4000):   0%|          | 0/4000 [00:00<?, ?it/s]"
      ]
     },
     "metadata": {},
     "output_type": "display_data"
    },
    {
     "data": {
      "application/vnd.jupyter.widget-view+json": {
       "model_id": "c87c7a2339c8419eb0d55c2d50c48b8d",
       "version_major": 2,
       "version_minor": 0
      },
      "text/plain": [
       "Fast Bootstrapping (4000):   0%|          | 0/4000 [00:00<?, ?it/s]"
      ]
     },
     "metadata": {},
     "output_type": "display_data"
    },
    {
     "data": {
      "application/vnd.jupyter.widget-view+json": {
       "model_id": "dc0e011d12a8474592d6e7266bbeffe3",
       "version_major": 2,
       "version_minor": 0
      },
      "text/plain": [
       "Fast Bootstrapping (4000):   0%|          | 0/4000 [00:00<?, ?it/s]"
      ]
     },
     "metadata": {},
     "output_type": "display_data"
    },
    {
     "data": {
      "application/vnd.jupyter.widget-view+json": {
       "model_id": "21212a0e31b64942a987b7cf9ec664a7",
       "version_major": 2,
       "version_minor": 0
      },
      "text/plain": [
       "Fast Bootstrapping (4000):   0%|          | 0/4000 [00:00<?, ?it/s]"
      ]
     },
     "metadata": {},
     "output_type": "display_data"
    },
    {
     "data": {
      "application/vnd.jupyter.widget-view+json": {
       "model_id": "9ed73493341843ff89929f2b29db6343",
       "version_major": 2,
       "version_minor": 0
      },
      "text/plain": [
       "Fast Bootstrapping (4000):   0%|          | 0/4000 [00:00<?, ?it/s]"
      ]
     },
     "metadata": {},
     "output_type": "display_data"
    },
    {
     "data": {
      "application/vnd.jupyter.widget-view+json": {
       "model_id": "d89d5479f0a6422e941fcde47517eb2a",
       "version_major": 2,
       "version_minor": 0
      },
      "text/plain": [
       "Fast Bootstrapping (4000):   0%|          | 0/4000 [00:00<?, ?it/s]"
      ]
     },
     "metadata": {},
     "output_type": "display_data"
    },
    {
     "data": {
      "application/vnd.jupyter.widget-view+json": {
       "model_id": "2f9721d572f44529a31638de9730cc49",
       "version_major": 2,
       "version_minor": 0
      },
      "text/plain": [
       "Fast Bootstrapping (4000):   0%|          | 0/4000 [00:00<?, ?it/s]"
      ]
     },
     "metadata": {},
     "output_type": "display_data"
    },
    {
     "data": {
      "application/vnd.jupyter.widget-view+json": {
       "model_id": "18ef75973e924b268062f576bbd5d3a8",
       "version_major": 2,
       "version_minor": 0
      },
      "text/plain": [
       "Fast Bootstrapping (4000):   0%|          | 0/4000 [00:00<?, ?it/s]"
      ]
     },
     "metadata": {},
     "output_type": "display_data"
    },
    {
     "name": "stdout",
     "output_type": "stream",
     "text": [
      "Computing error bars for score type: fuzz (bootstrap=True)\n"
     ]
    },
    {
     "data": {
      "application/vnd.jupyter.widget-view+json": {
       "model_id": "d3d792a89081444d9b0f9096cd2121ef",
       "version_major": 2,
       "version_minor": 0
      },
      "text/plain": [
       "Fast Bootstrapping (4000):   0%|          | 0/4000 [00:00<?, ?it/s]"
      ]
     },
     "metadata": {},
     "output_type": "display_data"
    },
    {
     "data": {
      "application/vnd.jupyter.widget-view+json": {
       "model_id": "2eebef31925a46f0ac6002c34e697262",
       "version_major": 2,
       "version_minor": 0
      },
      "text/plain": [
       "Fast Bootstrapping (4000):   0%|          | 0/4000 [00:00<?, ?it/s]"
      ]
     },
     "metadata": {},
     "output_type": "display_data"
    },
    {
     "data": {
      "application/vnd.jupyter.widget-view+json": {
       "model_id": "d6a52d67e8ea49269be283ac0c396963",
       "version_major": 2,
       "version_minor": 0
      },
      "text/plain": [
       "Fast Bootstrapping (4000):   0%|          | 0/4000 [00:00<?, ?it/s]"
      ]
     },
     "metadata": {},
     "output_type": "display_data"
    },
    {
     "data": {
      "application/vnd.jupyter.widget-view+json": {
       "model_id": "91b7346d87a741be8186fe84fbbad145",
       "version_major": 2,
       "version_minor": 0
      },
      "text/plain": [
       "Fast Bootstrapping (4000):   0%|          | 0/4000 [00:00<?, ?it/s]"
      ]
     },
     "metadata": {},
     "output_type": "display_data"
    },
    {
     "data": {
      "application/vnd.jupyter.widget-view+json": {
       "model_id": "3d31d4063ef1488e8bfe29e3dde5f92c",
       "version_major": 2,
       "version_minor": 0
      },
      "text/plain": [
       "Fast Bootstrapping (4000):   0%|          | 0/4000 [00:00<?, ?it/s]"
      ]
     },
     "metadata": {},
     "output_type": "display_data"
    },
    {
     "data": {
      "application/vnd.jupyter.widget-view+json": {
       "model_id": "176c66eaa8244d068d3817066178c1f0",
       "version_major": 2,
       "version_minor": 0
      },
      "text/plain": [
       "Fast Bootstrapping (4000):   0%|          | 0/4000 [00:00<?, ?it/s]"
      ]
     },
     "metadata": {},
     "output_type": "display_data"
    },
    {
     "data": {
      "application/vnd.jupyter.widget-view+json": {
       "model_id": "809af7ba9935430c9246a3f138c91544",
       "version_major": 2,
       "version_minor": 0
      },
      "text/plain": [
       "Fast Bootstrapping (4000):   0%|          | 0/4000 [00:00<?, ?it/s]"
      ]
     },
     "metadata": {},
     "output_type": "display_data"
    },
    {
     "data": {
      "application/vnd.jupyter.widget-view+json": {
       "model_id": "a10779e1faa34c71a644bf74160dc8a0",
       "version_major": 2,
       "version_minor": 0
      },
      "text/plain": [
       "Fast Bootstrapping (4000):   0%|          | 0/4000 [00:00<?, ?it/s]"
      ]
     },
     "metadata": {},
     "output_type": "display_data"
    },
    {
     "data": {
      "application/vnd.jupyter.widget-view+json": {
       "model_id": "1d36ba1d2c7e472f875c3a1a06cebd12",
       "version_major": 2,
       "version_minor": 0
      },
      "text/plain": [
       "Fast Bootstrapping (4000):   0%|          | 0/4000 [00:00<?, ?it/s]"
      ]
     },
     "metadata": {},
     "output_type": "display_data"
    },
    {
     "data": {
      "application/vnd.jupyter.widget-view+json": {
       "model_id": "64aaa8168bbb4cd6b4d5ff1e546fb699",
       "version_major": 2,
       "version_minor": 0
      },
      "text/plain": [
       "Fast Bootstrapping (4000):   0%|          | 0/4000 [00:00<?, ?it/s]"
      ]
     },
     "metadata": {},
     "output_type": "display_data"
    },
    {
     "data": {
      "application/vnd.plotly.v1+json": {
       "config": {
        "plotlyServerURL": "https://plot.ly"
       },
       "data": [
        {
         "error_y": {
          "array": {
           "bdata": "IN54FI7xnz9AzzuFIhmePyBBj5Ecm5s/4MC/uF34mz+gmP1pfhqWP7C04bnDT6Y/MC1TgptZqj9A5r1vix+hP2ArDXckD5o/uLUcPTtNsD8=",
           "dtype": "f8"
          },
          "arrayminus": {
           "bdata": "QHZ4OynOlj/Abbos6KeVP2CUGvYLXpg/IIgOXhJcmT/A0b3IEGqQP5BLs+XrqKM/MBso7aYDrj9gXy3d14qdP6ADwOFp8Zk/hHLlAHgZsD8=",
           "dtype": "f8"
          },
          "symmetric": false,
          "type": "data"
         },
         "hovertemplate": "model=%{x}<br>frequency_weighted_f1=%{text}<extra></extra>",
         "legendgroup": "",
         "marker": {
          "color": "#636efa",
          "pattern": {
           "shape": ""
          }
         },
         "name": "",
         "orientation": "v",
         "showlegend": false,
         "text": {
          "bdata": "AAAAYFTg5T8AAABgKdLlPwAAAIBUSeU/AAAAoN0t5T8AAACg4+rkPwAAAIDjeeQ/AAAAAIZB5D8AAABASBjkPwAAACDBJeI/AAAAAI8Q4T8=",
          "dtype": "f8"
         },
         "textposition": "outside",
         "texttemplate": "%{text:.3f}",
         "type": "bar",
         "x": [
          "Gemma3-27B",
          "Qwen3-32B",
          "Gemma3-12B",
          "Qwen3-14B",
          "Qwen3-4B",
          "Llama4-Scout",
          "Llama3.3-70B",
          "Llama3-8B",
          "Gemma3-4B",
          "Llama3-8B (Transluce)"
         ],
         "xaxis": "x",
         "y": {
          "bdata": "AAAAYFTg5T8AAABgKdLlPwAAAIBUSeU/AAAAoN0t5T8AAACg4+rkPwAAAIDjeeQ/AAAAAIZB5D8AAABASBjkPwAAACDBJeI/AAAAAI8Q4T8=",
          "dtype": "f8"
         },
         "yaxis": "y"
        }
       ],
       "layout": {
        "barmode": "relative",
        "height": 500,
        "legend": {
         "tracegroupgap": 0
        },
        "template": {
         "data": {
          "bar": [
           {
            "error_x": {
             "color": "#2a3f5f"
            },
            "error_y": {
             "color": "#2a3f5f"
            },
            "marker": {
             "line": {
              "color": "#E5ECF6",
              "width": 0.5
             },
             "pattern": {
              "fillmode": "overlay",
              "size": 10,
              "solidity": 0.2
             }
            },
            "type": "bar"
           }
          ],
          "barpolar": [
           {
            "marker": {
             "line": {
              "color": "#E5ECF6",
              "width": 0.5
             },
             "pattern": {
              "fillmode": "overlay",
              "size": 10,
              "solidity": 0.2
             }
            },
            "type": "barpolar"
           }
          ],
          "carpet": [
           {
            "aaxis": {
             "endlinecolor": "#2a3f5f",
             "gridcolor": "white",
             "linecolor": "white",
             "minorgridcolor": "white",
             "startlinecolor": "#2a3f5f"
            },
            "baxis": {
             "endlinecolor": "#2a3f5f",
             "gridcolor": "white",
             "linecolor": "white",
             "minorgridcolor": "white",
             "startlinecolor": "#2a3f5f"
            },
            "type": "carpet"
           }
          ],
          "choropleth": [
           {
            "colorbar": {
             "outlinewidth": 0,
             "ticks": ""
            },
            "type": "choropleth"
           }
          ],
          "contour": [
           {
            "colorbar": {
             "outlinewidth": 0,
             "ticks": ""
            },
            "colorscale": [
             [
              0,
              "#0d0887"
             ],
             [
              0.1111111111111111,
              "#46039f"
             ],
             [
              0.2222222222222222,
              "#7201a8"
             ],
             [
              0.3333333333333333,
              "#9c179e"
             ],
             [
              0.4444444444444444,
              "#bd3786"
             ],
             [
              0.5555555555555556,
              "#d8576b"
             ],
             [
              0.6666666666666666,
              "#ed7953"
             ],
             [
              0.7777777777777778,
              "#fb9f3a"
             ],
             [
              0.8888888888888888,
              "#fdca26"
             ],
             [
              1,
              "#f0f921"
             ]
            ],
            "type": "contour"
           }
          ],
          "contourcarpet": [
           {
            "colorbar": {
             "outlinewidth": 0,
             "ticks": ""
            },
            "type": "contourcarpet"
           }
          ],
          "heatmap": [
           {
            "colorbar": {
             "outlinewidth": 0,
             "ticks": ""
            },
            "colorscale": [
             [
              0,
              "#0d0887"
             ],
             [
              0.1111111111111111,
              "#46039f"
             ],
             [
              0.2222222222222222,
              "#7201a8"
             ],
             [
              0.3333333333333333,
              "#9c179e"
             ],
             [
              0.4444444444444444,
              "#bd3786"
             ],
             [
              0.5555555555555556,
              "#d8576b"
             ],
             [
              0.6666666666666666,
              "#ed7953"
             ],
             [
              0.7777777777777778,
              "#fb9f3a"
             ],
             [
              0.8888888888888888,
              "#fdca26"
             ],
             [
              1,
              "#f0f921"
             ]
            ],
            "type": "heatmap"
           }
          ],
          "histogram": [
           {
            "marker": {
             "pattern": {
              "fillmode": "overlay",
              "size": 10,
              "solidity": 0.2
             }
            },
            "type": "histogram"
           }
          ],
          "histogram2d": [
           {
            "colorbar": {
             "outlinewidth": 0,
             "ticks": ""
            },
            "colorscale": [
             [
              0,
              "#0d0887"
             ],
             [
              0.1111111111111111,
              "#46039f"
             ],
             [
              0.2222222222222222,
              "#7201a8"
             ],
             [
              0.3333333333333333,
              "#9c179e"
             ],
             [
              0.4444444444444444,
              "#bd3786"
             ],
             [
              0.5555555555555556,
              "#d8576b"
             ],
             [
              0.6666666666666666,
              "#ed7953"
             ],
             [
              0.7777777777777778,
              "#fb9f3a"
             ],
             [
              0.8888888888888888,
              "#fdca26"
             ],
             [
              1,
              "#f0f921"
             ]
            ],
            "type": "histogram2d"
           }
          ],
          "histogram2dcontour": [
           {
            "colorbar": {
             "outlinewidth": 0,
             "ticks": ""
            },
            "colorscale": [
             [
              0,
              "#0d0887"
             ],
             [
              0.1111111111111111,
              "#46039f"
             ],
             [
              0.2222222222222222,
              "#7201a8"
             ],
             [
              0.3333333333333333,
              "#9c179e"
             ],
             [
              0.4444444444444444,
              "#bd3786"
             ],
             [
              0.5555555555555556,
              "#d8576b"
             ],
             [
              0.6666666666666666,
              "#ed7953"
             ],
             [
              0.7777777777777778,
              "#fb9f3a"
             ],
             [
              0.8888888888888888,
              "#fdca26"
             ],
             [
              1,
              "#f0f921"
             ]
            ],
            "type": "histogram2dcontour"
           }
          ],
          "mesh3d": [
           {
            "colorbar": {
             "outlinewidth": 0,
             "ticks": ""
            },
            "type": "mesh3d"
           }
          ],
          "parcoords": [
           {
            "line": {
             "colorbar": {
              "outlinewidth": 0,
              "ticks": ""
             }
            },
            "type": "parcoords"
           }
          ],
          "pie": [
           {
            "automargin": true,
            "type": "pie"
           }
          ],
          "scatter": [
           {
            "fillpattern": {
             "fillmode": "overlay",
             "size": 10,
             "solidity": 0.2
            },
            "type": "scatter"
           }
          ],
          "scatter3d": [
           {
            "line": {
             "colorbar": {
              "outlinewidth": 0,
              "ticks": ""
             }
            },
            "marker": {
             "colorbar": {
              "outlinewidth": 0,
              "ticks": ""
             }
            },
            "type": "scatter3d"
           }
          ],
          "scattercarpet": [
           {
            "marker": {
             "colorbar": {
              "outlinewidth": 0,
              "ticks": ""
             }
            },
            "type": "scattercarpet"
           }
          ],
          "scattergeo": [
           {
            "marker": {
             "colorbar": {
              "outlinewidth": 0,
              "ticks": ""
             }
            },
            "type": "scattergeo"
           }
          ],
          "scattergl": [
           {
            "marker": {
             "colorbar": {
              "outlinewidth": 0,
              "ticks": ""
             }
            },
            "type": "scattergl"
           }
          ],
          "scattermap": [
           {
            "marker": {
             "colorbar": {
              "outlinewidth": 0,
              "ticks": ""
             }
            },
            "type": "scattermap"
           }
          ],
          "scattermapbox": [
           {
            "marker": {
             "colorbar": {
              "outlinewidth": 0,
              "ticks": ""
             }
            },
            "type": "scattermapbox"
           }
          ],
          "scatterpolar": [
           {
            "marker": {
             "colorbar": {
              "outlinewidth": 0,
              "ticks": ""
             }
            },
            "type": "scatterpolar"
           }
          ],
          "scatterpolargl": [
           {
            "marker": {
             "colorbar": {
              "outlinewidth": 0,
              "ticks": ""
             }
            },
            "type": "scatterpolargl"
           }
          ],
          "scatterternary": [
           {
            "marker": {
             "colorbar": {
              "outlinewidth": 0,
              "ticks": ""
             }
            },
            "type": "scatterternary"
           }
          ],
          "surface": [
           {
            "colorbar": {
             "outlinewidth": 0,
             "ticks": ""
            },
            "colorscale": [
             [
              0,
              "#0d0887"
             ],
             [
              0.1111111111111111,
              "#46039f"
             ],
             [
              0.2222222222222222,
              "#7201a8"
             ],
             [
              0.3333333333333333,
              "#9c179e"
             ],
             [
              0.4444444444444444,
              "#bd3786"
             ],
             [
              0.5555555555555556,
              "#d8576b"
             ],
             [
              0.6666666666666666,
              "#ed7953"
             ],
             [
              0.7777777777777778,
              "#fb9f3a"
             ],
             [
              0.8888888888888888,
              "#fdca26"
             ],
             [
              1,
              "#f0f921"
             ]
            ],
            "type": "surface"
           }
          ],
          "table": [
           {
            "cells": {
             "fill": {
              "color": "#EBF0F8"
             },
             "line": {
              "color": "white"
             }
            },
            "header": {
             "fill": {
              "color": "#C8D4E3"
             },
             "line": {
              "color": "white"
             }
            },
            "type": "table"
           }
          ]
         },
         "layout": {
          "annotationdefaults": {
           "arrowcolor": "#2a3f5f",
           "arrowhead": 0,
           "arrowwidth": 1
          },
          "autotypenumbers": "strict",
          "coloraxis": {
           "colorbar": {
            "outlinewidth": 0,
            "ticks": ""
           }
          },
          "colorscale": {
           "diverging": [
            [
             0,
             "#8e0152"
            ],
            [
             0.1,
             "#c51b7d"
            ],
            [
             0.2,
             "#de77ae"
            ],
            [
             0.3,
             "#f1b6da"
            ],
            [
             0.4,
             "#fde0ef"
            ],
            [
             0.5,
             "#f7f7f7"
            ],
            [
             0.6,
             "#e6f5d0"
            ],
            [
             0.7,
             "#b8e186"
            ],
            [
             0.8,
             "#7fbc41"
            ],
            [
             0.9,
             "#4d9221"
            ],
            [
             1,
             "#276419"
            ]
           ],
           "sequential": [
            [
             0,
             "#0d0887"
            ],
            [
             0.1111111111111111,
             "#46039f"
            ],
            [
             0.2222222222222222,
             "#7201a8"
            ],
            [
             0.3333333333333333,
             "#9c179e"
            ],
            [
             0.4444444444444444,
             "#bd3786"
            ],
            [
             0.5555555555555556,
             "#d8576b"
            ],
            [
             0.6666666666666666,
             "#ed7953"
            ],
            [
             0.7777777777777778,
             "#fb9f3a"
            ],
            [
             0.8888888888888888,
             "#fdca26"
            ],
            [
             1,
             "#f0f921"
            ]
           ],
           "sequentialminus": [
            [
             0,
             "#0d0887"
            ],
            [
             0.1111111111111111,
             "#46039f"
            ],
            [
             0.2222222222222222,
             "#7201a8"
            ],
            [
             0.3333333333333333,
             "#9c179e"
            ],
            [
             0.4444444444444444,
             "#bd3786"
            ],
            [
             0.5555555555555556,
             "#d8576b"
            ],
            [
             0.6666666666666666,
             "#ed7953"
            ],
            [
             0.7777777777777778,
             "#fb9f3a"
            ],
            [
             0.8888888888888888,
             "#fdca26"
            ],
            [
             1,
             "#f0f921"
            ]
           ]
          },
          "colorway": [
           "#636efa",
           "#EF553B",
           "#00cc96",
           "#ab63fa",
           "#FFA15A",
           "#19d3f3",
           "#FF6692",
           "#B6E880",
           "#FF97FF",
           "#FECB52"
          ],
          "font": {
           "color": "#2a3f5f"
          },
          "geo": {
           "bgcolor": "white",
           "lakecolor": "white",
           "landcolor": "#E5ECF6",
           "showlakes": true,
           "showland": true,
           "subunitcolor": "white"
          },
          "hoverlabel": {
           "align": "left"
          },
          "hovermode": "closest",
          "mapbox": {
           "style": "light"
          },
          "paper_bgcolor": "white",
          "plot_bgcolor": "#E5ECF6",
          "polar": {
           "angularaxis": {
            "gridcolor": "white",
            "linecolor": "white",
            "ticks": ""
           },
           "bgcolor": "#E5ECF6",
           "radialaxis": {
            "gridcolor": "white",
            "linecolor": "white",
            "ticks": ""
           }
          },
          "scene": {
           "xaxis": {
            "backgroundcolor": "#E5ECF6",
            "gridcolor": "white",
            "gridwidth": 2,
            "linecolor": "white",
            "showbackground": true,
            "ticks": "",
            "zerolinecolor": "white"
           },
           "yaxis": {
            "backgroundcolor": "#E5ECF6",
            "gridcolor": "white",
            "gridwidth": 2,
            "linecolor": "white",
            "showbackground": true,
            "ticks": "",
            "zerolinecolor": "white"
           },
           "zaxis": {
            "backgroundcolor": "#E5ECF6",
            "gridcolor": "white",
            "gridwidth": 2,
            "linecolor": "white",
            "showbackground": true,
            "ticks": "",
            "zerolinecolor": "white"
           }
          },
          "shapedefaults": {
           "line": {
            "color": "#2a3f5f"
           }
          },
          "ternary": {
           "aaxis": {
            "gridcolor": "white",
            "linecolor": "white",
            "ticks": ""
           },
           "baxis": {
            "gridcolor": "white",
            "linecolor": "white",
            "ticks": ""
           },
           "bgcolor": "#E5ECF6",
           "caxis": {
            "gridcolor": "white",
            "linecolor": "white",
            "ticks": ""
           }
          },
          "title": {
           "x": 0.05
          },
          "xaxis": {
           "automargin": true,
           "gridcolor": "white",
           "linecolor": "white",
           "ticks": "",
           "title": {
            "standoff": 15
           },
           "zerolinecolor": "white",
           "zerolinewidth": 2
          },
          "yaxis": {
           "automargin": true,
           "gridcolor": "white",
           "linecolor": "white",
           "ticks": "",
           "title": {
            "standoff": 15
           },
           "zerolinecolor": "white",
           "zerolinewidth": 2
          }
         }
        },
        "title": {
         "text": "Frequency-Weighted F1 Score by Model - Detection (95% CI)"
        },
        "xaxis": {
         "anchor": "y",
         "domain": [
          0,
          1
         ],
         "tickangle": 45,
         "title": {
          "text": "Model"
         }
        },
        "yaxis": {
         "anchor": "x",
         "domain": [
          0,
          1
         ],
         "range": [
          0,
          1
         ],
         "title": {
          "text": "Frequency-Weighted F1 Score (95% CI)"
         }
        }
       }
      }
     },
     "metadata": {},
     "output_type": "display_data"
    },
    {
     "name": "stderr",
     "output_type": "stream",
     "text": [
      "/tmp/ipykernel_516767/3945258560.py:226: DeprecationWarning:\n",
      "\n",
      "\n",
      "Support for Kaleido versions less than 1.0.0 is deprecated and will be removed after September 2025.\n",
      "Please upgrade Kaleido to version 1.0.0 or greater (`pip install 'kaleido>=1.0.0'` or `pip install 'plotly[kaleido]'`).\n",
      "\n",
      "\n"
     ]
    },
    {
     "name": "stdout",
     "output_type": "stream",
     "text": [
      "Saved Frequency-Weighted F1 bar chart: /home/jeremias/projects/delphi-explanations/results/visualizations/freq_weighted_f1_bar_detection.pdf\n"
     ]
    },
    {
     "name": "stderr",
     "output_type": "stream",
     "text": [
      "/tmp/ipykernel_516767/3945258560.py:227: DeprecationWarning:\n",
      "\n",
      "\n",
      "Support for Kaleido versions less than 1.0.0 is deprecated and will be removed after September 2025.\n",
      "Please upgrade Kaleido to version 1.0.0 or greater (`pip install 'kaleido>=1.0.0'` or `pip install 'plotly[kaleido]'`).\n",
      "\n",
      "\n"
     ]
    },
    {
     "data": {
      "application/vnd.plotly.v1+json": {
       "config": {
        "plotlyServerURL": "https://plot.ly"
       },
       "data": [
        {
         "error_y": {
          "array": {
           "bdata": "YPWBPJpPrz/gG93sNYGmPzBMIejIJaQ/QECiGT1zrD9Yr8gwQaCzP0DFgIUCEZE/2IMTfDYFtz8wSroyGS+wP7ClFcro3rg/YOabJLGPtj8=",
           "dtype": "f8"
          },
          "arrayminus": {
           "bdata": "4Mhj7zgjqT9Q5z/rNhehP0AhMaZZU54/UBCfOr/lpj9omfIEOaSwP2AzHUYy95Q/YPM7rBbtsz9gEegIbdWsP3hSg4kLVLM/EGdrLKSOsD8=",
           "dtype": "f8"
          },
          "symmetric": false,
          "type": "data"
         },
         "hovertemplate": "model=%{x}<br>frequency_weighted_f1=%{text}<extra></extra>",
         "legendgroup": "",
         "marker": {
          "color": "#636efa",
          "pattern": {
           "shape": ""
          }
         },
         "name": "",
         "orientation": "v",
         "showlegend": false,
         "text": {
          "bdata": "AAAAgMU26D8AAACAz+nnPwAAAKCe/OY/AAAAAFOi5j8AAACAEGflPwAAAKDlAuQ/AAAAwJrw4z8AAAAg58jjPwAAAIB/7+I/AAAAwAPF4j8=",
          "dtype": "f8"
         },
         "textposition": "outside",
         "texttemplate": "%{text:.3f}",
         "type": "bar",
         "x": [
          "Qwen3-32B",
          "Gemma3-27B",
          "Qwen3-4B",
          "Llama4-Scout",
          "Llama3.3-70B",
          "Gemma3-4B",
          "Llama3-8B (Transluce)",
          "Gemma3-12B",
          "Qwen3-14B",
          "Llama3-8B"
         ],
         "xaxis": "x",
         "y": {
          "bdata": "AAAAgMU26D8AAACAz+nnPwAAAKCe/OY/AAAAAFOi5j8AAACAEGflPwAAAKDlAuQ/AAAAwJrw4z8AAAAg58jjPwAAAIB/7+I/AAAAwAPF4j8=",
          "dtype": "f8"
         },
         "yaxis": "y"
        }
       ],
       "layout": {
        "barmode": "relative",
        "height": 500,
        "legend": {
         "tracegroupgap": 0
        },
        "template": {
         "data": {
          "bar": [
           {
            "error_x": {
             "color": "#2a3f5f"
            },
            "error_y": {
             "color": "#2a3f5f"
            },
            "marker": {
             "line": {
              "color": "#E5ECF6",
              "width": 0.5
             },
             "pattern": {
              "fillmode": "overlay",
              "size": 10,
              "solidity": 0.2
             }
            },
            "type": "bar"
           }
          ],
          "barpolar": [
           {
            "marker": {
             "line": {
              "color": "#E5ECF6",
              "width": 0.5
             },
             "pattern": {
              "fillmode": "overlay",
              "size": 10,
              "solidity": 0.2
             }
            },
            "type": "barpolar"
           }
          ],
          "carpet": [
           {
            "aaxis": {
             "endlinecolor": "#2a3f5f",
             "gridcolor": "white",
             "linecolor": "white",
             "minorgridcolor": "white",
             "startlinecolor": "#2a3f5f"
            },
            "baxis": {
             "endlinecolor": "#2a3f5f",
             "gridcolor": "white",
             "linecolor": "white",
             "minorgridcolor": "white",
             "startlinecolor": "#2a3f5f"
            },
            "type": "carpet"
           }
          ],
          "choropleth": [
           {
            "colorbar": {
             "outlinewidth": 0,
             "ticks": ""
            },
            "type": "choropleth"
           }
          ],
          "contour": [
           {
            "colorbar": {
             "outlinewidth": 0,
             "ticks": ""
            },
            "colorscale": [
             [
              0,
              "#0d0887"
             ],
             [
              0.1111111111111111,
              "#46039f"
             ],
             [
              0.2222222222222222,
              "#7201a8"
             ],
             [
              0.3333333333333333,
              "#9c179e"
             ],
             [
              0.4444444444444444,
              "#bd3786"
             ],
             [
              0.5555555555555556,
              "#d8576b"
             ],
             [
              0.6666666666666666,
              "#ed7953"
             ],
             [
              0.7777777777777778,
              "#fb9f3a"
             ],
             [
              0.8888888888888888,
              "#fdca26"
             ],
             [
              1,
              "#f0f921"
             ]
            ],
            "type": "contour"
           }
          ],
          "contourcarpet": [
           {
            "colorbar": {
             "outlinewidth": 0,
             "ticks": ""
            },
            "type": "contourcarpet"
           }
          ],
          "heatmap": [
           {
            "colorbar": {
             "outlinewidth": 0,
             "ticks": ""
            },
            "colorscale": [
             [
              0,
              "#0d0887"
             ],
             [
              0.1111111111111111,
              "#46039f"
             ],
             [
              0.2222222222222222,
              "#7201a8"
             ],
             [
              0.3333333333333333,
              "#9c179e"
             ],
             [
              0.4444444444444444,
              "#bd3786"
             ],
             [
              0.5555555555555556,
              "#d8576b"
             ],
             [
              0.6666666666666666,
              "#ed7953"
             ],
             [
              0.7777777777777778,
              "#fb9f3a"
             ],
             [
              0.8888888888888888,
              "#fdca26"
             ],
             [
              1,
              "#f0f921"
             ]
            ],
            "type": "heatmap"
           }
          ],
          "histogram": [
           {
            "marker": {
             "pattern": {
              "fillmode": "overlay",
              "size": 10,
              "solidity": 0.2
             }
            },
            "type": "histogram"
           }
          ],
          "histogram2d": [
           {
            "colorbar": {
             "outlinewidth": 0,
             "ticks": ""
            },
            "colorscale": [
             [
              0,
              "#0d0887"
             ],
             [
              0.1111111111111111,
              "#46039f"
             ],
             [
              0.2222222222222222,
              "#7201a8"
             ],
             [
              0.3333333333333333,
              "#9c179e"
             ],
             [
              0.4444444444444444,
              "#bd3786"
             ],
             [
              0.5555555555555556,
              "#d8576b"
             ],
             [
              0.6666666666666666,
              "#ed7953"
             ],
             [
              0.7777777777777778,
              "#fb9f3a"
             ],
             [
              0.8888888888888888,
              "#fdca26"
             ],
             [
              1,
              "#f0f921"
             ]
            ],
            "type": "histogram2d"
           }
          ],
          "histogram2dcontour": [
           {
            "colorbar": {
             "outlinewidth": 0,
             "ticks": ""
            },
            "colorscale": [
             [
              0,
              "#0d0887"
             ],
             [
              0.1111111111111111,
              "#46039f"
             ],
             [
              0.2222222222222222,
              "#7201a8"
             ],
             [
              0.3333333333333333,
              "#9c179e"
             ],
             [
              0.4444444444444444,
              "#bd3786"
             ],
             [
              0.5555555555555556,
              "#d8576b"
             ],
             [
              0.6666666666666666,
              "#ed7953"
             ],
             [
              0.7777777777777778,
              "#fb9f3a"
             ],
             [
              0.8888888888888888,
              "#fdca26"
             ],
             [
              1,
              "#f0f921"
             ]
            ],
            "type": "histogram2dcontour"
           }
          ],
          "mesh3d": [
           {
            "colorbar": {
             "outlinewidth": 0,
             "ticks": ""
            },
            "type": "mesh3d"
           }
          ],
          "parcoords": [
           {
            "line": {
             "colorbar": {
              "outlinewidth": 0,
              "ticks": ""
             }
            },
            "type": "parcoords"
           }
          ],
          "pie": [
           {
            "automargin": true,
            "type": "pie"
           }
          ],
          "scatter": [
           {
            "fillpattern": {
             "fillmode": "overlay",
             "size": 10,
             "solidity": 0.2
            },
            "type": "scatter"
           }
          ],
          "scatter3d": [
           {
            "line": {
             "colorbar": {
              "outlinewidth": 0,
              "ticks": ""
             }
            },
            "marker": {
             "colorbar": {
              "outlinewidth": 0,
              "ticks": ""
             }
            },
            "type": "scatter3d"
           }
          ],
          "scattercarpet": [
           {
            "marker": {
             "colorbar": {
              "outlinewidth": 0,
              "ticks": ""
             }
            },
            "type": "scattercarpet"
           }
          ],
          "scattergeo": [
           {
            "marker": {
             "colorbar": {
              "outlinewidth": 0,
              "ticks": ""
             }
            },
            "type": "scattergeo"
           }
          ],
          "scattergl": [
           {
            "marker": {
             "colorbar": {
              "outlinewidth": 0,
              "ticks": ""
             }
            },
            "type": "scattergl"
           }
          ],
          "scattermap": [
           {
            "marker": {
             "colorbar": {
              "outlinewidth": 0,
              "ticks": ""
             }
            },
            "type": "scattermap"
           }
          ],
          "scattermapbox": [
           {
            "marker": {
             "colorbar": {
              "outlinewidth": 0,
              "ticks": ""
             }
            },
            "type": "scattermapbox"
           }
          ],
          "scatterpolar": [
           {
            "marker": {
             "colorbar": {
              "outlinewidth": 0,
              "ticks": ""
             }
            },
            "type": "scatterpolar"
           }
          ],
          "scatterpolargl": [
           {
            "marker": {
             "colorbar": {
              "outlinewidth": 0,
              "ticks": ""
             }
            },
            "type": "scatterpolargl"
           }
          ],
          "scatterternary": [
           {
            "marker": {
             "colorbar": {
              "outlinewidth": 0,
              "ticks": ""
             }
            },
            "type": "scatterternary"
           }
          ],
          "surface": [
           {
            "colorbar": {
             "outlinewidth": 0,
             "ticks": ""
            },
            "colorscale": [
             [
              0,
              "#0d0887"
             ],
             [
              0.1111111111111111,
              "#46039f"
             ],
             [
              0.2222222222222222,
              "#7201a8"
             ],
             [
              0.3333333333333333,
              "#9c179e"
             ],
             [
              0.4444444444444444,
              "#bd3786"
             ],
             [
              0.5555555555555556,
              "#d8576b"
             ],
             [
              0.6666666666666666,
              "#ed7953"
             ],
             [
              0.7777777777777778,
              "#fb9f3a"
             ],
             [
              0.8888888888888888,
              "#fdca26"
             ],
             [
              1,
              "#f0f921"
             ]
            ],
            "type": "surface"
           }
          ],
          "table": [
           {
            "cells": {
             "fill": {
              "color": "#EBF0F8"
             },
             "line": {
              "color": "white"
             }
            },
            "header": {
             "fill": {
              "color": "#C8D4E3"
             },
             "line": {
              "color": "white"
             }
            },
            "type": "table"
           }
          ]
         },
         "layout": {
          "annotationdefaults": {
           "arrowcolor": "#2a3f5f",
           "arrowhead": 0,
           "arrowwidth": 1
          },
          "autotypenumbers": "strict",
          "coloraxis": {
           "colorbar": {
            "outlinewidth": 0,
            "ticks": ""
           }
          },
          "colorscale": {
           "diverging": [
            [
             0,
             "#8e0152"
            ],
            [
             0.1,
             "#c51b7d"
            ],
            [
             0.2,
             "#de77ae"
            ],
            [
             0.3,
             "#f1b6da"
            ],
            [
             0.4,
             "#fde0ef"
            ],
            [
             0.5,
             "#f7f7f7"
            ],
            [
             0.6,
             "#e6f5d0"
            ],
            [
             0.7,
             "#b8e186"
            ],
            [
             0.8,
             "#7fbc41"
            ],
            [
             0.9,
             "#4d9221"
            ],
            [
             1,
             "#276419"
            ]
           ],
           "sequential": [
            [
             0,
             "#0d0887"
            ],
            [
             0.1111111111111111,
             "#46039f"
            ],
            [
             0.2222222222222222,
             "#7201a8"
            ],
            [
             0.3333333333333333,
             "#9c179e"
            ],
            [
             0.4444444444444444,
             "#bd3786"
            ],
            [
             0.5555555555555556,
             "#d8576b"
            ],
            [
             0.6666666666666666,
             "#ed7953"
            ],
            [
             0.7777777777777778,
             "#fb9f3a"
            ],
            [
             0.8888888888888888,
             "#fdca26"
            ],
            [
             1,
             "#f0f921"
            ]
           ],
           "sequentialminus": [
            [
             0,
             "#0d0887"
            ],
            [
             0.1111111111111111,
             "#46039f"
            ],
            [
             0.2222222222222222,
             "#7201a8"
            ],
            [
             0.3333333333333333,
             "#9c179e"
            ],
            [
             0.4444444444444444,
             "#bd3786"
            ],
            [
             0.5555555555555556,
             "#d8576b"
            ],
            [
             0.6666666666666666,
             "#ed7953"
            ],
            [
             0.7777777777777778,
             "#fb9f3a"
            ],
            [
             0.8888888888888888,
             "#fdca26"
            ],
            [
             1,
             "#f0f921"
            ]
           ]
          },
          "colorway": [
           "#636efa",
           "#EF553B",
           "#00cc96",
           "#ab63fa",
           "#FFA15A",
           "#19d3f3",
           "#FF6692",
           "#B6E880",
           "#FF97FF",
           "#FECB52"
          ],
          "font": {
           "color": "#2a3f5f"
          },
          "geo": {
           "bgcolor": "white",
           "lakecolor": "white",
           "landcolor": "#E5ECF6",
           "showlakes": true,
           "showland": true,
           "subunitcolor": "white"
          },
          "hoverlabel": {
           "align": "left"
          },
          "hovermode": "closest",
          "mapbox": {
           "style": "light"
          },
          "paper_bgcolor": "white",
          "plot_bgcolor": "#E5ECF6",
          "polar": {
           "angularaxis": {
            "gridcolor": "white",
            "linecolor": "white",
            "ticks": ""
           },
           "bgcolor": "#E5ECF6",
           "radialaxis": {
            "gridcolor": "white",
            "linecolor": "white",
            "ticks": ""
           }
          },
          "scene": {
           "xaxis": {
            "backgroundcolor": "#E5ECF6",
            "gridcolor": "white",
            "gridwidth": 2,
            "linecolor": "white",
            "showbackground": true,
            "ticks": "",
            "zerolinecolor": "white"
           },
           "yaxis": {
            "backgroundcolor": "#E5ECF6",
            "gridcolor": "white",
            "gridwidth": 2,
            "linecolor": "white",
            "showbackground": true,
            "ticks": "",
            "zerolinecolor": "white"
           },
           "zaxis": {
            "backgroundcolor": "#E5ECF6",
            "gridcolor": "white",
            "gridwidth": 2,
            "linecolor": "white",
            "showbackground": true,
            "ticks": "",
            "zerolinecolor": "white"
           }
          },
          "shapedefaults": {
           "line": {
            "color": "#2a3f5f"
           }
          },
          "ternary": {
           "aaxis": {
            "gridcolor": "white",
            "linecolor": "white",
            "ticks": ""
           },
           "baxis": {
            "gridcolor": "white",
            "linecolor": "white",
            "ticks": ""
           },
           "bgcolor": "#E5ECF6",
           "caxis": {
            "gridcolor": "white",
            "linecolor": "white",
            "ticks": ""
           }
          },
          "title": {
           "x": 0.05
          },
          "xaxis": {
           "automargin": true,
           "gridcolor": "white",
           "linecolor": "white",
           "ticks": "",
           "title": {
            "standoff": 15
           },
           "zerolinecolor": "white",
           "zerolinewidth": 2
          },
          "yaxis": {
           "automargin": true,
           "gridcolor": "white",
           "linecolor": "white",
           "ticks": "",
           "title": {
            "standoff": 15
           },
           "zerolinecolor": "white",
           "zerolinewidth": 2
          }
         }
        },
        "title": {
         "text": "Frequency-Weighted F1 Score by Model - Fuzzing (95% CI)"
        },
        "xaxis": {
         "anchor": "y",
         "domain": [
          0,
          1
         ],
         "tickangle": 45,
         "title": {
          "text": "Model"
         }
        },
        "yaxis": {
         "anchor": "x",
         "domain": [
          0,
          1
         ],
         "range": [
          0,
          1
         ],
         "title": {
          "text": "Frequency-Weighted F1 Score (95% CI)"
         }
        }
       }
      }
     },
     "metadata": {},
     "output_type": "display_data"
    },
    {
     "name": "stderr",
     "output_type": "stream",
     "text": [
      "/tmp/ipykernel_516767/3945258560.py:226: DeprecationWarning:\n",
      "\n",
      "\n",
      "Support for Kaleido versions less than 1.0.0 is deprecated and will be removed after September 2025.\n",
      "Please upgrade Kaleido to version 1.0.0 or greater (`pip install 'kaleido>=1.0.0'` or `pip install 'plotly[kaleido]'`).\n",
      "\n",
      "\n",
      "/tmp/ipykernel_516767/3945258560.py:227: DeprecationWarning:\n",
      "\n",
      "\n",
      "Support for Kaleido versions less than 1.0.0 is deprecated and will be removed after September 2025.\n",
      "Please upgrade Kaleido to version 1.0.0 or greater (`pip install 'kaleido>=1.0.0'` or `pip install 'plotly[kaleido]'`).\n",
      "\n",
      "\n"
     ]
    },
    {
     "name": "stdout",
     "output_type": "stream",
     "text": [
      "Saved Frequency-Weighted F1 bar chart: /home/jeremias/projects/delphi-explanations/results/visualizations/freq_weighted_f1_bar_fuzz.pdf\n",
      "\n",
      "Bar charts saved to /home/jeremias/projects/delphi-explanations/results/visualizations\n"
     ]
    }
   ],
   "source": [
    "# Generate inline bar charts for frequency-weighted F1 scores with optional bootstrapped CI error bars and save to files\n",
    "print(\"Preparing frequency-weighted F1 score bar charts (bootstrapping={})...\".format(ENABLE_BOOTSTRAP))\n",
    "\n",
    "from tqdm.auto import tqdm\n",
    "\n",
    "# Helper: per-module F1s (unchanged)\n",
    "def compute_per_module_f1s(score_subset, counts):\n",
    "    \"\"\"Return list of per-module frequency-weighted F1 values computed from the given score_subset (no resampling).\n",
    "    Each module contributes a single weighted F1 computed from its latents in score_subset.\"\"\"\n",
    "    rows = []\n",
    "    for (module, latent_idx), grp in score_subset.groupby([\"module\", \"latent_idx\"]):\n",
    "        if module in counts and latent_idx < len(counts[module]):\n",
    "            f1 = compute_classification_metrics(compute_confusion(grp))[\"f1_score\"]\n",
    "            fire = counts[module][latent_idx].item()\n",
    "            rows.append({\"module\": module, \"latent_idx\": latent_idx, \"f1_score\": f1, \"firing_count\": fire})\n",
    "    if not rows:\n",
    "        return []\n",
    "    df = pd.DataFrame(rows)\n",
    "    per_module_vals = []\n",
    "    for module in df['module'].unique():\n",
    "        mdf = df[df['module'] == module]\n",
    "        firing_weights = counts[module][mdf['latent_idx']].float()\n",
    "        total_weight = firing_weights.sum()\n",
    "        if total_weight > 0:\n",
    "            f1_tensor = torch.as_tensor(mdf['f1_score'].values, dtype=torch.float32)\n",
    "            module_f1 = (f1_tensor * firing_weights).sum() / firing_weights.sum()\n",
    "            per_module_vals.append(module_f1.item())\n",
    "    return per_module_vals\n",
    "\n",
    "# Helper: weighted percentile (unchanged)\n",
    "def weighted_percentile(values, weights, percentiles):\n",
    "    \"\"\"Compute weighted percentiles for 1D arrays of values and corresponding non-negative weights.\"\"\"\n",
    "    if len(values) == 0:\n",
    "        return [np.nan for _ in np.atleast_1d(percentiles)]\n",
    "    vals = np.asarray(values, dtype=float)\n",
    "    w = np.asarray(weights, dtype=float)\n",
    "    if w.sum() == 0:\n",
    "        # Fall back to unweighted percentiles\n",
    "        return np.percentile(vals, percentiles)\n",
    "    # sort by value\n",
    "    order = np.argsort(vals)\n",
    "    vals = vals[order]\n",
    "    w = w[order]\n",
    "    cumsum = np.cumsum(w)\n",
    "    total = cumsum[-1]\n",
    "    # cumulative fraction positions of each value\n",
    "    cumfrac = (cumsum - 0.5 * w) / total\n",
    "    out = []\n",
    "    for p in np.atleast_1d(percentiles) / 100.0:\n",
    "        # find the first index where cumfrac >= p\n",
    "        idx = np.searchsorted(cumfrac, p, side='left')\n",
    "        if idx >= len(vals):\n",
    "            out.append(vals[-1])\n",
    "        else:\n",
    "            out.append(vals[idx])\n",
    "    return out if len(out) > 1 else out[0]\n",
    "\n",
    "# Helper: compute CI errors from samples\n",
    "def compute_ci_from_samples(samples, freq_weighted_f1, confidence):\n",
    "    if not samples:\n",
    "        return 0.0, 0.0\n",
    "    lower_pct = (1.0 - confidence) / 2.0 * 100.0\n",
    "    upper_pct = (1.0 + confidence) / 2.0 * 100.0\n",
    "    lower_ci, upper_ci = np.percentile(samples, [lower_pct, upper_pct])\n",
    "    return float(freq_weighted_f1 - lower_ci), float(upper_ci - freq_weighted_f1)\n",
    "\n",
    "# Optimized bootstrap: avoid DataFrame creation in loop using multinomial + np.bincount\n",
    "def run_bootstrap_single_thread_optimized(score_subset, counts, n_boot, confidence):\n",
    "    \"\"\"Optimized bootstrap using multinomial sampling on precomputed latents.\n",
    "\n",
    "    Strategy:\n",
    "    - Precompute per-latent F1 and firing weights and module ids\n",
    "    - For each bootstrap iteration generate multinomial counts over latents\n",
    "    - Use np.bincount to aggregate weighted sums per module efficiently\n",
    "    \"\"\"\n",
    "    # Pre-compute grouped stats once\n",
    "    grouped = list(score_subset.groupby([\"module\", \"latent_idx\"]))\n",
    "\n",
    "    latent_f1s = []\n",
    "    latent_weights = []\n",
    "    module_names = []\n",
    "\n",
    "    for (module, latent_idx), grp in grouped:\n",
    "        if module in counts and latent_idx < len(counts[module]):\n",
    "            f1 = compute_classification_metrics(compute_confusion(grp))[\"f1_score\"]\n",
    "            fire_count = counts[module][latent_idx].item()\n",
    "            latent_f1s.append(float(f1))\n",
    "            latent_weights.append(float(fire_count))\n",
    "            module_names.append(module)\n",
    "\n",
    "    if not latent_f1s:\n",
    "        return []\n",
    "\n",
    "    latent_f1s = np.asarray(latent_f1s, dtype=np.float64)\n",
    "    latent_weights = np.asarray(latent_weights, dtype=np.float64)\n",
    "    unique_modules, module_ids = np.unique(module_names, return_inverse=True)\n",
    "    num_modules = len(unique_modules)\n",
    "    num_latents = len(latent_f1s)\n",
    "\n",
    "    samples = []\n",
    "\n",
    "    # Generate multinomial samples: draw counts across latents\n",
    "    # Use equal probability across latents (resampling latents uniformly)\n",
    "    # sum of each row will be num_latents (you can change this to len(score_subset) if desired)\n",
    "    try:\n",
    "        resampled_counts = np.random.multinomial(num_latents, [1.0 / num_latents] * num_latents, size=n_boot)\n",
    "    except Exception:\n",
    "        # Fallback: generate per-iteration to avoid large allocation\n",
    "        resampled_counts = None\n",
    "\n",
    "    for i in tqdm(range(n_boot), desc=f\"Fast Bootstrapping ({n_boot})\", leave=False):\n",
    "        if resampled_counts is None:\n",
    "            boot_counts = np.random.multinomial(num_latents, [1.0 / num_latents] * num_latents)\n",
    "        else:\n",
    "            boot_counts = resampled_counts[i]\n",
    "\n",
    "        # Numerator: sum of f1 * latent_weight * boot_count per module\n",
    "        numerator = np.bincount(module_ids, weights=latent_f1s * latent_weights * boot_counts, minlength=num_modules)\n",
    "        # Denominator: sum of latent_weight * boot_count per module\n",
    "        denominator = np.bincount(module_ids, weights=latent_weights * boot_counts, minlength=num_modules)\n",
    "\n",
    "        # per-module f1 (avoid division by zero)\n",
    "        per_module_f1s = np.divide(numerator, denominator, out=np.zeros_like(numerator), where=denominator != 0)\n",
    "        samples.append(float(per_module_f1s.mean()))\n",
    "\n",
    "    return samples\n",
    "\n",
    "# Main: compute_error_bars simplified to use the optimized bootstrap\n",
    "def compute_error_bars(model_results, score_type, enable_bootstrap: bool = ENABLE_BOOTSTRAP, n_boot: int = BOOTSTRAP_SAMPLES, confidence: float = CONFIDENCE_LEVEL):\n",
    "    \"\"\"Compute frequency-weighted F1 and CI errors for every model for a given score_type.\n",
    "\n",
    "    Returns a DataFrame with columns: model, frequency_weighted_f1, ci_lower_error, ci_upper_error\n",
    "    \"\"\"\n",
    "    rows = []\n",
    "    for model_name, data in model_results.items():\n",
    "        processed_df = data['processed_df']\n",
    "        score_row = processed_df[processed_df['score_type'] == score_type]\n",
    "        if len(score_row) == 0:\n",
    "            continue\n",
    "        freq_weighted_f1 = score_row['weighted_f1'].iloc[0] if 'weighted_f1' in score_row.columns else None\n",
    "        latent_df = data['latent_df']\n",
    "        counts = data['counts']\n",
    "        score_subset = latent_df[latent_df['score_type'] == score_type]\n",
    "        if len(score_subset) == 0 or counts is None or freq_weighted_f1 is None:\n",
    "            rows.append({'model': model_name, 'frequency_weighted_f1': freq_weighted_f1, 'ci_lower_error': 0.0, 'ci_upper_error': 0.0})\n",
    "            continue\n",
    "\n",
    "        if enable_bootstrap:\n",
    "            # Use optimized multinomial-based bootstrap\n",
    "            samples = run_bootstrap_single_thread_optimized(score_subset, counts, n_boot, confidence)\n",
    "            ci_lower_error, ci_upper_error = compute_ci_from_samples(samples, freq_weighted_f1, confidence)\n",
    "        else:\n",
    "            # Fast path: compute weighted percentiles across per-latent F1s using firing_count as weight\n",
    "            vals = []\n",
    "            wts = []\n",
    "            for (module, latent_idx), grp in score_subset.groupby([\"module\", \"latent_idx\"]):\n",
    "                if module in counts and latent_idx < len(counts[module]):\n",
    "                    f1 = compute_classification_metrics(compute_confusion(grp))[\"f1_score\"]\n",
    "                    fire = counts[module][latent_idx].item()\n",
    "                    vals.append(float(f1))\n",
    "                    wts.append(float(fire))\n",
    "            if len(vals) == 0:\n",
    "                ci_lower_error = 0.0\n",
    "                ci_upper_error = 0.0\n",
    "            else:\n",
    "                lower_pct = (1.0 - confidence) / 2.0 * 100.0\n",
    "                upper_pct = (1.0 + confidence) / 2.0 * 100.0\n",
    "                lower_ci, upper_ci = weighted_percentile(np.array(vals), np.array(wts), [lower_pct, upper_pct])\n",
    "                lower_ci = float(lower_ci)\n",
    "                upper_ci = float(upper_ci)\n",
    "                ci_lower_error = float(freq_weighted_f1 - lower_ci)\n",
    "                ci_upper_error = float(upper_ci - freq_weighted_f1)\n",
    "\n",
    "        rows.append({'model': model_name, 'frequency_weighted_f1': float(freq_weighted_f1), 'ci_lower_error': ci_lower_error, 'ci_upper_error': ci_upper_error})\n",
    "\n",
    "    df = pd.DataFrame(rows)\n",
    "    return df\n",
    "\n",
    "# Example: compute error bars for each score_type and save/use for plotting\n",
    "all_score_types = set()\n",
    "for data in model_results.values():\n",
    "    all_score_types.update(list(data['processed_df']['score_type'].unique()))\n",
    "all_score_types = sorted(list(all_score_types))\n",
    "\n",
    "# Precompute error bar tables for reuse in other plots\n",
    "error_bar_tables = {}\n",
    "for st in all_score_types:\n",
    "    print(f\"Computing error bars for score type: {st} (bootstrap={ENABLE_BOOTSTRAP})\")\n",
    "    error_bar_tables[st] = compute_error_bars(model_results, st, enable_bootstrap=ENABLE_BOOTSTRAP, n_boot=BOOTSTRAP_SAMPLES, confidence=CONFIDENCE_LEVEL)\n",
    "\n",
    "# helper to display nicer score type names\n",
    "def score_display_name(st):\n",
    "    return 'Fuzzing' if str(st).lower() == 'fuzz' else str(st).title()\n",
    "\n",
    "# Now create bar charts using precomputed error bars\n",
    "for score_type, error_df in error_bar_tables.items():\n",
    "    if error_df.empty:\n",
    "        continue\n",
    "    error_df = error_df.sort_values('frequency_weighted_f1', ascending=False)\n",
    "    fig = px.bar(\n",
    "        error_df,\n",
    "        x='model',\n",
    "        y='frequency_weighted_f1',\n",
    "        title=f'Frequency-Weighted F1 Score by Model - {score_display_name(score_type)} ({int(CONFIDENCE_LEVEL*100)}% CI)',\n",
    "        text='frequency_weighted_f1'\n",
    "    )\n",
    "    fig.update_traces(\n",
    "        error_y=dict(\n",
    "            type='data',\n",
    "            symmetric=False,\n",
    "            array=error_df['ci_upper_error'],\n",
    "            arrayminus=error_df['ci_lower_error']\n",
    "        )\n",
    "    )\n",
    "    fig.update_layout(\n",
    "        yaxis_range=[0, 1],\n",
    "        xaxis_title=\"Model\",\n",
    "        yaxis_title=f\"Frequency-Weighted F1 Score ({int(CONFIDENCE_LEVEL*100)}% CI)\",\n",
    "        xaxis={'tickangle': 45},\n",
    "        height=500\n",
    "    )\n",
    "    fig.update_traces(texttemplate='%{text:.3f}', textposition='outside')\n",
    "    fig.show()\n",
    "    output_file_pdf = visualizations_dir / f\"freq_weighted_f1_bar_{score_type}.pdf\"\n",
    "    output_file_png = visualizations_dir / f\"freq_weighted_f1_bar_{score_type}.png\"\n",
    "    fig.write_image(str(output_file_pdf))\n",
    "    fig.write_image(str(output_file_png))\n",
    "    print(f\"Saved Frequency-Weighted F1 bar chart: {output_file_pdf}\")\n",
    "\n",
    "print(\"\\nBar charts saved to\", visualizations_dir)"
   ]
  },
  {
   "cell_type": "markdown",
   "id": "45f1c475",
   "metadata": {},
   "source": [
    "## 5. Performance Summary\n",
    "\n",
    "Display a summary table of F1 scores for each model and score type, including mean and standard deviation."
   ]
  },
  {
   "cell_type": "code",
   "execution_count": 4,
   "id": "1f55b95e",
   "metadata": {},
   "outputs": [
    {
     "name": "stdout",
     "output_type": "stream",
     "text": [
      "Creating comprehensive performance summary...\n",
      "\n",
      "Model Performance Summary (Frequency-Weighted F1 Focus):\n",
      "============================================================\n",
      "                       frequency_weighted_f1  accuracy  precision  recall\n",
      "model                                                                    \n",
      "Qwen3-32B                              0.719     0.845      0.855   0.831\n",
      "Gemma3-27B                             0.715     0.833      0.817   0.856\n",
      "Qwen3-4B                               0.686     0.787      0.775   0.809\n",
      "Llama4-Scout                           0.674     0.813      0.826   0.793\n",
      "Llama3.3-70B                           0.651     0.842      0.870   0.806\n",
      "Gemma3-12B                             0.642     0.788      0.816   0.750\n",
      "Qwen3-14B                              0.627     0.813      0.877   0.731\n",
      "Llama3-8B                              0.607     0.775      0.808   0.735\n",
      "Gemma3-4B                              0.596     0.584      0.567   0.733\n",
      "Llama3-8B (Transluce)                  0.578     0.807      0.902   0.688\n",
      "\n",
      "Summary saved to: /home/jeremias/projects/delphi-explanations/results/visualizations/model_frequency_weighted_f1_summary.csv\n",
      "\n",
      "Best Performing Models by Category:\n",
      "==================================================\n",
      "Highest Frequency-Weighted F1: Qwen3-32B (0.719)\n",
      "Highest Accuracy: Qwen3-32B (0.845)\n",
      "Highest Precision: Llama3-8B (Transluce) (0.902)\n",
      "Highest Recall: Gemma3-27B (0.856)\n",
      "\n",
      "All visualizations and summaries saved to: /home/jeremias/projects/delphi-explanations/results/visualizations\n",
      "\n",
      "Generated files:\n",
      "  - accuracy_bar_detection.pdf\n",
      "  - accuracy_bar_detection.png\n",
      "  - accuracy_bar_fuzz.pdf\n",
      "  - accuracy_bar_fuzz.png\n",
      "  - accuracy_density_detection.pdf\n",
      "  - accuracy_density_detection.png\n",
      "  - accuracy_density_fuzz.pdf\n",
      "  - accuracy_density_fuzz.png\n",
      "  - accuracy_density_line_detection.pdf\n",
      "  - accuracy_density_line_fuzz.pdf\n",
      "  - freq_weighted_f1_bar_detection.pdf\n",
      "  - freq_weighted_f1_bar_detection.png\n",
      "  - freq_weighted_f1_bar_fuzz.pdf\n",
      "  - freq_weighted_f1_bar_fuzz.png\n",
      "  - model_accuracy_summary.csv\n",
      "  - model_frequency_weighted_f1_summary.csv\n",
      "  - model_performance_summary.csv\n",
      "  - pareto_clean_detection.pdf\n",
      "  - pareto_clean_detection.png\n",
      "  - pareto_clean_detection_no_ci.pdf\n",
      "  - pareto_clean_detection_no_ci.png\n",
      "  - pareto_clean_fuzz.pdf\n",
      "  - pareto_clean_fuzz.png\n",
      "  - pareto_clean_fuzz_no_ci.pdf\n",
      "  - pareto_clean_fuzz_no_ci.png\n",
      "  - pareto_detection.pdf\n",
      "  - pareto_detection.png\n",
      "  - pareto_enhanced_detection.pdf\n",
      "  - pareto_enhanced_detection.png\n",
      "  - pareto_enhanced_fuzz.pdf\n",
      "  - pareto_enhanced_fuzz.png\n",
      "  - pareto_fuzz.pdf\n",
      "  - pareto_fuzz.png\n",
      "  - pareto_matplotlib_detection.pdf\n",
      "  - pareto_matplotlib_detection.png\n",
      "  - pareto_matplotlib_fuzz.pdf\n",
      "  - pareto_matplotlib_fuzz.png\n"
     ]
    }
   ],
   "source": [
    "# Create comprehensive performance summary using data from get_agg_metrics\n",
    "print(\"Creating comprehensive performance summary...\")\n",
    "\n",
    "# Create frequency-weighted F1 score summary using processed data\n",
    "summary_rows = []\n",
    "for model_name, model_data in model_results.items():\n",
    "    processed_df = model_data['processed_df']\n",
    "    # Use the frequency-weighted F1 from the processed data (averaged across score types)\n",
    "    freq_weighted_f1 = processed_df['weighted_f1'].mean() if 'weighted_f1' in processed_df.columns else None\n",
    "    summary_rows.append({\n",
    "        'model': model_name,\n",
    "        'frequency_weighted_f1': freq_weighted_f1,\n",
    "        'accuracy': processed_df['accuracy'].mean(),\n",
    "        'precision': processed_df['precision'].mean(),\n",
    "        'recall': processed_df['recall'].mean()\n",
    "    })\n",
    "summary_df = pd.DataFrame(summary_rows).set_index('model').round(3)\n",
    "\n",
    "print(\"\\nModel Performance Summary (Frequency-Weighted F1 Focus):\")\n",
    "print(\"=\" * 60)\n",
    "print(summary_df.sort_values('frequency_weighted_f1', ascending=False))\n",
    "\n",
    "# Save summary to CSV\n",
    "summary_file = visualizations_dir / \"model_frequency_weighted_f1_summary.csv\"\n",
    "summary_df.to_csv(summary_file)\n",
    "print(f\"\\nSummary saved to: {summary_file}\")\n",
    "\n",
    "# Best performing models by category\n",
    "print(\"\\nBest Performing Models by Category:\")\n",
    "print(\"=\" * 50)\n",
    "print(f\"Highest Frequency-Weighted F1: {summary_df['frequency_weighted_f1'].idxmax()} ({summary_df['frequency_weighted_f1'].max():.3f})\")\n",
    "print(f\"Highest Accuracy: {summary_df['accuracy'].idxmax()} ({summary_df['accuracy'].max():.3f})\")\n",
    "print(f\"Highest Precision: {summary_df['precision'].idxmax()} ({summary_df['precision'].max():.3f})\")\n",
    "print(f\"Highest Recall: {summary_df['recall'].idxmax()} ({summary_df['recall'].max():.3f})\")\n",
    "\n",
    "print(f\"\\nAll visualizations and summaries saved to: {visualizations_dir}\")\n",
    "print(\"\\nGenerated files:\")\n",
    "for file in sorted(visualizations_dir.glob(\"*\")):\n",
    "    print(f\"  - {file.name}\")"
   ]
  },
  {
   "cell_type": "code",
   "execution_count": 10,
   "id": "d546e97c",
   "metadata": {},
   "outputs": [],
   "source": [
    "%matplotlib widget\n",
    "\n",
    "import json\n",
    "import numpy as np\n",
    "from math import isnan\n",
    "import pandas as pd\n",
    "import matplotlib.pyplot as plt\n",
    "from matplotlib.lines import Line2D\n",
    "from matplotlib.patches import FancyBboxPatch\n",
    "import matplotlib.patches as mpatches\n",
    "from adjustText import adjust_text  # For better label placement\n",
    "import seaborn as sns\n",
    "import matplotlib.colors as mcolors\n",
    "from matplotlib.widgets import Button as MPLButton\n",
    "\n",
    "# Optional widget-based Save button (more reliable in notebook frontends)\n",
    "try:\n",
    "    import ipywidgets as widgets\n",
    "    from IPython.display import display\n",
    "    HAS_IPYWIDGETS = True\n",
    "except Exception:\n",
    "    HAS_IPYWIDGETS = False\n",
    "\n",
    "# Small debug toggle\n",
    "DEBUG_INTERACTIVE = True\n",
    "\n",
    "# Set style for prettier plots\n",
    "plt.style.use('seaborn-v0_8-darkgrid')\n",
    "sns.set_palette(\"husl\")\n",
    "\n",
    "# --- Data Loading and Prep (same as before) ---\n",
    "experiments_base = results_dir / MODEL_PREFIX / f\"{LATENTS_COUNT}latents\"\n",
    "timing_map = {}\n",
    "for timing_file in experiments_base.rglob('scoring_timing.json'):\n",
    "    try:\n",
    "        with open(timing_file, 'r') as f: meta = json.load(f)\n",
    "        secs = meta.get('scoring_time_seconds', None)\n",
    "    except Exception: secs = None\n",
    "    exp_dir = timing_file.parent; exp_name = exp_dir.name\n",
    "    if exp_name.endswith(f\"_{LATENTS_COUNT}latents\"): \n",
    "        model_key = exp_name.replace(f\"{MODEL_PREFIX}_\", \"\").replace(f\"_{LATENTS_COUNT}latents\", \"\")\n",
    "    else: \n",
    "        model_key = exp_name.replace(f\"{MODEL_PREFIX}_\", \"\")\n",
    "    display_name = MODEL_NAME_MAPPING.get(model_key, model_key)\n",
    "    timing_map[display_name] = secs\n",
    "\n",
    "for m in model_results.keys():\n",
    "    if m not in timing_map: timing_map[m] = float('nan')\n",
    "\n",
    "# Enhanced color palette with gradients\n",
    "family_colors = {\n",
    "    'Gemma': '#2E7D32',  # Rich green\n",
    "    'Qwen': '#7B1FA2',   # Deep purple\n",
    "    'Llama': '#1565C0'   # Strong blue\n",
    "}\n",
    "\n",
    "# Lighter versions for fills\n",
    "family_colors_light = {\n",
    "    'Gemma': '#81C784',\n",
    "    'Qwen': '#BA68C8',\n",
    "    'Llama': '#64B5F6'\n",
    "}\n",
    "\n",
    "def detect_family(name: str):\n",
    "    n = name.lower()\n",
    "    if 'gemma' in n: return 'Gemma'\n",
    "    if 'qwen' in n: return 'Qwen'\n",
    "    if 'llama' in n: return 'Llama'\n",
    "    return 'Other'\n",
    "\n",
    "def identify_pareto_frontier(df):\n",
    "    df_sorted = df.sort_values(by='time_minutes', ascending=True)\n",
    "    pareto_points = []\n",
    "    max_perf_so_far = -np.inf\n",
    "    for _, row in df_sorted.iterrows():\n",
    "        if row['perf'] > max_perf_so_far:\n",
    "            pareto_points.append(row)\n",
    "            max_perf_so_far = row['perf']\n",
    "    return pd.DataFrame(pareto_points)\n",
    "\n",
    "def smart_label_placement(ax, x, y, labels, colors=None, offset_factor=0.02):\n",
    "    \"\"\"Smart placement of labels to avoid overlaps; optional colors list to color text.\"\"\"\n",
    "    texts = []\n",
    "    y_min, y_max = ax.get_ylim()\n",
    "    y_range = y_max - y_min if (y_max - y_min) != 0 else 1.0\n",
    "\n",
    "    for i, (xi, yi, label) in enumerate(zip(x, y, labels)):\n",
    "        # Initial offset\n",
    "        offset = y_range * offset_factor\n",
    "        color = None\n",
    "        if colors is not None:\n",
    "            try:\n",
    "                color = colors[i]\n",
    "            except Exception:\n",
    "                color = None\n",
    "\n",
    "        text_kwargs = dict(ha='center', va='bottom', fontsize=9, fontweight='medium')\n",
    "        if color:\n",
    "            text_kwargs['color'] = color\n",
    "\n",
    "        # Draw label with subtle white bbox to keep readability; edge uses color if available\n",
    "        edge_color = color if color is not None else 'gray'\n",
    "        bbox_kwargs = dict(boxstyle=\"round,pad=0.3\", facecolor='white', edgecolor=edge_color, alpha=0.85)\n",
    "\n",
    "        t = ax.text(xi, yi + offset, label, bbox=bbox_kwargs, **text_kwargs)\n",
    "        t.set_picker(6)  # Ensure picker is set for all text objects\n",
    "        texts.append(t)\n",
    "        if DEBUG_INTERACTIVE:\n",
    "            print(f\"Created label '{label}' at ({xi}, {yi + offset}), picker={t.get_picker()}\")\n",
    "\n",
    "    # Try to use adjust_text if available\n",
    "    try:\n",
    "        adjust_text(texts, x, y, \n",
    "                   arrowprops=dict(arrowstyle='-', color='gray', lw=0.5, alpha=0.5),\n",
    "                   expand_points=(1.2, 1.4))\n",
    "    except Exception:\n",
    "        # Fallback to manual adjustment if adjust_text not available\n",
    "        pass\n",
    "\n",
    "    return texts\n",
    "\n",
    "class DraggableText:\n",
    "    \"\"\"Enable click-and-drag for a list of matplotlib Text artists.\"\"\"\n",
    "    def __init__(self, texts, fig):\n",
    "        self.texts = texts\n",
    "        self.fig = fig\n",
    "        self.canvas = fig.canvas\n",
    "        self.selected = None\n",
    "        self.offset = (0.0, 0.0)\n",
    "        self.cidpress = self.canvas.mpl_connect('button_press_event', self.on_press)\n",
    "        self.cidmotion = self.canvas.mpl_connect('motion_notify_event', self.on_motion)\n",
    "        self.cidrelease = self.canvas.mpl_connect('button_release_event', self.on_release)\n",
    "\n",
    "    def on_press(self, event):\n",
    "        if event.inaxes is None:\n",
    "            return\n",
    "        for t in self.texts:\n",
    "            t.set_picker(6)  # Ensure picker is set for all text objects\n",
    "            try:\n",
    "                contains, _ = t.contains(event)\n",
    "            except Exception:\n",
    "                contains = False\n",
    "            if contains:\n",
    "                x, y = t.get_position()\n",
    "                # store selected and offset in data coords\n",
    "                self.selected = t\n",
    "                if event.xdata is None or event.ydata is None:\n",
    "                    # nothing to do\n",
    "                    self.selected = None\n",
    "                    return\n",
    "                self.offset = (x - event.xdata, y - event.ydata)\n",
    "                if DEBUG_INTERACTIVE:\n",
    "                    try:\n",
    "                        print(f\"Picked label '{t.get_text()}' at data pos {(x, y)}; mouse={(event.xdata, event.ydata)}\")\n",
    "                    except Exception:\n",
    "                        print(\"Picked a label\")\n",
    "                return\n",
    "\n",
    "    def on_motion(self, event):\n",
    "        if self.selected is None or event.inaxes is None:\n",
    "            return\n",
    "        if event.xdata is None or event.ydata is None:\n",
    "            return\n",
    "        newx = event.xdata + self.offset[0]\n",
    "        newy = event.ydata + self.offset[1]\n",
    "        self.selected.set_position((newx, newy))\n",
    "        self.canvas.draw_idle()\n",
    "        if DEBUG_INTERACTIVE:\n",
    "            try:\n",
    "                print(f\"Moved '{self.selected.get_text()}' -> {(newx, newy)}\")\n",
    "            except Exception:\n",
    "                pass\n",
    "\n",
    "    def on_release(self, event):\n",
    "        if DEBUG_INTERACTIVE and self.selected is not None:\n",
    "            try:\n",
    "                print(f\"Released '{self.selected.get_text()}'\")\n",
    "            except Exception:\n",
    "                pass\n",
    "        self.selected = None\n",
    "\n",
    "SHOW_MOUSE_COORDS = True  # Toggle to show/hide live mouse coordinates\n",
    "\n",
    "class MouseCoordsDisplay:\n",
    "    def __init__(self, fig, ax):\n",
    "        self.fig = fig\n",
    "        self.ax = ax\n",
    "        self.text = ax.text(0.01, 0.99, '', transform=ax.transAxes, ha='left', va='top', fontsize=10, color='navy', alpha=0.7, bbox=dict(facecolor='white', alpha=0.6, edgecolor='navy'))\n",
    "        self.cidmotion = fig.canvas.mpl_connect('motion_notify_event', self.on_motion)\n",
    "    def on_motion(self, event):\n",
    "        if event.inaxes == self.ax and event.xdata is not None and event.ydata is not None:\n",
    "            self.text.set_text(f\"x={event.xdata:.2f}, y={event.ydata:.3f}\")\n",
    "        else:\n",
    "            self.text.set_text('')\n",
    "        self.fig.canvas.draw_idle()\n",
    "\n",
    "def plot_pareto(score_type: str, save_on_init: bool = True, show: bool = True):\n",
    "    \"\"\"Create the pareto-enhanced plot for `score_type`. Returns (fig, dr, pts_df) where dr is the DraggableText instance (or None).\n",
    "    The function expects the notebook globals: error_bar_tables, timing_map, visualizations_dir, family_colors, family_colors_light, SHOW_MOUSE_COORDS, DEBUG_INTERACTIVE.\n",
    "    \"\"\"\n",
    "    error_df = error_bar_tables.get(score_type, pd.DataFrame())\n",
    "    if error_df.empty:\n",
    "        print(f\"No error-bar data for {score_type}, skipping\")\n",
    "        return None, None, None\n",
    "\n",
    "    rows = []\n",
    "    for _, row in error_df.iterrows():\n",
    "        model, perf, t_secs = row['model'], row['frequency_weighted_f1'], timing_map.get(row['model'])\n",
    "        if t_secs is None or isnan(t_secs) or perf is None or isnan(perf):\n",
    "            continue\n",
    "        rows.append({\n",
    "            'model': model,\n",
    "            'time_minutes': float(t_secs) / 60.0,\n",
    "            'perf': float(perf),\n",
    "            'up': float(row['ci_upper_error']),\n",
    "            'down': float(row['ci_lower_error']),\n",
    "            'family': detect_family(model),\n",
    "        })\n",
    "\n",
    "    if not rows:\n",
    "        print(f\"No timing-backed points for {score_type}, skipping\")\n",
    "        return None, None, None\n",
    "\n",
    "    pts_df = pd.DataFrame(rows).sort_values('time_minutes')\n",
    "    pts_df = pts_df[pts_df['family'].isin(['Gemma', 'Qwen', 'Llama'])]\n",
    "    if pts_df.empty:\n",
    "        print(f\"No models left for {score_type} after filtering, skipping\")\n",
    "        return None, None, None\n",
    "\n",
    "    median_time = pts_df['time_minutes'].median()\n",
    "    outlier_threshold = median_time * 10\n",
    "    has_outliers = (pts_df['time_minutes'] >= outlier_threshold).any()\n",
    "\n",
    "    pareto_df = identify_pareto_frontier(pts_df)\n",
    "\n",
    "    fig = plt.figure(figsize=(14, 8))\n",
    "\n",
    "    if has_outliers:\n",
    "        gs = fig.add_gridspec(1, 2, width_ratios=[3, 1], wspace=0.03)\n",
    "        ax1 = fig.add_subplot(gs[0])\n",
    "        ax2 = fig.add_subplot(gs[1], sharey=ax1)\n",
    "        cluster_df = pts_df[pts_df['time_minutes'] < outlier_threshold]\n",
    "        outlier_df = pts_df[pts_df['time_minutes'] >= outlier_threshold]\n",
    "        axes_data = [(ax1, cluster_df), (ax2, outlier_df)]\n",
    "    else:\n",
    "        ax = fig.add_subplot(111)\n",
    "        axes_data = [(ax, pts_df)]\n",
    "\n",
    "    collected_texts = []\n",
    "\n",
    "    if SHOW_MOUSE_COORDS:\n",
    "        for ax_disp, _ in axes_data:\n",
    "            MouseCoordsDisplay(fig, ax_disp)\n",
    "\n",
    "    for ax, df_subset in axes_data:\n",
    "        ax.set_facecolor('#FAFAFA')\n",
    "        for family in ['Gemma', 'Qwen', 'Llama']:\n",
    "            fam_df = df_subset[df_subset['family'] == family]\n",
    "            if fam_df.empty:\n",
    "                continue\n",
    "            ecolor_rgba = mcolors.to_rgba(family_colors_light[family], alpha=0.30)\n",
    "            ax.errorbar(fam_df['time_minutes'], fam_df['perf'],\n",
    "                       yerr=[fam_df['down'], fam_df['up']],\n",
    "                       fmt='o', markersize=12,\n",
    "                       color=family_colors[family],\n",
    "                       ecolor=ecolor_rgba,\n",
    "                       markeredgecolor='white', markeredgewidth=2,\n",
    "                       capsize=3, capthick=1, elinewidth=1.2,\n",
    "                       alpha=1.0, zorder=5)\n",
    "\n",
    "        pareto_subset = pareto_df[pareto_df['model'].isin(df_subset['model'])]\n",
    "        if not pareto_subset.empty:\n",
    "            ax.plot(pareto_subset['time_minutes'], pareto_subset['perf'],\n",
    "                   color='gray', linewidth=4, alpha=0.15, zorder=2)\n",
    "            ax.plot(pareto_subset['time_minutes'], pareto_subset['perf'],\n",
    "                   color='#333333', linewidth=2.0, linestyle='-',\n",
    "                   alpha=0.6, zorder=3)\n",
    "            ax.scatter(pareto_subset['time_minutes'], pareto_subset['perf'],\n",
    "                      s=140, facecolor='white', edgecolor='#333333',\n",
    "                      linewidth=2, zorder=10, alpha=1)\n",
    "\n",
    "        ax.grid(True, which='major', linestyle='-', alpha=0.2, color='gray')\n",
    "        ax.grid(True, which='minor', linestyle=':', alpha=0.1, color='gray')\n",
    "        ax.set_xscale('log')\n",
    "\n",
    "        # Set nice ticks on the log axis when plotting the main axis\n",
    "        if ax == (ax1 if has_outliers else ax):\n",
    "            time_values = df_subset['time_minutes'].values\n",
    "            min_t = float(np.min(time_values)) if len(time_values) else 1.0\n",
    "            min_t = max(min_t, 1e-6)\n",
    "            max_t = float(np.max(time_values)) * 1.2\n",
    "            try:\n",
    "                min_exp = int(np.floor(np.log2(min_t)))\n",
    "            except Exception:\n",
    "                min_exp = int(np.floor(np.log2(max_t))) - 5\n",
    "            max_exp = int(np.ceil(np.log2(max_t)))\n",
    "            exps = list(range(min_exp, max_exp + 1))\n",
    "            nice_ticks = [2 ** e for e in exps]\n",
    "            ticks = [t for t in nice_ticks if t >= min_t and t <= max_t]\n",
    "            if ticks:\n",
    "                ax.set_xticks(ticks)\n",
    "                ax.set_xticklabels([str(int(t)) for t in ticks])\n",
    "\n",
    "        labels_to_plot = []\n",
    "        label_colors = []\n",
    "        x_positions = []\n",
    "        y_positions = []\n",
    "        for _, r in df_subset.iterrows():\n",
    "            labels_to_plot.append(r['model'])\n",
    "            fam = r.get('family', None)\n",
    "            c = family_colors.get(fam, 'black') if fam is not None else 'black'\n",
    "            label_colors.append(c)\n",
    "            x_positions.append(r['time_minutes'])\n",
    "            y_positions.append(r['perf'] + r['up'] + 0.005)\n",
    "\n",
    "        texts = smart_label_placement(ax, x_positions, y_positions, labels_to_plot, colors=label_colors)\n",
    "        collected_texts.extend(texts)\n",
    "\n",
    "    dr = None\n",
    "    if collected_texts:\n",
    "        dr = DraggableText(collected_texts, fig)\n",
    "\n",
    "        def _save_fig_and_notify():\n",
    "            out_pdf = visualizations_dir / f\"pareto_enhanced_{score_type}.pdf\"\n",
    "            out_png = visualizations_dir / f\"pareto_enhanced_{score_type}.png\"\n",
    "            try:\n",
    "                fig.savefig(out_pdf, dpi=300, bbox_inches='tight', facecolor='white')\n",
    "                fig.savefig(out_png, dpi=300, bbox_inches='tight', facecolor='white')\n",
    "                print(f\"Saved enhanced pareto plot for {score_type}: {out_pdf}\")\n",
    "            except Exception as e:\n",
    "                print(f\"Failed to save figure: {e}\")\n",
    "\n",
    "        if HAS_IPYWIDGETS:\n",
    "            try:\n",
    "                btn = widgets.Button(description='Save', layout=widgets.Layout(width='90px'))\n",
    "                def _on_save_clicked(b):\n",
    "                    _save_fig_and_notify()\n",
    "                btn.on_click(_on_save_clicked)\n",
    "                display(btn)\n",
    "                print(\"Interactive mode: drag labels with the mouse; click the displayed 'Save' button to write the adjusted figure to the visualizations directory.\")\n",
    "            except Exception as e:\n",
    "                print(f\"ipywidgets Save button failed to initialize: {e}. Falling back to in-figure Save button.\")\n",
    "                btn_ax = fig.add_axes([0.88, 0.01, 0.1, 0.04])\n",
    "                mpl_btn = MPLButton(btn_ax, 'Save', color='lightgoldenrodyellow', hovercolor='0.975')\n",
    "                def _on_mpl_save(event):\n",
    "                    _save_fig_and_notify()\n",
    "                mpl_btn.on_clicked(_on_mpl_save)\n",
    "        else:\n",
    "            btn_ax = fig.add_axes([0.88, 0.01, 0.1, 0.04])\n",
    "            mpl_btn = MPLButton(btn_ax, 'Save', color='lightgoldenrodyellow', hovercolor='0.975')\n",
    "            def _on_mpl_save(event):\n",
    "                _save_fig_and_notify()\n",
    "            mpl_btn.on_clicked(_on_mpl_save)\n",
    "            print(\"Interactive mode: drag labels with the mouse; click the in-figure 'Save' button to write the adjusted figure to the visualizations directory.\")\n",
    "\n",
    "    if has_outliers:\n",
    "        ax1.spines['right'].set_visible(False)\n",
    "        ax2.spines['left'].set_visible(False)\n",
    "        ax2.tick_params(axis='y', which='both', left=False, labelleft=False)\n",
    "        d = .015\n",
    "        kwargs = dict(transform=ax1.transAxes, color='k', clip_on=False, linewidth=1.5)\n",
    "        ax1.plot((1-d, 1+d), (1-d, 1+d), **kwargs)\n",
    "        ax1.plot((1-d, 1+d), (-d, +d), **kwargs)\n",
    "        kwargs.update(transform=ax2.transAxes)\n",
    "        ax2.plot((-d, +d), (1-d, 1+d), **kwargs)\n",
    "        ax2.plot((-d, +d), (-d, +d), **kwargs)\n",
    "        ax1.set_xlim(right=cluster_df['time_minutes'].max() * 1.3)\n",
    "        ax2.set_xlim(left=outlier_df['time_minutes'].min() * 0.9)\n",
    "\n",
    "    y_min = (pts_df['perf'] - pts_df['down']).min()\n",
    "    y_max = (pts_df['perf'] + pts_df['up']).max()\n",
    "    y_padding = (y_max - y_min) * 0.15\n",
    "    if has_outliers:\n",
    "        ax1.set_ylim(max(0, y_min - y_padding), min(1.0, y_max + y_padding))\n",
    "    else:\n",
    "        ax.set_ylim(max(0, y_min - y_padding), min(1.0, y_max + y_padding))\n",
    "\n",
    "    title_text = f\"{score_type.title()} Pareto Frontier\"\n",
    "    fig.suptitle(title_text, fontsize=18, fontweight='bold', y=0.98)\n",
    "    if has_outliers:\n",
    "        ax1.set_xlabel('Wall-Clock Time (minutes)', fontsize=13, fontweight='medium')\n",
    "        ax2.set_xlabel('Wall-Clock Time (minutes)', fontsize=13, fontweight='medium')\n",
    "        ax1.set_ylabel(f'Frequency-Weighted F1 Score\\n({int(CONFIDENCE_LEVEL*100)}% Confidence Interval)', \n",
    "                      fontsize=13, fontweight='medium')\n",
    "    else:\n",
    "        ax.set_xlabel('Wall-Clock Time (minutes, log scale)', fontsize=13, fontweight='medium')\n",
    "        ax.set_ylabel(f'Frequency-Weighted F1 Score\\n({int(CONFIDENCE_LEVEL*100)}% Confidence Interval)', \n",
    "                     fontsize=13, fontweight='medium')\n",
    "\n",
    "    legend_elements = []\n",
    "    for family, color in family_colors.items():\n",
    "        legend_elements.append(\n",
    "            Line2D([0], [0], marker='o', color='w', label=family,\n",
    "                  markersize=12, markerfacecolor=color, \n",
    "                  markeredgecolor='white', markeredgewidth=2,\n",
    "                  alpha=0.9)\n",
    "        )\n",
    "    legend_elements.append(\n",
    "        Line2D([0], [0], color='#333333', linewidth=2.5, \n",
    "              label='Pareto Frontier', marker='o', \n",
    "              markerfacecolor='white', markeredgecolor='#333333',\n",
    "              markersize=10)\n",
    "    )\n",
    "\n",
    "    legend_ax = ax2 if has_outliers else ax\n",
    "    legend = legend_ax.legend(\n",
    "        handles=legend_elements,\n",
    "        title='Model Family',\n",
    "        loc='best',\n",
    "        frameon=True,\n",
    "        fancybox=True,\n",
    "        shadow=True,\n",
    "        fontsize=11,\n",
    "        title_fontsize=12,\n",
    "        framealpha=0.95,\n",
    "        edgecolor='gray',\n",
    "    )\n",
    "\n",
    "    fig.text(0.99, 0.01, 'SOAR - Improving Explanations', \n",
    "            ha='right', va='bottom', fontsize=9, alpha=0.35, style='italic')\n",
    "    plt.tight_layout(rect=[0, 0.06, 1, 0.96])\n",
    "\n",
    "    # Save initial copies if requested\n",
    "    if save_on_init:\n",
    "        out_pdf = visualizations_dir / f\"pareto_enhanced_{score_type}.pdf\"\n",
    "        out_png = visualizations_dir / f\"pareto_enhanced_{score_type}.png\"\n",
    "        try:\n",
    "            fig.savefig(out_pdf, dpi=300, bbox_inches='tight', facecolor='white')\n",
    "            fig.savefig(out_png, dpi=300, bbox_inches='tight', facecolor='white')\n",
    "            if DEBUG_INTERACTIVE:\n",
    "                print(f\"Saved enhanced pareto plot for {score_type}: {out_pdf}\")\n",
    "        except Exception as e:\n",
    "            print(f\"Initial save failed: {e}\")\n",
    "\n",
    "    if show:\n",
    "        plt.show()\n",
    "\n",
    "    return fig, dr, pts_df"
   ]
  },
  {
   "cell_type": "code",
   "execution_count": 11,
   "id": "23bf405a",
   "metadata": {},
   "outputs": [
    {
     "name": "stdout",
     "output_type": "stream",
     "text": [
      "Created label 'Llama3-8B' at (25.069238475958507, 0.6863150313747706), picker=6\n",
      "Created label 'Qwen3-4B' at (27.266449121634164, 0.7693234584210217), picker=6\n",
      "Created label 'Gemma3-4B' at (29.130247934659323, 0.6536554105753596), picker=6\n",
      "Created label 'Qwen3-14B' at (43.572769280274706, 0.7005222542172831), picker=6\n",
      "Created label 'Gemma3-12B' at (53.10226345062256, 0.6931282627923796), picker=6\n",
      "Created label 'Llama4-Scout' at (70.02310449282328, 0.7745169956972278), picker=6\n",
      "Created label 'Llama3-8B (Transluce)' at (70.53215541442235, 0.7246792833262822), picker=6\n",
      "Created label 'Qwen3-32B' at (71.41554892460505, 0.8294754922745504), picker=6\n",
      "Created label 'Gemma3-27B' at (75.82396013736725, 0.8028812018061808), picker=6\n",
      "Created label 'Llama3.3-70B' at (410.3826153000196, 0.7571304782020848), picker=6\n"
     ]
    },
    {
     "data": {
      "application/vnd.jupyter.widget-view+json": {
       "model_id": "c20f82e871e447e5bb2c0a47d72cdc8d",
       "version_major": 2,
       "version_minor": 0
      },
      "text/plain": [
       "Button(description='Save', layout=Layout(width='90px'), style=ButtonStyle())"
      ]
     },
     "metadata": {},
     "output_type": "display_data"
    },
    {
     "name": "stdout",
     "output_type": "stream",
     "text": [
      "Interactive mode: drag labels with the mouse; click the displayed 'Save' button to write the adjusted figure to the visualizations directory.\n",
      "Saved enhanced pareto plot for fuzz: /home/jeremias/projects/delphi-explanations/results/visualizations/pareto_enhanced_fuzz.pdf\n",
      "Saved enhanced pareto plot for fuzz: /home/jeremias/projects/delphi-explanations/results/visualizations/pareto_enhanced_fuzz.pdf\n"
     ]
    },
    {
     "data": {
      "application/vnd.jupyter.widget-view+json": {
       "model_id": "e3a7662c0aff46239971512dd3bcd75c",
       "version_major": 2,
       "version_minor": 0
      },
      "image/png": "[encoded data removed]",
      "text/html": [
       "\n",
       "            <div style=\"display: inline-block;\">\n",
       "                <div class=\"jupyter-widgets widget-label\" style=\"text-align: center;\">\n",
       "                    Figure\n",
       "                </div>\n",
       "                <img src='data:image/png;base64,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' width=1400.0/>\n",
       "            </div>\n",
       "        "
      ],
      "text/plain": [
       "Canvas(toolbar=Toolbar(toolitems=[('Home', 'Reset original view', 'home', 'home'), ('Back', 'Back to previous …"
      ]
     },
     "metadata": {},
     "output_type": "display_data"
    }
   ],
   "source": [
    "# Pareto plot for 'fuzz' - simplified wrapper\n",
    "# Run this cell alone to get an interactive plot you can drag labels on and save.\n",
    "fig_fuzz, dr_fuzz, pts_df_fuzz = plot_pareto('fuzz', save_on_init=True, show=True)\n",
    "if fig_fuzz is None:\n",
    "    print(\"Fuzz plot skipped or had no data.\")"
   ]
  },
  {
   "cell_type": "code",
   "execution_count": 12,
   "id": "f86d4055",
   "metadata": {},
   "outputs": [
    {
     "name": "stdout",
     "output_type": "stream",
     "text": [
      "Created label 'Llama3-8B' at (25.069238475958507, 0.6717857469178765), picker=6\n",
      "Created label 'Qwen3-4B' at (27.266449121634164, 0.6856362501992769), picker=6\n",
      "Created label 'Gemma3-4B' at (29.130247934659323, 0.6029348957406301), picker=6\n",
      "Created label 'Qwen3-14B' at (43.572769280274706, 0.6995412882528208), picker=6\n",
      "Created label 'Gemma3-12B' at (53.10226345062256, 0.7025381330051953), picker=6\n",
      "Created label 'Llama4-Scout' at (70.02310449282328, 0.6938341096977579), picker=6\n",
      "Created label 'Llama3-8B (Transluce)' at (70.53215541442235, 0.6073275865457167), picker=6\n",
      "Created label 'Qwen3-32B' at (71.41554892460505, 0.7216750677602186), picker=6\n",
      "Created label 'Gemma3-27B' at (75.82396013736725, 0.7252066960042226), picker=6\n",
      "Created label 'Llama3.3-70B' at (410.3826153000196, 0.6948411833082254), picker=6\n"
     ]
    },
    {
     "data": {
      "application/vnd.jupyter.widget-view+json": {
       "model_id": "1cd0b6544e81405b818de3bb63bbd99b",
       "version_major": 2,
       "version_minor": 0
      },
      "text/plain": [
       "Button(description='Save', layout=Layout(width='90px'), style=ButtonStyle())"
      ]
     },
     "metadata": {},
     "output_type": "display_data"
    },
    {
     "name": "stdout",
     "output_type": "stream",
     "text": [
      "Interactive mode: drag labels with the mouse; click the displayed 'Save' button to write the adjusted figure to the visualizations directory.\n",
      "Saved enhanced pareto plot for detection: /home/jeremias/projects/delphi-explanations/results/visualizations/pareto_enhanced_detection.pdf\n",
      "Saved enhanced pareto plot for detection: /home/jeremias/projects/delphi-explanations/results/visualizations/pareto_enhanced_detection.pdf\n"
     ]
    },
    {
     "data": {
      "application/vnd.jupyter.widget-view+json": {
       "model_id": "7345de5737b2420c9b688a326ee79f8c",
       "version_major": 2,
       "version_minor": 0
      },
      "image/png": "[encoded data removed]",
      "text/html": [
       "\n",
       "            <div style=\"display: inline-block;\">\n",
       "                <div class=\"jupyter-widgets widget-label\" style=\"text-align: center;\">\n",
       "                    Figure\n",
       "                </div>\n",
       "                <img src='data:image/png;base64,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' width=1400.0/>\n",
       "            </div>\n",
       "        "
      ],
      "text/plain": [
       "Canvas(toolbar=Toolbar(toolitems=[('Home', 'Reset original view', 'home', 'home'), ('Back', 'Back to previous …"
      ]
     },
     "metadata": {},
     "output_type": "display_data"
    }
   ],
   "source": [
    "# Pareto plot for 'detection' - simplified wrapper\n",
    "# Run this cell alone to get an interactive plot you can drag labels on and save.\n",
    "fig_det, dr_det, pts_df_det = plot_pareto('detection', save_on_init=True, show=True)\n",
    "if fig_det is None:\n",
    "    print(\"Detection plot skipped or had no data.\")"
   ]
  }
 ],
 "metadata": {
  "kernelspec": {
   "display_name": ".venv",
   "language": "python",
   "name": "python3"
  },
  "language_info": {
   "codemirror_mode": {
    "name": "ipython",
    "version": 3
   },
   "file_extension": ".py",
   "mimetype": "text/x-python",
   "name": "python",
   "nbconvert_exporter": "python",
   "pygments_lexer": "ipython3",
   "version": "3.11.13"
  }
 },
 "nbformat": 4,
 "nbformat_minor": 5
}
