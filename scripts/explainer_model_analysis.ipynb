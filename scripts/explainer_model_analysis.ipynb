{
 "cells": [
  {
   "cell_type": "markdown",
   "id": "d1096fab",
   "metadata": {},
   "source": [
    "# Explainer Model Performance Analysis\n",
    "\n",
    "This notebook analyzes the performance of different explainer models in generating explanations for SAE latent features. We compare models across multiple metrics including accuracy, F1 scores, token usage, and execution time.\n",
    "\n",
    "## Recent Updates\n",
    "- **Updated to 400 latents**: Changed from 100 to 400 latents to match the experiment configuration\n",
    "- **Fixed directory pattern matching**: Now handles both old (with suffix) and new (without suffix) directory naming conventions\n",
    "- **Simplified loading process**: Now uses functions from `result_analysis.py` to reduce redundancy\n",
    "- **Enhanced model support**: Updated model name mapping for better display names and added GPT-OSS-20B\n",
    "- **Bootstrapped confidence intervals**: Error bars now use 95% CI via bootstrapping (2000 resamples) instead of standard deviation\n",
    "- **Progress bars**: Added TQDM progress bars for bootstrap calculations to show progress\n",
    "- **Better variable naming**: Renamed `accuracy_df` to `performance_df` for clarity\n",
    "\n",
    "## Analysis Overview\n",
    "\n",
    "- **Accuracy Distribution**: Density plots showing accuracy distribution for each model\n",
    "- **Mean Performance**: Bar charts comparing mean accuracy across models\n",
    "- **Token Usage**: Analysis of computational efficiency and resource consumption\n",
    "- **Performance Summary**: Comprehensive comparison tables"
   ]
  },
  {
   "cell_type": "markdown",
   "id": "e60643f3",
   "metadata": {},
   "source": [
    "## 1. Setup and Configuration\n",
    "\n",
    "Import required libraries, define model name mapping for prettier display names, and set up output directories."
   ]
  },
  {
   "cell_type": "code",
   "execution_count": 1,
   "id": "934a96fd",
   "metadata": {},
   "outputs": [
    {
     "name": "stdout",
     "output_type": "stream",
     "text": [
      "Model prefix: pythiaST\n",
      "Latents count: 400\n",
      "Compare thinking modes: False\n",
      "Results directory: /home/jeremias/projects/delphi-explanations/results\n",
      "Visualizations output: /home/jeremias/projects/delphi-explanations/results/visualizations\n",
      "Experiments directory: /home/jeremias/projects/delphi-explanations/results/pythiaST/400latents\n",
      "Available experiments (400 latents):\n",
      "  - pythiaST_Llama_3_3_70B_Instruct_quantized_w4a16\n",
      "  - pythiaST_Llama_4_Scout_17B_16E_Instruct_quantized_w4a16\n",
      "  - pythiaST_Meta_Llama_3_1_8B_Instruct_GPTQ_INT4\n",
      "  - pythiaST_Qwen3_14B_quantized_w4a16\n",
      "  - pythiaST_Qwen3_32B_quantized_w4a16\n",
      "  - pythiaST_Qwen3_4B_quantized_w4a16\n",
      "  - pythiaST_gemma_3_12b_it_quantized_w4a16\n",
      "  - pythiaST_gemma_3_27b_it_quantized_w4a16\n",
      "  - pythiaST_gemma_3_4b_it_quantized_w4a16\n",
      "  - pythiaST_llama_8b_explainer\n"
     ]
    }
   ],
   "source": [
    "import sys\n",
    "import os\n",
    "import json\n",
    "from pathlib import Path\n",
    "import pandas as pd\n",
    "import numpy as np\n",
    "import torch\n",
    "from scipy import stats\n",
    "from tqdm.auto import tqdm\n",
    "\n",
    "# Add the parent directory to the path to import delphi modules\n",
    "sys.path.append(str(Path.cwd().parent))\n",
    "\n",
    "from delphi.log.result_analysis import (\n",
    "    import_plotly,\n",
    "    load_data,\n",
    "    get_agg_metrics,\n",
    "    add_latent_f1,\n",
    "    compute_confusion,\n",
    "    compute_classification_metrics,\n",
    "    frequency_weighted_f1\n",
    ")\n",
    "\n",
    "# Import plotly for plotting\n",
    "px = import_plotly()\n",
    "\n",
    "# Toggle for whether to run expensive bootstrap resampling\n",
    "ENABLE_BOOTSTRAP = True  # Set to True to run bootstrap resampling (slow)\n",
    "BOOTSTRAP_SAMPLES = 4000  # Number of bootstrap resamples when enabled\n",
    "# Confidence level for CI calculations (e.g. 0.95 for 95% CI). Make configurable.\n",
    "CONFIDENCE_LEVEL = 0.95\n",
    "\n",
    "# Configuration - Model prefix for experiment naming\n",
    "MODEL_PREFIX = \"pythiaST\"  # Change this to match your base model (e.g., \"pythia\", \"gemma\", etc.)\n",
    "LATENTS_COUNT = 400  # Number of latents used in experiments\n",
    "COMPARE_THINKING_MODES = False  # Set to True to compare both thinking and non-thinking modes (Currently broken if set to True)\n",
    "\n",
    "# Define model name mapping for prettier display - updated to match actual directory names\n",
    "MODEL_NAME_MAPPING = {\n",
    "    \"gemma_3_4b_it_quantized_w4a16\": \"Gemma3-4B\",\n",
    "    \"Qwen3_4B_quantized_w4a16\": \"Qwen3-4B\", \n",
    "    \"gemma_3_12b_it_quantized_w4a16\": \"Gemma3-12B\",\n",
    "    \"gemma_3_27b_it_quantized_w4a16\": \"Gemma3-27B\",\n",
    "    \"Qwen3_14B_quantized_w4a16\": \"Qwen3-14B\",\n",
    "    \"Qwen3_32B_quantized_w4a16\": \"Qwen3-32B\",\n",
    "    \"Qwen3_235B_A22B_GPTQ_Int4\": \"Qwen3-235B\",\n",
    "    \"Llama_3_3_70B_Instruct_quantized_w4a16\": \"Llama3.3-70B\",\n",
    "    \"Llama_3_1_70B_Instruct_NVFP4\": \"Llama3.1-70B\",\n",
    "    \"Llama_4_Scout_17B_16E_Instruct_quantized_w4a16\": \"Llama4-Scout\",\n",
    "    \"Llama_4_Maverick_17B_128E_Instruct_quantized_w4a16\": \"Llama4-Maverick\",\n",
    "    \"llama_8b_explainer\": \"Llama3-8B (Transluce)\",\n",
    "    \"Meta_Llama_3_1_8B_Instruct_GPTQ_INT4\": \"Llama3-8B\",\n",
    "    \"gpt_oss_20b\": \"GPT-OSS-20B\"\n",
    "}\n",
    "\n",
    "def load_model_results(results_dir: Path, model_mapping: dict, model_prefix: str, latents_count: int, compare_modes: bool = False):\n",
    "    \"\"\"Load results and statistics for all explainer models using functions from result_analysis.py.\"\"\"\n",
    "    model_results = {}\n",
    "    model_stats = {}\n",
    "\n",
    "    # Base directory for experiments with this latent count\n",
    "    experiments_base = results_dir / model_prefix / f\"{latents_count}latents\"\n",
    "\n",
    "    if not experiments_base.exists():\n",
    "        print(f\"Warning: Experiments directory not found: {experiments_base}\")\n",
    "        return model_results, model_stats\n",
    "\n",
    "    # Pattern for experiment directories (exclude thinking mode and hide directories)\n",
    "    # Handle both naming conventions: with and without latents suffix\n",
    "    pattern_with_suffix = f\"{model_prefix}_*_{latents_count}latents\"\n",
    "    pattern_without_suffix = f\"{model_prefix}_*\"\n",
    "    \n",
    "    all_exp_dirs = []\n",
    "    # First try directories with latents suffix (older format)\n",
    "    for exp_dir in experiments_base.glob(pattern_with_suffix):\n",
    "        if not (\"thinking\" in exp_dir.name or \"hide\" in exp_dir.name):\n",
    "            all_exp_dirs.append(exp_dir)\n",
    "    \n",
    "    # Then try directories without latents suffix (newer format)\n",
    "    if not all_exp_dirs:\n",
    "        for exp_dir in experiments_base.glob(pattern_without_suffix):\n",
    "            if (not (\"thinking\" in exp_dir.name or \"hide\" in exp_dir.name) and \n",
    "                exp_dir.name != \"cache\"):  # Exclude cache directory\n",
    "                all_exp_dirs.append(exp_dir)\n",
    "\n",
    "    for exp_dir in all_exp_dirs:\n",
    "        # Skip directories with \"thinking\" or \"hide\" in the name\n",
    "        if \"thinking\" in exp_dir.name or \"hide\" in exp_dir.name:\n",
    "            continue\n",
    "\n",
    "        # Extract model name from directory: handle both naming conventions\n",
    "        dir_name = exp_dir.name\n",
    "        if dir_name.endswith(f\"_{latents_count}latents\"):\n",
    "            # Old format: pythiaST_model_400latents\n",
    "            model_key = dir_name.replace(f\"{model_prefix}_\", \"\").replace(f\"_{latents_count}latents\", \"\")\n",
    "        else:\n",
    "            # New format: pythiaST_model\n",
    "            model_key = dir_name.replace(f\"{model_prefix}_\", \"\")\n",
    "        \n",
    "        base_display_name = model_mapping.get(model_key, model_key)\n",
    "        display_name = base_display_name\n",
    "\n",
    "        scores_path = exp_dir / \"scores\"\n",
    "        if scores_path.exists():\n",
    "            # Load scoring results using functions from result_analysis.py\n",
    "            try:\n",
    "                # All experiments now use the shared cache\n",
    "                cache_dir_name = \"cache\"\n",
    "                latents_path = experiments_base.parent / cache_dir_name / \"latents\"\n",
    "                if not latents_path.exists():\n",
    "                    latents_path = exp_dir / \"latents\"  # Fallback to local latents\n",
    "\n",
    "                if latents_path.exists():\n",
    "                    # Extract module names from the actual files\n",
    "                    sample_score_dir = next(scores_path.iterdir())\n",
    "                    sample_files = list(sample_score_dir.glob(\"*.txt\"))\n",
    "                    if sample_files:\n",
    "                        # Extract module name from filename pattern (e.g., \"layers.32_latent0.txt\" -> \"layers.32\")\n",
    "                        sample_filename = sample_files[0].stem\n",
    "                        module_name = sample_filename.split('_latent')[0]\n",
    "                        modules = [module_name]\n",
    "                    else:\n",
    "                        print(f\"No score files found in {sample_score_dir}\")\n",
    "                        continue\n",
    "\n",
    "                    # Use load_data from result_analysis.py\n",
    "                    latent_df, counts = load_data(scores_path, latents_path, modules)\n",
    "\n",
    "                    if latent_df.empty:\n",
    "                        print(f\"No data found for {display_name}\")\n",
    "                        continue\n",
    "\n",
    "                    # Use add_latent_f1 and get_agg_metrics from result_analysis.py\n",
    "                    latent_df = add_latent_f1(latent_df)\n",
    "                    processed_df = get_agg_metrics(latent_df, counts)\n",
    "\n",
    "                    model_results[display_name] = {\n",
    "                        'latent_df': latent_df,\n",
    "                        'processed_df': processed_df,\n",
    "                        'counts': counts\n",
    "                    }\n",
    "                else:\n",
    "                    print(f\"Latents path not found for {display_name}\")\n",
    "\n",
    "            except Exception as e:\n",
    "                print(f\"Error loading results for {model_key}: {e}\")\n",
    "                continue\n",
    "\n",
    "        # Load explainer statistics\n",
    "        stats_file = exp_dir / \"explainer_stats.json\"\n",
    "        if stats_file.exists():\n",
    "            try:\n",
    "                with open(stats_file, 'r') as f:\n",
    "                    stats = json.load(f)\n",
    "                    model_stats[display_name] = stats\n",
    "            except Exception as e:\n",
    "                print(f\"Error loading stats for {model_key}: {e}\")\n",
    "                model_stats[display_name] = None\n",
    "        else:\n",
    "            model_stats[display_name] = None\n",
    "\n",
    "    return model_results, model_stats\n",
    "\n",
    "# Set up directories\n",
    "results_dir = Path.cwd().parent / \"results\"\n",
    "visualizations_dir = results_dir / \"visualizations\"\n",
    "visualizations_dir.mkdir(exist_ok=True, parents=True)\n",
    "\n",
    "print(f\"Model prefix: {MODEL_PREFIX}\")\n",
    "print(f\"Latents count: {LATENTS_COUNT}\")\n",
    "print(f\"Compare thinking modes: {COMPARE_THINKING_MODES}\")\n",
    "print(f\"Results directory: {results_dir}\")\n",
    "print(f\"Visualizations output: {visualizations_dir}\")\n",
    "\n",
    "# Check if the experiments directory exists\n",
    "experiments_dir = results_dir / MODEL_PREFIX / f\"{LATENTS_COUNT}latents\"\n",
    "print(f\"Experiments directory: {experiments_dir}\")\n",
    "\n",
    "if experiments_dir.exists():\n",
    "    print(f\"Available experiments ({LATENTS_COUNT} latents):\")\n",
    "    # Handle both naming conventions: with and without latents suffix\n",
    "    pattern_with_suffix = f\"{MODEL_PREFIX}_*_{LATENTS_COUNT}latents\"\n",
    "    pattern_without_suffix = f\"{MODEL_PREFIX}_*\"\n",
    "    \n",
    "    all_exp_dirs = []\n",
    "    # First try directories with latents suffix (older format)\n",
    "    for exp_dir in sorted(experiments_dir.glob(pattern_with_suffix)):\n",
    "        if not (\"thinking\" in exp_dir.name or \"hide\" in exp_dir.name):\n",
    "            all_exp_dirs.append(exp_dir)\n",
    "    \n",
    "    # Then try directories without latents suffix (newer format)\n",
    "    if not all_exp_dirs:\n",
    "        for exp_dir in sorted(experiments_dir.glob(pattern_without_suffix)):\n",
    "            if (not (\"thinking\" in exp_dir.name or \"hide\" in exp_dir.name) and \n",
    "                exp_dir.name != \"cache\"):  # Exclude cache directory\n",
    "                all_exp_dirs.append(exp_dir)\n",
    "    \n",
    "    for exp_dir in all_exp_dirs:\n",
    "        print(f\"  - {exp_dir.name}\")\n",
    "else:\n",
    "    print(f\"Warning: Experiments directory not found: {experiments_dir}\")\n",
    "    print(\"Make sure experiments have been run with the specified latent count.\")"
   ]
  },
  {
   "cell_type": "markdown",
   "id": "e38a672b",
   "metadata": {},
   "source": [
    "## 2. Load Model Results\n",
    "\n",
    "Load explanation comparison results from all models and extract performance metrics."
   ]
  },
  {
   "cell_type": "code",
   "execution_count": 2,
   "id": "44990708",
   "metadata": {},
   "outputs": [
    {
     "name": "stdout",
     "output_type": "stream",
     "text": [
      "Loading model results...\n"
     ]
    },
    {
     "name": "stderr",
     "output_type": "stream",
     "text": [
      "/home/jeremias/projects/delphi-explanations/delphi/log/result_analysis.py:444: FutureWarning:\n",
      "\n",
      "DataFrameGroupBy.apply operated on the grouping columns. This behavior is deprecated, and in a future version of pandas the grouping columns will be excluded from the operation. Either pass `include_groups=False` to exclude the groupings or explicitly select the grouping columns after groupby to silence this warning.\n",
      "\n",
      "/home/jeremias/projects/delphi-explanations/delphi/log/result_analysis.py:444: FutureWarning:\n",
      "\n",
      "DataFrameGroupBy.apply operated on the grouping columns. This behavior is deprecated, and in a future version of pandas the grouping columns will be excluded from the operation. Either pass `include_groups=False` to exclude the groupings or explicitly select the grouping columns after groupby to silence this warning.\n",
      "\n",
      "/home/jeremias/projects/delphi-explanations/delphi/log/result_analysis.py:444: FutureWarning:\n",
      "\n",
      "DataFrameGroupBy.apply operated on the grouping columns. This behavior is deprecated, and in a future version of pandas the grouping columns will be excluded from the operation. Either pass `include_groups=False` to exclude the groupings or explicitly select the grouping columns after groupby to silence this warning.\n",
      "\n",
      "/home/jeremias/projects/delphi-explanations/delphi/log/result_analysis.py:444: FutureWarning:\n",
      "\n",
      "DataFrameGroupBy.apply operated on the grouping columns. This behavior is deprecated, and in a future version of pandas the grouping columns will be excluded from the operation. Either pass `include_groups=False` to exclude the groupings or explicitly select the grouping columns after groupby to silence this warning.\n",
      "\n",
      "/home/jeremias/projects/delphi-explanations/delphi/log/result_analysis.py:444: FutureWarning:\n",
      "\n",
      "DataFrameGroupBy.apply operated on the grouping columns. This behavior is deprecated, and in a future version of pandas the grouping columns will be excluded from the operation. Either pass `include_groups=False` to exclude the groupings or explicitly select the grouping columns after groupby to silence this warning.\n",
      "\n",
      "/home/jeremias/projects/delphi-explanations/delphi/log/result_analysis.py:444: FutureWarning:\n",
      "\n",
      "DataFrameGroupBy.apply operated on the grouping columns. This behavior is deprecated, and in a future version of pandas the grouping columns will be excluded from the operation. Either pass `include_groups=False` to exclude the groupings or explicitly select the grouping columns after groupby to silence this warning.\n",
      "\n",
      "/home/jeremias/projects/delphi-explanations/delphi/log/result_analysis.py:444: FutureWarning:\n",
      "\n",
      "DataFrameGroupBy.apply operated on the grouping columns. This behavior is deprecated, and in a future version of pandas the grouping columns will be excluded from the operation. Either pass `include_groups=False` to exclude the groupings or explicitly select the grouping columns after groupby to silence this warning.\n",
      "\n",
      "/home/jeremias/projects/delphi-explanations/delphi/log/result_analysis.py:444: FutureWarning:\n",
      "\n",
      "DataFrameGroupBy.apply operated on the grouping columns. This behavior is deprecated, and in a future version of pandas the grouping columns will be excluded from the operation. Either pass `include_groups=False` to exclude the groupings or explicitly select the grouping columns after groupby to silence this warning.\n",
      "\n",
      "/home/jeremias/projects/delphi-explanations/delphi/log/result_analysis.py:444: FutureWarning:\n",
      "\n",
      "DataFrameGroupBy.apply operated on the grouping columns. This behavior is deprecated, and in a future version of pandas the grouping columns will be excluded from the operation. Either pass `include_groups=False` to exclude the groupings or explicitly select the grouping columns after groupby to silence this warning.\n",
      "\n",
      "/home/jeremias/projects/delphi-explanations/delphi/log/result_analysis.py:444: FutureWarning:\n",
      "\n",
      "DataFrameGroupBy.apply operated on the grouping columns. This behavior is deprecated, and in a future version of pandas the grouping columns will be excluded from the operation. Either pass `include_groups=False` to exclude the groupings or explicitly select the grouping columns after groupby to silence this warning.\n",
      "\n",
      "/home/jeremias/projects/delphi-explanations/delphi/log/result_analysis.py:444: FutureWarning:\n",
      "\n",
      "DataFrameGroupBy.apply operated on the grouping columns. This behavior is deprecated, and in a future version of pandas the grouping columns will be excluded from the operation. Either pass `include_groups=False` to exclude the groupings or explicitly select the grouping columns after groupby to silence this warning.\n",
      "\n",
      "/home/jeremias/projects/delphi-explanations/delphi/log/result_analysis.py:444: FutureWarning:\n",
      "\n",
      "DataFrameGroupBy.apply operated on the grouping columns. This behavior is deprecated, and in a future version of pandas the grouping columns will be excluded from the operation. Either pass `include_groups=False` to exclude the groupings or explicitly select the grouping columns after groupby to silence this warning.\n",
      "\n",
      "/home/jeremias/projects/delphi-explanations/delphi/log/result_analysis.py:444: FutureWarning:\n",
      "\n",
      "DataFrameGroupBy.apply operated on the grouping columns. This behavior is deprecated, and in a future version of pandas the grouping columns will be excluded from the operation. Either pass `include_groups=False` to exclude the groupings or explicitly select the grouping columns after groupby to silence this warning.\n",
      "\n",
      "/home/jeremias/projects/delphi-explanations/delphi/log/result_analysis.py:444: FutureWarning:\n",
      "\n",
      "DataFrameGroupBy.apply operated on the grouping columns. This behavior is deprecated, and in a future version of pandas the grouping columns will be excluded from the operation. Either pass `include_groups=False` to exclude the groupings or explicitly select the grouping columns after groupby to silence this warning.\n",
      "\n",
      "/home/jeremias/projects/delphi-explanations/delphi/log/result_analysis.py:444: FutureWarning:\n",
      "\n",
      "DataFrameGroupBy.apply operated on the grouping columns. This behavior is deprecated, and in a future version of pandas the grouping columns will be excluded from the operation. Either pass `include_groups=False` to exclude the groupings or explicitly select the grouping columns after groupby to silence this warning.\n",
      "\n",
      "/home/jeremias/projects/delphi-explanations/delphi/log/result_analysis.py:444: FutureWarning:\n",
      "\n",
      "DataFrameGroupBy.apply operated on the grouping columns. This behavior is deprecated, and in a future version of pandas the grouping columns will be excluded from the operation. Either pass `include_groups=False` to exclude the groupings or explicitly select the grouping columns after groupby to silence this warning.\n",
      "\n",
      "/home/jeremias/projects/delphi-explanations/delphi/log/result_analysis.py:444: FutureWarning:\n",
      "\n",
      "DataFrameGroupBy.apply operated on the grouping columns. This behavior is deprecated, and in a future version of pandas the grouping columns will be excluded from the operation. Either pass `include_groups=False` to exclude the groupings or explicitly select the grouping columns after groupby to silence this warning.\n",
      "\n",
      "/home/jeremias/projects/delphi-explanations/delphi/log/result_analysis.py:444: FutureWarning:\n",
      "\n",
      "DataFrameGroupBy.apply operated on the grouping columns. This behavior is deprecated, and in a future version of pandas the grouping columns will be excluded from the operation. Either pass `include_groups=False` to exclude the groupings or explicitly select the grouping columns after groupby to silence this warning.\n",
      "\n",
      "/home/jeremias/projects/delphi-explanations/delphi/log/result_analysis.py:444: FutureWarning:\n",
      "\n",
      "DataFrameGroupBy.apply operated on the grouping columns. This behavior is deprecated, and in a future version of pandas the grouping columns will be excluded from the operation. Either pass `include_groups=False` to exclude the groupings or explicitly select the grouping columns after groupby to silence this warning.\n",
      "\n"
     ]
    },
    {
     "name": "stdout",
     "output_type": "stream",
     "text": [
      "\n",
      "Loaded results for 10 models:\n",
      "  - Qwen3-4B\n",
      "  - Gemma3-4B\n",
      "  - Gemma3-12B\n",
      "  - Gemma3-27B\n",
      "  - Qwen3-14B\n",
      "  - Qwen3-32B\n",
      "  - Llama3.3-70B\n",
      "  - Llama3-8B\n",
      "  - Llama4-Scout\n",
      "  - Llama3-8B (Transluce)\n",
      "\n",
      "Token usage statistics available for 10 models:\n",
      "  - Qwen3-4B: ['DefaultExplainer']\n",
      "  - Gemma3-4B: ['DefaultExplainer']\n",
      "  - Gemma3-12B: ['DefaultExplainer']\n",
      "  - Gemma3-27B: ['DefaultExplainer']\n",
      "  - Qwen3-14B: ['DefaultExplainer']\n",
      "  - Qwen3-32B: ['DefaultExplainer']\n",
      "  - Llama3.3-70B: ['DefaultExplainer']\n",
      "  - Llama3-8B: ['DefaultExplainer']\n",
      "  - Llama4-Scout: ['DefaultExplainer']\n",
      "  - Llama3-8B (Transluce): ['DefaultExplainer']\n",
      "\n",
      "Sample metrics from Qwen3-4B:\n",
      "  score_type  accuracy  f1_score  precision  recall\n",
      "0  detection     0.757     0.755      0.763   0.747\n",
      "1       fuzz     0.818     0.827      0.787   0.871\n"
     ]
    }
   ],
   "source": [
    "# Load all model results and statistics\n",
    "print(\"Loading model results...\")\n",
    "model_results, model_stats = load_model_results(results_dir, MODEL_NAME_MAPPING, MODEL_PREFIX, LATENTS_COUNT, COMPARE_THINKING_MODES)\n",
    "\n",
    "print(f\"\\nLoaded results for {len(model_results)} models:\")\n",
    "for model_name in model_results.keys():\n",
    "    print(f\"  - {model_name}\")\n",
    "\n",
    "print(f\"\\nToken usage statistics available for {len([k for k, v in model_stats.items() if v is not None])} models:\")\n",
    "for model_name, stats in model_stats.items():\n",
    "    if stats:\n",
    "        print(f\"  - {model_name}: {list(stats.keys())}\")\n",
    "    else:\n",
    "        print(f\"  - {model_name}: No stats available\")\n",
    "\n",
    "# Display sample metrics for the first model\n",
    "if model_results:\n",
    "    sample_model = list(model_results.keys())[0]\n",
    "    sample_data = model_results[sample_model]['processed_df']\n",
    "    print(f\"\\nSample metrics from {sample_model}:\")\n",
    "    print(sample_data[['score_type', 'accuracy', 'f1_score', 'precision', 'recall']].round(3))"
   ]
  },
  {
   "cell_type": "markdown",
   "id": "7a674b50",
   "metadata": {},
   "source": [
    "## 3. Generate Mean F1 Score Bar Charts\n",
    "\n",
    "Create bar charts displaying mean F1 scores with **bootstrapped 95% confidence intervals** (2000 resamples) for each model and score type. This provides more robust uncertainty estimates compared to standard deviation."
   ]
  },
  {
   "cell_type": "code",
   "execution_count": 3,
   "id": "0916e89d",
   "metadata": {},
   "outputs": [
    {
     "name": "stdout",
     "output_type": "stream",
     "text": [
      "Preparing frequency-weighted F1 score bar charts (bootstrapping=True)...\n",
      "Computing error bars for score type: detection (bootstrap=True)\n"
     ]
    },
    {
     "data": {
      "application/vnd.jupyter.widget-view+json": {
       "model_id": "ff826d7f18814d60ad6ecf262d4d1269",
       "version_major": 2,
       "version_minor": 0
      },
      "text/plain": [
       "Fast Bootstrapping (4000):   0%|          | 0/4000 [00:00<?, ?it/s]"
      ]
     },
     "metadata": {},
     "output_type": "display_data"
    },
    {
     "data": {
      "application/vnd.jupyter.widget-view+json": {
       "model_id": "9effabacedf64673a11fdd02bdf1c716",
       "version_major": 2,
       "version_minor": 0
      },
      "text/plain": [
       "Fast Bootstrapping (4000):   0%|          | 0/4000 [00:00<?, ?it/s]"
      ]
     },
     "metadata": {},
     "output_type": "display_data"
    },
    {
     "data": {
      "application/vnd.jupyter.widget-view+json": {
       "model_id": "f390491348804bca94c445741aa86406",
       "version_major": 2,
       "version_minor": 0
      },
      "text/plain": [
       "Fast Bootstrapping (4000):   0%|          | 0/4000 [00:00<?, ?it/s]"
      ]
     },
     "metadata": {},
     "output_type": "display_data"
    },
    {
     "data": {
      "application/vnd.jupyter.widget-view+json": {
       "model_id": "f1f5e55800e1426882411488034cd5b3",
       "version_major": 2,
       "version_minor": 0
      },
      "text/plain": [
       "Fast Bootstrapping (4000):   0%|          | 0/4000 [00:00<?, ?it/s]"
      ]
     },
     "metadata": {},
     "output_type": "display_data"
    },
    {
     "data": {
      "application/vnd.jupyter.widget-view+json": {
       "model_id": "71e77f5f08524e25b45a12b42bc0d9eb",
       "version_major": 2,
       "version_minor": 0
      },
      "text/plain": [
       "Fast Bootstrapping (4000):   0%|          | 0/4000 [00:00<?, ?it/s]"
      ]
     },
     "metadata": {},
     "output_type": "display_data"
    },
    {
     "data": {
      "application/vnd.jupyter.widget-view+json": {
       "model_id": "0cd404befe8244ffb963c74ad5c1e109",
       "version_major": 2,
       "version_minor": 0
      },
      "text/plain": [
       "Fast Bootstrapping (4000):   0%|          | 0/4000 [00:00<?, ?it/s]"
      ]
     },
     "metadata": {},
     "output_type": "display_data"
    },
    {
     "data": {
      "application/vnd.jupyter.widget-view+json": {
       "model_id": "149776543b074229bcb61d9289c5d867",
       "version_major": 2,
       "version_minor": 0
      },
      "text/plain": [
       "Fast Bootstrapping (4000):   0%|          | 0/4000 [00:00<?, ?it/s]"
      ]
     },
     "metadata": {},
     "output_type": "display_data"
    },
    {
     "data": {
      "application/vnd.jupyter.widget-view+json": {
       "model_id": "a6a3eacc385e4662b61265118aca8723",
       "version_major": 2,
       "version_minor": 0
      },
      "text/plain": [
       "Fast Bootstrapping (4000):   0%|          | 0/4000 [00:00<?, ?it/s]"
      ]
     },
     "metadata": {},
     "output_type": "display_data"
    },
    {
     "data": {
      "application/vnd.jupyter.widget-view+json": {
       "model_id": "73c816bdc6574515ad727e8958ecaa99",
       "version_major": 2,
       "version_minor": 0
      },
      "text/plain": [
       "Fast Bootstrapping (4000):   0%|          | 0/4000 [00:00<?, ?it/s]"
      ]
     },
     "metadata": {},
     "output_type": "display_data"
    },
    {
     "data": {
      "application/vnd.jupyter.widget-view+json": {
       "model_id": "4e71753f9de544ccbe7fa5317fde1108",
       "version_major": 2,
       "version_minor": 0
      },
      "text/plain": [
       "Fast Bootstrapping (4000):   0%|          | 0/4000 [00:00<?, ?it/s]"
      ]
     },
     "metadata": {},
     "output_type": "display_data"
    },
    {
     "name": "stdout",
     "output_type": "stream",
     "text": [
      "Computing error bars for score type: fuzz (bootstrap=True)\n"
     ]
    },
    {
     "data": {
      "application/vnd.jupyter.widget-view+json": {
       "model_id": "33c2577e05fd487e8fc530407108ff4d",
       "version_major": 2,
       "version_minor": 0
      },
      "text/plain": [
       "Fast Bootstrapping (4000):   0%|          | 0/4000 [00:00<?, ?it/s]"
      ]
     },
     "metadata": {},
     "output_type": "display_data"
    },
    {
     "data": {
      "application/vnd.jupyter.widget-view+json": {
       "model_id": "f69c8786738f41b0839a17bb63f0ab94",
       "version_major": 2,
       "version_minor": 0
      },
      "text/plain": [
       "Fast Bootstrapping (4000):   0%|          | 0/4000 [00:00<?, ?it/s]"
      ]
     },
     "metadata": {},
     "output_type": "display_data"
    },
    {
     "data": {
      "application/vnd.jupyter.widget-view+json": {
       "model_id": "9b08be3b623f43b995b02e16cc993bd6",
       "version_major": 2,
       "version_minor": 0
      },
      "text/plain": [
       "Fast Bootstrapping (4000):   0%|          | 0/4000 [00:00<?, ?it/s]"
      ]
     },
     "metadata": {},
     "output_type": "display_data"
    },
    {
     "data": {
      "application/vnd.jupyter.widget-view+json": {
       "model_id": "e9885d3ecb2448ef9feb94ce9d71170b",
       "version_major": 2,
       "version_minor": 0
      },
      "text/plain": [
       "Fast Bootstrapping (4000):   0%|          | 0/4000 [00:00<?, ?it/s]"
      ]
     },
     "metadata": {},
     "output_type": "display_data"
    },
    {
     "data": {
      "application/vnd.jupyter.widget-view+json": {
       "model_id": "54b4584508bf453aadc80bc22b7b00d3",
       "version_major": 2,
       "version_minor": 0
      },
      "text/plain": [
       "Fast Bootstrapping (4000):   0%|          | 0/4000 [00:00<?, ?it/s]"
      ]
     },
     "metadata": {},
     "output_type": "display_data"
    },
    {
     "data": {
      "application/vnd.jupyter.widget-view+json": {
       "model_id": "4ccf8b84db6b456ea47db329e05eb885",
       "version_major": 2,
       "version_minor": 0
      },
      "text/plain": [
       "Fast Bootstrapping (4000):   0%|          | 0/4000 [00:00<?, ?it/s]"
      ]
     },
     "metadata": {},
     "output_type": "display_data"
    },
    {
     "data": {
      "application/vnd.jupyter.widget-view+json": {
       "model_id": "bf99005c641c4429b80b1e494dfa0064",
       "version_major": 2,
       "version_minor": 0
      },
      "text/plain": [
       "Fast Bootstrapping (4000):   0%|          | 0/4000 [00:00<?, ?it/s]"
      ]
     },
     "metadata": {},
     "output_type": "display_data"
    },
    {
     "data": {
      "application/vnd.jupyter.widget-view+json": {
       "model_id": "4e1576ea585b4d889a5080a801c2b8b9",
       "version_major": 2,
       "version_minor": 0
      },
      "text/plain": [
       "Fast Bootstrapping (4000):   0%|          | 0/4000 [00:00<?, ?it/s]"
      ]
     },
     "metadata": {},
     "output_type": "display_data"
    },
    {
     "data": {
      "application/vnd.jupyter.widget-view+json": {
       "model_id": "c64c5d522d0c4062804d10dbcc8239fd",
       "version_major": 2,
       "version_minor": 0
      },
      "text/plain": [
       "Fast Bootstrapping (4000):   0%|          | 0/4000 [00:00<?, ?it/s]"
      ]
     },
     "metadata": {},
     "output_type": "display_data"
    },
    {
     "data": {
      "application/vnd.jupyter.widget-view+json": {
       "model_id": "b4747dacd8bb40aaa8765da5c6353db7",
       "version_major": 2,
       "version_minor": 0
      },
      "text/plain": [
       "Fast Bootstrapping (4000):   0%|          | 0/4000 [00:00<?, ?it/s]"
      ]
     },
     "metadata": {},
     "output_type": "display_data"
    },
    {
     "data": {
      "application/vnd.plotly.v1+json": {
       "config": {
        "plotlyServerURL": "https://plot.ly"
       },
       "data": [
        {
         "error_y": {
          "array": {
           "bdata": "4MKc37eZnz+AYCDR5QaeP2CSUa8Gx5s/gK22al9vnD9AtacAdbyVP5DT77hzyqU/8MqAe32vqD/wxGGvj4+hP+DiNTO7IZk/sDLnHIdrsD8=",
           "dtype": "f8"
          },
          "arrayminus": {
           "bdata": "gCPjspWvlz8AhOqOAtWVP0AjckFmbpY/IETNTgwlmj+At3R+IZuQPwDFKF2O8aM/sCbDbSVWrT9gVBGEY8KcP6Cg2HWoXpg/NDoBLDo6sD8=",
           "dtype": "f8"
          },
          "symmetric": false,
          "type": "data"
         },
         "hovertemplate": "model=%{x}<br>frequency_weighted_f1=%{text}<extra></extra>",
         "legendgroup": "",
         "marker": {
          "color": "#636efa",
          "pattern": {
           "shape": ""
          }
         },
         "name": "",
         "orientation": "v",
         "showlegend": false,
         "text": {
          "bdata": "AAAAYFTg5T8AAABgKdLlPwAAAIBUSeU/AAAAoN0t5T8AAACg4+rkPwAAAIDjeeQ/AAAAAIZB5D8AAABASBjkPwAAACDBJeI/AAAAAI8Q4T8=",
          "dtype": "f8"
         },
         "textposition": "outside",
         "texttemplate": "%{text:.3f}",
         "type": "bar",
         "x": [
          "Gemma3-27B",
          "Qwen3-32B",
          "Gemma3-12B",
          "Qwen3-14B",
          "Qwen3-4B",
          "Llama4-Scout",
          "Llama3.3-70B",
          "Llama3-8B",
          "Gemma3-4B",
          "Llama3-8B (Transluce)"
         ],
         "xaxis": "x",
         "y": {
          "bdata": "AAAAYFTg5T8AAABgKdLlPwAAAIBUSeU/AAAAoN0t5T8AAACg4+rkPwAAAIDjeeQ/AAAAAIZB5D8AAABASBjkPwAAACDBJeI/AAAAAI8Q4T8=",
          "dtype": "f8"
         },
         "yaxis": "y"
        }
       ],
       "layout": {
        "barmode": "relative",
        "height": 500,
        "legend": {
         "tracegroupgap": 0
        },
        "template": {
         "data": {
          "bar": [
           {
            "error_x": {
             "color": "#2a3f5f"
            },
            "error_y": {
             "color": "#2a3f5f"
            },
            "marker": {
             "line": {
              "color": "#E5ECF6",
              "width": 0.5
             },
             "pattern": {
              "fillmode": "overlay",
              "size": 10,
              "solidity": 0.2
             }
            },
            "type": "bar"
           }
          ],
          "barpolar": [
           {
            "marker": {
             "line": {
              "color": "#E5ECF6",
              "width": 0.5
             },
             "pattern": {
              "fillmode": "overlay",
              "size": 10,
              "solidity": 0.2
             }
            },
            "type": "barpolar"
           }
          ],
          "carpet": [
           {
            "aaxis": {
             "endlinecolor": "#2a3f5f",
             "gridcolor": "white",
             "linecolor": "white",
             "minorgridcolor": "white",
             "startlinecolor": "#2a3f5f"
            },
            "baxis": {
             "endlinecolor": "#2a3f5f",
             "gridcolor": "white",
             "linecolor": "white",
             "minorgridcolor": "white",
             "startlinecolor": "#2a3f5f"
            },
            "type": "carpet"
           }
          ],
          "choropleth": [
           {
            "colorbar": {
             "outlinewidth": 0,
             "ticks": ""
            },
            "type": "choropleth"
           }
          ],
          "contour": [
           {
            "colorbar": {
             "outlinewidth": 0,
             "ticks": ""
            },
            "colorscale": [
             [
              0,
              "#0d0887"
             ],
             [
              0.1111111111111111,
              "#46039f"
             ],
             [
              0.2222222222222222,
              "#7201a8"
             ],
             [
              0.3333333333333333,
              "#9c179e"
             ],
             [
              0.4444444444444444,
              "#bd3786"
             ],
             [
              0.5555555555555556,
              "#d8576b"
             ],
             [
              0.6666666666666666,
              "#ed7953"
             ],
             [
              0.7777777777777778,
              "#fb9f3a"
             ],
             [
              0.8888888888888888,
              "#fdca26"
             ],
             [
              1,
              "#f0f921"
             ]
            ],
            "type": "contour"
           }
          ],
          "contourcarpet": [
           {
            "colorbar": {
             "outlinewidth": 0,
             "ticks": ""
            },
            "type": "contourcarpet"
           }
          ],
          "heatmap": [
           {
            "colorbar": {
             "outlinewidth": 0,
             "ticks": ""
            },
            "colorscale": [
             [
              0,
              "#0d0887"
             ],
             [
              0.1111111111111111,
              "#46039f"
             ],
             [
              0.2222222222222222,
              "#7201a8"
             ],
             [
              0.3333333333333333,
              "#9c179e"
             ],
             [
              0.4444444444444444,
              "#bd3786"
             ],
             [
              0.5555555555555556,
              "#d8576b"
             ],
             [
              0.6666666666666666,
              "#ed7953"
             ],
             [
              0.7777777777777778,
              "#fb9f3a"
             ],
             [
              0.8888888888888888,
              "#fdca26"
             ],
             [
              1,
              "#f0f921"
             ]
            ],
            "type": "heatmap"
           }
          ],
          "histogram": [
           {
            "marker": {
             "pattern": {
              "fillmode": "overlay",
              "size": 10,
              "solidity": 0.2
             }
            },
            "type": "histogram"
           }
          ],
          "histogram2d": [
           {
            "colorbar": {
             "outlinewidth": 0,
             "ticks": ""
            },
            "colorscale": [
             [
              0,
              "#0d0887"
             ],
             [
              0.1111111111111111,
              "#46039f"
             ],
             [
              0.2222222222222222,
              "#7201a8"
             ],
             [
              0.3333333333333333,
              "#9c179e"
             ],
             [
              0.4444444444444444,
              "#bd3786"
             ],
             [
              0.5555555555555556,
              "#d8576b"
             ],
             [
              0.6666666666666666,
              "#ed7953"
             ],
             [
              0.7777777777777778,
              "#fb9f3a"
             ],
             [
              0.8888888888888888,
              "#fdca26"
             ],
             [
              1,
              "#f0f921"
             ]
            ],
            "type": "histogram2d"
           }
          ],
          "histogram2dcontour": [
           {
            "colorbar": {
             "outlinewidth": 0,
             "ticks": ""
            },
            "colorscale": [
             [
              0,
              "#0d0887"
             ],
             [
              0.1111111111111111,
              "#46039f"
             ],
             [
              0.2222222222222222,
              "#7201a8"
             ],
             [
              0.3333333333333333,
              "#9c179e"
             ],
             [
              0.4444444444444444,
              "#bd3786"
             ],
             [
              0.5555555555555556,
              "#d8576b"
             ],
             [
              0.6666666666666666,
              "#ed7953"
             ],
             [
              0.7777777777777778,
              "#fb9f3a"
             ],
             [
              0.8888888888888888,
              "#fdca26"
             ],
             [
              1,
              "#f0f921"
             ]
            ],
            "type": "histogram2dcontour"
           }
          ],
          "mesh3d": [
           {
            "colorbar": {
             "outlinewidth": 0,
             "ticks": ""
            },
            "type": "mesh3d"
           }
          ],
          "parcoords": [
           {
            "line": {
             "colorbar": {
              "outlinewidth": 0,
              "ticks": ""
             }
            },
            "type": "parcoords"
           }
          ],
          "pie": [
           {
            "automargin": true,
            "type": "pie"
           }
          ],
          "scatter": [
           {
            "fillpattern": {
             "fillmode": "overlay",
             "size": 10,
             "solidity": 0.2
            },
            "type": "scatter"
           }
          ],
          "scatter3d": [
           {
            "line": {
             "colorbar": {
              "outlinewidth": 0,
              "ticks": ""
             }
            },
            "marker": {
             "colorbar": {
              "outlinewidth": 0,
              "ticks": ""
             }
            },
            "type": "scatter3d"
           }
          ],
          "scattercarpet": [
           {
            "marker": {
             "colorbar": {
              "outlinewidth": 0,
              "ticks": ""
             }
            },
            "type": "scattercarpet"
           }
          ],
          "scattergeo": [
           {
            "marker": {
             "colorbar": {
              "outlinewidth": 0,
              "ticks": ""
             }
            },
            "type": "scattergeo"
           }
          ],
          "scattergl": [
           {
            "marker": {
             "colorbar": {
              "outlinewidth": 0,
              "ticks": ""
             }
            },
            "type": "scattergl"
           }
          ],
          "scattermap": [
           {
            "marker": {
             "colorbar": {
              "outlinewidth": 0,
              "ticks": ""
             }
            },
            "type": "scattermap"
           }
          ],
          "scattermapbox": [
           {
            "marker": {
             "colorbar": {
              "outlinewidth": 0,
              "ticks": ""
             }
            },
            "type": "scattermapbox"
           }
          ],
          "scatterpolar": [
           {
            "marker": {
             "colorbar": {
              "outlinewidth": 0,
              "ticks": ""
             }
            },
            "type": "scatterpolar"
           }
          ],
          "scatterpolargl": [
           {
            "marker": {
             "colorbar": {
              "outlinewidth": 0,
              "ticks": ""
             }
            },
            "type": "scatterpolargl"
           }
          ],
          "scatterternary": [
           {
            "marker": {
             "colorbar": {
              "outlinewidth": 0,
              "ticks": ""
             }
            },
            "type": "scatterternary"
           }
          ],
          "surface": [
           {
            "colorbar": {
             "outlinewidth": 0,
             "ticks": ""
            },
            "colorscale": [
             [
              0,
              "#0d0887"
             ],
             [
              0.1111111111111111,
              "#46039f"
             ],
             [
              0.2222222222222222,
              "#7201a8"
             ],
             [
              0.3333333333333333,
              "#9c179e"
             ],
             [
              0.4444444444444444,
              "#bd3786"
             ],
             [
              0.5555555555555556,
              "#d8576b"
             ],
             [
              0.6666666666666666,
              "#ed7953"
             ],
             [
              0.7777777777777778,
              "#fb9f3a"
             ],
             [
              0.8888888888888888,
              "#fdca26"
             ],
             [
              1,
              "#f0f921"
             ]
            ],
            "type": "surface"
           }
          ],
          "table": [
           {
            "cells": {
             "fill": {
              "color": "#EBF0F8"
             },
             "line": {
              "color": "white"
             }
            },
            "header": {
             "fill": {
              "color": "#C8D4E3"
             },
             "line": {
              "color": "white"
             }
            },
            "type": "table"
           }
          ]
         },
         "layout": {
          "annotationdefaults": {
           "arrowcolor": "#2a3f5f",
           "arrowhead": 0,
           "arrowwidth": 1
          },
          "autotypenumbers": "strict",
          "coloraxis": {
           "colorbar": {
            "outlinewidth": 0,
            "ticks": ""
           }
          },
          "colorscale": {
           "diverging": [
            [
             0,
             "#8e0152"
            ],
            [
             0.1,
             "#c51b7d"
            ],
            [
             0.2,
             "#de77ae"
            ],
            [
             0.3,
             "#f1b6da"
            ],
            [
             0.4,
             "#fde0ef"
            ],
            [
             0.5,
             "#f7f7f7"
            ],
            [
             0.6,
             "#e6f5d0"
            ],
            [
             0.7,
             "#b8e186"
            ],
            [
             0.8,
             "#7fbc41"
            ],
            [
             0.9,
             "#4d9221"
            ],
            [
             1,
             "#276419"
            ]
           ],
           "sequential": [
            [
             0,
             "#0d0887"
            ],
            [
             0.1111111111111111,
             "#46039f"
            ],
            [
             0.2222222222222222,
             "#7201a8"
            ],
            [
             0.3333333333333333,
             "#9c179e"
            ],
            [
             0.4444444444444444,
             "#bd3786"
            ],
            [
             0.5555555555555556,
             "#d8576b"
            ],
            [
             0.6666666666666666,
             "#ed7953"
            ],
            [
             0.7777777777777778,
             "#fb9f3a"
            ],
            [
             0.8888888888888888,
             "#fdca26"
            ],
            [
             1,
             "#f0f921"
            ]
           ],
           "sequentialminus": [
            [
             0,
             "#0d0887"
            ],
            [
             0.1111111111111111,
             "#46039f"
            ],
            [
             0.2222222222222222,
             "#7201a8"
            ],
            [
             0.3333333333333333,
             "#9c179e"
            ],
            [
             0.4444444444444444,
             "#bd3786"
            ],
            [
             0.5555555555555556,
             "#d8576b"
            ],
            [
             0.6666666666666666,
             "#ed7953"
            ],
            [
             0.7777777777777778,
             "#fb9f3a"
            ],
            [
             0.8888888888888888,
             "#fdca26"
            ],
            [
             1,
             "#f0f921"
            ]
           ]
          },
          "colorway": [
           "#636efa",
           "#EF553B",
           "#00cc96",
           "#ab63fa",
           "#FFA15A",
           "#19d3f3",
           "#FF6692",
           "#B6E880",
           "#FF97FF",
           "#FECB52"
          ],
          "font": {
           "color": "#2a3f5f"
          },
          "geo": {
           "bgcolor": "white",
           "lakecolor": "white",
           "landcolor": "#E5ECF6",
           "showlakes": true,
           "showland": true,
           "subunitcolor": "white"
          },
          "hoverlabel": {
           "align": "left"
          },
          "hovermode": "closest",
          "mapbox": {
           "style": "light"
          },
          "paper_bgcolor": "white",
          "plot_bgcolor": "#E5ECF6",
          "polar": {
           "angularaxis": {
            "gridcolor": "white",
            "linecolor": "white",
            "ticks": ""
           },
           "bgcolor": "#E5ECF6",
           "radialaxis": {
            "gridcolor": "white",
            "linecolor": "white",
            "ticks": ""
           }
          },
          "scene": {
           "xaxis": {
            "backgroundcolor": "#E5ECF6",
            "gridcolor": "white",
            "gridwidth": 2,
            "linecolor": "white",
            "showbackground": true,
            "ticks": "",
            "zerolinecolor": "white"
           },
           "yaxis": {
            "backgroundcolor": "#E5ECF6",
            "gridcolor": "white",
            "gridwidth": 2,
            "linecolor": "white",
            "showbackground": true,
            "ticks": "",
            "zerolinecolor": "white"
           },
           "zaxis": {
            "backgroundcolor": "#E5ECF6",
            "gridcolor": "white",
            "gridwidth": 2,
            "linecolor": "white",
            "showbackground": true,
            "ticks": "",
            "zerolinecolor": "white"
           }
          },
          "shapedefaults": {
           "line": {
            "color": "#2a3f5f"
           }
          },
          "ternary": {
           "aaxis": {
            "gridcolor": "white",
            "linecolor": "white",
            "ticks": ""
           },
           "baxis": {
            "gridcolor": "white",
            "linecolor": "white",
            "ticks": ""
           },
           "bgcolor": "#E5ECF6",
           "caxis": {
            "gridcolor": "white",
            "linecolor": "white",
            "ticks": ""
           }
          },
          "title": {
           "x": 0.05
          },
          "xaxis": {
           "automargin": true,
           "gridcolor": "white",
           "linecolor": "white",
           "ticks": "",
           "title": {
            "standoff": 15
           },
           "zerolinecolor": "white",
           "zerolinewidth": 2
          },
          "yaxis": {
           "automargin": true,
           "gridcolor": "white",
           "linecolor": "white",
           "ticks": "",
           "title": {
            "standoff": 15
           },
           "zerolinecolor": "white",
           "zerolinewidth": 2
          }
         }
        },
        "title": {
         "text": "Frequency-Weighted F1 Score by Model - Detection (95% CI)"
        },
        "xaxis": {
         "anchor": "y",
         "domain": [
          0,
          1
         ],
         "tickangle": 45,
         "title": {
          "text": "Model"
         }
        },
        "yaxis": {
         "anchor": "x",
         "domain": [
          0,
          1
         ],
         "range": [
          0,
          1
         ],
         "title": {
          "text": "Frequency-Weighted F1 Score (95% CI)"
         }
        }
       }
      }
     },
     "metadata": {},
     "output_type": "display_data"
    },
    {
     "name": "stderr",
     "output_type": "stream",
     "text": [
      "/tmp/ipykernel_908142/3945258560.py:226: DeprecationWarning:\n",
      "\n",
      "\n",
      "Support for Kaleido versions less than 1.0.0 is deprecated and will be removed after September 2025.\n",
      "Please upgrade Kaleido to version 1.0.0 or greater (`pip install 'kaleido>=1.0.0'` or `pip install 'plotly[kaleido]'`).\n",
      "\n",
      "\n"
     ]
    },
    {
     "name": "stdout",
     "output_type": "stream",
     "text": [
      "Saved Frequency-Weighted F1 bar chart: /home/jeremias/projects/delphi-explanations/results/visualizations/freq_weighted_f1_bar_detection.pdf\n"
     ]
    },
    {
     "name": "stderr",
     "output_type": "stream",
     "text": [
      "/tmp/ipykernel_908142/3945258560.py:227: DeprecationWarning:\n",
      "\n",
      "\n",
      "Support for Kaleido versions less than 1.0.0 is deprecated and will be removed after September 2025.\n",
      "Please upgrade Kaleido to version 1.0.0 or greater (`pip install 'kaleido>=1.0.0'` or `pip install 'plotly[kaleido]'`).\n",
      "\n",
      "\n"
     ]
    },
    {
     "data": {
      "application/vnd.plotly.v1+json": {
       "config": {
        "plotlyServerURL": "https://plot.ly"
       },
       "data": [
        {
         "error_y": {
          "array": {
           "bdata": "yOSYwIlRsD9gnIAakVGnP6Ds4WpDdqQ/oKQtddwWrD/49TLYcR2zP+A2zGy355A/qJEloi5Vtj849Bgt5yewP7heJ9mBB7k/uFlxLfZ1tT8=",
           "dtype": "f8"
          },
          "arrayminus": {
           "bdata": "YExAzQjIqT/QN0wAwYGgP8B7RYPW7Z0/EIccdog9pj9orEMnC1qwP8BpRvt375U/UKkl34LPsz9g1hoM+w2sPzD3WlxQkbM/CEWgBAMdsT8=",
           "dtype": "f8"
          },
          "symmetric": false,
          "type": "data"
         },
         "hovertemplate": "model=%{x}<br>frequency_weighted_f1=%{text}<extra></extra>",
         "legendgroup": "",
         "marker": {
          "color": "#636efa",
          "pattern": {
           "shape": ""
          }
         },
         "name": "",
         "orientation": "v",
         "showlegend": false,
         "text": {
          "bdata": "AAAAgMU26D8AAACAz+nnPwAAAKCe/OY/AAAAAFOi5j8AAACAEGflPwAAAKDlAuQ/AAAAwJrw4z8AAAAg58jjPwAAAIB/7+I/AAAAwAPF4j8=",
          "dtype": "f8"
         },
         "textposition": "outside",
         "texttemplate": "%{text:.3f}",
         "type": "bar",
         "x": [
          "Qwen3-32B",
          "Gemma3-27B",
          "Qwen3-4B",
          "Llama4-Scout",
          "Llama3.3-70B",
          "Gemma3-4B",
          "Llama3-8B (Transluce)",
          "Gemma3-12B",
          "Qwen3-14B",
          "Llama3-8B"
         ],
         "xaxis": "x",
         "y": {
          "bdata": "AAAAgMU26D8AAACAz+nnPwAAAKCe/OY/AAAAAFOi5j8AAACAEGflPwAAAKDlAuQ/AAAAwJrw4z8AAAAg58jjPwAAAIB/7+I/AAAAwAPF4j8=",
          "dtype": "f8"
         },
         "yaxis": "y"
        }
       ],
       "layout": {
        "barmode": "relative",
        "height": 500,
        "legend": {
         "tracegroupgap": 0
        },
        "template": {
         "data": {
          "bar": [
           {
            "error_x": {
             "color": "#2a3f5f"
            },
            "error_y": {
             "color": "#2a3f5f"
            },
            "marker": {
             "line": {
              "color": "#E5ECF6",
              "width": 0.5
             },
             "pattern": {
              "fillmode": "overlay",
              "size": 10,
              "solidity": 0.2
             }
            },
            "type": "bar"
           }
          ],
          "barpolar": [
           {
            "marker": {
             "line": {
              "color": "#E5ECF6",
              "width": 0.5
             },
             "pattern": {
              "fillmode": "overlay",
              "size": 10,
              "solidity": 0.2
             }
            },
            "type": "barpolar"
           }
          ],
          "carpet": [
           {
            "aaxis": {
             "endlinecolor": "#2a3f5f",
             "gridcolor": "white",
             "linecolor": "white",
             "minorgridcolor": "white",
             "startlinecolor": "#2a3f5f"
            },
            "baxis": {
             "endlinecolor": "#2a3f5f",
             "gridcolor": "white",
             "linecolor": "white",
             "minorgridcolor": "white",
             "startlinecolor": "#2a3f5f"
            },
            "type": "carpet"
           }
          ],
          "choropleth": [
           {
            "colorbar": {
             "outlinewidth": 0,
             "ticks": ""
            },
            "type": "choropleth"
           }
          ],
          "contour": [
           {
            "colorbar": {
             "outlinewidth": 0,
             "ticks": ""
            },
            "colorscale": [
             [
              0,
              "#0d0887"
             ],
             [
              0.1111111111111111,
              "#46039f"
             ],
             [
              0.2222222222222222,
              "#7201a8"
             ],
             [
              0.3333333333333333,
              "#9c179e"
             ],
             [
              0.4444444444444444,
              "#bd3786"
             ],
             [
              0.5555555555555556,
              "#d8576b"
             ],
             [
              0.6666666666666666,
              "#ed7953"
             ],
             [
              0.7777777777777778,
              "#fb9f3a"
             ],
             [
              0.8888888888888888,
              "#fdca26"
             ],
             [
              1,
              "#f0f921"
             ]
            ],
            "type": "contour"
           }
          ],
          "contourcarpet": [
           {
            "colorbar": {
             "outlinewidth": 0,
             "ticks": ""
            },
            "type": "contourcarpet"
           }
          ],
          "heatmap": [
           {
            "colorbar": {
             "outlinewidth": 0,
             "ticks": ""
            },
            "colorscale": [
             [
              0,
              "#0d0887"
             ],
             [
              0.1111111111111111,
              "#46039f"
             ],
             [
              0.2222222222222222,
              "#7201a8"
             ],
             [
              0.3333333333333333,
              "#9c179e"
             ],
             [
              0.4444444444444444,
              "#bd3786"
             ],
             [
              0.5555555555555556,
              "#d8576b"
             ],
             [
              0.6666666666666666,
              "#ed7953"
             ],
             [
              0.7777777777777778,
              "#fb9f3a"
             ],
             [
              0.8888888888888888,
              "#fdca26"
             ],
             [
              1,
              "#f0f921"
             ]
            ],
            "type": "heatmap"
           }
          ],
          "histogram": [
           {
            "marker": {
             "pattern": {
              "fillmode": "overlay",
              "size": 10,
              "solidity": 0.2
             }
            },
            "type": "histogram"
           }
          ],
          "histogram2d": [
           {
            "colorbar": {
             "outlinewidth": 0,
             "ticks": ""
            },
            "colorscale": [
             [
              0,
              "#0d0887"
             ],
             [
              0.1111111111111111,
              "#46039f"
             ],
             [
              0.2222222222222222,
              "#7201a8"
             ],
             [
              0.3333333333333333,
              "#9c179e"
             ],
             [
              0.4444444444444444,
              "#bd3786"
             ],
             [
              0.5555555555555556,
              "#d8576b"
             ],
             [
              0.6666666666666666,
              "#ed7953"
             ],
             [
              0.7777777777777778,
              "#fb9f3a"
             ],
             [
              0.8888888888888888,
              "#fdca26"
             ],
             [
              1,
              "#f0f921"
             ]
            ],
            "type": "histogram2d"
           }
          ],
          "histogram2dcontour": [
           {
            "colorbar": {
             "outlinewidth": 0,
             "ticks": ""
            },
            "colorscale": [
             [
              0,
              "#0d0887"
             ],
             [
              0.1111111111111111,
              "#46039f"
             ],
             [
              0.2222222222222222,
              "#7201a8"
             ],
             [
              0.3333333333333333,
              "#9c179e"
             ],
             [
              0.4444444444444444,
              "#bd3786"
             ],
             [
              0.5555555555555556,
              "#d8576b"
             ],
             [
              0.6666666666666666,
              "#ed7953"
             ],
             [
              0.7777777777777778,
              "#fb9f3a"
             ],
             [
              0.8888888888888888,
              "#fdca26"
             ],
             [
              1,
              "#f0f921"
             ]
            ],
            "type": "histogram2dcontour"
           }
          ],
          "mesh3d": [
           {
            "colorbar": {
             "outlinewidth": 0,
             "ticks": ""
            },
            "type": "mesh3d"
           }
          ],
          "parcoords": [
           {
            "line": {
             "colorbar": {
              "outlinewidth": 0,
              "ticks": ""
             }
            },
            "type": "parcoords"
           }
          ],
          "pie": [
           {
            "automargin": true,
            "type": "pie"
           }
          ],
          "scatter": [
           {
            "fillpattern": {
             "fillmode": "overlay",
             "size": 10,
             "solidity": 0.2
            },
            "type": "scatter"
           }
          ],
          "scatter3d": [
           {
            "line": {
             "colorbar": {
              "outlinewidth": 0,
              "ticks": ""
             }
            },
            "marker": {
             "colorbar": {
              "outlinewidth": 0,
              "ticks": ""
             }
            },
            "type": "scatter3d"
           }
          ],
          "scattercarpet": [
           {
            "marker": {
             "colorbar": {
              "outlinewidth": 0,
              "ticks": ""
             }
            },
            "type": "scattercarpet"
           }
          ],
          "scattergeo": [
           {
            "marker": {
             "colorbar": {
              "outlinewidth": 0,
              "ticks": ""
             }
            },
            "type": "scattergeo"
           }
          ],
          "scattergl": [
           {
            "marker": {
             "colorbar": {
              "outlinewidth": 0,
              "ticks": ""
             }
            },
            "type": "scattergl"
           }
          ],
          "scattermap": [
           {
            "marker": {
             "colorbar": {
              "outlinewidth": 0,
              "ticks": ""
             }
            },
            "type": "scattermap"
           }
          ],
          "scattermapbox": [
           {
            "marker": {
             "colorbar": {
              "outlinewidth": 0,
              "ticks": ""
             }
            },
            "type": "scattermapbox"
           }
          ],
          "scatterpolar": [
           {
            "marker": {
             "colorbar": {
              "outlinewidth": 0,
              "ticks": ""
             }
            },
            "type": "scatterpolar"
           }
          ],
          "scatterpolargl": [
           {
            "marker": {
             "colorbar": {
              "outlinewidth": 0,
              "ticks": ""
             }
            },
            "type": "scatterpolargl"
           }
          ],
          "scatterternary": [
           {
            "marker": {
             "colorbar": {
              "outlinewidth": 0,
              "ticks": ""
             }
            },
            "type": "scatterternary"
           }
          ],
          "surface": [
           {
            "colorbar": {
             "outlinewidth": 0,
             "ticks": ""
            },
            "colorscale": [
             [
              0,
              "#0d0887"
             ],
             [
              0.1111111111111111,
              "#46039f"
             ],
             [
              0.2222222222222222,
              "#7201a8"
             ],
             [
              0.3333333333333333,
              "#9c179e"
             ],
             [
              0.4444444444444444,
              "#bd3786"
             ],
             [
              0.5555555555555556,
              "#d8576b"
             ],
             [
              0.6666666666666666,
              "#ed7953"
             ],
             [
              0.7777777777777778,
              "#fb9f3a"
             ],
             [
              0.8888888888888888,
              "#fdca26"
             ],
             [
              1,
              "#f0f921"
             ]
            ],
            "type": "surface"
           }
          ],
          "table": [
           {
            "cells": {
             "fill": {
              "color": "#EBF0F8"
             },
             "line": {
              "color": "white"
             }
            },
            "header": {
             "fill": {
              "color": "#C8D4E3"
             },
             "line": {
              "color": "white"
             }
            },
            "type": "table"
           }
          ]
         },
         "layout": {
          "annotationdefaults": {
           "arrowcolor": "#2a3f5f",
           "arrowhead": 0,
           "arrowwidth": 1
          },
          "autotypenumbers": "strict",
          "coloraxis": {
           "colorbar": {
            "outlinewidth": 0,
            "ticks": ""
           }
          },
          "colorscale": {
           "diverging": [
            [
             0,
             "#8e0152"
            ],
            [
             0.1,
             "#c51b7d"
            ],
            [
             0.2,
             "#de77ae"
            ],
            [
             0.3,
             "#f1b6da"
            ],
            [
             0.4,
             "#fde0ef"
            ],
            [
             0.5,
             "#f7f7f7"
            ],
            [
             0.6,
             "#e6f5d0"
            ],
            [
             0.7,
             "#b8e186"
            ],
            [
             0.8,
             "#7fbc41"
            ],
            [
             0.9,
             "#4d9221"
            ],
            [
             1,
             "#276419"
            ]
           ],
           "sequential": [
            [
             0,
             "#0d0887"
            ],
            [
             0.1111111111111111,
             "#46039f"
            ],
            [
             0.2222222222222222,
             "#7201a8"
            ],
            [
             0.3333333333333333,
             "#9c179e"
            ],
            [
             0.4444444444444444,
             "#bd3786"
            ],
            [
             0.5555555555555556,
             "#d8576b"
            ],
            [
             0.6666666666666666,
             "#ed7953"
            ],
            [
             0.7777777777777778,
             "#fb9f3a"
            ],
            [
             0.8888888888888888,
             "#fdca26"
            ],
            [
             1,
             "#f0f921"
            ]
           ],
           "sequentialminus": [
            [
             0,
             "#0d0887"
            ],
            [
             0.1111111111111111,
             "#46039f"
            ],
            [
             0.2222222222222222,
             "#7201a8"
            ],
            [
             0.3333333333333333,
             "#9c179e"
            ],
            [
             0.4444444444444444,
             "#bd3786"
            ],
            [
             0.5555555555555556,
             "#d8576b"
            ],
            [
             0.6666666666666666,
             "#ed7953"
            ],
            [
             0.7777777777777778,
             "#fb9f3a"
            ],
            [
             0.8888888888888888,
             "#fdca26"
            ],
            [
             1,
             "#f0f921"
            ]
           ]
          },
          "colorway": [
           "#636efa",
           "#EF553B",
           "#00cc96",
           "#ab63fa",
           "#FFA15A",
           "#19d3f3",
           "#FF6692",
           "#B6E880",
           "#FF97FF",
           "#FECB52"
          ],
          "font": {
           "color": "#2a3f5f"
          },
          "geo": {
           "bgcolor": "white",
           "lakecolor": "white",
           "landcolor": "#E5ECF6",
           "showlakes": true,
           "showland": true,
           "subunitcolor": "white"
          },
          "hoverlabel": {
           "align": "left"
          },
          "hovermode": "closest",
          "mapbox": {
           "style": "light"
          },
          "paper_bgcolor": "white",
          "plot_bgcolor": "#E5ECF6",
          "polar": {
           "angularaxis": {
            "gridcolor": "white",
            "linecolor": "white",
            "ticks": ""
           },
           "bgcolor": "#E5ECF6",
           "radialaxis": {
            "gridcolor": "white",
            "linecolor": "white",
            "ticks": ""
           }
          },
          "scene": {
           "xaxis": {
            "backgroundcolor": "#E5ECF6",
            "gridcolor": "white",
            "gridwidth": 2,
            "linecolor": "white",
            "showbackground": true,
            "ticks": "",
            "zerolinecolor": "white"
           },
           "yaxis": {
            "backgroundcolor": "#E5ECF6",
            "gridcolor": "white",
            "gridwidth": 2,
            "linecolor": "white",
            "showbackground": true,
            "ticks": "",
            "zerolinecolor": "white"
           },
           "zaxis": {
            "backgroundcolor": "#E5ECF6",
            "gridcolor": "white",
            "gridwidth": 2,
            "linecolor": "white",
            "showbackground": true,
            "ticks": "",
            "zerolinecolor": "white"
           }
          },
          "shapedefaults": {
           "line": {
            "color": "#2a3f5f"
           }
          },
          "ternary": {
           "aaxis": {
            "gridcolor": "white",
            "linecolor": "white",
            "ticks": ""
           },
           "baxis": {
            "gridcolor": "white",
            "linecolor": "white",
            "ticks": ""
           },
           "bgcolor": "#E5ECF6",
           "caxis": {
            "gridcolor": "white",
            "linecolor": "white",
            "ticks": ""
           }
          },
          "title": {
           "x": 0.05
          },
          "xaxis": {
           "automargin": true,
           "gridcolor": "white",
           "linecolor": "white",
           "ticks": "",
           "title": {
            "standoff": 15
           },
           "zerolinecolor": "white",
           "zerolinewidth": 2
          },
          "yaxis": {
           "automargin": true,
           "gridcolor": "white",
           "linecolor": "white",
           "ticks": "",
           "title": {
            "standoff": 15
           },
           "zerolinecolor": "white",
           "zerolinewidth": 2
          }
         }
        },
        "title": {
         "text": "Frequency-Weighted F1 Score by Model - Fuzzing (95% CI)"
        },
        "xaxis": {
         "anchor": "y",
         "domain": [
          0,
          1
         ],
         "tickangle": 45,
         "title": {
          "text": "Model"
         }
        },
        "yaxis": {
         "anchor": "x",
         "domain": [
          0,
          1
         ],
         "range": [
          0,
          1
         ],
         "title": {
          "text": "Frequency-Weighted F1 Score (95% CI)"
         }
        }
       }
      }
     },
     "metadata": {},
     "output_type": "display_data"
    },
    {
     "name": "stderr",
     "output_type": "stream",
     "text": [
      "/tmp/ipykernel_908142/3945258560.py:226: DeprecationWarning:\n",
      "\n",
      "\n",
      "Support for Kaleido versions less than 1.0.0 is deprecated and will be removed after September 2025.\n",
      "Please upgrade Kaleido to version 1.0.0 or greater (`pip install 'kaleido>=1.0.0'` or `pip install 'plotly[kaleido]'`).\n",
      "\n",
      "\n",
      "/tmp/ipykernel_908142/3945258560.py:227: DeprecationWarning:\n",
      "\n",
      "\n",
      "Support for Kaleido versions less than 1.0.0 is deprecated and will be removed after September 2025.\n",
      "Please upgrade Kaleido to version 1.0.0 or greater (`pip install 'kaleido>=1.0.0'` or `pip install 'plotly[kaleido]'`).\n",
      "\n",
      "\n"
     ]
    },
    {
     "name": "stdout",
     "output_type": "stream",
     "text": [
      "Saved Frequency-Weighted F1 bar chart: /home/jeremias/projects/delphi-explanations/results/visualizations/freq_weighted_f1_bar_fuzz.pdf\n",
      "\n",
      "Bar charts saved to /home/jeremias/projects/delphi-explanations/results/visualizations\n"
     ]
    }
   ],
   "source": [
    "# Generate inline bar charts for frequency-weighted F1 scores with optional bootstrapped CI error bars and save to files\n",
    "print(\"Preparing frequency-weighted F1 score bar charts (bootstrapping={})...\".format(ENABLE_BOOTSTRAP))\n",
    "\n",
    "from tqdm.auto import tqdm\n",
    "\n",
    "# Helper: per-module F1s (unchanged)\n",
    "def compute_per_module_f1s(score_subset, counts):\n",
    "    \"\"\"Return list of per-module frequency-weighted F1 values computed from the given score_subset (no resampling).\n",
    "    Each module contributes a single weighted F1 computed from its latents in score_subset.\"\"\"\n",
    "    rows = []\n",
    "    for (module, latent_idx), grp in score_subset.groupby([\"module\", \"latent_idx\"]):\n",
    "        if module in counts and latent_idx < len(counts[module]):\n",
    "            f1 = compute_classification_metrics(compute_confusion(grp))[\"f1_score\"]\n",
    "            fire = counts[module][latent_idx].item()\n",
    "            rows.append({\"module\": module, \"latent_idx\": latent_idx, \"f1_score\": f1, \"firing_count\": fire})\n",
    "    if not rows:\n",
    "        return []\n",
    "    df = pd.DataFrame(rows)\n",
    "    per_module_vals = []\n",
    "    for module in df['module'].unique():\n",
    "        mdf = df[df['module'] == module]\n",
    "        firing_weights = counts[module][mdf['latent_idx']].float()\n",
    "        total_weight = firing_weights.sum()\n",
    "        if total_weight > 0:\n",
    "            f1_tensor = torch.as_tensor(mdf['f1_score'].values, dtype=torch.float32)\n",
    "            module_f1 = (f1_tensor * firing_weights).sum() / firing_weights.sum()\n",
    "            per_module_vals.append(module_f1.item())\n",
    "    return per_module_vals\n",
    "\n",
    "# Helper: weighted percentile (unchanged)\n",
    "def weighted_percentile(values, weights, percentiles):\n",
    "    \"\"\"Compute weighted percentiles for 1D arrays of values and corresponding non-negative weights.\"\"\"\n",
    "    if len(values) == 0:\n",
    "        return [np.nan for _ in np.atleast_1d(percentiles)]\n",
    "    vals = np.asarray(values, dtype=float)\n",
    "    w = np.asarray(weights, dtype=float)\n",
    "    if w.sum() == 0:\n",
    "        # Fall back to unweighted percentiles\n",
    "        return np.percentile(vals, percentiles)\n",
    "    # sort by value\n",
    "    order = np.argsort(vals)\n",
    "    vals = vals[order]\n",
    "    w = w[order]\n",
    "    cumsum = np.cumsum(w)\n",
    "    total = cumsum[-1]\n",
    "    # cumulative fraction positions of each value\n",
    "    cumfrac = (cumsum - 0.5 * w) / total\n",
    "    out = []\n",
    "    for p in np.atleast_1d(percentiles) / 100.0:\n",
    "        # find the first index where cumfrac >= p\n",
    "        idx = np.searchsorted(cumfrac, p, side='left')\n",
    "        if idx >= len(vals):\n",
    "            out.append(vals[-1])\n",
    "        else:\n",
    "            out.append(vals[idx])\n",
    "    return out if len(out) > 1 else out[0]\n",
    "\n",
    "# Helper: compute CI errors from samples\n",
    "def compute_ci_from_samples(samples, freq_weighted_f1, confidence):\n",
    "    if not samples:\n",
    "        return 0.0, 0.0\n",
    "    lower_pct = (1.0 - confidence) / 2.0 * 100.0\n",
    "    upper_pct = (1.0 + confidence) / 2.0 * 100.0\n",
    "    lower_ci, upper_ci = np.percentile(samples, [lower_pct, upper_pct])\n",
    "    return float(freq_weighted_f1 - lower_ci), float(upper_ci - freq_weighted_f1)\n",
    "\n",
    "# Optimized bootstrap: avoid DataFrame creation in loop using multinomial + np.bincount\n",
    "def run_bootstrap_single_thread_optimized(score_subset, counts, n_boot, confidence):\n",
    "    \"\"\"Optimized bootstrap using multinomial sampling on precomputed latents.\n",
    "\n",
    "    Strategy:\n",
    "    - Precompute per-latent F1 and firing weights and module ids\n",
    "    - For each bootstrap iteration generate multinomial counts over latents\n",
    "    - Use np.bincount to aggregate weighted sums per module efficiently\n",
    "    \"\"\"\n",
    "    # Pre-compute grouped stats once\n",
    "    grouped = list(score_subset.groupby([\"module\", \"latent_idx\"]))\n",
    "\n",
    "    latent_f1s = []\n",
    "    latent_weights = []\n",
    "    module_names = []\n",
    "\n",
    "    for (module, latent_idx), grp in grouped:\n",
    "        if module in counts and latent_idx < len(counts[module]):\n",
    "            f1 = compute_classification_metrics(compute_confusion(grp))[\"f1_score\"]\n",
    "            fire_count = counts[module][latent_idx].item()\n",
    "            latent_f1s.append(float(f1))\n",
    "            latent_weights.append(float(fire_count))\n",
    "            module_names.append(module)\n",
    "\n",
    "    if not latent_f1s:\n",
    "        return []\n",
    "\n",
    "    latent_f1s = np.asarray(latent_f1s, dtype=np.float64)\n",
    "    latent_weights = np.asarray(latent_weights, dtype=np.float64)\n",
    "    unique_modules, module_ids = np.unique(module_names, return_inverse=True)\n",
    "    num_modules = len(unique_modules)\n",
    "    num_latents = len(latent_f1s)\n",
    "\n",
    "    samples = []\n",
    "\n",
    "    # Generate multinomial samples: draw counts across latents\n",
    "    # Use equal probability across latents (resampling latents uniformly)\n",
    "    # sum of each row will be num_latents (you can change this to len(score_subset) if desired)\n",
    "    try:\n",
    "        resampled_counts = np.random.multinomial(num_latents, [1.0 / num_latents] * num_latents, size=n_boot)\n",
    "    except Exception:\n",
    "        # Fallback: generate per-iteration to avoid large allocation\n",
    "        resampled_counts = None\n",
    "\n",
    "    for i in tqdm(range(n_boot), desc=f\"Fast Bootstrapping ({n_boot})\", leave=False):\n",
    "        if resampled_counts is None:\n",
    "            boot_counts = np.random.multinomial(num_latents, [1.0 / num_latents] * num_latents)\n",
    "        else:\n",
    "            boot_counts = resampled_counts[i]\n",
    "\n",
    "        # Numerator: sum of f1 * latent_weight * boot_count per module\n",
    "        numerator = np.bincount(module_ids, weights=latent_f1s * latent_weights * boot_counts, minlength=num_modules)\n",
    "        # Denominator: sum of latent_weight * boot_count per module\n",
    "        denominator = np.bincount(module_ids, weights=latent_weights * boot_counts, minlength=num_modules)\n",
    "\n",
    "        # per-module f1 (avoid division by zero)\n",
    "        per_module_f1s = np.divide(numerator, denominator, out=np.zeros_like(numerator), where=denominator != 0)\n",
    "        samples.append(float(per_module_f1s.mean()))\n",
    "\n",
    "    return samples\n",
    "\n",
    "# Main: compute_error_bars simplified to use the optimized bootstrap\n",
    "def compute_error_bars(model_results, score_type, enable_bootstrap: bool = ENABLE_BOOTSTRAP, n_boot: int = BOOTSTRAP_SAMPLES, confidence: float = CONFIDENCE_LEVEL):\n",
    "    \"\"\"Compute frequency-weighted F1 and CI errors for every model for a given score_type.\n",
    "\n",
    "    Returns a DataFrame with columns: model, frequency_weighted_f1, ci_lower_error, ci_upper_error\n",
    "    \"\"\"\n",
    "    rows = []\n",
    "    for model_name, data in model_results.items():\n",
    "        processed_df = data['processed_df']\n",
    "        score_row = processed_df[processed_df['score_type'] == score_type]\n",
    "        if len(score_row) == 0:\n",
    "            continue\n",
    "        freq_weighted_f1 = score_row['weighted_f1'].iloc[0] if 'weighted_f1' in score_row.columns else None\n",
    "        latent_df = data['latent_df']\n",
    "        counts = data['counts']\n",
    "        score_subset = latent_df[latent_df['score_type'] == score_type]\n",
    "        if len(score_subset) == 0 or counts is None or freq_weighted_f1 is None:\n",
    "            rows.append({'model': model_name, 'frequency_weighted_f1': freq_weighted_f1, 'ci_lower_error': 0.0, 'ci_upper_error': 0.0})\n",
    "            continue\n",
    "\n",
    "        if enable_bootstrap:\n",
    "            # Use optimized multinomial-based bootstrap\n",
    "            samples = run_bootstrap_single_thread_optimized(score_subset, counts, n_boot, confidence)\n",
    "            ci_lower_error, ci_upper_error = compute_ci_from_samples(samples, freq_weighted_f1, confidence)\n",
    "        else:\n",
    "            # Fast path: compute weighted percentiles across per-latent F1s using firing_count as weight\n",
    "            vals = []\n",
    "            wts = []\n",
    "            for (module, latent_idx), grp in score_subset.groupby([\"module\", \"latent_idx\"]):\n",
    "                if module in counts and latent_idx < len(counts[module]):\n",
    "                    f1 = compute_classification_metrics(compute_confusion(grp))[\"f1_score\"]\n",
    "                    fire = counts[module][latent_idx].item()\n",
    "                    vals.append(float(f1))\n",
    "                    wts.append(float(fire))\n",
    "            if len(vals) == 0:\n",
    "                ci_lower_error = 0.0\n",
    "                ci_upper_error = 0.0\n",
    "            else:\n",
    "                lower_pct = (1.0 - confidence) / 2.0 * 100.0\n",
    "                upper_pct = (1.0 + confidence) / 2.0 * 100.0\n",
    "                lower_ci, upper_ci = weighted_percentile(np.array(vals), np.array(wts), [lower_pct, upper_pct])\n",
    "                lower_ci = float(lower_ci)\n",
    "                upper_ci = float(upper_ci)\n",
    "                ci_lower_error = float(freq_weighted_f1 - lower_ci)\n",
    "                ci_upper_error = float(upper_ci - freq_weighted_f1)\n",
    "\n",
    "        rows.append({'model': model_name, 'frequency_weighted_f1': float(freq_weighted_f1), 'ci_lower_error': ci_lower_error, 'ci_upper_error': ci_upper_error})\n",
    "\n",
    "    df = pd.DataFrame(rows)\n",
    "    return df\n",
    "\n",
    "# Example: compute error bars for each score_type and save/use for plotting\n",
    "all_score_types = set()\n",
    "for data in model_results.values():\n",
    "    all_score_types.update(list(data['processed_df']['score_type'].unique()))\n",
    "all_score_types = sorted(list(all_score_types))\n",
    "\n",
    "# Precompute error bar tables for reuse in other plots\n",
    "error_bar_tables = {}\n",
    "for st in all_score_types:\n",
    "    print(f\"Computing error bars for score type: {st} (bootstrap={ENABLE_BOOTSTRAP})\")\n",
    "    error_bar_tables[st] = compute_error_bars(model_results, st, enable_bootstrap=ENABLE_BOOTSTRAP, n_boot=BOOTSTRAP_SAMPLES, confidence=CONFIDENCE_LEVEL)\n",
    "\n",
    "# helper to display nicer score type names\n",
    "def score_display_name(st):\n",
    "    return 'Fuzzing' if str(st).lower() == 'fuzz' else str(st).title()\n",
    "\n",
    "# Now create bar charts using precomputed error bars\n",
    "for score_type, error_df in error_bar_tables.items():\n",
    "    if error_df.empty:\n",
    "        continue\n",
    "    error_df = error_df.sort_values('frequency_weighted_f1', ascending=False)\n",
    "    fig = px.bar(\n",
    "        error_df,\n",
    "        x='model',\n",
    "        y='frequency_weighted_f1',\n",
    "        title=f'Frequency-Weighted F1 Score by Model - {score_display_name(score_type)} ({int(CONFIDENCE_LEVEL*100)}% CI)',\n",
    "        text='frequency_weighted_f1'\n",
    "    )\n",
    "    fig.update_traces(\n",
    "        error_y=dict(\n",
    "            type='data',\n",
    "            symmetric=False,\n",
    "            array=error_df['ci_upper_error'],\n",
    "            arrayminus=error_df['ci_lower_error']\n",
    "        )\n",
    "    )\n",
    "    fig.update_layout(\n",
    "        yaxis_range=[0, 1],\n",
    "        xaxis_title=\"Model\",\n",
    "        yaxis_title=f\"Frequency-Weighted F1 Score ({int(CONFIDENCE_LEVEL*100)}% CI)\",\n",
    "        xaxis={'tickangle': 45},\n",
    "        height=500\n",
    "    )\n",
    "    fig.update_traces(texttemplate='%{text:.3f}', textposition='outside')\n",
    "    fig.show()\n",
    "    output_file_pdf = visualizations_dir / f\"freq_weighted_f1_bar_{score_type}.pdf\"\n",
    "    output_file_png = visualizations_dir / f\"freq_weighted_f1_bar_{score_type}.png\"\n",
    "    fig.write_image(str(output_file_pdf))\n",
    "    fig.write_image(str(output_file_png))\n",
    "    print(f\"Saved Frequency-Weighted F1 bar chart: {output_file_pdf}\")\n",
    "\n",
    "print(\"\\nBar charts saved to\", visualizations_dir)"
   ]
  },
  {
   "cell_type": "markdown",
   "id": "45f1c475",
   "metadata": {},
   "source": [
    "## 5. Performance Summary\n",
    "\n",
    "Display a summary table of F1 scores for each model and score type, including mean and standard deviation."
   ]
  },
  {
   "cell_type": "code",
   "execution_count": 4,
   "id": "1f55b95e",
   "metadata": {},
   "outputs": [
    {
     "name": "stdout",
     "output_type": "stream",
     "text": [
      "Creating comprehensive performance summary...\n",
      "\n",
      "Model Performance Summary (Frequency-Weighted F1 Focus):\n",
      "============================================================\n",
      "                       frequency_weighted_f1  accuracy  precision  recall\n",
      "model                                                                    \n",
      "Qwen3-32B                              0.719     0.845      0.855   0.831\n",
      "Gemma3-27B                             0.715     0.833      0.817   0.856\n",
      "Qwen3-4B                               0.686     0.787      0.775   0.809\n",
      "Llama4-Scout                           0.674     0.813      0.826   0.793\n",
      "Llama3.3-70B                           0.651     0.842      0.870   0.806\n",
      "Gemma3-12B                             0.642     0.788      0.816   0.750\n",
      "Qwen3-14B                              0.627     0.813      0.877   0.731\n",
      "Llama3-8B                              0.607     0.775      0.808   0.735\n",
      "Gemma3-4B                              0.596     0.584      0.567   0.733\n",
      "Llama3-8B (Transluce)                  0.578     0.807      0.902   0.688\n",
      "\n",
      "Summary saved to: /home/jeremias/projects/delphi-explanations/results/visualizations/model_frequency_weighted_f1_summary.csv\n",
      "\n",
      "Best Performing Models by Category:\n",
      "==================================================\n",
      "Highest Frequency-Weighted F1: Qwen3-32B (0.719)\n",
      "Highest Accuracy: Qwen3-32B (0.845)\n",
      "Highest Precision: Llama3-8B (Transluce) (0.902)\n",
      "Highest Recall: Gemma3-27B (0.856)\n",
      "\n",
      "All visualizations and summaries saved to: /home/jeremias/projects/delphi-explanations/results/visualizations\n",
      "\n",
      "Generated files:\n",
      "  - accuracy_bar_detection.pdf\n",
      "  - accuracy_bar_detection.png\n",
      "  - accuracy_bar_fuzz.pdf\n",
      "  - accuracy_bar_fuzz.png\n",
      "  - accuracy_density_detection.pdf\n",
      "  - accuracy_density_detection.png\n",
      "  - accuracy_density_fuzz.pdf\n",
      "  - accuracy_density_fuzz.png\n",
      "  - accuracy_density_line_detection.pdf\n",
      "  - accuracy_density_line_fuzz.pdf\n",
      "  - freq_weighted_f1_bar_detection.pdf\n",
      "  - freq_weighted_f1_bar_detection.png\n",
      "  - freq_weighted_f1_bar_fuzz.pdf\n",
      "  - freq_weighted_f1_bar_fuzz.png\n",
      "  - model_accuracy_summary.csv\n",
      "  - model_frequency_weighted_f1_summary.csv\n",
      "  - model_performance_summary.csv\n",
      "  - pareto_clean_detection.pdf\n",
      "  - pareto_clean_detection.png\n",
      "  - pareto_clean_detection_no_ci.pdf\n",
      "  - pareto_clean_detection_no_ci.png\n",
      "  - pareto_clean_fuzz.pdf\n",
      "  - pareto_clean_fuzz.png\n",
      "  - pareto_clean_fuzz_no_ci.pdf\n",
      "  - pareto_clean_fuzz_no_ci.png\n",
      "  - pareto_detection.pdf\n",
      "  - pareto_detection.png\n",
      "  - pareto_enhanced_detection.pdf\n",
      "  - pareto_enhanced_detection.png\n",
      "  - pareto_enhanced_fuzz.pdf\n",
      "  - pareto_enhanced_fuzz.png\n",
      "  - pareto_fuzz.pdf\n",
      "  - pareto_fuzz.png\n",
      "  - pareto_matplotlib_detection.pdf\n",
      "  - pareto_matplotlib_detection.png\n",
      "  - pareto_matplotlib_fuzz.pdf\n",
      "  - pareto_matplotlib_fuzz.png\n"
     ]
    }
   ],
   "source": [
    "# Create comprehensive performance summary using data from get_agg_metrics\n",
    "print(\"Creating comprehensive performance summary...\")\n",
    "\n",
    "# Create frequency-weighted F1 score summary using processed data\n",
    "summary_rows = []\n",
    "for model_name, model_data in model_results.items():\n",
    "    processed_df = model_data['processed_df']\n",
    "    # Use the frequency-weighted F1 from the processed data (averaged across score types)\n",
    "    freq_weighted_f1 = processed_df['weighted_f1'].mean() if 'weighted_f1' in processed_df.columns else None\n",
    "    summary_rows.append({\n",
    "        'model': model_name,\n",
    "        'frequency_weighted_f1': freq_weighted_f1,\n",
    "        'accuracy': processed_df['accuracy'].mean(),\n",
    "        'precision': processed_df['precision'].mean(),\n",
    "        'recall': processed_df['recall'].mean()\n",
    "    })\n",
    "summary_df = pd.DataFrame(summary_rows).set_index('model').round(3)\n",
    "\n",
    "print(\"\\nModel Performance Summary (Frequency-Weighted F1 Focus):\")\n",
    "print(\"=\" * 60)\n",
    "print(summary_df.sort_values('frequency_weighted_f1', ascending=False))\n",
    "\n",
    "# Save summary to CSV\n",
    "summary_file = visualizations_dir / \"model_frequency_weighted_f1_summary.csv\"\n",
    "summary_df.to_csv(summary_file)\n",
    "print(f\"\\nSummary saved to: {summary_file}\")\n",
    "\n",
    "# Best performing models by category\n",
    "print(\"\\nBest Performing Models by Category:\")\n",
    "print(\"=\" * 50)\n",
    "print(f\"Highest Frequency-Weighted F1: {summary_df['frequency_weighted_f1'].idxmax()} ({summary_df['frequency_weighted_f1'].max():.3f})\")\n",
    "print(f\"Highest Accuracy: {summary_df['accuracy'].idxmax()} ({summary_df['accuracy'].max():.3f})\")\n",
    "print(f\"Highest Precision: {summary_df['precision'].idxmax()} ({summary_df['precision'].max():.3f})\")\n",
    "print(f\"Highest Recall: {summary_df['recall'].idxmax()} ({summary_df['recall'].max():.3f})\")\n",
    "\n",
    "print(f\"\\nAll visualizations and summaries saved to: {visualizations_dir}\")\n",
    "print(\"\\nGenerated files:\")\n",
    "for file in sorted(visualizations_dir.glob(\"*\")):\n",
    "    print(f\"  - {file.name}\")"
   ]
  },
  {
   "cell_type": "code",
   "execution_count": 52,
   "id": "d546e97c",
   "metadata": {},
   "outputs": [],
   "source": [
    "%matplotlib widget\n",
    "\n",
    "import json\n",
    "import numpy as np\n",
    "from math import isnan\n",
    "import pandas as pd\n",
    "import matplotlib.pyplot as plt\n",
    "from matplotlib.lines import Line2D\n",
    "from matplotlib.patches import FancyBboxPatch\n",
    "import matplotlib.patches as mpatches\n",
    "from adjustText import adjust_text  # For better label placement\n",
    "import seaborn as sns\n",
    "import matplotlib.colors as mcolors\n",
    "from matplotlib.widgets import Button as MPLButton\n",
    "\n",
    "# Optional widget-based Save button (more reliable in notebook frontends)\n",
    "try:\n",
    "    import ipywidgets as widgets\n",
    "    from IPython.display import display\n",
    "    HAS_IPYWIDGETS = True\n",
    "except Exception:\n",
    "    HAS_IPYWIDGETS = False\n",
    "\n",
    "# The base for the logarithmic scale on the x-axis\n",
    "LOG_BASE = 2\n",
    "\n",
    "DEBUG_INTERACTIVE = True\n",
    "\n",
    "plt.style.use('seaborn-v0_8-darkgrid')\n",
    "sns.set_palette(\"husl\")\n",
    "\n",
    "# Assuming the following variables are defined elsewhere in your notebook:\n",
    "# results_dir, MODEL_PREFIX, LATENTS_COUNT, MODEL_NAME_MAPPING, model_results,\n",
    "# error_bar_tables, CONFIDENCE_LEVEL, visualizations_dir\n",
    "\n",
    "# Mock definitions for stand-alone execution\n",
    "from pathlib import Path\n",
    "visualizations_dir = Path(\"./visualizations_dir\")\n",
    "visualizations_dir.mkdir(exist_ok=True)\n",
    "CONFIDENCE_LEVEL = 0.95\n",
    "\n",
    "experiments_base = results_dir / MODEL_PREFIX / f\"{LATENTS_COUNT}latents\"\n",
    "timing_map = {}\n",
    "for timing_file in experiments_base.rglob('scoring_timing.json'):\n",
    "    try:\n",
    "        with open(timing_file, 'r') as f: meta = json.load(f)\n",
    "        secs = meta.get('scoring_time_seconds', None)\n",
    "    except Exception: secs = None\n",
    "    exp_dir = timing_file.parent; exp_name = exp_dir.name\n",
    "    if exp_name.endswith(f\"_{LATENTS_COUNT}latents\"):\n",
    "        model_key = exp_name.replace(f\"{MODEL_PREFIX}_\", \"\").replace(f\"_{LATENTS_COUNT}latents\", \"\")\n",
    "    else:\n",
    "        model_key = exp_name.replace(f\"{MODEL_PREFIX}_\", \"\")\n",
    "    display_name = MODEL_NAME_MAPPING.get(model_key, model_key)\n",
    "    timing_map[display_name] = secs\n",
    "\n",
    "for m in model_results.keys():\n",
    "    if m not in timing_map: timing_map[m] = float('nan')\n",
    "\n",
    "family_colors = {\n",
    "    'Gemma': '#2E7D32',\n",
    "    'Qwen': '#7B1FA2',\n",
    "    'Llama': '#1565C0'\n",
    "}\n",
    "family_colors_light = {\n",
    "    'Gemma': '#81C784',\n",
    "    'Qwen': '#BA68C8',\n",
    "    'Llama': '#64B5F6'\n",
    "}\n",
    "\n",
    "def detect_family(name: str):\n",
    "    n = name.lower()\n",
    "    if 'gemma' in n: return 'Gemma'\n",
    "    if 'qwen' in n: return 'Qwen'\n",
    "    if 'llama' in n: return 'Llama'\n",
    "    return 'Other'\n",
    "\n",
    "def identify_pareto_frontier(df):\n",
    "    df_sorted = df.sort_values(by='time_minutes', ascending=True)\n",
    "    pareto_points = []\n",
    "    max_perf_so_far = -np.inf\n",
    "    for _, row in df_sorted.iterrows():\n",
    "        if row['perf'] > max_perf_so_far:\n",
    "            pareto_points.append(row)\n",
    "            max_perf_so_far = row['perf']\n",
    "    return pd.DataFrame(pareto_points)\n",
    "\n",
    "def smart_label_placement(ax, x, y, labels, colors=None, offset_factor=0.02):\n",
    "    texts = []\n",
    "    y_min, y_max = ax.get_ylim()\n",
    "    y_range = y_max - y_min if (y_max - y_min) != 0 else 1.0\n",
    "    for i, (xi, yi, label) in enumerate(zip(x, y, labels)):\n",
    "        offset = y_range * offset_factor\n",
    "        color = None\n",
    "        if colors is not None:\n",
    "            try:\n",
    "                color = colors[i]\n",
    "            except Exception:\n",
    "                color = None\n",
    "        text_kwargs = dict(ha='center', va='bottom', fontsize=9, fontweight='medium')\n",
    "        if color:\n",
    "            text_kwargs['color'] = color\n",
    "        edge_color = color if color is not None else 'gray'\n",
    "        bbox_kwargs = dict(boxstyle=\"round,pad=0.3\", facecolor='white', edgecolor=edge_color, alpha=0.85)\n",
    "        t = ax.text(xi, yi + offset, label, bbox=bbox_kwargs, **text_kwargs)\n",
    "        t.set_picker(6)\n",
    "        texts.append(t)\n",
    "        if DEBUG_INTERACTIVE:\n",
    "            print(f\"Created label '{label}' at ({xi}, {yi + offset}), picker={t.get_picker()}\")\n",
    "    try:\n",
    "        # MODIFICATION: Removed the arrowprops argument to prevent drawing lines\n",
    "        adjust_text(texts, x, y, expand_points=(1.2, 1.4))\n",
    "    except Exception:\n",
    "        pass\n",
    "    return texts\n",
    "\n",
    "class DraggableText:\n",
    "    def __init__(self, texts, fig):\n",
    "        self.texts = texts\n",
    "        self.fig = fig\n",
    "        self.canvas = fig.canvas\n",
    "        self.selected = None\n",
    "        self.offset = (0.0, 0.0)\n",
    "        self.cidpress = self.canvas.mpl_connect('button_press_event', self.on_press)\n",
    "        self.cidmotion = self.canvas.mpl_connect('motion_notify_event', self.on_motion)\n",
    "        self.cidrelease = self.canvas.mpl_connect('button_release_event', self.on_release)\n",
    "    def on_press(self, event):\n",
    "        if event.inaxes is None: return\n",
    "        for t in self.texts:\n",
    "            t.set_picker(6)\n",
    "            try: contains, _ = t.contains(event)\n",
    "            except Exception: contains = False\n",
    "            if contains:\n",
    "                x, y = t.get_position()\n",
    "                self.selected = t\n",
    "                if event.xdata is None or event.ydata is None: self.selected = None; return\n",
    "                self.offset = (x - event.xdata, y - event.ydata)\n",
    "                if DEBUG_INTERACTIVE:\n",
    "                    try: print(f\"Picked label '{t.get_text()}' at data pos {(x, y)}; mouse={(event.xdata, event.ydata)}\")\n",
    "                    except Exception: print(\"Picked a label\")\n",
    "                return\n",
    "    def on_motion(self, event):\n",
    "        if self.selected is None or event.inaxes is None: return\n",
    "        if event.xdata is None or event.ydata is None: return\n",
    "        newx = event.xdata + self.offset[0]\n",
    "        newy = event.ydata + self.offset[1]\n",
    "        self.selected.set_position((newx, newy))\n",
    "        self.canvas.draw_idle()\n",
    "        if DEBUG_INTERACTIVE:\n",
    "            try: print(f\"Moved '{self.selected.get_text()}' -> {(newx, newy)}\")\n",
    "            except Exception: pass\n",
    "    def on_release(self, event):\n",
    "        if DEBUG_INTERACTIVE and self.selected is not None:\n",
    "            try: print(f\"Released '{self.selected.get_text()}'\")\n",
    "            except Exception: pass\n",
    "        self.selected = None\n",
    "\n",
    "SHOW_MOUSE_COORDS = True\n",
    "\n",
    "class MouseCoordsDisplay:\n",
    "    def __init__(self, fig, ax):\n",
    "        self.fig = fig\n",
    "        self.ax = ax\n",
    "        self.text = ax.text(0.01, 0.99, '', transform=ax.transAxes, ha='left', va='top', fontsize=10, color='navy', alpha=0.7, bbox=dict(facecolor='white', alpha=0.6, edgecolor='navy'))\n",
    "        self.cidmotion = fig.canvas.mpl_connect('motion_notify_event', self.on_motion)\n",
    "    def on_motion(self, event):\n",
    "        if event.inaxes == self.ax and event.xdata is not None and event.ydata is not None:\n",
    "            # Transform xdata back to the original scale for display\n",
    "            original_x = LOG_BASE ** event.xdata\n",
    "            self.text.set_text(f\"time={original_x:.2f}, score={event.ydata:.3f}\")\n",
    "        else:\n",
    "            self.text.set_text('')\n",
    "        self.fig.canvas.draw_idle()\n",
    "\n",
    "def plot_pareto(score_type: str, save_on_init: bool = True, show: bool = True):\n",
    "    error_df = error_bar_tables.get(score_type, pd.DataFrame())\n",
    "    if error_df.empty:\n",
    "        print(f\"No error-bar data for {score_type}, skipping\")\n",
    "        return None, None, None\n",
    "    rows = []\n",
    "    for _, row in error_df.iterrows():\n",
    "        model, perf, t_secs = row['model'], row['frequency_weighted_f1'], timing_map.get(row['model'])\n",
    "        if t_secs is None or isnan(t_secs) or perf is None or isnan(perf) or t_secs <= 0:\n",
    "            continue\n",
    "        rows.append({\n",
    "            'model': model,\n",
    "            'time_minutes': float(t_secs) / 60.0,\n",
    "            'perf': float(perf),\n",
    "            'up': float(row['ci_upper_error']),\n",
    "            'down': float(row['ci_lower_error']),\n",
    "            'family': detect_family(model),\n",
    "        })\n",
    "    if not rows:\n",
    "        print(f\"No timing-backed points for {score_type}, skipping\")\n",
    "        return None, None, None\n",
    "        \n",
    "    pts_df = pd.DataFrame(rows).sort_values('time_minutes')\n",
    "    pts_df = pts_df[pts_df['family'].isin(['Gemma', 'Qwen', 'Llama'])]\n",
    "    if pts_df.empty:\n",
    "        print(f\"No models left for {score_type} after filtering, skipping\")\n",
    "        return None, None, None\n",
    "\n",
    "    # Apply the logarithmic transformation to the time data for plotting\n",
    "    pts_df['log_time'] = np.log(pts_df['time_minutes']) / np.log(LOG_BASE)\n",
    "\n",
    "    pareto_df = identify_pareto_frontier(pts_df)\n",
    "    \n",
    "    fig = plt.figure(figsize=(14, 8))\n",
    "    ax = fig.add_subplot(111)\n",
    "    ax.set_facecolor('#FAFAFA')\n",
    "    \n",
    "    if SHOW_MOUSE_COORDS:\n",
    "        MouseCoordsDisplay(fig, ax)\n",
    "\n",
    "    for family in ['Gemma', 'Qwen', 'Llama']:\n",
    "        fam_df = pts_df[pts_df['family'] == family]\n",
    "        if fam_df.empty: continue\n",
    "        ecolor_rgba = mcolors.to_rgba(family_colors_light[family], alpha=0.30)\n",
    "        # Plot using the log-transformed time\n",
    "        ax.errorbar(fam_df['log_time'], fam_df['perf'], yerr=[fam_df['down'], fam_df['up']], fmt='o', markersize=12, color=family_colors[family], ecolor=ecolor_rgba, markeredgecolor='white', markeredgewidth=2, capsize=3, capthick=1, elinewidth=1.2, alpha=1.0, zorder=5)\n",
    "    \n",
    "    pareto_subset = pareto_df[pareto_df['model'].isin(pts_df['model'])]\n",
    "    if not pareto_subset.empty:\n",
    "        # Plot the frontier using the log-transformed time\n",
    "        ax.plot(pareto_subset['log_time'], pareto_subset['perf'], color='gray', linewidth=4, alpha=0.15, zorder=2)\n",
    "        ax.plot(pareto_subset['log_time'], pareto_subset['perf'], color='#333333', linewidth=2.0, linestyle='-', alpha=0.6, zorder=3)\n",
    "        ax.scatter(pareto_subset['log_time'], pareto_subset['perf'], s=140, facecolor='white', edgecolor='#333333', linewidth=2, zorder=10, alpha=1)\n",
    "    \n",
    "    ax.grid(True, which='major', linestyle='-', alpha=0.2, color='gray')\n",
    "    ax.grid(True, which='minor', linestyle=':', alpha=0.1, color='gray')\n",
    "\n",
    "    # --- Set custom log-scale ticks on the now-linear axis ---\n",
    "    min_val = pts_df['log_time'].min()\n",
    "    max_val = pts_df['log_time'].max()\n",
    "    \n",
    "    # Determine the integer powers of LOG_BASE that span the data range\n",
    "    start_power = np.floor(min_val)\n",
    "    end_power = np.ceil(max_val)\n",
    "    \n",
    "    # The positions of the ticks in the log-transformed space are the integers\n",
    "    tick_positions = np.arange(start_power, end_power + 1)\n",
    "    # The labels for these ticks are LOG_BASE raised to these integer powers\n",
    "    tick_labels = [f'{LOG_BASE**p:g}' for p in tick_positions]\n",
    "    \n",
    "    ax.set_xticks(tick_positions)\n",
    "    ax.set_xticklabels(tick_labels)\n",
    "    # --- End of new tick logic ---\n",
    "\n",
    "    labels_to_plot = []\n",
    "    label_colors = []\n",
    "    x_positions = []\n",
    "    y_positions = []\n",
    "    for _, r in pts_df.iterrows():\n",
    "        labels_to_plot.append(r['model'])\n",
    "        fam = r.get('family', None)\n",
    "        c = family_colors.get(fam, 'black') if fam is not None else 'black'\n",
    "        label_colors.append(c)\n",
    "        # Use the log-transformed time for label placement\n",
    "        x_positions.append(r['log_time'])\n",
    "        y_positions.append(r['perf'] + r['up'] + 0.005)\n",
    "        \n",
    "    texts = smart_label_placement(ax, x_positions, y_positions, labels_to_plot, colors=label_colors)\n",
    "    \n",
    "    y_min = (pts_df['perf'] - pts_df['down']).min()\n",
    "    y_max = (pts_df['perf'] + pts_df['up']).max()\n",
    "    y_padding = (y_max - y_min) * 0.15\n",
    "    ax.set_ylim(max(0, y_min - y_padding), min(1.0, y_max + y_padding))\n",
    "    \n",
    "    title_text = f\"{score_type.title()} Pareto Frontier\"\n",
    "    fig.suptitle(title_text, fontsize=18, fontweight='bold', y=0.98)\n",
    "    ax.set_xlabel(f'Wall-Clock Time (minutes, log scale base {LOG_BASE})', fontsize=13, fontweight='medium')\n",
    "    ax.set_ylabel(f'Frequency-Weighted F1 Score\\n({int(CONFIDENCE_LEVEL*100)}% Confidence Interval)', fontsize=13, fontweight='medium')\n",
    "    \n",
    "    legend_elements = []\n",
    "    for family, color in family_colors.items():\n",
    "        legend_elements.append(Line2D([0], [0], marker='o', color='w', label=family, markersize=12, markerfacecolor=color, markeredgecolor='white', markeredgewidth=2, alpha=0.9))\n",
    "    legend_elements.append(Line2D([0], [0], color='#333333', linewidth=2.5, label='Pareto Frontier', marker='o', markerfacecolor='white', markeredgecolor='#333333', markersize=10))\n",
    "    legend = ax.legend(handles=legend_elements, title='Model Family', loc='best', frameon=True, fancybox=True, shadow=True, fontsize=11, title_fontsize=12, framealpha=0.95, edgecolor='gray')\n",
    "    \n",
    "    fig.text(0.99, 0.01, 'SOAR - Improving Explanations', ha='right', va='bottom', fontsize=9, alpha=0.35, style='italic')\n",
    "    plt.tight_layout(rect=[0, 0.06, 1, 0.96])\n",
    "    \n",
    "    if save_on_init:\n",
    "        out_pdf = visualizations_dir / f\"pareto_enhanced_{score_type}.pdf\"\n",
    "        out_png = visualizations_dir / f\"pareto_enhanced_{score_type}.png\"\n",
    "        try:\n",
    "            fig.savefig(out_pdf, dpi=300, bbox_inches='tight', facecolor='white')\n",
    "            fig.savefig(out_png, dpi=300, bbox_inches='tight', facecolor='white')\n",
    "            if DEBUG_INTERACTIVE:\n",
    "                print(f\"Saved enhanced pareto plot for {score_type}: {out_pdf}\")\n",
    "        except Exception as e:\n",
    "            print(f\"Initial save failed: {e}\")\n",
    "            \n",
    "    if show:\n",
    "        plt.show()\n",
    "        \n",
    "    dr = None\n",
    "    if texts:\n",
    "        dr = DraggableText(texts, fig)\n",
    "        def _save_fig_and_notify():\n",
    "            out_pdf = visualizations_dir / f\"pareto_enhanced_{score_type}.pdf\"\n",
    "            out_png = visualizations_dir / f\"pareto_enhanced_{score_type}.png\"\n",
    "            try:\n",
    "                fig.savefig(out_pdf, dpi=300, bbox_inches='tight', facecolor='white')\n",
    "                fig.savefig(out_png, dpi=300, bbox_inches='tight', facecolor='white')\n",
    "                print(f\"Saved enhanced pareto plot for {score_type}: {out_pdf}\")\n",
    "            except Exception as e:\n",
    "                print(f\"Failed to save figure: {e}\")\n",
    "        \n",
    "        if HAS_IPYWIDGETS:\n",
    "            try:\n",
    "                btn = widgets.Button(description='Save', layout=widgets.Layout(width='90px'))\n",
    "                def _on_save_clicked(b):\n",
    "                    _save_fig_and_notify()\n",
    "                btn.on_click(_on_save_clicked)\n",
    "                display(btn)\n",
    "                print(\"Interactive mode: drag labels with the mouse; click the displayed 'Save' button to write the adjusted figure to the visualizations directory.\")\n",
    "            except Exception as e:\n",
    "                print(f\"ipywidgets Save button failed to initialize: {e}. Falling back to in-figure Save button.\")\n",
    "                btn_ax = fig.add_axes([0.88, 0.01, 0.1, 0.04])\n",
    "                mpl_btn = MPLButton(btn_ax, 'Save', color='lightgoldenrodyellow', hovercolor='0.975')\n",
    "                mpl_btn.on_clicked(lambda event: _save_fig_and_notify())\n",
    "        else:\n",
    "            btn_ax = fig.add_axes([0.88, 0.01, 0.1, 0.04])\n",
    "            mpl_btn = MPLButton(btn_ax, 'Save', color='lightgoldenrodyellow', hovercolor='0.975')\n",
    "            mpl_btn.on_clicked(lambda event: _save_fig_and_notify())\n",
    "            print(\"Interactive mode: drag labels with the mouse; click the in-figure 'Save' button to write the adjusted figure to the visualizations directory.\")\n",
    "            \n",
    "    return fig, dr, pts_df"
   ]
  },
  {
   "cell_type": "code",
   "execution_count": 53,
   "id": "23bf405a",
   "metadata": {},
   "outputs": [
    {
     "name": "stdout",
     "output_type": "stream",
     "text": [
      "Created label 'Llama3-8B' at (4.647846267220175, 0.6820937147139878), picker=6\n",
      "Created label 'Qwen3-4B' at (4.769054926854322, 0.7700150081660168), picker=6\n",
      "Created label 'Gemma3-4B' at (4.864446075547953, 0.6535754360399173), picker=6\n",
      "Created label 'Qwen3-14B' at (5.445354901965496, 0.7012192758765876), picker=6\n",
      "Created label 'Gemma3-12B' at (5.730701451197266, 0.6930960168033915), picker=6\n",
      "Created label 'Llama4-Scout' at (6.129759120337212, 0.7738897583098391), picker=6\n",
      "Created label 'Llama3-8B (Transluce)' at (6.140209223046695, 0.7220708155556839), picker=6\n",
      "Created label 'Qwen3-32B' at (6.1581663135983655, 0.8321430181754281), picker=6\n",
      "Created label 'Gemma3-27B' at (6.244581902508316, 0.8045483802706351), picker=6\n",
      "Created label 'Llama3.3-70B' at (8.680825806315012, 0.7552120239147968), picker=6\n",
      "Saved enhanced pareto plot for fuzz: visualizations_dir/pareto_enhanced_fuzz.pdf\n",
      "Saved enhanced pareto plot for fuzz: visualizations_dir/pareto_enhanced_fuzz.pdf\n"
     ]
    },
    {
     "data": {
      "application/vnd.jupyter.widget-view+json": {
       "model_id": "708293d4155745a8b3550e4c2463b102",
       "version_major": 2,
       "version_minor": 0
      },
      "image/png": "[encoded data removed]",
      "text/html": [
       "\n",
       "            <div style=\"display: inline-block;\">\n",
       "                <div class=\"jupyter-widgets widget-label\" style=\"text-align: center;\">\n",
       "                    Figure\n",
       "                </div>\n",
       "                <img src='data:image/png;base64,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' width=1400.0/>\n",
       "            </div>\n",
       "        "
      ],
      "text/plain": [
       "Canvas(toolbar=Toolbar(toolitems=[('Home', 'Reset original view', 'home', 'home'), ('Back', 'Back to previous …"
      ]
     },
     "metadata": {},
     "output_type": "display_data"
    },
    {
     "data": {
      "application/vnd.jupyter.widget-view+json": {
       "model_id": "4671f7887354405f828ce56a4fe3e550",
       "version_major": 2,
       "version_minor": 0
      },
      "text/plain": [
       "Button(description='Save', layout=Layout(width='90px'), style=ButtonStyle())"
      ]
     },
     "metadata": {},
     "output_type": "display_data"
    },
    {
     "name": "stdout",
     "output_type": "stream",
     "text": [
      "Interactive mode: drag labels with the mouse; click the displayed 'Save' button to write the adjusted figure to the visualizations directory.\n"
     ]
    }
   ],
   "source": [
    "# Pareto plot for 'fuzz' - simplified wrapper\n",
    "# Run this cell alone to get an interactive plot you can drag labels on and save.\n",
    "fig_fuzz, dr_fuzz, pts_df_fuzz = plot_pareto('fuzz', save_on_init=True, show=True)\n",
    "if fig_fuzz is None:\n",
    "    print(\"Fuzz plot skipped or had no data.\")"
   ]
  },
  {
   "cell_type": "code",
   "execution_count": 54,
   "id": "f86d4055",
   "metadata": {},
   "outputs": [
    {
     "name": "stdout",
     "output_type": "stream",
     "text": [
      "Created label 'Llama3-8B' at (4.647846267220175, 0.6726439909713643), picker=6\n",
      "Created label 'Qwen3-4B' at (4.769054926854322, 0.6852811536625378), picker=6\n",
      "Created label 'Gemma3-4B' at (4.864446075547953, 0.6020328691659022), picker=6\n",
      "Created label 'Qwen3-14B' at (5.445354901965496, 0.699998887735505), picker=6\n",
      "Created label 'Gemma3-12B' at (5.730701451197266, 0.7027092788395549), picker=6\n",
      "Created label 'Llama4-Scout' at (6.129759120337212, 0.6928206411773302), picker=6\n",
      "Created label 'Llama3-8B (Transluce)' at (6.140209223046695, 0.6077934979193589), picker=6\n",
      "Created label 'Qwen3-32B' at (6.1581663135983655, 0.7216091239041629), picker=6\n",
      "Created label 'Gemma3-27B' at (6.244581902508316, 0.7248752506647865), picker=6\n",
      "Created label 'Llama3.3-70B' at (8.680825806315012, 0.6915937916220914), picker=6\n",
      "Saved enhanced pareto plot for detection: visualizations_dir/pareto_enhanced_detection.pdf\n",
      "Saved enhanced pareto plot for detection: visualizations_dir/pareto_enhanced_detection.pdf\n"
     ]
    },
    {
     "data": {
      "application/vnd.jupyter.widget-view+json": {
       "model_id": "4af1be7cbf4f44f3a585e5ecec53f2dd",
       "version_major": 2,
       "version_minor": 0
      },
      "image/png": "[encoded data removed]",
      "text/html": [
       "\n",
       "            <div style=\"display: inline-block;\">\n",
       "                <div class=\"jupyter-widgets widget-label\" style=\"text-align: center;\">\n",
       "                    Figure\n",
       "                </div>\n",
       "                <img src='data:image/png;base64,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' width=1400.0/>\n",
       "            </div>\n",
       "        "
      ],
      "text/plain": [
       "Canvas(toolbar=Toolbar(toolitems=[('Home', 'Reset original view', 'home', 'home'), ('Back', 'Back to previous …"
      ]
     },
     "metadata": {},
     "output_type": "display_data"
    },
    {
     "data": {
      "application/vnd.jupyter.widget-view+json": {
       "model_id": "6effcc3c8462432f9a6f37407c6f25fc",
       "version_major": 2,
       "version_minor": 0
      },
      "text/plain": [
       "Button(description='Save', layout=Layout(width='90px'), style=ButtonStyle())"
      ]
     },
     "metadata": {},
     "output_type": "display_data"
    },
    {
     "name": "stdout",
     "output_type": "stream",
     "text": [
      "Interactive mode: drag labels with the mouse; click the displayed 'Save' button to write the adjusted figure to the visualizations directory.\n"
     ]
    }
   ],
   "source": [
    "# Pareto plot for 'detection' - simplified wrapper\n",
    "# Run this cell alone to get an interactive plot you can drag labels on and save.\n",
    "fig_det, dr_det, pts_df_det = plot_pareto('detection', save_on_init=True, show=True)\n",
    "if fig_det is None:\n",
    "    print(\"Detection plot skipped or had no data.\")"
   ]
  }
 ],
 "metadata": {
  "kernelspec": {
   "display_name": ".venv",
   "language": "python",
   "name": "python3"
  },
  "language_info": {
   "codemirror_mode": {
    "name": "ipython",
    "version": 3
   },
   "file_extension": ".py",
   "mimetype": "text/x-python",
   "name": "python",
   "nbconvert_exporter": "python",
   "pygments_lexer": "ipython3",
   "version": "3.11.13"
  }
 },
 "nbformat": 4,
 "nbformat_minor": 5
}
