{
 "cells": [
  {
   "cell_type": "markdown",
   "id": "d1096fab",
   "metadata": {},
   "source": [
    "# Explainer Model Performance Analysis\n",
    "\n",
    "This notebook analyzes the performance of different explainer models in generating explanations for SAE latent features. We compare models across multiple metrics including accuracy, F1 scores, token usage, and execution time.\n",
    "\n",
    "## Analysis Overview\n",
    "\n",
    "- **Accuracy Distribution**: Density plots showing accuracy distribution for each model\n",
    "- **Mean Performance**: Bar charts comparing mean accuracy across models\n",
    "- **Token Usage**: Analysis of computational efficiency and resource consumption\n",
    "- **Performance Summary**: Comprehensive comparison tables"
   ]
  },
  {
   "cell_type": "markdown",
   "id": "e60643f3",
   "metadata": {},
   "source": [
    "## 1. Setup and Configuration\n",
    "\n",
    "Import required libraries, define model name mapping for prettier display names, and set up output directories."
   ]
  },
  {
   "cell_type": "code",
   "execution_count": 34,
   "id": "934a96fd",
   "metadata": {},
   "outputs": [
    {
     "name": "stdout",
     "output_type": "stream",
     "text": [
      "Model prefix: pythiaST\n",
      "Compare thinking modes: True\n",
      "Results directory: /home/jeremias/projects/delphi-explanations/results\n",
      "Visualizations output: /home/jeremias/projects/delphi-explanations/results/visualizations\n",
      "Available result directories:\n",
      "  Thinking mode experiments:\n",
      "  Regular mode experiments:\n"
     ]
    }
   ],
   "source": [
    "import sys\n",
    "import os\n",
    "import json\n",
    "from pathlib import Path\n",
    "import pandas as pd\n",
    "import numpy as np\n",
    "\n",
    "# Add the parent directory to the path to import delphi modules\n",
    "sys.path.append(str(Path.cwd().parent))\n",
    "\n",
    "from delphi.log.result_analysis import (\n",
    "    import_plotly,\n",
    "    load_data\n",
    ")\n",
    "\n",
    "# Import plotly for plotting\n",
    "px = import_plotly()\n",
    "\n",
    "# Configuration - Model prefix for experiment naming\n",
    "MODEL_PREFIX = \"pythiaST\"  # Change this to match your base model (e.g., \"pythia\", \"gemma\", etc.)\n",
    "COMPARE_THINKING_MODES = True  # Set to True to compare both thinking and non-thinking modes\n",
    "\n",
    "# Define model name mapping for prettier display - updated to match actual directory names\n",
    "MODEL_NAME_MAPPING = {\n",
    "    \"gemma_3_4b_it_quantized_w4a16\": \"Gemma-3-4B-IT\",\n",
    "    \"Qwen3_4B_quantized_w4a16\": \"Qwen3-4B\", \n",
    "    \"gemma_3_12b_it_quantized_w4a16\": \"Gemma-3-12B-IT\",\n",
    "    \"gemma_3_27b_it_quantized_w4a16\": \"Gemma-3-27B-IT\",\n",
    "    \"Qwen3_14B_quantized_w4a16\": \"Qwen3-14B\",\n",
    "    \"Qwen3_32B_quantized_w4a16\": \"Qwen3-32B\",\n",
    "    \"Qwen3_235B_A22B_GPTQ_Int4\": \"Qwen3-235B\",\n",
    "    \"Llama_3_3_70B_Instruct_quantized_w4a16\": \"Llama-3.3-70B-Instruct\",\n",
    "    \"Llama_3_1_70B_Instruct_NVFP4\": \"Llama-3.1-70B-Instruct\",\n",
    "    \"Llama_4_Scout_17B_16E_Instruct_quantized_w4a16\": \"Llama-4-Scout-17B\",\n",
    "    \"Llama_4_Maverick_17B_128E_Instruct_quantized_w4a16\": \"Llama-4-Maverick-17B\",\n",
    "    \"llama_8b_explainer\": \"Transluce-Explainer-Llama-8B\"\n",
    "}\n",
    "\n",
    "def load_model_results(results_dir: Path, model_mapping: dict, model_prefix: str, compare_modes: bool = False):\n",
    "    \"\"\"Load results and statistics for all explainer models.\"\"\"\n",
    "    model_results = {}\n",
    "    model_stats = {}\n",
    "    \n",
    "    # If comparing modes, load both thinking and non-thinking experiments\n",
    "    modes_to_load = []\n",
    "    if compare_modes:\n",
    "        modes_to_load = [\n",
    "            (\"thinking\", f\"{model_prefix}ST_*_thinking_explanation_comparison\", f\"{model_prefix}ST_\", \"_thinking_explanation_comparison\"),\n",
    "            (\"regular\", f\"{model_prefix}ST_*_explanation_comparison\", f\"{model_prefix}_\", \"_explanation_comparison\")\n",
    "        ]\n",
    "    else:\n",
    "        # Legacy single mode support\n",
    "        modes_to_load = [\n",
    "            (\"single\", f\"{model_prefix}_*_explanation_comparison\", f\"{model_prefix}_\", \"_explanation_comparison\")\n",
    "        ]\n",
    "    \n",
    "    for mode_name, pattern, prefix_to_remove, suffix_to_remove in modes_to_load:\n",
    "        for exp_dir in results_dir.glob(pattern):\n",
    "            # Extract model name from directory: remove prefix and suffix\n",
    "            dir_name = exp_dir.name\n",
    "            model_key = dir_name.replace(prefix_to_remove, \"\").replace(suffix_to_remove, \"\")\n",
    "            base_display_name = model_mapping.get(model_key, model_key)\n",
    "            \n",
    "            # Add mode suffix to distinguish between thinking and regular modes\n",
    "            if compare_modes:\n",
    "                display_name = f\"{base_display_name} ({mode_name})\"\n",
    "            else:\n",
    "                display_name = base_display_name\n",
    "            \n",
    "            scores_path = exp_dir / \"scores\"\n",
    "            if scores_path.exists():\n",
    "                # Load scoring results\n",
    "                try:\n",
    "                    # All experiments now use the \"st\" cache\n",
    "                    cache_dir_name = \"pythia-160m-st\"  # All experiments use thinking mode cache\n",
    "                    latents_path = exp_dir.parent / cache_dir_name / \"latents\"\n",
    "                    if not latents_path.exists():\n",
    "                        latents_path = exp_dir / \"latents\"  # Fallback to local latents\n",
    "                    \n",
    "                    if latents_path.exists():\n",
    "                        # Extract module names from the actual files\n",
    "                        sample_score_dir = next(scores_path.iterdir())\n",
    "                        sample_files = list(sample_score_dir.glob(\"*.txt\"))\n",
    "                        if sample_files:\n",
    "                            # Extract module name from filename pattern (e.g., \"layers.32_latent0.txt\" -> \"layers.32\")\n",
    "                            sample_filename = sample_files[0].stem\n",
    "                            module_name = sample_filename.split('_latent')[0]\n",
    "                            modules = [module_name]\n",
    "                        else:\n",
    "                            print(f\"No score files found in {sample_score_dir}\")\n",
    "                            continue\n",
    "                        \n",
    "                        latent_df, counts = load_data(scores_path, latents_path, modules)\n",
    "                        \n",
    "                        # Calculate aggregate metrics similar to get_agg_metrics\n",
    "                        processed_data = []\n",
    "                        for score_type in latent_df[\"score_type\"].unique():\n",
    "                            score_subset = latent_df[latent_df[\"score_type\"] == score_type]\n",
    "                            \n",
    "                            # Calculate metrics\n",
    "                            accuracy = score_subset[\"correct\"].mean()\n",
    "                            \n",
    "                            # Calculate F1, precision, recall\n",
    "                            true_pos = ((score_subset[\"prediction\"] == True) & (score_subset[\"activating\"] == True)).sum()\n",
    "                            false_pos = ((score_subset[\"prediction\"] == True) & (score_subset[\"activating\"] == False)).sum()\n",
    "                            false_neg = ((score_subset[\"prediction\"] == False) & (score_subset[\"activating\"] == True)).sum()\n",
    "                            \n",
    "                            precision = true_pos / (true_pos + false_pos) if (true_pos + false_pos) > 0 else 0\n",
    "                            recall = true_pos / (true_pos + false_neg) if (true_pos + false_neg) > 0 else 0\n",
    "                            f1_score = 2 * precision * recall / (precision + recall) if (precision + recall) > 0 else 0\n",
    "                            \n",
    "                            processed_data.append({\n",
    "                                'score_type': score_type,\n",
    "                                'accuracy': accuracy,\n",
    "                                'f1_score': f1_score,\n",
    "                                'precision': precision,\n",
    "                                'recall': recall\n",
    "                            })\n",
    "                        \n",
    "                        model_results[display_name] = {\n",
    "                            'latent_df': latent_df,\n",
    "                            'processed_df': pd.DataFrame(processed_data),\n",
    "                            'counts': counts\n",
    "                        }\n",
    "                    \n",
    "                except Exception as e:\n",
    "                    print(f\"Error loading results for {model_key}: {e}\")\n",
    "                    continue\n",
    "            \n",
    "            # Load explainer statistics\n",
    "            stats_file = exp_dir / \"explainer_stats.json\"\n",
    "            if stats_file.exists():\n",
    "                try:\n",
    "                    with open(stats_file, 'r') as f:\n",
    "                        stats = json.load(f)\n",
    "                        model_stats[display_name] = stats\n",
    "                except Exception as e:\n",
    "                    print(f\"Error loading stats for {model_key}: {e}\")\n",
    "                    model_stats[display_name] = None\n",
    "            else:\n",
    "                model_stats[display_name] = None\n",
    "    \n",
    "    return model_results, model_stats\n",
    "\n",
    "# Set up directories\n",
    "results_dir = Path.cwd().parent / \"results\"\n",
    "visualizations_dir = results_dir / \"visualizations\"\n",
    "visualizations_dir.mkdir(exist_ok=True, parents=True)\n",
    "\n",
    "print(f\"Model prefix: {MODEL_PREFIX}\")\n",
    "print(f\"Compare thinking modes: {COMPARE_THINKING_MODES}\")\n",
    "print(f\"Results directory: {results_dir}\")\n",
    "print(f\"Visualizations output: {visualizations_dir}\")\n",
    "print(f\"Available result directories:\")\n",
    "if COMPARE_THINKING_MODES:\n",
    "    print(\"  Thinking mode experiments:\")\n",
    "    for d in results_dir.glob(f\"{MODEL_PREFIX}ST_*_thinking_explanation_comparison\"):\n",
    "        print(f\"    - {d.name}\")\n",
    "    print(\"  Regular mode experiments:\")\n",
    "    for d in results_dir.glob(f\"{MODEL_PREFIX}ST_*_explanation_comparison\"):\n",
    "        print(f\"    - {d.name}\")\n",
    "else:\n",
    "    pattern = f\"{MODEL_PREFIX}_*_explanation_comparison\"\n",
    "    for d in results_dir.glob(pattern):\n",
    "        print(f\"  - {d.name}\")"
   ]
  },
  {
   "cell_type": "markdown",
   "id": "e38a672b",
   "metadata": {},
   "source": [
    "## 2. Load Model Results\n",
    "\n",
    "Load explanation comparison results from all models and extract performance metrics."
   ]
  },
  {
   "cell_type": "code",
   "execution_count": 32,
   "id": "44990708",
   "metadata": {},
   "outputs": [
    {
     "name": "stdout",
     "output_type": "stream",
     "text": [
      "Loading model results...\n",
      "\n",
      "Loaded results for 0 models:\n",
      "\n",
      "Token usage statistics available for 0 models:\n"
     ]
    }
   ],
   "source": [
    "# Load all model results and statistics\n",
    "print(\"Loading model results...\")\n",
    "model_results, model_stats = load_model_results(results_dir, MODEL_NAME_MAPPING, MODEL_PREFIX, COMPARE_THINKING_MODES)\n",
    "\n",
    "print(f\"\\nLoaded results for {len(model_results)} models:\")\n",
    "for model_name in model_results.keys():\n",
    "    print(f\"  - {model_name}\")\n",
    "\n",
    "print(f\"\\nToken usage statistics available for {len([k for k, v in model_stats.items() if v is not None])} models:\")\n",
    "for model_name, stats in model_stats.items():\n",
    "    if stats:\n",
    "        print(f\"  - {model_name}: {list(stats.keys())}\")\n",
    "    else:\n",
    "        print(f\"  - {model_name}: No stats available\")\n",
    "\n",
    "# Display sample metrics for the first model\n",
    "if model_results:\n",
    "    sample_model = list(model_results.keys())[0]\n",
    "    sample_data = model_results[sample_model]['processed_df']\n",
    "    print(f\"\\nSample metrics from {sample_model}:\")\n",
    "    print(sample_data[['score_type', 'accuracy', 'f1_score', 'precision', 'recall']].round(3))"
   ]
  },
  {
   "cell_type": "markdown",
   "id": "7c4c94b4",
   "metadata": {},
   "source": [
    "## 3. Generate Accuracy Distribution Plots\n",
    "\n",
    "Create density plots showing accuracy distribution for each model and score type."
   ]
  },
  {
   "cell_type": "code",
   "execution_count": 33,
   "id": "a8faa50f",
   "metadata": {},
   "outputs": [
    {
     "name": "stdout",
     "output_type": "stream",
     "text": [
      "Generating accuracy density distribution plots...\n"
     ]
    },
    {
     "ename": "IndexError",
     "evalue": "list index out of range",
     "output_type": "error",
     "traceback": [
      "\u001b[31m---------------------------------------------------------------------------\u001b[39m",
      "\u001b[31mIndexError\u001b[39m                                Traceback (most recent call last)",
      "\u001b[36mCell\u001b[39m\u001b[36m \u001b[39m\u001b[32mIn[33]\u001b[39m\u001b[32m, line 9\u001b[39m\n\u001b[32m      6\u001b[39m \u001b[38;5;28;01mfrom\u001b[39;00m\u001b[38;5;250m \u001b[39m\u001b[34;01mscipy\u001b[39;00m\u001b[38;5;250m \u001b[39m\u001b[38;5;28;01mimport\u001b[39;00m stats\n\u001b[32m      8\u001b[39m \u001b[38;5;66;03m# First, let's check what data we have available\u001b[39;00m\n\u001b[32m----> \u001b[39m\u001b[32m9\u001b[39m sample_model = \u001b[38;5;28;43mlist\u001b[39;49m\u001b[43m(\u001b[49m\u001b[43mmodel_results\u001b[49m\u001b[43m.\u001b[49m\u001b[43mkeys\u001b[49m\u001b[43m(\u001b[49m\u001b[43m)\u001b[49m\u001b[43m)\u001b[49m\u001b[43m[\u001b[49m\u001b[32;43m0\u001b[39;49m\u001b[43m]\u001b[49m\n\u001b[32m     10\u001b[39m sample_latent_df = model_results[sample_model][\u001b[33m'\u001b[39m\u001b[33mlatent_df\u001b[39m\u001b[33m'\u001b[39m]\n\u001b[32m     11\u001b[39m \u001b[38;5;28mprint\u001b[39m(\u001b[33mf\u001b[39m\u001b[33m\"\u001b[39m\u001b[38;5;130;01m\\n\u001b[39;00m\u001b[33mColumns in latent_df: \u001b[39m\u001b[38;5;132;01m{\u001b[39;00msample_latent_df.columns.tolist()\u001b[38;5;132;01m}\u001b[39;00m\u001b[33m\"\u001b[39m)\n",
      "\u001b[31mIndexError\u001b[39m: list index out of range"
     ]
    }
   ],
   "source": [
    "# Generate KDE density distribution plots for accuracy\n",
    "print(\"Generating accuracy density distribution plots...\")\n",
    "\n",
    "# Import required libraries\n",
    "import plotly.graph_objects as go\n",
    "from scipy import stats\n",
    "\n",
    "# First, let's check what data we have available\n",
    "sample_model = list(model_results.keys())[0]\n",
    "sample_latent_df = model_results[sample_model]['latent_df']\n",
    "print(f\"\\nColumns in latent_df: {sample_latent_df.columns.tolist()}\")\n",
    "print(f\"Sample data shape: {sample_latent_df.shape}\")\n",
    "print(f\"Score types: {sample_latent_df['score_type'].unique()}\")\n",
    "\n",
    "# Define color and line style mapping by model family and mode\n",
    "def get_model_style(model_name):\n",
    "    \"\"\"Get color and line style based on model family and thinking mode\"\"\"\n",
    "    # Extract base model name (remove mode suffix)\n",
    "    is_thinking = '(thinking)' in model_name\n",
    "    base_name = model_name.replace(' (thinking)', '').replace(' (regular)', '')\n",
    "    \n",
    "    # Get base color by model family\n",
    "    if 'Gemma' in base_name:\n",
    "        base_color = 'green'\n",
    "        # Different line styles for different Gemma models\n",
    "        if '4B' in base_name:\n",
    "            line_style = 'solid'\n",
    "        elif '12B' in base_name:\n",
    "            line_style = 'dash'\n",
    "        elif '27B' in base_name:\n",
    "            line_style = 'dot'\n",
    "        else:\n",
    "            line_style = 'dashdot'\n",
    "    elif 'Qwen' in base_name:\n",
    "        base_color = 'red'\n",
    "        # Different line styles for different Qwen models\n",
    "        if '4B' in base_name:\n",
    "            line_style = 'solid'\n",
    "        elif '14B' in base_name:\n",
    "            line_style = 'dash'\n",
    "        elif '32B' in base_name:\n",
    "            line_style = 'dot'\n",
    "        elif '235B' in base_name:\n",
    "            line_style = 'longdash'\n",
    "        else:\n",
    "            line_style = 'dashdot'\n",
    "    elif 'Llama' in base_name:\n",
    "        base_color = 'blue'\n",
    "        # Different line styles for different Llama models\n",
    "        if '3.3' in base_name:\n",
    "            line_style = 'solid'\n",
    "        elif '3.1' in base_name:\n",
    "            line_style = 'dash'\n",
    "        elif 'Scout' in base_name:\n",
    "            line_style = 'dot'\n",
    "        elif 'Maverick' in base_name:\n",
    "            line_style = 'dashdot'\n",
    "        else:\n",
    "            line_style = 'longdash'\n",
    "    else:\n",
    "        base_color = 'gray'\n",
    "        line_style = 'solid'\n",
    "    \n",
    "    # Adjust color intensity based on thinking mode\n",
    "    if is_thinking:\n",
    "        # Darker colors for thinking mode\n",
    "        color_map = {\n",
    "            'green': 'darkgreen',\n",
    "            'red': 'darkred', \n",
    "            'blue': 'darkblue',\n",
    "            'gray': 'darkgray'\n",
    "        }\n",
    "        color = color_map.get(base_color, 'darkgray')\n",
    "    else:\n",
    "        # Lighter colors for regular mode\n",
    "        color_map = {\n",
    "            'green': 'lightgreen',\n",
    "            'red': 'lightcoral',\n",
    "            'blue': 'lightblue', \n",
    "            'gray': 'lightgray'\n",
    "        }\n",
    "        color = color_map.get(base_color, 'lightgray')\n",
    "    \n",
    "    return color, line_style\n",
    "\n",
    "# Create accuracy_df for bar charts (aggregate data)\n",
    "all_data = []\n",
    "for model_name, data in model_results.items():\n",
    "    for score_type in data['processed_df']['score_type'].unique():\n",
    "        score_data = data['processed_df'][data['processed_df']['score_type'] == score_type].iloc[0]\n",
    "        all_data.append({\n",
    "            'model': model_name,\n",
    "            'score_type': score_type,\n",
    "            'accuracy': score_data['accuracy'],\n",
    "            'f1_score': score_data['f1_score'],\n",
    "            'precision': score_data['precision'],\n",
    "            'recall': score_data['recall']\n",
    "        })\n",
    "\n",
    "accuracy_df = pd.DataFrame(all_data)\n",
    "print(\"\\nAccuracy data summary:\")\n",
    "print(accuracy_df.groupby('score_type')[['accuracy', 'f1_score']].describe().round(3))\n",
    "\n",
    "# Check if we have individual accuracy measurements for KDE plots\n",
    "if 'correct' in sample_latent_df.columns:\n",
    "    print(\"Found 'correct' column - will calculate accuracy per latent for KDE plots\")\n",
    "    \n",
    "    # Create KDE density plots for each score type\n",
    "    for score_type in sample_latent_df['score_type'].unique():\n",
    "        print(f\"\\nCreating KDE density plot for {score_type}...\")\n",
    "        \n",
    "        # Initialize counters for data quality tracking\n",
    "        nan_counter = 0\n",
    "        inf_counter = 0\n",
    "        total_points = 0\n",
    "        \n",
    "        # Collect accuracy data for all models for this score type\n",
    "        plot_data = []\n",
    "        for model_name, data in model_results.items():\n",
    "            latent_df = data['latent_df']\n",
    "            score_subset = latent_df[latent_df['score_type'] == score_type]\n",
    "            \n",
    "            if len(score_subset) > 0:\n",
    "                # Calculate accuracy per latent (group by latent_idx if available, or use individual rows)\n",
    "                if 'latent_idx' in score_subset.columns:\n",
    "                    # Group by latent and calculate accuracy\n",
    "                    latent_accuracies = score_subset.groupby('latent_idx')['correct'].mean()\n",
    "                    for accuracy in latent_accuracies:\n",
    "                        total_points += 1\n",
    "                        if pd.isna(accuracy):\n",
    "                            nan_counter += 1\n",
    "                        elif not np.isfinite(accuracy):\n",
    "                            inf_counter += 1\n",
    "                        else:\n",
    "                            plot_data.append({\n",
    "                                'model': model_name,\n",
    "                                'accuracy': accuracy\n",
    "                            })\n",
    "                else:\n",
    "                    # Use individual correct values as accuracy (0 or 1)\n",
    "                    for _, row in score_subset.iterrows():\n",
    "                        total_points += 1\n",
    "                        accuracy = float(row['correct'])\n",
    "                        if pd.isna(accuracy):\n",
    "                            nan_counter += 1\n",
    "                        elif not np.isfinite(accuracy):\n",
    "                            inf_counter += 1\n",
    "                        else:\n",
    "                            plot_data.append({\n",
    "                                'model': model_name,\n",
    "                                'accuracy': accuracy\n",
    "                            })\n",
    "        \n",
    "        if plot_data:\n",
    "            plot_df = pd.DataFrame(plot_data)\n",
    "            \n",
    "            # Create KDE line density plot\n",
    "            fig_line = go.Figure()\n",
    "            \n",
    "            for model in sorted(plot_df['model'].unique()):\n",
    "                model_data = plot_df[plot_df['model'] == model]['accuracy']\n",
    "                \n",
    "                # Clean the data: remove NaN and infinite values\n",
    "                model_data_clean = model_data.dropna()\n",
    "                model_data_clean = model_data_clean[np.isfinite(model_data_clean)]\n",
    "                \n",
    "                if len(model_data_clean) > 1:  # Need multiple points for KDE\n",
    "                    # Check if data has sufficient variance for KDE\n",
    "                    if model_data_clean.std() > 1e-10:  # Check for non-zero variance\n",
    "                        # Get color and line style based on model family\n",
    "                        color, line_style = get_model_style(model)\n",
    "                        \n",
    "                        try:\n",
    "                            # Create kernel density estimation\n",
    "                            kde = stats.gaussian_kde(model_data_clean)\n",
    "                            x_range = np.linspace(0, 1, 100)\n",
    "                            density = kde(x_range)\n",
    "                            \n",
    "                            fig_line.add_trace(go.Scatter(\n",
    "                                x=x_range,\n",
    "                                y=density,\n",
    "                                mode='lines',\n",
    "                                name=model,\n",
    "                                line=dict(\n",
    "                                    width=3,\n",
    "                                    color=color,\n",
    "                                    dash=line_style\n",
    "                                )\n",
    "                            ))\n",
    "                        except Exception as e:\n",
    "                            print(f\"Warning: Could not create KDE for {model}: {e}\")\n",
    "                            print(f\"Data summary for {model}: min={model_data_clean.min():.3f}, max={model_data_clean.max():.3f}, std={model_data_clean.std():.6f}\")\n",
    "                    else:\n",
    "                        print(f\"Warning: {model} has constant accuracy values, skipping KDE plot\")\n",
    "                        print(f\"Constant value: {model_data_clean.iloc[0]:.3f}\")\n",
    "                elif len(model_data_clean) == 1:\n",
    "                    print(f\"Warning: {model} has only one data point, skipping KDE plot\")\n",
    "                else:\n",
    "                    print(f\"Warning: {model} has no valid data points after cleaning\")\n",
    "            \n",
    "            fig_line.update_layout(\n",
    "                title=f'Accuracy Density Distribution - {score_type.title()}',\n",
    "                xaxis_title=\"Accuracy\",\n",
    "                yaxis_title=\"Density\",\n",
    "                height=500,\n",
    "                legend=dict(\n",
    "                    yanchor=\"top\",\n",
    "                    y=0.99,\n",
    "                    xanchor=\"left\",\n",
    "                    x=0.01\n",
    "                ),\n",
    "                font=dict(size=12)\n",
    "            )\n",
    "            \n",
    "            # Show KDE density plot\n",
    "            fig_line.show()\n",
    "            \n",
    "            # Print data quality summary\n",
    "            valid_points = len(plot_data)\n",
    "            print(f\"\\nData Quality Summary for {score_type}:\")\n",
    "            print(f\"  Total data points processed: {total_points}\")\n",
    "            print(f\"  Valid data points used: {valid_points}\")\n",
    "            print(f\"  NaN values found: {nan_counter}\")\n",
    "            print(f\"  Infinite values found: {inf_counter}\")\n",
    "            print(f\"  Data quality rate: {(valid_points/total_points*100):.1f}%\" if total_points > 0 else \"  No data processed\")\n",
    "            \n",
    "            # Save KDE density plot in both PDF and PNG formats\n",
    "            output_file_pdf = visualizations_dir / f\"accuracy_density_{score_type}.pdf\"\n",
    "            output_file_png = visualizations_dir / f\"accuracy_density_{score_type}.png\"\n",
    "            fig_line.write_image(str(output_file_pdf))\n",
    "            fig_line.write_image(str(output_file_png))\n",
    "            print(f\"Saved KDE density plot: {output_file_pdf}\")\n",
    "            print(f\"Saved KDE density plot: {output_file_png}\")\n",
    "\n",
    "else:\n",
    "    print(\"No 'correct' column found - cannot create density plots with individual measurements\")\n",
    "    print(\"Need individual accuracy measurements to create meaningful density distributions\")"
   ]
  },
  {
   "cell_type": "markdown",
   "id": "7a674b50",
   "metadata": {},
   "source": [
    "## 4. Generate Mean Accuracy Bar Charts\n",
    "\n",
    "Create bar charts displaying mean accuracy for each model and score type."
   ]
  },
  {
   "cell_type": "code",
   "execution_count": null,
   "id": "0916e89d",
   "metadata": {},
   "outputs": [
    {
     "name": "stdout",
     "output_type": "stream",
     "text": [
      "Generating mean accuracy bar charts...\n"
     ]
    },
    {
     "data": {
      "application/vnd.plotly.v1+json": {
       "config": {
        "plotlyServerURL": "https://plot.ly"
       },
       "data": [
        {
         "hovertemplate": "model=%{x}<br>accuracy=%{text}<extra></extra>",
         "legendgroup": "",
         "marker": {
          "color": "#636efa",
          "pattern": {
           "shape": ""
          }
         },
         "name": "",
         "orientation": "v",
         "showlegend": false,
         "text": {
          "bdata": "nmo3BNGd7D8odA3/UmbsP7dfv7fGxes/gI37K8LA6z+dyromdH/rP6Ep7VtoSus/mPg/ErVB6z8PDw8PDw/rP9UHO26h1Ok/YUUHiLtp6T/36rvtqeLhPw==",
          "dtype": "f8"
         },
         "textposition": "outside",
         "texttemplate": "%{text:.3f}",
         "type": "bar",
         "x": [
          "Qwen3-32B (regular)",
          "Llama-4-Maverick-17B (regular)",
          "Qwen3-235B (regular)",
          "Llama-3.1-70B-Instruct (regular)",
          "Gemma-3-27B-IT (regular)",
          "Llama-3.3-70B-Instruct (regular)",
          "Llama-4-Scout-17B (regular)",
          "Qwen3-14B (regular)",
          "Gemma-3-12B-IT (regular)",
          "Qwen3-4B (regular)",
          "Gemma-3-4B-IT (regular)"
         ],
         "xaxis": "x",
         "y": {
          "bdata": "nmo3BNGd7D8odA3/UmbsP7dfv7fGxes/gI37K8LA6z+dyromdH/rP6Ep7VtoSus/mPg/ErVB6z8PDw8PDw/rP9UHO26h1Ok/YUUHiLtp6T/36rvtqeLhPw==",
          "dtype": "f8"
         },
         "yaxis": "y"
        }
       ],
       "layout": {
        "barmode": "relative",
        "height": 500,
        "legend": {
         "tracegroupgap": 0
        },
        "template": {
         "data": {
          "bar": [
           {
            "error_x": {
             "color": "#2a3f5f"
            },
            "error_y": {
             "color": "#2a3f5f"
            },
            "marker": {
             "line": {
              "color": "#E5ECF6",
              "width": 0.5
             },
             "pattern": {
              "fillmode": "overlay",
              "size": 10,
              "solidity": 0.2
             }
            },
            "type": "bar"
           }
          ],
          "barpolar": [
           {
            "marker": {
             "line": {
              "color": "#E5ECF6",
              "width": 0.5
             },
             "pattern": {
              "fillmode": "overlay",
              "size": 10,
              "solidity": 0.2
             }
            },
            "type": "barpolar"
           }
          ],
          "carpet": [
           {
            "aaxis": {
             "endlinecolor": "#2a3f5f",
             "gridcolor": "white",
             "linecolor": "white",
             "minorgridcolor": "white",
             "startlinecolor": "#2a3f5f"
            },
            "baxis": {
             "endlinecolor": "#2a3f5f",
             "gridcolor": "white",
             "linecolor": "white",
             "minorgridcolor": "white",
             "startlinecolor": "#2a3f5f"
            },
            "type": "carpet"
           }
          ],
          "choropleth": [
           {
            "colorbar": {
             "outlinewidth": 0,
             "ticks": ""
            },
            "type": "choropleth"
           }
          ],
          "contour": [
           {
            "colorbar": {
             "outlinewidth": 0,
             "ticks": ""
            },
            "colorscale": [
             [
              0,
              "#0d0887"
             ],
             [
              0.1111111111111111,
              "#46039f"
             ],
             [
              0.2222222222222222,
              "#7201a8"
             ],
             [
              0.3333333333333333,
              "#9c179e"
             ],
             [
              0.4444444444444444,
              "#bd3786"
             ],
             [
              0.5555555555555556,
              "#d8576b"
             ],
             [
              0.6666666666666666,
              "#ed7953"
             ],
             [
              0.7777777777777778,
              "#fb9f3a"
             ],
             [
              0.8888888888888888,
              "#fdca26"
             ],
             [
              1,
              "#f0f921"
             ]
            ],
            "type": "contour"
           }
          ],
          "contourcarpet": [
           {
            "colorbar": {
             "outlinewidth": 0,
             "ticks": ""
            },
            "type": "contourcarpet"
           }
          ],
          "heatmap": [
           {
            "colorbar": {
             "outlinewidth": 0,
             "ticks": ""
            },
            "colorscale": [
             [
              0,
              "#0d0887"
             ],
             [
              0.1111111111111111,
              "#46039f"
             ],
             [
              0.2222222222222222,
              "#7201a8"
             ],
             [
              0.3333333333333333,
              "#9c179e"
             ],
             [
              0.4444444444444444,
              "#bd3786"
             ],
             [
              0.5555555555555556,
              "#d8576b"
             ],
             [
              0.6666666666666666,
              "#ed7953"
             ],
             [
              0.7777777777777778,
              "#fb9f3a"
             ],
             [
              0.8888888888888888,
              "#fdca26"
             ],
             [
              1,
              "#f0f921"
             ]
            ],
            "type": "heatmap"
           }
          ],
          "histogram": [
           {
            "marker": {
             "pattern": {
              "fillmode": "overlay",
              "size": 10,
              "solidity": 0.2
             }
            },
            "type": "histogram"
           }
          ],
          "histogram2d": [
           {
            "colorbar": {
             "outlinewidth": 0,
             "ticks": ""
            },
            "colorscale": [
             [
              0,
              "#0d0887"
             ],
             [
              0.1111111111111111,
              "#46039f"
             ],
             [
              0.2222222222222222,
              "#7201a8"
             ],
             [
              0.3333333333333333,
              "#9c179e"
             ],
             [
              0.4444444444444444,
              "#bd3786"
             ],
             [
              0.5555555555555556,
              "#d8576b"
             ],
             [
              0.6666666666666666,
              "#ed7953"
             ],
             [
              0.7777777777777778,
              "#fb9f3a"
             ],
             [
              0.8888888888888888,
              "#fdca26"
             ],
             [
              1,
              "#f0f921"
             ]
            ],
            "type": "histogram2d"
           }
          ],
          "histogram2dcontour": [
           {
            "colorbar": {
             "outlinewidth": 0,
             "ticks": ""
            },
            "colorscale": [
             [
              0,
              "#0d0887"
             ],
             [
              0.1111111111111111,
              "#46039f"
             ],
             [
              0.2222222222222222,
              "#7201a8"
             ],
             [
              0.3333333333333333,
              "#9c179e"
             ],
             [
              0.4444444444444444,
              "#bd3786"
             ],
             [
              0.5555555555555556,
              "#d8576b"
             ],
             [
              0.6666666666666666,
              "#ed7953"
             ],
             [
              0.7777777777777778,
              "#fb9f3a"
             ],
             [
              0.8888888888888888,
              "#fdca26"
             ],
             [
              1,
              "#f0f921"
             ]
            ],
            "type": "histogram2dcontour"
           }
          ],
          "mesh3d": [
           {
            "colorbar": {
             "outlinewidth": 0,
             "ticks": ""
            },
            "type": "mesh3d"
           }
          ],
          "parcoords": [
           {
            "line": {
             "colorbar": {
              "outlinewidth": 0,
              "ticks": ""
             }
            },
            "type": "parcoords"
           }
          ],
          "pie": [
           {
            "automargin": true,
            "type": "pie"
           }
          ],
          "scatter": [
           {
            "fillpattern": {
             "fillmode": "overlay",
             "size": 10,
             "solidity": 0.2
            },
            "type": "scatter"
           }
          ],
          "scatter3d": [
           {
            "line": {
             "colorbar": {
              "outlinewidth": 0,
              "ticks": ""
             }
            },
            "marker": {
             "colorbar": {
              "outlinewidth": 0,
              "ticks": ""
             }
            },
            "type": "scatter3d"
           }
          ],
          "scattercarpet": [
           {
            "marker": {
             "colorbar": {
              "outlinewidth": 0,
              "ticks": ""
             }
            },
            "type": "scattercarpet"
           }
          ],
          "scattergeo": [
           {
            "marker": {
             "colorbar": {
              "outlinewidth": 0,
              "ticks": ""
             }
            },
            "type": "scattergeo"
           }
          ],
          "scattergl": [
           {
            "marker": {
             "colorbar": {
              "outlinewidth": 0,
              "ticks": ""
             }
            },
            "type": "scattergl"
           }
          ],
          "scattermap": [
           {
            "marker": {
             "colorbar": {
              "outlinewidth": 0,
              "ticks": ""
             }
            },
            "type": "scattermap"
           }
          ],
          "scattermapbox": [
           {
            "marker": {
             "colorbar": {
              "outlinewidth": 0,
              "ticks": ""
             }
            },
            "type": "scattermapbox"
           }
          ],
          "scatterpolar": [
           {
            "marker": {
             "colorbar": {
              "outlinewidth": 0,
              "ticks": ""
             }
            },
            "type": "scatterpolar"
           }
          ],
          "scatterpolargl": [
           {
            "marker": {
             "colorbar": {
              "outlinewidth": 0,
              "ticks": ""
             }
            },
            "type": "scatterpolargl"
           }
          ],
          "scatterternary": [
           {
            "marker": {
             "colorbar": {
              "outlinewidth": 0,
              "ticks": ""
             }
            },
            "type": "scatterternary"
           }
          ],
          "surface": [
           {
            "colorbar": {
             "outlinewidth": 0,
             "ticks": ""
            },
            "colorscale": [
             [
              0,
              "#0d0887"
             ],
             [
              0.1111111111111111,
              "#46039f"
             ],
             [
              0.2222222222222222,
              "#7201a8"
             ],
             [
              0.3333333333333333,
              "#9c179e"
             ],
             [
              0.4444444444444444,
              "#bd3786"
             ],
             [
              0.5555555555555556,
              "#d8576b"
             ],
             [
              0.6666666666666666,
              "#ed7953"
             ],
             [
              0.7777777777777778,
              "#fb9f3a"
             ],
             [
              0.8888888888888888,
              "#fdca26"
             ],
             [
              1,
              "#f0f921"
             ]
            ],
            "type": "surface"
           }
          ],
          "table": [
           {
            "cells": {
             "fill": {
              "color": "#EBF0F8"
             },
             "line": {
              "color": "white"
             }
            },
            "header": {
             "fill": {
              "color": "#C8D4E3"
             },
             "line": {
              "color": "white"
             }
            },
            "type": "table"
           }
          ]
         },
         "layout": {
          "annotationdefaults": {
           "arrowcolor": "#2a3f5f",
           "arrowhead": 0,
           "arrowwidth": 1
          },
          "autotypenumbers": "strict",
          "coloraxis": {
           "colorbar": {
            "outlinewidth": 0,
            "ticks": ""
           }
          },
          "colorscale": {
           "diverging": [
            [
             0,
             "#8e0152"
            ],
            [
             0.1,
             "#c51b7d"
            ],
            [
             0.2,
             "#de77ae"
            ],
            [
             0.3,
             "#f1b6da"
            ],
            [
             0.4,
             "#fde0ef"
            ],
            [
             0.5,
             "#f7f7f7"
            ],
            [
             0.6,
             "#e6f5d0"
            ],
            [
             0.7,
             "#b8e186"
            ],
            [
             0.8,
             "#7fbc41"
            ],
            [
             0.9,
             "#4d9221"
            ],
            [
             1,
             "#276419"
            ]
           ],
           "sequential": [
            [
             0,
             "#0d0887"
            ],
            [
             0.1111111111111111,
             "#46039f"
            ],
            [
             0.2222222222222222,
             "#7201a8"
            ],
            [
             0.3333333333333333,
             "#9c179e"
            ],
            [
             0.4444444444444444,
             "#bd3786"
            ],
            [
             0.5555555555555556,
             "#d8576b"
            ],
            [
             0.6666666666666666,
             "#ed7953"
            ],
            [
             0.7777777777777778,
             "#fb9f3a"
            ],
            [
             0.8888888888888888,
             "#fdca26"
            ],
            [
             1,
             "#f0f921"
            ]
           ],
           "sequentialminus": [
            [
             0,
             "#0d0887"
            ],
            [
             0.1111111111111111,
             "#46039f"
            ],
            [
             0.2222222222222222,
             "#7201a8"
            ],
            [
             0.3333333333333333,
             "#9c179e"
            ],
            [
             0.4444444444444444,
             "#bd3786"
            ],
            [
             0.5555555555555556,
             "#d8576b"
            ],
            [
             0.6666666666666666,
             "#ed7953"
            ],
            [
             0.7777777777777778,
             "#fb9f3a"
            ],
            [
             0.8888888888888888,
             "#fdca26"
            ],
            [
             1,
             "#f0f921"
            ]
           ]
          },
          "colorway": [
           "#636efa",
           "#EF553B",
           "#00cc96",
           "#ab63fa",
           "#FFA15A",
           "#19d3f3",
           "#FF6692",
           "#B6E880",
           "#FF97FF",
           "#FECB52"
          ],
          "font": {
           "color": "#2a3f5f"
          },
          "geo": {
           "bgcolor": "white",
           "lakecolor": "white",
           "landcolor": "#E5ECF6",
           "showlakes": true,
           "showland": true,
           "subunitcolor": "white"
          },
          "hoverlabel": {
           "align": "left"
          },
          "hovermode": "closest",
          "mapbox": {
           "style": "light"
          },
          "paper_bgcolor": "white",
          "plot_bgcolor": "#E5ECF6",
          "polar": {
           "angularaxis": {
            "gridcolor": "white",
            "linecolor": "white",
            "ticks": ""
           },
           "bgcolor": "#E5ECF6",
           "radialaxis": {
            "gridcolor": "white",
            "linecolor": "white",
            "ticks": ""
           }
          },
          "scene": {
           "xaxis": {
            "backgroundcolor": "#E5ECF6",
            "gridcolor": "white",
            "gridwidth": 2,
            "linecolor": "white",
            "showbackground": true,
            "ticks": "",
            "zerolinecolor": "white"
           },
           "yaxis": {
            "backgroundcolor": "#E5ECF6",
            "gridcolor": "white",
            "gridwidth": 2,
            "linecolor": "white",
            "showbackground": true,
            "ticks": "",
            "zerolinecolor": "white"
           },
           "zaxis": {
            "backgroundcolor": "#E5ECF6",
            "gridcolor": "white",
            "gridwidth": 2,
            "linecolor": "white",
            "showbackground": true,
            "ticks": "",
            "zerolinecolor": "white"
           }
          },
          "shapedefaults": {
           "line": {
            "color": "#2a3f5f"
           }
          },
          "ternary": {
           "aaxis": {
            "gridcolor": "white",
            "linecolor": "white",
            "ticks": ""
           },
           "baxis": {
            "gridcolor": "white",
            "linecolor": "white",
            "ticks": ""
           },
           "bgcolor": "#E5ECF6",
           "caxis": {
            "gridcolor": "white",
            "linecolor": "white",
            "ticks": ""
           }
          },
          "title": {
           "x": 0.05
          },
          "xaxis": {
           "automargin": true,
           "gridcolor": "white",
           "linecolor": "white",
           "ticks": "",
           "title": {
            "standoff": 15
           },
           "zerolinecolor": "white",
           "zerolinewidth": 2
          },
          "yaxis": {
           "automargin": true,
           "gridcolor": "white",
           "linecolor": "white",
           "ticks": "",
           "title": {
            "standoff": 15
           },
           "zerolinecolor": "white",
           "zerolinewidth": 2
          }
         }
        },
        "title": {
         "text": "Mean Accuracy by Model - Fuzz"
        },
        "xaxis": {
         "anchor": "y",
         "domain": [
          0,
          1
         ],
         "tickangle": 45,
         "title": {
          "text": "Model"
         }
        },
        "yaxis": {
         "anchor": "x",
         "domain": [
          0,
          1
         ],
         "range": [
          0,
          1
         ],
         "title": {
          "text": "Accuracy"
         }
        }
       }
      }
     },
     "metadata": {},
     "output_type": "display_data"
    },
    {
     "name": "stdout",
     "output_type": "stream",
     "text": [
      "Saved bar chart: /home/jeremias/projects/delphi-explanations/results/visualizations/accuracy_bar_fuzz.pdf\n",
      "Saved bar chart: /home/jeremias/projects/delphi-explanations/results/visualizations/accuracy_bar_fuzz.png\n"
     ]
    },
    {
     "name": "stderr",
     "output_type": "stream",
     "text": [
      "/tmp/ipykernel_2203508/3557244602.py:31: DeprecationWarning:\n",
      "\n",
      "\n",
      "Support for Kaleido versions less than 1.0.0 is deprecated and will be removed after September 2025.\n",
      "Please upgrade Kaleido to version 1.0.0 or greater (`pip install 'kaleido>=1.0.0'` or `pip install 'plotly[kaleido]'`).\n",
      "\n",
      "\n",
      "/tmp/ipykernel_2203508/3557244602.py:32: DeprecationWarning:\n",
      "\n",
      "\n",
      "Support for Kaleido versions less than 1.0.0 is deprecated and will be removed after September 2025.\n",
      "Please upgrade Kaleido to version 1.0.0 or greater (`pip install 'kaleido>=1.0.0'` or `pip install 'plotly[kaleido]'`).\n",
      "\n",
      "\n"
     ]
    },
    {
     "data": {
      "application/vnd.plotly.v1+json": {
       "config": {
        "plotlyServerURL": "https://plot.ly"
       },
       "data": [
        {
         "hovertemplate": "model=%{x}<br>accuracy=%{text}<extra></extra>",
         "legendgroup": "",
         "marker": {
          "color": "#636efa",
          "pattern": {
           "shape": ""
          }
         },
         "name": "",
         "orientation": "v",
         "showlegend": false,
         "text": {
          "bdata": "JiD2SzFI6T8E0Z1qNwTpP+ETR3qt4Og/R4ElTGTT6D+Uk5OTk5PoP5H3XcQqkeg/S2Amk3eK6D83BNGdajfoPztT9ANqJug/C11J2IaF5z+6g3xqvQzjPw==",
          "dtype": "f8"
         },
         "textposition": "outside",
         "texttemplate": "%{text:.3f}",
         "type": "bar",
         "x": [
          "Gemma-3-27B-IT (regular)",
          "Qwen3-32B (regular)",
          "Qwen3-235B (regular)",
          "Llama-4-Maverick-17B (regular)",
          "Qwen3-14B (regular)",
          "Llama-3.1-70B-Instruct (regular)",
          "Llama-4-Scout-17B (regular)",
          "Gemma-3-12B-IT (regular)",
          "Llama-3.3-70B-Instruct (regular)",
          "Qwen3-4B (regular)",
          "Gemma-3-4B-IT (regular)"
         ],
         "xaxis": "x",
         "y": {
          "bdata": "JiD2SzFI6T8E0Z1qNwTpP+ETR3qt4Og/R4ElTGTT6D+Uk5OTk5PoP5H3XcQqkeg/S2Amk3eK6D83BNGdajfoPztT9ANqJug/C11J2IaF5z+6g3xqvQzjPw==",
          "dtype": "f8"
         },
         "yaxis": "y"
        }
       ],
       "layout": {
        "barmode": "relative",
        "height": 500,
        "legend": {
         "tracegroupgap": 0
        },
        "template": {
         "data": {
          "bar": [
           {
            "error_x": {
             "color": "#2a3f5f"
            },
            "error_y": {
             "color": "#2a3f5f"
            },
            "marker": {
             "line": {
              "color": "#E5ECF6",
              "width": 0.5
             },
             "pattern": {
              "fillmode": "overlay",
              "size": 10,
              "solidity": 0.2
             }
            },
            "type": "bar"
           }
          ],
          "barpolar": [
           {
            "marker": {
             "line": {
              "color": "#E5ECF6",
              "width": 0.5
             },
             "pattern": {
              "fillmode": "overlay",
              "size": 10,
              "solidity": 0.2
             }
            },
            "type": "barpolar"
           }
          ],
          "carpet": [
           {
            "aaxis": {
             "endlinecolor": "#2a3f5f",
             "gridcolor": "white",
             "linecolor": "white",
             "minorgridcolor": "white",
             "startlinecolor": "#2a3f5f"
            },
            "baxis": {
             "endlinecolor": "#2a3f5f",
             "gridcolor": "white",
             "linecolor": "white",
             "minorgridcolor": "white",
             "startlinecolor": "#2a3f5f"
            },
            "type": "carpet"
           }
          ],
          "choropleth": [
           {
            "colorbar": {
             "outlinewidth": 0,
             "ticks": ""
            },
            "type": "choropleth"
           }
          ],
          "contour": [
           {
            "colorbar": {
             "outlinewidth": 0,
             "ticks": ""
            },
            "colorscale": [
             [
              0,
              "#0d0887"
             ],
             [
              0.1111111111111111,
              "#46039f"
             ],
             [
              0.2222222222222222,
              "#7201a8"
             ],
             [
              0.3333333333333333,
              "#9c179e"
             ],
             [
              0.4444444444444444,
              "#bd3786"
             ],
             [
              0.5555555555555556,
              "#d8576b"
             ],
             [
              0.6666666666666666,
              "#ed7953"
             ],
             [
              0.7777777777777778,
              "#fb9f3a"
             ],
             [
              0.8888888888888888,
              "#fdca26"
             ],
             [
              1,
              "#f0f921"
             ]
            ],
            "type": "contour"
           }
          ],
          "contourcarpet": [
           {
            "colorbar": {
             "outlinewidth": 0,
             "ticks": ""
            },
            "type": "contourcarpet"
           }
          ],
          "heatmap": [
           {
            "colorbar": {
             "outlinewidth": 0,
             "ticks": ""
            },
            "colorscale": [
             [
              0,
              "#0d0887"
             ],
             [
              0.1111111111111111,
              "#46039f"
             ],
             [
              0.2222222222222222,
              "#7201a8"
             ],
             [
              0.3333333333333333,
              "#9c179e"
             ],
             [
              0.4444444444444444,
              "#bd3786"
             ],
             [
              0.5555555555555556,
              "#d8576b"
             ],
             [
              0.6666666666666666,
              "#ed7953"
             ],
             [
              0.7777777777777778,
              "#fb9f3a"
             ],
             [
              0.8888888888888888,
              "#fdca26"
             ],
             [
              1,
              "#f0f921"
             ]
            ],
            "type": "heatmap"
           }
          ],
          "histogram": [
           {
            "marker": {
             "pattern": {
              "fillmode": "overlay",
              "size": 10,
              "solidity": 0.2
             }
            },
            "type": "histogram"
           }
          ],
          "histogram2d": [
           {
            "colorbar": {
             "outlinewidth": 0,
             "ticks": ""
            },
            "colorscale": [
             [
              0,
              "#0d0887"
             ],
             [
              0.1111111111111111,
              "#46039f"
             ],
             [
              0.2222222222222222,
              "#7201a8"
             ],
             [
              0.3333333333333333,
              "#9c179e"
             ],
             [
              0.4444444444444444,
              "#bd3786"
             ],
             [
              0.5555555555555556,
              "#d8576b"
             ],
             [
              0.6666666666666666,
              "#ed7953"
             ],
             [
              0.7777777777777778,
              "#fb9f3a"
             ],
             [
              0.8888888888888888,
              "#fdca26"
             ],
             [
              1,
              "#f0f921"
             ]
            ],
            "type": "histogram2d"
           }
          ],
          "histogram2dcontour": [
           {
            "colorbar": {
             "outlinewidth": 0,
             "ticks": ""
            },
            "colorscale": [
             [
              0,
              "#0d0887"
             ],
             [
              0.1111111111111111,
              "#46039f"
             ],
             [
              0.2222222222222222,
              "#7201a8"
             ],
             [
              0.3333333333333333,
              "#9c179e"
             ],
             [
              0.4444444444444444,
              "#bd3786"
             ],
             [
              0.5555555555555556,
              "#d8576b"
             ],
             [
              0.6666666666666666,
              "#ed7953"
             ],
             [
              0.7777777777777778,
              "#fb9f3a"
             ],
             [
              0.8888888888888888,
              "#fdca26"
             ],
             [
              1,
              "#f0f921"
             ]
            ],
            "type": "histogram2dcontour"
           }
          ],
          "mesh3d": [
           {
            "colorbar": {
             "outlinewidth": 0,
             "ticks": ""
            },
            "type": "mesh3d"
           }
          ],
          "parcoords": [
           {
            "line": {
             "colorbar": {
              "outlinewidth": 0,
              "ticks": ""
             }
            },
            "type": "parcoords"
           }
          ],
          "pie": [
           {
            "automargin": true,
            "type": "pie"
           }
          ],
          "scatter": [
           {
            "fillpattern": {
             "fillmode": "overlay",
             "size": 10,
             "solidity": 0.2
            },
            "type": "scatter"
           }
          ],
          "scatter3d": [
           {
            "line": {
             "colorbar": {
              "outlinewidth": 0,
              "ticks": ""
             }
            },
            "marker": {
             "colorbar": {
              "outlinewidth": 0,
              "ticks": ""
             }
            },
            "type": "scatter3d"
           }
          ],
          "scattercarpet": [
           {
            "marker": {
             "colorbar": {
              "outlinewidth": 0,
              "ticks": ""
             }
            },
            "type": "scattercarpet"
           }
          ],
          "scattergeo": [
           {
            "marker": {
             "colorbar": {
              "outlinewidth": 0,
              "ticks": ""
             }
            },
            "type": "scattergeo"
           }
          ],
          "scattergl": [
           {
            "marker": {
             "colorbar": {
              "outlinewidth": 0,
              "ticks": ""
             }
            },
            "type": "scattergl"
           }
          ],
          "scattermap": [
           {
            "marker": {
             "colorbar": {
              "outlinewidth": 0,
              "ticks": ""
             }
            },
            "type": "scattermap"
           }
          ],
          "scattermapbox": [
           {
            "marker": {
             "colorbar": {
              "outlinewidth": 0,
              "ticks": ""
             }
            },
            "type": "scattermapbox"
           }
          ],
          "scatterpolar": [
           {
            "marker": {
             "colorbar": {
              "outlinewidth": 0,
              "ticks": ""
             }
            },
            "type": "scatterpolar"
           }
          ],
          "scatterpolargl": [
           {
            "marker": {
             "colorbar": {
              "outlinewidth": 0,
              "ticks": ""
             }
            },
            "type": "scatterpolargl"
           }
          ],
          "scatterternary": [
           {
            "marker": {
             "colorbar": {
              "outlinewidth": 0,
              "ticks": ""
             }
            },
            "type": "scatterternary"
           }
          ],
          "surface": [
           {
            "colorbar": {
             "outlinewidth": 0,
             "ticks": ""
            },
            "colorscale": [
             [
              0,
              "#0d0887"
             ],
             [
              0.1111111111111111,
              "#46039f"
             ],
             [
              0.2222222222222222,
              "#7201a8"
             ],
             [
              0.3333333333333333,
              "#9c179e"
             ],
             [
              0.4444444444444444,
              "#bd3786"
             ],
             [
              0.5555555555555556,
              "#d8576b"
             ],
             [
              0.6666666666666666,
              "#ed7953"
             ],
             [
              0.7777777777777778,
              "#fb9f3a"
             ],
             [
              0.8888888888888888,
              "#fdca26"
             ],
             [
              1,
              "#f0f921"
             ]
            ],
            "type": "surface"
           }
          ],
          "table": [
           {
            "cells": {
             "fill": {
              "color": "#EBF0F8"
             },
             "line": {
              "color": "white"
             }
            },
            "header": {
             "fill": {
              "color": "#C8D4E3"
             },
             "line": {
              "color": "white"
             }
            },
            "type": "table"
           }
          ]
         },
         "layout": {
          "annotationdefaults": {
           "arrowcolor": "#2a3f5f",
           "arrowhead": 0,
           "arrowwidth": 1
          },
          "autotypenumbers": "strict",
          "coloraxis": {
           "colorbar": {
            "outlinewidth": 0,
            "ticks": ""
           }
          },
          "colorscale": {
           "diverging": [
            [
             0,
             "#8e0152"
            ],
            [
             0.1,
             "#c51b7d"
            ],
            [
             0.2,
             "#de77ae"
            ],
            [
             0.3,
             "#f1b6da"
            ],
            [
             0.4,
             "#fde0ef"
            ],
            [
             0.5,
             "#f7f7f7"
            ],
            [
             0.6,
             "#e6f5d0"
            ],
            [
             0.7,
             "#b8e186"
            ],
            [
             0.8,
             "#7fbc41"
            ],
            [
             0.9,
             "#4d9221"
            ],
            [
             1,
             "#276419"
            ]
           ],
           "sequential": [
            [
             0,
             "#0d0887"
            ],
            [
             0.1111111111111111,
             "#46039f"
            ],
            [
             0.2222222222222222,
             "#7201a8"
            ],
            [
             0.3333333333333333,
             "#9c179e"
            ],
            [
             0.4444444444444444,
             "#bd3786"
            ],
            [
             0.5555555555555556,
             "#d8576b"
            ],
            [
             0.6666666666666666,
             "#ed7953"
            ],
            [
             0.7777777777777778,
             "#fb9f3a"
            ],
            [
             0.8888888888888888,
             "#fdca26"
            ],
            [
             1,
             "#f0f921"
            ]
           ],
           "sequentialminus": [
            [
             0,
             "#0d0887"
            ],
            [
             0.1111111111111111,
             "#46039f"
            ],
            [
             0.2222222222222222,
             "#7201a8"
            ],
            [
             0.3333333333333333,
             "#9c179e"
            ],
            [
             0.4444444444444444,
             "#bd3786"
            ],
            [
             0.5555555555555556,
             "#d8576b"
            ],
            [
             0.6666666666666666,
             "#ed7953"
            ],
            [
             0.7777777777777778,
             "#fb9f3a"
            ],
            [
             0.8888888888888888,
             "#fdca26"
            ],
            [
             1,
             "#f0f921"
            ]
           ]
          },
          "colorway": [
           "#636efa",
           "#EF553B",
           "#00cc96",
           "#ab63fa",
           "#FFA15A",
           "#19d3f3",
           "#FF6692",
           "#B6E880",
           "#FF97FF",
           "#FECB52"
          ],
          "font": {
           "color": "#2a3f5f"
          },
          "geo": {
           "bgcolor": "white",
           "lakecolor": "white",
           "landcolor": "#E5ECF6",
           "showlakes": true,
           "showland": true,
           "subunitcolor": "white"
          },
          "hoverlabel": {
           "align": "left"
          },
          "hovermode": "closest",
          "mapbox": {
           "style": "light"
          },
          "paper_bgcolor": "white",
          "plot_bgcolor": "#E5ECF6",
          "polar": {
           "angularaxis": {
            "gridcolor": "white",
            "linecolor": "white",
            "ticks": ""
           },
           "bgcolor": "#E5ECF6",
           "radialaxis": {
            "gridcolor": "white",
            "linecolor": "white",
            "ticks": ""
           }
          },
          "scene": {
           "xaxis": {
            "backgroundcolor": "#E5ECF6",
            "gridcolor": "white",
            "gridwidth": 2,
            "linecolor": "white",
            "showbackground": true,
            "ticks": "",
            "zerolinecolor": "white"
           },
           "yaxis": {
            "backgroundcolor": "#E5ECF6",
            "gridcolor": "white",
            "gridwidth": 2,
            "linecolor": "white",
            "showbackground": true,
            "ticks": "",
            "zerolinecolor": "white"
           },
           "zaxis": {
            "backgroundcolor": "#E5ECF6",
            "gridcolor": "white",
            "gridwidth": 2,
            "linecolor": "white",
            "showbackground": true,
            "ticks": "",
            "zerolinecolor": "white"
           }
          },
          "shapedefaults": {
           "line": {
            "color": "#2a3f5f"
           }
          },
          "ternary": {
           "aaxis": {
            "gridcolor": "white",
            "linecolor": "white",
            "ticks": ""
           },
           "baxis": {
            "gridcolor": "white",
            "linecolor": "white",
            "ticks": ""
           },
           "bgcolor": "#E5ECF6",
           "caxis": {
            "gridcolor": "white",
            "linecolor": "white",
            "ticks": ""
           }
          },
          "title": {
           "x": 0.05
          },
          "xaxis": {
           "automargin": true,
           "gridcolor": "white",
           "linecolor": "white",
           "ticks": "",
           "title": {
            "standoff": 15
           },
           "zerolinecolor": "white",
           "zerolinewidth": 2
          },
          "yaxis": {
           "automargin": true,
           "gridcolor": "white",
           "linecolor": "white",
           "ticks": "",
           "title": {
            "standoff": 15
           },
           "zerolinecolor": "white",
           "zerolinewidth": 2
          }
         }
        },
        "title": {
         "text": "Mean Accuracy by Model - Detection"
        },
        "xaxis": {
         "anchor": "y",
         "domain": [
          0,
          1
         ],
         "tickangle": 45,
         "title": {
          "text": "Model"
         }
        },
        "yaxis": {
         "anchor": "x",
         "domain": [
          0,
          1
         ],
         "range": [
          0,
          1
         ],
         "title": {
          "text": "Accuracy"
         }
        }
       }
      }
     },
     "metadata": {},
     "output_type": "display_data"
    },
    {
     "name": "stderr",
     "output_type": "stream",
     "text": [
      "/tmp/ipykernel_2203508/3557244602.py:31: DeprecationWarning:\n",
      "\n",
      "\n",
      "Support for Kaleido versions less than 1.0.0 is deprecated and will be removed after September 2025.\n",
      "Please upgrade Kaleido to version 1.0.0 or greater (`pip install 'kaleido>=1.0.0'` or `pip install 'plotly[kaleido]'`).\n",
      "\n",
      "\n"
     ]
    },
    {
     "name": "stdout",
     "output_type": "stream",
     "text": [
      "Saved bar chart: /home/jeremias/projects/delphi-explanations/results/visualizations/accuracy_bar_detection.pdf\n",
      "Saved bar chart: /home/jeremias/projects/delphi-explanations/results/visualizations/accuracy_bar_detection.png\n",
      "\n",
      "Model accuracy rankings:\n",
      "\n",
      "Fuzz Accuracy Rankings:\n",
      "  1. Qwen3-32B (regular): 0.894\n",
      "  2. Llama-4-Maverick-17B (regular): 0.887\n",
      "  3. Qwen3-235B (regular): 0.868\n",
      "  4. Llama-3.1-70B-Instruct (regular): 0.867\n",
      "  5. Gemma-3-27B-IT (regular): 0.859\n",
      "  6. Llama-3.3-70B-Instruct (regular): 0.853\n",
      "  7. Llama-4-Scout-17B (regular): 0.852\n",
      "  8. Qwen3-14B (regular): 0.846\n",
      "  9. Gemma-3-12B-IT (regular): 0.807\n",
      "  10. Qwen3-4B (regular): 0.794\n",
      "  11. Gemma-3-4B-IT (regular): 0.559\n",
      "\n",
      "Detection Accuracy Rankings:\n",
      "  1. Gemma-3-27B-IT (regular): 0.790\n",
      "  2. Qwen3-32B (regular): 0.782\n",
      "  3. Qwen3-235B (regular): 0.777\n",
      "  4. Llama-4-Maverick-17B (regular): 0.776\n",
      "  5. Qwen3-14B (regular): 0.768\n",
      "  6. Llama-3.1-70B-Instruct (regular): 0.768\n",
      "  7. Llama-4-Scout-17B (regular): 0.767\n",
      "  8. Gemma-3-12B-IT (regular): 0.757\n",
      "  9. Llama-3.3-70B-Instruct (regular): 0.755\n",
      "  10. Qwen3-4B (regular): 0.735\n",
      "  11. Gemma-3-4B-IT (regular): 0.595\n",
      "\n",
      "Bar charts saved to /home/jeremias/projects/delphi-explanations/results/visualizations\n"
     ]
    },
    {
     "name": "stderr",
     "output_type": "stream",
     "text": [
      "/tmp/ipykernel_2203508/3557244602.py:32: DeprecationWarning:\n",
      "\n",
      "\n",
      "Support for Kaleido versions less than 1.0.0 is deprecated and will be removed after September 2025.\n",
      "Please upgrade Kaleido to version 1.0.0 or greater (`pip install 'kaleido>=1.0.0'` or `pip install 'plotly[kaleido]'`).\n",
      "\n",
      "\n"
     ]
    }
   ],
   "source": [
    "# Generate inline bar charts for mean accuracy and save to files\n",
    "print(\"Generating mean accuracy bar charts...\")\n",
    "\n",
    "# Create inline bar charts for each score type\n",
    "for score_type in accuracy_df['score_type'].unique():\n",
    "    score_df = accuracy_df[accuracy_df['score_type'] == score_type].sort_values('accuracy', ascending=False)\n",
    "    \n",
    "    # Create inline bar chart\n",
    "    fig = px.bar(\n",
    "        score_df,\n",
    "        x='model',\n",
    "        y='accuracy',\n",
    "        title=f'Mean Accuracy by Model - {score_type.title()}',\n",
    "        text='accuracy'\n",
    "    )\n",
    "    fig.update_layout(\n",
    "        yaxis_range=[0, 1],\n",
    "        xaxis_title=\"Model\",\n",
    "        yaxis_title=\"Accuracy\",\n",
    "        xaxis={'tickangle': 45},\n",
    "        height=500\n",
    "    )\n",
    "    fig.update_traces(texttemplate='%{text:.3f}', textposition='outside')\n",
    "    \n",
    "    # Show inline\n",
    "    fig.show()\n",
    "    \n",
    "    # Save to file in both PDF and PNG formats\n",
    "    output_file_pdf = visualizations_dir / f\"accuracy_bar_{score_type}.pdf\"\n",
    "    output_file_png = visualizations_dir / f\"accuracy_bar_{score_type}.png\"\n",
    "    fig.write_image(str(output_file_pdf))\n",
    "    fig.write_image(str(output_file_png))\n",
    "    print(f\"Saved bar chart: {output_file_pdf}\")\n",
    "    print(f\"Saved bar chart: {output_file_png}\")\n",
    "\n",
    "# Display accuracy rankings\n",
    "print(\"\\nModel accuracy rankings:\")\n",
    "for score_type in accuracy_df['score_type'].unique():\n",
    "    score_df = accuracy_df[accuracy_df['score_type'] == score_type].sort_values('accuracy', ascending=False)\n",
    "    print(f\"\\n{score_type.title()} Accuracy Rankings:\")\n",
    "    for i, (_, row) in enumerate(score_df.iterrows(), 1):\n",
    "        print(f\"  {i}. {row['model']}: {row['accuracy']:.3f}\")\n",
    "\n",
    "print(f\"\\nBar charts saved to {visualizations_dir}\")"
   ]
  },
  {
   "cell_type": "markdown",
   "id": "45f1c475",
   "metadata": {},
   "source": [
    "## 5. Create Comprehensive Performance Summary\n",
    "\n",
    "Generate summary tables and statistics comparing model performance across all metrics."
   ]
  },
  {
   "cell_type": "code",
   "execution_count": null,
   "id": "1f55b95e",
   "metadata": {},
   "outputs": [
    {
     "name": "stdout",
     "output_type": "stream",
     "text": [
      "Creating comprehensive performance summary...\n",
      "\n",
      "Model Performance Summary (Accuracy Metrics):\n",
      "============================================================\n",
      "                                  accuracy  f1_score  precision  recall\n",
      "model                                                                  \n",
      "Gemma-3-12B-IT (regular)             0.782     0.774      0.810   0.744\n",
      "Gemma-3-27B-IT (regular)             0.825     0.828      0.812   0.845\n",
      "Gemma-3-4B-IT (regular)              0.577     0.629      0.562   0.729\n",
      "Llama-3.1-70B-Instruct (regular)     0.818     0.806      0.859   0.759\n",
      "Llama-3.3-70B-Instruct (regular)     0.804     0.798      0.828   0.770\n",
      "Llama-4-Maverick-17B (regular)       0.832     0.827      0.852   0.803\n",
      "Llama-4-Scout-17B (regular)          0.809     0.806      0.818   0.795\n",
      "Qwen3-14B (regular)                  0.807     0.790      0.869   0.725\n",
      "Qwen3-235B (regular)                 0.823     0.806      0.893   0.736\n",
      "Qwen3-32B (regular)                  0.838     0.838      0.842   0.833\n",
      "Qwen3-4B (regular)                   0.765     0.775      0.740   0.814\n",
      "\n",
      "Summary saved to: /home/jeremias/projects/delphi-explanations/results/visualizations/model_accuracy_summary.csv\n",
      "\n",
      "Best Performing Models by Category:\n",
      "==================================================\n",
      "Highest Accuracy: Qwen3-32B (regular) (0.838)\n",
      "Highest F1 Score: Qwen3-32B (regular) (0.838)\n",
      "Highest Precision: Qwen3-235B (regular) (0.893)\n",
      "Highest Recall: Gemma-3-27B-IT (regular) (0.845)\n",
      "\n",
      "Detailed Analysis by Score Type:\n",
      "========================================\n",
      "\n",
      "Fuzz Results:\n",
      "                               model  accuracy  f1_score\n",
      "10               Qwen3-32B (regular)  0.894265  0.893086\n",
      "18    Llama-4-Maverick-17B (regular)  0.887491  0.884199\n",
      "20              Qwen3-235B (regular)  0.867893  0.853316\n",
      "14  Llama-3.1-70B-Instruct (regular)  0.867280  0.859590\n",
      "6           Gemma-3-27B-IT (regular)  0.859308  0.862723\n",
      "12  Llama-3.3-70B-Instruct (regular)  0.852833  0.845129\n",
      "16       Llama-4-Scout-17B (regular)  0.851771  0.851379\n",
      "8                Qwen3-14B (regular)  0.845588  0.828683\n",
      "4           Gemma-3-12B-IT (regular)  0.807206  0.791009\n",
      "2                 Qwen3-4B (regular)  0.794157  0.808575\n",
      "0            Gemma-3-4B-IT (regular)  0.558919  0.653967\n",
      "\n",
      "Detection Results:\n",
      "                               model  accuracy  f1_score\n",
      "7           Gemma-3-27B-IT (regular)  0.790063  0.793303\n",
      "11               Qwen3-32B (regular)  0.781765  0.781957\n",
      "21              Qwen3-235B (regular)  0.777426  0.759437\n",
      "19    Llama-4-Maverick-17B (regular)  0.775805  0.769055\n",
      "9                Qwen3-14B (regular)  0.768015  0.751946\n",
      "15  Llama-3.1-70B-Instruct (regular)  0.767721  0.752332\n",
      "17       Llama-4-Scout-17B (regular)  0.766903  0.761170\n",
      "5           Gemma-3-12B-IT (regular)  0.756765  0.756908\n",
      "13  Llama-3.3-70B-Instruct (regular)  0.754689  0.750356\n",
      "3                 Qwen3-4B (regular)  0.735050  0.741570\n",
      "1            Gemma-3-4B-IT (regular)  0.595305  0.603860\n",
      "\n",
      "All visualizations and summaries saved to: /home/jeremias/projects/delphi-explanations/results/visualizations\n",
      "\n",
      "Generated files:\n",
      "  - accuracy_bar_detection.pdf\n",
      "  - accuracy_bar_detection.png\n",
      "  - accuracy_bar_fuzz.pdf\n",
      "  - accuracy_bar_fuzz.png\n",
      "  - accuracy_density_detection.pdf\n",
      "  - accuracy_density_detection.png\n",
      "  - accuracy_density_fuzz.pdf\n",
      "  - accuracy_density_fuzz.png\n",
      "  - accuracy_density_line_detection.pdf\n",
      "  - accuracy_density_line_fuzz.pdf\n",
      "  - model_accuracy_summary.csv\n",
      "  - model_performance_summary.csv\n"
     ]
    }
   ],
   "source": [
    "# Create comprehensive performance summary\n",
    "print(\"Creating comprehensive performance summary...\")\n",
    "\n",
    "# Create accuracy summary\n",
    "accuracy_summary = accuracy_df.groupby('model').agg({\n",
    "    'accuracy': 'mean',\n",
    "    'f1_score': 'mean',\n",
    "    'precision': 'mean',\n",
    "    'recall': 'mean'\n",
    "}).round(3)\n",
    "\n",
    "print(\"\\nModel Performance Summary (Accuracy Metrics):\")\n",
    "print(\"=\" * 60)\n",
    "print(accuracy_summary)\n",
    "\n",
    "# Save summary to CSV\n",
    "summary_file = visualizations_dir / \"model_accuracy_summary.csv\"\n",
    "accuracy_summary.to_csv(summary_file)\n",
    "print(f\"\\nSummary saved to: {summary_file}\")\n",
    "\n",
    "# Best performing models by category\n",
    "print(\"\\nBest Performing Models by Category:\")\n",
    "print(\"=\" * 50)\n",
    "print(f\"Highest Accuracy: {accuracy_summary['accuracy'].idxmax()} ({accuracy_summary['accuracy'].max():.3f})\")\n",
    "print(f\"Highest F1 Score: {accuracy_summary['f1_score'].idxmax()} ({accuracy_summary['f1_score'].max():.3f})\")\n",
    "print(f\"Highest Precision: {accuracy_summary['precision'].idxmax()} ({accuracy_summary['precision'].max():.3f})\")\n",
    "print(f\"Highest Recall: {accuracy_summary['recall'].idxmax()} ({accuracy_summary['recall'].max():.3f})\")\n",
    "\n",
    "# Create detailed per-score-type analysis\n",
    "print(\"\\nDetailed Analysis by Score Type:\")\n",
    "print(\"=\" * 40)\n",
    "for score_type in accuracy_df['score_type'].unique():\n",
    "    score_subset = accuracy_df[accuracy_df['score_type'] == score_type]\n",
    "    print(f\"\\n{score_type.title()} Results:\")\n",
    "    print(score_subset[['model', 'accuracy', 'f1_score']].sort_values('accuracy', ascending=False))\n",
    "\n",
    "print(f\"\\nAll visualizations and summaries saved to: {visualizations_dir}\")\n",
    "print(\"\\nGenerated files:\")\n",
    "for file in sorted(visualizations_dir.glob(\"*\")):\n",
    "    print(f\"  - {file.name}\")"
   ]
  }
 ],
 "metadata": {
  "kernelspec": {
   "display_name": ".venv",
   "language": "python",
   "name": "python3"
  },
  "language_info": {
   "codemirror_mode": {
    "name": "ipython",
    "version": 3
   },
   "file_extension": ".py",
   "mimetype": "text/x-python",
   "name": "python",
   "nbconvert_exporter": "python",
   "pygments_lexer": "ipython3",
   "version": "3.11.13"
  }
 },
 "nbformat": 4,
 "nbformat_minor": 5
}
