{
 "cells": [
  {
   "cell_type": "markdown",
   "id": "d1096fab",
   "metadata": {},
   "source": [
    "# Explainer Model Performance Analysis\n",
    "\n",
    "This notebook analyzes the performance of different explainer models in generating explanations for SAE latent features. We compare models across multiple metrics including accuracy, F1 scores, token usage, and execution time.\n",
    "\n",
    "## Analysis Overview\n",
    "\n",
    "- **Accuracy Distribution**: Density plots showing accuracy distribution for each model\n",
    "- **Mean Performance**: Bar charts comparing mean accuracy across models\n",
    "- **Token Usage**: Analysis of computational efficiency and resource consumption\n",
    "- **Performance Summary**: Comprehensive comparison tables"
   ]
  },
  {
   "cell_type": "markdown",
   "id": "e60643f3",
   "metadata": {},
   "source": [
    "## 1. Setup and Configuration\n",
    "\n",
    "Import required libraries, define model name mapping for prettier display names, and set up output directories."
   ]
  },
  {
   "cell_type": "code",
   "execution_count": 1,
   "id": "934a96fd",
   "metadata": {},
   "outputs": [
    {
     "name": "stdout",
     "output_type": "stream",
     "text": [
      "Model prefix: pythia\n",
      "Results directory: /home/jeremias/projects/delphi-explanations/results\n",
      "Visualizations output: /home/jeremias/projects/delphi-explanations/results/visualizations\n",
      "Available result directories:\n",
      "  - pythia_gemma_3_4b_it_quantized_w4a16_explanation_comparison\n",
      "  - pythia_Qwen3_4B_quantized_w4a16_explanation_comparison\n",
      "  - pythia_gemma_3_12b_it_quantized_w4a16_explanation_comparison\n",
      "  - pythia_gemma_3_27b_it_quantized_w4a16_explanation_comparison\n",
      "  - pythia_Qwen3_14B_quantized_w4a16_explanation_comparison\n",
      "  - pythia_Qwen3_32B_quantized_w4a16_explanation_comparison\n",
      "  - pythia_Llama_3_3_70B_Instruct_quantized_w4a16_explanation_comparison\n",
      "  - pythia_Llama_3_1_70B_Instruct_NVFP4_explanation_comparison\n"
     ]
    }
   ],
   "source": [
    "import sys\n",
    "import os\n",
    "import json\n",
    "from pathlib import Path\n",
    "import pandas as pd\n",
    "import numpy as np\n",
    "\n",
    "# Add the parent directory to the path to import delphi modules\n",
    "sys.path.append(str(Path.cwd().parent))\n",
    "\n",
    "from delphi.log.result_analysis import (\n",
    "    import_plotly,\n",
    "    load_data\n",
    ")\n",
    "\n",
    "# Import plotly for plotting\n",
    "px = import_plotly()\n",
    "\n",
    "# Configuration - Model prefix for experiment naming\n",
    "MODEL_PREFIX = \"pythia\"  # Change this to match your base model (e.g., \"pythia\", \"gemma\", etc.)\n",
    "\n",
    "# Define model name mapping for prettier display - updated to match actual directory names\n",
    "MODEL_NAME_MAPPING = {\n",
    "    \"gemma_3_4b_it_quantized_w4a16\": \"Gemma-3-4B-IT\",\n",
    "    \"Qwen3_4B_quantized_w4a16\": \"Qwen3-4B\", \n",
    "    \"gemma_3_12b_it_quantized_w4a16\": \"Gemma-3-12B-IT\",\n",
    "    \"gemma_3_27b_it_quantized_w4a16\": \"Gemma-3-27B-IT\",\n",
    "    \"Qwen3_14B_quantized_w4a16\": \"Qwen3-14B\",\n",
    "    \"Qwen3_32B_quantized_w4a16\": \"Qwen3-32B\",\n",
    "    \"Llama_3_3_70B_Instruct_quantized_w4a16\": \"Llama-3.3-70B-Instruct\",\n",
    "    \"Llama_3_1_70B_Instruct_NVFP4\": \"Llama-3.1-70B-Instruct\"\n",
    "}\n",
    "\n",
    "def load_model_results(results_dir: Path, model_mapping: dict, model_prefix: str):\n",
    "    \"\"\"Load results and statistics for all explainer models.\"\"\"\n",
    "    model_results = {}\n",
    "    model_stats = {}\n",
    "    \n",
    "    # Updated pattern to match new naming: {model_prefix}_{model_name}_explanation_comparison\n",
    "    for exp_dir in results_dir.glob(f\"{model_prefix}_*_explanation_comparison\"):\n",
    "        # Extract model name from directory: remove prefix and suffix\n",
    "        dir_name = exp_dir.name\n",
    "        model_key = dir_name.replace(f\"{model_prefix}_\", \"\").replace(\"_explanation_comparison\", \"\")\n",
    "        display_name = model_mapping.get(model_key, model_key)\n",
    "        \n",
    "        scores_path = exp_dir / \"scores\"\n",
    "        if scores_path.exists():\n",
    "            # Load scoring results\n",
    "            try:\n",
    "                # Hardcoded cache path - the cache directory is named after the base model\n",
    "                cache_dir_name = \"pythia-160m\"  # Hardcoded as the cache structure uses this specific name\n",
    "                latents_path = exp_dir.parent / cache_dir_name / \"latents\"\n",
    "                if not latents_path.exists():\n",
    "                    latents_path = exp_dir / \"latents\"  # Fallback to local latents\n",
    "                \n",
    "                if latents_path.exists():\n",
    "                    # Extract module names from the actual files\n",
    "                    sample_score_dir = next(scores_path.iterdir())\n",
    "                    sample_files = list(sample_score_dir.glob(\"*.txt\"))\n",
    "                    if sample_files:\n",
    "                        # Extract module name from filename pattern (e.g., \"layers.32_latent0.txt\" -> \"layers.32\")\n",
    "                        sample_filename = sample_files[0].stem\n",
    "                        module_name = sample_filename.split('_latent')[0]\n",
    "                        modules = [module_name]\n",
    "                    else:\n",
    "                        print(f\"No score files found in {sample_score_dir}\")\n",
    "                        continue\n",
    "                    \n",
    "                    latent_df, counts = load_data(scores_path, latents_path, modules)\n",
    "                    \n",
    "                    # Calculate aggregate metrics similar to get_agg_metrics\n",
    "                    processed_data = []\n",
    "                    for score_type in latent_df[\"score_type\"].unique():\n",
    "                        score_subset = latent_df[latent_df[\"score_type\"] == score_type]\n",
    "                        \n",
    "                        # Calculate metrics\n",
    "                        accuracy = score_subset[\"correct\"].mean()\n",
    "                        \n",
    "                        # Calculate F1, precision, recall\n",
    "                        true_pos = ((score_subset[\"prediction\"] == True) & (score_subset[\"activating\"] == True)).sum()\n",
    "                        false_pos = ((score_subset[\"prediction\"] == True) & (score_subset[\"activating\"] == False)).sum()\n",
    "                        false_neg = ((score_subset[\"prediction\"] == False) & (score_subset[\"activating\"] == True)).sum()\n",
    "                        \n",
    "                        precision = true_pos / (true_pos + false_pos) if (true_pos + false_pos) > 0 else 0\n",
    "                        recall = true_pos / (true_pos + false_neg) if (true_pos + false_neg) > 0 else 0\n",
    "                        f1_score = 2 * precision * recall / (precision + recall) if (precision + recall) > 0 else 0\n",
    "                        \n",
    "                        processed_data.append({\n",
    "                            'score_type': score_type,\n",
    "                            'accuracy': accuracy,\n",
    "                            'f1_score': f1_score,\n",
    "                            'precision': precision,\n",
    "                            'recall': recall\n",
    "                        })\n",
    "                    \n",
    "                    model_results[display_name] = {\n",
    "                        'latent_df': latent_df,\n",
    "                        'processed_df': pd.DataFrame(processed_data),\n",
    "                        'counts': counts\n",
    "                    }\n",
    "                    \n",
    "            except Exception as e:\n",
    "                print(f\"Error loading results for {model_key}: {e}\")\n",
    "                continue\n",
    "        \n",
    "        # Load explainer statistics\n",
    "        stats_file = exp_dir / \"explainer_stats.json\"\n",
    "        if stats_file.exists():\n",
    "            try:\n",
    "                with open(stats_file, 'r') as f:\n",
    "                    stats = json.load(f)\n",
    "                    model_stats[display_name] = stats\n",
    "            except Exception as e:\n",
    "                print(f\"Error loading stats for {model_key}: {e}\")\n",
    "                model_stats[display_name] = None\n",
    "        else:\n",
    "            model_stats[display_name] = None\n",
    "    \n",
    "    return model_results, model_stats\n",
    "\n",
    "# Set up directories\n",
    "results_dir = Path.cwd().parent / \"results\"\n",
    "visualizations_dir = results_dir / \"visualizations\"\n",
    "visualizations_dir.mkdir(exist_ok=True, parents=True)\n",
    "\n",
    "print(f\"Model prefix: {MODEL_PREFIX}\")\n",
    "print(f\"Results directory: {results_dir}\")\n",
    "print(f\"Visualizations output: {visualizations_dir}\")\n",
    "print(f\"Available result directories:\")\n",
    "for d in results_dir.glob(f\"{MODEL_PREFIX}_*_explanation_comparison\"):\n",
    "    print(f\"  - {d.name}\")"
   ]
  },
  {
   "cell_type": "markdown",
   "id": "e38a672b",
   "metadata": {},
   "source": [
    "## 2. Load Model Results\n",
    "\n",
    "Load explanation comparison results from all models and extract performance metrics."
   ]
  },
  {
   "cell_type": "code",
   "execution_count": 2,
   "id": "44990708",
   "metadata": {},
   "outputs": [
    {
     "name": "stdout",
     "output_type": "stream",
     "text": [
      "Loading model results...\n",
      "\n",
      "Loaded results for 8 models:\n",
      "  - Gemma-3-4B-IT\n",
      "  - Qwen3-4B\n",
      "  - Gemma-3-12B-IT\n",
      "  - Gemma-3-27B-IT\n",
      "  - Qwen3-14B\n",
      "  - Qwen3-32B\n",
      "  - Llama-3.3-70B-Instruct\n",
      "  - Llama-3.1-70B-Instruct\n",
      "\n",
      "Token usage statistics available for 8 models:\n",
      "  - Gemma-3-4B-IT: ['DefaultExplainer']\n",
      "  - Qwen3-4B: ['DefaultExplainer']\n",
      "  - Gemma-3-12B-IT: ['DefaultExplainer']\n",
      "  - Gemma-3-27B-IT: ['DefaultExplainer']\n",
      "  - Qwen3-14B: ['DefaultExplainer']\n",
      "  - Qwen3-32B: ['DefaultExplainer']\n",
      "  - Llama-3.3-70B-Instruct: ['DefaultExplainer']\n",
      "  - Llama-3.1-70B-Instruct: ['DefaultExplainer']\n",
      "\n",
      "Sample metrics from Gemma-3-4B-IT:\n",
      "  score_type  accuracy  f1_score  precision  recall\n",
      "0       fuzz     0.511     0.609      0.508   0.761\n",
      "1  detection     0.544     0.574      0.539   0.615\n",
      "\n",
      "Loaded results for 8 models:\n",
      "  - Gemma-3-4B-IT\n",
      "  - Qwen3-4B\n",
      "  - Gemma-3-12B-IT\n",
      "  - Gemma-3-27B-IT\n",
      "  - Qwen3-14B\n",
      "  - Qwen3-32B\n",
      "  - Llama-3.3-70B-Instruct\n",
      "  - Llama-3.1-70B-Instruct\n",
      "\n",
      "Token usage statistics available for 8 models:\n",
      "  - Gemma-3-4B-IT: ['DefaultExplainer']\n",
      "  - Qwen3-4B: ['DefaultExplainer']\n",
      "  - Gemma-3-12B-IT: ['DefaultExplainer']\n",
      "  - Gemma-3-27B-IT: ['DefaultExplainer']\n",
      "  - Qwen3-14B: ['DefaultExplainer']\n",
      "  - Qwen3-32B: ['DefaultExplainer']\n",
      "  - Llama-3.3-70B-Instruct: ['DefaultExplainer']\n",
      "  - Llama-3.1-70B-Instruct: ['DefaultExplainer']\n",
      "\n",
      "Sample metrics from Gemma-3-4B-IT:\n",
      "  score_type  accuracy  f1_score  precision  recall\n",
      "0       fuzz     0.511     0.609      0.508   0.761\n",
      "1  detection     0.544     0.574      0.539   0.615\n"
     ]
    }
   ],
   "source": [
    "# Load all model results and statistics\n",
    "print(\"Loading model results...\")\n",
    "model_results, model_stats = load_model_results(results_dir, MODEL_NAME_MAPPING, MODEL_PREFIX)\n",
    "\n",
    "print(f\"\\nLoaded results for {len(model_results)} models:\")\n",
    "for model_name in model_results.keys():\n",
    "    print(f\"  - {model_name}\")\n",
    "\n",
    "print(f\"\\nToken usage statistics available for {len([k for k, v in model_stats.items() if v is not None])} models:\")\n",
    "for model_name, stats in model_stats.items():\n",
    "    if stats:\n",
    "        print(f\"  - {model_name}: {list(stats.keys())}\")\n",
    "    else:\n",
    "        print(f\"  - {model_name}: No stats available\")\n",
    "\n",
    "# Display sample metrics for the first model\n",
    "if model_results:\n",
    "    sample_model = list(model_results.keys())[0]\n",
    "    sample_data = model_results[sample_model]['processed_df']\n",
    "    print(f\"\\nSample metrics from {sample_model}:\")\n",
    "    print(sample_data[['score_type', 'accuracy', 'f1_score', 'precision', 'recall']].round(3))"
   ]
  },
  {
   "cell_type": "markdown",
   "id": "7c4c94b4",
   "metadata": {},
   "source": [
    "## 3. Generate Accuracy Distribution Plots\n",
    "\n",
    "Create density plots showing accuracy distribution for each model and score type."
   ]
  },
  {
   "cell_type": "code",
   "execution_count": 3,
   "id": "a8faa50f",
   "metadata": {},
   "outputs": [
    {
     "name": "stdout",
     "output_type": "stream",
     "text": [
      "Generating accuracy density distribution plots...\n",
      "\n",
      "Columns in latent_df: ['text', 'distance', 'activating', 'prediction', 'probability', 'correct', 'activations', 'latent_idx', 'score_type', 'module', 'firing_count']\n",
      "Sample data shape: (39200, 11)\n",
      "Score types: ['fuzz' 'detection']\n",
      "\n",
      "Accuracy data summary:\n",
      "           accuracy                                                  f1_score  \\\n",
      "              count   mean    std    min    25%    50%    75%    max    count   \n",
      "score_type                                                                      \n",
      "detection       8.0  0.598  0.025  0.544  0.592  0.600  0.613  0.624      8.0   \n",
      "fuzz            8.0  0.639  0.058  0.511  0.627  0.656  0.670  0.700      8.0   \n",
      "\n",
      "                                                             \n",
      "             mean    std    min    25%    50%    75%    max  \n",
      "score_type                                                   \n",
      "detection   0.614  0.040  0.542  0.597  0.621  0.633  0.666  \n",
      "fuzz        0.631  0.051  0.558  0.601  0.615  0.680  0.699  \n",
      "Found 'correct' column - will calculate accuracy per latent for KDE plots\n",
      "\n",
      "Creating KDE density plot for fuzz...\n"
     ]
    },
    {
     "data": {
      "application/vnd.plotly.v1+json": {
       "config": {
        "plotlyServerURL": "https://plot.ly"
       },
       "data": [
        {
         "line": {
          "color": "lightgreen",
          "dash": "dash",
          "width": 3
         },
         "mode": "lines",
         "name": "Gemma-3-12B-IT",
         "type": "scatter",
         "x": {
          "bdata": "AAAAAAAAAABbv1Kg1q+EP1u/UqDWr5Q/CB988MEHnz9bv1Kg1q+kPzJvZ0jM26k/CB988MEHrz9wZ0jM2xmyP1u/UqDWr7Q/RhdddNFFtz8yb2dIzNu5Px3HcRzHcbw/CB988MEHvz96O0Ni3s7AP3BnSMzbGcI/ZZNNNtlkwz9bv1Kg1q/EP1HrVwrU+sU/RhdddNFFxz88Q2LezpDIPzJvZ0jM28k/J5tssskmyz8dx3Ecx3HMPxPzdobEvM0/CB988MEHzz9/pUCtXynQP3o7Q2LeztA/ddFFF1100T9wZ0jM2xnSP2r9SoFav9I/ZZNNNtlk0z9gKVDrVwrUP1u/UqDWr9Q/VlVVVVVV1T9R61cK1PrVP0yBWr9SoNY/RhdddNFF1z9BrV8pUOvXPzxDYt7OkNg/N9lkk0022T8yb2dIzNvZPy0Fav1Kgdo/J5tssskm2z8iMW9nSMzbPx3HcRzHcdw/GF100UUX3T8T83aGxLzdPw6JeTtDYt4/CB988MEH3z8DtX6lQK3fP3+lQK1fKeA/ffDBBx984D96O0Ni3s7gP3eGxLydIeE/ddFFF1104T9yHMdxHMfhP3BnSMzbGeI/bbLJJpts4j9q/UqBWr/iP2hIzNsZEuM/ZZNNNtlk4z9j3s6QmLfjP2ApUOtXCuQ/XnTRRRdd5D9bv1Kg1q/kP1gK1PqVAuU/VlVVVVVV5T9ToNavFKjlP1HrVwrU+uU/TjbZZJNN5j9MgVq/UqDmP0nM2xkS8+Y/RhdddNFF5z9EYt7OkJjnP0GtXylQ6+c/P/jggw8+6D88Q2LezpDoPzmO4ziO4+g/N9lkk0026T80JObtDInpPzJvZ0jM2+k/L7rooosu6j8tBWr9SoHqPypQ61cK1Oo/J5tssskm6z8l5u0MiXnrPyIxb2dIzOs/IHzwwQcf7D8dx3Ecx3HsPxsS83aGxOw/GF100UUX7T8VqPUrBWrtPxPzdobEvO0/ED744IMP7j8OiXk7Q2LuPwvU+pUCte4/CB988MEH7z8Gav1KgVrvPwO1fqVAre8/AAAAAAAA8D8=",
          "dtype": "f8"
         },
         "y": {
          "bdata": "iuFmUWTIsDzIn4bwjEbTPPMDnqVaa/U8tD6oglQHFz3UQtGBj/Q3PdCnI0lwHFg9Q9ntXTl7dz3nTYNTnyCWPTkxxitDLbQ97DTBeKLN0T2AjuIcJ2fuPSl5Zao9Hwk+vbizftUWJD7Akg5HORg/PhOq9+NlSlc+oK0X44nicD5u1WZ5YrKHPkGSC9CQGKA+dNO6MNAqtT78p25BufLKPo/J+8iSm+A+Hv2z49zR8z7hgYZXR+cGPwDOBapYoRk/lTDFExzHKz8axPah0Cg9P4hWor7Mpk0/MPlbdTM2XT8C9ReLgeJrP34lVpOjy3k/tjekOgUhhz8wQ5+JqBqUP04evMWo8aA/LzO6ug2zqz8TdOCmj/a1P4olO17R5cA/X26LxH88yT92oLiG2EvSPyBG5S4TxNk/qBvVQICg4T9iK7odLXHnPymedK3dUO4/epJa7FYS8z8Wgi7l6Vv3P9fHQgBl3vs/NaWXQ5E0AEAJQKF+62ICQGyObo4GXwRAC2bnlYcQBkB86eDmomQHQLbfL1ARUAhADVpZtffPCEDzFhOvoekIQALsP/8qqQhAn3bq5mYfCEBD0Cxuc18HQEkWP4tqfAZA+v3Ei4yHBUCVoH1DFo8EQI3/cxnHnQNArSALfvS6AkCLJFhc8+oBQK6olOOfLwFANkNuqdyIAECPhpZJ9en/PxS7YNsi4v4/JnbzHrXy/T/FrRpPQRP9P/rJrmaMO/w/+oPk+q1k+z/Y3at/E4r6P2ghoBgnqvk/mO3mU2vG+D9jKjHI/OL3P1UobLmQBfc/ui0UQCg09j9ar6NkwHP1P7TtSjtFx/Q/Ujr5avou9D94qb1cbajzP2btKzvlLvM/j41Y8iq88j/QmF4XdUnyP6R/nzxD0PE/CBs5kwBL8T/KywbAWrXwP7c07mxRDPA/JSIcXi2c7j8oq8V5xPPsPx2g27CtH+s/QIrIzhYi6T8Hx7j+af/mP13+sSi4vuQ/pXTuUfhp4j/f1agp3g3gP/hn6TNLcts/P+INwbb21j+wUOnSqMbSP56v3zuC9s0/JHPHOiRNxz8=",
          "dtype": "f8"
         }
        },
        {
         "line": {
          "color": "lightgreen",
          "dash": "dot",
          "width": 3
         },
         "mode": "lines",
         "name": "Gemma-3-27B-IT",
         "type": "scatter",
         "x": {
          "bdata": "AAAAAAAAAABbv1Kg1q+EP1u/UqDWr5Q/CB988MEHnz9bv1Kg1q+kPzJvZ0jM26k/CB988MEHrz9wZ0jM2xmyP1u/UqDWr7Q/RhdddNFFtz8yb2dIzNu5Px3HcRzHcbw/CB988MEHvz96O0Ni3s7AP3BnSMzbGcI/ZZNNNtlkwz9bv1Kg1q/EP1HrVwrU+sU/RhdddNFFxz88Q2LezpDIPzJvZ0jM28k/J5tssskmyz8dx3Ecx3HMPxPzdobEvM0/CB988MEHzz9/pUCtXynQP3o7Q2LeztA/ddFFF1100T9wZ0jM2xnSP2r9SoFav9I/ZZNNNtlk0z9gKVDrVwrUP1u/UqDWr9Q/VlVVVVVV1T9R61cK1PrVP0yBWr9SoNY/RhdddNFF1z9BrV8pUOvXPzxDYt7OkNg/N9lkk0022T8yb2dIzNvZPy0Fav1Kgdo/J5tssskm2z8iMW9nSMzbPx3HcRzHcdw/GF100UUX3T8T83aGxLzdPw6JeTtDYt4/CB988MEH3z8DtX6lQK3fP3+lQK1fKeA/ffDBBx984D96O0Ni3s7gP3eGxLydIeE/ddFFF1104T9yHMdxHMfhP3BnSMzbGeI/bbLJJpts4j9q/UqBWr/iP2hIzNsZEuM/ZZNNNtlk4z9j3s6QmLfjP2ApUOtXCuQ/XnTRRRdd5D9bv1Kg1q/kP1gK1PqVAuU/VlVVVVVV5T9ToNavFKjlP1HrVwrU+uU/TjbZZJNN5j9MgVq/UqDmP0nM2xkS8+Y/RhdddNFF5z9EYt7OkJjnP0GtXylQ6+c/P/jggw8+6D88Q2LezpDoPzmO4ziO4+g/N9lkk0026T80JObtDInpPzJvZ0jM2+k/L7rooosu6j8tBWr9SoHqPypQ61cK1Oo/J5tssskm6z8l5u0MiXnrPyIxb2dIzOs/IHzwwQcf7D8dx3Ecx3HsPxsS83aGxOw/GF100UUX7T8VqPUrBWrtPxPzdobEvO0/ED744IMP7j8OiXk7Q2LuPwvU+pUCte4/CB988MEH7z8Gav1KgVrvPwO1fqVAre8/AAAAAAAA8D8=",
          "dtype": "f8"
         },
         "y": {
          "bdata": "Yo35TruN7D3bD85aQTMDPm9nvibiNxk+okDFyNksMD6pRwUzWUREPq39I7TqzVg+ye0mFpanbT4s5H3VPlGBPsTvlRKTwpM+0c7jurgHpj5tMXjp/P+3Poz93kYZjck+JkgY5UCW2j7dcjLZugrrPpqCRd6n4/o+cJu7Ma8kCj/sJY/betsYPwWPwdEbHic/8sguDJkINT9n1RRgCbpCPyV/SwaiUVA/K9WhOjXYWz8Z69QNXkNnP0DVvoLMCXM/KeC+QouIfj+f/KcwkP+HP2vORhwwfpI/IZG+0arzmz+Uvi9pLrmkP93onLk/J64/i2HCkTGItT/QeNzRsjC+P/0bqAxnyMQ/XiPAsvAZzD8Ohkj7GqnSP9vwnUQWWNg/Gei76Jwy3z8SCD5aO6PjP6mg+pceSeg/FeTT0r6A7T+WoZW9eJrxP3LkekiEovQ/VB4oi7HC9z+ndyripuD6P2KnR8Ua3/0/9b5iyP1PAEBBdT7/d4MBQIcTmDfyfQJAvnt0F6c2A0A5LKDl6KgDQAaRwZSG1ANAg+s/P7O9A0C74CtNdGwDQIa7LKOt6wJAcrMc7vFHAkALa+VuRI4BQAQry1T4ygBAecKGb9AIAEC6gRp15qD+P3hMKd5sUP0/AQ7kF2wo/D8UcYgXQC37P1pc2fgyYPo/GTwV80bA+T/PVUHa2kr5PzdL0msX/Pg/ev+1pifP+D+JyABETr74Px20+NHywvg/jVCAxcDV+D+VFpv96u74PzmcLl2ZBvk/gD0j7HcV+T9LNRMQUxX5P5ndeLSlAfk/K9cYD/7X+D8F/0PNI5j4P91XLDL1Q/g/c58Jdv3e9z8qXwDL0m33P4A/zIZT9fY/+/HVp9559j87+PHeo/71PzQG3/YihfU/H1DH/eoM9T+CMtxgoJP0P2XPQ5xHFfQ/+vFFcsmM8z//EEjBnvTyP6qjcbSNR/I/TH7/jmCB8T989lLIf5/wP9DBGq66Qu8/3Q7tp0oR7T+jBfNoX7LqPyt31HltMeg/Ov/KzLmc5T+dHoG0JATjPzplR1Dad+A/14M0tR4O3D8=",
          "dtype": "f8"
         }
        },
        {
         "line": {
          "color": "lightgreen",
          "dash": "solid",
          "width": 3
         },
         "mode": "lines",
         "name": "Gemma-3-4B-IT",
         "type": "scatter",
         "x": {
          "bdata": "AAAAAAAAAABbv1Kg1q+EP1u/UqDWr5Q/CB988MEHnz9bv1Kg1q+kPzJvZ0jM26k/CB988MEHrz9wZ0jM2xmyP1u/UqDWr7Q/RhdddNFFtz8yb2dIzNu5Px3HcRzHcbw/CB988MEHvz96O0Ni3s7AP3BnSMzbGcI/ZZNNNtlkwz9bv1Kg1q/EP1HrVwrU+sU/RhdddNFFxz88Q2LezpDIPzJvZ0jM28k/J5tssskmyz8dx3Ecx3HMPxPzdobEvM0/CB988MEHzz9/pUCtXynQP3o7Q2LeztA/ddFFF1100T9wZ0jM2xnSP2r9SoFav9I/ZZNNNtlk0z9gKVDrVwrUP1u/UqDWr9Q/VlVVVVVV1T9R61cK1PrVP0yBWr9SoNY/RhdddNFF1z9BrV8pUOvXPzxDYt7OkNg/N9lkk0022T8yb2dIzNvZPy0Fav1Kgdo/J5tssskm2z8iMW9nSMzbPx3HcRzHcdw/GF100UUX3T8T83aGxLzdPw6JeTtDYt4/CB988MEH3z8DtX6lQK3fP3+lQK1fKeA/ffDBBx984D96O0Ni3s7gP3eGxLydIeE/ddFFF1104T9yHMdxHMfhP3BnSMzbGeI/bbLJJpts4j9q/UqBWr/iP2hIzNsZEuM/ZZNNNtlk4z9j3s6QmLfjP2ApUOtXCuQ/XnTRRRdd5D9bv1Kg1q/kP1gK1PqVAuU/VlVVVVVV5T9ToNavFKjlP1HrVwrU+uU/TjbZZJNN5j9MgVq/UqDmP0nM2xkS8+Y/RhdddNFF5z9EYt7OkJjnP0GtXylQ6+c/P/jggw8+6D88Q2LezpDoPzmO4ziO4+g/N9lkk0026T80JObtDInpPzJvZ0jM2+k/L7rooosu6j8tBWr9SoHqPypQ61cK1Oo/J5tssskm6z8l5u0MiXnrPyIxb2dIzOs/IHzwwQcf7D8dx3Ecx3HsPxsS83aGxOw/GF100UUX7T8VqPUrBWrtPxPzdobEvO0/ED744IMP7j8OiXk7Q2LuPwvU+pUCte4/CB988MEH7z8Gav1KgVrvPwO1fqVAre8/AAAAAAAA8D8=",
          "dtype": "f8"
         },
         "y": {
          "bdata": "zm56OK2g8zMd6dVcTWqUNFhOQXLijTE1UrdmltD0yDWMyFDKnFRdNvWHNaQ/f+w2n52jXYPjdjd/fcBZVWX+N2zyEJ1Gr4A4LQSeId5I/jjiaWEtubh2Oci6U7R9L+w5B+ZgSmDnXDpDg49934DIOqYqVto7LDE7pW94hB7mkzvaq9x90A/zO0OljzLgME48qAqoEgfEozwhmRQBemX1PICMpzUXJkM9Q0696HNWjD3EnGxWWVbRPdotihX7ihE+4VI6IvlcTT5/6ScIq1SEPtCzM5eSTbc+b0Clss8f5j4gC4SPSGsRPwdw6JWVyTY/RKJ3XKzVWD9hs66xm6R2PxPvleyJYJE/K38NBUGkpj+ylQAJU1K5PwAtCQVnocg/8kYWPlAl1T+DWVNCJUjgP9kBSRzn7uY/pMXFkVxh7j+M72tINavzP6uTT3tU5fk/QQkg9Q6lAUBtYGIaHncIQGEL/4f/mhBASy8Hku5CFUDX/POuNRIZQJUyZGZ7AxtA/4Uaz8LOGkDqgb4zCREZQLm07CRQ1xZA9cYyrUP8FEAJVTOACdYTQDitAl5+RRNANx42bO7pEkCflzTMh1MSQEuMvK/bNhFAmvaGTR8hD0Au7jMKjCkLQFu0JhPg7gZA95FmK6SdAkD21K08Ia38P41q4AhS0PQ/mNSp393S7D9UMO6q7qXjP4kr2WYrHNs/5dDotg3D0j+Llr7urt/IP0YSfFFy8b0/olRB5zB2rz+Sq9JZPyycP/EXMhUkN4U/iZBAjWysaj9Io302hOFLP/HQ7y8aLCg/PTKxjudbAT+46KTvraLUPkRiqu4SS6Q+iF+uoEaBcD7JFCYpTjM2PvB3dJuOsPg97j9mTIuztj2Hbpfzq0FxPZ1Q6DNosCU9t65ziT+J1jxR/zA0r1uDPGL2pmg2fis8Ra1kOsAj0DtpdG5pn1RvO971iZKrIwk7emHozvKsoDo61iqV3kkyOgmj69PQlMA5VoXlSxzbSDlARwFfWs3OOAWf45Avjk84bw0ru3C5yjecIDGP2rVCN5mDWS+SqLU2X+ZWldi5JDY=",
          "dtype": "f8"
         }
        },
        {
         "line": {
          "color": "lightblue",
          "dash": "dash",
          "width": 3
         },
         "mode": "lines",
         "name": "Llama-3.1-70B-Instruct",
         "type": "scatter",
         "x": {
          "bdata": "AAAAAAAAAABbv1Kg1q+EP1u/UqDWr5Q/CB988MEHnz9bv1Kg1q+kPzJvZ0jM26k/CB988MEHrz9wZ0jM2xmyP1u/UqDWr7Q/RhdddNFFtz8yb2dIzNu5Px3HcRzHcbw/CB988MEHvz96O0Ni3s7AP3BnSMzbGcI/ZZNNNtlkwz9bv1Kg1q/EP1HrVwrU+sU/RhdddNFFxz88Q2LezpDIPzJvZ0jM28k/J5tssskmyz8dx3Ecx3HMPxPzdobEvM0/CB988MEHzz9/pUCtXynQP3o7Q2LeztA/ddFFF1100T9wZ0jM2xnSP2r9SoFav9I/ZZNNNtlk0z9gKVDrVwrUP1u/UqDWr9Q/VlVVVVVV1T9R61cK1PrVP0yBWr9SoNY/RhdddNFF1z9BrV8pUOvXPzxDYt7OkNg/N9lkk0022T8yb2dIzNvZPy0Fav1Kgdo/J5tssskm2z8iMW9nSMzbPx3HcRzHcdw/GF100UUX3T8T83aGxLzdPw6JeTtDYt4/CB988MEH3z8DtX6lQK3fP3+lQK1fKeA/ffDBBx984D96O0Ni3s7gP3eGxLydIeE/ddFFF1104T9yHMdxHMfhP3BnSMzbGeI/bbLJJpts4j9q/UqBWr/iP2hIzNsZEuM/ZZNNNtlk4z9j3s6QmLfjP2ApUOtXCuQ/XnTRRRdd5D9bv1Kg1q/kP1gK1PqVAuU/VlVVVVVV5T9ToNavFKjlP1HrVwrU+uU/TjbZZJNN5j9MgVq/UqDmP0nM2xkS8+Y/RhdddNFF5z9EYt7OkJjnP0GtXylQ6+c/P/jggw8+6D88Q2LezpDoPzmO4ziO4+g/N9lkk0026T80JObtDInpPzJvZ0jM2+k/L7rooosu6j8tBWr9SoHqPypQ61cK1Oo/J5tssskm6z8l5u0MiXnrPyIxb2dIzOs/IHzwwQcf7D8dx3Ecx3HsPxsS83aGxOw/GF100UUX7T8VqPUrBWrtPxPzdobEvO0/ED744IMP7j8OiXk7Q2LuPwvU+pUCte4/CB988MEH7z8Gav1KgVrvPwO1fqVAre8/AAAAAAAA8D8=",
          "dtype": "f8"
         },
         "y": {
          "bdata": "bFzVINU3Yz0rvyL0u4+APTRK/+4/uZs9tyhE67SJtj1NvOwA2svRPZ4AjRpqTOs9JuSLillWBD6SeRwta28dPgxmiOtRsTQ+IUCiLk9DTD6c/VkcUMBiPgaPk/xbLHg+YntSfzdHjj4pYSQe1myiPvUqyIdoyrU+GFisd20LyT64ahss2/nbPtb5wYg/YO4+2b1czgsIAD+QFtAY23MQP1q2IjNWayA/xAY2i+TfLz/b99P1DRk+P1nGMbF9p0s/596fxCK7WD8oUACgf4hlP6QMqayzQnI/SapoJf4sfj/dfpGau02IP2OZO/brFpM/kmOj8+RCnT/dETLfVeWlP5k79TzAAbA/KivgeDbhtj9RtLinq/6/P7OiwLPq5sU/bDOOgVJhzT+Hm1rsgFLTP+jSFQ9b8Ng/pBkH326b3z+DtWyyNK7jP9EII3WLGOg/oUjPaiMF7T+23Mq+iTLxP2xH+HfYEPQ/IUlLw1QO9z8vuyVoZxj6P9Do+1bVGf0/KZve8O37/z8fC7PEBVQBQBZGXNmghAJAdRLJkAKHA0Bm/xpsyFQEQGaONcdn6gRAC84TNlBHBUCQhHGttG0FQMc24icFYgVAzYL6OjIqBUAv8Df53swEQHxFpmKoUARASL4mT6O7A0Dlqu5yIxMDQDXzP3rLWwJAaReVL9SZAUAtLSUDbNEAQIEXP1MMBwBAJnVSR05//j9CLBHrOAH9PxXLul/snvs/SgDHBfBi+j84aCWmNFb5P8FmzqwUf/g/ZmgYLI3g9z+Oz5nkz3n3P6QhkUA9Rvc/QQgh/sQ99z89baxun1X3P80tBAhIgfc/+Uw3wZuz9z+Rg3i2+d/3PwDk5ihD+/c/GebxbJr89z/YNqE4yN33Py9o3n08m/c/OyhxGbIz9z8I5nB9j6f2P/Rw6SYt+PU/gyUNbDAn9T+pRS9VIzb0P+g7m1xhJvM/FZ98NVn58T8X94STC7HwPyAR2H86oe4/f+DdV5m56z/ybrSWRLjoP1HAMhiKreU/HsKCr+er4j8qL0T57YzfP8XEkzE/Hto/eHCny80p1T8=",
          "dtype": "f8"
         }
        },
        {
         "line": {
          "color": "lightblue",
          "dash": "solid",
          "width": 3
         },
         "mode": "lines",
         "name": "Llama-3.3-70B-Instruct",
         "type": "scatter",
         "x": {
          "bdata": "AAAAAAAAAABbv1Kg1q+EP1u/UqDWr5Q/CB988MEHnz9bv1Kg1q+kPzJvZ0jM26k/CB988MEHrz9wZ0jM2xmyP1u/UqDWr7Q/RhdddNFFtz8yb2dIzNu5Px3HcRzHcbw/CB988MEHvz96O0Ni3s7AP3BnSMzbGcI/ZZNNNtlkwz9bv1Kg1q/EP1HrVwrU+sU/RhdddNFFxz88Q2LezpDIPzJvZ0jM28k/J5tssskmyz8dx3Ecx3HMPxPzdobEvM0/CB988MEHzz9/pUCtXynQP3o7Q2LeztA/ddFFF1100T9wZ0jM2xnSP2r9SoFav9I/ZZNNNtlk0z9gKVDrVwrUP1u/UqDWr9Q/VlVVVVVV1T9R61cK1PrVP0yBWr9SoNY/RhdddNFF1z9BrV8pUOvXPzxDYt7OkNg/N9lkk0022T8yb2dIzNvZPy0Fav1Kgdo/J5tssskm2z8iMW9nSMzbPx3HcRzHcdw/GF100UUX3T8T83aGxLzdPw6JeTtDYt4/CB988MEH3z8DtX6lQK3fP3+lQK1fKeA/ffDBBx984D96O0Ni3s7gP3eGxLydIeE/ddFFF1104T9yHMdxHMfhP3BnSMzbGeI/bbLJJpts4j9q/UqBWr/iP2hIzNsZEuM/ZZNNNtlk4z9j3s6QmLfjP2ApUOtXCuQ/XnTRRRdd5D9bv1Kg1q/kP1gK1PqVAuU/VlVVVVVV5T9ToNavFKjlP1HrVwrU+uU/TjbZZJNN5j9MgVq/UqDmP0nM2xkS8+Y/RhdddNFF5z9EYt7OkJjnP0GtXylQ6+c/P/jggw8+6D88Q2LezpDoPzmO4ziO4+g/N9lkk0026T80JObtDInpPzJvZ0jM2+k/L7rooosu6j8tBWr9SoHqPypQ61cK1Oo/J5tssskm6z8l5u0MiXnrPyIxb2dIzOs/IHzwwQcf7D8dx3Ecx3HsPxsS83aGxOw/GF100UUX7T8VqPUrBWrtPxPzdobEvO0/ED744IMP7j8OiXk7Q2LuPwvU+pUCte4/CB988MEH7z8Gav1KgVrvPwO1fqVAre8/AAAAAAAA8D8=",
          "dtype": "f8"
         },
         "y": {
          "bdata": "w3nJy1ju8D2pCXYlHV0HPonJ6T6qbx8+bz1xqzmfND4pKeiH72FKPnqVVPXvdGA+Bk2Gcm4FdD4jS9BfE8GHPn1b0aJyfJs++SVc8+UErz67HUHYZBLBPi9qazJYVNI+MyHMZG4y4z4s8CJ4GZ3zPuXpso7sjAM/2gLDgXgDEz/Ql7rjEAsiP6shbuqEtTA/l9L0lQg0Pj/dRBu+EKVKP+FEkJtP8lY/oPPPsmlLYz+eZdQMvq9vP+f8LjTOaXk/HwB0HJzpgz899sYlf36OPw4RGtwX05Y/aPSagLW0oD/2eDGAZeynP4tJmI/ew7A/ku1za34Ctz9Fi+aJnfG+P2Q9U7XIZsQ/nJbIROZlyj/3adyq6MXQP+KLrmX789Q/OWG+HXTB2T85x7dYIy/fP07J2p5BneI/6as5ke7u5T/uyka6IYjpP814G5icYu0/3vl+A/668D8T5k9tmtvyP0T7PXcDDPU/SGLtFklD9z9YVUArn3b5PyaYgqWPmfs/t8Jjgnae/T9ZN0CsRXf/PwLF/T1AiwBADl3zTCk4AUB9XxmYz70BQA3f/3hyGQJAd/o6fGxKAkC5NBoLUlICQCGOU9LcNAJAEhE39KT3AUAVWiHoraEBQHpPqOnQOgFAKvSDNRLLAEBUKWck8VkAQJXAfn6K2/8/+I4rCnYW/z+af3zbAmr+PyBdwC9p1/0/5rjqBRVc/T/gQcwwevL8P7PSi5pFk/w/R2KN4L02/D+Jfpt0HNb7P9gKXFGpbPs/lO7vN274+j/aho0waXr6P2Ohqbk89vk/TbKAA3Jx+T/YIQKBcvL4P1ktGA5nf/g/LRja5yod+D+sBraleM73Pzt9oM5pk/c/8MuH7FFp9z8hnRaJ70r3P+gkaOniMPc/lCF991QS9z+W/eJcuOX2Pw/Mk+6RofY/c8FREzo99j9/PVfCjLH1PwstQtx/+fQ/D7lw2JcS9D/2ZiQAMv3yP4zh9j+bvPE/O3kna+xW8D9IcyrCUqntP5imeBZPgOo/N340nJBJ5z8KpjG5NhzkP9YwrfQCDuE/lxG8PaNj3D8=",
          "dtype": "f8"
         }
        },
        {
         "line": {
          "color": "lightcoral",
          "dash": "solid",
          "width": 3
         },
         "mode": "lines",
         "name": "Qwen3-14B",
         "type": "scatter",
         "x": {
          "bdata": "AAAAAAAAAABbv1Kg1q+EP1u/UqDWr5Q/CB988MEHnz9bv1Kg1q+kPzJvZ0jM26k/CB988MEHrz9wZ0jM2xmyP1u/UqDWr7Q/RhdddNFFtz8yb2dIzNu5Px3HcRzHcbw/CB988MEHvz96O0Ni3s7AP3BnSMzbGcI/ZZNNNtlkwz9bv1Kg1q/EP1HrVwrU+sU/RhdddNFFxz88Q2LezpDIPzJvZ0jM28k/J5tssskmyz8dx3Ecx3HMPxPzdobEvM0/CB988MEHzz9/pUCtXynQP3o7Q2LeztA/ddFFF1100T9wZ0jM2xnSP2r9SoFav9I/ZZNNNtlk0z9gKVDrVwrUP1u/UqDWr9Q/VlVVVVVV1T9R61cK1PrVP0yBWr9SoNY/RhdddNFF1z9BrV8pUOvXPzxDYt7OkNg/N9lkk0022T8yb2dIzNvZPy0Fav1Kgdo/J5tssskm2z8iMW9nSMzbPx3HcRzHcdw/GF100UUX3T8T83aGxLzdPw6JeTtDYt4/CB988MEH3z8DtX6lQK3fP3+lQK1fKeA/ffDBBx984D96O0Ni3s7gP3eGxLydIeE/ddFFF1104T9yHMdxHMfhP3BnSMzbGeI/bbLJJpts4j9q/UqBWr/iP2hIzNsZEuM/ZZNNNtlk4z9j3s6QmLfjP2ApUOtXCuQ/XnTRRRdd5D9bv1Kg1q/kP1gK1PqVAuU/VlVVVVVV5T9ToNavFKjlP1HrVwrU+uU/TjbZZJNN5j9MgVq/UqDmP0nM2xkS8+Y/RhdddNFF5z9EYt7OkJjnP0GtXylQ6+c/P/jggw8+6D88Q2LezpDoPzmO4ziO4+g/N9lkk0026T80JObtDInpPzJvZ0jM2+k/L7rooosu6j8tBWr9SoHqPypQ61cK1Oo/J5tssskm6z8l5u0MiXnrPyIxb2dIzOs/IHzwwQcf7D8dx3Ecx3HsPxsS83aGxOw/GF100UUX7T8VqPUrBWrtPxPzdobEvO0/ED744IMP7j8OiXk7Q2LuPwvU+pUCte4/CB988MEH7z8Gav1KgVrvPwO1fqVAre8/AAAAAAAA8D8=",
          "dtype": "f8"
         },
         "y": {
          "bdata": "7MDtiMFeVTwZO4CEPHJ6PCjiB5jfpp888ylvpZtRwjw0TPEWI4LkPERuOA7zNAY9rwn+bylCJz3mYXWyHpBHPdkSOGpvF2c92KObKSTkhT18LAKHtxOkPXwt4Ett0ME9aS/Dgv+V3j2NsQLg4mf5PRQ0qgCHaxQ+tmzAiN/DLz5x7AIeD+lHPjqoy+RNa2E+bbl3NvCQeD5+bef9vcSQPusXhLFZKaY+vNfo7XZbvD6x71IEPJHRPqYZjev9E+U+3Anq/YZ++D6YHIiZSpILP48gmTjtEB4/VBpfuXDELz94lAI2ZkNAP6k/Boq5I1A/sraTSqgNXz8SytVPMPdsP60z4yGsM3o/SyxDmaH9hj+9QZNZl5KTP5RGvJq4K6A/H2HHyFbwqT8SE4uThDO0P4dLfwmHkL4/U/oLe9t3xj8Zs8yFRw7QP0pMPlYQUdY/d1ERdn8u3j+EN3rmdt7jPwIt8n2ae+k/wjDp1Inb7z+Lk6LDu2zzPw2gufz2H/c/ronl4wnm+j/5GApqcpn+P7GYcvXtCQFAISD9XcuYAkBnCM+VZuoDQBBVf+EH9ARAPmKN4PmvBUAWBg270h0GQGRHHWU5QgZAOj7DqjUmBkD+jcxWIdYFQF8u3jFVYAVA6dA086/TBED/1YXGGD4EQIG1b2wiqwNAiANLivUiA0BC6AhOpqkCQD4fQVwRPwJANrucc03fAUCrIVkpq4MBQAT3lRUlJAFAVE4Mnwy5AECtRZ47rzwAQDi+hLBUWf8/oGheWFkV/j9L7o8L9rj8P6HFd2hiVvs/KVekxbwD+j/DqMeVe9f4P0FqxObA5Pc/uYvRQDs49z8C+oRmG9b2P2ciYs5nufY/kZgstq7U9j/GovDq2BP3P2D6NWO3Xvc/ed7bndmb9z8Rmf2rRrP3P2TVJE/NkPc/+STlsb0l9z9Or1G2+Gn2PwtoS0lSXPU/K6hD7E4C9D95is2RTGfyP6hte5Avm/A/EcLSAW5h7T++os0LTXfpP4jaq+r0neU/e+Jis7X24T9NuNkn4DfdP3c0cHqnP9c/aLF7FFMY0j8=",
          "dtype": "f8"
         }
        },
        {
         "line": {
          "color": "lightcoral",
          "dash": "dot",
          "width": 3
         },
         "mode": "lines",
         "name": "Qwen3-32B",
         "type": "scatter",
         "x": {
          "bdata": "AAAAAAAAAABbv1Kg1q+EP1u/UqDWr5Q/CB988MEHnz9bv1Kg1q+kPzJvZ0jM26k/CB988MEHrz9wZ0jM2xmyP1u/UqDWr7Q/RhdddNFFtz8yb2dIzNu5Px3HcRzHcbw/CB988MEHvz96O0Ni3s7AP3BnSMzbGcI/ZZNNNtlkwz9bv1Kg1q/EP1HrVwrU+sU/RhdddNFFxz88Q2LezpDIPzJvZ0jM28k/J5tssskmyz8dx3Ecx3HMPxPzdobEvM0/CB988MEHzz9/pUCtXynQP3o7Q2LeztA/ddFFF1100T9wZ0jM2xnSP2r9SoFav9I/ZZNNNtlk0z9gKVDrVwrUP1u/UqDWr9Q/VlVVVVVV1T9R61cK1PrVP0yBWr9SoNY/RhdddNFF1z9BrV8pUOvXPzxDYt7OkNg/N9lkk0022T8yb2dIzNvZPy0Fav1Kgdo/J5tssskm2z8iMW9nSMzbPx3HcRzHcdw/GF100UUX3T8T83aGxLzdPw6JeTtDYt4/CB988MEH3z8DtX6lQK3fP3+lQK1fKeA/ffDBBx984D96O0Ni3s7gP3eGxLydIeE/ddFFF1104T9yHMdxHMfhP3BnSMzbGeI/bbLJJpts4j9q/UqBWr/iP2hIzNsZEuM/ZZNNNtlk4z9j3s6QmLfjP2ApUOtXCuQ/XnTRRRdd5D9bv1Kg1q/kP1gK1PqVAuU/VlVVVVVV5T9ToNavFKjlP1HrVwrU+uU/TjbZZJNN5j9MgVq/UqDmP0nM2xkS8+Y/RhdddNFF5z9EYt7OkJjnP0GtXylQ6+c/P/jggw8+6D88Q2LezpDoPzmO4ziO4+g/N9lkk0026T80JObtDInpPzJvZ0jM2+k/L7rooosu6j8tBWr9SoHqPypQ61cK1Oo/J5tssskm6z8l5u0MiXnrPyIxb2dIzOs/IHzwwQcf7D8dx3Ecx3HsPxsS83aGxOw/GF100UUX7T8VqPUrBWrtPxPzdobEvO0/ED744IMP7j8OiXk7Q2LuPwvU+pUCte4/CB988MEH7z8Gav1KgVrvPwO1fqVAre8/AAAAAAAA8D8=",
          "dtype": "f8"
         },
         "y": {
          "bdata": "u6PnxUwzXT0/K5fdhmp5PdH6G1PTdZU9cBRU9RGUsT1BuLFZAfDLPa/2TjXiieU9aq3U1l4cAD4iYcBnlmIXPg80/q3cdzA+0EKeRuWBRj7avE5zKNpdPn2NZHGZNnM+eyxpKz0BiD7J/JKnzBydPjqGMxFTI7E+LabwujyXwz7jH63cA7/VPsFvsP91cec+H0kaj3KM+D77+im1afkIP5pnRQBgsBg/hC325OW4Jz/EJB6Q2Sg2P7vtC7c5IUQ/QiO2p6zJUT9wXueeI5deP8YjFjLommk/xbHkdAzfdD/9g1QEEJOAP8kk35CKqIk/22pB4RZekz/vtWgDHoecP7aPRjX6gqQ/ivY7iEnQrD+2T3BgbMizP8pj6GDVkro/sVxZ5AJ5wT9XxBy2q4PGP6m+aJsrdMw/hAfObnqn0T9APUwiaYnVP9KSoZdl3dk/igPu0o2g3j9ZsZ7ns+jhP1RcQazRuOQ/wnnK+azD5z9XvcY9qg7rP4mzH6D8oO4/aGQ2ai9B8T/AgBC0kFzzP05VV0Hlo/U/7SAix1EV+D95TXTP0Kr6P1aUDZ+IWf0/4hmUmNUIAEAMHL3Vel8BQCE7HEvnpAJAXyyUZHbMA0DsvBiDr8kEQEJyQ3ZfkQVA5c5Q5KgaBkBFSDKk618GQFyisyhlXwZA2YeLN3IbBkCCuuWSZJoFQLNGYl3t5QRAK1ff/iwKBEB/b/E5iBQDQO6/XpNsEgJA+IShRzEQAUA1RHFlPBgAQCQ8kcoLZf4/BCHk+P7I/D8/gGuEp2L7P7K3CKy9NPo/x+J+MnQ/+T+saeKwa4H4PzgS3blM+Pc/OW0tMPWg9z8YMCfQSHf3Pyna3CDQdfc/IKukHlyV9z/M0NvK3cz3P2qy0HaLEfg/ugsZ1VJX+D85FmahgJH4P3g3YnF8s/g/JUxREHux+D9RADnJF4H4P2+84mPVGfg/bdLWFpJ19z8qVys++ZD2P8YqeY/ya/U/H3bULv4J9D+i2SOOX3LyP7Dptp31r/A/Cr8ysFGh7T+AnQst2sjpP6dy3aze9+U/pdBsWzxO4j8=",
          "dtype": "f8"
         }
        },
        {
         "line": {
          "color": "lightcoral",
          "dash": "solid",
          "width": 3
         },
         "mode": "lines",
         "name": "Qwen3-4B",
         "type": "scatter",
         "x": {
          "bdata": "AAAAAAAAAABbv1Kg1q+EP1u/UqDWr5Q/CB988MEHnz9bv1Kg1q+kPzJvZ0jM26k/CB988MEHrz9wZ0jM2xmyP1u/UqDWr7Q/RhdddNFFtz8yb2dIzNu5Px3HcRzHcbw/CB988MEHvz96O0Ni3s7AP3BnSMzbGcI/ZZNNNtlkwz9bv1Kg1q/EP1HrVwrU+sU/RhdddNFFxz88Q2LezpDIPzJvZ0jM28k/J5tssskmyz8dx3Ecx3HMPxPzdobEvM0/CB988MEHzz9/pUCtXynQP3o7Q2LeztA/ddFFF1100T9wZ0jM2xnSP2r9SoFav9I/ZZNNNtlk0z9gKVDrVwrUP1u/UqDWr9Q/VlVVVVVV1T9R61cK1PrVP0yBWr9SoNY/RhdddNFF1z9BrV8pUOvXPzxDYt7OkNg/N9lkk0022T8yb2dIzNvZPy0Fav1Kgdo/J5tssskm2z8iMW9nSMzbPx3HcRzHcdw/GF100UUX3T8T83aGxLzdPw6JeTtDYt4/CB988MEH3z8DtX6lQK3fP3+lQK1fKeA/ffDBBx984D96O0Ni3s7gP3eGxLydIeE/ddFFF1104T9yHMdxHMfhP3BnSMzbGeI/bbLJJpts4j9q/UqBWr/iP2hIzNsZEuM/ZZNNNtlk4z9j3s6QmLfjP2ApUOtXCuQ/XnTRRRdd5D9bv1Kg1q/kP1gK1PqVAuU/VlVVVVVV5T9ToNavFKjlP1HrVwrU+uU/TjbZZJNN5j9MgVq/UqDmP0nM2xkS8+Y/RhdddNFF5z9EYt7OkJjnP0GtXylQ6+c/P/jggw8+6D88Q2LezpDoPzmO4ziO4+g/N9lkk0026T80JObtDInpPzJvZ0jM2+k/L7rooosu6j8tBWr9SoHqPypQ61cK1Oo/J5tssskm6z8l5u0MiXnrPyIxb2dIzOs/IHzwwQcf7D8dx3Ecx3HsPxsS83aGxOw/GF100UUX7T8VqPUrBWrtPxPzdobEvO0/ED744IMP7j8OiXk7Q2LuPwvU+pUCte4/CB988MEH7z8Gav1KgVrvPwO1fqVAre8/AAAAAAAA8D8=",
          "dtype": "f8"
         },
         "y": {
          "bdata": "/rpWnlzuhj2IojrrxzeiPc5GqJOcM7w9t/KqfXNE1T3+4dx0+UDvPZrOjliRYAY+QTyrrsQ5Hz4KvGskYDs1PpEfozH7I0w+tp6h8j0tYj7otHnFtuN2Pib92amVGYw+XI2/twbRoD43N/9jSKCzPtmIUPYzVsY+ABIz6TzL2D4der7CWdjqPngWPuoMW/w+7dlLLS05DT+NwLjF2GMdP4PbgKMb2Sw/gBqc7QekOz9TiW+mQttJP6zlbaRHnlc/yONy5dkRZT+dlvE6LlxyPxGCSLC2Qn8/S5343/0Aij8KEmafuCOVP/lrhwMRzKA/nD3ilTIYqj+T6DMbINGzP86pwg5fbr0/o68T8U9fxT8pHFHSn1vOP2PO5/inFtU/DOLTE8uo3D9PDBT04wzjP0g/AObRxug/+JMLQNuG7z+zFT3zAaDzP6jEV7Mn6Pc/8WDjdpF//D+8K7Q9gp8AQAK4zigP+wJAQ+kUvD83BUDA4pQoEDgHQLxzhM0t4whAN3Vlw4YiCkBbUK7vieYKQPHgKnDEJwtA5jOMY5/nCkAnThD4IjAKQNRYv3XKEglAQ4Bqy5imB0A2mAr9tgUGQMjV/k3xSgRAlEnDR2SPAkAHMb5YmugAQCMbbjSFzv4/6RgIEx4t/D9o1NNHYvj5PyrskkG1Mfg/3S5KWjzS9j/StLP/Ec31P/NyYYGgEfU/OclgQuWN9D9MIyUHazD0P2VRyf7Y6fM/lfLRtQKu8z8YhTa+cnTzPwj8iSl2OPM/uYKElLn48j8CxBT5kLbyP5c8gD0JdfI//A/ZEuU38j+ur7LupQLyP0RG1s691/E/rIt/X/+38T+FN7jDWKLxP8g8dLPak/E/GzmqQAOI8T9QwefgOnnxP2Cw18BsYfE/yFgP66E68T9Q+42sif/wP+RquTHgq/A/Yx3pBa088D9MaXiet2DvP4PLPWFwDe4/l0BPUbGB7D8atDY+BsLqP5Sn3NYi1eg/49nCgqzD5j8JOqyk+5fkP75ovOPFXeI/6dDDKqUh4D97c64T7+DbP/XRK1xArdc/sF8PWnq+0z8=",
          "dtype": "f8"
         }
        }
       ],
       "layout": {
        "font": {
         "size": 12
        },
        "height": 500,
        "legend": {
         "x": 0.01,
         "xanchor": "left",
         "y": 0.99,
         "yanchor": "top"
        },
        "template": {
         "data": {
          "bar": [
           {
            "error_x": {
             "color": "#2a3f5f"
            },
            "error_y": {
             "color": "#2a3f5f"
            },
            "marker": {
             "line": {
              "color": "#E5ECF6",
              "width": 0.5
             },
             "pattern": {
              "fillmode": "overlay",
              "size": 10,
              "solidity": 0.2
             }
            },
            "type": "bar"
           }
          ],
          "barpolar": [
           {
            "marker": {
             "line": {
              "color": "#E5ECF6",
              "width": 0.5
             },
             "pattern": {
              "fillmode": "overlay",
              "size": 10,
              "solidity": 0.2
             }
            },
            "type": "barpolar"
           }
          ],
          "carpet": [
           {
            "aaxis": {
             "endlinecolor": "#2a3f5f",
             "gridcolor": "white",
             "linecolor": "white",
             "minorgridcolor": "white",
             "startlinecolor": "#2a3f5f"
            },
            "baxis": {
             "endlinecolor": "#2a3f5f",
             "gridcolor": "white",
             "linecolor": "white",
             "minorgridcolor": "white",
             "startlinecolor": "#2a3f5f"
            },
            "type": "carpet"
           }
          ],
          "choropleth": [
           {
            "colorbar": {
             "outlinewidth": 0,
             "ticks": ""
            },
            "type": "choropleth"
           }
          ],
          "contour": [
           {
            "colorbar": {
             "outlinewidth": 0,
             "ticks": ""
            },
            "colorscale": [
             [
              0,
              "#0d0887"
             ],
             [
              0.1111111111111111,
              "#46039f"
             ],
             [
              0.2222222222222222,
              "#7201a8"
             ],
             [
              0.3333333333333333,
              "#9c179e"
             ],
             [
              0.4444444444444444,
              "#bd3786"
             ],
             [
              0.5555555555555556,
              "#d8576b"
             ],
             [
              0.6666666666666666,
              "#ed7953"
             ],
             [
              0.7777777777777778,
              "#fb9f3a"
             ],
             [
              0.8888888888888888,
              "#fdca26"
             ],
             [
              1,
              "#f0f921"
             ]
            ],
            "type": "contour"
           }
          ],
          "contourcarpet": [
           {
            "colorbar": {
             "outlinewidth": 0,
             "ticks": ""
            },
            "type": "contourcarpet"
           }
          ],
          "heatmap": [
           {
            "colorbar": {
             "outlinewidth": 0,
             "ticks": ""
            },
            "colorscale": [
             [
              0,
              "#0d0887"
             ],
             [
              0.1111111111111111,
              "#46039f"
             ],
             [
              0.2222222222222222,
              "#7201a8"
             ],
             [
              0.3333333333333333,
              "#9c179e"
             ],
             [
              0.4444444444444444,
              "#bd3786"
             ],
             [
              0.5555555555555556,
              "#d8576b"
             ],
             [
              0.6666666666666666,
              "#ed7953"
             ],
             [
              0.7777777777777778,
              "#fb9f3a"
             ],
             [
              0.8888888888888888,
              "#fdca26"
             ],
             [
              1,
              "#f0f921"
             ]
            ],
            "type": "heatmap"
           }
          ],
          "histogram": [
           {
            "marker": {
             "pattern": {
              "fillmode": "overlay",
              "size": 10,
              "solidity": 0.2
             }
            },
            "type": "histogram"
           }
          ],
          "histogram2d": [
           {
            "colorbar": {
             "outlinewidth": 0,
             "ticks": ""
            },
            "colorscale": [
             [
              0,
              "#0d0887"
             ],
             [
              0.1111111111111111,
              "#46039f"
             ],
             [
              0.2222222222222222,
              "#7201a8"
             ],
             [
              0.3333333333333333,
              "#9c179e"
             ],
             [
              0.4444444444444444,
              "#bd3786"
             ],
             [
              0.5555555555555556,
              "#d8576b"
             ],
             [
              0.6666666666666666,
              "#ed7953"
             ],
             [
              0.7777777777777778,
              "#fb9f3a"
             ],
             [
              0.8888888888888888,
              "#fdca26"
             ],
             [
              1,
              "#f0f921"
             ]
            ],
            "type": "histogram2d"
           }
          ],
          "histogram2dcontour": [
           {
            "colorbar": {
             "outlinewidth": 0,
             "ticks": ""
            },
            "colorscale": [
             [
              0,
              "#0d0887"
             ],
             [
              0.1111111111111111,
              "#46039f"
             ],
             [
              0.2222222222222222,
              "#7201a8"
             ],
             [
              0.3333333333333333,
              "#9c179e"
             ],
             [
              0.4444444444444444,
              "#bd3786"
             ],
             [
              0.5555555555555556,
              "#d8576b"
             ],
             [
              0.6666666666666666,
              "#ed7953"
             ],
             [
              0.7777777777777778,
              "#fb9f3a"
             ],
             [
              0.8888888888888888,
              "#fdca26"
             ],
             [
              1,
              "#f0f921"
             ]
            ],
            "type": "histogram2dcontour"
           }
          ],
          "mesh3d": [
           {
            "colorbar": {
             "outlinewidth": 0,
             "ticks": ""
            },
            "type": "mesh3d"
           }
          ],
          "parcoords": [
           {
            "line": {
             "colorbar": {
              "outlinewidth": 0,
              "ticks": ""
             }
            },
            "type": "parcoords"
           }
          ],
          "pie": [
           {
            "automargin": true,
            "type": "pie"
           }
          ],
          "scatter": [
           {
            "fillpattern": {
             "fillmode": "overlay",
             "size": 10,
             "solidity": 0.2
            },
            "type": "scatter"
           }
          ],
          "scatter3d": [
           {
            "line": {
             "colorbar": {
              "outlinewidth": 0,
              "ticks": ""
             }
            },
            "marker": {
             "colorbar": {
              "outlinewidth": 0,
              "ticks": ""
             }
            },
            "type": "scatter3d"
           }
          ],
          "scattercarpet": [
           {
            "marker": {
             "colorbar": {
              "outlinewidth": 0,
              "ticks": ""
             }
            },
            "type": "scattercarpet"
           }
          ],
          "scattergeo": [
           {
            "marker": {
             "colorbar": {
              "outlinewidth": 0,
              "ticks": ""
             }
            },
            "type": "scattergeo"
           }
          ],
          "scattergl": [
           {
            "marker": {
             "colorbar": {
              "outlinewidth": 0,
              "ticks": ""
             }
            },
            "type": "scattergl"
           }
          ],
          "scattermap": [
           {
            "marker": {
             "colorbar": {
              "outlinewidth": 0,
              "ticks": ""
             }
            },
            "type": "scattermap"
           }
          ],
          "scattermapbox": [
           {
            "marker": {
             "colorbar": {
              "outlinewidth": 0,
              "ticks": ""
             }
            },
            "type": "scattermapbox"
           }
          ],
          "scatterpolar": [
           {
            "marker": {
             "colorbar": {
              "outlinewidth": 0,
              "ticks": ""
             }
            },
            "type": "scatterpolar"
           }
          ],
          "scatterpolargl": [
           {
            "marker": {
             "colorbar": {
              "outlinewidth": 0,
              "ticks": ""
             }
            },
            "type": "scatterpolargl"
           }
          ],
          "scatterternary": [
           {
            "marker": {
             "colorbar": {
              "outlinewidth": 0,
              "ticks": ""
             }
            },
            "type": "scatterternary"
           }
          ],
          "surface": [
           {
            "colorbar": {
             "outlinewidth": 0,
             "ticks": ""
            },
            "colorscale": [
             [
              0,
              "#0d0887"
             ],
             [
              0.1111111111111111,
              "#46039f"
             ],
             [
              0.2222222222222222,
              "#7201a8"
             ],
             [
              0.3333333333333333,
              "#9c179e"
             ],
             [
              0.4444444444444444,
              "#bd3786"
             ],
             [
              0.5555555555555556,
              "#d8576b"
             ],
             [
              0.6666666666666666,
              "#ed7953"
             ],
             [
              0.7777777777777778,
              "#fb9f3a"
             ],
             [
              0.8888888888888888,
              "#fdca26"
             ],
             [
              1,
              "#f0f921"
             ]
            ],
            "type": "surface"
           }
          ],
          "table": [
           {
            "cells": {
             "fill": {
              "color": "#EBF0F8"
             },
             "line": {
              "color": "white"
             }
            },
            "header": {
             "fill": {
              "color": "#C8D4E3"
             },
             "line": {
              "color": "white"
             }
            },
            "type": "table"
           }
          ]
         },
         "layout": {
          "annotationdefaults": {
           "arrowcolor": "#2a3f5f",
           "arrowhead": 0,
           "arrowwidth": 1
          },
          "autotypenumbers": "strict",
          "coloraxis": {
           "colorbar": {
            "outlinewidth": 0,
            "ticks": ""
           }
          },
          "colorscale": {
           "diverging": [
            [
             0,
             "#8e0152"
            ],
            [
             0.1,
             "#c51b7d"
            ],
            [
             0.2,
             "#de77ae"
            ],
            [
             0.3,
             "#f1b6da"
            ],
            [
             0.4,
             "#fde0ef"
            ],
            [
             0.5,
             "#f7f7f7"
            ],
            [
             0.6,
             "#e6f5d0"
            ],
            [
             0.7,
             "#b8e186"
            ],
            [
             0.8,
             "#7fbc41"
            ],
            [
             0.9,
             "#4d9221"
            ],
            [
             1,
             "#276419"
            ]
           ],
           "sequential": [
            [
             0,
             "#0d0887"
            ],
            [
             0.1111111111111111,
             "#46039f"
            ],
            [
             0.2222222222222222,
             "#7201a8"
            ],
            [
             0.3333333333333333,
             "#9c179e"
            ],
            [
             0.4444444444444444,
             "#bd3786"
            ],
            [
             0.5555555555555556,
             "#d8576b"
            ],
            [
             0.6666666666666666,
             "#ed7953"
            ],
            [
             0.7777777777777778,
             "#fb9f3a"
            ],
            [
             0.8888888888888888,
             "#fdca26"
            ],
            [
             1,
             "#f0f921"
            ]
           ],
           "sequentialminus": [
            [
             0,
             "#0d0887"
            ],
            [
             0.1111111111111111,
             "#46039f"
            ],
            [
             0.2222222222222222,
             "#7201a8"
            ],
            [
             0.3333333333333333,
             "#9c179e"
            ],
            [
             0.4444444444444444,
             "#bd3786"
            ],
            [
             0.5555555555555556,
             "#d8576b"
            ],
            [
             0.6666666666666666,
             "#ed7953"
            ],
            [
             0.7777777777777778,
             "#fb9f3a"
            ],
            [
             0.8888888888888888,
             "#fdca26"
            ],
            [
             1,
             "#f0f921"
            ]
           ]
          },
          "colorway": [
           "#636efa",
           "#EF553B",
           "#00cc96",
           "#ab63fa",
           "#FFA15A",
           "#19d3f3",
           "#FF6692",
           "#B6E880",
           "#FF97FF",
           "#FECB52"
          ],
          "font": {
           "color": "#2a3f5f"
          },
          "geo": {
           "bgcolor": "white",
           "lakecolor": "white",
           "landcolor": "#E5ECF6",
           "showlakes": true,
           "showland": true,
           "subunitcolor": "white"
          },
          "hoverlabel": {
           "align": "left"
          },
          "hovermode": "closest",
          "mapbox": {
           "style": "light"
          },
          "paper_bgcolor": "white",
          "plot_bgcolor": "#E5ECF6",
          "polar": {
           "angularaxis": {
            "gridcolor": "white",
            "linecolor": "white",
            "ticks": ""
           },
           "bgcolor": "#E5ECF6",
           "radialaxis": {
            "gridcolor": "white",
            "linecolor": "white",
            "ticks": ""
           }
          },
          "scene": {
           "xaxis": {
            "backgroundcolor": "#E5ECF6",
            "gridcolor": "white",
            "gridwidth": 2,
            "linecolor": "white",
            "showbackground": true,
            "ticks": "",
            "zerolinecolor": "white"
           },
           "yaxis": {
            "backgroundcolor": "#E5ECF6",
            "gridcolor": "white",
            "gridwidth": 2,
            "linecolor": "white",
            "showbackground": true,
            "ticks": "",
            "zerolinecolor": "white"
           },
           "zaxis": {
            "backgroundcolor": "#E5ECF6",
            "gridcolor": "white",
            "gridwidth": 2,
            "linecolor": "white",
            "showbackground": true,
            "ticks": "",
            "zerolinecolor": "white"
           }
          },
          "shapedefaults": {
           "line": {
            "color": "#2a3f5f"
           }
          },
          "ternary": {
           "aaxis": {
            "gridcolor": "white",
            "linecolor": "white",
            "ticks": ""
           },
           "baxis": {
            "gridcolor": "white",
            "linecolor": "white",
            "ticks": ""
           },
           "bgcolor": "#E5ECF6",
           "caxis": {
            "gridcolor": "white",
            "linecolor": "white",
            "ticks": ""
           }
          },
          "title": {
           "x": 0.05
          },
          "xaxis": {
           "automargin": true,
           "gridcolor": "white",
           "linecolor": "white",
           "ticks": "",
           "title": {
            "standoff": 15
           },
           "zerolinecolor": "white",
           "zerolinewidth": 2
          },
          "yaxis": {
           "automargin": true,
           "gridcolor": "white",
           "linecolor": "white",
           "ticks": "",
           "title": {
            "standoff": 15
           },
           "zerolinecolor": "white",
           "zerolinewidth": 2
          }
         }
        },
        "title": {
         "text": "Accuracy Density Distribution - Fuzz"
        },
        "xaxis": {
         "title": {
          "text": "Accuracy"
         }
        },
        "yaxis": {
         "title": {
          "text": "Density"
         }
        }
       }
      }
     },
     "metadata": {},
     "output_type": "display_data"
    },
    {
     "name": "stdout",
     "output_type": "stream",
     "text": [
      "\n",
      "Data Quality Summary for fuzz:\n",
      "  Total data points processed: 784\n",
      "  Valid data points used: 782\n",
      "  NaN values found: 2\n",
      "  Infinite values found: 0\n",
      "  Data quality rate: 99.7%\n"
     ]
    },
    {
     "name": "stderr",
     "output_type": "stream",
     "text": [
      "/tmp/ipykernel_4108791/3378152093.py:197: DeprecationWarning:\n",
      "\n",
      "\n",
      "Support for Kaleido versions less than 1.0.0 is deprecated and will be removed after September 2025.\n",
      "Please upgrade Kaleido to version 1.0.0 or greater (`pip install 'kaleido>=1.0.0'` or `pip install 'plotly[kaleido]'`).\n",
      "\n",
      "\n",
      "/tmp/ipykernel_4108791/3378152093.py:198: DeprecationWarning:\n",
      "\n",
      "\n",
      "Support for Kaleido versions less than 1.0.0 is deprecated and will be removed after September 2025.\n",
      "Please upgrade Kaleido to version 1.0.0 or greater (`pip install 'kaleido>=1.0.0'` or `pip install 'plotly[kaleido]'`).\n",
      "\n",
      "\n",
      "/tmp/ipykernel_4108791/3378152093.py:198: DeprecationWarning:\n",
      "\n",
      "\n",
      "Support for Kaleido versions less than 1.0.0 is deprecated and will be removed after September 2025.\n",
      "Please upgrade Kaleido to version 1.0.0 or greater (`pip install 'kaleido>=1.0.0'` or `pip install 'plotly[kaleido]'`).\n",
      "\n",
      "\n"
     ]
    },
    {
     "name": "stdout",
     "output_type": "stream",
     "text": [
      "Saved KDE density plot: /home/jeremias/projects/delphi-explanations/results/visualizations/accuracy_density_fuzz.pdf\n",
      "Saved KDE density plot: /home/jeremias/projects/delphi-explanations/results/visualizations/accuracy_density_fuzz.png\n",
      "\n",
      "Creating KDE density plot for detection...\n"
     ]
    },
    {
     "data": {
      "application/vnd.plotly.v1+json": {
       "config": {
        "plotlyServerURL": "https://plot.ly"
       },
       "data": [
        {
         "line": {
          "color": "lightgreen",
          "dash": "dash",
          "width": 3
         },
         "mode": "lines",
         "name": "Gemma-3-12B-IT",
         "type": "scatter",
         "x": {
          "bdata": "AAAAAAAAAABbv1Kg1q+EP1u/UqDWr5Q/CB988MEHnz9bv1Kg1q+kPzJvZ0jM26k/CB988MEHrz9wZ0jM2xmyP1u/UqDWr7Q/RhdddNFFtz8yb2dIzNu5Px3HcRzHcbw/CB988MEHvz96O0Ni3s7AP3BnSMzbGcI/ZZNNNtlkwz9bv1Kg1q/EP1HrVwrU+sU/RhdddNFFxz88Q2LezpDIPzJvZ0jM28k/J5tssskmyz8dx3Ecx3HMPxPzdobEvM0/CB988MEHzz9/pUCtXynQP3o7Q2LeztA/ddFFF1100T9wZ0jM2xnSP2r9SoFav9I/ZZNNNtlk0z9gKVDrVwrUP1u/UqDWr9Q/VlVVVVVV1T9R61cK1PrVP0yBWr9SoNY/RhdddNFF1z9BrV8pUOvXPzxDYt7OkNg/N9lkk0022T8yb2dIzNvZPy0Fav1Kgdo/J5tssskm2z8iMW9nSMzbPx3HcRzHcdw/GF100UUX3T8T83aGxLzdPw6JeTtDYt4/CB988MEH3z8DtX6lQK3fP3+lQK1fKeA/ffDBBx984D96O0Ni3s7gP3eGxLydIeE/ddFFF1104T9yHMdxHMfhP3BnSMzbGeI/bbLJJpts4j9q/UqBWr/iP2hIzNsZEuM/ZZNNNtlk4z9j3s6QmLfjP2ApUOtXCuQ/XnTRRRdd5D9bv1Kg1q/kP1gK1PqVAuU/VlVVVVVV5T9ToNavFKjlP1HrVwrU+uU/TjbZZJNN5j9MgVq/UqDmP0nM2xkS8+Y/RhdddNFF5z9EYt7OkJjnP0GtXylQ6+c/P/jggw8+6D88Q2LezpDoPzmO4ziO4+g/N9lkk0026T80JObtDInpPzJvZ0jM2+k/L7rooosu6j8tBWr9SoHqPypQ61cK1Oo/J5tssskm6z8l5u0MiXnrPyIxb2dIzOs/IHzwwQcf7D8dx3Ecx3HsPxsS83aGxOw/GF100UUX7T8VqPUrBWrtPxPzdobEvO0/ED744IMP7j8OiXk7Q2LuPwvU+pUCte4/CB988MEH7z8Gav1KgVrvPwO1fqVAre8/AAAAAAAA8D8=",
          "dtype": "f8"
         },
         "y": {
          "bdata": "1fovHMTbuDueOV3PoY/oOxzTrer/Hhc8kA+9GBG9RDwCH+GUhblxPKNkr8gB35w8J/2L0mJoxjw86wKMEpPwPBLFMX2XXhc9oZRwRjNoPz23pvK/HR5kPTvjOzvLkYg9CmAgKcObrD0nYd4oKcPPPQaXp3xW0PA9dUsiKiT6ED4EqCGFr1kwPuT+T7XyCk4+a5X2eklVaj7G+u4ATwaGPtosvA+OlKE+3+z3ZwHKuj4om5CjbHzTPpzOwCycEes+4AaOe+70AT/8Vx/zdMIWP8RS2CG5kCs/BKdsAnHpPz/wMgYKj6lRP0fCzJqYs2I/0/vdeCPzcj+FzYwVcWKCP2vi4B2GFpE/kBWwUpF0nj9lkszb6wqqP/VltvAXZLU/W8FspcflwD/XG0iO27XJP4Tty+Q53tI/EQ2EsFHD2j9rm/znLWHiP/jofigtf+g/tBVwZQ/A7z9aRwOCqwz0P98w4bUKuPg/LQWpw6LL/T/LRfgfjpMBQKdPSd8AUARA2E21LFcBB0ANBeR/iYoJQHrXQJa6zQtAYlZPMkqvDUDnVb1YAxkPQJsQZtiw/A9AAec+i8IqEEAgqVlNChQQQBYnckgDgQ9A+PdqQ89yDkAfsjUnRRMNQKPQWscdeQtA+TwWWxu6CUDoUd2FxukHQEQi4K69GAZACDEh0m5UBEA9KWCpEKcCQOte7+29FwFAPwRvrFFV/z9Tuywz1ML8P5w+DZ/fdvo/1LiRfg9t+D8/e4go7J72P0n1yz4JBfU/oLdu6fSX8z9bom7p6FDyP7cfcCk+KvE/Gxypjqgf8D9pnqNUeFzuP5zFc9VtqOw/My0uOxgh6z9agCnBesTpP12rlz9Ej+g/BEYOH6B75z9Pmxi9sIDmP2vScsTykuU/bux8poCl5D8CL64j4avjP66zoWjdm+I/HrrqYuBu4T/wT8inliLgP8jpTr2icd0/hnWO0tNt2j8hLxQh6knXP3OZUKX0GdQ/KNmxXmz00D8PIB2eNeHLP/dHFXhfScY/Fh59aSVHwT+7eWFQMuu5P4xJsApAxLI/+GvVv4kuqj8=",
          "dtype": "f8"
         }
        },
        {
         "line": {
          "color": "lightgreen",
          "dash": "dot",
          "width": 3
         },
         "mode": "lines",
         "name": "Gemma-3-27B-IT",
         "type": "scatter",
         "x": {
          "bdata": "AAAAAAAAAABbv1Kg1q+EP1u/UqDWr5Q/CB988MEHnz9bv1Kg1q+kPzJvZ0jM26k/CB988MEHrz9wZ0jM2xmyP1u/UqDWr7Q/RhdddNFFtz8yb2dIzNu5Px3HcRzHcbw/CB988MEHvz96O0Ni3s7AP3BnSMzbGcI/ZZNNNtlkwz9bv1Kg1q/EP1HrVwrU+sU/RhdddNFFxz88Q2LezpDIPzJvZ0jM28k/J5tssskmyz8dx3Ecx3HMPxPzdobEvM0/CB988MEHzz9/pUCtXynQP3o7Q2LeztA/ddFFF1100T9wZ0jM2xnSP2r9SoFav9I/ZZNNNtlk0z9gKVDrVwrUP1u/UqDWr9Q/VlVVVVVV1T9R61cK1PrVP0yBWr9SoNY/RhdddNFF1z9BrV8pUOvXPzxDYt7OkNg/N9lkk0022T8yb2dIzNvZPy0Fav1Kgdo/J5tssskm2z8iMW9nSMzbPx3HcRzHcdw/GF100UUX3T8T83aGxLzdPw6JeTtDYt4/CB988MEH3z8DtX6lQK3fP3+lQK1fKeA/ffDBBx984D96O0Ni3s7gP3eGxLydIeE/ddFFF1104T9yHMdxHMfhP3BnSMzbGeI/bbLJJpts4j9q/UqBWr/iP2hIzNsZEuM/ZZNNNtlk4z9j3s6QmLfjP2ApUOtXCuQ/XnTRRRdd5D9bv1Kg1q/kP1gK1PqVAuU/VlVVVVVV5T9ToNavFKjlP1HrVwrU+uU/TjbZZJNN5j9MgVq/UqDmP0nM2xkS8+Y/RhdddNFF5z9EYt7OkJjnP0GtXylQ6+c/P/jggw8+6D88Q2LezpDoPzmO4ziO4+g/N9lkk0026T80JObtDInpPzJvZ0jM2+k/L7rooosu6j8tBWr9SoHqPypQ61cK1Oo/J5tssskm6z8l5u0MiXnrPyIxb2dIzOs/IHzwwQcf7D8dx3Ecx3HsPxsS83aGxOw/GF100UUX7T8VqPUrBWrtPxPzdobEvO0/ED744IMP7j8OiXk7Q2LuPwvU+pUCte4/CB988MEH7z8Gav1KgVrvPwO1fqVAre8/AAAAAAAA8D8=",
          "dtype": "f8"
         },
         "y": {
          "bdata": "UKS5igDibjysm+l0Z4qUPEDw4v76Sro8TzHMtoMx4DxDwxGP3zEDPXicNnJD5SU9x1Q/60oJSD01TXx75mRpPbE58col0ok9cPqjUQ1FqT3ychSfws3HPYS/oTaDleU9UWVNtS/XAj5bCfWbkKofPpIpsU1nnzk+NH8tieX2Uz7jmRN5gvZtPnaVgCVnqIU+aSROBf4pnj5cJOWY0D20PsuGteYwL8o+AQixkC5U4D6HlPoAZKTzPu3ng/QUzAY/SPDFqkuKGT+BmfLBL6IrP51jaTMW5Dw/KJp83r40TT/dYHWkKpFcPxYNlxJIDms/csoMQLnUeD8PZ47r2BmGPx30irikF5M/xDShhTQFoD9g0e8D/CGqP1AhY50Du7Q/Bq0L+LsAwD+B4UAhLw3IP0L40zdZmdE/YMb8gb0U2T/Ww2L7dWfhP3+HD4kbhec/1PwLxVjy7j9cf3uL7NHzP8fwqwm0tvg/f1UgfpP//T8AMInYCLoBQH2jmz7DZwRAp9ANxRnkBkCvKjKJBQwJQAcZunfDwgpAK4489GT1C0B/jXwQzZwMQD70GLbAvQxATy4lXSZnDEAuP8vP+a4LQNevVdGyrgpAUVaxJN1/CUA0ftgAbjkIQAe1iTUX7gZAQam5PZCrBUC9kqbvnnoEQMe9maibXwNAB3MVxzhbAkAf70Pha2sBQO2kNGNpjABALBLIlVFz/z857rOJwt39PyvDDTnHUfw/QnDesmHM+j8nzKKQZU75P1crQR0a3Pc/qONchyh89j+nAqKRGDb1Pw44qbyxEPQ/5ALwfJIQ8z9MEVHfODfyPzhkkVabgvE/FDLau1bt8D9dBmDqYm/wP1xjOY9e/u8/LgQkgvEl7z8gdcPhOETuP6cKr8RHTO0/sK4vIqQ27D8EHL/FKwHrPyytwDXjrek/D2W4jh9B6D83gUu8qb/mP0Km/qxuLeU/nk/FjRGN4z/0nkNBXeDhP5UtrZlEKeA/paOOmvLV3D95txDcUlXZPw1URMc/39U/b0GKb3+F0j+SnOOYFLbOP3PNjHpP48g/XQ6jZ3Kvwz8=",
          "dtype": "f8"
         }
        },
        {
         "line": {
          "color": "lightgreen",
          "dash": "solid",
          "width": 3
         },
         "mode": "lines",
         "name": "Gemma-3-4B-IT",
         "type": "scatter",
         "x": {
          "bdata": "AAAAAAAAAABbv1Kg1q+EP1u/UqDWr5Q/CB988MEHnz9bv1Kg1q+kPzJvZ0jM26k/CB988MEHrz9wZ0jM2xmyP1u/UqDWr7Q/RhdddNFFtz8yb2dIzNu5Px3HcRzHcbw/CB988MEHvz96O0Ni3s7AP3BnSMzbGcI/ZZNNNtlkwz9bv1Kg1q/EP1HrVwrU+sU/RhdddNFFxz88Q2LezpDIPzJvZ0jM28k/J5tssskmyz8dx3Ecx3HMPxPzdobEvM0/CB988MEHzz9/pUCtXynQP3o7Q2LeztA/ddFFF1100T9wZ0jM2xnSP2r9SoFav9I/ZZNNNtlk0z9gKVDrVwrUP1u/UqDWr9Q/VlVVVVVV1T9R61cK1PrVP0yBWr9SoNY/RhdddNFF1z9BrV8pUOvXPzxDYt7OkNg/N9lkk0022T8yb2dIzNvZPy0Fav1Kgdo/J5tssskm2z8iMW9nSMzbPx3HcRzHcdw/GF100UUX3T8T83aGxLzdPw6JeTtDYt4/CB988MEH3z8DtX6lQK3fP3+lQK1fKeA/ffDBBx984D96O0Ni3s7gP3eGxLydIeE/ddFFF1104T9yHMdxHMfhP3BnSMzbGeI/bbLJJpts4j9q/UqBWr/iP2hIzNsZEuM/ZZNNNtlk4z9j3s6QmLfjP2ApUOtXCuQ/XnTRRRdd5D9bv1Kg1q/kP1gK1PqVAuU/VlVVVVVV5T9ToNavFKjlP1HrVwrU+uU/TjbZZJNN5j9MgVq/UqDmP0nM2xkS8+Y/RhdddNFF5z9EYt7OkJjnP0GtXylQ6+c/P/jggw8+6D88Q2LezpDoPzmO4ziO4+g/N9lkk0026T80JObtDInpPzJvZ0jM2+k/L7rooosu6j8tBWr9SoHqPypQ61cK1Oo/J5tssskm6z8l5u0MiXnrPyIxb2dIzOs/IHzwwQcf7D8dx3Ecx3HsPxsS83aGxOw/GF100UUX7T8VqPUrBWrtPxPzdobEvO0/ED744IMP7j8OiXk7Q2LuPwvU+pUCte4/CB988MEH7z8Gav1KgVrvPwO1fqVAre8/AAAAAAAA8D8=",
          "dtype": "f8"
         },
         "y": {
          "bdata": "QgvEiHBHRjA/RZtKuF4AMSYhfVWK37MxTB8SukjuYzK+67vFQoMQM727ZAOSmrYzA65xn6uPWTRS6SmhE+H3NF8RDG7FbZI197pw66d/JzaALDpwyMC4NmcXRa9cikU3Ff5GfYv4zjf7G7RnvmRSOA5XUYmIDNI4JxgJPk5DTTm4BdcqA5nDOSg9BZ+grzU6NAw5vkfTozpU3WGEnvINO0wSBKImsHI7eQLFZFVF0zvbHaarb2swPClPeQUlH4c8mvWL/WLo2jxZgFFj0OEpPfZSRre1lHQ9zmplDbIQuz1JaxH4AHH9PQoOxFr1gDo+nZBQqOfBcz7gbOeo42moPi+EdB8iCNk+/cqieKdUBT8Uvn0nrUcuP729adKQ9FE/6D/6FCndcT/ujy3EWv2NP+z1UhRDZ6U/0bfav0A/uj8HK6m+eAfMP/fOniAlgdo/Le0iOHae5j+yoAyqwsPxP74qT6InJPo/ovkPUr1HAkCsoYBkXI0IQI4PXWtN2A9AqBnvyU/uE0BzLRhJm+YXQI9ptcfFIxtA2dEGSBvgHEB2BZt++7IcQMuqPQye5xpAPt5V3ExZGEBtxdJ7nuMVQFjHavNo5hNA4q8YPM0+EkDT64+iSpYQQKtSG8bqXg1Ai+jG4LgRCUBzVVu8bbkEQPSS0dZRBAFAGadw8K7h/D+Ys3dZk+/5P31WrYjtHPg/4STypPkE9j/Sjw4+CNHyP2y0bg3CM+0/T1WFYPhA5D+LFcXL3uLYPx16thT44so/AhSLMe9VuT+xrahiFKOkPwRKuq0ozIw/hfpch14RcT+CiXfl+RBRP7eqeu+GoSw/xd/skgwQBD/8Xo/blmrXPtnYZj/etaY+RTR2+NxFcj5eQzu02V04PpBA6S0d5/o9kKOfjxaUuD0zzGj9qJJyPZMmSPmcNSc9JNhLTeT51zxukQAQtniEPDniQtvt4yw85hPRiHjY0DvRCv1oeDtwO7lNWaLc2Ak7ARkPRY8AoTpyfD+i6noyOt6Nm9dJmMA5S5/ZPGGfSDmI+ldCmC7OOKDNXbNykE44QUxUI92RyTc=",
          "dtype": "f8"
         }
        },
        {
         "line": {
          "color": "lightblue",
          "dash": "dash",
          "width": 3
         },
         "mode": "lines",
         "name": "Llama-3.1-70B-Instruct",
         "type": "scatter",
         "x": {
          "bdata": "AAAAAAAAAABbv1Kg1q+EP1u/UqDWr5Q/CB988MEHnz9bv1Kg1q+kPzJvZ0jM26k/CB988MEHrz9wZ0jM2xmyP1u/UqDWr7Q/RhdddNFFtz8yb2dIzNu5Px3HcRzHcbw/CB988MEHvz96O0Ni3s7AP3BnSMzbGcI/ZZNNNtlkwz9bv1Kg1q/EP1HrVwrU+sU/RhdddNFFxz88Q2LezpDIPzJvZ0jM28k/J5tssskmyz8dx3Ecx3HMPxPzdobEvM0/CB988MEHzz9/pUCtXynQP3o7Q2LeztA/ddFFF1100T9wZ0jM2xnSP2r9SoFav9I/ZZNNNtlk0z9gKVDrVwrUP1u/UqDWr9Q/VlVVVVVV1T9R61cK1PrVP0yBWr9SoNY/RhdddNFF1z9BrV8pUOvXPzxDYt7OkNg/N9lkk0022T8yb2dIzNvZPy0Fav1Kgdo/J5tssskm2z8iMW9nSMzbPx3HcRzHcdw/GF100UUX3T8T83aGxLzdPw6JeTtDYt4/CB988MEH3z8DtX6lQK3fP3+lQK1fKeA/ffDBBx984D96O0Ni3s7gP3eGxLydIeE/ddFFF1104T9yHMdxHMfhP3BnSMzbGeI/bbLJJpts4j9q/UqBWr/iP2hIzNsZEuM/ZZNNNtlk4z9j3s6QmLfjP2ApUOtXCuQ/XnTRRRdd5D9bv1Kg1q/kP1gK1PqVAuU/VlVVVVVV5T9ToNavFKjlP1HrVwrU+uU/TjbZZJNN5j9MgVq/UqDmP0nM2xkS8+Y/RhdddNFF5z9EYt7OkJjnP0GtXylQ6+c/P/jggw8+6D88Q2LezpDoPzmO4ziO4+g/N9lkk0026T80JObtDInpPzJvZ0jM2+k/L7rooosu6j8tBWr9SoHqPypQ61cK1Oo/J5tssskm6z8l5u0MiXnrPyIxb2dIzOs/IHzwwQcf7D8dx3Ecx3HsPxsS83aGxOw/GF100UUX7T8VqPUrBWrtPxPzdobEvO0/ED744IMP7j8OiXk7Q2LuPwvU+pUCte4/CB988MEH7z8Gav1KgVrvPwO1fqVAre8/AAAAAAAA8D8=",
          "dtype": "f8"
         },
         "y": {
          "bdata": "ebnQUs+F/zz3VEO7CBwiPcZPtoDfBEQ9HPskYrFKZT0jw4KVzMmFPdYlmXD6c6U9lbfkxR5TxD08mcSpWIfiPbavH9QhQQA+Ln5bXdJxGz73fviNVEw2PrwCTuHZb1E+PH3mIfc/aj5UZGCASwWDPl/r+oTpiZo+PuDebdnTsT6uxUPSMRHHPqCY9a0jwNw+LNvqFV1D8T56Ai9X5PoDPzoqSV5FSxY/t/4Q/eT9Jz/mZgWHhuk4PyRPp6D6+Eg/o6NbelkuWD/gG7A4FaJmPwPD5dQ8fnQ/MZSeiC/3gT8FXo4P/YaOP8r75V5kKZk/muSJkFokpD8Tm9kmzlqvP64P99Ggwbc/DQqFtHuKwT/i91GHPkXJP0buGJt/xtE/w79X/H1w2D/vKx0vXm7gP6+3/sKInuU/9nOkzXbY6z/UPYMeLo/xPwkv7ht4sPU/CLBYfkY++j8zBQHjExz/P4/TC76rEQJAceSCy7+SBEDXR7h0ivcGQGH7JTTWJQlAgEUxUhQFC0D0vJaRYYAMQI4aQtQ0iA1A/npimZATDkCNoi3npCAOQAYgpiXftA1A45lI023cDECQVXG+QKkLQJ+rrsuQMQpAgoXbnwGOCEBmfF/ZfdcGQECdWf4AJQVAvHXu+5GJA0CncicxthICQGwcc4OaxwBAosDlSSxS/z+wSUcLDmX9P9rQpq3Ftvs/kGiponIy+j/z1KdQpcP4Py7zNOsjWvc/SEM1Mp3s9T9mvcpO3nn0PzBKq3NjCPM/y5ojrmek8T/GMgVb4lzwP+ME6ggvgO4/KJPwCemw7D9WNTC9tlTrPxdGdpWCZuo/wY72FGLU6T+F+1kU4ILpPzNdwGubUek/U1BK2yYg6T8fTey0P9LoP6M+xhTIUug/KbpcZ1GV5z+XncPOTZbmP9guEoQmWuU/LvVMg4Hr4z+moec1AlniP/1N88TUsuA/h6PLprcQ3j8pN2eUtczaP83EAHTNq9c/UYN8Yn+41D8/3N5Q+PbRP/5ShJ/qzs4/CVe1fL4Ryj+vEONtqbXFPxbZifdEvcE/w0npbldcvD8=",
          "dtype": "f8"
         }
        },
        {
         "line": {
          "color": "lightblue",
          "dash": "solid",
          "width": 3
         },
         "mode": "lines",
         "name": "Llama-3.3-70B-Instruct",
         "type": "scatter",
         "x": {
          "bdata": "AAAAAAAAAABbv1Kg1q+EP1u/UqDWr5Q/CB988MEHnz9bv1Kg1q+kPzJvZ0jM26k/CB988MEHrz9wZ0jM2xmyP1u/UqDWr7Q/RhdddNFFtz8yb2dIzNu5Px3HcRzHcbw/CB988MEHvz96O0Ni3s7AP3BnSMzbGcI/ZZNNNtlkwz9bv1Kg1q/EP1HrVwrU+sU/RhdddNFFxz88Q2LezpDIPzJvZ0jM28k/J5tssskmyz8dx3Ecx3HMPxPzdobEvM0/CB988MEHzz9/pUCtXynQP3o7Q2LeztA/ddFFF1100T9wZ0jM2xnSP2r9SoFav9I/ZZNNNtlk0z9gKVDrVwrUP1u/UqDWr9Q/VlVVVVVV1T9R61cK1PrVP0yBWr9SoNY/RhdddNFF1z9BrV8pUOvXPzxDYt7OkNg/N9lkk0022T8yb2dIzNvZPy0Fav1Kgdo/J5tssskm2z8iMW9nSMzbPx3HcRzHcdw/GF100UUX3T8T83aGxLzdPw6JeTtDYt4/CB988MEH3z8DtX6lQK3fP3+lQK1fKeA/ffDBBx984D96O0Ni3s7gP3eGxLydIeE/ddFFF1104T9yHMdxHMfhP3BnSMzbGeI/bbLJJpts4j9q/UqBWr/iP2hIzNsZEuM/ZZNNNtlk4z9j3s6QmLfjP2ApUOtXCuQ/XnTRRRdd5D9bv1Kg1q/kP1gK1PqVAuU/VlVVVVVV5T9ToNavFKjlP1HrVwrU+uU/TjbZZJNN5j9MgVq/UqDmP0nM2xkS8+Y/RhdddNFF5z9EYt7OkJjnP0GtXylQ6+c/P/jggw8+6D88Q2LezpDoPzmO4ziO4+g/N9lkk0026T80JObtDInpPzJvZ0jM2+k/L7rooosu6j8tBWr9SoHqPypQ61cK1Oo/J5tssskm6z8l5u0MiXnrPyIxb2dIzOs/IHzwwQcf7D8dx3Ecx3HsPxsS83aGxOw/GF100UUX7T8VqPUrBWrtPxPzdobEvO0/ED744IMP7j8OiXk7Q2LuPwvU+pUCte4/CB988MEH7z8Gav1KgVrvPwO1fqVAre8/AAAAAAAA8D8=",
          "dtype": "f8"
         },
         "y": {
          "bdata": "+TDkLUblKj1hNFrtc1ZPPZWTgwVrfHE92MFSOrawkj1bdtX3byKzPcGg4MdSw9I9YkSUl3Gf8T1uymyWZrUPPvPMnxwiUys+D06dcTuORj5MXPll5NVhPkqb3HNNBXs+zEhvls+bkz431xvWFkSrPqEODKi1KcI+JhFKcsAv1z6EOfqVal3sPnJV9grJoAA/qCYYj9avEj/D+ydCCyIkP41r+vKVzDQ/nHmS5PCbRD/ceTGIqZdTP2e9stKe4GE/VJu6B4JUbz+2zBKOdGF6P+1NfJ0sXYU/Y/ZMKqSokD+ljPuhdw2ZP5ZV+bHBM6I/zyEF7gWgqT/s4te4IomxP/czgixgb7c/4l/rrP2+vj/QTqbHsuvDPx3mtV/ep8k/IG/VQqOC0D9orOAQhVDVP9iqLs16ods/9XrTYXT04T/doYQd3k7nP5H+smtZFO4/FNyONqsz8z+KaAjljyb4P+sOs1ct0v0/IaK4E9sHAkAfpTBZI1EFQJiK8gwdnQhAR8eyGNO9C0Ccc8gSnoMOQLDR8vETYRBAY6U8/qIqEUBtEW2MepIRQI1bm5T0kxFAAAgwYy8yEUDXzkNPjncQQNQiY6TR6A5AONCRAzR6DECa4qDZcM8JQCFPZSuWEwdAwx/v5Z1sBECtNbgInPgBQGo+LYegmP8/eJzheBzm+z/cTUdEYN/4P1LxDXVSfPY/xEaHeq2q9D8A449goFHzP6GrkD0+VfI/YkZFSLiZ8T8ebPLmWQbxP9YQtk8WiPA/obXf20wT8D/ujPpVuEjvP8rycwZ6fe4/LJgOGE/V7T+uoXVFRGPtP20Bbt5WNe0/Q7yVlL1N7T+rp+pl0p7tP60Cj+vECu4/+CVNF1xn7j+kbnxZCYXuPxb3pAuuN+4/wnxa8Pxe7T8rZSk2fuzrPxIf1Kfm5ek/3TN2n3Nj5z+ior7qAIvkP8yTQuNDieE/VxMnLKMV3T8G8qbOrWzXPxE1QF62UdI/Z4hZrQvRyz+dAoqqDn/EP68Wvv94Tb0/mBw6q1FPtD/2FhJp2EerP9r8fm6TvaE/BEeePJtSlj8=",
          "dtype": "f8"
         }
        },
        {
         "line": {
          "color": "lightcoral",
          "dash": "solid",
          "width": 3
         },
         "mode": "lines",
         "name": "Qwen3-14B",
         "type": "scatter",
         "x": {
          "bdata": "AAAAAAAAAABbv1Kg1q+EP1u/UqDWr5Q/CB988MEHnz9bv1Kg1q+kPzJvZ0jM26k/CB988MEHrz9wZ0jM2xmyP1u/UqDWr7Q/RhdddNFFtz8yb2dIzNu5Px3HcRzHcbw/CB988MEHvz96O0Ni3s7AP3BnSMzbGcI/ZZNNNtlkwz9bv1Kg1q/EP1HrVwrU+sU/RhdddNFFxz88Q2LezpDIPzJvZ0jM28k/J5tssskmyz8dx3Ecx3HMPxPzdobEvM0/CB988MEHzz9/pUCtXynQP3o7Q2LeztA/ddFFF1100T9wZ0jM2xnSP2r9SoFav9I/ZZNNNtlk0z9gKVDrVwrUP1u/UqDWr9Q/VlVVVVVV1T9R61cK1PrVP0yBWr9SoNY/RhdddNFF1z9BrV8pUOvXPzxDYt7OkNg/N9lkk0022T8yb2dIzNvZPy0Fav1Kgdo/J5tssskm2z8iMW9nSMzbPx3HcRzHcdw/GF100UUX3T8T83aGxLzdPw6JeTtDYt4/CB988MEH3z8DtX6lQK3fP3+lQK1fKeA/ffDBBx984D96O0Ni3s7gP3eGxLydIeE/ddFFF1104T9yHMdxHMfhP3BnSMzbGeI/bbLJJpts4j9q/UqBWr/iP2hIzNsZEuM/ZZNNNtlk4z9j3s6QmLfjP2ApUOtXCuQ/XnTRRRdd5D9bv1Kg1q/kP1gK1PqVAuU/VlVVVVVV5T9ToNavFKjlP1HrVwrU+uU/TjbZZJNN5j9MgVq/UqDmP0nM2xkS8+Y/RhdddNFF5z9EYt7OkJjnP0GtXylQ6+c/P/jggw8+6D88Q2LezpDoPzmO4ziO4+g/N9lkk0026T80JObtDInpPzJvZ0jM2+k/L7rooosu6j8tBWr9SoHqPypQ61cK1Oo/J5tssskm6z8l5u0MiXnrPyIxb2dIzOs/IHzwwQcf7D8dx3Ecx3HsPxsS83aGxOw/GF100UUX7T8VqPUrBWrtPxPzdobEvO0/ED744IMP7j8OiXk7Q2LuPwvU+pUCte4/CB988MEH7z8Gav1KgVrvPwO1fqVAre8/AAAAAAAA8D8=",
          "dtype": "f8"
         },
         "y": {
          "bdata": "Nn03oI0g4Dst882mrv0KPLqNJgOYpjU82B8l7BCmYDzupMsBDIyIPI32Y1GkWbE8LwYsCHGE1zxdj/C0VZH+PFECtBBODSM9r5CdxE3HRj1r2QE7wh9qPa8MtcdUvow9ZjRHuTVYrj2M7rgq5r3OPd+MYeNO5O09iR0XgbrmCz7kLYAyNwEpPn1FhVT4hEU+GL9MeNHJYT4cbobfskB8PuYxgZVBj5U+Xl6eURmgrz6fCRUqlkzGPnYSrUEdPd4+wIbORVC48z5IT40Jqb4IPzvRmdcY4R0/6WTqYRhdMT9qX4ZO6W1DPxjbphyT71Q/ItF6XY26ZT/pS5Zy5Ll1PygMCsXJ7oQ/7Uzt7yxwkz8IyYaigmahP01l/cqTCa4/x7pnsusAuT+YzLVi9BPEP5qtdrlkHc8/M0W72pdF1z/EGu56zM7gP2kdbx2RdOc/MiV+ptej7z9Q8HNPaKT0P/O8BB3nEvo/z08XFoLp/z8B07DyYfECQNr+LiNF1wVAZMCK65d9CEAjtrPtpL8KQDtlLV8TgQxA6GJG782wDUCESccMNUoOQOMo10GkVA5Aq1ORKZzhDUBLoF7nAQoNQL55SE/g6gtAq3kTfwOiCkBZVVoZu0oJQJDt4vMR+wdAyFJ0l9LBBkCyXUm3qqUFQAslJbGcpQRAXP+7Mq26A0DJLvSab9oCQKrojLjb+QFA3nXpU8wPAUCH1LCYrRYAQArCYbZXGv4/i0raUP3r+z+f1mCDN675PxWKWSpJcfc/t+cSPY9H9T94l6ygWUPzP/WIIuTedPE/i1+czanQ7z9m8L+Uu0jtP+2CxUE1Uus/XnEMGGbg6T99ohBT4NvoP0tpzRF3Jug/tRHshReg5z9qvamAUSvnP8q9IHCPsOY/RFrT2n4f5j/6OXe/xm7lP+y47auhmuQ/lj0A0R2j4z+QMnogo4riPzmya30MVeE/naEuP0kH4D9H/JtQiU7dP09MaquRd9o/rmRZt2KY1z94wOPo3b/UP3aQ38L++9E/8guwfA+yzj/O9U1FOsLJP3dowU6JOMU/XCNKnSghwT8=",
          "dtype": "f8"
         }
        },
        {
         "line": {
          "color": "lightcoral",
          "dash": "dot",
          "width": 3
         },
         "mode": "lines",
         "name": "Qwen3-32B",
         "type": "scatter",
         "x": {
          "bdata": "AAAAAAAAAABbv1Kg1q+EP1u/UqDWr5Q/CB988MEHnz9bv1Kg1q+kPzJvZ0jM26k/CB988MEHrz9wZ0jM2xmyP1u/UqDWr7Q/RhdddNFFtz8yb2dIzNu5Px3HcRzHcbw/CB988MEHvz96O0Ni3s7AP3BnSMzbGcI/ZZNNNtlkwz9bv1Kg1q/EP1HrVwrU+sU/RhdddNFFxz88Q2LezpDIPzJvZ0jM28k/J5tssskmyz8dx3Ecx3HMPxPzdobEvM0/CB988MEHzz9/pUCtXynQP3o7Q2LeztA/ddFFF1100T9wZ0jM2xnSP2r9SoFav9I/ZZNNNtlk0z9gKVDrVwrUP1u/UqDWr9Q/VlVVVVVV1T9R61cK1PrVP0yBWr9SoNY/RhdddNFF1z9BrV8pUOvXPzxDYt7OkNg/N9lkk0022T8yb2dIzNvZPy0Fav1Kgdo/J5tssskm2z8iMW9nSMzbPx3HcRzHcdw/GF100UUX3T8T83aGxLzdPw6JeTtDYt4/CB988MEH3z8DtX6lQK3fP3+lQK1fKeA/ffDBBx984D96O0Ni3s7gP3eGxLydIeE/ddFFF1104T9yHMdxHMfhP3BnSMzbGeI/bbLJJpts4j9q/UqBWr/iP2hIzNsZEuM/ZZNNNtlk4z9j3s6QmLfjP2ApUOtXCuQ/XnTRRRdd5D9bv1Kg1q/kP1gK1PqVAuU/VlVVVVVV5T9ToNavFKjlP1HrVwrU+uU/TjbZZJNN5j9MgVq/UqDmP0nM2xkS8+Y/RhdddNFF5z9EYt7OkJjnP0GtXylQ6+c/P/jggw8+6D88Q2LezpDoPzmO4ziO4+g/N9lkk0026T80JObtDInpPzJvZ0jM2+k/L7rooosu6j8tBWr9SoHqPypQ61cK1Oo/J5tssskm6z8l5u0MiXnrPyIxb2dIzOs/IHzwwQcf7D8dx3Ecx3HsPxsS83aGxOw/GF100UUX7T8VqPUrBWrtPxPzdobEvO0/ED744IMP7j8OiXk7Q2LuPwvU+pUCte4/CB988MEH7z8Gav1KgVrvPwO1fqVAre8/AAAAAAAA8D8=",
          "dtype": "f8"
         },
         "y": {
          "bdata": "7bGLTvLT8zoIBJCWT0YpO5K0nPIZll47G0dq2QaSkTuRZse6WSrDO18XTPIZ2fM7y5pqPh2EIzwbHSwYaDhSPNjrg/3pJoA8M43JB1Ixqzz4j74ombzVPDZr8zc9gAA9fWM6gRfLJz1SvnU8E0tQPcPpAbVWMnU92reVP2Eymj2tGCLb6cK+PRctnMKFKeE9gnjc7VIzAj7kNYdKH1kiPs3Pbp5blkE+OLN84IkIYD7MyO6Y2s97PlVCD9EJ9ZY+zQSQIeoKsj4jrEMgBgTLPqtcqoAIR+M+Mz7RrgA9+j4qqUgwxAoRP2Z39CUvJSU/whM9YN4UOT/PCJAXqndMP/o54lJ28l4/hYQ/grAgcD+hTPa01iGAPy5yZZyJAI8/5EvzeeujnD+yWJUE7XSpPxRBNUGFyLU/kCBR3ODzwT9aPtkjJYLMPz3blR16z9U/0/iGDlAU4D9LARDF5tjmPyDGrL2USe8/5YKN84Om9D8sjLIabUn6P+XSe9riJABAfSSBwzgnA0A5PBSdifoFQIOULxrqcAhAuntKC5BnCkBW7opjn8wLQCXrH3hboQxAVppUeTP4DEAyeL0uR+8MQP217LnmqAxAfZM8NPZDDEDYlXVr+tULQPsfwhAGaAtAnP3Y0/b2CkBATozWoHYKQIUo40LZ1glASP7Ffu4ICUB1KYviIAQIQDGOFDwayAZAB/LYpRBdBUAlRtG38tEDQK0imR1wOQJAHmK5OsmmAEBb+w2cLlb+P2htJv/Fpvs/4YQvoidP+T8/CqxbQlT3P1AW2MzbsPU/mce8v3pX9D9l9SUlUDXzP8Gxa/6yNfI/nQaG7ItF8T+4rnLW/1XwP9DYKLqzu+4/O5ojRimz7D9JbHc4lZTqP8UmOz01aOg/e92rfC855j/yifVDVRPkP1ytRHLzAeI/5DQJaEsP4D/q6ixCLYjcP2ToDmpXTdk/Shw6/qpz1j8E8oqhvPfTP6W7a8LlzNE/cOnoKfa+zz/bi2BkXDLMP+8R+wC0zMg/NrfeOg51xT/7kTaHdiXCP52KxtXp070/SyUe2nu1tz8=",
          "dtype": "f8"
         }
        },
        {
         "line": {
          "color": "lightcoral",
          "dash": "solid",
          "width": 3
         },
         "mode": "lines",
         "name": "Qwen3-4B",
         "type": "scatter",
         "x": {
          "bdata": "AAAAAAAAAABbv1Kg1q+EP1u/UqDWr5Q/CB988MEHnz9bv1Kg1q+kPzJvZ0jM26k/CB988MEHrz9wZ0jM2xmyP1u/UqDWr7Q/RhdddNFFtz8yb2dIzNu5Px3HcRzHcbw/CB988MEHvz96O0Ni3s7AP3BnSMzbGcI/ZZNNNtlkwz9bv1Kg1q/EP1HrVwrU+sU/RhdddNFFxz88Q2LezpDIPzJvZ0jM28k/J5tssskmyz8dx3Ecx3HMPxPzdobEvM0/CB988MEHzz9/pUCtXynQP3o7Q2LeztA/ddFFF1100T9wZ0jM2xnSP2r9SoFav9I/ZZNNNtlk0z9gKVDrVwrUP1u/UqDWr9Q/VlVVVVVV1T9R61cK1PrVP0yBWr9SoNY/RhdddNFF1z9BrV8pUOvXPzxDYt7OkNg/N9lkk0022T8yb2dIzNvZPy0Fav1Kgdo/J5tssskm2z8iMW9nSMzbPx3HcRzHcdw/GF100UUX3T8T83aGxLzdPw6JeTtDYt4/CB988MEH3z8DtX6lQK3fP3+lQK1fKeA/ffDBBx984D96O0Ni3s7gP3eGxLydIeE/ddFFF1104T9yHMdxHMfhP3BnSMzbGeI/bbLJJpts4j9q/UqBWr/iP2hIzNsZEuM/ZZNNNtlk4z9j3s6QmLfjP2ApUOtXCuQ/XnTRRRdd5D9bv1Kg1q/kP1gK1PqVAuU/VlVVVVVV5T9ToNavFKjlP1HrVwrU+uU/TjbZZJNN5j9MgVq/UqDmP0nM2xkS8+Y/RhdddNFF5z9EYt7OkJjnP0GtXylQ6+c/P/jggw8+6D88Q2LezpDoPzmO4ziO4+g/N9lkk0026T80JObtDInpPzJvZ0jM2+k/L7rooosu6j8tBWr9SoHqPypQ61cK1Oo/J5tssskm6z8l5u0MiXnrPyIxb2dIzOs/IHzwwQcf7D8dx3Ecx3HsPxsS83aGxOw/GF100UUX7T8VqPUrBWrtPxPzdobEvO0/ED744IMP7j8OiXk7Q2LuPwvU+pUCte4/CB988MEH7z8Gav1KgVrvPwO1fqVAre8/AAAAAAAA8D8=",
          "dtype": "f8"
         },
         "y": {
          "bdata": "K4Y2QGxbhjyTfEGy4HKxPFapy2UQ8dk8wXM4fCheAj1oL0J3QMYoPdHw94Du0089JowlDSx5cz2axJFcXbKWPUUjJvFvMrk98X0dGeCk2j0AsScjDNb6PbX8PLQEvxk+VPO5ziiHNz5aKiB0CXtUPk0sSpV8+3A+qRo9Vg3Uij6SLk6GCzCkPr7CGqKt8bw+F/Yf8NjE0z71dGAWKrvpPvLWOjSD6v8+l8/W7K3dEj/5naNjUEMlP3U7r0Vr2jY/EMnUlNxuRz+WO3rMkO9WP3Q3I38NcmU/Z9J0XQAtcz8eXlVspGuAP/xvGmrm+4o/qo3uTlZUlT+GSsdDS0agPwl9JM+gE6g/O2v4hQFbsT9aQNUKvIa4P3FaGTGgFsE/sRQw2guaxz/2sGqj1jXQP9b+i6ddK9Y/kggMDL8k3j/XQpcy3k7kP+XhQ8LjAOs/pI0u2lek8T9HZroJoJH2P8QRC1+oL/w/6Y7mPx0mAUB0DgUtsE4EQMJxY0HwYwdABecHkNc0CkCNDLlLT5MMQIeAA+J6Wg5AhPi26LxzD0As586pfNkPQKIXb8stlw9AVRg98rDGDkCKM/ovrosNQJWbsXDnDQxAu2hEa55zCkDy22pjBd0IQNxTlsJbYQdAfhG/4OkNBkCLuSjtp+YEQNbmGD0T6ANAwK8ropgJA0AWU40VCUACQG0WuHS6fwFA2M5aISu+AEBFTOFEUeb/P7qPlLAWM/4/TwnRtSpf/D+Ir+Vx6W36P8QFABzBaPg/UFMWxZxd9j8lqKw6o1z0P4wAutegdfI/TqbpUpi18D9mQi5M9knuPwO+duTQjes/kh8+SSMz6T9xJjNpMS/nP8mgyXT0c+U/1l7vceLz4z8awoEcj6TiP7eT2oxsf+E/xJSu85KA4D8DrrrdUkjfPyvqN7wjx90/3/eOtT5n3D9t1p6ekQnbP7ghGnQZi9k/zsbV67jM1z8TPO0CfbvVP4q/mCphVtM/l/AFL36v0D9dEphgaNDLPxI7Epk8U8Y/J+CQW4I3wT/BNCMDJXi5PzJYNiqVC7I/RlSM6UB4qD8=",
          "dtype": "f8"
         }
        }
       ],
       "layout": {
        "font": {
         "size": 12
        },
        "height": 500,
        "legend": {
         "x": 0.01,
         "xanchor": "left",
         "y": 0.99,
         "yanchor": "top"
        },
        "template": {
         "data": {
          "bar": [
           {
            "error_x": {
             "color": "#2a3f5f"
            },
            "error_y": {
             "color": "#2a3f5f"
            },
            "marker": {
             "line": {
              "color": "#E5ECF6",
              "width": 0.5
             },
             "pattern": {
              "fillmode": "overlay",
              "size": 10,
              "solidity": 0.2
             }
            },
            "type": "bar"
           }
          ],
          "barpolar": [
           {
            "marker": {
             "line": {
              "color": "#E5ECF6",
              "width": 0.5
             },
             "pattern": {
              "fillmode": "overlay",
              "size": 10,
              "solidity": 0.2
             }
            },
            "type": "barpolar"
           }
          ],
          "carpet": [
           {
            "aaxis": {
             "endlinecolor": "#2a3f5f",
             "gridcolor": "white",
             "linecolor": "white",
             "minorgridcolor": "white",
             "startlinecolor": "#2a3f5f"
            },
            "baxis": {
             "endlinecolor": "#2a3f5f",
             "gridcolor": "white",
             "linecolor": "white",
             "minorgridcolor": "white",
             "startlinecolor": "#2a3f5f"
            },
            "type": "carpet"
           }
          ],
          "choropleth": [
           {
            "colorbar": {
             "outlinewidth": 0,
             "ticks": ""
            },
            "type": "choropleth"
           }
          ],
          "contour": [
           {
            "colorbar": {
             "outlinewidth": 0,
             "ticks": ""
            },
            "colorscale": [
             [
              0,
              "#0d0887"
             ],
             [
              0.1111111111111111,
              "#46039f"
             ],
             [
              0.2222222222222222,
              "#7201a8"
             ],
             [
              0.3333333333333333,
              "#9c179e"
             ],
             [
              0.4444444444444444,
              "#bd3786"
             ],
             [
              0.5555555555555556,
              "#d8576b"
             ],
             [
              0.6666666666666666,
              "#ed7953"
             ],
             [
              0.7777777777777778,
              "#fb9f3a"
             ],
             [
              0.8888888888888888,
              "#fdca26"
             ],
             [
              1,
              "#f0f921"
             ]
            ],
            "type": "contour"
           }
          ],
          "contourcarpet": [
           {
            "colorbar": {
             "outlinewidth": 0,
             "ticks": ""
            },
            "type": "contourcarpet"
           }
          ],
          "heatmap": [
           {
            "colorbar": {
             "outlinewidth": 0,
             "ticks": ""
            },
            "colorscale": [
             [
              0,
              "#0d0887"
             ],
             [
              0.1111111111111111,
              "#46039f"
             ],
             [
              0.2222222222222222,
              "#7201a8"
             ],
             [
              0.3333333333333333,
              "#9c179e"
             ],
             [
              0.4444444444444444,
              "#bd3786"
             ],
             [
              0.5555555555555556,
              "#d8576b"
             ],
             [
              0.6666666666666666,
              "#ed7953"
             ],
             [
              0.7777777777777778,
              "#fb9f3a"
             ],
             [
              0.8888888888888888,
              "#fdca26"
             ],
             [
              1,
              "#f0f921"
             ]
            ],
            "type": "heatmap"
           }
          ],
          "histogram": [
           {
            "marker": {
             "pattern": {
              "fillmode": "overlay",
              "size": 10,
              "solidity": 0.2
             }
            },
            "type": "histogram"
           }
          ],
          "histogram2d": [
           {
            "colorbar": {
             "outlinewidth": 0,
             "ticks": ""
            },
            "colorscale": [
             [
              0,
              "#0d0887"
             ],
             [
              0.1111111111111111,
              "#46039f"
             ],
             [
              0.2222222222222222,
              "#7201a8"
             ],
             [
              0.3333333333333333,
              "#9c179e"
             ],
             [
              0.4444444444444444,
              "#bd3786"
             ],
             [
              0.5555555555555556,
              "#d8576b"
             ],
             [
              0.6666666666666666,
              "#ed7953"
             ],
             [
              0.7777777777777778,
              "#fb9f3a"
             ],
             [
              0.8888888888888888,
              "#fdca26"
             ],
             [
              1,
              "#f0f921"
             ]
            ],
            "type": "histogram2d"
           }
          ],
          "histogram2dcontour": [
           {
            "colorbar": {
             "outlinewidth": 0,
             "ticks": ""
            },
            "colorscale": [
             [
              0,
              "#0d0887"
             ],
             [
              0.1111111111111111,
              "#46039f"
             ],
             [
              0.2222222222222222,
              "#7201a8"
             ],
             [
              0.3333333333333333,
              "#9c179e"
             ],
             [
              0.4444444444444444,
              "#bd3786"
             ],
             [
              0.5555555555555556,
              "#d8576b"
             ],
             [
              0.6666666666666666,
              "#ed7953"
             ],
             [
              0.7777777777777778,
              "#fb9f3a"
             ],
             [
              0.8888888888888888,
              "#fdca26"
             ],
             [
              1,
              "#f0f921"
             ]
            ],
            "type": "histogram2dcontour"
           }
          ],
          "mesh3d": [
           {
            "colorbar": {
             "outlinewidth": 0,
             "ticks": ""
            },
            "type": "mesh3d"
           }
          ],
          "parcoords": [
           {
            "line": {
             "colorbar": {
              "outlinewidth": 0,
              "ticks": ""
             }
            },
            "type": "parcoords"
           }
          ],
          "pie": [
           {
            "automargin": true,
            "type": "pie"
           }
          ],
          "scatter": [
           {
            "fillpattern": {
             "fillmode": "overlay",
             "size": 10,
             "solidity": 0.2
            },
            "type": "scatter"
           }
          ],
          "scatter3d": [
           {
            "line": {
             "colorbar": {
              "outlinewidth": 0,
              "ticks": ""
             }
            },
            "marker": {
             "colorbar": {
              "outlinewidth": 0,
              "ticks": ""
             }
            },
            "type": "scatter3d"
           }
          ],
          "scattercarpet": [
           {
            "marker": {
             "colorbar": {
              "outlinewidth": 0,
              "ticks": ""
             }
            },
            "type": "scattercarpet"
           }
          ],
          "scattergeo": [
           {
            "marker": {
             "colorbar": {
              "outlinewidth": 0,
              "ticks": ""
             }
            },
            "type": "scattergeo"
           }
          ],
          "scattergl": [
           {
            "marker": {
             "colorbar": {
              "outlinewidth": 0,
              "ticks": ""
             }
            },
            "type": "scattergl"
           }
          ],
          "scattermap": [
           {
            "marker": {
             "colorbar": {
              "outlinewidth": 0,
              "ticks": ""
             }
            },
            "type": "scattermap"
           }
          ],
          "scattermapbox": [
           {
            "marker": {
             "colorbar": {
              "outlinewidth": 0,
              "ticks": ""
             }
            },
            "type": "scattermapbox"
           }
          ],
          "scatterpolar": [
           {
            "marker": {
             "colorbar": {
              "outlinewidth": 0,
              "ticks": ""
             }
            },
            "type": "scatterpolar"
           }
          ],
          "scatterpolargl": [
           {
            "marker": {
             "colorbar": {
              "outlinewidth": 0,
              "ticks": ""
             }
            },
            "type": "scatterpolargl"
           }
          ],
          "scatterternary": [
           {
            "marker": {
             "colorbar": {
              "outlinewidth": 0,
              "ticks": ""
             }
            },
            "type": "scatterternary"
           }
          ],
          "surface": [
           {
            "colorbar": {
             "outlinewidth": 0,
             "ticks": ""
            },
            "colorscale": [
             [
              0,
              "#0d0887"
             ],
             [
              0.1111111111111111,
              "#46039f"
             ],
             [
              0.2222222222222222,
              "#7201a8"
             ],
             [
              0.3333333333333333,
              "#9c179e"
             ],
             [
              0.4444444444444444,
              "#bd3786"
             ],
             [
              0.5555555555555556,
              "#d8576b"
             ],
             [
              0.6666666666666666,
              "#ed7953"
             ],
             [
              0.7777777777777778,
              "#fb9f3a"
             ],
             [
              0.8888888888888888,
              "#fdca26"
             ],
             [
              1,
              "#f0f921"
             ]
            ],
            "type": "surface"
           }
          ],
          "table": [
           {
            "cells": {
             "fill": {
              "color": "#EBF0F8"
             },
             "line": {
              "color": "white"
             }
            },
            "header": {
             "fill": {
              "color": "#C8D4E3"
             },
             "line": {
              "color": "white"
             }
            },
            "type": "table"
           }
          ]
         },
         "layout": {
          "annotationdefaults": {
           "arrowcolor": "#2a3f5f",
           "arrowhead": 0,
           "arrowwidth": 1
          },
          "autotypenumbers": "strict",
          "coloraxis": {
           "colorbar": {
            "outlinewidth": 0,
            "ticks": ""
           }
          },
          "colorscale": {
           "diverging": [
            [
             0,
             "#8e0152"
            ],
            [
             0.1,
             "#c51b7d"
            ],
            [
             0.2,
             "#de77ae"
            ],
            [
             0.3,
             "#f1b6da"
            ],
            [
             0.4,
             "#fde0ef"
            ],
            [
             0.5,
             "#f7f7f7"
            ],
            [
             0.6,
             "#e6f5d0"
            ],
            [
             0.7,
             "#b8e186"
            ],
            [
             0.8,
             "#7fbc41"
            ],
            [
             0.9,
             "#4d9221"
            ],
            [
             1,
             "#276419"
            ]
           ],
           "sequential": [
            [
             0,
             "#0d0887"
            ],
            [
             0.1111111111111111,
             "#46039f"
            ],
            [
             0.2222222222222222,
             "#7201a8"
            ],
            [
             0.3333333333333333,
             "#9c179e"
            ],
            [
             0.4444444444444444,
             "#bd3786"
            ],
            [
             0.5555555555555556,
             "#d8576b"
            ],
            [
             0.6666666666666666,
             "#ed7953"
            ],
            [
             0.7777777777777778,
             "#fb9f3a"
            ],
            [
             0.8888888888888888,
             "#fdca26"
            ],
            [
             1,
             "#f0f921"
            ]
           ],
           "sequentialminus": [
            [
             0,
             "#0d0887"
            ],
            [
             0.1111111111111111,
             "#46039f"
            ],
            [
             0.2222222222222222,
             "#7201a8"
            ],
            [
             0.3333333333333333,
             "#9c179e"
            ],
            [
             0.4444444444444444,
             "#bd3786"
            ],
            [
             0.5555555555555556,
             "#d8576b"
            ],
            [
             0.6666666666666666,
             "#ed7953"
            ],
            [
             0.7777777777777778,
             "#fb9f3a"
            ],
            [
             0.8888888888888888,
             "#fdca26"
            ],
            [
             1,
             "#f0f921"
            ]
           ]
          },
          "colorway": [
           "#636efa",
           "#EF553B",
           "#00cc96",
           "#ab63fa",
           "#FFA15A",
           "#19d3f3",
           "#FF6692",
           "#B6E880",
           "#FF97FF",
           "#FECB52"
          ],
          "font": {
           "color": "#2a3f5f"
          },
          "geo": {
           "bgcolor": "white",
           "lakecolor": "white",
           "landcolor": "#E5ECF6",
           "showlakes": true,
           "showland": true,
           "subunitcolor": "white"
          },
          "hoverlabel": {
           "align": "left"
          },
          "hovermode": "closest",
          "mapbox": {
           "style": "light"
          },
          "paper_bgcolor": "white",
          "plot_bgcolor": "#E5ECF6",
          "polar": {
           "angularaxis": {
            "gridcolor": "white",
            "linecolor": "white",
            "ticks": ""
           },
           "bgcolor": "#E5ECF6",
           "radialaxis": {
            "gridcolor": "white",
            "linecolor": "white",
            "ticks": ""
           }
          },
          "scene": {
           "xaxis": {
            "backgroundcolor": "#E5ECF6",
            "gridcolor": "white",
            "gridwidth": 2,
            "linecolor": "white",
            "showbackground": true,
            "ticks": "",
            "zerolinecolor": "white"
           },
           "yaxis": {
            "backgroundcolor": "#E5ECF6",
            "gridcolor": "white",
            "gridwidth": 2,
            "linecolor": "white",
            "showbackground": true,
            "ticks": "",
            "zerolinecolor": "white"
           },
           "zaxis": {
            "backgroundcolor": "#E5ECF6",
            "gridcolor": "white",
            "gridwidth": 2,
            "linecolor": "white",
            "showbackground": true,
            "ticks": "",
            "zerolinecolor": "white"
           }
          },
          "shapedefaults": {
           "line": {
            "color": "#2a3f5f"
           }
          },
          "ternary": {
           "aaxis": {
            "gridcolor": "white",
            "linecolor": "white",
            "ticks": ""
           },
           "baxis": {
            "gridcolor": "white",
            "linecolor": "white",
            "ticks": ""
           },
           "bgcolor": "#E5ECF6",
           "caxis": {
            "gridcolor": "white",
            "linecolor": "white",
            "ticks": ""
           }
          },
          "title": {
           "x": 0.05
          },
          "xaxis": {
           "automargin": true,
           "gridcolor": "white",
           "linecolor": "white",
           "ticks": "",
           "title": {
            "standoff": 15
           },
           "zerolinecolor": "white",
           "zerolinewidth": 2
          },
          "yaxis": {
           "automargin": true,
           "gridcolor": "white",
           "linecolor": "white",
           "ticks": "",
           "title": {
            "standoff": 15
           },
           "zerolinecolor": "white",
           "zerolinewidth": 2
          }
         }
        },
        "title": {
         "text": "Accuracy Density Distribution - Detection"
        },
        "xaxis": {
         "title": {
          "text": "Accuracy"
         }
        },
        "yaxis": {
         "title": {
          "text": "Density"
         }
        }
       }
      }
     },
     "metadata": {},
     "output_type": "display_data"
    },
    {
     "name": "stdout",
     "output_type": "stream",
     "text": [
      "\n",
      "Data Quality Summary for detection:\n",
      "  Total data points processed: 784\n",
      "  Valid data points used: 781\n",
      "  NaN values found: 3\n",
      "  Infinite values found: 0\n",
      "  Data quality rate: 99.6%\n",
      "Saved KDE density plot: /home/jeremias/projects/delphi-explanations/results/visualizations/accuracy_density_detection.pdf\n",
      "Saved KDE density plot: /home/jeremias/projects/delphi-explanations/results/visualizations/accuracy_density_detection.png\n"
     ]
    }
   ],
   "source": [
    "# Generate KDE density distribution plots for accuracy\n",
    "print(\"Generating accuracy density distribution plots...\")\n",
    "\n",
    "# Import required libraries\n",
    "import plotly.graph_objects as go\n",
    "from scipy import stats\n",
    "\n",
    "# First, let's check what data we have available\n",
    "sample_model = list(model_results.keys())[0]\n",
    "sample_latent_df = model_results[sample_model]['latent_df']\n",
    "print(f\"\\nColumns in latent_df: {sample_latent_df.columns.tolist()}\")\n",
    "print(f\"Sample data shape: {sample_latent_df.shape}\")\n",
    "print(f\"Score types: {sample_latent_df['score_type'].unique()}\")\n",
    "\n",
    "# Define color and line style mapping by model family\n",
    "def get_model_style(model_name):\n",
    "    \"\"\"Get color and line style based on model family\"\"\"\n",
    "    if 'Gemma' in model_name:\n",
    "        color = 'lightgreen'  # Lighter green\n",
    "        # Different line styles for different Gemma models\n",
    "        if '4B' in model_name:\n",
    "            return color, 'solid'\n",
    "        elif '12B' in model_name:\n",
    "            return color, 'dash'\n",
    "        elif '27B' in model_name:\n",
    "            return color, 'dot'\n",
    "        else:\n",
    "            return color, 'dashdot'\n",
    "    elif 'Qwen' in model_name:\n",
    "        color = 'lightcoral'  # Lighter red\n",
    "        # Different line styles for different Qwen models\n",
    "        if '4B' in model_name:\n",
    "            return color, 'solid'\n",
    "        elif '14B' in model_name:\n",
    "            return color, 'dash'\n",
    "        elif '32B' in model_name:\n",
    "            return color, 'dot'\n",
    "        else:\n",
    "            return color, 'dashdot'\n",
    "    elif 'Llama' in model_name:\n",
    "        color = 'lightblue'  # Blue for Llama models\n",
    "        # Different line styles for different Llama models\n",
    "        if '3.3' in model_name or '70B' in model_name:\n",
    "            if '3.3' in model_name:\n",
    "                return color, 'solid'  # Llama-3.3-70B gets solid line\n",
    "            else:\n",
    "                return color, 'dash'   # Llama-3.1-70B gets dashed line\n",
    "        else:\n",
    "            return color, 'dot'\n",
    "    else:\n",
    "        return 'lightsteelblue', 'solid'  # Default for unknown models\n",
    "\n",
    "# Create accuracy_df for bar charts (aggregate data)\n",
    "all_data = []\n",
    "for model_name, data in model_results.items():\n",
    "    for score_type in data['processed_df']['score_type'].unique():\n",
    "        score_data = data['processed_df'][data['processed_df']['score_type'] == score_type].iloc[0]\n",
    "        all_data.append({\n",
    "            'model': model_name,\n",
    "            'score_type': score_type,\n",
    "            'accuracy': score_data['accuracy'],\n",
    "            'f1_score': score_data['f1_score'],\n",
    "            'precision': score_data['precision'],\n",
    "            'recall': score_data['recall']\n",
    "        })\n",
    "\n",
    "accuracy_df = pd.DataFrame(all_data)\n",
    "print(\"\\nAccuracy data summary:\")\n",
    "print(accuracy_df.groupby('score_type')[['accuracy', 'f1_score']].describe().round(3))\n",
    "\n",
    "# Check if we have individual accuracy measurements for KDE plots\n",
    "if 'correct' in sample_latent_df.columns:\n",
    "    print(\"Found 'correct' column - will calculate accuracy per latent for KDE plots\")\n",
    "    \n",
    "    # Create KDE density plots for each score type\n",
    "    for score_type in sample_latent_df['score_type'].unique():\n",
    "        print(f\"\\nCreating KDE density plot for {score_type}...\")\n",
    "        \n",
    "        # Initialize counters for data quality tracking\n",
    "        nan_counter = 0\n",
    "        inf_counter = 0\n",
    "        total_points = 0\n",
    "        \n",
    "        # Collect accuracy data for all models for this score type\n",
    "        plot_data = []\n",
    "        for model_name, data in model_results.items():\n",
    "            latent_df = data['latent_df']\n",
    "            score_subset = latent_df[latent_df['score_type'] == score_type]\n",
    "            \n",
    "            if len(score_subset) > 0:\n",
    "                # Calculate accuracy per latent (group by latent_idx if available, or use individual rows)\n",
    "                if 'latent_idx' in score_subset.columns:\n",
    "                    # Group by latent and calculate accuracy\n",
    "                    latent_accuracies = score_subset.groupby('latent_idx')['correct'].mean()\n",
    "                    for accuracy in latent_accuracies:\n",
    "                        total_points += 1\n",
    "                        if pd.isna(accuracy):\n",
    "                            nan_counter += 1\n",
    "                        elif not np.isfinite(accuracy):\n",
    "                            inf_counter += 1\n",
    "                        else:\n",
    "                            plot_data.append({\n",
    "                                'model': model_name,\n",
    "                                'accuracy': accuracy\n",
    "                            })\n",
    "                else:\n",
    "                    # Use individual correct values as accuracy (0 or 1)\n",
    "                    for _, row in score_subset.iterrows():\n",
    "                        total_points += 1\n",
    "                        accuracy = float(row['correct'])\n",
    "                        if pd.isna(accuracy):\n",
    "                            nan_counter += 1\n",
    "                        elif not np.isfinite(accuracy):\n",
    "                            inf_counter += 1\n",
    "                        else:\n",
    "                            plot_data.append({\n",
    "                                'model': model_name,\n",
    "                                'accuracy': accuracy\n",
    "                            })\n",
    "        \n",
    "        if plot_data:\n",
    "            plot_df = pd.DataFrame(plot_data)\n",
    "            \n",
    "            # Create KDE line density plot\n",
    "            fig_line = go.Figure()\n",
    "            \n",
    "            for model in sorted(plot_df['model'].unique()):\n",
    "                model_data = plot_df[plot_df['model'] == model]['accuracy']\n",
    "                \n",
    "                # Clean the data: remove NaN and infinite values\n",
    "                model_data_clean = model_data.dropna()\n",
    "                model_data_clean = model_data_clean[np.isfinite(model_data_clean)]\n",
    "                \n",
    "                if len(model_data_clean) > 1:  # Need multiple points for KDE\n",
    "                    # Check if data has sufficient variance for KDE\n",
    "                    if model_data_clean.std() > 1e-10:  # Check for non-zero variance\n",
    "                        # Get color and line style based on model family\n",
    "                        color, line_style = get_model_style(model)\n",
    "                        \n",
    "                        try:\n",
    "                            # Create kernel density estimation\n",
    "                            kde = stats.gaussian_kde(model_data_clean)\n",
    "                            x_range = np.linspace(0, 1, 100)\n",
    "                            density = kde(x_range)\n",
    "                            \n",
    "                            fig_line.add_trace(go.Scatter(\n",
    "                                x=x_range,\n",
    "                                y=density,\n",
    "                                mode='lines',\n",
    "                                name=model,\n",
    "                                line=dict(\n",
    "                                    width=3,\n",
    "                                    color=color,\n",
    "                                    dash=line_style\n",
    "                                )\n",
    "                            ))\n",
    "                        except Exception as e:\n",
    "                            print(f\"Warning: Could not create KDE for {model}: {e}\")\n",
    "                            print(f\"Data summary for {model}: min={model_data_clean.min():.3f}, max={model_data_clean.max():.3f}, std={model_data_clean.std():.6f}\")\n",
    "                    else:\n",
    "                        print(f\"Warning: {model} has constant accuracy values, skipping KDE plot\")\n",
    "                        print(f\"Constant value: {model_data_clean.iloc[0]:.3f}\")\n",
    "                elif len(model_data_clean) == 1:\n",
    "                    print(f\"Warning: {model} has only one data point, skipping KDE plot\")\n",
    "                else:\n",
    "                    print(f\"Warning: {model} has no valid data points after cleaning\")\n",
    "            \n",
    "            fig_line.update_layout(\n",
    "                title=f'Accuracy Density Distribution - {score_type.title()}',\n",
    "                xaxis_title=\"Accuracy\",\n",
    "                yaxis_title=\"Density\",\n",
    "                height=500,\n",
    "                legend=dict(\n",
    "                    yanchor=\"top\",\n",
    "                    y=0.99,\n",
    "                    xanchor=\"left\",\n",
    "                    x=0.01\n",
    "                ),\n",
    "                font=dict(size=12)\n",
    "            )\n",
    "            \n",
    "            # Show KDE density plot\n",
    "            fig_line.show()\n",
    "            \n",
    "            # Print data quality summary\n",
    "            valid_points = len(plot_data)\n",
    "            print(f\"\\nData Quality Summary for {score_type}:\")\n",
    "            print(f\"  Total data points processed: {total_points}\")\n",
    "            print(f\"  Valid data points used: {valid_points}\")\n",
    "            print(f\"  NaN values found: {nan_counter}\")\n",
    "            print(f\"  Infinite values found: {inf_counter}\")\n",
    "            print(f\"  Data quality rate: {(valid_points/total_points*100):.1f}%\" if total_points > 0 else \"  No data processed\")\n",
    "            \n",
    "            # Save KDE density plot in both PDF and PNG formats\n",
    "            output_file_pdf = visualizations_dir / f\"accuracy_density_{score_type}.pdf\"\n",
    "            output_file_png = visualizations_dir / f\"accuracy_density_{score_type}.png\"\n",
    "            fig_line.write_image(str(output_file_pdf))\n",
    "            fig_line.write_image(str(output_file_png))\n",
    "            print(f\"Saved KDE density plot: {output_file_pdf}\")\n",
    "            print(f\"Saved KDE density plot: {output_file_png}\")\n",
    "\n",
    "else:\n",
    "    print(\"No 'correct' column found - cannot create density plots with individual measurements\")\n",
    "    print(\"Need individual accuracy measurements to create meaningful density distributions\")"
   ]
  },
  {
   "cell_type": "markdown",
   "id": "7a674b50",
   "metadata": {},
   "source": [
    "## 4. Generate Mean Accuracy Bar Charts\n",
    "\n",
    "Create bar charts displaying mean accuracy for each model and score type."
   ]
  },
  {
   "cell_type": "code",
   "execution_count": 4,
   "id": "0916e89d",
   "metadata": {},
   "outputs": [
    {
     "name": "stdout",
     "output_type": "stream",
     "text": [
      "Generating mean accuracy bar charts...\n"
     ]
    },
    {
     "data": {
      "application/vnd.plotly.v1+json": {
       "config": {
        "plotlyServerURL": "https://plot.ly"
       },
       "data": [
        {
         "hovertemplate": "model=%{x}<br>accuracy=%{text}<extra></extra>",
         "legendgroup": "",
         "marker": {
          "color": "#636efa",
          "pattern": {
           "shape": ""
          }
         },
         "name": "",
         "orientation": "v",
         "showlegend": false,
         "text": {
          "bdata": "ZmZmZmZm5j9Krs6Ly6LlPy4S4fNpXeU/QJUgBuEo5T+TOmAwPdLkPybs5rcQMOQ/lKdRTZ+/4z8Q1HL76F3gPw==",
          "dtype": "f8"
         },
         "textposition": "outside",
         "texttemplate": "%{text:.3f}",
         "type": "bar",
         "x": [
          "Qwen3-32B",
          "Qwen3-14B",
          "Llama-3.3-70B-Instruct",
          "Llama-3.1-70B-Instruct",
          "Gemma-3-27B-IT",
          "Gemma-3-12B-IT",
          "Qwen3-4B",
          "Gemma-3-4B-IT"
         ],
         "xaxis": "x",
         "y": {
          "bdata": "ZmZmZmZm5j9Krs6Ly6LlPy4S4fNpXeU/QJUgBuEo5T+TOmAwPdLkPybs5rcQMOQ/lKdRTZ+/4z8Q1HL76F3gPw==",
          "dtype": "f8"
         },
         "yaxis": "y"
        }
       ],
       "layout": {
        "barmode": "relative",
        "height": 500,
        "legend": {
         "tracegroupgap": 0
        },
        "template": {
         "data": {
          "bar": [
           {
            "error_x": {
             "color": "#2a3f5f"
            },
            "error_y": {
             "color": "#2a3f5f"
            },
            "marker": {
             "line": {
              "color": "#E5ECF6",
              "width": 0.5
             },
             "pattern": {
              "fillmode": "overlay",
              "size": 10,
              "solidity": 0.2
             }
            },
            "type": "bar"
           }
          ],
          "barpolar": [
           {
            "marker": {
             "line": {
              "color": "#E5ECF6",
              "width": 0.5
             },
             "pattern": {
              "fillmode": "overlay",
              "size": 10,
              "solidity": 0.2
             }
            },
            "type": "barpolar"
           }
          ],
          "carpet": [
           {
            "aaxis": {
             "endlinecolor": "#2a3f5f",
             "gridcolor": "white",
             "linecolor": "white",
             "minorgridcolor": "white",
             "startlinecolor": "#2a3f5f"
            },
            "baxis": {
             "endlinecolor": "#2a3f5f",
             "gridcolor": "white",
             "linecolor": "white",
             "minorgridcolor": "white",
             "startlinecolor": "#2a3f5f"
            },
            "type": "carpet"
           }
          ],
          "choropleth": [
           {
            "colorbar": {
             "outlinewidth": 0,
             "ticks": ""
            },
            "type": "choropleth"
           }
          ],
          "contour": [
           {
            "colorbar": {
             "outlinewidth": 0,
             "ticks": ""
            },
            "colorscale": [
             [
              0,
              "#0d0887"
             ],
             [
              0.1111111111111111,
              "#46039f"
             ],
             [
              0.2222222222222222,
              "#7201a8"
             ],
             [
              0.3333333333333333,
              "#9c179e"
             ],
             [
              0.4444444444444444,
              "#bd3786"
             ],
             [
              0.5555555555555556,
              "#d8576b"
             ],
             [
              0.6666666666666666,
              "#ed7953"
             ],
             [
              0.7777777777777778,
              "#fb9f3a"
             ],
             [
              0.8888888888888888,
              "#fdca26"
             ],
             [
              1,
              "#f0f921"
             ]
            ],
            "type": "contour"
           }
          ],
          "contourcarpet": [
           {
            "colorbar": {
             "outlinewidth": 0,
             "ticks": ""
            },
            "type": "contourcarpet"
           }
          ],
          "heatmap": [
           {
            "colorbar": {
             "outlinewidth": 0,
             "ticks": ""
            },
            "colorscale": [
             [
              0,
              "#0d0887"
             ],
             [
              0.1111111111111111,
              "#46039f"
             ],
             [
              0.2222222222222222,
              "#7201a8"
             ],
             [
              0.3333333333333333,
              "#9c179e"
             ],
             [
              0.4444444444444444,
              "#bd3786"
             ],
             [
              0.5555555555555556,
              "#d8576b"
             ],
             [
              0.6666666666666666,
              "#ed7953"
             ],
             [
              0.7777777777777778,
              "#fb9f3a"
             ],
             [
              0.8888888888888888,
              "#fdca26"
             ],
             [
              1,
              "#f0f921"
             ]
            ],
            "type": "heatmap"
           }
          ],
          "histogram": [
           {
            "marker": {
             "pattern": {
              "fillmode": "overlay",
              "size": 10,
              "solidity": 0.2
             }
            },
            "type": "histogram"
           }
          ],
          "histogram2d": [
           {
            "colorbar": {
             "outlinewidth": 0,
             "ticks": ""
            },
            "colorscale": [
             [
              0,
              "#0d0887"
             ],
             [
              0.1111111111111111,
              "#46039f"
             ],
             [
              0.2222222222222222,
              "#7201a8"
             ],
             [
              0.3333333333333333,
              "#9c179e"
             ],
             [
              0.4444444444444444,
              "#bd3786"
             ],
             [
              0.5555555555555556,
              "#d8576b"
             ],
             [
              0.6666666666666666,
              "#ed7953"
             ],
             [
              0.7777777777777778,
              "#fb9f3a"
             ],
             [
              0.8888888888888888,
              "#fdca26"
             ],
             [
              1,
              "#f0f921"
             ]
            ],
            "type": "histogram2d"
           }
          ],
          "histogram2dcontour": [
           {
            "colorbar": {
             "outlinewidth": 0,
             "ticks": ""
            },
            "colorscale": [
             [
              0,
              "#0d0887"
             ],
             [
              0.1111111111111111,
              "#46039f"
             ],
             [
              0.2222222222222222,
              "#7201a8"
             ],
             [
              0.3333333333333333,
              "#9c179e"
             ],
             [
              0.4444444444444444,
              "#bd3786"
             ],
             [
              0.5555555555555556,
              "#d8576b"
             ],
             [
              0.6666666666666666,
              "#ed7953"
             ],
             [
              0.7777777777777778,
              "#fb9f3a"
             ],
             [
              0.8888888888888888,
              "#fdca26"
             ],
             [
              1,
              "#f0f921"
             ]
            ],
            "type": "histogram2dcontour"
           }
          ],
          "mesh3d": [
           {
            "colorbar": {
             "outlinewidth": 0,
             "ticks": ""
            },
            "type": "mesh3d"
           }
          ],
          "parcoords": [
           {
            "line": {
             "colorbar": {
              "outlinewidth": 0,
              "ticks": ""
             }
            },
            "type": "parcoords"
           }
          ],
          "pie": [
           {
            "automargin": true,
            "type": "pie"
           }
          ],
          "scatter": [
           {
            "fillpattern": {
             "fillmode": "overlay",
             "size": 10,
             "solidity": 0.2
            },
            "type": "scatter"
           }
          ],
          "scatter3d": [
           {
            "line": {
             "colorbar": {
              "outlinewidth": 0,
              "ticks": ""
             }
            },
            "marker": {
             "colorbar": {
              "outlinewidth": 0,
              "ticks": ""
             }
            },
            "type": "scatter3d"
           }
          ],
          "scattercarpet": [
           {
            "marker": {
             "colorbar": {
              "outlinewidth": 0,
              "ticks": ""
             }
            },
            "type": "scattercarpet"
           }
          ],
          "scattergeo": [
           {
            "marker": {
             "colorbar": {
              "outlinewidth": 0,
              "ticks": ""
             }
            },
            "type": "scattergeo"
           }
          ],
          "scattergl": [
           {
            "marker": {
             "colorbar": {
              "outlinewidth": 0,
              "ticks": ""
             }
            },
            "type": "scattergl"
           }
          ],
          "scattermap": [
           {
            "marker": {
             "colorbar": {
              "outlinewidth": 0,
              "ticks": ""
             }
            },
            "type": "scattermap"
           }
          ],
          "scattermapbox": [
           {
            "marker": {
             "colorbar": {
              "outlinewidth": 0,
              "ticks": ""
             }
            },
            "type": "scattermapbox"
           }
          ],
          "scatterpolar": [
           {
            "marker": {
             "colorbar": {
              "outlinewidth": 0,
              "ticks": ""
             }
            },
            "type": "scatterpolar"
           }
          ],
          "scatterpolargl": [
           {
            "marker": {
             "colorbar": {
              "outlinewidth": 0,
              "ticks": ""
             }
            },
            "type": "scatterpolargl"
           }
          ],
          "scatterternary": [
           {
            "marker": {
             "colorbar": {
              "outlinewidth": 0,
              "ticks": ""
             }
            },
            "type": "scatterternary"
           }
          ],
          "surface": [
           {
            "colorbar": {
             "outlinewidth": 0,
             "ticks": ""
            },
            "colorscale": [
             [
              0,
              "#0d0887"
             ],
             [
              0.1111111111111111,
              "#46039f"
             ],
             [
              0.2222222222222222,
              "#7201a8"
             ],
             [
              0.3333333333333333,
              "#9c179e"
             ],
             [
              0.4444444444444444,
              "#bd3786"
             ],
             [
              0.5555555555555556,
              "#d8576b"
             ],
             [
              0.6666666666666666,
              "#ed7953"
             ],
             [
              0.7777777777777778,
              "#fb9f3a"
             ],
             [
              0.8888888888888888,
              "#fdca26"
             ],
             [
              1,
              "#f0f921"
             ]
            ],
            "type": "surface"
           }
          ],
          "table": [
           {
            "cells": {
             "fill": {
              "color": "#EBF0F8"
             },
             "line": {
              "color": "white"
             }
            },
            "header": {
             "fill": {
              "color": "#C8D4E3"
             },
             "line": {
              "color": "white"
             }
            },
            "type": "table"
           }
          ]
         },
         "layout": {
          "annotationdefaults": {
           "arrowcolor": "#2a3f5f",
           "arrowhead": 0,
           "arrowwidth": 1
          },
          "autotypenumbers": "strict",
          "coloraxis": {
           "colorbar": {
            "outlinewidth": 0,
            "ticks": ""
           }
          },
          "colorscale": {
           "diverging": [
            [
             0,
             "#8e0152"
            ],
            [
             0.1,
             "#c51b7d"
            ],
            [
             0.2,
             "#de77ae"
            ],
            [
             0.3,
             "#f1b6da"
            ],
            [
             0.4,
             "#fde0ef"
            ],
            [
             0.5,
             "#f7f7f7"
            ],
            [
             0.6,
             "#e6f5d0"
            ],
            [
             0.7,
             "#b8e186"
            ],
            [
             0.8,
             "#7fbc41"
            ],
            [
             0.9,
             "#4d9221"
            ],
            [
             1,
             "#276419"
            ]
           ],
           "sequential": [
            [
             0,
             "#0d0887"
            ],
            [
             0.1111111111111111,
             "#46039f"
            ],
            [
             0.2222222222222222,
             "#7201a8"
            ],
            [
             0.3333333333333333,
             "#9c179e"
            ],
            [
             0.4444444444444444,
             "#bd3786"
            ],
            [
             0.5555555555555556,
             "#d8576b"
            ],
            [
             0.6666666666666666,
             "#ed7953"
            ],
            [
             0.7777777777777778,
             "#fb9f3a"
            ],
            [
             0.8888888888888888,
             "#fdca26"
            ],
            [
             1,
             "#f0f921"
            ]
           ],
           "sequentialminus": [
            [
             0,
             "#0d0887"
            ],
            [
             0.1111111111111111,
             "#46039f"
            ],
            [
             0.2222222222222222,
             "#7201a8"
            ],
            [
             0.3333333333333333,
             "#9c179e"
            ],
            [
             0.4444444444444444,
             "#bd3786"
            ],
            [
             0.5555555555555556,
             "#d8576b"
            ],
            [
             0.6666666666666666,
             "#ed7953"
            ],
            [
             0.7777777777777778,
             "#fb9f3a"
            ],
            [
             0.8888888888888888,
             "#fdca26"
            ],
            [
             1,
             "#f0f921"
            ]
           ]
          },
          "colorway": [
           "#636efa",
           "#EF553B",
           "#00cc96",
           "#ab63fa",
           "#FFA15A",
           "#19d3f3",
           "#FF6692",
           "#B6E880",
           "#FF97FF",
           "#FECB52"
          ],
          "font": {
           "color": "#2a3f5f"
          },
          "geo": {
           "bgcolor": "white",
           "lakecolor": "white",
           "landcolor": "#E5ECF6",
           "showlakes": true,
           "showland": true,
           "subunitcolor": "white"
          },
          "hoverlabel": {
           "align": "left"
          },
          "hovermode": "closest",
          "mapbox": {
           "style": "light"
          },
          "paper_bgcolor": "white",
          "plot_bgcolor": "#E5ECF6",
          "polar": {
           "angularaxis": {
            "gridcolor": "white",
            "linecolor": "white",
            "ticks": ""
           },
           "bgcolor": "#E5ECF6",
           "radialaxis": {
            "gridcolor": "white",
            "linecolor": "white",
            "ticks": ""
           }
          },
          "scene": {
           "xaxis": {
            "backgroundcolor": "#E5ECF6",
            "gridcolor": "white",
            "gridwidth": 2,
            "linecolor": "white",
            "showbackground": true,
            "ticks": "",
            "zerolinecolor": "white"
           },
           "yaxis": {
            "backgroundcolor": "#E5ECF6",
            "gridcolor": "white",
            "gridwidth": 2,
            "linecolor": "white",
            "showbackground": true,
            "ticks": "",
            "zerolinecolor": "white"
           },
           "zaxis": {
            "backgroundcolor": "#E5ECF6",
            "gridcolor": "white",
            "gridwidth": 2,
            "linecolor": "white",
            "showbackground": true,
            "ticks": "",
            "zerolinecolor": "white"
           }
          },
          "shapedefaults": {
           "line": {
            "color": "#2a3f5f"
           }
          },
          "ternary": {
           "aaxis": {
            "gridcolor": "white",
            "linecolor": "white",
            "ticks": ""
           },
           "baxis": {
            "gridcolor": "white",
            "linecolor": "white",
            "ticks": ""
           },
           "bgcolor": "#E5ECF6",
           "caxis": {
            "gridcolor": "white",
            "linecolor": "white",
            "ticks": ""
           }
          },
          "title": {
           "x": 0.05
          },
          "xaxis": {
           "automargin": true,
           "gridcolor": "white",
           "linecolor": "white",
           "ticks": "",
           "title": {
            "standoff": 15
           },
           "zerolinecolor": "white",
           "zerolinewidth": 2
          },
          "yaxis": {
           "automargin": true,
           "gridcolor": "white",
           "linecolor": "white",
           "ticks": "",
           "title": {
            "standoff": 15
           },
           "zerolinecolor": "white",
           "zerolinewidth": 2
          }
         }
        },
        "title": {
         "text": "Mean Accuracy by Model - Fuzz"
        },
        "xaxis": {
         "anchor": "y",
         "domain": [
          0,
          1
         ],
         "tickangle": 45,
         "title": {
          "text": "Model"
         }
        },
        "yaxis": {
         "anchor": "x",
         "domain": [
          0,
          1
         ],
         "range": [
          0,
          1
         ],
         "title": {
          "text": "Accuracy"
         }
        }
       }
      }
     },
     "metadata": {},
     "output_type": "display_data"
    },
    {
     "name": "stdout",
     "output_type": "stream",
     "text": [
      "Saved bar chart: /home/jeremias/projects/delphi-explanations/results/visualizations/accuracy_bar_fuzz.pdf\n",
      "Saved bar chart: /home/jeremias/projects/delphi-explanations/results/visualizations/accuracy_bar_fuzz.png\n"
     ]
    },
    {
     "name": "stderr",
     "output_type": "stream",
     "text": [
      "/tmp/ipykernel_4108791/3557244602.py:31: DeprecationWarning:\n",
      "\n",
      "\n",
      "Support for Kaleido versions less than 1.0.0 is deprecated and will be removed after September 2025.\n",
      "Please upgrade Kaleido to version 1.0.0 or greater (`pip install 'kaleido>=1.0.0'` or `pip install 'plotly[kaleido]'`).\n",
      "\n",
      "\n",
      "/tmp/ipykernel_4108791/3557244602.py:32: DeprecationWarning:\n",
      "\n",
      "\n",
      "Support for Kaleido versions less than 1.0.0 is deprecated and will be removed after September 2025.\n",
      "Please upgrade Kaleido to version 1.0.0 or greater (`pip install 'kaleido>=1.0.0'` or `pip install 'plotly[kaleido]'`).\n",
      "\n",
      "\n"
     ]
    },
    {
     "data": {
      "application/vnd.plotly.v1+json": {
       "config": {
        "plotlyServerURL": "https://plot.ly"
       },
       "data": [
        {
         "hovertemplate": "model=%{x}<br>accuracy=%{text}<extra></extra>",
         "legendgroup": "",
         "marker": {
          "color": "#636efa",
          "pattern": {
           "shape": ""
          }
         },
         "name": "",
         "orientation": "v",
         "showlegend": false,
         "text": {
          "bdata": "UOvKDc724z+Q1HrLsd7jPxpy7rMLiOM/oGuVDUdM4z/ehSr3RRnjP1JAYb1m9+I/fXeSP7rw4j+Cvxm2nWXhPw==",
          "dtype": "f8"
         },
         "textposition": "outside",
         "texttemplate": "%{text:.3f}",
         "type": "bar",
         "x": [
          "Qwen3-32B",
          "Gemma-3-27B-IT",
          "Qwen3-14B",
          "Gemma-3-12B-IT",
          "Qwen3-4B",
          "Llama-3.3-70B-Instruct",
          "Llama-3.1-70B-Instruct",
          "Gemma-3-4B-IT"
         ],
         "xaxis": "x",
         "y": {
          "bdata": "UOvKDc724z+Q1HrLsd7jPxpy7rMLiOM/oGuVDUdM4z/ehSr3RRnjP1JAYb1m9+I/fXeSP7rw4j+Cvxm2nWXhPw==",
          "dtype": "f8"
         },
         "yaxis": "y"
        }
       ],
       "layout": {
        "barmode": "relative",
        "height": 500,
        "legend": {
         "tracegroupgap": 0
        },
        "template": {
         "data": {
          "bar": [
           {
            "error_x": {
             "color": "#2a3f5f"
            },
            "error_y": {
             "color": "#2a3f5f"
            },
            "marker": {
             "line": {
              "color": "#E5ECF6",
              "width": 0.5
             },
             "pattern": {
              "fillmode": "overlay",
              "size": 10,
              "solidity": 0.2
             }
            },
            "type": "bar"
           }
          ],
          "barpolar": [
           {
            "marker": {
             "line": {
              "color": "#E5ECF6",
              "width": 0.5
             },
             "pattern": {
              "fillmode": "overlay",
              "size": 10,
              "solidity": 0.2
             }
            },
            "type": "barpolar"
           }
          ],
          "carpet": [
           {
            "aaxis": {
             "endlinecolor": "#2a3f5f",
             "gridcolor": "white",
             "linecolor": "white",
             "minorgridcolor": "white",
             "startlinecolor": "#2a3f5f"
            },
            "baxis": {
             "endlinecolor": "#2a3f5f",
             "gridcolor": "white",
             "linecolor": "white",
             "minorgridcolor": "white",
             "startlinecolor": "#2a3f5f"
            },
            "type": "carpet"
           }
          ],
          "choropleth": [
           {
            "colorbar": {
             "outlinewidth": 0,
             "ticks": ""
            },
            "type": "choropleth"
           }
          ],
          "contour": [
           {
            "colorbar": {
             "outlinewidth": 0,
             "ticks": ""
            },
            "colorscale": [
             [
              0,
              "#0d0887"
             ],
             [
              0.1111111111111111,
              "#46039f"
             ],
             [
              0.2222222222222222,
              "#7201a8"
             ],
             [
              0.3333333333333333,
              "#9c179e"
             ],
             [
              0.4444444444444444,
              "#bd3786"
             ],
             [
              0.5555555555555556,
              "#d8576b"
             ],
             [
              0.6666666666666666,
              "#ed7953"
             ],
             [
              0.7777777777777778,
              "#fb9f3a"
             ],
             [
              0.8888888888888888,
              "#fdca26"
             ],
             [
              1,
              "#f0f921"
             ]
            ],
            "type": "contour"
           }
          ],
          "contourcarpet": [
           {
            "colorbar": {
             "outlinewidth": 0,
             "ticks": ""
            },
            "type": "contourcarpet"
           }
          ],
          "heatmap": [
           {
            "colorbar": {
             "outlinewidth": 0,
             "ticks": ""
            },
            "colorscale": [
             [
              0,
              "#0d0887"
             ],
             [
              0.1111111111111111,
              "#46039f"
             ],
             [
              0.2222222222222222,
              "#7201a8"
             ],
             [
              0.3333333333333333,
              "#9c179e"
             ],
             [
              0.4444444444444444,
              "#bd3786"
             ],
             [
              0.5555555555555556,
              "#d8576b"
             ],
             [
              0.6666666666666666,
              "#ed7953"
             ],
             [
              0.7777777777777778,
              "#fb9f3a"
             ],
             [
              0.8888888888888888,
              "#fdca26"
             ],
             [
              1,
              "#f0f921"
             ]
            ],
            "type": "heatmap"
           }
          ],
          "histogram": [
           {
            "marker": {
             "pattern": {
              "fillmode": "overlay",
              "size": 10,
              "solidity": 0.2
             }
            },
            "type": "histogram"
           }
          ],
          "histogram2d": [
           {
            "colorbar": {
             "outlinewidth": 0,
             "ticks": ""
            },
            "colorscale": [
             [
              0,
              "#0d0887"
             ],
             [
              0.1111111111111111,
              "#46039f"
             ],
             [
              0.2222222222222222,
              "#7201a8"
             ],
             [
              0.3333333333333333,
              "#9c179e"
             ],
             [
              0.4444444444444444,
              "#bd3786"
             ],
             [
              0.5555555555555556,
              "#d8576b"
             ],
             [
              0.6666666666666666,
              "#ed7953"
             ],
             [
              0.7777777777777778,
              "#fb9f3a"
             ],
             [
              0.8888888888888888,
              "#fdca26"
             ],
             [
              1,
              "#f0f921"
             ]
            ],
            "type": "histogram2d"
           }
          ],
          "histogram2dcontour": [
           {
            "colorbar": {
             "outlinewidth": 0,
             "ticks": ""
            },
            "colorscale": [
             [
              0,
              "#0d0887"
             ],
             [
              0.1111111111111111,
              "#46039f"
             ],
             [
              0.2222222222222222,
              "#7201a8"
             ],
             [
              0.3333333333333333,
              "#9c179e"
             ],
             [
              0.4444444444444444,
              "#bd3786"
             ],
             [
              0.5555555555555556,
              "#d8576b"
             ],
             [
              0.6666666666666666,
              "#ed7953"
             ],
             [
              0.7777777777777778,
              "#fb9f3a"
             ],
             [
              0.8888888888888888,
              "#fdca26"
             ],
             [
              1,
              "#f0f921"
             ]
            ],
            "type": "histogram2dcontour"
           }
          ],
          "mesh3d": [
           {
            "colorbar": {
             "outlinewidth": 0,
             "ticks": ""
            },
            "type": "mesh3d"
           }
          ],
          "parcoords": [
           {
            "line": {
             "colorbar": {
              "outlinewidth": 0,
              "ticks": ""
             }
            },
            "type": "parcoords"
           }
          ],
          "pie": [
           {
            "automargin": true,
            "type": "pie"
           }
          ],
          "scatter": [
           {
            "fillpattern": {
             "fillmode": "overlay",
             "size": 10,
             "solidity": 0.2
            },
            "type": "scatter"
           }
          ],
          "scatter3d": [
           {
            "line": {
             "colorbar": {
              "outlinewidth": 0,
              "ticks": ""
             }
            },
            "marker": {
             "colorbar": {
              "outlinewidth": 0,
              "ticks": ""
             }
            },
            "type": "scatter3d"
           }
          ],
          "scattercarpet": [
           {
            "marker": {
             "colorbar": {
              "outlinewidth": 0,
              "ticks": ""
             }
            },
            "type": "scattercarpet"
           }
          ],
          "scattergeo": [
           {
            "marker": {
             "colorbar": {
              "outlinewidth": 0,
              "ticks": ""
             }
            },
            "type": "scattergeo"
           }
          ],
          "scattergl": [
           {
            "marker": {
             "colorbar": {
              "outlinewidth": 0,
              "ticks": ""
             }
            },
            "type": "scattergl"
           }
          ],
          "scattermap": [
           {
            "marker": {
             "colorbar": {
              "outlinewidth": 0,
              "ticks": ""
             }
            },
            "type": "scattermap"
           }
          ],
          "scattermapbox": [
           {
            "marker": {
             "colorbar": {
              "outlinewidth": 0,
              "ticks": ""
             }
            },
            "type": "scattermapbox"
           }
          ],
          "scatterpolar": [
           {
            "marker": {
             "colorbar": {
              "outlinewidth": 0,
              "ticks": ""
             }
            },
            "type": "scatterpolar"
           }
          ],
          "scatterpolargl": [
           {
            "marker": {
             "colorbar": {
              "outlinewidth": 0,
              "ticks": ""
             }
            },
            "type": "scatterpolargl"
           }
          ],
          "scatterternary": [
           {
            "marker": {
             "colorbar": {
              "outlinewidth": 0,
              "ticks": ""
             }
            },
            "type": "scatterternary"
           }
          ],
          "surface": [
           {
            "colorbar": {
             "outlinewidth": 0,
             "ticks": ""
            },
            "colorscale": [
             [
              0,
              "#0d0887"
             ],
             [
              0.1111111111111111,
              "#46039f"
             ],
             [
              0.2222222222222222,
              "#7201a8"
             ],
             [
              0.3333333333333333,
              "#9c179e"
             ],
             [
              0.4444444444444444,
              "#bd3786"
             ],
             [
              0.5555555555555556,
              "#d8576b"
             ],
             [
              0.6666666666666666,
              "#ed7953"
             ],
             [
              0.7777777777777778,
              "#fb9f3a"
             ],
             [
              0.8888888888888888,
              "#fdca26"
             ],
             [
              1,
              "#f0f921"
             ]
            ],
            "type": "surface"
           }
          ],
          "table": [
           {
            "cells": {
             "fill": {
              "color": "#EBF0F8"
             },
             "line": {
              "color": "white"
             }
            },
            "header": {
             "fill": {
              "color": "#C8D4E3"
             },
             "line": {
              "color": "white"
             }
            },
            "type": "table"
           }
          ]
         },
         "layout": {
          "annotationdefaults": {
           "arrowcolor": "#2a3f5f",
           "arrowhead": 0,
           "arrowwidth": 1
          },
          "autotypenumbers": "strict",
          "coloraxis": {
           "colorbar": {
            "outlinewidth": 0,
            "ticks": ""
           }
          },
          "colorscale": {
           "diverging": [
            [
             0,
             "#8e0152"
            ],
            [
             0.1,
             "#c51b7d"
            ],
            [
             0.2,
             "#de77ae"
            ],
            [
             0.3,
             "#f1b6da"
            ],
            [
             0.4,
             "#fde0ef"
            ],
            [
             0.5,
             "#f7f7f7"
            ],
            [
             0.6,
             "#e6f5d0"
            ],
            [
             0.7,
             "#b8e186"
            ],
            [
             0.8,
             "#7fbc41"
            ],
            [
             0.9,
             "#4d9221"
            ],
            [
             1,
             "#276419"
            ]
           ],
           "sequential": [
            [
             0,
             "#0d0887"
            ],
            [
             0.1111111111111111,
             "#46039f"
            ],
            [
             0.2222222222222222,
             "#7201a8"
            ],
            [
             0.3333333333333333,
             "#9c179e"
            ],
            [
             0.4444444444444444,
             "#bd3786"
            ],
            [
             0.5555555555555556,
             "#d8576b"
            ],
            [
             0.6666666666666666,
             "#ed7953"
            ],
            [
             0.7777777777777778,
             "#fb9f3a"
            ],
            [
             0.8888888888888888,
             "#fdca26"
            ],
            [
             1,
             "#f0f921"
            ]
           ],
           "sequentialminus": [
            [
             0,
             "#0d0887"
            ],
            [
             0.1111111111111111,
             "#46039f"
            ],
            [
             0.2222222222222222,
             "#7201a8"
            ],
            [
             0.3333333333333333,
             "#9c179e"
            ],
            [
             0.4444444444444444,
             "#bd3786"
            ],
            [
             0.5555555555555556,
             "#d8576b"
            ],
            [
             0.6666666666666666,
             "#ed7953"
            ],
            [
             0.7777777777777778,
             "#fb9f3a"
            ],
            [
             0.8888888888888888,
             "#fdca26"
            ],
            [
             1,
             "#f0f921"
            ]
           ]
          },
          "colorway": [
           "#636efa",
           "#EF553B",
           "#00cc96",
           "#ab63fa",
           "#FFA15A",
           "#19d3f3",
           "#FF6692",
           "#B6E880",
           "#FF97FF",
           "#FECB52"
          ],
          "font": {
           "color": "#2a3f5f"
          },
          "geo": {
           "bgcolor": "white",
           "lakecolor": "white",
           "landcolor": "#E5ECF6",
           "showlakes": true,
           "showland": true,
           "subunitcolor": "white"
          },
          "hoverlabel": {
           "align": "left"
          },
          "hovermode": "closest",
          "mapbox": {
           "style": "light"
          },
          "paper_bgcolor": "white",
          "plot_bgcolor": "#E5ECF6",
          "polar": {
           "angularaxis": {
            "gridcolor": "white",
            "linecolor": "white",
            "ticks": ""
           },
           "bgcolor": "#E5ECF6",
           "radialaxis": {
            "gridcolor": "white",
            "linecolor": "white",
            "ticks": ""
           }
          },
          "scene": {
           "xaxis": {
            "backgroundcolor": "#E5ECF6",
            "gridcolor": "white",
            "gridwidth": 2,
            "linecolor": "white",
            "showbackground": true,
            "ticks": "",
            "zerolinecolor": "white"
           },
           "yaxis": {
            "backgroundcolor": "#E5ECF6",
            "gridcolor": "white",
            "gridwidth": 2,
            "linecolor": "white",
            "showbackground": true,
            "ticks": "",
            "zerolinecolor": "white"
           },
           "zaxis": {
            "backgroundcolor": "#E5ECF6",
            "gridcolor": "white",
            "gridwidth": 2,
            "linecolor": "white",
            "showbackground": true,
            "ticks": "",
            "zerolinecolor": "white"
           }
          },
          "shapedefaults": {
           "line": {
            "color": "#2a3f5f"
           }
          },
          "ternary": {
           "aaxis": {
            "gridcolor": "white",
            "linecolor": "white",
            "ticks": ""
           },
           "baxis": {
            "gridcolor": "white",
            "linecolor": "white",
            "ticks": ""
           },
           "bgcolor": "#E5ECF6",
           "caxis": {
            "gridcolor": "white",
            "linecolor": "white",
            "ticks": ""
           }
          },
          "title": {
           "x": 0.05
          },
          "xaxis": {
           "automargin": true,
           "gridcolor": "white",
           "linecolor": "white",
           "ticks": "",
           "title": {
            "standoff": 15
           },
           "zerolinecolor": "white",
           "zerolinewidth": 2
          },
          "yaxis": {
           "automargin": true,
           "gridcolor": "white",
           "linecolor": "white",
           "ticks": "",
           "title": {
            "standoff": 15
           },
           "zerolinecolor": "white",
           "zerolinewidth": 2
          }
         }
        },
        "title": {
         "text": "Mean Accuracy by Model - Detection"
        },
        "xaxis": {
         "anchor": "y",
         "domain": [
          0,
          1
         ],
         "tickangle": 45,
         "title": {
          "text": "Model"
         }
        },
        "yaxis": {
         "anchor": "x",
         "domain": [
          0,
          1
         ],
         "range": [
          0,
          1
         ],
         "title": {
          "text": "Accuracy"
         }
        }
       }
      }
     },
     "metadata": {},
     "output_type": "display_data"
    },
    {
     "name": "stderr",
     "output_type": "stream",
     "text": [
      "/tmp/ipykernel_4108791/3557244602.py:31: DeprecationWarning:\n",
      "\n",
      "\n",
      "Support for Kaleido versions less than 1.0.0 is deprecated and will be removed after September 2025.\n",
      "Please upgrade Kaleido to version 1.0.0 or greater (`pip install 'kaleido>=1.0.0'` or `pip install 'plotly[kaleido]'`).\n",
      "\n",
      "\n",
      "/tmp/ipykernel_4108791/3557244602.py:32: DeprecationWarning:\n",
      "\n",
      "\n",
      "Support for Kaleido versions less than 1.0.0 is deprecated and will be removed after September 2025.\n",
      "Please upgrade Kaleido to version 1.0.0 or greater (`pip install 'kaleido>=1.0.0'` or `pip install 'plotly[kaleido]'`).\n",
      "\n",
      "\n"
     ]
    },
    {
     "name": "stdout",
     "output_type": "stream",
     "text": [
      "Saved bar chart: /home/jeremias/projects/delphi-explanations/results/visualizations/accuracy_bar_detection.pdf\n",
      "Saved bar chart: /home/jeremias/projects/delphi-explanations/results/visualizations/accuracy_bar_detection.png\n",
      "\n",
      "Model accuracy rankings:\n",
      "\n",
      "Fuzz Accuracy Rankings:\n",
      "  1. Qwen3-32B: 0.700\n",
      "  2. Qwen3-14B: 0.676\n",
      "  3. Llama-3.3-70B-Instruct: 0.668\n",
      "  4. Llama-3.1-70B-Instruct: 0.661\n",
      "  5. Gemma-3-27B-IT: 0.651\n",
      "  6. Gemma-3-12B-IT: 0.631\n",
      "  7. Qwen3-4B: 0.617\n",
      "  8. Gemma-3-4B-IT: 0.511\n",
      "\n",
      "Detection Accuracy Rankings:\n",
      "  1. Qwen3-32B: 0.624\n",
      "  2. Gemma-3-27B-IT: 0.621\n",
      "  3. Qwen3-14B: 0.610\n",
      "  4. Gemma-3-12B-IT: 0.603\n",
      "  5. Qwen3-4B: 0.597\n",
      "  6. Llama-3.3-70B-Instruct: 0.593\n",
      "  7. Llama-3.1-70B-Instruct: 0.592\n",
      "  8. Gemma-3-4B-IT: 0.544\n",
      "\n",
      "Bar charts saved to /home/jeremias/projects/delphi-explanations/results/visualizations\n"
     ]
    }
   ],
   "source": [
    "# Generate inline bar charts for mean accuracy and save to files\n",
    "print(\"Generating mean accuracy bar charts...\")\n",
    "\n",
    "# Create inline bar charts for each score type\n",
    "for score_type in accuracy_df['score_type'].unique():\n",
    "    score_df = accuracy_df[accuracy_df['score_type'] == score_type].sort_values('accuracy', ascending=False)\n",
    "    \n",
    "    # Create inline bar chart\n",
    "    fig = px.bar(\n",
    "        score_df,\n",
    "        x='model',\n",
    "        y='accuracy',\n",
    "        title=f'Mean Accuracy by Model - {score_type.title()}',\n",
    "        text='accuracy'\n",
    "    )\n",
    "    fig.update_layout(\n",
    "        yaxis_range=[0, 1],\n",
    "        xaxis_title=\"Model\",\n",
    "        yaxis_title=\"Accuracy\",\n",
    "        xaxis={'tickangle': 45},\n",
    "        height=500\n",
    "    )\n",
    "    fig.update_traces(texttemplate='%{text:.3f}', textposition='outside')\n",
    "    \n",
    "    # Show inline\n",
    "    fig.show()\n",
    "    \n",
    "    # Save to file in both PDF and PNG formats\n",
    "    output_file_pdf = visualizations_dir / f\"accuracy_bar_{score_type}.pdf\"\n",
    "    output_file_png = visualizations_dir / f\"accuracy_bar_{score_type}.png\"\n",
    "    fig.write_image(str(output_file_pdf))\n",
    "    fig.write_image(str(output_file_png))\n",
    "    print(f\"Saved bar chart: {output_file_pdf}\")\n",
    "    print(f\"Saved bar chart: {output_file_png}\")\n",
    "\n",
    "# Display accuracy rankings\n",
    "print(\"\\nModel accuracy rankings:\")\n",
    "for score_type in accuracy_df['score_type'].unique():\n",
    "    score_df = accuracy_df[accuracy_df['score_type'] == score_type].sort_values('accuracy', ascending=False)\n",
    "    print(f\"\\n{score_type.title()} Accuracy Rankings:\")\n",
    "    for i, (_, row) in enumerate(score_df.iterrows(), 1):\n",
    "        print(f\"  {i}. {row['model']}: {row['accuracy']:.3f}\")\n",
    "\n",
    "print(f\"\\nBar charts saved to {visualizations_dir}\")"
   ]
  },
  {
   "cell_type": "markdown",
   "id": "45f1c475",
   "metadata": {},
   "source": [
    "## 5. Create Comprehensive Performance Summary\n",
    "\n",
    "Generate summary tables and statistics comparing model performance across all metrics."
   ]
  },
  {
   "cell_type": "code",
   "execution_count": 5,
   "id": "1f55b95e",
   "metadata": {},
   "outputs": [
    {
     "name": "stdout",
     "output_type": "stream",
     "text": [
      "Creating comprehensive performance summary...\n",
      "\n",
      "Model Performance Summary (Accuracy Metrics):\n",
      "============================================================\n",
      "                        accuracy  f1_score  precision  recall\n",
      "model                                                        \n",
      "Gemma-3-12B-IT             0.617     0.590      0.644   0.560\n",
      "Gemma-3-27B-IT             0.636     0.676      0.609   0.760\n",
      "Gemma-3-4B-IT              0.528     0.592      0.523   0.688\n",
      "Llama-3.1-70B-Instruct     0.627     0.568      0.679   0.489\n",
      "Llama-3.3-70B-Instruct     0.630     0.612      0.656   0.583\n",
      "Qwen3-14B                  0.643     0.611      0.692   0.563\n",
      "Qwen3-32B                  0.662     0.676      0.654   0.701\n",
      "Qwen3-4B                   0.607     0.652      0.585   0.740\n",
      "\n",
      "Summary saved to: /home/jeremias/projects/delphi-explanations/results/visualizations/model_accuracy_summary.csv\n",
      "\n",
      "Best Performing Models by Category:\n",
      "==================================================\n",
      "Highest Accuracy: Qwen3-32B (0.662)\n",
      "Highest F1 Score: Gemma-3-27B-IT (0.676)\n",
      "Highest Precision: Qwen3-14B (0.692)\n",
      "Highest Recall: Gemma-3-27B-IT (0.760)\n",
      "\n",
      "Detailed Analysis by Score Type:\n",
      "========================================\n",
      "\n",
      "Fuzz Results:\n",
      "                     model  accuracy  f1_score\n",
      "10               Qwen3-32B  0.700000  0.698740\n",
      "8                Qwen3-14B  0.676122  0.602903\n",
      "12  Llama-3.3-70B-Instruct  0.667653  0.619998\n",
      "14  Llama-3.1-70B-Instruct  0.661240  0.593907\n",
      "6           Gemma-3-27B-IT  0.650664  0.686181\n",
      "4           Gemma-3-12B-IT  0.630867  0.558330\n",
      "2                 Qwen3-4B  0.617141  0.677607\n",
      "0            Gemma-3-4B-IT  0.511464  0.609054\n",
      "\n",
      "Detection Results:\n",
      "                     model  accuracy  f1_score\n",
      "11               Qwen3-32B  0.623878  0.652494\n",
      "7           Gemma-3-27B-IT  0.620934  0.666307\n",
      "9                Qwen3-14B  0.610357  0.619463\n",
      "5           Gemma-3-12B-IT  0.603061  0.621853\n",
      "3                 Qwen3-4B  0.596835  0.626837\n",
      "13  Llama-3.3-70B-Instruct  0.592700  0.604746\n",
      "15  Llama-3.1-70B-Instruct  0.591886  0.542270\n",
      "1            Gemma-3-4B-IT  0.543654  0.574276\n",
      "\n",
      "All visualizations and summaries saved to: /home/jeremias/projects/delphi-explanations/results/visualizations\n",
      "\n",
      "Generated files:\n",
      "  - accuracy_bar_detection.pdf\n",
      "  - accuracy_bar_detection.png\n",
      "  - accuracy_bar_fuzz.pdf\n",
      "  - accuracy_bar_fuzz.png\n",
      "  - accuracy_density_detection.pdf\n",
      "  - accuracy_density_detection.png\n",
      "  - accuracy_density_fuzz.pdf\n",
      "  - accuracy_density_fuzz.png\n",
      "  - accuracy_density_line_detection.pdf\n",
      "  - accuracy_density_line_fuzz.pdf\n",
      "  - model_accuracy_summary.csv\n",
      "  - model_performance_summary.csv\n"
     ]
    }
   ],
   "source": [
    "# Create comprehensive performance summary\n",
    "print(\"Creating comprehensive performance summary...\")\n",
    "\n",
    "# Create accuracy summary\n",
    "accuracy_summary = accuracy_df.groupby('model').agg({\n",
    "    'accuracy': 'mean',\n",
    "    'f1_score': 'mean',\n",
    "    'precision': 'mean',\n",
    "    'recall': 'mean'\n",
    "}).round(3)\n",
    "\n",
    "print(\"\\nModel Performance Summary (Accuracy Metrics):\")\n",
    "print(\"=\" * 60)\n",
    "print(accuracy_summary)\n",
    "\n",
    "# Save summary to CSV\n",
    "summary_file = visualizations_dir / \"model_accuracy_summary.csv\"\n",
    "accuracy_summary.to_csv(summary_file)\n",
    "print(f\"\\nSummary saved to: {summary_file}\")\n",
    "\n",
    "# Best performing models by category\n",
    "print(\"\\nBest Performing Models by Category:\")\n",
    "print(\"=\" * 50)\n",
    "print(f\"Highest Accuracy: {accuracy_summary['accuracy'].idxmax()} ({accuracy_summary['accuracy'].max():.3f})\")\n",
    "print(f\"Highest F1 Score: {accuracy_summary['f1_score'].idxmax()} ({accuracy_summary['f1_score'].max():.3f})\")\n",
    "print(f\"Highest Precision: {accuracy_summary['precision'].idxmax()} ({accuracy_summary['precision'].max():.3f})\")\n",
    "print(f\"Highest Recall: {accuracy_summary['recall'].idxmax()} ({accuracy_summary['recall'].max():.3f})\")\n",
    "\n",
    "# Create detailed per-score-type analysis\n",
    "print(\"\\nDetailed Analysis by Score Type:\")\n",
    "print(\"=\" * 40)\n",
    "for score_type in accuracy_df['score_type'].unique():\n",
    "    score_subset = accuracy_df[accuracy_df['score_type'] == score_type]\n",
    "    print(f\"\\n{score_type.title()} Results:\")\n",
    "    print(score_subset[['model', 'accuracy', 'f1_score']].sort_values('accuracy', ascending=False))\n",
    "\n",
    "print(f\"\\nAll visualizations and summaries saved to: {visualizations_dir}\")\n",
    "print(\"\\nGenerated files:\")\n",
    "for file in sorted(visualizations_dir.glob(\"*\")):\n",
    "    print(f\"  - {file.name}\")"
   ]
  }
 ],
 "metadata": {
  "kernelspec": {
   "display_name": ".venv",
   "language": "python",
   "name": "python3"
  },
  "language_info": {
   "codemirror_mode": {
    "name": "ipython",
    "version": 3
   },
   "file_extension": ".py",
   "mimetype": "text/x-python",
   "name": "python",
   "nbconvert_exporter": "python",
   "pygments_lexer": "ipython3",
   "version": "3.11.13"
  }
 },
 "nbformat": 4,
 "nbformat_minor": 5
}
