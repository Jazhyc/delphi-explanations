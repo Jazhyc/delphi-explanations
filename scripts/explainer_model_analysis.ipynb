{
 "cells": [
  {
   "cell_type": "markdown",
   "id": "d1096fab",
   "metadata": {},
   "source": [
    "# Explainer Model Performance Analysis\n",
    "\n",
    "This notebook analyzes the performance of different explainer models in generating explanations for SAE latent features. We compare models across multiple metrics including accuracy, F1 scores, token usage, and execution time.\n",
    "\n",
    "## Analysis Overview\n",
    "\n",
    "- **Accuracy Distribution**: Density plots showing accuracy distribution for each model\n",
    "- **Mean Performance**: Bar charts comparing mean accuracy across models\n",
    "- **Token Usage**: Analysis of computational efficiency and resource consumption\n",
    "- **Performance Summary**: Comprehensive comparison tables"
   ]
  },
  {
   "cell_type": "markdown",
   "id": "e60643f3",
   "metadata": {},
   "source": [
    "## 1. Setup and Configuration\n",
    "\n",
    "Import required libraries, define model name mapping for prettier display names, and set up output directories."
   ]
  },
  {
   "cell_type": "code",
   "execution_count": 1,
   "id": "934a96fd",
   "metadata": {},
   "outputs": [
    {
     "name": "stdout",
     "output_type": "stream",
     "text": [
      "Results directory: /home/jeremias/projects/delphi-explanations/results\n",
      "Visualizations output: /home/jeremias/projects/delphi-explanations/results/visualizations\n",
      "Available result directories:\n",
      "  - gemma_3_4b_it_quantized_w4a16_explanation_comparison\n",
      "  - Qwen3_4B_quantized_w4a16_explanation_comparison\n",
      "  - gemma_3_12b_it_quantized_w4a16_explanation_comparison\n",
      "  - gemma_3_27b_it_quantized_w4a16_explanation_comparison\n",
      "  - Qwen3_14B_quantized_w4a16_explanation_comparison\n",
      "  - Qwen3_32B_quantized_w4a16_explanation_comparison\n"
     ]
    }
   ],
   "source": [
    "import sys\n",
    "import os\n",
    "import json\n",
    "from pathlib import Path\n",
    "import pandas as pd\n",
    "import numpy as np\n",
    "\n",
    "# Add the parent directory to the path to import delphi modules\n",
    "sys.path.append(str(Path.cwd().parent))\n",
    "\n",
    "from delphi.log.result_analysis import (\n",
    "    import_plotly,\n",
    "    load_data\n",
    ")\n",
    "\n",
    "# Import plotly for plotting\n",
    "px = import_plotly()\n",
    "\n",
    "# Define model name mapping for prettier display - updated to match actual directory names\n",
    "MODEL_NAME_MAPPING = {\n",
    "    \"gemma_3_4b_it_quantized_w4a16\": \"Gemma-3-4B-IT\",\n",
    "    \"Qwen3_4B_quantized_w4a16\": \"Qwen3-4B\", \n",
    "    \"gemma_3_12b_it_quantized_w4a16\": \"Gemma-3-12B-IT\",\n",
    "    \"gemma_3_27b_it_quantized_w4a16\": \"Gemma-3-27B-IT\",\n",
    "    \"Qwen3_14B_quantized_w4a16\": \"Qwen3-14B\",\n",
    "    \"Qwen3_32B_quantized_w4a16\": \"Qwen3-32B\"\n",
    "}\n",
    "\n",
    "def load_model_results(results_dir: Path, model_mapping: dict):\n",
    "    \"\"\"Load results and statistics for all explainer models.\"\"\"\n",
    "    model_results = {}\n",
    "    model_stats = {}\n",
    "    \n",
    "    for exp_dir in results_dir.glob(\"*_explanation_comparison\"):\n",
    "        # Extract model name from directory\n",
    "        model_key = exp_dir.name.replace(\"_explanation_comparison\", \"\")\n",
    "        display_name = model_mapping.get(model_key, model_key)\n",
    "        \n",
    "        scores_path = exp_dir / \"scores\"\n",
    "        if scores_path.exists():\n",
    "            # Load scoring results\n",
    "            try:\n",
    "                latents_path = exp_dir.parent / \"cache_google_gemma-2-9b-it\" / \"latents\"\n",
    "                if not latents_path.exists():\n",
    "                    latents_path = exp_dir / \"latents\"  # Fallback to local latents\n",
    "                \n",
    "                if latents_path.exists():\n",
    "                    # Extract module names from the actual files\n",
    "                    sample_score_dir = next(scores_path.iterdir())\n",
    "                    sample_files = list(sample_score_dir.glob(\"*.txt\"))\n",
    "                    if sample_files:\n",
    "                        # Extract module name from filename pattern (e.g., \"layers.32_latent0.txt\" -> \"layers.32\")\n",
    "                        sample_filename = sample_files[0].stem\n",
    "                        module_name = sample_filename.split('_latent')[0]\n",
    "                        modules = [module_name]\n",
    "                    else:\n",
    "                        print(f\"No score files found in {sample_score_dir}\")\n",
    "                        continue\n",
    "                    \n",
    "                    latent_df, counts = load_data(scores_path, latents_path, modules)\n",
    "                    \n",
    "                    # Calculate aggregate metrics similar to get_agg_metrics\n",
    "                    processed_data = []\n",
    "                    for score_type in latent_df[\"score_type\"].unique():\n",
    "                        score_subset = latent_df[latent_df[\"score_type\"] == score_type]\n",
    "                        \n",
    "                        # Calculate metrics\n",
    "                        accuracy = score_subset[\"correct\"].mean()\n",
    "                        \n",
    "                        # Calculate F1, precision, recall\n",
    "                        true_pos = ((score_subset[\"prediction\"] == True) & (score_subset[\"activating\"] == True)).sum()\n",
    "                        false_pos = ((score_subset[\"prediction\"] == True) & (score_subset[\"activating\"] == False)).sum()\n",
    "                        false_neg = ((score_subset[\"prediction\"] == False) & (score_subset[\"activating\"] == True)).sum()\n",
    "                        \n",
    "                        precision = true_pos / (true_pos + false_pos) if (true_pos + false_pos) > 0 else 0\n",
    "                        recall = true_pos / (true_pos + false_neg) if (true_pos + false_neg) > 0 else 0\n",
    "                        f1_score = 2 * precision * recall / (precision + recall) if (precision + recall) > 0 else 0\n",
    "                        \n",
    "                        processed_data.append({\n",
    "                            'score_type': score_type,\n",
    "                            'accuracy': accuracy,\n",
    "                            'f1_score': f1_score,\n",
    "                            'precision': precision,\n",
    "                            'recall': recall\n",
    "                        })\n",
    "                    \n",
    "                    model_results[display_name] = {\n",
    "                        'latent_df': latent_df,\n",
    "                        'processed_df': pd.DataFrame(processed_data),\n",
    "                        'counts': counts\n",
    "                    }\n",
    "                    \n",
    "            except Exception as e:\n",
    "                print(f\"Error loading results for {model_key}: {e}\")\n",
    "                continue\n",
    "        \n",
    "        # Load explainer statistics\n",
    "        stats_file = exp_dir / \"explainer_stats.json\"\n",
    "        if stats_file.exists():\n",
    "            try:\n",
    "                with open(stats_file, 'r') as f:\n",
    "                    stats = json.load(f)\n",
    "                    model_stats[display_name] = stats\n",
    "            except Exception as e:\n",
    "                print(f\"Error loading stats for {model_key}: {e}\")\n",
    "                model_stats[display_name] = None\n",
    "        else:\n",
    "            model_stats[display_name] = None\n",
    "    \n",
    "    return model_results, model_stats\n",
    "\n",
    "# Set up directories\n",
    "results_dir = Path.cwd().parent / \"results\"\n",
    "visualizations_dir = results_dir / \"visualizations\"\n",
    "visualizations_dir.mkdir(exist_ok=True, parents=True)\n",
    "\n",
    "print(f\"Results directory: {results_dir}\")\n",
    "print(f\"Visualizations output: {visualizations_dir}\")\n",
    "print(f\"Available result directories:\")\n",
    "for d in results_dir.glob(\"*_explanation_comparison\"):\n",
    "    print(f\"  - {d.name}\")"
   ]
  },
  {
   "cell_type": "markdown",
   "id": "e38a672b",
   "metadata": {},
   "source": [
    "## 2. Load Model Results\n",
    "\n",
    "Load explanation comparison results from all models and extract performance metrics."
   ]
  },
  {
   "cell_type": "code",
   "execution_count": 2,
   "id": "44990708",
   "metadata": {},
   "outputs": [
    {
     "name": "stdout",
     "output_type": "stream",
     "text": [
      "Loading model results...\n"
     ]
    },
    {
     "name": "stdout",
     "output_type": "stream",
     "text": [
      "\n",
      "Loaded results for 6 models:\n",
      "  - Gemma-3-4B-IT\n",
      "  - Qwen3-4B\n",
      "  - Gemma-3-12B-IT\n",
      "  - Gemma-3-27B-IT\n",
      "  - Qwen3-14B\n",
      "  - Qwen3-32B\n",
      "\n",
      "Token usage statistics available for 6 models:\n",
      "  - Gemma-3-4B-IT: ['DefaultExplainer']\n",
      "  - Qwen3-4B: ['DefaultExplainer']\n",
      "  - Gemma-3-12B-IT: ['DefaultExplainer']\n",
      "  - Gemma-3-27B-IT: ['DefaultExplainer']\n",
      "  - Qwen3-14B: ['DefaultExplainer']\n",
      "  - Qwen3-32B: ['DefaultExplainer']\n",
      "\n",
      "Sample metrics from Gemma-3-4B-IT:\n",
      "  score_type  accuracy  f1_score  precision  recall\n",
      "0       fuzz     0.501     0.624      0.500   0.828\n",
      "1  detection     0.539     0.581      0.531   0.641\n"
     ]
    }
   ],
   "source": [
    "# Load all model results and statistics\n",
    "print(\"Loading model results...\")\n",
    "model_results, model_stats = load_model_results(results_dir, MODEL_NAME_MAPPING)\n",
    "\n",
    "print(f\"\\nLoaded results for {len(model_results)} models:\")\n",
    "for model_name in model_results.keys():\n",
    "    print(f\"  - {model_name}\")\n",
    "\n",
    "print(f\"\\nToken usage statistics available for {len([k for k, v in model_stats.items() if v is not None])} models:\")\n",
    "for model_name, stats in model_stats.items():\n",
    "    if stats:\n",
    "        print(f\"  - {model_name}: {list(stats.keys())}\")\n",
    "    else:\n",
    "        print(f\"  - {model_name}: No stats available\")\n",
    "\n",
    "# Display sample metrics for the first model\n",
    "if model_results:\n",
    "    sample_model = list(model_results.keys())[0]\n",
    "    sample_data = model_results[sample_model]['processed_df']\n",
    "    print(f\"\\nSample metrics from {sample_model}:\")\n",
    "    print(sample_data[['score_type', 'accuracy', 'f1_score', 'precision', 'recall']].round(3))"
   ]
  },
  {
   "cell_type": "markdown",
   "id": "7c4c94b4",
   "metadata": {},
   "source": [
    "## 3. Generate Accuracy Distribution Plots\n",
    "\n",
    "Create density plots showing accuracy distribution for each model and score type."
   ]
  },
  {
   "cell_type": "code",
   "execution_count": 3,
   "id": "a8faa50f",
   "metadata": {},
   "outputs": [
    {
     "name": "stdout",
     "output_type": "stream",
     "text": [
      "Generating accuracy density distribution plots...\n",
      "\n",
      "Columns in latent_df: ['text', 'distance', 'activating', 'prediction', 'probability', 'correct', 'activations', 'latent_idx', 'score_type', 'module', 'firing_count']\n",
      "Sample data shape: (31200, 11)\n",
      "Score types: ['fuzz' 'detection']\n",
      "\n",
      "Accuracy data summary:\n",
      "           accuracy                                                  f1_score  \\\n",
      "              count   mean    std    min    25%    50%    75%    max    count   \n",
      "score_type                                                                      \n",
      "detection       6.0  0.589  0.034  0.539  0.567  0.596  0.617  0.623      6.0   \n",
      "fuzz            6.0  0.592  0.053  0.501  0.569  0.607  0.632  0.637      6.0   \n",
      "\n",
      "                                                             \n",
      "             mean    std    min    25%    50%    75%    max  \n",
      "score_type                                                   \n",
      "detection   0.613  0.049  0.538  0.586  0.621  0.649  0.669  \n",
      "fuzz        0.588  0.069  0.497  0.532  0.611  0.628  0.668  \n",
      "Found 'correct' column - will calculate accuracy per latent for KDE plots\n",
      "\n",
      "Creating KDE density plot for fuzz...\n"
     ]
    },
    {
     "data": {
      "application/vnd.plotly.v1+json": {
       "config": {
        "plotlyServerURL": "https://plot.ly"
       },
       "data": [
        {
         "line": {
          "color": "lightgreen",
          "dash": "dash",
          "width": 3
         },
         "mode": "lines",
         "name": "Gemma-3-12B-IT",
         "type": "scatter",
         "x": {
          "bdata": "AAAAAAAAAABbv1Kg1q+EP1u/UqDWr5Q/CB988MEHnz9bv1Kg1q+kPzJvZ0jM26k/CB988MEHrz9wZ0jM2xmyP1u/UqDWr7Q/RhdddNFFtz8yb2dIzNu5Px3HcRzHcbw/CB988MEHvz96O0Ni3s7AP3BnSMzbGcI/ZZNNNtlkwz9bv1Kg1q/EP1HrVwrU+sU/RhdddNFFxz88Q2LezpDIPzJvZ0jM28k/J5tssskmyz8dx3Ecx3HMPxPzdobEvM0/CB988MEHzz9/pUCtXynQP3o7Q2LeztA/ddFFF1100T9wZ0jM2xnSP2r9SoFav9I/ZZNNNtlk0z9gKVDrVwrUP1u/UqDWr9Q/VlVVVVVV1T9R61cK1PrVP0yBWr9SoNY/RhdddNFF1z9BrV8pUOvXPzxDYt7OkNg/N9lkk0022T8yb2dIzNvZPy0Fav1Kgdo/J5tssskm2z8iMW9nSMzbPx3HcRzHcdw/GF100UUX3T8T83aGxLzdPw6JeTtDYt4/CB988MEH3z8DtX6lQK3fP3+lQK1fKeA/ffDBBx984D96O0Ni3s7gP3eGxLydIeE/ddFFF1104T9yHMdxHMfhP3BnSMzbGeI/bbLJJpts4j9q/UqBWr/iP2hIzNsZEuM/ZZNNNtlk4z9j3s6QmLfjP2ApUOtXCuQ/XnTRRRdd5D9bv1Kg1q/kP1gK1PqVAuU/VlVVVVVV5T9ToNavFKjlP1HrVwrU+uU/TjbZZJNN5j9MgVq/UqDmP0nM2xkS8+Y/RhdddNFF5z9EYt7OkJjnP0GtXylQ6+c/P/jggw8+6D88Q2LezpDoPzmO4ziO4+g/N9lkk0026T80JObtDInpPzJvZ0jM2+k/L7rooosu6j8tBWr9SoHqPypQ61cK1Oo/J5tssskm6z8l5u0MiXnrPyIxb2dIzOs/IHzwwQcf7D8dx3Ecx3HsPxsS83aGxOw/GF100UUX7T8VqPUrBWrtPxPzdobEvO0/ED744IMP7j8OiXk7Q2LuPwvU+pUCte4/CB988MEH7z8Gav1KgVrvPwO1fqVAre8/AAAAAAAA8D8=",
          "dtype": "f8"
         },
         "y": {
          "bdata": "SpwaDeM/vjunxjAAVQjqO2tz4MocfBU8mdWxCjYBQTxg6x4WktBpPNyPm/S9ypI8u/J9Pz49ujxjDy0kupHhPEtXjLvNkAY9psjbLFDMKz0hIVydI2xQPfIX9R+anHI9tgIjGIE7lD2LaHEcDBm1PeLoCN69GtU9kvbGD6BA9D3d/icNNqUSPvmnpdUweDA+9MBd4rTqSz52h57hNrRmPuozMx49uIE+vyC2SNaLmj7C0XpuORazPu1bCPJcWco+CLdaNWR24T6Tj4nKPjr2PvkPRBD5LAs/WEXQjcPrHz8Cc0f+KwQyP8PkfNbIjEM/QUaDuotmVD9tgf8I9XpkPzosqs4aynM/zuVh4j1qgj+cgs1iP4OQP4KYqVN2jpw/x8yFW1TUpz8+/Isl5TSzP1nDGakU770/gEp01GSTxj9gzyA7M3/QP8Cf620uY9c/Zd09H+AZ4D+FQ71j/Y7lP3eguYDwGuw/GVfrsOfb8T8PMKvatib2P7rIByUw2Po/9TIWgT/R/z8eoWVuOXUCQC7wpjXX+gRAnOKI3UJgB0CVlGfslosJQH4Oz6P/YwtAdDc9JbrTDEBC4WDBNsoNQJUh01wlPg5AsPel8w8vDkB1N1l+EKYNQCfJDbc4tQxA67KHKnh1C0AoIfk1KwMKQBBCdP7qeQhAvhwslYvwBkAIWgtdS3YFQLhw1YP4EQRAyPfwikjDAkD4qvP28oUBQA4dpOKNVQBANCZ4RdBh/j+Ul+0yizf8Pz2tzybaPPo/Nv2AkWmG+D/M78uE0iX3P1yKW4GaIvY/aOqa+c519T8NaLw2xQn1P8QMe2wqvvQ/eabGpS5v9D/iISkKo/3zPy0gvh2qVfM/UVtZHyFy8j+xsgFC/1vxP6o9OIYpJvA/ClV9t3vO7T+xLw2Om2brP01ZQ8yZLuk/CFmMtXYu5z9XDliWOV7lP5FUNbboq+M/9ldg9xAD4j83JXL9alPgP+b43EDsKd0/cug00AKS2T8xaIxJOfHVP/gICSMFY9I/vezhs5kKzj/unuQ1K+XHPxdM26xpfMI/xkvmsLTKuz8=",
          "dtype": "f8"
         }
        },
        {
         "line": {
          "color": "lightgreen",
          "dash": "dot",
          "width": 3
         },
         "mode": "lines",
         "name": "Gemma-3-27B-IT",
         "type": "scatter",
         "x": {
          "bdata": "AAAAAAAAAABbv1Kg1q+EP1u/UqDWr5Q/CB988MEHnz9bv1Kg1q+kPzJvZ0jM26k/CB988MEHrz9wZ0jM2xmyP1u/UqDWr7Q/RhdddNFFtz8yb2dIzNu5Px3HcRzHcbw/CB988MEHvz96O0Ni3s7AP3BnSMzbGcI/ZZNNNtlkwz9bv1Kg1q/EP1HrVwrU+sU/RhdddNFFxz88Q2LezpDIPzJvZ0jM28k/J5tssskmyz8dx3Ecx3HMPxPzdobEvM0/CB988MEHzz9/pUCtXynQP3o7Q2LeztA/ddFFF1100T9wZ0jM2xnSP2r9SoFav9I/ZZNNNtlk0z9gKVDrVwrUP1u/UqDWr9Q/VlVVVVVV1T9R61cK1PrVP0yBWr9SoNY/RhdddNFF1z9BrV8pUOvXPzxDYt7OkNg/N9lkk0022T8yb2dIzNvZPy0Fav1Kgdo/J5tssskm2z8iMW9nSMzbPx3HcRzHcdw/GF100UUX3T8T83aGxLzdPw6JeTtDYt4/CB988MEH3z8DtX6lQK3fP3+lQK1fKeA/ffDBBx984D96O0Ni3s7gP3eGxLydIeE/ddFFF1104T9yHMdxHMfhP3BnSMzbGeI/bbLJJpts4j9q/UqBWr/iP2hIzNsZEuM/ZZNNNtlk4z9j3s6QmLfjP2ApUOtXCuQ/XnTRRRdd5D9bv1Kg1q/kP1gK1PqVAuU/VlVVVVVV5T9ToNavFKjlP1HrVwrU+uU/TjbZZJNN5j9MgVq/UqDmP0nM2xkS8+Y/RhdddNFF5z9EYt7OkJjnP0GtXylQ6+c/P/jggw8+6D88Q2LezpDoPzmO4ziO4+g/N9lkk0026T80JObtDInpPzJvZ0jM2+k/L7rooosu6j8tBWr9SoHqPypQ61cK1Oo/J5tssskm6z8l5u0MiXnrPyIxb2dIzOs/IHzwwQcf7D8dx3Ecx3HsPxsS83aGxOw/GF100UUX7T8VqPUrBWrtPxPzdobEvO0/ED744IMP7j8OiXk7Q2LuPwvU+pUCte4/CB988MEH7z8Gav1KgVrvPwO1fqVAre8/AAAAAAAA8D8=",
          "dtype": "f8"
         },
         "y": {
          "bdata": "fdXOSga/UT4Qbl9BYIZkPo99YQL/N3c+TgisQm+xiT7oYzE2TtCbPpZRe2Vpda0+0eGY+8KHvj6MSwYwEffOPvOojI5evd4+nx48epDf7T5tMS2Uw2z8PsAXcXmafAo/bjCW8MEsGD/M0JUOB54lP60aQypk8TI/zpSrjmBFQD9ZXltdEGhLP1S6/OdDo1Y/G9d8dFZYYj87AsXHDS5tP8sx0+1+yHY/W4BDdFR4gT898As1QVKKP38rpjXBfJM/89lgsHhenD8/qBvL+k6kP0TW4uM4m6w/MGXmcPfTsz8IjzIvPw+7P9++l2uuLsI/DTdt5VoRyD9989SC/2LPP2gWyZ6hKtQ/T9vuLz+K2T+KqZ5uvuHfP0i8myy2neM/PkUWdxHM5z/wQp1xkXbsP1rmx3iZyPA/zLvCJWyE8z9Je2oVqWH2P6J9JnP/T/k/daYNR4Q8/D/iZNfqmxL/P3wqjq6P3gBAkpkqHdMTAkCOM+z86x8DQHhfKUZS+wNAFtsBEaOgBEDLMy+1+QwFQCXHlAgZQAVAqL0vlWE8BUC3LBuTlgYFQITdLch3pQRAgGuExjkhBEDPS4ZC6IIDQM/+knK/0wJA1F8+wIkcAkCjutGYDmUBQMKBu9qdswBA7xdKIcEMAEAi3731Meb+P1e9WQbQzv0/dzLrg5LR/D+c3xM+Fer7P61MC8pAEvs/UrLCokhD+j/A/LP+o3b5Pw9mpVfnpvg/84uxO2rQ9z9F+1yzrPH2P7pI1Oh3C/Y/EVgVZr0g9T/DhtgpPjb0P+7uD38GUvM/40/wBc168j9MTwFDQ7fxP1CJ9xdlDfE/WvTgf9OB8D/ru882RhfwP9xenzo/nO8/LVPwbFtI7z+d6TCpQynvP0BQkj+LMO8/Yi1xTd5L7z9DENN+XWbvP5mOPvZSau8/xwVLkRZD7z+NJmaZ7N7uP/yxjwqmMO4/tNfIws4w7T/U4WoERN7rP7pVlIwiPuo/rTkHShNb6D8r5pD/E0TmP5Gg47HpCuQ//S8m6XLC4T+zkU1qHfreP2rHpVSIlto/siqSs4511j8=",
          "dtype": "f8"
         }
        },
        {
         "line": {
          "color": "lightgreen",
          "dash": "solid",
          "width": 3
         },
         "mode": "lines",
         "name": "Gemma-3-4B-IT",
         "type": "scatter",
         "x": {
          "bdata": "AAAAAAAAAABbv1Kg1q+EP1u/UqDWr5Q/CB988MEHnz9bv1Kg1q+kPzJvZ0jM26k/CB988MEHrz9wZ0jM2xmyP1u/UqDWr7Q/RhdddNFFtz8yb2dIzNu5Px3HcRzHcbw/CB988MEHvz96O0Ni3s7AP3BnSMzbGcI/ZZNNNtlkwz9bv1Kg1q/EP1HrVwrU+sU/RhdddNFFxz88Q2LezpDIPzJvZ0jM28k/J5tssskmyz8dx3Ecx3HMPxPzdobEvM0/CB988MEHzz9/pUCtXynQP3o7Q2LeztA/ddFFF1100T9wZ0jM2xnSP2r9SoFav9I/ZZNNNtlk0z9gKVDrVwrUP1u/UqDWr9Q/VlVVVVVV1T9R61cK1PrVP0yBWr9SoNY/RhdddNFF1z9BrV8pUOvXPzxDYt7OkNg/N9lkk0022T8yb2dIzNvZPy0Fav1Kgdo/J5tssskm2z8iMW9nSMzbPx3HcRzHcdw/GF100UUX3T8T83aGxLzdPw6JeTtDYt4/CB988MEH3z8DtX6lQK3fP3+lQK1fKeA/ffDBBx984D96O0Ni3s7gP3eGxLydIeE/ddFFF1104T9yHMdxHMfhP3BnSMzbGeI/bbLJJpts4j9q/UqBWr/iP2hIzNsZEuM/ZZNNNtlk4z9j3s6QmLfjP2ApUOtXCuQ/XnTRRRdd5D9bv1Kg1q/kP1gK1PqVAuU/VlVVVVVV5T9ToNavFKjlP1HrVwrU+uU/TjbZZJNN5j9MgVq/UqDmP0nM2xkS8+Y/RhdddNFF5z9EYt7OkJjnP0GtXylQ6+c/P/jggw8+6D88Q2LezpDoPzmO4ziO4+g/N9lkk0026T80JObtDInpPzJvZ0jM2+k/L7rooosu6j8tBWr9SoHqPypQ61cK1Oo/J5tssskm6z8l5u0MiXnrPyIxb2dIzOs/IHzwwQcf7D8dx3Ecx3HsPxsS83aGxOw/GF100UUX7T8VqPUrBWrtPxPzdobEvO0/ED744IMP7j8OiXk7Q2LuPwvU+pUCte4/CB988MEH7z8Gav1KgVrvPwO1fqVAre8/AAAAAAAA8D8=",
          "dtype": "f8"
         },
         "y": {
          "bdata": "8pj6pQhUWS+0Qd3OTn4jMLQPeY6/M+gwQ7TeZZw8qDGzq87nwJNjMntysrWKghkzdOCXmsbPyjNVqBCUxbp2NORC4huiFR81ydni1vMkwTVHxSpaBYJeNlCijHDm5PU2qdyRU9pYiTc6dBFfTKsXOFq/Tu/Y06E4CYR5PkqpJTkpX5oZpzqlOYbRkvYXyCA6RzhA9XpmlTp77EZtFwMGO2kytuYoQ3I7KntVJSdx2DslfNwUzGI6PD3Gn5e2+ZY8Yh9wH/oi8DzuqiStfkhCPcvKrq6OtZA9VzjB8rui2D2HhLTXxUwdPnSkFbG6HFw+PSMMolXDlT4Il+RuEzLLPjIEwzLZcfs+3LvcPHRkJj/usDRaPpxNPz5f2Eck328/Rt9OqjYrjD8f70RJIcekPz7g0TBrTbo/Np5jkyG5zT+8rOB4eDLfPzvbPmkp9e4/1+yw8o+v/D+nYt96ZzgIQBSchmjXXBJATIBLJGsRGUCflv6mUEofQL4OiR2WKiJArE+drCHFI0CDBAuJFQskQFnbClxisiJAkMuqiq3dH0D5QVjWQ/kYQKZhUZGhaRJAyUZuiAlfCkD1xn5Eqd8CQAJ+6mGWmvs/EnFAFcs09T/6yvtRg5zxPx9qG7BqY+8/ZHs2ximE7D+4079QICDpPz+VqinbK+U/rQivkzRs4T81OriIndHcPxtRluUY3tc/r/5oG7vh0j9VCX9YaNvKP1OiCkYDc8A/9MgoShR8sT8Niq+syw6kP35dCIemEKY/qLniMvwVtD9DBecxJ5jBP7RzqFDhe8k/rPf8JUjdzT+tGwnUXj3MP4LXoPAxisU/EyOUHQOBuj9DzNnAAk6qP1rT6vTGDpU/G5R2Dasxez/TpaqPh1NcP3AfsAuRzDc/H2BsXdAgED+cNvaIuKHhPm2t9x9IGK8+njQ/L7Iddj729CN+C2A5Prm2e37Re/c9lHyIR6GHsT2k9sZA9xtlPeFdhnzUgBQ9eLLsKCEQwDwB9mxJCE1kPFriGLzVsQQ8nbJlTxQEoTsW0Ejf/5E2O0rMNNDHJcg6fsrKaKDWVDo=",
          "dtype": "f8"
         }
        },
        {
         "line": {
          "color": "lightcoral",
          "dash": "solid",
          "width": 3
         },
         "mode": "lines",
         "name": "Qwen3-14B",
         "type": "scatter",
         "x": {
          "bdata": "AAAAAAAAAABbv1Kg1q+EP1u/UqDWr5Q/CB988MEHnz9bv1Kg1q+kPzJvZ0jM26k/CB988MEHrz9wZ0jM2xmyP1u/UqDWr7Q/RhdddNFFtz8yb2dIzNu5Px3HcRzHcbw/CB988MEHvz96O0Ni3s7AP3BnSMzbGcI/ZZNNNtlkwz9bv1Kg1q/EP1HrVwrU+sU/RhdddNFFxz88Q2LezpDIPzJvZ0jM28k/J5tssskmyz8dx3Ecx3HMPxPzdobEvM0/CB988MEHzz9/pUCtXynQP3o7Q2LeztA/ddFFF1100T9wZ0jM2xnSP2r9SoFav9I/ZZNNNtlk0z9gKVDrVwrUP1u/UqDWr9Q/VlVVVVVV1T9R61cK1PrVP0yBWr9SoNY/RhdddNFF1z9BrV8pUOvXPzxDYt7OkNg/N9lkk0022T8yb2dIzNvZPy0Fav1Kgdo/J5tssskm2z8iMW9nSMzbPx3HcRzHcdw/GF100UUX3T8T83aGxLzdPw6JeTtDYt4/CB988MEH3z8DtX6lQK3fP3+lQK1fKeA/ffDBBx984D96O0Ni3s7gP3eGxLydIeE/ddFFF1104T9yHMdxHMfhP3BnSMzbGeI/bbLJJpts4j9q/UqBWr/iP2hIzNsZEuM/ZZNNNtlk4z9j3s6QmLfjP2ApUOtXCuQ/XnTRRRdd5D9bv1Kg1q/kP1gK1PqVAuU/VlVVVVVV5T9ToNavFKjlP1HrVwrU+uU/TjbZZJNN5j9MgVq/UqDmP0nM2xkS8+Y/RhdddNFF5z9EYt7OkJjnP0GtXylQ6+c/P/jggw8+6D88Q2LezpDoPzmO4ziO4+g/N9lkk0026T80JObtDInpPzJvZ0jM2+k/L7rooosu6j8tBWr9SoHqPypQ61cK1Oo/J5tssskm6z8l5u0MiXnrPyIxb2dIzOs/IHzwwQcf7D8dx3Ecx3HsPxsS83aGxOw/GF100UUX7T8VqPUrBWrtPxPzdobEvO0/ED744IMP7j8OiXk7Q2LuPwvU+pUCte4/CB988MEH7z8Gav1KgVrvPwO1fqVAre8/AAAAAAAA8D8=",
          "dtype": "f8"
         },
         "y": {
          "bdata": "35kOTObMgj0ldr//UbegPVEZDsa1vbw9vHeqms3j1z0VlL1fMjPzPT9S1SsM1w0+TDbP6sFrJj5RyjqrCUpAPkZGyGTl4lY+QKuA0MAXbz69jrldb2yEPtevk8UV8pk+xzWqD9vfrz6NXsyNOu/CPhxEilCIwdU+JI83T3kt6D7jQbCVLv35PkraRAILBgs/wXpBJzovGz8U29QClnUqP5yai5AQ7Dg/CrcFh424Rj++KLyk5A1UP45PJpFbJGE/6dYZFkBkbD9DZ0QHP8p2PyRy6tY+voE/r25REXPRij/Z6Pu0o7GTPxeX2xbAJJw/ktS/pIeZoz95Itf8J6qqP5MRUnVvw7E/JyfOUmxAtz+YmA4BXQK+P6A8bZf7KsM/K9Ssze1TyD+LApytUMbOP7GKPfILcdM/b1ED1jqN2D8PndKx9fbeP5+PchAPduM/bXlnTL9P6D/MzNzHxBbuP/OBFvBcZPI/MhGZHj8n9j88NEjySD36P3TdK6BXhf4//jWOwDNrAUAM7d/1v4EDQGAEQYkycAVAYMWfzRojB0DSzxtRjIsIQHzlm08soAlA2t8kzFRdCkCYwJRTZMQKQFHlO49/2gpAfxazRyGnCkBBYMEs0TIKQJCeHNc9hglA0AVjbM6pCECPkNYZmqUHQOhGSrWagQZAJcDUdulFBUD+7TEA3/oDQN6ECKYDqQJALZx6ZtFYAUD5OCdSVxIAQDxhdTunuf0/C2V0v658+z+s1eaqAXf5PwqONXClrvc/GhACulUm9j9ims4psN30P+h5Sw2b0fM/9GYn8d388j/x1kwl2ljyP/qKtkJH3vE/TR39G9GF8T+XcWUwdkjxP0OXZ5iSH/E/dWpqOpoE8T8bliIdoPDwPyY3a+ve2/A/rg8qF3+98D8ahljuy4vwP09pv0TrPPA/R5Lt/gWQ7z+ZOA08I03uP41DjuFPq+w/Kxwx7WWt6j9u+3l6O1/oP6iNOF541OU/3Jw/szcm4z8c+6on82/gP56eZcmmmNs/f7Q7c+mk1j8Ea3/+BSjSP7bgwMJTccw/0h294N/BxT8=",
          "dtype": "f8"
         }
        },
        {
         "line": {
          "color": "lightcoral",
          "dash": "dot",
          "width": 3
         },
         "mode": "lines",
         "name": "Qwen3-32B",
         "type": "scatter",
         "x": {
          "bdata": "AAAAAAAAAABbv1Kg1q+EP1u/UqDWr5Q/CB988MEHnz9bv1Kg1q+kPzJvZ0jM26k/CB988MEHrz9wZ0jM2xmyP1u/UqDWr7Q/RhdddNFFtz8yb2dIzNu5Px3HcRzHcbw/CB988MEHvz96O0Ni3s7AP3BnSMzbGcI/ZZNNNtlkwz9bv1Kg1q/EP1HrVwrU+sU/RhdddNFFxz88Q2LezpDIPzJvZ0jM28k/J5tssskmyz8dx3Ecx3HMPxPzdobEvM0/CB988MEHzz9/pUCtXynQP3o7Q2LeztA/ddFFF1100T9wZ0jM2xnSP2r9SoFav9I/ZZNNNtlk0z9gKVDrVwrUP1u/UqDWr9Q/VlVVVVVV1T9R61cK1PrVP0yBWr9SoNY/RhdddNFF1z9BrV8pUOvXPzxDYt7OkNg/N9lkk0022T8yb2dIzNvZPy0Fav1Kgdo/J5tssskm2z8iMW9nSMzbPx3HcRzHcdw/GF100UUX3T8T83aGxLzdPw6JeTtDYt4/CB988MEH3z8DtX6lQK3fP3+lQK1fKeA/ffDBBx984D96O0Ni3s7gP3eGxLydIeE/ddFFF1104T9yHMdxHMfhP3BnSMzbGeI/bbLJJpts4j9q/UqBWr/iP2hIzNsZEuM/ZZNNNtlk4z9j3s6QmLfjP2ApUOtXCuQ/XnTRRRdd5D9bv1Kg1q/kP1gK1PqVAuU/VlVVVVVV5T9ToNavFKjlP1HrVwrU+uU/TjbZZJNN5j9MgVq/UqDmP0nM2xkS8+Y/RhdddNFF5z9EYt7OkJjnP0GtXylQ6+c/P/jggw8+6D88Q2LezpDoPzmO4ziO4+g/N9lkk0026T80JObtDInpPzJvZ0jM2+k/L7rooosu6j8tBWr9SoHqPypQ61cK1Oo/J5tssskm6z8l5u0MiXnrPyIxb2dIzOs/IHzwwQcf7D8dx3Ecx3HsPxsS83aGxOw/GF100UUX7T8VqPUrBWrtPxPzdobEvO0/ED744IMP7j8OiXk7Q2LuPwvU+pUCte4/CB988MEH7z8Gav1KgVrvPwO1fqVAre8/AAAAAAAA8D8=",
          "dtype": "f8"
         },
         "y": {
          "bdata": "OM6OgkHGSj34PjL/88VoPWu/i5c5OYY93BqIf2xUoz14ARtjU03APRURwFq6qdo9YqYqIeIk9T1q4+Gss0IQPp1r1OpWQSg+/hnv86yLQT4wyOSqI59YPlkKZIQZwnA+ahnVMIchhj51TUkXPlucPgpWs92+oLE+LNHVdBlFxT6L/EfnDOnYPnhs13VFUuw+AMG3UqpD/z51gfaTQcIQP8Oty4XVcyE/R67/LMOoMT/BpJc1z11BP0WUgk+cmlA/zWp5jtngXj9SYfIVQe9rP6gWpdvgmHg/TcRWTgIXhT/NyC5gvJ2RPwuFgEcUr5w/6pafhsrFpj8AozwfsqOxP2/8cUa3rLo/Ypa/hHaywz/AbxfJ52vMP/hO2SDECtQ/yQgp9Raj2z+L6xjHx6LiP628xO2Jleg/7now/Au67z/GTlJ3Rwf0P+/f1Yv6vPg/+IwhYdnj/T9nzBPLiqkBQMufDxwdagRAfXxWmAcTB0AderdvvoAJQM/LbYwFkAtAlln1NZohDUBMEYaevx0OQLi4UGocdw5AVVMVYWssDkC5C500skgNQClqHx704QtA0NfUHZsWCkDTTxNLCQoIQCwWhqrf4AVA3bDXF4W9A0DgNQZCWr0BQPaZvoy07f8/pKBRnG7x/D9QXf8WtpP6P31pZwU11Pg/P7F66Mem9z8e0Z5pYvb2PwRlrPwkqPY/Jxlz8GCe9j/i2qp7Wbv2P69sL+eb4/Y/3iLLg9H/9j+Xp/Yz9/32P+ZyX1vy0fY/UIHQBYp19j/1OLvb2uf1P93ZqKppLPU/AuI1wP9J9D92eJJJfEnzP7TMfXS+NPI/D6iPMr8V8T+MPLE0xevvP/Hr3JP3uu0/9deHSOym6z/pXWDyKrrpPxnkRGSH++c/YmZO/9Zt5j/cEn310A/lPyG+C+U03OM/t+ERelHK4j+GMbwn9s7hPzLf0ZrD3eA/LAaP2mrV3z94z39sWdfdP2MzMJ54s9s/QH0w1P5j2T+8IjhEr+vWP4GxeMYXVdQ/51iBRL2w0T/Ik+GsJCXOP6qhoFZaHsk/5AdS1WRyxD8=",
          "dtype": "f8"
         }
        },
        {
         "line": {
          "color": "lightcoral",
          "dash": "solid",
          "width": 3
         },
         "mode": "lines",
         "name": "Qwen3-4B",
         "type": "scatter",
         "x": {
          "bdata": "AAAAAAAAAABbv1Kg1q+EP1u/UqDWr5Q/CB988MEHnz9bv1Kg1q+kPzJvZ0jM26k/CB988MEHrz9wZ0jM2xmyP1u/UqDWr7Q/RhdddNFFtz8yb2dIzNu5Px3HcRzHcbw/CB988MEHvz96O0Ni3s7AP3BnSMzbGcI/ZZNNNtlkwz9bv1Kg1q/EP1HrVwrU+sU/RhdddNFFxz88Q2LezpDIPzJvZ0jM28k/J5tssskmyz8dx3Ecx3HMPxPzdobEvM0/CB988MEHzz9/pUCtXynQP3o7Q2LeztA/ddFFF1100T9wZ0jM2xnSP2r9SoFav9I/ZZNNNtlk0z9gKVDrVwrUP1u/UqDWr9Q/VlVVVVVV1T9R61cK1PrVP0yBWr9SoNY/RhdddNFF1z9BrV8pUOvXPzxDYt7OkNg/N9lkk0022T8yb2dIzNvZPy0Fav1Kgdo/J5tssskm2z8iMW9nSMzbPx3HcRzHcdw/GF100UUX3T8T83aGxLzdPw6JeTtDYt4/CB988MEH3z8DtX6lQK3fP3+lQK1fKeA/ffDBBx984D96O0Ni3s7gP3eGxLydIeE/ddFFF1104T9yHMdxHMfhP3BnSMzbGeI/bbLJJpts4j9q/UqBWr/iP2hIzNsZEuM/ZZNNNtlk4z9j3s6QmLfjP2ApUOtXCuQ/XnTRRRdd5D9bv1Kg1q/kP1gK1PqVAuU/VlVVVVVV5T9ToNavFKjlP1HrVwrU+uU/TjbZZJNN5j9MgVq/UqDmP0nM2xkS8+Y/RhdddNFF5z9EYt7OkJjnP0GtXylQ6+c/P/jggw8+6D88Q2LezpDoPzmO4ziO4+g/N9lkk0026T80JObtDInpPzJvZ0jM2+k/L7rooosu6j8tBWr9SoHqPypQ61cK1Oo/J5tssskm6z8l5u0MiXnrPyIxb2dIzOs/IHzwwQcf7D8dx3Ecx3HsPxsS83aGxOw/GF100UUX7T8VqPUrBWrtPxPzdobEvO0/ED744IMP7j8OiXk7Q2LuPwvU+pUCte4/CB988MEH7z8Gav1KgVrvPwO1fqVAre8/AAAAAAAA8D8=",
          "dtype": "f8"
         },
         "y": {
          "bdata": "PlTFBD1b1j3v9azYzCb0PQzBVEP0cRE+x/RtfVwCLT7bsrElZCpHPmNpYieYxGE+DB/gQ/Mtej6lyehxjIaSPnBaPyt3L6k+dKiL8SVywD68P+tUWKLUPsofj7y33+g+HjBNjt/P/D69NYBQQwkQPyBs911TKCE/kWv9NtClMT8NPRK0V3RBP687ADXgmlA/7P9g9GxmXj9y0dj++8lqP9r9Eb8RvXY/mB86ZZ2agj+XZVJAtF6NP9D500kpZJY/+nNWlK6CoD/EcRhkzpanP4GADhv9W7A/YFKUdSQVtj9W05crtBe9P6YyO4Paw8I/aM+7gb7Jxz8bswCWPb7NP0hq5/QCaNI/MGmRdp2f1j/eHNd+m6/bPxMfat5+5eA/ukrJRTqW5D8DannalQnpP+R9qNDcXu4/zsg2ULVY8j/vTBb65gn2Pw1a3Y7tRPo/5tamhSUB/z9LmplCRBQCQHy3JCkAywRASafrK9uKB0BYCgic+jMKQM8lar1VowxACRVeR3e2DkDpCXlszicQQASHVh6yrBBAhMVkdKDkEEDdWPyNHNAQQMUcvvTqdBBA/ZRzMKK5D0CDWreG5ScOQNDQTydhTgxA1B2Qd7JFCkCJjK5dsiMIQL98agDR+gVA6yUhRynaA0A7pQHR6c0BQMdYYo14v/8/p4KI6vUt/D8MhuEmZvH4PzkSS/MpD/Y/6tIJLgCI8z+146aDm1jxP3FLLcCN9e4/nKJK9NbN6z95gZlSNSvpP6rdBXtYAec/QcD5yC9H5T9GmOhf0/XjP4sjYQT+BeM/o8pcvgBt4j8Uos1ZZBriP8OLGZZO9+E/Fgph5Tfo4T9gVFK/tNDhP8Go4NdSmOE/YlxPIhkv4T/OY1IwRpDgP1ABJ6behN8/859LdeOp3T+HJaPn5rbbP36Yeehx0dk/q6I5RmAU2D9qOMkijIrWP8sTYTwWLtU/mL9DZQbs0z+rNcEr6KrSPz2vqq1nUtE/NbL3SMyjzz/+SOhl80jMP981FqxGo8g/Wcr2+OvVxD9dQrN/Wg/BP9I6yFFX/ro/J2O68nGatD8=",
          "dtype": "f8"
         }
        }
       ],
       "layout": {
        "font": {
         "size": 12
        },
        "height": 500,
        "legend": {
         "x": 0.01,
         "xanchor": "left",
         "y": 0.99,
         "yanchor": "top"
        },
        "template": {
         "data": {
          "bar": [
           {
            "error_x": {
             "color": "#2a3f5f"
            },
            "error_y": {
             "color": "#2a3f5f"
            },
            "marker": {
             "line": {
              "color": "#E5ECF6",
              "width": 0.5
             },
             "pattern": {
              "fillmode": "overlay",
              "size": 10,
              "solidity": 0.2
             }
            },
            "type": "bar"
           }
          ],
          "barpolar": [
           {
            "marker": {
             "line": {
              "color": "#E5ECF6",
              "width": 0.5
             },
             "pattern": {
              "fillmode": "overlay",
              "size": 10,
              "solidity": 0.2
             }
            },
            "type": "barpolar"
           }
          ],
          "carpet": [
           {
            "aaxis": {
             "endlinecolor": "#2a3f5f",
             "gridcolor": "white",
             "linecolor": "white",
             "minorgridcolor": "white",
             "startlinecolor": "#2a3f5f"
            },
            "baxis": {
             "endlinecolor": "#2a3f5f",
             "gridcolor": "white",
             "linecolor": "white",
             "minorgridcolor": "white",
             "startlinecolor": "#2a3f5f"
            },
            "type": "carpet"
           }
          ],
          "choropleth": [
           {
            "colorbar": {
             "outlinewidth": 0,
             "ticks": ""
            },
            "type": "choropleth"
           }
          ],
          "contour": [
           {
            "colorbar": {
             "outlinewidth": 0,
             "ticks": ""
            },
            "colorscale": [
             [
              0,
              "#0d0887"
             ],
             [
              0.1111111111111111,
              "#46039f"
             ],
             [
              0.2222222222222222,
              "#7201a8"
             ],
             [
              0.3333333333333333,
              "#9c179e"
             ],
             [
              0.4444444444444444,
              "#bd3786"
             ],
             [
              0.5555555555555556,
              "#d8576b"
             ],
             [
              0.6666666666666666,
              "#ed7953"
             ],
             [
              0.7777777777777778,
              "#fb9f3a"
             ],
             [
              0.8888888888888888,
              "#fdca26"
             ],
             [
              1,
              "#f0f921"
             ]
            ],
            "type": "contour"
           }
          ],
          "contourcarpet": [
           {
            "colorbar": {
             "outlinewidth": 0,
             "ticks": ""
            },
            "type": "contourcarpet"
           }
          ],
          "heatmap": [
           {
            "colorbar": {
             "outlinewidth": 0,
             "ticks": ""
            },
            "colorscale": [
             [
              0,
              "#0d0887"
             ],
             [
              0.1111111111111111,
              "#46039f"
             ],
             [
              0.2222222222222222,
              "#7201a8"
             ],
             [
              0.3333333333333333,
              "#9c179e"
             ],
             [
              0.4444444444444444,
              "#bd3786"
             ],
             [
              0.5555555555555556,
              "#d8576b"
             ],
             [
              0.6666666666666666,
              "#ed7953"
             ],
             [
              0.7777777777777778,
              "#fb9f3a"
             ],
             [
              0.8888888888888888,
              "#fdca26"
             ],
             [
              1,
              "#f0f921"
             ]
            ],
            "type": "heatmap"
           }
          ],
          "histogram": [
           {
            "marker": {
             "pattern": {
              "fillmode": "overlay",
              "size": 10,
              "solidity": 0.2
             }
            },
            "type": "histogram"
           }
          ],
          "histogram2d": [
           {
            "colorbar": {
             "outlinewidth": 0,
             "ticks": ""
            },
            "colorscale": [
             [
              0,
              "#0d0887"
             ],
             [
              0.1111111111111111,
              "#46039f"
             ],
             [
              0.2222222222222222,
              "#7201a8"
             ],
             [
              0.3333333333333333,
              "#9c179e"
             ],
             [
              0.4444444444444444,
              "#bd3786"
             ],
             [
              0.5555555555555556,
              "#d8576b"
             ],
             [
              0.6666666666666666,
              "#ed7953"
             ],
             [
              0.7777777777777778,
              "#fb9f3a"
             ],
             [
              0.8888888888888888,
              "#fdca26"
             ],
             [
              1,
              "#f0f921"
             ]
            ],
            "type": "histogram2d"
           }
          ],
          "histogram2dcontour": [
           {
            "colorbar": {
             "outlinewidth": 0,
             "ticks": ""
            },
            "colorscale": [
             [
              0,
              "#0d0887"
             ],
             [
              0.1111111111111111,
              "#46039f"
             ],
             [
              0.2222222222222222,
              "#7201a8"
             ],
             [
              0.3333333333333333,
              "#9c179e"
             ],
             [
              0.4444444444444444,
              "#bd3786"
             ],
             [
              0.5555555555555556,
              "#d8576b"
             ],
             [
              0.6666666666666666,
              "#ed7953"
             ],
             [
              0.7777777777777778,
              "#fb9f3a"
             ],
             [
              0.8888888888888888,
              "#fdca26"
             ],
             [
              1,
              "#f0f921"
             ]
            ],
            "type": "histogram2dcontour"
           }
          ],
          "mesh3d": [
           {
            "colorbar": {
             "outlinewidth": 0,
             "ticks": ""
            },
            "type": "mesh3d"
           }
          ],
          "parcoords": [
           {
            "line": {
             "colorbar": {
              "outlinewidth": 0,
              "ticks": ""
             }
            },
            "type": "parcoords"
           }
          ],
          "pie": [
           {
            "automargin": true,
            "type": "pie"
           }
          ],
          "scatter": [
           {
            "fillpattern": {
             "fillmode": "overlay",
             "size": 10,
             "solidity": 0.2
            },
            "type": "scatter"
           }
          ],
          "scatter3d": [
           {
            "line": {
             "colorbar": {
              "outlinewidth": 0,
              "ticks": ""
             }
            },
            "marker": {
             "colorbar": {
              "outlinewidth": 0,
              "ticks": ""
             }
            },
            "type": "scatter3d"
           }
          ],
          "scattercarpet": [
           {
            "marker": {
             "colorbar": {
              "outlinewidth": 0,
              "ticks": ""
             }
            },
            "type": "scattercarpet"
           }
          ],
          "scattergeo": [
           {
            "marker": {
             "colorbar": {
              "outlinewidth": 0,
              "ticks": ""
             }
            },
            "type": "scattergeo"
           }
          ],
          "scattergl": [
           {
            "marker": {
             "colorbar": {
              "outlinewidth": 0,
              "ticks": ""
             }
            },
            "type": "scattergl"
           }
          ],
          "scattermap": [
           {
            "marker": {
             "colorbar": {
              "outlinewidth": 0,
              "ticks": ""
             }
            },
            "type": "scattermap"
           }
          ],
          "scattermapbox": [
           {
            "marker": {
             "colorbar": {
              "outlinewidth": 0,
              "ticks": ""
             }
            },
            "type": "scattermapbox"
           }
          ],
          "scatterpolar": [
           {
            "marker": {
             "colorbar": {
              "outlinewidth": 0,
              "ticks": ""
             }
            },
            "type": "scatterpolar"
           }
          ],
          "scatterpolargl": [
           {
            "marker": {
             "colorbar": {
              "outlinewidth": 0,
              "ticks": ""
             }
            },
            "type": "scatterpolargl"
           }
          ],
          "scatterternary": [
           {
            "marker": {
             "colorbar": {
              "outlinewidth": 0,
              "ticks": ""
             }
            },
            "type": "scatterternary"
           }
          ],
          "surface": [
           {
            "colorbar": {
             "outlinewidth": 0,
             "ticks": ""
            },
            "colorscale": [
             [
              0,
              "#0d0887"
             ],
             [
              0.1111111111111111,
              "#46039f"
             ],
             [
              0.2222222222222222,
              "#7201a8"
             ],
             [
              0.3333333333333333,
              "#9c179e"
             ],
             [
              0.4444444444444444,
              "#bd3786"
             ],
             [
              0.5555555555555556,
              "#d8576b"
             ],
             [
              0.6666666666666666,
              "#ed7953"
             ],
             [
              0.7777777777777778,
              "#fb9f3a"
             ],
             [
              0.8888888888888888,
              "#fdca26"
             ],
             [
              1,
              "#f0f921"
             ]
            ],
            "type": "surface"
           }
          ],
          "table": [
           {
            "cells": {
             "fill": {
              "color": "#EBF0F8"
             },
             "line": {
              "color": "white"
             }
            },
            "header": {
             "fill": {
              "color": "#C8D4E3"
             },
             "line": {
              "color": "white"
             }
            },
            "type": "table"
           }
          ]
         },
         "layout": {
          "annotationdefaults": {
           "arrowcolor": "#2a3f5f",
           "arrowhead": 0,
           "arrowwidth": 1
          },
          "autotypenumbers": "strict",
          "coloraxis": {
           "colorbar": {
            "outlinewidth": 0,
            "ticks": ""
           }
          },
          "colorscale": {
           "diverging": [
            [
             0,
             "#8e0152"
            ],
            [
             0.1,
             "#c51b7d"
            ],
            [
             0.2,
             "#de77ae"
            ],
            [
             0.3,
             "#f1b6da"
            ],
            [
             0.4,
             "#fde0ef"
            ],
            [
             0.5,
             "#f7f7f7"
            ],
            [
             0.6,
             "#e6f5d0"
            ],
            [
             0.7,
             "#b8e186"
            ],
            [
             0.8,
             "#7fbc41"
            ],
            [
             0.9,
             "#4d9221"
            ],
            [
             1,
             "#276419"
            ]
           ],
           "sequential": [
            [
             0,
             "#0d0887"
            ],
            [
             0.1111111111111111,
             "#46039f"
            ],
            [
             0.2222222222222222,
             "#7201a8"
            ],
            [
             0.3333333333333333,
             "#9c179e"
            ],
            [
             0.4444444444444444,
             "#bd3786"
            ],
            [
             0.5555555555555556,
             "#d8576b"
            ],
            [
             0.6666666666666666,
             "#ed7953"
            ],
            [
             0.7777777777777778,
             "#fb9f3a"
            ],
            [
             0.8888888888888888,
             "#fdca26"
            ],
            [
             1,
             "#f0f921"
            ]
           ],
           "sequentialminus": [
            [
             0,
             "#0d0887"
            ],
            [
             0.1111111111111111,
             "#46039f"
            ],
            [
             0.2222222222222222,
             "#7201a8"
            ],
            [
             0.3333333333333333,
             "#9c179e"
            ],
            [
             0.4444444444444444,
             "#bd3786"
            ],
            [
             0.5555555555555556,
             "#d8576b"
            ],
            [
             0.6666666666666666,
             "#ed7953"
            ],
            [
             0.7777777777777778,
             "#fb9f3a"
            ],
            [
             0.8888888888888888,
             "#fdca26"
            ],
            [
             1,
             "#f0f921"
            ]
           ]
          },
          "colorway": [
           "#636efa",
           "#EF553B",
           "#00cc96",
           "#ab63fa",
           "#FFA15A",
           "#19d3f3",
           "#FF6692",
           "#B6E880",
           "#FF97FF",
           "#FECB52"
          ],
          "font": {
           "color": "#2a3f5f"
          },
          "geo": {
           "bgcolor": "white",
           "lakecolor": "white",
           "landcolor": "#E5ECF6",
           "showlakes": true,
           "showland": true,
           "subunitcolor": "white"
          },
          "hoverlabel": {
           "align": "left"
          },
          "hovermode": "closest",
          "mapbox": {
           "style": "light"
          },
          "paper_bgcolor": "white",
          "plot_bgcolor": "#E5ECF6",
          "polar": {
           "angularaxis": {
            "gridcolor": "white",
            "linecolor": "white",
            "ticks": ""
           },
           "bgcolor": "#E5ECF6",
           "radialaxis": {
            "gridcolor": "white",
            "linecolor": "white",
            "ticks": ""
           }
          },
          "scene": {
           "xaxis": {
            "backgroundcolor": "#E5ECF6",
            "gridcolor": "white",
            "gridwidth": 2,
            "linecolor": "white",
            "showbackground": true,
            "ticks": "",
            "zerolinecolor": "white"
           },
           "yaxis": {
            "backgroundcolor": "#E5ECF6",
            "gridcolor": "white",
            "gridwidth": 2,
            "linecolor": "white",
            "showbackground": true,
            "ticks": "",
            "zerolinecolor": "white"
           },
           "zaxis": {
            "backgroundcolor": "#E5ECF6",
            "gridcolor": "white",
            "gridwidth": 2,
            "linecolor": "white",
            "showbackground": true,
            "ticks": "",
            "zerolinecolor": "white"
           }
          },
          "shapedefaults": {
           "line": {
            "color": "#2a3f5f"
           }
          },
          "ternary": {
           "aaxis": {
            "gridcolor": "white",
            "linecolor": "white",
            "ticks": ""
           },
           "baxis": {
            "gridcolor": "white",
            "linecolor": "white",
            "ticks": ""
           },
           "bgcolor": "#E5ECF6",
           "caxis": {
            "gridcolor": "white",
            "linecolor": "white",
            "ticks": ""
           }
          },
          "title": {
           "x": 0.05
          },
          "xaxis": {
           "automargin": true,
           "gridcolor": "white",
           "linecolor": "white",
           "ticks": "",
           "title": {
            "standoff": 15
           },
           "zerolinecolor": "white",
           "zerolinewidth": 2
          },
          "yaxis": {
           "automargin": true,
           "gridcolor": "white",
           "linecolor": "white",
           "ticks": "",
           "title": {
            "standoff": 15
           },
           "zerolinecolor": "white",
           "zerolinewidth": 2
          }
         }
        },
        "title": {
         "text": "Accuracy Density Distribution - Fuzz"
        },
        "xaxis": {
         "title": {
          "text": "Accuracy"
         }
        },
        "yaxis": {
         "title": {
          "text": "Density"
         }
        }
       }
      }
     },
     "metadata": {},
     "output_type": "display_data"
    },
    {
     "name": "stderr",
     "output_type": "stream",
     "text": [
      "/tmp/ipykernel_2948616/3044660486.py:143: DeprecationWarning:\n",
      "\n",
      "\n",
      "Support for Kaleido versions less than 1.0.0 is deprecated and will be removed after September 2025.\n",
      "Please upgrade Kaleido to version 1.0.0 or greater (`pip install 'kaleido>=1.0.0'` or `pip install 'plotly[kaleido]'`).\n",
      "\n",
      "\n",
      "/tmp/ipykernel_2948616/3044660486.py:144: DeprecationWarning:\n",
      "\n",
      "\n",
      "Support for Kaleido versions less than 1.0.0 is deprecated and will be removed after September 2025.\n",
      "Please upgrade Kaleido to version 1.0.0 or greater (`pip install 'kaleido>=1.0.0'` or `pip install 'plotly[kaleido]'`).\n",
      "\n",
      "\n",
      "/tmp/ipykernel_2948616/3044660486.py:144: DeprecationWarning:\n",
      "\n",
      "\n",
      "Support for Kaleido versions less than 1.0.0 is deprecated and will be removed after September 2025.\n",
      "Please upgrade Kaleido to version 1.0.0 or greater (`pip install 'kaleido>=1.0.0'` or `pip install 'plotly[kaleido]'`).\n",
      "\n",
      "\n"
     ]
    },
    {
     "name": "stdout",
     "output_type": "stream",
     "text": [
      "Saved KDE density plot: /home/jeremias/projects/delphi-explanations/results/visualizations/accuracy_density_fuzz.pdf\n",
      "Saved KDE density plot: /home/jeremias/projects/delphi-explanations/results/visualizations/accuracy_density_fuzz.png\n",
      "\n",
      "Creating KDE density plot for detection...\n"
     ]
    },
    {
     "data": {
      "application/vnd.plotly.v1+json": {
       "config": {
        "plotlyServerURL": "https://plot.ly"
       },
       "data": [
        {
         "line": {
          "color": "lightgreen",
          "dash": "dash",
          "width": 3
         },
         "mode": "lines",
         "name": "Gemma-3-12B-IT",
         "type": "scatter",
         "x": {
          "bdata": "AAAAAAAAAABbv1Kg1q+EP1u/UqDWr5Q/CB988MEHnz9bv1Kg1q+kPzJvZ0jM26k/CB988MEHrz9wZ0jM2xmyP1u/UqDWr7Q/RhdddNFFtz8yb2dIzNu5Px3HcRzHcbw/CB988MEHvz96O0Ni3s7AP3BnSMzbGcI/ZZNNNtlkwz9bv1Kg1q/EP1HrVwrU+sU/RhdddNFFxz88Q2LezpDIPzJvZ0jM28k/J5tssskmyz8dx3Ecx3HMPxPzdobEvM0/CB988MEHzz9/pUCtXynQP3o7Q2LeztA/ddFFF1100T9wZ0jM2xnSP2r9SoFav9I/ZZNNNtlk0z9gKVDrVwrUP1u/UqDWr9Q/VlVVVVVV1T9R61cK1PrVP0yBWr9SoNY/RhdddNFF1z9BrV8pUOvXPzxDYt7OkNg/N9lkk0022T8yb2dIzNvZPy0Fav1Kgdo/J5tssskm2z8iMW9nSMzbPx3HcRzHcdw/GF100UUX3T8T83aGxLzdPw6JeTtDYt4/CB988MEH3z8DtX6lQK3fP3+lQK1fKeA/ffDBBx984D96O0Ni3s7gP3eGxLydIeE/ddFFF1104T9yHMdxHMfhP3BnSMzbGeI/bbLJJpts4j9q/UqBWr/iP2hIzNsZEuM/ZZNNNtlk4z9j3s6QmLfjP2ApUOtXCuQ/XnTRRRdd5D9bv1Kg1q/kP1gK1PqVAuU/VlVVVVVV5T9ToNavFKjlP1HrVwrU+uU/TjbZZJNN5j9MgVq/UqDmP0nM2xkS8+Y/RhdddNFF5z9EYt7OkJjnP0GtXylQ6+c/P/jggw8+6D88Q2LezpDoPzmO4ziO4+g/N9lkk0026T80JObtDInpPzJvZ0jM2+k/L7rooosu6j8tBWr9SoHqPypQ61cK1Oo/J5tssskm6z8l5u0MiXnrPyIxb2dIzOs/IHzwwQcf7D8dx3Ecx3HsPxsS83aGxOw/GF100UUX7T8VqPUrBWrtPxPzdobEvO0/ED744IMP7j8OiXk7Q2LuPwvU+pUCte4/CB988MEH7z8Gav1KgVrvPwO1fqVAre8/AAAAAAAA8D8=",
          "dtype": "f8"
         },
         "y": {
          "bdata": "D02MvcwjVDyVAMsqIkB6PLDjZAuKgKA8NbS3zJsDxDzSVlvshmrnPL0hB4UNbgo95qAC0c/HLD3umJUr1jxOPYAdxBIcp249cXuV3/f7jT07C6q1302sPWHt9EUjyck9U3AYy2es5j0ILfSPqT4DPuimj4briR8+vK/eP8TzOD7r8UqQOBBTPgfpDfALImw+/IE39IgNhD5/ws8xy56bPo+t7CPzYbI+/Bcs0hanxz7BTlFyIW3dPnCOF8A4tPE+0C5auEicBD8xUMUY9jgXPyo/o4dpVSk/Xo5Fh83EOj+te5abkGhLP8LrlpSdNFs/lql/uLkwaj9sW9c32XZ4P3LbnnTgLoY/ItN7vcaIkz8I9PmXR7agP7NG7JN5yqs/0oBtBdt2tj/eh0Q+aKjBPzZyGMrN/8o/klEMrxYU1D/DNmXWJQ3dP7JZNWYrcuQ/Lk+J3CP/6z+KTto3UKXyP0sueEV9KPg/POI6ILJx/j/m44uLU6gCQA1Kp+v/PQZA7v248ITKCUB70O0jyhcNQEMCTFGR7g9Ag5cTzXcOEUDFS1juRr4RQIpVN1HG+xFATkY5upHFEUATh+BvxCMRQD0NJPSfJhBA8DMJ9WnIDUDTx1YcEOsKQE0kO0Fr5wdAsE373ArrBEDPjbAOahsCQE5HaTNJKP8/XYOsnFXN+j8dgAw9ODb3P4KzZOmyY/Q/6IXW2ctK8j+T63WwiNjwP0S8PkV66u8/oaqxaX4O7z97gNkc9OnuP2TLJMfXTO8/94tJqB8G8D92jBdYsIHwP9h716HhCfE/ZTGYP12S8T/6qWrvLBHyP8dcUc8SfvI/pGLVgOfR8j8TJQg0IwbzP83NLvurFPM/yXF6DPP38j9VpMsOWKvyP+vWZny5K/I/e+Nmww548T+nMbXj5ZHwPwLxiYZG++4/7B9kq9yE7D8zOAVajNPpP3ccYhSV/eY/XnJe9Kga5D/YSk8LA0LhP/ZG1l5REd0/1u3SPBkA2D/GdQsrZmrTP8SPvBBzwc4/k3H6hqjUxz9LrcescQzCP4Lfa+Wpsro/n0iv6bdDsz8=",
          "dtype": "f8"
         }
        },
        {
         "line": {
          "color": "lightgreen",
          "dash": "dot",
          "width": 3
         },
         "mode": "lines",
         "name": "Gemma-3-27B-IT",
         "type": "scatter",
         "x": {
          "bdata": "AAAAAAAAAABbv1Kg1q+EP1u/UqDWr5Q/CB988MEHnz9bv1Kg1q+kPzJvZ0jM26k/CB988MEHrz9wZ0jM2xmyP1u/UqDWr7Q/RhdddNFFtz8yb2dIzNu5Px3HcRzHcbw/CB988MEHvz96O0Ni3s7AP3BnSMzbGcI/ZZNNNtlkwz9bv1Kg1q/EP1HrVwrU+sU/RhdddNFFxz88Q2LezpDIPzJvZ0jM28k/J5tssskmyz8dx3Ecx3HMPxPzdobEvM0/CB988MEHzz9/pUCtXynQP3o7Q2LeztA/ddFFF1100T9wZ0jM2xnSP2r9SoFav9I/ZZNNNtlk0z9gKVDrVwrUP1u/UqDWr9Q/VlVVVVVV1T9R61cK1PrVP0yBWr9SoNY/RhdddNFF1z9BrV8pUOvXPzxDYt7OkNg/N9lkk0022T8yb2dIzNvZPy0Fav1Kgdo/J5tssskm2z8iMW9nSMzbPx3HcRzHcdw/GF100UUX3T8T83aGxLzdPw6JeTtDYt4/CB988MEH3z8DtX6lQK3fP3+lQK1fKeA/ffDBBx984D96O0Ni3s7gP3eGxLydIeE/ddFFF1104T9yHMdxHMfhP3BnSMzbGeI/bbLJJpts4j9q/UqBWr/iP2hIzNsZEuM/ZZNNNtlk4z9j3s6QmLfjP2ApUOtXCuQ/XnTRRRdd5D9bv1Kg1q/kP1gK1PqVAuU/VlVVVVVV5T9ToNavFKjlP1HrVwrU+uU/TjbZZJNN5j9MgVq/UqDmP0nM2xkS8+Y/RhdddNFF5z9EYt7OkJjnP0GtXylQ6+c/P/jggw8+6D88Q2LezpDoPzmO4ziO4+g/N9lkk0026T80JObtDInpPzJvZ0jM2+k/L7rooosu6j8tBWr9SoHqPypQ61cK1Oo/J5tssskm6z8l5u0MiXnrPyIxb2dIzOs/IHzwwQcf7D8dx3Ecx3HsPxsS83aGxOw/GF100UUX7T8VqPUrBWrtPxPzdobEvO0/ED744IMP7j8OiXk7Q2LuPwvU+pUCte4/CB988MEH7z8Gav1KgVrvPwO1fqVAre8/AAAAAAAA8D8=",
          "dtype": "f8"
         },
         "y": {
          "bdata": "Sou5jyxLzTyOCaZWs9nuPGzDpJjPeQ89L6l9rdocLz1RVUL0z8tNPe4seZbfpWs9yBYdTKzbiD18MxGbNailPbPejSPcSMI9Bt8wB/jr3T0MOnKPnbr3PS513YGAPRI+j4WpRCkvKz6wJ38dr6NDPjJw9X4DhFs+ywghSWKxcj5gLilrgKKIPkhbCyDFfp8+BWY2XA6Jsz5GwdaVIIXHPgXaCqxZfds+Qj1i1Moy7z7kKUU+JDIBP3moPb/7ahI/nvcH+FosIz+OfEVeCGgzPwJUpJLaGkM/k2+gaeVMUj83G43zHxBhP7Kl1RKk+24/C9EDuZZmez/nnaj/8ZyHP/qNQvTA1ZM/r2Wel8E+oD8hCoClnfOpP8mIaeNYOLQ/GmiOoZC9vj/n6c4e4MzGP/OLqfCRgNA/5MBo7tZP1z//krLP3BHgP/ANsCein+U/nK/bJ61m7D9P1UeMJDXyP/L6Kzkny/Y/bXgOXt7d+z+LgrC9D6QAQBvnHS1PbANAt2Q/Lp8qBkD+UHat6b8IQNLsdf7TDQtAheD4lnj5DEDAy4P3rG0OQP2ZR1WEXA9AX3dZ3uu/D0A+ZYCsbZkPQKestYlN8Q5AUGSHxkTVDUBZ/Dt2HlcMQGaqfithiwpA+WXwYhmICECKF83zwmMGQHSL4+NGNARAvY04fQYOAkARk+i49wIAQJMDukvFQ/w/mzQb/qnr+D962smjuwv2P6p+pZYwqvM/3sTBDv7F8T86Fv7d61fwPwAvKJrOp+4/MGw65NZU7T8ag8yix5PsP9gUyEj9P+w/QQRS+dw17D9X5WV0NFXsP/DPtwBeg+w/SqSBsO+s7D80sAjPpcbsP7EkzMU5zew/PqEVxPnD7D+/FprHNbLsP3aemN/jn+w/pbHrxR+S7D/WHMfOSYjsP8sI5wV4euw/jLpYtKlZ7D/wp6ZryBHsP/7p+UMUjes/Abzf2kC46j/h9+LVXYbpP9owHWGz8+c/G5V0g/wG5j/Bly1Ny9DjP9s/URJLaeE/4Sn5O9HZ3T9SzIjuKfHYPwfEISqtTNQ/MspA8mkV0D8=",
          "dtype": "f8"
         }
        },
        {
         "line": {
          "color": "lightgreen",
          "dash": "solid",
          "width": 3
         },
         "mode": "lines",
         "name": "Gemma-3-4B-IT",
         "type": "scatter",
         "x": {
          "bdata": "AAAAAAAAAABbv1Kg1q+EP1u/UqDWr5Q/CB988MEHnz9bv1Kg1q+kPzJvZ0jM26k/CB988MEHrz9wZ0jM2xmyP1u/UqDWr7Q/RhdddNFFtz8yb2dIzNu5Px3HcRzHcbw/CB988MEHvz96O0Ni3s7AP3BnSMzbGcI/ZZNNNtlkwz9bv1Kg1q/EP1HrVwrU+sU/RhdddNFFxz88Q2LezpDIPzJvZ0jM28k/J5tssskmyz8dx3Ecx3HMPxPzdobEvM0/CB988MEHzz9/pUCtXynQP3o7Q2LeztA/ddFFF1100T9wZ0jM2xnSP2r9SoFav9I/ZZNNNtlk0z9gKVDrVwrUP1u/UqDWr9Q/VlVVVVVV1T9R61cK1PrVP0yBWr9SoNY/RhdddNFF1z9BrV8pUOvXPzxDYt7OkNg/N9lkk0022T8yb2dIzNvZPy0Fav1Kgdo/J5tssskm2z8iMW9nSMzbPx3HcRzHcdw/GF100UUX3T8T83aGxLzdPw6JeTtDYt4/CB988MEH3z8DtX6lQK3fP3+lQK1fKeA/ffDBBx984D96O0Ni3s7gP3eGxLydIeE/ddFFF1104T9yHMdxHMfhP3BnSMzbGeI/bbLJJpts4j9q/UqBWr/iP2hIzNsZEuM/ZZNNNtlk4z9j3s6QmLfjP2ApUOtXCuQ/XnTRRRdd5D9bv1Kg1q/kP1gK1PqVAuU/VlVVVVVV5T9ToNavFKjlP1HrVwrU+uU/TjbZZJNN5j9MgVq/UqDmP0nM2xkS8+Y/RhdddNFF5z9EYt7OkJjnP0GtXylQ6+c/P/jggw8+6D88Q2LezpDoPzmO4ziO4+g/N9lkk0026T80JObtDInpPzJvZ0jM2+k/L7rooosu6j8tBWr9SoHqPypQ61cK1Oo/J5tssskm6z8l5u0MiXnrPyIxb2dIzOs/IHzwwQcf7D8dx3Ecx3HsPxsS83aGxOw/GF100UUX7T8VqPUrBWrtPxPzdobEvO0/ED744IMP7j8OiXk7Q2LuPwvU+pUCte4/CB988MEH7z8Gav1KgVrvPwO1fqVAre8/AAAAAAAA8D8=",
          "dtype": "f8"
         },
         "y": {
          "bdata": "TDm+D21CgjQ+r3nbXeYLNQeMgaqta5I1L/lMaWQFFTa8/ahELruUNhuNhodEqxE3igGP+lAHijePCL7ffpEAOGqgczeVOnI4wE0jqh9V4TjImQ/aMXxMOe3fvSGWOrQ55oAbI5PUGDox2I5oOVd6OtXpNbxJJtg6ZA6vBKAiMzuMBWQyWjWKO+Y9/h1aBt87O5ZDG1K+LzxC5ASWxRJ8PJQaY5YQdsU8JPunaq1dDD3NFfmNCjVQPcCJ/0qjA5A9sZkyYKNeyz2+DIyYfTsEPtwH5zFz4jk+Puh7HEqrbD5ussQkgIGbPqpC6UXR4MY+4wOgGLuD8D7f9PBTjLgUP2MSwU8sozY/NpCZ1ROWVT9fHMeZtwVyP2Ah4Uefc4o/0uzGR/AkoT9V2G2Kob2zP8NrENgTVMQ/tNnOM3bf0j+eCfI4TuffP1oxr2Zw2eg//cEFrd8a8j/FbIWARBr5P50mhbvl0wBAKeYOLXwMBkBadGBxrEkMQORGxfh7qhFAH/u8wIJHFUCoiRHAInwYQF7uCAN8sxpA4eO93L5xG0BjZYAavokaQN6/TF2AQBhARKVK2xtBFUB/y+I9VloSQEzDggX4JhBAtmcvgueoDUDuB42QHkwMQN/KTc9VVAtADy3d5vr4CUApAZJOWd8HQMKuP4WOGgVAykEtpE/xAUCPF442oE39P56COcgT4PY/jNpwqiUO8T/hj67x1MLoPws78RLMg+I/tiBc8a6v3j8kK5XR/nTcP+7R3trOUNs/UJ+1ULbY2D/AumxIi1LUP0oyCSoyMs0/Neo1J3c+wj/T3UId4sKzP7bTIyNfhqI/VOkPacgKjj8Hk1kR6xB1PxoCQJP7i1k/3tWTHsLJOj+oznE2vUkYP6d4QiJrCvM+D+3BIyXQyT6YwDDw20GePjEHxA1dqm4+Zies8i7fOj6IfcvzCVwEPsg3WzuNrMo9ylkgyxo3jj1yHjpUmJdNPeqLjbqzDgk9epN3PCVYwjxW3yY7zzh3PMkIMJJDaik8yhAtx0gM2DujB7jkGqyDO/VLFjBg0ys74hyYg2UD0To=",
          "dtype": "f8"
         }
        },
        {
         "line": {
          "color": "lightcoral",
          "dash": "solid",
          "width": 3
         },
         "mode": "lines",
         "name": "Qwen3-14B",
         "type": "scatter",
         "x": {
          "bdata": "AAAAAAAAAABbv1Kg1q+EP1u/UqDWr5Q/CB988MEHnz9bv1Kg1q+kPzJvZ0jM26k/CB988MEHrz9wZ0jM2xmyP1u/UqDWr7Q/RhdddNFFtz8yb2dIzNu5Px3HcRzHcbw/CB988MEHvz96O0Ni3s7AP3BnSMzbGcI/ZZNNNtlkwz9bv1Kg1q/EP1HrVwrU+sU/RhdddNFFxz88Q2LezpDIPzJvZ0jM28k/J5tssskmyz8dx3Ecx3HMPxPzdobEvM0/CB988MEHzz9/pUCtXynQP3o7Q2LeztA/ddFFF1100T9wZ0jM2xnSP2r9SoFav9I/ZZNNNtlk0z9gKVDrVwrUP1u/UqDWr9Q/VlVVVVVV1T9R61cK1PrVP0yBWr9SoNY/RhdddNFF1z9BrV8pUOvXPzxDYt7OkNg/N9lkk0022T8yb2dIzNvZPy0Fav1Kgdo/J5tssskm2z8iMW9nSMzbPx3HcRzHcdw/GF100UUX3T8T83aGxLzdPw6JeTtDYt4/CB988MEH3z8DtX6lQK3fP3+lQK1fKeA/ffDBBx984D96O0Ni3s7gP3eGxLydIeE/ddFFF1104T9yHMdxHMfhP3BnSMzbGeI/bbLJJpts4j9q/UqBWr/iP2hIzNsZEuM/ZZNNNtlk4z9j3s6QmLfjP2ApUOtXCuQ/XnTRRRdd5D9bv1Kg1q/kP1gK1PqVAuU/VlVVVVVV5T9ToNavFKjlP1HrVwrU+uU/TjbZZJNN5j9MgVq/UqDmP0nM2xkS8+Y/RhdddNFF5z9EYt7OkJjnP0GtXylQ6+c/P/jggw8+6D88Q2LezpDoPzmO4ziO4+g/N9lkk0026T80JObtDInpPzJvZ0jM2+k/L7rooosu6j8tBWr9SoHqPypQ61cK1Oo/J5tssskm6z8l5u0MiXnrPyIxb2dIzOs/IHzwwQcf7D8dx3Ecx3HsPxsS83aGxOw/GF100UUX7T8VqPUrBWrtPxPzdobEvO0/ED744IMP7j8OiXk7Q2LuPwvU+pUCte4/CB988MEH7z8Gav1KgVrvPwO1fqVAre8/AAAAAAAA8D8=",
          "dtype": "f8"
         },
         "y": {
          "bdata": "ZBuxa2LdGT3WFnP3sMk3PQeI/8BWQlU99lluV452cj0x+spOqyqPPQ6wgZwLkak9m6BJzJpixD2p6BlegJnfPUh834lJz/c9ytR8Kz1xET7mfeUlXdkoPrPNNd6UNkE+F40eEacxVz61A3v0f2ZuPoU2sNjqYYM+bohNSoYMmD5a1PKT/QmtPtJRwOTCEME+gjf0mxGH0z6pdC3cPMLlPm4KsH0infc+2s9lODj3CD+QV4nwR7gZPyM++YxB0yk/Hc2NsqxHOT/PZWGTgiFIP2zLy0+Ad1Y/1ZoXt0RoZD/1in1XuhZyP9AWy/XATH8/HIaPVvRvij8c8VN9D86VP2yixE6AkKE/oTTtazukqz/OOCi1zD+1P6QJIaoi7L8/IwMtMpxuxz+5z4+DTM/QP5ilIPqwktc/DSxjaQUo4D9f3EJ0EablP7hgtCmsW+w/gp55bn0o8j/ngxD0Pbz2Pxriu4dI1fs/TmwOE8yoAEDiOPvlpoADQAmGJx9rVAZA3zozVG8CCUCCbz/X5mcLQDOmPTAUZA1Ao7KOaYfbDkD9wABZ8boPQFkYDyMe+Q9Amx0/G8iXD0CT+7unI6MOQNmAaXQ7MA1AM1sfcGZaC0BDNlXuQ0AJQGvxRpK2AAdAspYxk0q4BEAgWPCSU38CQBWKG4HiaABAlFnj4A8F/T/9wko3aqn5P02PAqP4xvY/lf7yduRe9D+QG6HgAW3yP6YBcOQp6fA/oIobg4uQ7z9kj+k6UPrtP/Nd/Luz8uw/DRzQDuxb7D85fab3MRnsPz1csNCdEOw/ZE1lwLks7D+yPSu0e13sP8dqkEVxmOw/PeUGXhLY7D/aZ4FjXhrtPxTh3LUMX+0/jptmDKul7T+Znue4AOztP/nYPEf5LO4/NEw4STtg7j9vhqGAcXruP7eud8Mybu4/TuO4TWIt7j/Hnbtu1qrtP8aiMUMN3Ow/HUSBmbW66z8P/iWL1UXqP7Eo4u9hgug/h2lxcSp75j+Ysjn4FEDkP5AE9Xm95OE/7pCMH1D93j8l91diikbaPzrPOVQdzNU//645Hvut0T8=",
          "dtype": "f8"
         }
        },
        {
         "line": {
          "color": "lightcoral",
          "dash": "dot",
          "width": 3
         },
         "mode": "lines",
         "name": "Qwen3-32B",
         "type": "scatter",
         "x": {
          "bdata": "AAAAAAAAAABbv1Kg1q+EP1u/UqDWr5Q/CB988MEHnz9bv1Kg1q+kPzJvZ0jM26k/CB988MEHrz9wZ0jM2xmyP1u/UqDWr7Q/RhdddNFFtz8yb2dIzNu5Px3HcRzHcbw/CB988MEHvz96O0Ni3s7AP3BnSMzbGcI/ZZNNNtlkwz9bv1Kg1q/EP1HrVwrU+sU/RhdddNFFxz88Q2LezpDIPzJvZ0jM28k/J5tssskmyz8dx3Ecx3HMPxPzdobEvM0/CB988MEHzz9/pUCtXynQP3o7Q2LeztA/ddFFF1100T9wZ0jM2xnSP2r9SoFav9I/ZZNNNtlk0z9gKVDrVwrUP1u/UqDWr9Q/VlVVVVVV1T9R61cK1PrVP0yBWr9SoNY/RhdddNFF1z9BrV8pUOvXPzxDYt7OkNg/N9lkk0022T8yb2dIzNvZPy0Fav1Kgdo/J5tssskm2z8iMW9nSMzbPx3HcRzHcdw/GF100UUX3T8T83aGxLzdPw6JeTtDYt4/CB988MEH3z8DtX6lQK3fP3+lQK1fKeA/ffDBBx984D96O0Ni3s7gP3eGxLydIeE/ddFFF1104T9yHMdxHMfhP3BnSMzbGeI/bbLJJpts4j9q/UqBWr/iP2hIzNsZEuM/ZZNNNtlk4z9j3s6QmLfjP2ApUOtXCuQ/XnTRRRdd5D9bv1Kg1q/kP1gK1PqVAuU/VlVVVVVV5T9ToNavFKjlP1HrVwrU+uU/TjbZZJNN5j9MgVq/UqDmP0nM2xkS8+Y/RhdddNFF5z9EYt7OkJjnP0GtXylQ6+c/P/jggw8+6D88Q2LezpDoPzmO4ziO4+g/N9lkk0026T80JObtDInpPzJvZ0jM2+k/L7rooosu6j8tBWr9SoHqPypQ61cK1Oo/J5tssskm6z8l5u0MiXnrPyIxb2dIzOs/IHzwwQcf7D8dx3Ecx3HsPxsS83aGxOw/GF100UUX7T8VqPUrBWrtPxPzdobEvO0/ED744IMP7j8OiXk7Q2LuPwvU+pUCte4/CB988MEH7z8Gav1KgVrvPwO1fqVAre8/AAAAAAAA8D8=",
          "dtype": "f8"
         },
         "y": {
          "bdata": "Wmg0LzRVIT1dtZ93IohEPa+JxOXoTGc9MrDvzVBViT2Ru8+ZhmOqPeX1MvQuVso9Oe1iBi4v6T2ioqNCORMHPvsEGstVQiQ+GU0X6mELQT4fyY+TBHxbPoo/jePEPHU+5uSFsgZ1jz6ff3XL51SmPqmI1N5NZb4+lImjczrV0z6l56ZAZ9HoPkI7kHzqyP0+tuU8yQklET+QnSHhG/AiP0PCQbGxEzQ/TX60k1VvRD8yjWWZNPpTPxHXjZGTxGI/dbGFPkP0cD8a7KJoPXp9PzEJbI09r4g/m04thbPvkz8iyK91YRufP2AzNLT3fKc/+e9RQ+40sT+CDifC4Ie4PwwujnnGEsE/WhubJ1JLxz+zQ0b2i0bPPyPqQ506vdQ/SqG5ZUZA2z9NeHWlhcXhP8DmP+xxBOc/OgRCmfSS7T/06z6DDs/yP/NZZUsun/c/gIM9buM1/T+VzDmJPL0BQAIHNlPEHgVAru2/cjmdCEDmMdEeJw4MQK3NntDCQg9AJUMk7DQGEUCClQ+viCASQIGwg/OH3xJAjx/S0fM3E0D3cHFS+yQTQGG2Wj+LqBJACPJBQh7LEUDhMn2eEpsQQBZ+pUIVVw5ADWd1QMslC0CZ8lQs3tEHQMh9DNngiQRAUHLS1rB3AUBTrdoAmnr9P5yNF9vu5Pg/6jUldZlG9T/rYQql05/yP3p1MP1h2vA/X4ucsNCa7z+khXXxwIbuP3YMsjlcA+4/QOsQjrWh7T88t9xnUgjtP9GZR6A7/us/NMZSQdVv6j9NrR1er2zoP/1XgysoH+Y/2SlwmiTA4z+WkTE54YnhP/0HBIZsWd8//yFnh4WP3D+3J0edXczaP/hxApIOAdo/f/FNUOQB2j/BsB7YdZHaP9GdbNTHa9s/TTb+L6BP3D9zIHl7GAXdP1EJ2nFEYd0/ekQVslVH3T/ZPArp/6fcP2HqlqP7f9s/felyOF/W2T9NVo/OKbvXPzzsi1XwRdU/EAtxxE+U0j/Nk66CgI/PP7Bq44xLBco/GHqzQsXJxD8nIk+gERHAPyzCeMqN/bc/j21Gyo1HsT8=",
          "dtype": "f8"
         }
        },
        {
         "line": {
          "color": "lightcoral",
          "dash": "solid",
          "width": 3
         },
         "mode": "lines",
         "name": "Qwen3-4B",
         "type": "scatter",
         "x": {
          "bdata": "AAAAAAAAAABbv1Kg1q+EP1u/UqDWr5Q/CB988MEHnz9bv1Kg1q+kPzJvZ0jM26k/CB988MEHrz9wZ0jM2xmyP1u/UqDWr7Q/RhdddNFFtz8yb2dIzNu5Px3HcRzHcbw/CB988MEHvz96O0Ni3s7AP3BnSMzbGcI/ZZNNNtlkwz9bv1Kg1q/EP1HrVwrU+sU/RhdddNFFxz88Q2LezpDIPzJvZ0jM28k/J5tssskmyz8dx3Ecx3HMPxPzdobEvM0/CB988MEHzz9/pUCtXynQP3o7Q2LeztA/ddFFF1100T9wZ0jM2xnSP2r9SoFav9I/ZZNNNtlk0z9gKVDrVwrUP1u/UqDWr9Q/VlVVVVVV1T9R61cK1PrVP0yBWr9SoNY/RhdddNFF1z9BrV8pUOvXPzxDYt7OkNg/N9lkk0022T8yb2dIzNvZPy0Fav1Kgdo/J5tssskm2z8iMW9nSMzbPx3HcRzHcdw/GF100UUX3T8T83aGxLzdPw6JeTtDYt4/CB988MEH3z8DtX6lQK3fP3+lQK1fKeA/ffDBBx984D96O0Ni3s7gP3eGxLydIeE/ddFFF1104T9yHMdxHMfhP3BnSMzbGeI/bbLJJpts4j9q/UqBWr/iP2hIzNsZEuM/ZZNNNtlk4z9j3s6QmLfjP2ApUOtXCuQ/XnTRRRdd5D9bv1Kg1q/kP1gK1PqVAuU/VlVVVVVV5T9ToNavFKjlP1HrVwrU+uU/TjbZZJNN5j9MgVq/UqDmP0nM2xkS8+Y/RhdddNFF5z9EYt7OkJjnP0GtXylQ6+c/P/jggw8+6D88Q2LezpDoPzmO4ziO4+g/N9lkk0026T80JObtDInpPzJvZ0jM2+k/L7rooosu6j8tBWr9SoHqPypQ61cK1Oo/J5tssskm6z8l5u0MiXnrPyIxb2dIzOs/IHzwwQcf7D8dx3Ecx3HsPxsS83aGxOw/GF100UUX7T8VqPUrBWrtPxPzdobEvO0/ED744IMP7j8OiXk7Q2LuPwvU+pUCte4/CB988MEH7z8Gav1KgVrvPwO1fqVAre8/AAAAAAAA8D8=",
          "dtype": "f8"
         },
         "y": {
          "bdata": "At98qOS6MTs4MoY2n39kO5JWqU3ejpY77e7vLEmhxzuWJSZlD5D3O5e5uKfsXSY85RZrD3U2VDyL32vW6GOBPLPMZiOqfaw8brCvjfE41jyuoKZ7YIEAPeKTq+FmWSc9fVn1qnJ1Tz0j6pIGlS90PYpRi3xkrZg9+O38Zfe9vD1qfOXu+eXfPUwlgp9w3gA+RDxlz50BIT5iZ8DIZVhAPmjiWlsV9l0+cn05m/owej73WoKAEtiVPqfziN/+YrE+5s23u1hsyj7ruLC22CzjPiDdfmD8lvo+4pbQ7CKfET945+AyAFYmPzJNteG2Fjs/Uu74gqdzTz9WRHz3mn1hP1/F4wabpXI/RRagzWURgz+AyiqgEreSP3njVvaQpKE/nKSJU4b4rz/IWKA4+9u7PxiOdhe5XMc/iAObBxfd0j+YSbroiVjdP70YZh6m/+U/RhVc1MjL7z+kfWlJWyj2Py7QB2WjyP0/cUmsZLdOA0AeV1+xeyUIQBgzJr6XIQ1AZ+jgXhj0EEDPplUUnwoTQE118wgQpRRA6zRb7KWeFUBMXMW+seMVQDHt63wldRVALXqcnBloFEAqiG1TXeESQPq99N86DhFAdtdE6KY4DkCCFcSfJGUKQPGnoW1n2QZAbegM4+yzA0DL/ugvPv0AQO3d4F0rXf0/B7SO7U1z+T9/obGZxR72P6aN0yvKSPM/3xikRlrl8D94P9XVD+TtP+cr6c2M4+o/NDxuDCzP6D8DCuAmUKPnPwBhtJMuTOc//SZ2Joyj5z9PEo7w7nLoPzBx2DCieek/xs0Yd0Z16j+305IlNCvrPx98HjfDcOs/HFRPwbEw6z/y93Q9cWzqP52sNwsLOek/bgFsoF245z/GrjNrYhDmP2Rb/aWrYuQ/yMhJ/ijG4j9hOeRGhkThP0TPivG6tt8/sqq147oA3T/EiONinE3aP57ENQFridc/Ga+NgYms1D/pTccg5L3RP073YRKGoc0/GKf+CEf/xz+JA0GG8svCP+I9d2lgarw/RVyY1OmvtD/sdl7XAPesP/7EZ3OleKM/4kK7/FUbmT8=",
          "dtype": "f8"
         }
        }
       ],
       "layout": {
        "font": {
         "size": 12
        },
        "height": 500,
        "legend": {
         "x": 0.01,
         "xanchor": "left",
         "y": 0.99,
         "yanchor": "top"
        },
        "template": {
         "data": {
          "bar": [
           {
            "error_x": {
             "color": "#2a3f5f"
            },
            "error_y": {
             "color": "#2a3f5f"
            },
            "marker": {
             "line": {
              "color": "#E5ECF6",
              "width": 0.5
             },
             "pattern": {
              "fillmode": "overlay",
              "size": 10,
              "solidity": 0.2
             }
            },
            "type": "bar"
           }
          ],
          "barpolar": [
           {
            "marker": {
             "line": {
              "color": "#E5ECF6",
              "width": 0.5
             },
             "pattern": {
              "fillmode": "overlay",
              "size": 10,
              "solidity": 0.2
             }
            },
            "type": "barpolar"
           }
          ],
          "carpet": [
           {
            "aaxis": {
             "endlinecolor": "#2a3f5f",
             "gridcolor": "white",
             "linecolor": "white",
             "minorgridcolor": "white",
             "startlinecolor": "#2a3f5f"
            },
            "baxis": {
             "endlinecolor": "#2a3f5f",
             "gridcolor": "white",
             "linecolor": "white",
             "minorgridcolor": "white",
             "startlinecolor": "#2a3f5f"
            },
            "type": "carpet"
           }
          ],
          "choropleth": [
           {
            "colorbar": {
             "outlinewidth": 0,
             "ticks": ""
            },
            "type": "choropleth"
           }
          ],
          "contour": [
           {
            "colorbar": {
             "outlinewidth": 0,
             "ticks": ""
            },
            "colorscale": [
             [
              0,
              "#0d0887"
             ],
             [
              0.1111111111111111,
              "#46039f"
             ],
             [
              0.2222222222222222,
              "#7201a8"
             ],
             [
              0.3333333333333333,
              "#9c179e"
             ],
             [
              0.4444444444444444,
              "#bd3786"
             ],
             [
              0.5555555555555556,
              "#d8576b"
             ],
             [
              0.6666666666666666,
              "#ed7953"
             ],
             [
              0.7777777777777778,
              "#fb9f3a"
             ],
             [
              0.8888888888888888,
              "#fdca26"
             ],
             [
              1,
              "#f0f921"
             ]
            ],
            "type": "contour"
           }
          ],
          "contourcarpet": [
           {
            "colorbar": {
             "outlinewidth": 0,
             "ticks": ""
            },
            "type": "contourcarpet"
           }
          ],
          "heatmap": [
           {
            "colorbar": {
             "outlinewidth": 0,
             "ticks": ""
            },
            "colorscale": [
             [
              0,
              "#0d0887"
             ],
             [
              0.1111111111111111,
              "#46039f"
             ],
             [
              0.2222222222222222,
              "#7201a8"
             ],
             [
              0.3333333333333333,
              "#9c179e"
             ],
             [
              0.4444444444444444,
              "#bd3786"
             ],
             [
              0.5555555555555556,
              "#d8576b"
             ],
             [
              0.6666666666666666,
              "#ed7953"
             ],
             [
              0.7777777777777778,
              "#fb9f3a"
             ],
             [
              0.8888888888888888,
              "#fdca26"
             ],
             [
              1,
              "#f0f921"
             ]
            ],
            "type": "heatmap"
           }
          ],
          "histogram": [
           {
            "marker": {
             "pattern": {
              "fillmode": "overlay",
              "size": 10,
              "solidity": 0.2
             }
            },
            "type": "histogram"
           }
          ],
          "histogram2d": [
           {
            "colorbar": {
             "outlinewidth": 0,
             "ticks": ""
            },
            "colorscale": [
             [
              0,
              "#0d0887"
             ],
             [
              0.1111111111111111,
              "#46039f"
             ],
             [
              0.2222222222222222,
              "#7201a8"
             ],
             [
              0.3333333333333333,
              "#9c179e"
             ],
             [
              0.4444444444444444,
              "#bd3786"
             ],
             [
              0.5555555555555556,
              "#d8576b"
             ],
             [
              0.6666666666666666,
              "#ed7953"
             ],
             [
              0.7777777777777778,
              "#fb9f3a"
             ],
             [
              0.8888888888888888,
              "#fdca26"
             ],
             [
              1,
              "#f0f921"
             ]
            ],
            "type": "histogram2d"
           }
          ],
          "histogram2dcontour": [
           {
            "colorbar": {
             "outlinewidth": 0,
             "ticks": ""
            },
            "colorscale": [
             [
              0,
              "#0d0887"
             ],
             [
              0.1111111111111111,
              "#46039f"
             ],
             [
              0.2222222222222222,
              "#7201a8"
             ],
             [
              0.3333333333333333,
              "#9c179e"
             ],
             [
              0.4444444444444444,
              "#bd3786"
             ],
             [
              0.5555555555555556,
              "#d8576b"
             ],
             [
              0.6666666666666666,
              "#ed7953"
             ],
             [
              0.7777777777777778,
              "#fb9f3a"
             ],
             [
              0.8888888888888888,
              "#fdca26"
             ],
             [
              1,
              "#f0f921"
             ]
            ],
            "type": "histogram2dcontour"
           }
          ],
          "mesh3d": [
           {
            "colorbar": {
             "outlinewidth": 0,
             "ticks": ""
            },
            "type": "mesh3d"
           }
          ],
          "parcoords": [
           {
            "line": {
             "colorbar": {
              "outlinewidth": 0,
              "ticks": ""
             }
            },
            "type": "parcoords"
           }
          ],
          "pie": [
           {
            "automargin": true,
            "type": "pie"
           }
          ],
          "scatter": [
           {
            "fillpattern": {
             "fillmode": "overlay",
             "size": 10,
             "solidity": 0.2
            },
            "type": "scatter"
           }
          ],
          "scatter3d": [
           {
            "line": {
             "colorbar": {
              "outlinewidth": 0,
              "ticks": ""
             }
            },
            "marker": {
             "colorbar": {
              "outlinewidth": 0,
              "ticks": ""
             }
            },
            "type": "scatter3d"
           }
          ],
          "scattercarpet": [
           {
            "marker": {
             "colorbar": {
              "outlinewidth": 0,
              "ticks": ""
             }
            },
            "type": "scattercarpet"
           }
          ],
          "scattergeo": [
           {
            "marker": {
             "colorbar": {
              "outlinewidth": 0,
              "ticks": ""
             }
            },
            "type": "scattergeo"
           }
          ],
          "scattergl": [
           {
            "marker": {
             "colorbar": {
              "outlinewidth": 0,
              "ticks": ""
             }
            },
            "type": "scattergl"
           }
          ],
          "scattermap": [
           {
            "marker": {
             "colorbar": {
              "outlinewidth": 0,
              "ticks": ""
             }
            },
            "type": "scattermap"
           }
          ],
          "scattermapbox": [
           {
            "marker": {
             "colorbar": {
              "outlinewidth": 0,
              "ticks": ""
             }
            },
            "type": "scattermapbox"
           }
          ],
          "scatterpolar": [
           {
            "marker": {
             "colorbar": {
              "outlinewidth": 0,
              "ticks": ""
             }
            },
            "type": "scatterpolar"
           }
          ],
          "scatterpolargl": [
           {
            "marker": {
             "colorbar": {
              "outlinewidth": 0,
              "ticks": ""
             }
            },
            "type": "scatterpolargl"
           }
          ],
          "scatterternary": [
           {
            "marker": {
             "colorbar": {
              "outlinewidth": 0,
              "ticks": ""
             }
            },
            "type": "scatterternary"
           }
          ],
          "surface": [
           {
            "colorbar": {
             "outlinewidth": 0,
             "ticks": ""
            },
            "colorscale": [
             [
              0,
              "#0d0887"
             ],
             [
              0.1111111111111111,
              "#46039f"
             ],
             [
              0.2222222222222222,
              "#7201a8"
             ],
             [
              0.3333333333333333,
              "#9c179e"
             ],
             [
              0.4444444444444444,
              "#bd3786"
             ],
             [
              0.5555555555555556,
              "#d8576b"
             ],
             [
              0.6666666666666666,
              "#ed7953"
             ],
             [
              0.7777777777777778,
              "#fb9f3a"
             ],
             [
              0.8888888888888888,
              "#fdca26"
             ],
             [
              1,
              "#f0f921"
             ]
            ],
            "type": "surface"
           }
          ],
          "table": [
           {
            "cells": {
             "fill": {
              "color": "#EBF0F8"
             },
             "line": {
              "color": "white"
             }
            },
            "header": {
             "fill": {
              "color": "#C8D4E3"
             },
             "line": {
              "color": "white"
             }
            },
            "type": "table"
           }
          ]
         },
         "layout": {
          "annotationdefaults": {
           "arrowcolor": "#2a3f5f",
           "arrowhead": 0,
           "arrowwidth": 1
          },
          "autotypenumbers": "strict",
          "coloraxis": {
           "colorbar": {
            "outlinewidth": 0,
            "ticks": ""
           }
          },
          "colorscale": {
           "diverging": [
            [
             0,
             "#8e0152"
            ],
            [
             0.1,
             "#c51b7d"
            ],
            [
             0.2,
             "#de77ae"
            ],
            [
             0.3,
             "#f1b6da"
            ],
            [
             0.4,
             "#fde0ef"
            ],
            [
             0.5,
             "#f7f7f7"
            ],
            [
             0.6,
             "#e6f5d0"
            ],
            [
             0.7,
             "#b8e186"
            ],
            [
             0.8,
             "#7fbc41"
            ],
            [
             0.9,
             "#4d9221"
            ],
            [
             1,
             "#276419"
            ]
           ],
           "sequential": [
            [
             0,
             "#0d0887"
            ],
            [
             0.1111111111111111,
             "#46039f"
            ],
            [
             0.2222222222222222,
             "#7201a8"
            ],
            [
             0.3333333333333333,
             "#9c179e"
            ],
            [
             0.4444444444444444,
             "#bd3786"
            ],
            [
             0.5555555555555556,
             "#d8576b"
            ],
            [
             0.6666666666666666,
             "#ed7953"
            ],
            [
             0.7777777777777778,
             "#fb9f3a"
            ],
            [
             0.8888888888888888,
             "#fdca26"
            ],
            [
             1,
             "#f0f921"
            ]
           ],
           "sequentialminus": [
            [
             0,
             "#0d0887"
            ],
            [
             0.1111111111111111,
             "#46039f"
            ],
            [
             0.2222222222222222,
             "#7201a8"
            ],
            [
             0.3333333333333333,
             "#9c179e"
            ],
            [
             0.4444444444444444,
             "#bd3786"
            ],
            [
             0.5555555555555556,
             "#d8576b"
            ],
            [
             0.6666666666666666,
             "#ed7953"
            ],
            [
             0.7777777777777778,
             "#fb9f3a"
            ],
            [
             0.8888888888888888,
             "#fdca26"
            ],
            [
             1,
             "#f0f921"
            ]
           ]
          },
          "colorway": [
           "#636efa",
           "#EF553B",
           "#00cc96",
           "#ab63fa",
           "#FFA15A",
           "#19d3f3",
           "#FF6692",
           "#B6E880",
           "#FF97FF",
           "#FECB52"
          ],
          "font": {
           "color": "#2a3f5f"
          },
          "geo": {
           "bgcolor": "white",
           "lakecolor": "white",
           "landcolor": "#E5ECF6",
           "showlakes": true,
           "showland": true,
           "subunitcolor": "white"
          },
          "hoverlabel": {
           "align": "left"
          },
          "hovermode": "closest",
          "mapbox": {
           "style": "light"
          },
          "paper_bgcolor": "white",
          "plot_bgcolor": "#E5ECF6",
          "polar": {
           "angularaxis": {
            "gridcolor": "white",
            "linecolor": "white",
            "ticks": ""
           },
           "bgcolor": "#E5ECF6",
           "radialaxis": {
            "gridcolor": "white",
            "linecolor": "white",
            "ticks": ""
           }
          },
          "scene": {
           "xaxis": {
            "backgroundcolor": "#E5ECF6",
            "gridcolor": "white",
            "gridwidth": 2,
            "linecolor": "white",
            "showbackground": true,
            "ticks": "",
            "zerolinecolor": "white"
           },
           "yaxis": {
            "backgroundcolor": "#E5ECF6",
            "gridcolor": "white",
            "gridwidth": 2,
            "linecolor": "white",
            "showbackground": true,
            "ticks": "",
            "zerolinecolor": "white"
           },
           "zaxis": {
            "backgroundcolor": "#E5ECF6",
            "gridcolor": "white",
            "gridwidth": 2,
            "linecolor": "white",
            "showbackground": true,
            "ticks": "",
            "zerolinecolor": "white"
           }
          },
          "shapedefaults": {
           "line": {
            "color": "#2a3f5f"
           }
          },
          "ternary": {
           "aaxis": {
            "gridcolor": "white",
            "linecolor": "white",
            "ticks": ""
           },
           "baxis": {
            "gridcolor": "white",
            "linecolor": "white",
            "ticks": ""
           },
           "bgcolor": "#E5ECF6",
           "caxis": {
            "gridcolor": "white",
            "linecolor": "white",
            "ticks": ""
           }
          },
          "title": {
           "x": 0.05
          },
          "xaxis": {
           "automargin": true,
           "gridcolor": "white",
           "linecolor": "white",
           "ticks": "",
           "title": {
            "standoff": 15
           },
           "zerolinecolor": "white",
           "zerolinewidth": 2
          },
          "yaxis": {
           "automargin": true,
           "gridcolor": "white",
           "linecolor": "white",
           "ticks": "",
           "title": {
            "standoff": 15
           },
           "zerolinecolor": "white",
           "zerolinewidth": 2
          }
         }
        },
        "title": {
         "text": "Accuracy Density Distribution - Detection"
        },
        "xaxis": {
         "title": {
          "text": "Accuracy"
         }
        },
        "yaxis": {
         "title": {
          "text": "Density"
         }
        }
       }
      }
     },
     "metadata": {},
     "output_type": "display_data"
    },
    {
     "name": "stdout",
     "output_type": "stream",
     "text": [
      "Saved KDE density plot: /home/jeremias/projects/delphi-explanations/results/visualizations/accuracy_density_detection.pdf\n",
      "Saved KDE density plot: /home/jeremias/projects/delphi-explanations/results/visualizations/accuracy_density_detection.png\n"
     ]
    }
   ],
   "source": [
    "# Generate KDE density distribution plots for accuracy\n",
    "print(\"Generating accuracy density distribution plots...\")\n",
    "\n",
    "# Import required libraries\n",
    "import plotly.graph_objects as go\n",
    "from scipy import stats\n",
    "\n",
    "# First, let's check what data we have available\n",
    "sample_model = list(model_results.keys())[0]\n",
    "sample_latent_df = model_results[sample_model]['latent_df']\n",
    "print(f\"\\nColumns in latent_df: {sample_latent_df.columns.tolist()}\")\n",
    "print(f\"Sample data shape: {sample_latent_df.shape}\")\n",
    "print(f\"Score types: {sample_latent_df['score_type'].unique()}\")\n",
    "\n",
    "# Define color and line style mapping by model family\n",
    "def get_model_style(model_name):\n",
    "    \"\"\"Get color and line style based on model family\"\"\"\n",
    "    if 'Gemma' in model_name:\n",
    "        color = 'lightgreen'  # Lighter green\n",
    "        # Different line styles for different Gemma models\n",
    "        if '4B' in model_name:\n",
    "            return color, 'solid'\n",
    "        elif '12B' in model_name:\n",
    "            return color, 'dash'\n",
    "        elif '27B' in model_name:\n",
    "            return color, 'dot'\n",
    "        else:\n",
    "            return color, 'dashdot'\n",
    "    elif 'Qwen' in model_name:\n",
    "        color = 'lightcoral'  # Lighter red\n",
    "        # Different line styles for different Qwen models\n",
    "        if '4B' in model_name:\n",
    "            return color, 'solid'\n",
    "        elif '14B' in model_name:\n",
    "            return color, 'dash'\n",
    "        elif '32B' in model_name:\n",
    "            return color, 'dot'\n",
    "        else:\n",
    "            return color, 'dashdot'\n",
    "    else:\n",
    "        return 'lightblue', 'solid'  # Default for unknown models\n",
    "\n",
    "# Create accuracy_df for bar charts (aggregate data)\n",
    "all_data = []\n",
    "for model_name, data in model_results.items():\n",
    "    for score_type in data['processed_df']['score_type'].unique():\n",
    "        score_data = data['processed_df'][data['processed_df']['score_type'] == score_type].iloc[0]\n",
    "        all_data.append({\n",
    "            'model': model_name,\n",
    "            'score_type': score_type,\n",
    "            'accuracy': score_data['accuracy'],\n",
    "            'f1_score': score_data['f1_score'],\n",
    "            'precision': score_data['precision'],\n",
    "            'recall': score_data['recall']\n",
    "        })\n",
    "\n",
    "accuracy_df = pd.DataFrame(all_data)\n",
    "print(\"\\nAccuracy data summary:\")\n",
    "print(accuracy_df.groupby('score_type')[['accuracy', 'f1_score']].describe().round(3))\n",
    "\n",
    "# Check if we have individual accuracy measurements for KDE plots\n",
    "if 'correct' in sample_latent_df.columns:\n",
    "    print(\"Found 'correct' column - will calculate accuracy per latent for KDE plots\")\n",
    "    \n",
    "    # Create KDE density plots for each score type\n",
    "    for score_type in sample_latent_df['score_type'].unique():\n",
    "        print(f\"\\nCreating KDE density plot for {score_type}...\")\n",
    "        \n",
    "        # Collect accuracy data for all models for this score type\n",
    "        plot_data = []\n",
    "        for model_name, data in model_results.items():\n",
    "            latent_df = data['latent_df']\n",
    "            score_subset = latent_df[latent_df['score_type'] == score_type]\n",
    "            \n",
    "            if len(score_subset) > 0:\n",
    "                # Calculate accuracy per latent (group by latent_idx if available, or use individual rows)\n",
    "                if 'latent_idx' in score_subset.columns:\n",
    "                    # Group by latent and calculate accuracy\n",
    "                    latent_accuracies = score_subset.groupby('latent_idx')['correct'].mean()\n",
    "                    for accuracy in latent_accuracies:\n",
    "                        plot_data.append({\n",
    "                            'model': model_name,\n",
    "                            'accuracy': accuracy\n",
    "                        })\n",
    "                else:\n",
    "                    # Use individual correct values as accuracy (0 or 1)\n",
    "                    for _, row in score_subset.iterrows():\n",
    "                        plot_data.append({\n",
    "                            'model': model_name,\n",
    "                            'accuracy': float(row['correct'])\n",
    "                        })\n",
    "        \n",
    "        if plot_data:\n",
    "            plot_df = pd.DataFrame(plot_data)\n",
    "            \n",
    "            # Create KDE line density plot\n",
    "            fig_line = go.Figure()\n",
    "            \n",
    "            for model in sorted(plot_df['model'].unique()):\n",
    "                model_data = plot_df[plot_df['model'] == model]['accuracy']\n",
    "                \n",
    "                if len(model_data) > 1:  # Need multiple points for KDE\n",
    "                    # Get color and line style based on model family\n",
    "                    color, line_style = get_model_style(model)\n",
    "                    \n",
    "                    # Create kernel density estimation\n",
    "                    kde = stats.gaussian_kde(model_data)\n",
    "                    x_range = np.linspace(0, 1, 100)\n",
    "                    density = kde(x_range)\n",
    "                    \n",
    "                    fig_line.add_trace(go.Scatter(\n",
    "                        x=x_range,\n",
    "                        y=density,\n",
    "                        mode='lines',\n",
    "                        name=model,\n",
    "                        line=dict(\n",
    "                            width=3,\n",
    "                            color=color,\n",
    "                            dash=line_style\n",
    "                        )\n",
    "                    ))\n",
    "            \n",
    "            fig_line.update_layout(\n",
    "                title=f'Accuracy Density Distribution - {score_type.title()}',\n",
    "                xaxis_title=\"Accuracy\",\n",
    "                yaxis_title=\"Density\",\n",
    "                height=500,\n",
    "                legend=dict(\n",
    "                    yanchor=\"top\",\n",
    "                    y=0.99,\n",
    "                    xanchor=\"left\",\n",
    "                    x=0.01\n",
    "                ),\n",
    "                font=dict(size=12)\n",
    "            )\n",
    "            \n",
    "            # Show KDE density plot\n",
    "            fig_line.show()\n",
    "            \n",
    "            # Save KDE density plot in both PDF and PNG formats\n",
    "            output_file_pdf = visualizations_dir / f\"accuracy_density_{score_type}.pdf\"\n",
    "            output_file_png = visualizations_dir / f\"accuracy_density_{score_type}.png\"\n",
    "            fig_line.write_image(str(output_file_pdf))\n",
    "            fig_line.write_image(str(output_file_png))\n",
    "            print(f\"Saved KDE density plot: {output_file_pdf}\")\n",
    "            print(f\"Saved KDE density plot: {output_file_png}\")\n",
    "\n",
    "else:\n",
    "    print(\"No 'correct' column found - cannot create density plots with individual measurements\")\n",
    "    print(\"Need individual accuracy measurements to create meaningful density distributions\")"
   ]
  },
  {
   "cell_type": "markdown",
   "id": "7a674b50",
   "metadata": {},
   "source": [
    "## 4. Generate Mean Accuracy Bar Charts\n",
    "\n",
    "Create bar charts displaying mean accuracy for each model and score type."
   ]
  },
  {
   "cell_type": "code",
   "execution_count": 4,
   "id": "0916e89d",
   "metadata": {},
   "outputs": [
    {
     "name": "stdout",
     "output_type": "stream",
     "text": [
      "Generating mean accuracy bar charts...\n"
     ]
    },
    {
     "data": {
      "application/vnd.plotly.v1+json": {
       "config": {
        "plotlyServerURL": "https://plot.ly"
       },
       "data": [
        {
         "hovertemplate": "model=%{x}<br>accuracy=%{text}<extra></extra>",
         "legendgroup": "",
         "marker": {
          "color": "#636efa",
          "pattern": {
           "shape": ""
          }
         },
         "name": "",
         "orientation": "v",
         "showlegend": false,
         "text": {
          "bdata": "6IVe6IVe5D+Dko5PX1vkP0545Aus1uM/LT05+gkG4z9bPF6dp/HhP0ejL4BbCeA/",
          "dtype": "f8"
         },
         "textposition": "outside",
         "texttemplate": "%{text:.3f}",
         "type": "bar",
         "x": [
          "Qwen3-14B",
          "Gemma-3-12B-IT",
          "Gemma-3-27B-IT",
          "Qwen3-32B",
          "Qwen3-4B",
          "Gemma-3-4B-IT"
         ],
         "xaxis": "x",
         "y": {
          "bdata": "6IVe6IVe5D+Dko5PX1vkP0545Aus1uM/LT05+gkG4z9bPF6dp/HhP0ejL4BbCeA/",
          "dtype": "f8"
         },
         "yaxis": "y"
        }
       ],
       "layout": {
        "barmode": "relative",
        "height": 500,
        "legend": {
         "tracegroupgap": 0
        },
        "template": {
         "data": {
          "bar": [
           {
            "error_x": {
             "color": "#2a3f5f"
            },
            "error_y": {
             "color": "#2a3f5f"
            },
            "marker": {
             "line": {
              "color": "#E5ECF6",
              "width": 0.5
             },
             "pattern": {
              "fillmode": "overlay",
              "size": 10,
              "solidity": 0.2
             }
            },
            "type": "bar"
           }
          ],
          "barpolar": [
           {
            "marker": {
             "line": {
              "color": "#E5ECF6",
              "width": 0.5
             },
             "pattern": {
              "fillmode": "overlay",
              "size": 10,
              "solidity": 0.2
             }
            },
            "type": "barpolar"
           }
          ],
          "carpet": [
           {
            "aaxis": {
             "endlinecolor": "#2a3f5f",
             "gridcolor": "white",
             "linecolor": "white",
             "minorgridcolor": "white",
             "startlinecolor": "#2a3f5f"
            },
            "baxis": {
             "endlinecolor": "#2a3f5f",
             "gridcolor": "white",
             "linecolor": "white",
             "minorgridcolor": "white",
             "startlinecolor": "#2a3f5f"
            },
            "type": "carpet"
           }
          ],
          "choropleth": [
           {
            "colorbar": {
             "outlinewidth": 0,
             "ticks": ""
            },
            "type": "choropleth"
           }
          ],
          "contour": [
           {
            "colorbar": {
             "outlinewidth": 0,
             "ticks": ""
            },
            "colorscale": [
             [
              0,
              "#0d0887"
             ],
             [
              0.1111111111111111,
              "#46039f"
             ],
             [
              0.2222222222222222,
              "#7201a8"
             ],
             [
              0.3333333333333333,
              "#9c179e"
             ],
             [
              0.4444444444444444,
              "#bd3786"
             ],
             [
              0.5555555555555556,
              "#d8576b"
             ],
             [
              0.6666666666666666,
              "#ed7953"
             ],
             [
              0.7777777777777778,
              "#fb9f3a"
             ],
             [
              0.8888888888888888,
              "#fdca26"
             ],
             [
              1,
              "#f0f921"
             ]
            ],
            "type": "contour"
           }
          ],
          "contourcarpet": [
           {
            "colorbar": {
             "outlinewidth": 0,
             "ticks": ""
            },
            "type": "contourcarpet"
           }
          ],
          "heatmap": [
           {
            "colorbar": {
             "outlinewidth": 0,
             "ticks": ""
            },
            "colorscale": [
             [
              0,
              "#0d0887"
             ],
             [
              0.1111111111111111,
              "#46039f"
             ],
             [
              0.2222222222222222,
              "#7201a8"
             ],
             [
              0.3333333333333333,
              "#9c179e"
             ],
             [
              0.4444444444444444,
              "#bd3786"
             ],
             [
              0.5555555555555556,
              "#d8576b"
             ],
             [
              0.6666666666666666,
              "#ed7953"
             ],
             [
              0.7777777777777778,
              "#fb9f3a"
             ],
             [
              0.8888888888888888,
              "#fdca26"
             ],
             [
              1,
              "#f0f921"
             ]
            ],
            "type": "heatmap"
           }
          ],
          "histogram": [
           {
            "marker": {
             "pattern": {
              "fillmode": "overlay",
              "size": 10,
              "solidity": 0.2
             }
            },
            "type": "histogram"
           }
          ],
          "histogram2d": [
           {
            "colorbar": {
             "outlinewidth": 0,
             "ticks": ""
            },
            "colorscale": [
             [
              0,
              "#0d0887"
             ],
             [
              0.1111111111111111,
              "#46039f"
             ],
             [
              0.2222222222222222,
              "#7201a8"
             ],
             [
              0.3333333333333333,
              "#9c179e"
             ],
             [
              0.4444444444444444,
              "#bd3786"
             ],
             [
              0.5555555555555556,
              "#d8576b"
             ],
             [
              0.6666666666666666,
              "#ed7953"
             ],
             [
              0.7777777777777778,
              "#fb9f3a"
             ],
             [
              0.8888888888888888,
              "#fdca26"
             ],
             [
              1,
              "#f0f921"
             ]
            ],
            "type": "histogram2d"
           }
          ],
          "histogram2dcontour": [
           {
            "colorbar": {
             "outlinewidth": 0,
             "ticks": ""
            },
            "colorscale": [
             [
              0,
              "#0d0887"
             ],
             [
              0.1111111111111111,
              "#46039f"
             ],
             [
              0.2222222222222222,
              "#7201a8"
             ],
             [
              0.3333333333333333,
              "#9c179e"
             ],
             [
              0.4444444444444444,
              "#bd3786"
             ],
             [
              0.5555555555555556,
              "#d8576b"
             ],
             [
              0.6666666666666666,
              "#ed7953"
             ],
             [
              0.7777777777777778,
              "#fb9f3a"
             ],
             [
              0.8888888888888888,
              "#fdca26"
             ],
             [
              1,
              "#f0f921"
             ]
            ],
            "type": "histogram2dcontour"
           }
          ],
          "mesh3d": [
           {
            "colorbar": {
             "outlinewidth": 0,
             "ticks": ""
            },
            "type": "mesh3d"
           }
          ],
          "parcoords": [
           {
            "line": {
             "colorbar": {
              "outlinewidth": 0,
              "ticks": ""
             }
            },
            "type": "parcoords"
           }
          ],
          "pie": [
           {
            "automargin": true,
            "type": "pie"
           }
          ],
          "scatter": [
           {
            "fillpattern": {
             "fillmode": "overlay",
             "size": 10,
             "solidity": 0.2
            },
            "type": "scatter"
           }
          ],
          "scatter3d": [
           {
            "line": {
             "colorbar": {
              "outlinewidth": 0,
              "ticks": ""
             }
            },
            "marker": {
             "colorbar": {
              "outlinewidth": 0,
              "ticks": ""
             }
            },
            "type": "scatter3d"
           }
          ],
          "scattercarpet": [
           {
            "marker": {
             "colorbar": {
              "outlinewidth": 0,
              "ticks": ""
             }
            },
            "type": "scattercarpet"
           }
          ],
          "scattergeo": [
           {
            "marker": {
             "colorbar": {
              "outlinewidth": 0,
              "ticks": ""
             }
            },
            "type": "scattergeo"
           }
          ],
          "scattergl": [
           {
            "marker": {
             "colorbar": {
              "outlinewidth": 0,
              "ticks": ""
             }
            },
            "type": "scattergl"
           }
          ],
          "scattermap": [
           {
            "marker": {
             "colorbar": {
              "outlinewidth": 0,
              "ticks": ""
             }
            },
            "type": "scattermap"
           }
          ],
          "scattermapbox": [
           {
            "marker": {
             "colorbar": {
              "outlinewidth": 0,
              "ticks": ""
             }
            },
            "type": "scattermapbox"
           }
          ],
          "scatterpolar": [
           {
            "marker": {
             "colorbar": {
              "outlinewidth": 0,
              "ticks": ""
             }
            },
            "type": "scatterpolar"
           }
          ],
          "scatterpolargl": [
           {
            "marker": {
             "colorbar": {
              "outlinewidth": 0,
              "ticks": ""
             }
            },
            "type": "scatterpolargl"
           }
          ],
          "scatterternary": [
           {
            "marker": {
             "colorbar": {
              "outlinewidth": 0,
              "ticks": ""
             }
            },
            "type": "scatterternary"
           }
          ],
          "surface": [
           {
            "colorbar": {
             "outlinewidth": 0,
             "ticks": ""
            },
            "colorscale": [
             [
              0,
              "#0d0887"
             ],
             [
              0.1111111111111111,
              "#46039f"
             ],
             [
              0.2222222222222222,
              "#7201a8"
             ],
             [
              0.3333333333333333,
              "#9c179e"
             ],
             [
              0.4444444444444444,
              "#bd3786"
             ],
             [
              0.5555555555555556,
              "#d8576b"
             ],
             [
              0.6666666666666666,
              "#ed7953"
             ],
             [
              0.7777777777777778,
              "#fb9f3a"
             ],
             [
              0.8888888888888888,
              "#fdca26"
             ],
             [
              1,
              "#f0f921"
             ]
            ],
            "type": "surface"
           }
          ],
          "table": [
           {
            "cells": {
             "fill": {
              "color": "#EBF0F8"
             },
             "line": {
              "color": "white"
             }
            },
            "header": {
             "fill": {
              "color": "#C8D4E3"
             },
             "line": {
              "color": "white"
             }
            },
            "type": "table"
           }
          ]
         },
         "layout": {
          "annotationdefaults": {
           "arrowcolor": "#2a3f5f",
           "arrowhead": 0,
           "arrowwidth": 1
          },
          "autotypenumbers": "strict",
          "coloraxis": {
           "colorbar": {
            "outlinewidth": 0,
            "ticks": ""
           }
          },
          "colorscale": {
           "diverging": [
            [
             0,
             "#8e0152"
            ],
            [
             0.1,
             "#c51b7d"
            ],
            [
             0.2,
             "#de77ae"
            ],
            [
             0.3,
             "#f1b6da"
            ],
            [
             0.4,
             "#fde0ef"
            ],
            [
             0.5,
             "#f7f7f7"
            ],
            [
             0.6,
             "#e6f5d0"
            ],
            [
             0.7,
             "#b8e186"
            ],
            [
             0.8,
             "#7fbc41"
            ],
            [
             0.9,
             "#4d9221"
            ],
            [
             1,
             "#276419"
            ]
           ],
           "sequential": [
            [
             0,
             "#0d0887"
            ],
            [
             0.1111111111111111,
             "#46039f"
            ],
            [
             0.2222222222222222,
             "#7201a8"
            ],
            [
             0.3333333333333333,
             "#9c179e"
            ],
            [
             0.4444444444444444,
             "#bd3786"
            ],
            [
             0.5555555555555556,
             "#d8576b"
            ],
            [
             0.6666666666666666,
             "#ed7953"
            ],
            [
             0.7777777777777778,
             "#fb9f3a"
            ],
            [
             0.8888888888888888,
             "#fdca26"
            ],
            [
             1,
             "#f0f921"
            ]
           ],
           "sequentialminus": [
            [
             0,
             "#0d0887"
            ],
            [
             0.1111111111111111,
             "#46039f"
            ],
            [
             0.2222222222222222,
             "#7201a8"
            ],
            [
             0.3333333333333333,
             "#9c179e"
            ],
            [
             0.4444444444444444,
             "#bd3786"
            ],
            [
             0.5555555555555556,
             "#d8576b"
            ],
            [
             0.6666666666666666,
             "#ed7953"
            ],
            [
             0.7777777777777778,
             "#fb9f3a"
            ],
            [
             0.8888888888888888,
             "#fdca26"
            ],
            [
             1,
             "#f0f921"
            ]
           ]
          },
          "colorway": [
           "#636efa",
           "#EF553B",
           "#00cc96",
           "#ab63fa",
           "#FFA15A",
           "#19d3f3",
           "#FF6692",
           "#B6E880",
           "#FF97FF",
           "#FECB52"
          ],
          "font": {
           "color": "#2a3f5f"
          },
          "geo": {
           "bgcolor": "white",
           "lakecolor": "white",
           "landcolor": "#E5ECF6",
           "showlakes": true,
           "showland": true,
           "subunitcolor": "white"
          },
          "hoverlabel": {
           "align": "left"
          },
          "hovermode": "closest",
          "mapbox": {
           "style": "light"
          },
          "paper_bgcolor": "white",
          "plot_bgcolor": "#E5ECF6",
          "polar": {
           "angularaxis": {
            "gridcolor": "white",
            "linecolor": "white",
            "ticks": ""
           },
           "bgcolor": "#E5ECF6",
           "radialaxis": {
            "gridcolor": "white",
            "linecolor": "white",
            "ticks": ""
           }
          },
          "scene": {
           "xaxis": {
            "backgroundcolor": "#E5ECF6",
            "gridcolor": "white",
            "gridwidth": 2,
            "linecolor": "white",
            "showbackground": true,
            "ticks": "",
            "zerolinecolor": "white"
           },
           "yaxis": {
            "backgroundcolor": "#E5ECF6",
            "gridcolor": "white",
            "gridwidth": 2,
            "linecolor": "white",
            "showbackground": true,
            "ticks": "",
            "zerolinecolor": "white"
           },
           "zaxis": {
            "backgroundcolor": "#E5ECF6",
            "gridcolor": "white",
            "gridwidth": 2,
            "linecolor": "white",
            "showbackground": true,
            "ticks": "",
            "zerolinecolor": "white"
           }
          },
          "shapedefaults": {
           "line": {
            "color": "#2a3f5f"
           }
          },
          "ternary": {
           "aaxis": {
            "gridcolor": "white",
            "linecolor": "white",
            "ticks": ""
           },
           "baxis": {
            "gridcolor": "white",
            "linecolor": "white",
            "ticks": ""
           },
           "bgcolor": "#E5ECF6",
           "caxis": {
            "gridcolor": "white",
            "linecolor": "white",
            "ticks": ""
           }
          },
          "title": {
           "x": 0.05
          },
          "xaxis": {
           "automargin": true,
           "gridcolor": "white",
           "linecolor": "white",
           "ticks": "",
           "title": {
            "standoff": 15
           },
           "zerolinecolor": "white",
           "zerolinewidth": 2
          },
          "yaxis": {
           "automargin": true,
           "gridcolor": "white",
           "linecolor": "white",
           "ticks": "",
           "title": {
            "standoff": 15
           },
           "zerolinecolor": "white",
           "zerolinewidth": 2
          }
         }
        },
        "title": {
         "text": "Mean Accuracy by Model - Fuzz"
        },
        "xaxis": {
         "anchor": "y",
         "domain": [
          0,
          1
         ],
         "tickangle": 45,
         "title": {
          "text": "Model"
         }
        },
        "yaxis": {
         "anchor": "x",
         "domain": [
          0,
          1
         ],
         "range": [
          0,
          1
         ],
         "title": {
          "text": "Accuracy"
         }
        }
       }
      }
     },
     "metadata": {},
     "output_type": "display_data"
    },
    {
     "name": "stdout",
     "output_type": "stream",
     "text": [
      "Saved bar chart: /home/jeremias/projects/delphi-explanations/results/visualizations/accuracy_bar_fuzz.pdf\n",
      "Saved bar chart: /home/jeremias/projects/delphi-explanations/results/visualizations/accuracy_bar_fuzz.png\n"
     ]
    },
    {
     "name": "stderr",
     "output_type": "stream",
     "text": [
      "/tmp/ipykernel_2948616/3557244602.py:31: DeprecationWarning:\n",
      "\n",
      "\n",
      "Support for Kaleido versions less than 1.0.0 is deprecated and will be removed after September 2025.\n",
      "Please upgrade Kaleido to version 1.0.0 or greater (`pip install 'kaleido>=1.0.0'` or `pip install 'plotly[kaleido]'`).\n",
      "\n",
      "\n",
      "/tmp/ipykernel_2948616/3557244602.py:32: DeprecationWarning:\n",
      "\n",
      "\n",
      "Support for Kaleido versions less than 1.0.0 is deprecated and will be removed after September 2025.\n",
      "Please upgrade Kaleido to version 1.0.0 or greater (`pip install 'kaleido>=1.0.0'` or `pip install 'plotly[kaleido]'`).\n",
      "\n",
      "\n"
     ]
    },
    {
     "data": {
      "application/vnd.plotly.v1+json": {
       "config": {
        "plotlyServerURL": "https://plot.ly"
       },
       "data": [
        {
         "hovertemplate": "model=%{x}<br>accuracy=%{text}<extra></extra>",
         "legendgroup": "",
         "marker": {
          "color": "#636efa",
          "pattern": {
           "shape": ""
          }
         },
         "name": "",
         "orientation": "v",
         "showlegend": false,
         "text": {
          "bdata": "D+72xaTz4z98Kf5I9srjP4GsYbTflOM/9jALyBeJ4j9CjToPWgfiP8W03sexQuE/",
          "dtype": "f8"
         },
         "textposition": "outside",
         "texttemplate": "%{text:.3f}",
         "type": "bar",
         "x": [
          "Gemma-3-27B-IT",
          "Qwen3-14B",
          "Gemma-3-12B-IT",
          "Qwen3-4B",
          "Qwen3-32B",
          "Gemma-3-4B-IT"
         ],
         "xaxis": "x",
         "y": {
          "bdata": "D+72xaTz4z98Kf5I9srjP4GsYbTflOM/9jALyBeJ4j9CjToPWgfiP8W03sexQuE/",
          "dtype": "f8"
         },
         "yaxis": "y"
        }
       ],
       "layout": {
        "barmode": "relative",
        "height": 500,
        "legend": {
         "tracegroupgap": 0
        },
        "template": {
         "data": {
          "bar": [
           {
            "error_x": {
             "color": "#2a3f5f"
            },
            "error_y": {
             "color": "#2a3f5f"
            },
            "marker": {
             "line": {
              "color": "#E5ECF6",
              "width": 0.5
             },
             "pattern": {
              "fillmode": "overlay",
              "size": 10,
              "solidity": 0.2
             }
            },
            "type": "bar"
           }
          ],
          "barpolar": [
           {
            "marker": {
             "line": {
              "color": "#E5ECF6",
              "width": 0.5
             },
             "pattern": {
              "fillmode": "overlay",
              "size": 10,
              "solidity": 0.2
             }
            },
            "type": "barpolar"
           }
          ],
          "carpet": [
           {
            "aaxis": {
             "endlinecolor": "#2a3f5f",
             "gridcolor": "white",
             "linecolor": "white",
             "minorgridcolor": "white",
             "startlinecolor": "#2a3f5f"
            },
            "baxis": {
             "endlinecolor": "#2a3f5f",
             "gridcolor": "white",
             "linecolor": "white",
             "minorgridcolor": "white",
             "startlinecolor": "#2a3f5f"
            },
            "type": "carpet"
           }
          ],
          "choropleth": [
           {
            "colorbar": {
             "outlinewidth": 0,
             "ticks": ""
            },
            "type": "choropleth"
           }
          ],
          "contour": [
           {
            "colorbar": {
             "outlinewidth": 0,
             "ticks": ""
            },
            "colorscale": [
             [
              0,
              "#0d0887"
             ],
             [
              0.1111111111111111,
              "#46039f"
             ],
             [
              0.2222222222222222,
              "#7201a8"
             ],
             [
              0.3333333333333333,
              "#9c179e"
             ],
             [
              0.4444444444444444,
              "#bd3786"
             ],
             [
              0.5555555555555556,
              "#d8576b"
             ],
             [
              0.6666666666666666,
              "#ed7953"
             ],
             [
              0.7777777777777778,
              "#fb9f3a"
             ],
             [
              0.8888888888888888,
              "#fdca26"
             ],
             [
              1,
              "#f0f921"
             ]
            ],
            "type": "contour"
           }
          ],
          "contourcarpet": [
           {
            "colorbar": {
             "outlinewidth": 0,
             "ticks": ""
            },
            "type": "contourcarpet"
           }
          ],
          "heatmap": [
           {
            "colorbar": {
             "outlinewidth": 0,
             "ticks": ""
            },
            "colorscale": [
             [
              0,
              "#0d0887"
             ],
             [
              0.1111111111111111,
              "#46039f"
             ],
             [
              0.2222222222222222,
              "#7201a8"
             ],
             [
              0.3333333333333333,
              "#9c179e"
             ],
             [
              0.4444444444444444,
              "#bd3786"
             ],
             [
              0.5555555555555556,
              "#d8576b"
             ],
             [
              0.6666666666666666,
              "#ed7953"
             ],
             [
              0.7777777777777778,
              "#fb9f3a"
             ],
             [
              0.8888888888888888,
              "#fdca26"
             ],
             [
              1,
              "#f0f921"
             ]
            ],
            "type": "heatmap"
           }
          ],
          "histogram": [
           {
            "marker": {
             "pattern": {
              "fillmode": "overlay",
              "size": 10,
              "solidity": 0.2
             }
            },
            "type": "histogram"
           }
          ],
          "histogram2d": [
           {
            "colorbar": {
             "outlinewidth": 0,
             "ticks": ""
            },
            "colorscale": [
             [
              0,
              "#0d0887"
             ],
             [
              0.1111111111111111,
              "#46039f"
             ],
             [
              0.2222222222222222,
              "#7201a8"
             ],
             [
              0.3333333333333333,
              "#9c179e"
             ],
             [
              0.4444444444444444,
              "#bd3786"
             ],
             [
              0.5555555555555556,
              "#d8576b"
             ],
             [
              0.6666666666666666,
              "#ed7953"
             ],
             [
              0.7777777777777778,
              "#fb9f3a"
             ],
             [
              0.8888888888888888,
              "#fdca26"
             ],
             [
              1,
              "#f0f921"
             ]
            ],
            "type": "histogram2d"
           }
          ],
          "histogram2dcontour": [
           {
            "colorbar": {
             "outlinewidth": 0,
             "ticks": ""
            },
            "colorscale": [
             [
              0,
              "#0d0887"
             ],
             [
              0.1111111111111111,
              "#46039f"
             ],
             [
              0.2222222222222222,
              "#7201a8"
             ],
             [
              0.3333333333333333,
              "#9c179e"
             ],
             [
              0.4444444444444444,
              "#bd3786"
             ],
             [
              0.5555555555555556,
              "#d8576b"
             ],
             [
              0.6666666666666666,
              "#ed7953"
             ],
             [
              0.7777777777777778,
              "#fb9f3a"
             ],
             [
              0.8888888888888888,
              "#fdca26"
             ],
             [
              1,
              "#f0f921"
             ]
            ],
            "type": "histogram2dcontour"
           }
          ],
          "mesh3d": [
           {
            "colorbar": {
             "outlinewidth": 0,
             "ticks": ""
            },
            "type": "mesh3d"
           }
          ],
          "parcoords": [
           {
            "line": {
             "colorbar": {
              "outlinewidth": 0,
              "ticks": ""
             }
            },
            "type": "parcoords"
           }
          ],
          "pie": [
           {
            "automargin": true,
            "type": "pie"
           }
          ],
          "scatter": [
           {
            "fillpattern": {
             "fillmode": "overlay",
             "size": 10,
             "solidity": 0.2
            },
            "type": "scatter"
           }
          ],
          "scatter3d": [
           {
            "line": {
             "colorbar": {
              "outlinewidth": 0,
              "ticks": ""
             }
            },
            "marker": {
             "colorbar": {
              "outlinewidth": 0,
              "ticks": ""
             }
            },
            "type": "scatter3d"
           }
          ],
          "scattercarpet": [
           {
            "marker": {
             "colorbar": {
              "outlinewidth": 0,
              "ticks": ""
             }
            },
            "type": "scattercarpet"
           }
          ],
          "scattergeo": [
           {
            "marker": {
             "colorbar": {
              "outlinewidth": 0,
              "ticks": ""
             }
            },
            "type": "scattergeo"
           }
          ],
          "scattergl": [
           {
            "marker": {
             "colorbar": {
              "outlinewidth": 0,
              "ticks": ""
             }
            },
            "type": "scattergl"
           }
          ],
          "scattermap": [
           {
            "marker": {
             "colorbar": {
              "outlinewidth": 0,
              "ticks": ""
             }
            },
            "type": "scattermap"
           }
          ],
          "scattermapbox": [
           {
            "marker": {
             "colorbar": {
              "outlinewidth": 0,
              "ticks": ""
             }
            },
            "type": "scattermapbox"
           }
          ],
          "scatterpolar": [
           {
            "marker": {
             "colorbar": {
              "outlinewidth": 0,
              "ticks": ""
             }
            },
            "type": "scatterpolar"
           }
          ],
          "scatterpolargl": [
           {
            "marker": {
             "colorbar": {
              "outlinewidth": 0,
              "ticks": ""
             }
            },
            "type": "scatterpolargl"
           }
          ],
          "scatterternary": [
           {
            "marker": {
             "colorbar": {
              "outlinewidth": 0,
              "ticks": ""
             }
            },
            "type": "scatterternary"
           }
          ],
          "surface": [
           {
            "colorbar": {
             "outlinewidth": 0,
             "ticks": ""
            },
            "colorscale": [
             [
              0,
              "#0d0887"
             ],
             [
              0.1111111111111111,
              "#46039f"
             ],
             [
              0.2222222222222222,
              "#7201a8"
             ],
             [
              0.3333333333333333,
              "#9c179e"
             ],
             [
              0.4444444444444444,
              "#bd3786"
             ],
             [
              0.5555555555555556,
              "#d8576b"
             ],
             [
              0.6666666666666666,
              "#ed7953"
             ],
             [
              0.7777777777777778,
              "#fb9f3a"
             ],
             [
              0.8888888888888888,
              "#fdca26"
             ],
             [
              1,
              "#f0f921"
             ]
            ],
            "type": "surface"
           }
          ],
          "table": [
           {
            "cells": {
             "fill": {
              "color": "#EBF0F8"
             },
             "line": {
              "color": "white"
             }
            },
            "header": {
             "fill": {
              "color": "#C8D4E3"
             },
             "line": {
              "color": "white"
             }
            },
            "type": "table"
           }
          ]
         },
         "layout": {
          "annotationdefaults": {
           "arrowcolor": "#2a3f5f",
           "arrowhead": 0,
           "arrowwidth": 1
          },
          "autotypenumbers": "strict",
          "coloraxis": {
           "colorbar": {
            "outlinewidth": 0,
            "ticks": ""
           }
          },
          "colorscale": {
           "diverging": [
            [
             0,
             "#8e0152"
            ],
            [
             0.1,
             "#c51b7d"
            ],
            [
             0.2,
             "#de77ae"
            ],
            [
             0.3,
             "#f1b6da"
            ],
            [
             0.4,
             "#fde0ef"
            ],
            [
             0.5,
             "#f7f7f7"
            ],
            [
             0.6,
             "#e6f5d0"
            ],
            [
             0.7,
             "#b8e186"
            ],
            [
             0.8,
             "#7fbc41"
            ],
            [
             0.9,
             "#4d9221"
            ],
            [
             1,
             "#276419"
            ]
           ],
           "sequential": [
            [
             0,
             "#0d0887"
            ],
            [
             0.1111111111111111,
             "#46039f"
            ],
            [
             0.2222222222222222,
             "#7201a8"
            ],
            [
             0.3333333333333333,
             "#9c179e"
            ],
            [
             0.4444444444444444,
             "#bd3786"
            ],
            [
             0.5555555555555556,
             "#d8576b"
            ],
            [
             0.6666666666666666,
             "#ed7953"
            ],
            [
             0.7777777777777778,
             "#fb9f3a"
            ],
            [
             0.8888888888888888,
             "#fdca26"
            ],
            [
             1,
             "#f0f921"
            ]
           ],
           "sequentialminus": [
            [
             0,
             "#0d0887"
            ],
            [
             0.1111111111111111,
             "#46039f"
            ],
            [
             0.2222222222222222,
             "#7201a8"
            ],
            [
             0.3333333333333333,
             "#9c179e"
            ],
            [
             0.4444444444444444,
             "#bd3786"
            ],
            [
             0.5555555555555556,
             "#d8576b"
            ],
            [
             0.6666666666666666,
             "#ed7953"
            ],
            [
             0.7777777777777778,
             "#fb9f3a"
            ],
            [
             0.8888888888888888,
             "#fdca26"
            ],
            [
             1,
             "#f0f921"
            ]
           ]
          },
          "colorway": [
           "#636efa",
           "#EF553B",
           "#00cc96",
           "#ab63fa",
           "#FFA15A",
           "#19d3f3",
           "#FF6692",
           "#B6E880",
           "#FF97FF",
           "#FECB52"
          ],
          "font": {
           "color": "#2a3f5f"
          },
          "geo": {
           "bgcolor": "white",
           "lakecolor": "white",
           "landcolor": "#E5ECF6",
           "showlakes": true,
           "showland": true,
           "subunitcolor": "white"
          },
          "hoverlabel": {
           "align": "left"
          },
          "hovermode": "closest",
          "mapbox": {
           "style": "light"
          },
          "paper_bgcolor": "white",
          "plot_bgcolor": "#E5ECF6",
          "polar": {
           "angularaxis": {
            "gridcolor": "white",
            "linecolor": "white",
            "ticks": ""
           },
           "bgcolor": "#E5ECF6",
           "radialaxis": {
            "gridcolor": "white",
            "linecolor": "white",
            "ticks": ""
           }
          },
          "scene": {
           "xaxis": {
            "backgroundcolor": "#E5ECF6",
            "gridcolor": "white",
            "gridwidth": 2,
            "linecolor": "white",
            "showbackground": true,
            "ticks": "",
            "zerolinecolor": "white"
           },
           "yaxis": {
            "backgroundcolor": "#E5ECF6",
            "gridcolor": "white",
            "gridwidth": 2,
            "linecolor": "white",
            "showbackground": true,
            "ticks": "",
            "zerolinecolor": "white"
           },
           "zaxis": {
            "backgroundcolor": "#E5ECF6",
            "gridcolor": "white",
            "gridwidth": 2,
            "linecolor": "white",
            "showbackground": true,
            "ticks": "",
            "zerolinecolor": "white"
           }
          },
          "shapedefaults": {
           "line": {
            "color": "#2a3f5f"
           }
          },
          "ternary": {
           "aaxis": {
            "gridcolor": "white",
            "linecolor": "white",
            "ticks": ""
           },
           "baxis": {
            "gridcolor": "white",
            "linecolor": "white",
            "ticks": ""
           },
           "bgcolor": "#E5ECF6",
           "caxis": {
            "gridcolor": "white",
            "linecolor": "white",
            "ticks": ""
           }
          },
          "title": {
           "x": 0.05
          },
          "xaxis": {
           "automargin": true,
           "gridcolor": "white",
           "linecolor": "white",
           "ticks": "",
           "title": {
            "standoff": 15
           },
           "zerolinecolor": "white",
           "zerolinewidth": 2
          },
          "yaxis": {
           "automargin": true,
           "gridcolor": "white",
           "linecolor": "white",
           "ticks": "",
           "title": {
            "standoff": 15
           },
           "zerolinecolor": "white",
           "zerolinewidth": 2
          }
         }
        },
        "title": {
         "text": "Mean Accuracy by Model - Detection"
        },
        "xaxis": {
         "anchor": "y",
         "domain": [
          0,
          1
         ],
         "tickangle": 45,
         "title": {
          "text": "Model"
         }
        },
        "yaxis": {
         "anchor": "x",
         "domain": [
          0,
          1
         ],
         "range": [
          0,
          1
         ],
         "title": {
          "text": "Accuracy"
         }
        }
       }
      }
     },
     "metadata": {},
     "output_type": "display_data"
    },
    {
     "name": "stderr",
     "output_type": "stream",
     "text": [
      "/tmp/ipykernel_2948616/3557244602.py:31: DeprecationWarning:\n",
      "\n",
      "\n",
      "Support for Kaleido versions less than 1.0.0 is deprecated and will be removed after September 2025.\n",
      "Please upgrade Kaleido to version 1.0.0 or greater (`pip install 'kaleido>=1.0.0'` or `pip install 'plotly[kaleido]'`).\n",
      "\n",
      "\n",
      "/tmp/ipykernel_2948616/3557244602.py:32: DeprecationWarning:\n",
      "\n",
      "\n",
      "Support for Kaleido versions less than 1.0.0 is deprecated and will be removed after September 2025.\n",
      "Please upgrade Kaleido to version 1.0.0 or greater (`pip install 'kaleido>=1.0.0'` or `pip install 'plotly[kaleido]'`).\n",
      "\n",
      "\n"
     ]
    },
    {
     "name": "stdout",
     "output_type": "stream",
     "text": [
      "Saved bar chart: /home/jeremias/projects/delphi-explanations/results/visualizations/accuracy_bar_detection.pdf\n",
      "Saved bar chart: /home/jeremias/projects/delphi-explanations/results/visualizations/accuracy_bar_detection.png\n",
      "\n",
      "Model accuracy rankings:\n",
      "\n",
      "Fuzz Accuracy Rankings:\n",
      "  1. Qwen3-14B: 0.637\n",
      "  2. Gemma-3-12B-IT: 0.636\n",
      "  3. Gemma-3-27B-IT: 0.620\n",
      "  4. Qwen3-32B: 0.594\n",
      "  5. Qwen3-4B: 0.561\n",
      "  6. Gemma-3-4B-IT: 0.501\n",
      "\n",
      "Detection Accuracy Rankings:\n",
      "  1. Gemma-3-27B-IT: 0.623\n",
      "  2. Qwen3-14B: 0.619\n",
      "  3. Gemma-3-12B-IT: 0.612\n",
      "  4. Qwen3-4B: 0.579\n",
      "  5. Qwen3-32B: 0.563\n",
      "  6. Gemma-3-4B-IT: 0.539\n",
      "\n",
      "Bar charts saved to /home/jeremias/projects/delphi-explanations/results/visualizations\n"
     ]
    }
   ],
   "source": [
    "# Generate inline bar charts for mean accuracy and save to files\n",
    "print(\"Generating mean accuracy bar charts...\")\n",
    "\n",
    "# Create inline bar charts for each score type\n",
    "for score_type in accuracy_df['score_type'].unique():\n",
    "    score_df = accuracy_df[accuracy_df['score_type'] == score_type].sort_values('accuracy', ascending=False)\n",
    "    \n",
    "    # Create inline bar chart\n",
    "    fig = px.bar(\n",
    "        score_df,\n",
    "        x='model',\n",
    "        y='accuracy',\n",
    "        title=f'Mean Accuracy by Model - {score_type.title()}',\n",
    "        text='accuracy'\n",
    "    )\n",
    "    fig.update_layout(\n",
    "        yaxis_range=[0, 1],\n",
    "        xaxis_title=\"Model\",\n",
    "        yaxis_title=\"Accuracy\",\n",
    "        xaxis={'tickangle': 45},\n",
    "        height=500\n",
    "    )\n",
    "    fig.update_traces(texttemplate='%{text:.3f}', textposition='outside')\n",
    "    \n",
    "    # Show inline\n",
    "    fig.show()\n",
    "    \n",
    "    # Save to file in both PDF and PNG formats\n",
    "    output_file_pdf = visualizations_dir / f\"accuracy_bar_{score_type}.pdf\"\n",
    "    output_file_png = visualizations_dir / f\"accuracy_bar_{score_type}.png\"\n",
    "    fig.write_image(str(output_file_pdf))\n",
    "    fig.write_image(str(output_file_png))\n",
    "    print(f\"Saved bar chart: {output_file_pdf}\")\n",
    "    print(f\"Saved bar chart: {output_file_png}\")\n",
    "\n",
    "# Display accuracy rankings\n",
    "print(\"\\nModel accuracy rankings:\")\n",
    "for score_type in accuracy_df['score_type'].unique():\n",
    "    score_df = accuracy_df[accuracy_df['score_type'] == score_type].sort_values('accuracy', ascending=False)\n",
    "    print(f\"\\n{score_type.title()} Accuracy Rankings:\")\n",
    "    for i, (_, row) in enumerate(score_df.iterrows(), 1):\n",
    "        print(f\"  {i}. {row['model']}: {row['accuracy']:.3f}\")\n",
    "\n",
    "print(f\"\\nBar charts saved to {visualizations_dir}\")"
   ]
  },
  {
   "cell_type": "markdown",
   "id": "45f1c475",
   "metadata": {},
   "source": [
    "## 5. Create Comprehensive Performance Summary\n",
    "\n",
    "Generate summary tables and statistics comparing model performance across all metrics."
   ]
  },
  {
   "cell_type": "code",
   "execution_count": 5,
   "id": "1f55b95e",
   "metadata": {},
   "outputs": [
    {
     "name": "stdout",
     "output_type": "stream",
     "text": [
      "Creating comprehensive performance summary...\n",
      "\n",
      "Model Performance Summary (Accuracy Metrics):\n",
      "============================================================\n",
      "                accuracy  f1_score  precision  recall\n",
      "model                                                \n",
      "Gemma-3-12B-IT     0.624     0.625      0.630   0.633\n",
      "Gemma-3-27B-IT     0.622     0.668      0.595   0.762\n",
      "Gemma-3-4B-IT      0.520     0.602      0.516   0.734\n",
      "Qwen3-14B          0.628     0.576      0.693   0.530\n",
      "Qwen3-32B          0.579     0.517      0.613   0.454\n",
      "Qwen3-4B           0.570     0.615      0.558   0.689\n",
      "\n",
      "Summary saved to: /home/jeremias/projects/delphi-explanations/results/visualizations/model_accuracy_summary.csv\n",
      "\n",
      "Best Performing Models by Category:\n",
      "==================================================\n",
      "Highest Accuracy: Qwen3-14B (0.628)\n",
      "Highest F1 Score: Gemma-3-27B-IT (0.668)\n",
      "Highest Precision: Qwen3-14B (0.693)\n",
      "Highest Recall: Gemma-3-27B-IT (0.762)\n",
      "\n",
      "Detailed Analysis by Score Type:\n",
      "========================================\n",
      "\n",
      "Fuzz Results:\n",
      "             model  accuracy  f1_score\n",
      "8        Qwen3-14B  0.636538  0.510532\n",
      "4   Gemma-3-12B-IT  0.636154  0.598301\n",
      "6   Gemma-3-27B-IT  0.619955  0.667639\n",
      "10       Qwen3-32B  0.594487  0.496818\n",
      "2         Qwen3-4B  0.560749  0.629288\n",
      "0    Gemma-3-4B-IT  0.501142  0.623786\n",
      "\n",
      "Detection Results:\n",
      "             model  accuracy  f1_score\n",
      "7   Gemma-3-27B-IT  0.623492  0.668812\n",
      "9        Qwen3-14B  0.618526  0.640922\n",
      "5   Gemma-3-12B-IT  0.611923  0.651187\n",
      "3         Qwen3-4B  0.579235  0.601389\n",
      "11       Qwen3-32B  0.563397  0.537516\n",
      "1    Gemma-3-4B-IT  0.539391  0.580900\n",
      "\n",
      "All visualizations and summaries saved to: /home/jeremias/projects/delphi-explanations/results/visualizations\n",
      "\n",
      "Generated files:\n",
      "  - accuracy_bar_detection.pdf\n",
      "  - accuracy_bar_detection.png\n",
      "  - accuracy_bar_fuzz.pdf\n",
      "  - accuracy_bar_fuzz.png\n",
      "  - accuracy_density_detection.pdf\n",
      "  - accuracy_density_detection.png\n",
      "  - accuracy_density_fuzz.pdf\n",
      "  - accuracy_density_fuzz.png\n",
      "  - accuracy_density_line_detection.pdf\n",
      "  - accuracy_density_line_fuzz.pdf\n",
      "  - model_accuracy_summary.csv\n",
      "  - model_performance_summary.csv\n"
     ]
    }
   ],
   "source": [
    "# Create comprehensive performance summary\n",
    "print(\"Creating comprehensive performance summary...\")\n",
    "\n",
    "# Create accuracy summary\n",
    "accuracy_summary = accuracy_df.groupby('model').agg({\n",
    "    'accuracy': 'mean',\n",
    "    'f1_score': 'mean',\n",
    "    'precision': 'mean',\n",
    "    'recall': 'mean'\n",
    "}).round(3)\n",
    "\n",
    "print(\"\\nModel Performance Summary (Accuracy Metrics):\")\n",
    "print(\"=\" * 60)\n",
    "print(accuracy_summary)\n",
    "\n",
    "# Save summary to CSV\n",
    "summary_file = visualizations_dir / \"model_accuracy_summary.csv\"\n",
    "accuracy_summary.to_csv(summary_file)\n",
    "print(f\"\\nSummary saved to: {summary_file}\")\n",
    "\n",
    "# Best performing models by category\n",
    "print(\"\\nBest Performing Models by Category:\")\n",
    "print(\"=\" * 50)\n",
    "print(f\"Highest Accuracy: {accuracy_summary['accuracy'].idxmax()} ({accuracy_summary['accuracy'].max():.3f})\")\n",
    "print(f\"Highest F1 Score: {accuracy_summary['f1_score'].idxmax()} ({accuracy_summary['f1_score'].max():.3f})\")\n",
    "print(f\"Highest Precision: {accuracy_summary['precision'].idxmax()} ({accuracy_summary['precision'].max():.3f})\")\n",
    "print(f\"Highest Recall: {accuracy_summary['recall'].idxmax()} ({accuracy_summary['recall'].max():.3f})\")\n",
    "\n",
    "# Create detailed per-score-type analysis\n",
    "print(\"\\nDetailed Analysis by Score Type:\")\n",
    "print(\"=\" * 40)\n",
    "for score_type in accuracy_df['score_type'].unique():\n",
    "    score_subset = accuracy_df[accuracy_df['score_type'] == score_type]\n",
    "    print(f\"\\n{score_type.title()} Results:\")\n",
    "    print(score_subset[['model', 'accuracy', 'f1_score']].sort_values('accuracy', ascending=False))\n",
    "\n",
    "print(f\"\\nAll visualizations and summaries saved to: {visualizations_dir}\")\n",
    "print(\"\\nGenerated files:\")\n",
    "for file in sorted(visualizations_dir.glob(\"*\")):\n",
    "    print(f\"  - {file.name}\")"
   ]
  }
 ],
 "metadata": {
  "kernelspec": {
   "display_name": ".venv",
   "language": "python",
   "name": "python3"
  },
  "language_info": {
   "codemirror_mode": {
    "name": "ipython",
    "version": 3
   },
   "file_extension": ".py",
   "mimetype": "text/x-python",
   "name": "python",
   "nbconvert_exporter": "python",
   "pygments_lexer": "ipython3",
   "version": "3.11.13"
  }
 },
 "nbformat": 4,
 "nbformat_minor": 5
}
